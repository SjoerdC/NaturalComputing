{
  "nbformat": 4,
  "nbformat_minor": 0,
  "metadata": {
    "accelerator": "GPU",
    "colab": {
      "name": "rotation10FashionMNIST.ipynb",
      "provenance": [],
      "collapsed_sections": [],
      "toc_visible": true
    },
    "kernelspec": {
      "display_name": "Python 3",
      "language": "python",
      "name": "python3"
    },
    "language_info": {
      "codemirror_mode": {
        "name": "ipython",
        "version": 3
      },
      "file_extension": ".py",
      "mimetype": "text/x-python",
      "name": "python",
      "nbconvert_exporter": "python",
      "pygments_lexer": "ipython3",
      "version": "3.7.7"
    }
  },
  "cells": [
    {
      "cell_type": "code",
      "metadata": {
        "colab_type": "code",
        "id": "fde69AMuOpox",
        "colab": {}
      },
      "source": [
        "import keras\n",
        "import cv2\n",
        "import os\n",
        "import numpy as np\n",
        "import pandas as pd\n",
        "import tensorflow as tf\n",
        "from itertools import count\n",
        "from sklearn.metrics import accuracy_score\n",
        "from keras.datasets import fashion_mnist,mnist\n",
        "from keras.applications.vgg16 import VGG16\n",
        "from keras.layers import Dense, Dropout, Flatten, Activation, Input, Conv2D, MaxPooling2D, BatchNormalization, GlobalAveragePooling2D\n",
        "from sklearn.model_selection import train_test_split\n",
        "from keras.models import Model\n",
        "from keras.callbacks import EarlyStopping, CSVLogger\n",
        "from keras.preprocessing.image import ImageDataGenerator\n",
        "from scipy.stats import pearsonr\n",
        "from tqdm import tqdm\n",
        "from scipy import ndimage\n",
        "from IPython.display import clear_output"
      ],
      "execution_count": null,
      "outputs": []
    },
    {
      "cell_type": "code",
      "metadata": {
        "colab_type": "code",
        "id": "qYrab7qpOppj",
        "colab": {}
      },
      "source": [
        "BATCH_SIZE = 128\n",
        "EPOCHS = 9999\n",
        "IMAGE_SIZE = 28\n",
        "NUM_CLASSES = 10\n",
        "NUM_CHANNELS = 1\n",
        "MODEL_NAME = \"FashionMNIST_rotation\"\n",
        "VOTING = 'HARD'\n",
        "PATH = \"/content/drive/My Drive/NC/\"\n",
        "MODEL_ADDITION_DELTA = 0.01\n",
        "MODEL_ADDITION_PATIENCE = 3\n",
        "NR_OF_RUNS = 10"
      ],
      "execution_count": null,
      "outputs": []
    },
    {
      "cell_type": "code",
      "metadata": {
        "id": "vNpvgm4MZHG0",
        "colab_type": "code",
        "colab": {
          "base_uri": "https://localhost:8080/",
          "height": 124
        },
        "outputId": "c0147bea-d017-451e-cb3c-9b2b75449014"
      },
      "source": [
        "from google.colab import drive\n",
        "drive.mount('/content/drive')"
      ],
      "execution_count": null,
      "outputs": [
        {
          "output_type": "stream",
          "text": [
            "Go to this URL in a browser: https://accounts.google.com/o/oauth2/auth?client_id=947318989803-6bn6qk8qdgf4n4g3pfee6491hc0brc4i.apps.googleusercontent.com&redirect_uri=urn%3aietf%3awg%3aoauth%3a2.0%3aoob&response_type=code&scope=email%20https%3a%2f%2fwww.googleapis.com%2fauth%2fdocs.test%20https%3a%2f%2fwww.googleapis.com%2fauth%2fdrive%20https%3a%2f%2fwww.googleapis.com%2fauth%2fdrive.photos.readonly%20https%3a%2f%2fwww.googleapis.com%2fauth%2fpeopleapi.readonly\n",
            "\n",
            "Enter your authorization code:\n",
            "··········\n",
            "Mounted at /content/drive\n"
          ],
          "name": "stdout"
        }
      ]
    },
    {
      "cell_type": "markdown",
      "metadata": {
        "colab_type": "text",
        "id": "g8QvEt97vF52"
      },
      "source": [
        "# Preprocess"
      ]
    },
    {
      "cell_type": "code",
      "metadata": {
        "colab_type": "code",
        "id": "O-Ohz27-3QY0",
        "colab": {}
      },
      "source": [
        "def preprocess(imgs):\n",
        "    return imgs.reshape(imgs.shape[0], IMAGE_SIZE, IMAGE_SIZE, 1)"
      ],
      "execution_count": null,
      "outputs": []
    },
    {
      "cell_type": "code",
      "metadata": {
        "colab_type": "code",
        "id": "XypdmBJROpp9",
        "colab": {
          "base_uri": "https://localhost:8080/",
          "height": 69
        },
        "outputId": "2e25f115-4794-414e-b947-bebf29c85da1"
      },
      "source": [
        "(x_train_val, y_train_val), (x_test, y_test) = fashion_mnist.load_data()\n",
        "\n",
        "x_train_val = preprocess(x_train_val)\n",
        "x_test = preprocess(x_test)\n",
        "\n",
        "print('x_train shape:', x_train_val.shape)\n",
        "print(x_train_val.shape[0], 'train samples')\n",
        "print(x_test.shape[0], 'test samples')"
      ],
      "execution_count": null,
      "outputs": [
        {
          "output_type": "stream",
          "text": [
            "x_train shape: (60000, 28, 28, 1)\n",
            "60000 train samples\n",
            "10000 test samples\n"
          ],
          "name": "stdout"
        }
      ]
    },
    {
      "cell_type": "code",
      "metadata": {
        "colab_type": "code",
        "id": "mo8yHyg-Opqo",
        "colab": {}
      },
      "source": [
        "# Convert class vectors to binary class matrices.\n",
        "y_train_val = keras.utils.to_categorical(y_train_val, NUM_CLASSES)\n",
        "y_testc = keras.utils.to_categorical(y_test, NUM_CLASSES)"
      ],
      "execution_count": null,
      "outputs": []
    },
    {
      "cell_type": "code",
      "metadata": {
        "colab_type": "code",
        "id": "a4SYRuKZaIwb",
        "colab": {}
      },
      "source": [
        "x_train_val = x_train_val.astype('float32')\n",
        "x_test = x_test.astype('float32')\n",
        "x_train_val /= 255\n",
        "x_test /= 255"
      ],
      "execution_count": null,
      "outputs": []
    },
    {
      "cell_type": "markdown",
      "metadata": {
        "colab_type": "text",
        "id": "gIBGIrlkvOt0"
      },
      "source": [
        "# Model"
      ]
    },
    {
      "cell_type": "code",
      "metadata": {
        "colab_type": "code",
        "id": "zLWph6_aOpr2",
        "colab": {}
      },
      "source": [
        "def FashionMNISTmodel(imsize, num_classes, num_channels):\n",
        "    inputs = Input((imsize,imsize,num_channels))\n",
        "    x = Conv2D(filters = 32, kernel_size = (3,3), activation = 'relu', strides = 2)(inputs)\n",
        "    x = BatchNormalization()(x)\n",
        "    x = MaxPooling2D(pool_size = (2,2), strides=(2,2), padding = \"same\")(x)\n",
        "    x = Conv2D(filters=32, kernel_size=(1,1), activation='relu', padding='valid')(x)\n",
        "    x = Conv2D(filters = 10, kernel_size = (1,1),strides = (1,1), padding = 'valid')(x)\n",
        "    x = GlobalAveragePooling2D()(x)\n",
        "    outputs = Activation('softmax')(x)\n",
        "    \n",
        "    model = Model(inputs=inputs, outputs=outputs)\n",
        "    \n",
        "    optimizer = keras.optimizers.Adam(learning_rate = 1e-04)\n",
        "\n",
        "    model.compile(loss='categorical_crossentropy',\n",
        "                      optimizer=optimizer,\n",
        "                      metrics=['accuracy'])\n",
        "    return model"
      ],
      "execution_count": null,
      "outputs": []
    },
    {
      "cell_type": "markdown",
      "metadata": {
        "colab_type": "text",
        "id": "En8s8pDUP67N"
      },
      "source": [
        "#Predict\n"
      ]
    },
    {
      "cell_type": "code",
      "metadata": {
        "colab_type": "code",
        "id": "NLxVuqboP-cO",
        "colab": {}
      },
      "source": [
        "def hard_voting(models, X):\n",
        "    predictions = []\n",
        "\n",
        "    for m in models:\n",
        "        predictions.append(np.argmax(m.predict(X), axis=1))\n",
        "\n",
        "    prediction = np.transpose(predictions)\n",
        "    prediction = np.apply_along_axis(lambda x: np.bincount(x).argmax(), axis=1, arr=prediction)\n",
        "\n",
        "    return prediction\n",
        "\n",
        "def soft_voting(models, X):\n",
        "    predictions = np.empty((len(X),0,NUM_CLASSES))\n",
        "\n",
        "    for m in models:\n",
        "        pred = np.expand_dims(m.predict(X), axis=1)\n",
        "        predictions = np.append(predictions, pred, axis=1)\n",
        "\n",
        "    predictions = np.apply_along_axis(np.transpose, axis=1, arr=predictions)\n",
        "    predictions = np.mean(predictions, axis=1)\n",
        "    prediction = np.argmax(predictions, axis=1)\n",
        "\n",
        "    return prediction\n",
        "\n",
        "def predict(models, X, Y,voting = 'soft'):\n",
        "    \n",
        "    if voting == \"soft\":\n",
        "      prediction = soft_voting(models, X)\n",
        "    elif voting == \"hard\":\n",
        "      prediction = hard_voting(models, X)\n",
        "    else:\n",
        "      raise ValueError(f\"Voting mechanism: {VOTING} not supported\")\n",
        "\n",
        "    return accuracy_score(prediction, np.argmax(Y, axis=1))"
      ],
      "execution_count": null,
      "outputs": []
    },
    {
      "cell_type": "markdown",
      "metadata": {
        "colab_type": "text",
        "id": "5MyRrQVaQR_H"
      },
      "source": [
        "#Augmentation \n"
      ]
    },
    {
      "cell_type": "code",
      "metadata": {
        "colab_type": "code",
        "id": "zGFhlwUcQXXL",
        "colab": {}
      },
      "source": [
        "def rotate_image(image):\n",
        "    if np.random.rand() < 0.2:\n",
        "        angles = np.linspace(1,10,10)\n",
        "        rotation_angle = np.random.choice(angles)\n",
        "        if np.random.rand() < 0.5:\n",
        "            image = ndimage.rotate(image, rotation_angle, reshape = False)\n",
        "        else:\n",
        "            image = ndimage.rotate(image, -rotation_angle, reshape = False) \n",
        "    return image"
      ],
      "execution_count": null,
      "outputs": []
    },
    {
      "cell_type": "markdown",
      "metadata": {
        "colab_type": "text",
        "id": "TVqdcrD_vQ-Q"
      },
      "source": [
        "# Train"
      ]
    },
    {
      "cell_type": "code",
      "metadata": {
        "colab_type": "code",
        "id": "HjvZqLBJOpsw",
        "colab": {
          "base_uri": "https://localhost:8080/",
          "height": 1000
        },
        "outputId": "8a38eb93-9108-45d3-8448-2bdf8e4bdb12"
      },
      "source": [
        "for run in range(1, NR_OF_RUNS+1):\n",
        "\n",
        "    # Split the data\n",
        "    x_train, x_val, y_train, y_val = train_test_split(x_train_val, y_train_val, test_size=0.20, shuffle= True)\n",
        "\n",
        "    models = []\n",
        "    accuracies = [0]\n",
        "    patience = 0\n",
        "\n",
        "    for i in count(1):\n",
        "\n",
        "        print(f\"\\n ===== Train model {i} =====\")\n",
        "\n",
        "        # Set the seeds\n",
        "        np.random.seed(run*i)\n",
        "        tf.random.set_seed(run*i)\n",
        "\n",
        "        # augmentation\n",
        "        datagen = ImageDataGenerator(preprocessing_function=rotate_image)\n",
        "        datagen = datagen.flow(x_train,y_train, batch_size= BATCH_SIZE)\n",
        "\n",
        "        # Create directories\n",
        "        os.makedirs(PATH + MODEL_NAME + f\"/{run}/history\", exist_ok=True)\n",
        "        os.makedirs(PATH + MODEL_NAME + f\"/{run}/weights\", exist_ok=True)\n",
        "\n",
        "        # Create the model\n",
        "        model = FashionMNISTmodel(IMAGE_SIZE, NUM_CLASSES, 1)\n",
        "        \n",
        "        # Load the weighs if the model is already trained\n",
        "        weights_path = PATH + MODEL_NAME + f\"/{run}/weights/weights-{i}.h5\"\n",
        "\n",
        "        if os.path.exists(weights_path):\n",
        "            print(f\"Skipping training of model {i}: weights exists\")\n",
        "            model.load_weights(weights_path)\n",
        "        else:\n",
        "            es = EarlyStopping(min_delta=0.01, patience=3)\n",
        "            csv_logger = CSVLogger(PATH + MODEL_NAME + f\"/{run}/history/history-{i}.csv\", separator=';')\n",
        "\n",
        "            model.fit_generator(datagen,\n",
        "                                epochs = EPOCHS,\n",
        "                                validation_data = (x_val, y_val),\n",
        "                                shuffle = True,\n",
        "                                callbacks=[es, csv_logger])\n",
        "            \n",
        "            model.save_weights(weights_path)\n",
        "        \n",
        "        models.append(model)\n",
        "\n",
        "        acc = predict(models, x_val, y_val, voting='hard')\n",
        "        delta = acc - accuracies[-1]\n",
        "\n",
        "        accuracies.append(acc)\n",
        "\n",
        "        if delta >= MODEL_ADDITION_DELTA:\n",
        "          patience = 0\n",
        "        else:\n",
        "          patience += 1\n",
        "\n",
        "        print(f\"Model: {i} added. Resulting score: {acc}, Delta: {delta}, Patience: {patience}\")\n",
        "\n",
        "        if patience >= MODEL_ADDITION_PATIENCE:\n",
        "          break\n",
        "\n",
        "    # Results\n",
        "\n",
        "    ## Accuracy vs nr of models\n",
        "    ## Visualizing the accuracy vs the number of models in the ensamble\n",
        "\n",
        "    print(\"\\n ===== Accuracy vs nr of models =====\")\n",
        "\n",
        "    accuracy_df = pd.DataFrame(accuracies, columns=[\"Accuracy\"])\n",
        "    accuracy_df.insert(1, \"Nr of models\", accuracy_df.index)\n",
        "    accuracy_df.to_csv(PATH + MODEL_NAME + f\"/{run}/accuracy_{VOTING}.csv\")\n",
        "    display(accuracy_df)\n",
        "\n",
        "    ## Accuracy\n",
        "    ## The final accuracy of the ensamble on the test set\n",
        "    print(\"\\n ===== Accuracy ======\")\n",
        "\n",
        "    accuracy = predict(models, x_test, y_testc, voting='hard')\n",
        "    print(\"Accuracy: \" + str(accuracy))\n",
        "\n",
        "    ## Correlation between models\n",
        "    print(\"\\n ===== Correlation =====\")\n",
        "    predictions = []\n",
        "\n",
        "    for m in models:\n",
        "        predictions.append(np.argmax(m.predict(x_test), axis=1))\n",
        "    classified = []\n",
        "\n",
        "    for prediction in predictions:\n",
        "        classified.append([1 if i==j else 0 for i,j in zip(prediction,y_test)])\n",
        "    correlation_matrix = []\n",
        "\n",
        "    for ix, x in enumerate(classified):\n",
        "      row = []\n",
        "      \n",
        "      for iy, y in enumerate(classified):\n",
        "        if (ix == iy):\n",
        "          row.append(np.nan)\n",
        "        else:\n",
        "          row.append(pearsonr(x,y)[0])\n",
        "\n",
        "      correlation_matrix.append(row)\n",
        "\n",
        "    correlation_matrix = np.array(correlation_matrix)\n",
        "    correlation_matrix_df = pd.DataFrame(correlation_matrix)\n",
        "    correlation_matrix_df.to_csv(PATH + MODEL_NAME + f\"/{run}/correlation_matrix_{VOTING}.csv\")\n",
        "    \n",
        "    display(correlation_matrix_df)\n",
        "    correlation = np.nanmean(correlation_matrix.flatten())\n",
        "    print(\"Average correlation: \" + str(correlation))\n",
        "\n",
        "    # Save the results\n",
        "    file = PATH + MODEL_NAME + f\"/results_{VOTING}.csv\"\n",
        "    df = pd.DataFrame([[run, accuracy, correlation]])\n",
        "\n",
        "    if not os.path.isfile(file):\n",
        "      df.to_csv(file, header=[\"run\", \"accuracy\", \"correlation\"], index=False)\n",
        "    else: # else it exists so append without writing the header\n",
        "      df.to_csv(file, mode='a', header=False, index=False)\n",
        "\n",
        "    clear_output(wait=True)"
      ],
      "execution_count": null,
      "outputs": [
        {
          "output_type": "stream",
          "text": [
            "\n",
            " ===== Train model 1 =====\n",
            "Skipping training of model 1: weights exists\n",
            "Model: 1 added. Resulting score: 0.7575, Delta: 0.7575, Patience: 0\n",
            "\n",
            " ===== Train model 2 =====\n",
            "Skipping training of model 2: weights exists\n",
            "Model: 2 added. Resulting score: 0.7615, Delta: 0.0040000000000000036, Patience: 1\n",
            "\n",
            " ===== Train model 3 =====\n",
            "Skipping training of model 3: weights exists\n",
            "Model: 3 added. Resulting score: 0.773, Delta: 0.011500000000000066, Patience: 0\n",
            "\n",
            " ===== Train model 4 =====\n",
            "Skipping training of model 4: weights exists\n",
            "Model: 4 added. Resulting score: 0.775, Delta: 0.0020000000000000018, Patience: 1\n",
            "\n",
            " ===== Train model 5 =====\n",
            "Skipping training of model 5: weights exists\n",
            "Model: 5 added. Resulting score: 0.77425, Delta: -0.0007500000000000284, Patience: 2\n",
            "\n",
            " ===== Train model 6 =====\n",
            "Epoch 1/9999\n",
            "375/375 [==============================] - 8s 21ms/step - loss: 2.2037 - accuracy: 0.2144 - val_loss: 2.1809 - val_accuracy: 0.3212\n",
            "Epoch 2/9999\n",
            "375/375 [==============================] - 7s 19ms/step - loss: 1.9348 - accuracy: 0.3663 - val_loss: 1.8358 - val_accuracy: 0.3860\n",
            "Epoch 3/9999\n",
            "375/375 [==============================] - 7s 19ms/step - loss: 1.7254 - accuracy: 0.4248 - val_loss: 1.6250 - val_accuracy: 0.4476\n",
            "Epoch 4/9999\n",
            "375/375 [==============================] - 7s 19ms/step - loss: 1.5636 - accuracy: 0.4721 - val_loss: 1.4719 - val_accuracy: 0.5102\n",
            "Epoch 5/9999\n",
            "375/375 [==============================] - 7s 19ms/step - loss: 1.4430 - accuracy: 0.5260 - val_loss: 1.3713 - val_accuracy: 0.5483\n",
            "Epoch 6/9999\n",
            "375/375 [==============================] - 7s 19ms/step - loss: 1.3537 - accuracy: 0.5608 - val_loss: 1.2925 - val_accuracy: 0.5904\n",
            "Epoch 7/9999\n",
            "375/375 [==============================] - 7s 19ms/step - loss: 1.2824 - accuracy: 0.5889 - val_loss: 1.2279 - val_accuracy: 0.6064\n",
            "Epoch 8/9999\n",
            "375/375 [==============================] - 7s 19ms/step - loss: 1.2229 - accuracy: 0.6067 - val_loss: 1.1733 - val_accuracy: 0.6188\n",
            "Epoch 9/9999\n",
            "375/375 [==============================] - 7s 19ms/step - loss: 1.1740 - accuracy: 0.6198 - val_loss: 1.1286 - val_accuracy: 0.6317\n",
            "Epoch 10/9999\n",
            "375/375 [==============================] - 7s 19ms/step - loss: 1.1321 - accuracy: 0.6301 - val_loss: 1.0890 - val_accuracy: 0.6411\n",
            "Epoch 11/9999\n",
            "375/375 [==============================] - 7s 19ms/step - loss: 1.0943 - accuracy: 0.6401 - val_loss: 1.0544 - val_accuracy: 0.6509\n",
            "Epoch 12/9999\n",
            "375/375 [==============================] - 8s 20ms/step - loss: 1.0628 - accuracy: 0.6493 - val_loss: 1.0236 - val_accuracy: 0.6592\n",
            "Epoch 13/9999\n",
            "375/375 [==============================] - 7s 20ms/step - loss: 1.0359 - accuracy: 0.6578 - val_loss: 1.0048 - val_accuracy: 0.6614\n",
            "Epoch 14/9999\n",
            "375/375 [==============================] - 7s 19ms/step - loss: 1.0126 - accuracy: 0.6625 - val_loss: 0.9751 - val_accuracy: 0.6725\n",
            "Epoch 15/9999\n",
            "375/375 [==============================] - 7s 19ms/step - loss: 0.9909 - accuracy: 0.6702 - val_loss: 0.9544 - val_accuracy: 0.6808\n",
            "Epoch 16/9999\n",
            "375/375 [==============================] - 7s 19ms/step - loss: 0.9730 - accuracy: 0.6748 - val_loss: 0.9357 - val_accuracy: 0.6855\n",
            "Epoch 17/9999\n",
            "375/375 [==============================] - 7s 19ms/step - loss: 0.9548 - accuracy: 0.6814 - val_loss: 0.9218 - val_accuracy: 0.6857\n",
            "Epoch 18/9999\n",
            "375/375 [==============================] - 7s 19ms/step - loss: 0.9381 - accuracy: 0.6865 - val_loss: 0.9048 - val_accuracy: 0.6977\n",
            "Epoch 19/9999\n",
            "375/375 [==============================] - 7s 19ms/step - loss: 0.9229 - accuracy: 0.6931 - val_loss: 0.8915 - val_accuracy: 0.7013\n",
            "Epoch 20/9999\n",
            "375/375 [==============================] - 7s 20ms/step - loss: 0.9120 - accuracy: 0.6971 - val_loss: 0.8798 - val_accuracy: 0.7056\n",
            "Epoch 21/9999\n",
            "375/375 [==============================] - 7s 20ms/step - loss: 0.9008 - accuracy: 0.6993 - val_loss: 0.8677 - val_accuracy: 0.7094\n",
            "Epoch 22/9999\n",
            "375/375 [==============================] - 7s 19ms/step - loss: 0.8881 - accuracy: 0.7045 - val_loss: 0.8561 - val_accuracy: 0.7119\n",
            "Epoch 23/9999\n",
            "375/375 [==============================] - 7s 19ms/step - loss: 0.8782 - accuracy: 0.7078 - val_loss: 0.8462 - val_accuracy: 0.7154\n",
            "Epoch 24/9999\n",
            "375/375 [==============================] - 7s 20ms/step - loss: 0.8667 - accuracy: 0.7122 - val_loss: 0.8360 - val_accuracy: 0.7201\n",
            "Epoch 25/9999\n",
            "375/375 [==============================] - 7s 19ms/step - loss: 0.8574 - accuracy: 0.7155 - val_loss: 0.8274 - val_accuracy: 0.7235\n",
            "Epoch 26/9999\n",
            "375/375 [==============================] - 7s 19ms/step - loss: 0.8491 - accuracy: 0.7179 - val_loss: 0.8165 - val_accuracy: 0.7283\n",
            "Epoch 27/9999\n",
            "375/375 [==============================] - 7s 20ms/step - loss: 0.8398 - accuracy: 0.7223 - val_loss: 0.8084 - val_accuracy: 0.7314\n",
            "Epoch 28/9999\n",
            "375/375 [==============================] - 7s 19ms/step - loss: 0.8308 - accuracy: 0.7251 - val_loss: 0.7999 - val_accuracy: 0.7335\n",
            "Epoch 29/9999\n",
            "375/375 [==============================] - 7s 19ms/step - loss: 0.8227 - accuracy: 0.7279 - val_loss: 0.7978 - val_accuracy: 0.7355\n",
            "Epoch 30/9999\n",
            "375/375 [==============================] - 7s 19ms/step - loss: 0.8160 - accuracy: 0.7304 - val_loss: 0.7851 - val_accuracy: 0.7392\n",
            "Epoch 31/9999\n",
            "375/375 [==============================] - 7s 19ms/step - loss: 0.8086 - accuracy: 0.7337 - val_loss: 0.7809 - val_accuracy: 0.7364\n",
            "Epoch 32/9999\n",
            "375/375 [==============================] - 7s 19ms/step - loss: 0.8012 - accuracy: 0.7338 - val_loss: 0.7752 - val_accuracy: 0.7399\n",
            "Epoch 33/9999\n",
            "375/375 [==============================] - 7s 19ms/step - loss: 0.7955 - accuracy: 0.7368 - val_loss: 0.7672 - val_accuracy: 0.7429\n",
            "Epoch 34/9999\n",
            "375/375 [==============================] - 7s 19ms/step - loss: 0.7895 - accuracy: 0.7376 - val_loss: 0.7603 - val_accuracy: 0.7460\n",
            "Epoch 35/9999\n",
            "375/375 [==============================] - 7s 19ms/step - loss: 0.7825 - accuracy: 0.7405 - val_loss: 0.7545 - val_accuracy: 0.7510\n",
            "Epoch 36/9999\n",
            "375/375 [==============================] - 7s 19ms/step - loss: 0.7760 - accuracy: 0.7404 - val_loss: 0.7490 - val_accuracy: 0.7520\n",
            "Epoch 37/9999\n",
            "375/375 [==============================] - 7s 19ms/step - loss: 0.7725 - accuracy: 0.7428 - val_loss: 0.7418 - val_accuracy: 0.7537\n",
            "Epoch 38/9999\n",
            "375/375 [==============================] - 7s 19ms/step - loss: 0.7658 - accuracy: 0.7473 - val_loss: 0.7411 - val_accuracy: 0.7510\n",
            "Epoch 39/9999\n",
            "375/375 [==============================] - 7s 19ms/step - loss: 0.7615 - accuracy: 0.7454 - val_loss: 0.7342 - val_accuracy: 0.7556\n",
            "Epoch 40/9999\n",
            "375/375 [==============================] - 7s 19ms/step - loss: 0.7578 - accuracy: 0.7479 - val_loss: 0.7271 - val_accuracy: 0.7586\n",
            "Epoch 41/9999\n",
            "375/375 [==============================] - 7s 19ms/step - loss: 0.7524 - accuracy: 0.7497 - val_loss: 0.7231 - val_accuracy: 0.7598\n",
            "Epoch 42/9999\n",
            "375/375 [==============================] - 7s 19ms/step - loss: 0.7467 - accuracy: 0.7501 - val_loss: 0.7200 - val_accuracy: 0.7607\n",
            "Epoch 43/9999\n",
            "375/375 [==============================] - 7s 19ms/step - loss: 0.7445 - accuracy: 0.7512 - val_loss: 0.7166 - val_accuracy: 0.7612\n",
            "Epoch 44/9999\n",
            "375/375 [==============================] - 7s 20ms/step - loss: 0.7395 - accuracy: 0.7538 - val_loss: 0.7114 - val_accuracy: 0.7620\n",
            "Epoch 45/9999\n",
            "375/375 [==============================] - 7s 19ms/step - loss: 0.7343 - accuracy: 0.7526 - val_loss: 0.7064 - val_accuracy: 0.7636\n",
            "Epoch 46/9999\n",
            "375/375 [==============================] - 7s 19ms/step - loss: 0.7297 - accuracy: 0.7555 - val_loss: 0.7041 - val_accuracy: 0.7635\n",
            "Epoch 47/9999\n",
            "375/375 [==============================] - 7s 19ms/step - loss: 0.7264 - accuracy: 0.7574 - val_loss: 0.6995 - val_accuracy: 0.7646\n",
            "Epoch 48/9999\n",
            "375/375 [==============================] - 7s 19ms/step - loss: 0.7199 - accuracy: 0.7576 - val_loss: 0.6979 - val_accuracy: 0.7648\n",
            "Model: 6 added. Resulting score: 0.77525, Delta: 0.0010000000000000009, Patience: 3\n",
            "\n",
            " ===== Accuracy vs nr of models =====\n"
          ],
          "name": "stdout"
        },
        {
          "output_type": "display_data",
          "data": {
            "text/html": [
              "<div>\n",
              "<style scoped>\n",
              "    .dataframe tbody tr th:only-of-type {\n",
              "        vertical-align: middle;\n",
              "    }\n",
              "\n",
              "    .dataframe tbody tr th {\n",
              "        vertical-align: top;\n",
              "    }\n",
              "\n",
              "    .dataframe thead th {\n",
              "        text-align: right;\n",
              "    }\n",
              "</style>\n",
              "<table border=\"1\" class=\"dataframe\">\n",
              "  <thead>\n",
              "    <tr style=\"text-align: right;\">\n",
              "      <th></th>\n",
              "      <th>Accuracy</th>\n",
              "      <th>Nr of models</th>\n",
              "    </tr>\n",
              "  </thead>\n",
              "  <tbody>\n",
              "    <tr>\n",
              "      <th>0</th>\n",
              "      <td>0.00000</td>\n",
              "      <td>0</td>\n",
              "    </tr>\n",
              "    <tr>\n",
              "      <th>1</th>\n",
              "      <td>0.75750</td>\n",
              "      <td>1</td>\n",
              "    </tr>\n",
              "    <tr>\n",
              "      <th>2</th>\n",
              "      <td>0.76150</td>\n",
              "      <td>2</td>\n",
              "    </tr>\n",
              "    <tr>\n",
              "      <th>3</th>\n",
              "      <td>0.77300</td>\n",
              "      <td>3</td>\n",
              "    </tr>\n",
              "    <tr>\n",
              "      <th>4</th>\n",
              "      <td>0.77500</td>\n",
              "      <td>4</td>\n",
              "    </tr>\n",
              "    <tr>\n",
              "      <th>5</th>\n",
              "      <td>0.77425</td>\n",
              "      <td>5</td>\n",
              "    </tr>\n",
              "    <tr>\n",
              "      <th>6</th>\n",
              "      <td>0.77525</td>\n",
              "      <td>6</td>\n",
              "    </tr>\n",
              "  </tbody>\n",
              "</table>\n",
              "</div>"
            ],
            "text/plain": [
              "   Accuracy  Nr of models\n",
              "0   0.00000             0\n",
              "1   0.75750             1\n",
              "2   0.76150             2\n",
              "3   0.77300             3\n",
              "4   0.77500             4\n",
              "5   0.77425             5\n",
              "6   0.77525             6"
            ]
          },
          "metadata": {
            "tags": []
          }
        },
        {
          "output_type": "stream",
          "text": [
            "\n",
            " ===== Accuracy ======\n",
            "Accuracy: 0.7684\n",
            "\n",
            " ===== Correlation =====\n"
          ],
          "name": "stdout"
        },
        {
          "output_type": "display_data",
          "data": {
            "text/html": [
              "<div>\n",
              "<style scoped>\n",
              "    .dataframe tbody tr th:only-of-type {\n",
              "        vertical-align: middle;\n",
              "    }\n",
              "\n",
              "    .dataframe tbody tr th {\n",
              "        vertical-align: top;\n",
              "    }\n",
              "\n",
              "    .dataframe thead th {\n",
              "        text-align: right;\n",
              "    }\n",
              "</style>\n",
              "<table border=\"1\" class=\"dataframe\">\n",
              "  <thead>\n",
              "    <tr style=\"text-align: right;\">\n",
              "      <th></th>\n",
              "      <th>0</th>\n",
              "      <th>1</th>\n",
              "      <th>2</th>\n",
              "      <th>3</th>\n",
              "      <th>4</th>\n",
              "      <th>5</th>\n",
              "    </tr>\n",
              "  </thead>\n",
              "  <tbody>\n",
              "    <tr>\n",
              "      <th>0</th>\n",
              "      <td>NaN</td>\n",
              "      <td>0.738394</td>\n",
              "      <td>0.735429</td>\n",
              "      <td>0.758168</td>\n",
              "      <td>0.717971</td>\n",
              "      <td>0.739258</td>\n",
              "    </tr>\n",
              "    <tr>\n",
              "      <th>1</th>\n",
              "      <td>0.738394</td>\n",
              "      <td>NaN</td>\n",
              "      <td>0.777872</td>\n",
              "      <td>0.747763</td>\n",
              "      <td>0.734030</td>\n",
              "      <td>0.727013</td>\n",
              "    </tr>\n",
              "    <tr>\n",
              "      <th>2</th>\n",
              "      <td>0.735429</td>\n",
              "      <td>0.777872</td>\n",
              "      <td>NaN</td>\n",
              "      <td>0.780111</td>\n",
              "      <td>0.717294</td>\n",
              "      <td>0.719411</td>\n",
              "    </tr>\n",
              "    <tr>\n",
              "      <th>3</th>\n",
              "      <td>0.758168</td>\n",
              "      <td>0.747763</td>\n",
              "      <td>0.780111</td>\n",
              "      <td>NaN</td>\n",
              "      <td>0.710930</td>\n",
              "      <td>0.755744</td>\n",
              "    </tr>\n",
              "    <tr>\n",
              "      <th>4</th>\n",
              "      <td>0.717971</td>\n",
              "      <td>0.734030</td>\n",
              "      <td>0.717294</td>\n",
              "      <td>0.710930</td>\n",
              "      <td>NaN</td>\n",
              "      <td>0.709976</td>\n",
              "    </tr>\n",
              "    <tr>\n",
              "      <th>5</th>\n",
              "      <td>0.739258</td>\n",
              "      <td>0.727013</td>\n",
              "      <td>0.719411</td>\n",
              "      <td>0.755744</td>\n",
              "      <td>0.709976</td>\n",
              "      <td>NaN</td>\n",
              "    </tr>\n",
              "  </tbody>\n",
              "</table>\n",
              "</div>"
            ],
            "text/plain": [
              "          0         1         2         3         4         5\n",
              "0       NaN  0.738394  0.735429  0.758168  0.717971  0.739258\n",
              "1  0.738394       NaN  0.777872  0.747763  0.734030  0.727013\n",
              "2  0.735429  0.777872       NaN  0.780111  0.717294  0.719411\n",
              "3  0.758168  0.747763  0.780111       NaN  0.710930  0.755744\n",
              "4  0.717971  0.734030  0.717294  0.710930       NaN  0.709976\n",
              "5  0.739258  0.727013  0.719411  0.755744  0.709976       NaN"
            ]
          },
          "metadata": {
            "tags": []
          }
        },
        {
          "output_type": "stream",
          "text": [
            "Average correlation: 0.7379576472191507\n"
          ],
          "name": "stdout"
        }
      ]
    },
    {
      "cell_type": "markdown",
      "metadata": {
        "colab_type": "text",
        "id": "fGT6jV-hcLbJ"
      },
      "source": [
        "# Results"
      ]
    },
    {
      "cell_type": "code",
      "metadata": {
        "colab_type": "code",
        "id": "3ZvQRiBBvl5W",
        "colab": {}
      },
      "source": [
        "from scipy import stats"
      ],
      "execution_count": null,
      "outputs": []
    },
    {
      "cell_type": "code",
      "metadata": {
        "colab_type": "code",
        "id": "UbSRKks5vmhD",
        "colab": {}
      },
      "source": [
        "baseline_hard =  [0.7774,\n",
        "                  0.7774,\n",
        "                  0.7764,\n",
        "                  0.7717,\n",
        "                  0.7669,\n",
        "                  0.7729,\n",
        "                  0.7743,\n",
        "                  0.7662,\n",
        "                  0.7743,\n",
        "                  0.7735]"
      ],
      "execution_count": null,
      "outputs": []
    },
    {
      "cell_type": "code",
      "metadata": {
        "colab_type": "code",
        "id": "-VU_5YPeQ1QQ",
        "colab": {}
      },
      "source": [
        "baseline_soft=   [0.7795,\n",
        "                  0.7814,\n",
        "                  0.7824,\n",
        "                  0.7747,\n",
        "                  0.7753,\n",
        "                  0.7758,\n",
        "                  0.7768,\n",
        "                  0.7722,\n",
        "                  0.7776,\n",
        "                  0.7742]"
      ],
      "execution_count": null,
      "outputs": []
    },
    {
      "cell_type": "code",
      "metadata": {
        "colab_type": "code",
        "id": "Krqwc_Y4OCxx",
        "colab": {
          "base_uri": "https://localhost:8080/",
          "height": 34
        },
        "outputId": "5b3c8e39-8655-44d5-f69c-3de960a61b64"
      },
      "source": [
        "np.mean(baseline_hard)"
      ],
      "execution_count": null,
      "outputs": [
        {
          "output_type": "execute_result",
          "data": {
            "text/plain": [
              "0.7731000000000001"
            ]
          },
          "metadata": {
            "tags": []
          },
          "execution_count": 27
        }
      ]
    },
    {
      "cell_type": "code",
      "metadata": {
        "colab_type": "code",
        "id": "Ke2jJF4BN9AQ",
        "colab": {
          "base_uri": "https://localhost:8080/",
          "height": 34
        },
        "outputId": "841ff4fb-3d30-4721-c9f1-f569433040de"
      },
      "source": [
        "np.mean(baseline_soft)"
      ],
      "execution_count": null,
      "outputs": [
        {
          "output_type": "execute_result",
          "data": {
            "text/plain": [
              "0.77699"
            ]
          },
          "metadata": {
            "tags": []
          },
          "execution_count": 28
        }
      ]
    },
    {
      "cell_type": "code",
      "metadata": {
        "colab_type": "code",
        "id": "5Ozg6pK4v1Yx",
        "colab": {
          "base_uri": "https://localhost:8080/",
          "height": 191
        },
        "outputId": "e0fd0efe-9560-40d6-da3c-2cc8e4a8cf9d"
      },
      "source": [
        "augmented_hard = pd.read_csv(PATH+\"FashionMNIST_rotation/results_HARD.csv\")\n",
        "augmented_hard = augmented_hard.values\n",
        "augmented_hard"
      ],
      "execution_count": null,
      "outputs": [
        {
          "output_type": "execute_result",
          "data": {
            "text/plain": [
              "array([[ 1.        ,  0.7708    ,  0.74016156],\n",
              "       [ 2.        ,  0.7725    ,  0.74890865],\n",
              "       [ 3.        ,  0.7738    ,  0.73243286],\n",
              "       [ 4.        ,  0.7679    ,  0.75930904],\n",
              "       [ 5.        ,  0.7685    ,  0.74236975],\n",
              "       [ 6.        ,  0.7652    ,  0.75432929],\n",
              "       [ 7.        ,  0.7667    ,  0.75785838],\n",
              "       [ 8.        ,  0.7671    ,  0.76382272],\n",
              "       [ 9.        ,  0.7739    ,  0.7170636 ],\n",
              "       [10.        ,  0.7684    ,  0.73795765]])"
            ]
          },
          "metadata": {
            "tags": []
          },
          "execution_count": 30
        }
      ]
    },
    {
      "cell_type": "code",
      "metadata": {
        "colab_type": "code",
        "id": "wfnJxSrfQYU7",
        "colab": {
          "base_uri": "https://localhost:8080/",
          "height": 191
        },
        "outputId": "2a109ba0-29d1-4c12-d611-18b96cc4c9a0"
      },
      "source": [
        "augmented_soft = pd.read_csv(PATH+\"FashionMNIST_rotation/results_SOFT.csv\")\n",
        "augmented_soft = augmented_soft.values\n",
        "augmented_soft"
      ],
      "execution_count": null,
      "outputs": [
        {
          "output_type": "execute_result",
          "data": {
            "text/plain": [
              "array([[ 1.        ,  0.7703    ,  0.74380357],\n",
              "       [ 2.        ,  0.7781    ,  0.74588633],\n",
              "       [ 3.        ,  0.7798    ,  0.73243286],\n",
              "       [ 4.        ,  0.7717    ,  0.75930904],\n",
              "       [ 5.        ,  0.7719    ,  0.74236975],\n",
              "       [ 6.        ,  0.7683    ,  0.75432929],\n",
              "       [ 7.        ,  0.7713    ,  0.75689827],\n",
              "       [ 8.        ,  0.774     ,  0.76382272],\n",
              "       [ 9.        ,  0.7781    ,  0.7170636 ],\n",
              "       [10.        ,  0.7672    ,  0.74179622]])"
            ]
          },
          "metadata": {
            "tags": []
          },
          "execution_count": 31
        }
      ]
    },
    {
      "cell_type": "code",
      "metadata": {
        "colab_type": "code",
        "id": "2GYweHYDwdVZ",
        "colab": {}
      },
      "source": [
        "augmented_hard = augmented_hard[:,1]\n",
        "augmented_soft = augmented_soft[:,1]"
      ],
      "execution_count": null,
      "outputs": []
    },
    {
      "cell_type": "code",
      "metadata": {
        "colab_type": "code",
        "id": "0ydHmwge0Dck",
        "colab": {
          "base_uri": "https://localhost:8080/",
          "height": 34
        },
        "outputId": "103c500e-4c42-4366-eff2-84d9a6b8b854"
      },
      "source": [
        "np.mean(augmented_hard)"
      ],
      "execution_count": null,
      "outputs": [
        {
          "output_type": "execute_result",
          "data": {
            "text/plain": [
              "0.7694799999999999"
            ]
          },
          "metadata": {
            "tags": []
          },
          "execution_count": 33
        }
      ]
    },
    {
      "cell_type": "code",
      "metadata": {
        "colab_type": "code",
        "id": "X7wlD6720GYj",
        "colab": {
          "base_uri": "https://localhost:8080/",
          "height": 34
        },
        "outputId": "ad6e07a6-8c87-42c7-df9b-f2c60f17c4d1"
      },
      "source": [
        "np.mean(augmented_soft)"
      ],
      "execution_count": null,
      "outputs": [
        {
          "output_type": "execute_result",
          "data": {
            "text/plain": [
              "0.7730699999999999"
            ]
          },
          "metadata": {
            "tags": []
          },
          "execution_count": 34
        }
      ]
    },
    {
      "cell_type": "code",
      "metadata": {
        "colab_type": "code",
        "id": "iQxqLwhWwshl",
        "colab": {
          "base_uri": "https://localhost:8080/",
          "height": 34
        },
        "outputId": "73071cea-130b-4cc2-9565-45a6d83e7a38"
      },
      "source": [
        "stats.ttest_rel(augmented_hard,baseline_hard)"
      ],
      "execution_count": null,
      "outputs": [
        {
          "output_type": "execute_result",
          "data": {
            "text/plain": [
              "Ttest_relResult(statistic=-3.3624385983932905, pvalue=0.008356725023494539)"
            ]
          },
          "metadata": {
            "tags": []
          },
          "execution_count": 35
        }
      ]
    },
    {
      "cell_type": "code",
      "metadata": {
        "colab_type": "code",
        "id": "350YGCOhxbho",
        "colab": {
          "base_uri": "https://localhost:8080/",
          "height": 34
        },
        "outputId": "c462cf21-e2f3-40c5-e29b-34f3e724fae0"
      },
      "source": [
        "stats.ttest_rel(augmented_soft,baseline_soft)"
      ],
      "execution_count": null,
      "outputs": [
        {
          "output_type": "execute_result",
          "data": {
            "text/plain": [
              "Ttest_relResult(statistic=-3.575541823894351, pvalue=0.005972242419708263)"
            ]
          },
          "metadata": {
            "tags": []
          },
          "execution_count": 36
        }
      ]
    },
    {
      "cell_type": "markdown",
      "metadata": {
        "colab_type": "text",
        "id": "51rnX_l7Pfdr"
      },
      "source": [
        "## Accuracy\n",
        "The final accuracy of the ensamble on the test set"
      ]
    }
  ]
}