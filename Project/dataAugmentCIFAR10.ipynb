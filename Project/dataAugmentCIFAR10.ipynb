{
  "nbformat": 4,
  "nbformat_minor": 0,
  "metadata": {
    "accelerator": "GPU",
    "colab": {
      "name": "dataAugmentCIFAR10.ipynb",
      "provenance": [],
      "collapsed_sections": [],
      "toc_visible": true
    },
    "kernelspec": {
      "display_name": "Python 3",
      "language": "python",
      "name": "python3"
    },
    "language_info": {
      "codemirror_mode": {
        "name": "ipython",
        "version": 3
      },
      "file_extension": ".py",
      "mimetype": "text/x-python",
      "name": "python",
      "nbconvert_exporter": "python",
      "pygments_lexer": "ipython3",
      "version": "3.6.9"
    }
  },
  "cells": [
    {
      "cell_type": "code",
      "metadata": {
        "colab_type": "code",
        "id": "fde69AMuOpox",
        "outputId": "9e6b4776-8d55-4ade-b5fe-3268d9bb04d7",
        "colab": {
          "base_uri": "https://localhost:8080/",
          "height": 34
        }
      },
      "source": [
        "import keras\n",
        "import cv2\n",
        "import numpy as np\n",
        "import pandas as pd\n",
        "import tensorflow as tf\n",
        "from itertools import count\n",
        "from sklearn.metrics import accuracy_score\n",
        "from keras.datasets import cifar10\n",
        "from keras.preprocessing.image import ImageDataGenerator\n",
        "from keras.applications.vgg16 import VGG16\n",
        "from keras.layers import Dense, Dropout, Flatten, Activation, Input, Conv2D, MaxPooling2D, BatchNormalization, GlobalAveragePooling2D\n",
        "from sklearn.model_selection import train_test_split\n",
        "from keras.models import Model\n",
        "from keras.callbacks import EarlyStopping\n",
        "from scipy.stats import pearsonr\n",
        "from tqdm import tqdm"
      ],
      "execution_count": 1,
      "outputs": [
        {
          "output_type": "stream",
          "text": [
            "Using TensorFlow backend.\n"
          ],
          "name": "stderr"
        }
      ]
    },
    {
      "cell_type": "code",
      "metadata": {
        "colab_type": "code",
        "id": "qYrab7qpOppj",
        "colab": {}
      },
      "source": [
        "BATCH_SIZE = 128\n",
        "EPOCHS = 20\n",
        "IMAGE_SIZE = 32\n",
        "NUM_CLASSES = 10\n",
        "MODEL_ADDITION_DELTA = 0.01\n",
        "MODEL_ADDITION_PATIENCE = 3\n",
        "MODEL_NAME = \"FashionMNIST_augment\"\n",
        "PATH = \"\""
      ],
      "execution_count": 0,
      "outputs": []
    },
    {
      "cell_type": "code",
      "metadata": {
        "id": "lvPye7rV7D-m",
        "colab_type": "code",
        "colab": {}
      },
      "source": [
        "rotation_range = 10\n",
        "width_shift_range = 0.1\n",
        "height_shift_range = 0.1\n",
        "brightness_range = (0.5,1.0)\n",
        "zoom_range = 0.2\n",
        "horizontal_flip = True"
      ],
      "execution_count": 0,
      "outputs": []
    },
    {
      "cell_type": "markdown",
      "metadata": {
        "id": "R9M4_-IaBOsn",
        "colab_type": "text"
      },
      "source": [
        "# Set seeds"
      ]
    },
    {
      "cell_type": "code",
      "metadata": {
        "id": "7n9nJGd_BQ-r",
        "colab_type": "code",
        "colab": {}
      },
      "source": [
        "np.random.seed(1)\n",
        "tf.random.set_seed(1)"
      ],
      "execution_count": 0,
      "outputs": []
    },
    {
      "cell_type": "markdown",
      "metadata": {
        "id": "g8QvEt97vF52",
        "colab_type": "text"
      },
      "source": [
        "# Preprocess"
      ]
    },
    {
      "cell_type": "code",
      "metadata": {
        "id": "JtJIUBsFKeRO",
        "colab_type": "code",
        "colab": {}
      },
      "source": [
        "def preprocess(imgs):\n",
        "    \n",
        "    return imgs.reshape(imgs.shape[0], IMAGE_SIZE, IMAGE_SIZE, 1)"
      ],
      "execution_count": 0,
      "outputs": []
    },
    {
      "cell_type": "code",
      "metadata": {
        "colab_type": "code",
        "id": "XypdmBJROpp9",
        "outputId": "c046c44a-e9b4-4be8-e6f4-91ac74900403",
        "colab": {
          "base_uri": "https://localhost:8080/",
          "height": 69
        }
      },
      "source": [
        "(x_train, y_train), (x_test, y_test) = cifar10.load_data()\n",
        "print('x_train shape:', x_train.shape)\n",
        "print(x_train.shape[0], 'train samples')\n",
        "print(x_test.shape[0], 'test samples')"
      ],
      "execution_count": 16,
      "outputs": [
        {
          "output_type": "stream",
          "text": [
            "x_train shape: (50000, 32, 32, 3)\n",
            "50000 train samples\n",
            "10000 test samples\n"
          ],
          "name": "stdout"
        }
      ]
    },
    {
      "cell_type": "code",
      "metadata": {
        "colab_type": "code",
        "id": "mo8yHyg-Opqo",
        "colab": {}
      },
      "source": [
        "# Convert class vectors to binary class matrices.\n",
        "y_train = keras.utils.to_categorical(y_train, NUM_CLASSES)\n",
        "y_test = keras.utils.to_categorical(y_test, NUM_CLASSES)"
      ],
      "execution_count": 0,
      "outputs": []
    },
    {
      "cell_type": "code",
      "metadata": {
        "id": "a4SYRuKZaIwb",
        "colab_type": "code",
        "colab": {}
      },
      "source": [
        "x_train = x_train.astype('float32')\n",
        "x_test = x_test.astype('float32')\n",
        "x_train /= 255\n",
        "x_test /= 255"
      ],
      "execution_count": 0,
      "outputs": []
    },
    {
      "cell_type": "code",
      "metadata": {
        "id": "yLQOYIh0OW84",
        "colab_type": "code",
        "colab": {}
      },
      "source": [
        "# Split the data\n",
        "x_train, x_val, y_train, y_val = train_test_split(x_train, y_train, test_size=0.20, shuffle= True)"
      ],
      "execution_count": 0,
      "outputs": []
    },
    {
      "cell_type": "markdown",
      "metadata": {
        "id": "U6JSOpWp_BHt",
        "colab_type": "text"
      },
      "source": [
        "#Data generators\n"
      ]
    },
    {
      "cell_type": "code",
      "metadata": {
        "id": "VeSX4_La7EIs",
        "colab_type": "code",
        "colab": {}
      },
      "source": [
        "datagen_rotation = ImageDataGenerator(rotation_range=rotation_range)\n",
        "datagen_width_shift = ImageDataGenerator(width_shift_range=width_shift_range)\n",
        "datagen_height_shift = ImageDataGenerator(height_shift_range=height_shift_range)\n",
        "datagen_brightness = ImageDataGenerator(brightness_range=brightness_range)\n",
        "datagen_zoom = ImageDataGenerator(zoom_range=zoom_range)\n",
        "datagen_hflip = ImageDataGenerator(horizontal_flip=horizontal_flip)"
      ],
      "execution_count": 0,
      "outputs": []
    },
    {
      "cell_type": "code",
      "metadata": {
        "id": "TBZwvb9Z7ala",
        "colab_type": "code",
        "colab": {}
      },
      "source": [
        "datagens = []\n",
        "datagens.append(datagen_rotation)\n",
        "datagens.append(datagen_width_shift)\n",
        "datagens.append(datagen_height_shift)\n",
        "datagens.append(datagen_brightness)\n",
        "datagens.append(datagen_zoom)\n",
        "datagens.append(datagen_hflip)"
      ],
      "execution_count": 0,
      "outputs": []
    },
    {
      "cell_type": "markdown",
      "metadata": {
        "id": "gIBGIrlkvOt0",
        "colab_type": "text"
      },
      "source": [
        "# Model"
      ]
    },
    {
      "cell_type": "code",
      "metadata": {
        "colab_type": "code",
        "id": "zLWph6_aOpr2",
        "colab": {}
      },
      "source": [
        "def CIFARmodel(imsize, num_classes, num_channels):\n",
        "    inputs = Input((imsize,imsize,num_channels))\n",
        "    x = Conv2D(filters=64, kernel_size=(3,3), activation='relu')(inputs)\n",
        "    x = Conv2D(filters=64, kernel_size=(3,3), strides=2)(x)\n",
        "    x = Activation('relu')(x)\n",
        "    x = BatchNormalization()(x)\n",
        "    x = MaxPooling2D(pool_size=(2,2), strides=(2,2), padding='same')(x)\n",
        "    x = Conv2D(filters=128, kernel_size=(3,3), activation='relu', strides=2, padding='same')(x)\n",
        "    x = Conv2D(filters=128, kernel_size=(3,3), activation='relu', strides=2, padding='same')(x)\n",
        "    x = BatchNormalization()(x)\n",
        "    x = Conv2D(filters=128, kernel_size=(1,1), activation='relu', padding='valid')(x)\n",
        "    x = Conv2D(filters=10, kernel_size=(1,1),strides=(1,1), padding='valid')(x)\n",
        "    x = GlobalAveragePooling2D()(x)\n",
        "    outputs = Activation('softmax')(x)\n",
        "    \n",
        "    model = Model(inputs=inputs, outputs=outputs)\n",
        "\n",
        "    optimizer = keras.optimizers.Adam(learning_rate = 1e-04)\n",
        "\n",
        "    model.compile(loss='categorical_crossentropy',\n",
        "                      optimizer=optimizer,\n",
        "                      metrics=['accuracy'])\n",
        "    return model"
      ],
      "execution_count": 0,
      "outputs": []
    },
    {
      "cell_type": "markdown",
      "metadata": {
        "id": "EbiuqESLvTOY",
        "colab_type": "text"
      },
      "source": [
        "# Predict"
      ]
    },
    {
      "cell_type": "code",
      "metadata": {
        "id": "JXFkx19XmqKe",
        "colab_type": "code",
        "colab": {}
      },
      "source": [
        "def predict(models, X, Y):\n",
        "    predictions = []\n",
        "\n",
        "    for m in tqdm(models):\n",
        "        predictions.append(np.argmax(m.predict(X), axis=1))\n",
        "\n",
        "    prediction = np.transpose(predictions)\n",
        "    prediction = np.apply_along_axis(lambda x: np.bincount(x).argmax(), axis=1, arr=prediction)\n",
        "\n",
        "    return accuracy_score(prediction, np.argmax(Y, axis=1))"
      ],
      "execution_count": 0,
      "outputs": []
    },
    {
      "cell_type": "markdown",
      "metadata": {
        "id": "TVqdcrD_vQ-Q",
        "colab_type": "text"
      },
      "source": [
        "# Train"
      ]
    },
    {
      "cell_type": "code",
      "metadata": {
        "colab_type": "code",
        "id": "HjvZqLBJOpsw",
        "outputId": "d4aacdd3-bac1-469d-868a-48ea10ee11ef",
        "colab": {
          "base_uri": "https://localhost:8080/",
          "height": 1000
        }
      },
      "source": [
        "models = []\n",
        "accuracies = [0]\n",
        "patience = 0\n",
        "\n",
        "for i in range(len(datagens)):\n",
        "\n",
        "    print(f\"Train model {i}\")\n",
        "\n",
        "    datagen = datagens[i].flow(x_train,y_train, batch_size = BATCH_SIZE) \n",
        "    model = CIFARmodel(IMAGE_SIZE, NUM_CLASSES, 3)\n",
        "\n",
        "    es = EarlyStopping(min_delta=0.01, patience=3)\n",
        "    model.fit_generator(datagen,\n",
        "                        epochs = EPOCHS,\n",
        "                        validation_data = (x_test,y_test),\n",
        "                        shuffle = True,\n",
        "                        callbacks=[es])\n",
        "    \n",
        "    model.save_weights(PATH + MODEL_NAME + f\"_weights-{i}.h5\" )\n",
        "    models.append(model)\n",
        "\n",
        "    acc = predict(models, x_val, y_val)\n",
        "    accuracies.append(acc)\n",
        "\n",
        "    print(f\"Model: {i} added. Resulting score: {acc}\")"
      ],
      "execution_count": 24,
      "outputs": [
        {
          "output_type": "stream",
          "text": [
            "Train model 0\n",
            "Epoch 1/20\n",
            "313/313 [==============================] - 30s 97ms/step - loss: 1.7393 - accuracy: 0.3819 - val_loss: 2.0429 - val_accuracy: 0.2427\n",
            "Epoch 2/20\n",
            "313/313 [==============================] - 23s 73ms/step - loss: 1.3697 - accuracy: 0.5167 - val_loss: 1.3895 - val_accuracy: 0.5090\n",
            "Epoch 3/20\n",
            "313/313 [==============================] - 24s 78ms/step - loss: 1.2325 - accuracy: 0.5693 - val_loss: 1.2924 - val_accuracy: 0.5407\n",
            "Epoch 4/20\n",
            "313/313 [==============================] - 23s 74ms/step - loss: 1.1344 - accuracy: 0.6043 - val_loss: 1.1315 - val_accuracy: 0.5968\n",
            "Epoch 5/20\n",
            "313/313 [==============================] - 24s 77ms/step - loss: 1.0565 - accuracy: 0.6341 - val_loss: 1.1542 - val_accuracy: 0.5911\n",
            "Epoch 6/20\n",
            "313/313 [==============================] - 23s 74ms/step - loss: 0.9921 - accuracy: 0.6553 - val_loss: 1.1568 - val_accuracy: 0.5927\n",
            "Epoch 7/20\n",
            "313/313 [==============================] - 24s 77ms/step - loss: 0.9380 - accuracy: 0.6747 - val_loss: 1.0855 - val_accuracy: 0.6186\n",
            "Epoch 8/20\n",
            "313/313 [==============================] - 24s 76ms/step - loss: 0.8919 - accuracy: 0.6923 - val_loss: 1.0928 - val_accuracy: 0.6196\n",
            "Epoch 9/20\n",
            "313/313 [==============================] - 24s 76ms/step - loss: 0.8531 - accuracy: 0.7056 - val_loss: 1.0294 - val_accuracy: 0.6374\n",
            "Epoch 10/20\n",
            "313/313 [==============================] - 23s 74ms/step - loss: 0.8088 - accuracy: 0.7230 - val_loss: 1.1722 - val_accuracy: 0.6045\n",
            "Epoch 11/20\n",
            "313/313 [==============================] - 24s 77ms/step - loss: 0.7740 - accuracy: 0.7322 - val_loss: 0.9541 - val_accuracy: 0.6697\n",
            "Epoch 12/20\n",
            "313/313 [==============================] - 23s 74ms/step - loss: 0.7418 - accuracy: 0.7443 - val_loss: 0.9855 - val_accuracy: 0.6597\n",
            "Epoch 13/20\n",
            "313/313 [==============================] - 24s 77ms/step - loss: 0.7070 - accuracy: 0.7579 - val_loss: 1.0463 - val_accuracy: 0.6487\n",
            "Epoch 14/20\n",
            "313/313 [==============================] - 23s 75ms/step - loss: 0.6813 - accuracy: 0.7653 - val_loss: 0.9280 - val_accuracy: 0.6813\n",
            "Epoch 15/20\n",
            "313/313 [==============================] - 24s 78ms/step - loss: 0.6518 - accuracy: 0.7763 - val_loss: 0.9905 - val_accuracy: 0.6652\n",
            "Epoch 16/20\n",
            "313/313 [==============================] - 24s 75ms/step - loss: 0.6242 - accuracy: 0.7847 - val_loss: 1.0204 - val_accuracy: 0.6574\n",
            "Epoch 17/20\n",
            "313/313 [==============================] - 24s 76ms/step - loss: 0.6019 - accuracy: 0.7949 - val_loss: 0.8911 - val_accuracy: 0.6966\n",
            "Epoch 18/20\n",
            "313/313 [==============================] - 23s 74ms/step - loss: 0.5766 - accuracy: 0.8037 - val_loss: 1.0375 - val_accuracy: 0.6648\n",
            "Epoch 19/20\n",
            "313/313 [==============================] - 24s 77ms/step - loss: 0.5511 - accuracy: 0.8140 - val_loss: 0.9146 - val_accuracy: 0.6949\n",
            "Epoch 20/20\n",
            "313/313 [==============================] - 24s 75ms/step - loss: 0.5294 - accuracy: 0.8201 - val_loss: 1.0043 - val_accuracy: 0.6796\n"
          ],
          "name": "stdout"
        },
        {
          "output_type": "stream",
          "text": [
            "100%|██████████| 1/1 [00:01<00:00,  1.43s/it]\n"
          ],
          "name": "stderr"
        },
        {
          "output_type": "stream",
          "text": [
            "Model: 0 added. Resulting score: 0.6798\n",
            "Train model 1\n",
            "Epoch 1/20\n",
            "313/313 [==============================] - 26s 83ms/step - loss: 1.7522 - accuracy: 0.3799 - val_loss: 2.4930 - val_accuracy: 0.1106\n",
            "Epoch 2/20\n",
            "313/313 [==============================] - 24s 77ms/step - loss: 1.3732 - accuracy: 0.5147 - val_loss: 1.5388 - val_accuracy: 0.4516\n",
            "Epoch 3/20\n",
            "313/313 [==============================] - 25s 81ms/step - loss: 1.2322 - accuracy: 0.5648 - val_loss: 1.2009 - val_accuracy: 0.5733\n",
            "Epoch 4/20\n",
            "313/313 [==============================] - 24s 78ms/step - loss: 1.1441 - accuracy: 0.5957 - val_loss: 1.2818 - val_accuracy: 0.5496\n",
            "Epoch 5/20\n",
            "313/313 [==============================] - 24s 77ms/step - loss: 1.0774 - accuracy: 0.6208 - val_loss: 1.0816 - val_accuracy: 0.6142\n",
            "Epoch 6/20\n",
            "313/313 [==============================] - 24s 76ms/step - loss: 1.0239 - accuracy: 0.6414 - val_loss: 1.1610 - val_accuracy: 0.5931\n",
            "Epoch 7/20\n",
            "313/313 [==============================] - 23s 75ms/step - loss: 0.9713 - accuracy: 0.6622 - val_loss: 1.1098 - val_accuracy: 0.6040\n",
            "Epoch 8/20\n",
            "313/313 [==============================] - 24s 78ms/step - loss: 0.9332 - accuracy: 0.6736 - val_loss: 1.0776 - val_accuracy: 0.6208\n"
          ],
          "name": "stdout"
        },
        {
          "output_type": "stream",
          "text": [
            "100%|██████████| 2/2 [00:02<00:00,  1.30s/it]\n"
          ],
          "name": "stderr"
        },
        {
          "output_type": "stream",
          "text": [
            "Model: 1 added. Resulting score: 0.6843\n",
            "Train model 2\n",
            "Epoch 1/20\n",
            "313/313 [==============================] - 24s 78ms/step - loss: 1.7470 - accuracy: 0.3763 - val_loss: 2.1623 - val_accuracy: 0.1728\n",
            "Epoch 2/20\n",
            "313/313 [==============================] - 24s 76ms/step - loss: 1.4104 - accuracy: 0.4964 - val_loss: 1.4272 - val_accuracy: 0.4921\n",
            "Epoch 3/20\n",
            "313/313 [==============================] - 24s 76ms/step - loss: 1.2861 - accuracy: 0.5458 - val_loss: 1.3257 - val_accuracy: 0.5259\n",
            "Epoch 4/20\n",
            "313/313 [==============================] - 25s 79ms/step - loss: 1.1859 - accuracy: 0.5823 - val_loss: 1.2186 - val_accuracy: 0.5662\n",
            "Epoch 5/20\n",
            "313/313 [==============================] - 24s 77ms/step - loss: 1.1098 - accuracy: 0.6094 - val_loss: 1.1357 - val_accuracy: 0.5952\n",
            "Epoch 6/20\n",
            "313/313 [==============================] - 24s 78ms/step - loss: 1.0486 - accuracy: 0.6323 - val_loss: 1.0568 - val_accuracy: 0.6200\n",
            "Epoch 7/20\n",
            "313/313 [==============================] - 24s 76ms/step - loss: 0.9934 - accuracy: 0.6522 - val_loss: 1.0409 - val_accuracy: 0.6358\n",
            "Epoch 8/20\n",
            "313/313 [==============================] - 24s 77ms/step - loss: 0.9441 - accuracy: 0.6719 - val_loss: 1.1151 - val_accuracy: 0.6125\n",
            "Epoch 9/20\n",
            "313/313 [==============================] - 23s 75ms/step - loss: 0.9089 - accuracy: 0.6825 - val_loss: 0.9898 - val_accuracy: 0.6556\n",
            "Epoch 10/20\n",
            "313/313 [==============================] - 24s 78ms/step - loss: 0.8749 - accuracy: 0.6952 - val_loss: 1.0022 - val_accuracy: 0.6468\n",
            "Epoch 11/20\n",
            "313/313 [==============================] - 23s 74ms/step - loss: 0.8352 - accuracy: 0.7103 - val_loss: 0.9981 - val_accuracy: 0.6590\n",
            "Epoch 12/20\n",
            "313/313 [==============================] - 24s 77ms/step - loss: 0.8069 - accuracy: 0.7204 - val_loss: 0.8909 - val_accuracy: 0.6916\n",
            "Epoch 13/20\n",
            "313/313 [==============================] - 24s 76ms/step - loss: 0.7834 - accuracy: 0.7292 - val_loss: 0.9143 - val_accuracy: 0.6844\n",
            "Epoch 14/20\n",
            "313/313 [==============================] - 25s 79ms/step - loss: 0.7513 - accuracy: 0.7382 - val_loss: 0.8924 - val_accuracy: 0.6897\n",
            "Epoch 15/20\n",
            "313/313 [==============================] - 24s 77ms/step - loss: 0.7298 - accuracy: 0.7475 - val_loss: 1.1522 - val_accuracy: 0.6147\n"
          ],
          "name": "stdout"
        },
        {
          "output_type": "stream",
          "text": [
            "100%|██████████| 3/3 [00:03<00:00,  1.23s/it]\n"
          ],
          "name": "stderr"
        },
        {
          "output_type": "stream",
          "text": [
            "Model: 2 added. Resulting score: 0.6956\n",
            "Train model 3\n",
            "Epoch 1/20\n",
            "313/313 [==============================] - 15s 48ms/step - loss: 1.7576 - accuracy: 0.3723 - val_loss: 2.9473 - val_accuracy: 0.1000\n",
            "Epoch 2/20\n",
            "313/313 [==============================] - 14s 45ms/step - loss: 1.3546 - accuracy: 0.5224 - val_loss: 4.5710 - val_accuracy: 0.1000\n",
            "Epoch 3/20\n",
            "313/313 [==============================] - 14s 45ms/step - loss: 1.1930 - accuracy: 0.5837 - val_loss: 4.4101 - val_accuracy: 0.1000\n",
            "Epoch 4/20\n",
            "313/313 [==============================] - 14s 46ms/step - loss: 1.0860 - accuracy: 0.6220 - val_loss: 5.2228 - val_accuracy: 0.1000\n"
          ],
          "name": "stdout"
        },
        {
          "output_type": "stream",
          "text": [
            "100%|██████████| 4/4 [00:04<00:00,  1.22s/it]\n"
          ],
          "name": "stderr"
        },
        {
          "output_type": "stream",
          "text": [
            "Model: 3 added. Resulting score: 0.6665\n",
            "Train model 4\n",
            "Epoch 1/20\n",
            "313/313 [==============================] - 23s 74ms/step - loss: 1.7169 - accuracy: 0.3879 - val_loss: 2.3144 - val_accuracy: 0.1447\n",
            "Epoch 2/20\n",
            "313/313 [==============================] - 23s 74ms/step - loss: 1.3989 - accuracy: 0.5057 - val_loss: 1.3933 - val_accuracy: 0.5160\n",
            "Epoch 3/20\n",
            "313/313 [==============================] - 23s 73ms/step - loss: 1.2673 - accuracy: 0.5541 - val_loss: 1.2742 - val_accuracy: 0.5384\n",
            "Epoch 4/20\n",
            "313/313 [==============================] - 23s 74ms/step - loss: 1.1760 - accuracy: 0.5870 - val_loss: 1.3670 - val_accuracy: 0.5073\n",
            "Epoch 5/20\n",
            "313/313 [==============================] - 23s 74ms/step - loss: 1.1083 - accuracy: 0.6123 - val_loss: 1.2715 - val_accuracy: 0.5467\n",
            "Epoch 6/20\n",
            "313/313 [==============================] - 24s 75ms/step - loss: 1.0528 - accuracy: 0.6307 - val_loss: 1.3039 - val_accuracy: 0.5441\n"
          ],
          "name": "stdout"
        },
        {
          "output_type": "stream",
          "text": [
            "100%|██████████| 5/5 [00:06<00:00,  1.23s/it]\n"
          ],
          "name": "stderr"
        },
        {
          "output_type": "stream",
          "text": [
            "Model: 4 added. Resulting score: 0.6664\n",
            "Train model 5\n",
            "Epoch 1/20\n",
            "313/313 [==============================] - 10s 32ms/step - loss: 1.7304 - accuracy: 0.3861 - val_loss: 2.3192 - val_accuracy: 0.1396\n",
            "Epoch 2/20\n",
            "313/313 [==============================] - 9s 30ms/step - loss: 1.3515 - accuracy: 0.5220 - val_loss: 1.4012 - val_accuracy: 0.5180\n",
            "Epoch 3/20\n",
            "313/313 [==============================] - 10s 30ms/step - loss: 1.1935 - accuracy: 0.5798 - val_loss: 1.2323 - val_accuracy: 0.5552\n",
            "Epoch 4/20\n",
            "313/313 [==============================] - 10s 30ms/step - loss: 1.0938 - accuracy: 0.6202 - val_loss: 1.2813 - val_accuracy: 0.5386\n",
            "Epoch 5/20\n",
            "313/313 [==============================] - 10s 30ms/step - loss: 1.0135 - accuracy: 0.6452 - val_loss: 1.1602 - val_accuracy: 0.5835\n",
            "Epoch 6/20\n",
            "313/313 [==============================] - 10s 30ms/step - loss: 0.9527 - accuracy: 0.6697 - val_loss: 1.0932 - val_accuracy: 0.6168\n",
            "Epoch 7/20\n",
            "313/313 [==============================] - 9s 30ms/step - loss: 0.9018 - accuracy: 0.6895 - val_loss: 0.9728 - val_accuracy: 0.6544\n",
            "Epoch 8/20\n",
            "313/313 [==============================] - 9s 30ms/step - loss: 0.8531 - accuracy: 0.7058 - val_loss: 1.0563 - val_accuracy: 0.6350\n",
            "Epoch 9/20\n",
            "313/313 [==============================] - 9s 30ms/step - loss: 0.8093 - accuracy: 0.7230 - val_loss: 0.9406 - val_accuracy: 0.6669\n",
            "Epoch 10/20\n",
            "313/313 [==============================] - 10s 30ms/step - loss: 0.7714 - accuracy: 0.7338 - val_loss: 0.9535 - val_accuracy: 0.6664\n",
            "Epoch 11/20\n",
            "313/313 [==============================] - 9s 30ms/step - loss: 0.7407 - accuracy: 0.7458 - val_loss: 1.0417 - val_accuracy: 0.6321\n",
            "Epoch 12/20\n",
            "313/313 [==============================] - 9s 30ms/step - loss: 0.7082 - accuracy: 0.7576 - val_loss: 0.9308 - val_accuracy: 0.6780\n"
          ],
          "name": "stdout"
        },
        {
          "output_type": "stream",
          "text": [
            "100%|██████████| 6/6 [00:06<00:00,  1.14s/it]"
          ],
          "name": "stderr"
        },
        {
          "output_type": "stream",
          "text": [
            "Model: 5 added. Resulting score: 0.7013\n"
          ],
          "name": "stdout"
        },
        {
          "output_type": "stream",
          "text": [
            "\n"
          ],
          "name": "stderr"
        }
      ]
    },
    {
      "cell_type": "markdown",
      "metadata": {
        "id": "fGT6jV-hcLbJ",
        "colab_type": "text"
      },
      "source": [
        "# Results"
      ]
    },
    {
      "cell_type": "markdown",
      "metadata": {
        "id": "CurcmjMCcrJI",
        "colab_type": "text"
      },
      "source": [
        "# Accuracy vs nr of models\n",
        "Visualizing the accuracy vs the number of models in the ensemble"
      ]
    },
    {
      "cell_type": "code",
      "metadata": {
        "id": "yvZLQyb5cg7R",
        "colab_type": "code",
        "outputId": "c03c787c-7c25-472b-f606-f47e8719e66f",
        "colab": {
          "base_uri": "https://localhost:8080/",
          "height": 269
        }
      },
      "source": [
        "accuracy_df = pd.DataFrame(accuracies, columns=[\"Accuracy\"])\n",
        "accuracy_df.insert(1, \"Nr of models\", accuracy_df.index)\n",
        "\n",
        "display(accuracy_df)\n",
        "\n",
        "accuracy_df.to_csv(PATH + MODEL_NAME + \"_accuracy.csv\")"
      ],
      "execution_count": 25,
      "outputs": [
        {
          "output_type": "display_data",
          "data": {
            "text/html": [
              "<div>\n",
              "<style scoped>\n",
              "    .dataframe tbody tr th:only-of-type {\n",
              "        vertical-align: middle;\n",
              "    }\n",
              "\n",
              "    .dataframe tbody tr th {\n",
              "        vertical-align: top;\n",
              "    }\n",
              "\n",
              "    .dataframe thead th {\n",
              "        text-align: right;\n",
              "    }\n",
              "</style>\n",
              "<table border=\"1\" class=\"dataframe\">\n",
              "  <thead>\n",
              "    <tr style=\"text-align: right;\">\n",
              "      <th></th>\n",
              "      <th>Accuracy</th>\n",
              "      <th>Nr of models</th>\n",
              "    </tr>\n",
              "  </thead>\n",
              "  <tbody>\n",
              "    <tr>\n",
              "      <th>0</th>\n",
              "      <td>0.0000</td>\n",
              "      <td>0</td>\n",
              "    </tr>\n",
              "    <tr>\n",
              "      <th>1</th>\n",
              "      <td>0.6798</td>\n",
              "      <td>1</td>\n",
              "    </tr>\n",
              "    <tr>\n",
              "      <th>2</th>\n",
              "      <td>0.6843</td>\n",
              "      <td>2</td>\n",
              "    </tr>\n",
              "    <tr>\n",
              "      <th>3</th>\n",
              "      <td>0.6956</td>\n",
              "      <td>3</td>\n",
              "    </tr>\n",
              "    <tr>\n",
              "      <th>4</th>\n",
              "      <td>0.6665</td>\n",
              "      <td>4</td>\n",
              "    </tr>\n",
              "    <tr>\n",
              "      <th>5</th>\n",
              "      <td>0.6664</td>\n",
              "      <td>5</td>\n",
              "    </tr>\n",
              "    <tr>\n",
              "      <th>6</th>\n",
              "      <td>0.7013</td>\n",
              "      <td>6</td>\n",
              "    </tr>\n",
              "  </tbody>\n",
              "</table>\n",
              "</div>"
            ],
            "text/plain": [
              "   Accuracy  Nr of models\n",
              "0    0.0000             0\n",
              "1    0.6798             1\n",
              "2    0.6843             2\n",
              "3    0.6956             3\n",
              "4    0.6665             4\n",
              "5    0.6664             5\n",
              "6    0.7013             6"
            ]
          },
          "metadata": {
            "tags": []
          }
        }
      ]
    },
    {
      "cell_type": "code",
      "metadata": {
        "id": "sXq8Uj3lenzH",
        "colab_type": "code",
        "outputId": "81bba873-751e-4268-9dc2-2fae78f02f0e",
        "colab": {
          "base_uri": "https://localhost:8080/",
          "height": 279
        }
      },
      "source": [
        "import matplotlib.pyplot as plt\n",
        "\n",
        "# remove first row\n",
        "accuracy_df = accuracy_df.iloc[1:]\n",
        "\n",
        "accuracy_df.plot(x=\"Nr of models\", y=\"Accuracy\", xticks=accuracy_df[\"Nr of models\"])\n",
        "plt.show()"
      ],
      "execution_count": 26,
      "outputs": [
        {
          "output_type": "display_data",
          "data": {
            "image/png": "[encoded data removed]",
            "text/plain": [
              "<Figure size 432x288 with 1 Axes>"
            ]
          },
          "metadata": {
            "tags": [],
            "needs_background": "light"
          }
        }
      ]
    },
    {
      "cell_type": "markdown",
      "metadata": {
        "id": "51rnX_l7Pfdr",
        "colab_type": "text"
      },
      "source": [
        "## Accuracy\n",
        "The final accuracy of the ensamble on the test set"
      ]
    },
    {
      "cell_type": "code",
      "metadata": {
        "id": "GwNmmvSFPlVx",
        "colab_type": "code",
        "outputId": "a4b96c1e-4ea5-435c-e397-8928f449a191",
        "colab": {
          "base_uri": "https://localhost:8080/",
          "height": 52
        }
      },
      "source": [
        "print(\"Accuracy: \" + str(predict(models, x_test, y_test)))"
      ],
      "execution_count": 27,
      "outputs": [
        {
          "output_type": "stream",
          "text": [
            "100%|██████████| 6/6 [00:06<00:00,  1.10s/it]"
          ],
          "name": "stderr"
        },
        {
          "output_type": "stream",
          "text": [
            "Accuracy: 0.7009\n"
          ],
          "name": "stdout"
        },
        {
          "output_type": "stream",
          "text": [
            "\n"
          ],
          "name": "stderr"
        }
      ]
    },
    {
      "cell_type": "markdown",
      "metadata": {
        "id": "NMfc-h8xAYQu",
        "colab_type": "text"
      },
      "source": [
        "## Correlation between models"
      ]
    },
    {
      "cell_type": "code",
      "metadata": {
        "id": "0N9wSXF1iSp3",
        "colab_type": "code",
        "outputId": "8ea839e8-5282-4bbe-9cbb-54c092214ce3",
        "colab": {
          "base_uri": "https://localhost:8080/",
          "height": 34
        }
      },
      "source": [
        "predictions = []\n",
        "\n",
        "for m in tqdm(models):\n",
        "    predictions.append(np.argmax(m.predict(x_test), axis=1))"
      ],
      "execution_count": 28,
      "outputs": [
        {
          "output_type": "stream",
          "text": [
            "100%|██████████| 6/6 [00:06<00:00,  1.10s/it]\n"
          ],
          "name": "stderr"
        }
      ]
    },
    {
      "cell_type": "code",
      "metadata": {
        "id": "FAky42lMV102",
        "colab_type": "code",
        "outputId": "67992afc-d681-48f1-d56f-d0188ef511a0",
        "colab": {
          "base_uri": "https://localhost:8080/",
          "height": 290
        }
      },
      "source": [
        "correlation_matrix = []\n",
        "\n",
        "for ix, x in enumerate(predictions):\n",
        "  row = []\n",
        "  \n",
        "  for iy, y in enumerate(predictions):\n",
        "    if (ix == iy):\n",
        "      row.append(np.nan)\n",
        "    else:\n",
        "      row.append(pearsonr(x,y)[0])\n",
        "\n",
        "  correlation_matrix.append(row)\n",
        "\n",
        "correlation_matrix = np.array(correlation_matrix)\n",
        "display(pd.DataFrame(correlation_matrix))\n",
        "print(\"Average correlation: \" + str(np.nanmean(correlation_matrix.flatten())))"
      ],
      "execution_count": 29,
      "outputs": [
        {
          "output_type": "stream",
          "text": [
            "/usr/local/lib/python3.6/dist-packages/scipy/stats/stats.py:3508: PearsonRConstantInputWarning: An input array is constant; the correlation coefficent is not defined.\n",
            "  warnings.warn(PearsonRConstantInputWarning())\n"
          ],
          "name": "stderr"
        },
        {
          "output_type": "display_data",
          "data": {
            "text/html": [
              "<div>\n",
              "<style scoped>\n",
              "    .dataframe tbody tr th:only-of-type {\n",
              "        vertical-align: middle;\n",
              "    }\n",
              "\n",
              "    .dataframe tbody tr th {\n",
              "        vertical-align: top;\n",
              "    }\n",
              "\n",
              "    .dataframe thead th {\n",
              "        text-align: right;\n",
              "    }\n",
              "</style>\n",
              "<table border=\"1\" class=\"dataframe\">\n",
              "  <thead>\n",
              "    <tr style=\"text-align: right;\">\n",
              "      <th></th>\n",
              "      <th>0</th>\n",
              "      <th>1</th>\n",
              "      <th>2</th>\n",
              "      <th>3</th>\n",
              "      <th>4</th>\n",
              "      <th>5</th>\n",
              "    </tr>\n",
              "  </thead>\n",
              "  <tbody>\n",
              "    <tr>\n",
              "      <th>0</th>\n",
              "      <td>NaN</td>\n",
              "      <td>0.595180</td>\n",
              "      <td>0.564331</td>\n",
              "      <td>NaN</td>\n",
              "      <td>0.588417</td>\n",
              "      <td>0.681716</td>\n",
              "    </tr>\n",
              "    <tr>\n",
              "      <th>1</th>\n",
              "      <td>0.595180</td>\n",
              "      <td>NaN</td>\n",
              "      <td>0.426352</td>\n",
              "      <td>NaN</td>\n",
              "      <td>0.516673</td>\n",
              "      <td>0.609585</td>\n",
              "    </tr>\n",
              "    <tr>\n",
              "      <th>2</th>\n",
              "      <td>0.564331</td>\n",
              "      <td>0.426352</td>\n",
              "      <td>NaN</td>\n",
              "      <td>NaN</td>\n",
              "      <td>0.574355</td>\n",
              "      <td>0.541976</td>\n",
              "    </tr>\n",
              "    <tr>\n",
              "      <th>3</th>\n",
              "      <td>NaN</td>\n",
              "      <td>NaN</td>\n",
              "      <td>NaN</td>\n",
              "      <td>NaN</td>\n",
              "      <td>NaN</td>\n",
              "      <td>NaN</td>\n",
              "    </tr>\n",
              "    <tr>\n",
              "      <th>4</th>\n",
              "      <td>0.588417</td>\n",
              "      <td>0.516673</td>\n",
              "      <td>0.574355</td>\n",
              "      <td>NaN</td>\n",
              "      <td>NaN</td>\n",
              "      <td>0.564028</td>\n",
              "    </tr>\n",
              "    <tr>\n",
              "      <th>5</th>\n",
              "      <td>0.681716</td>\n",
              "      <td>0.609585</td>\n",
              "      <td>0.541976</td>\n",
              "      <td>NaN</td>\n",
              "      <td>0.564028</td>\n",
              "      <td>NaN</td>\n",
              "    </tr>\n",
              "  </tbody>\n",
              "</table>\n",
              "</div>"
            ],
            "text/plain": [
              "          0         1         2   3         4         5\n",
              "0       NaN  0.595180  0.564331 NaN  0.588417  0.681716\n",
              "1  0.595180       NaN  0.426352 NaN  0.516673  0.609585\n",
              "2  0.564331  0.426352       NaN NaN  0.574355  0.541976\n",
              "3       NaN       NaN       NaN NaN       NaN       NaN\n",
              "4  0.588417  0.516673  0.574355 NaN       NaN  0.564028\n",
              "5  0.681716  0.609585  0.541976 NaN  0.564028       NaN"
            ]
          },
          "metadata": {
            "tags": []
          }
        },
        {
          "output_type": "stream",
          "text": [
            "Average correlation: 0.5662613483885981\n"
          ],
          "name": "stdout"
        }
      ]
    }
  ]
}