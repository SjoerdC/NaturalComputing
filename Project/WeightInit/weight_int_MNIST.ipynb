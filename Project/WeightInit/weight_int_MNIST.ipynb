{
  "nbformat": 4,
  "nbformat_minor": 0,
  "metadata": {
    "accelerator": "GPU",
    "colab": {
      "name": "weight_int_MNIST.ipynb",
      "provenance": [],
      "collapsed_sections": [],
      "toc_visible": true
    },
    "kernelspec": {
      "display_name": "Python 3",
      "language": "python",
      "name": "python3"
    },
    "language_info": {
      "codemirror_mode": {
        "name": "ipython",
        "version": 3
      },
      "file_extension": ".py",
      "mimetype": "text/x-python",
      "name": "python",
      "nbconvert_exporter": "python",
      "pygments_lexer": "ipython3",
      "version": "3.7.4"
    }
  },
  "cells": [
    {
      "cell_type": "code",
      "metadata": {
        "colab_type": "code",
        "id": "fde69AMuOpox",
        "outputId": "1a25937b-92ca-4e4f-d6ef-a9e6161fed0d",
        "colab": {
          "base_uri": "https://localhost:8080/",
          "height": 34
        }
      },
      "source": [
        "import keras\n",
        "import cv2\n",
        "import numpy as np\n",
        "import pandas as pd\n",
        "import tensorflow as tf\n",
        "from tensorflow.keras import initializers\n",
        "from itertools import count\n",
        "from sklearn.metrics import accuracy_score\n",
        "from keras.datasets import mnist\n",
        "from keras.applications.vgg16 import VGG16\n",
        "from keras import layers\n",
        "from keras.layers import Dense, Dropout, Flatten, Activation, Input, Conv2D, MaxPooling2D, BatchNormalization, GlobalAveragePooling2D\n",
        "from keras.models import Model\n",
        "from sklearn.model_selection import train_test_split\n",
        "from keras.callbacks import EarlyStopping\n",
        "from scipy.stats import pearsonr\n",
        "from tqdm import tqdm"
      ],
      "execution_count": 1,
      "outputs": [
        {
          "output_type": "stream",
          "text": [
            "Using TensorFlow backend.\n"
          ],
          "name": "stderr"
        }
      ]
    },
    {
      "cell_type": "code",
      "metadata": {
        "colab_type": "code",
        "id": "qYrab7qpOppj",
        "colab": {}
      },
      "source": [
        "BATCH_SIZE = 128\n",
        "EPOCHS = 10\n",
        "IMAGE_SIZE = 28\n",
        "NUM_CLASSES = 10\n",
        "NUM_CHANNELS = 1\n",
        "MODEL_ADDITION_DELTA = 0.01\n",
        "MODEL_ADDITION_PATIENCE = 3\n",
        "MODEL_NAME = \"MNIST_weight_init\"\n",
        "PATH = \"\""
      ],
      "execution_count": 0,
      "outputs": []
    },
    {
      "cell_type": "markdown",
      "metadata": {
        "colab_type": "text",
        "id": "R9M4_-IaBOsn"
      },
      "source": [
        "# Set seeds"
      ]
    },
    {
      "cell_type": "code",
      "metadata": {
        "colab_type": "code",
        "id": "7n9nJGd_BQ-r",
        "colab": {}
      },
      "source": [
        "np.random.seed(1)\n",
        "tf.random.set_seed(1)"
      ],
      "execution_count": 0,
      "outputs": []
    },
    {
      "cell_type": "markdown",
      "metadata": {
        "colab_type": "text",
        "id": "g8QvEt97vF52"
      },
      "source": [
        "# Preprocess"
      ]
    },
    {
      "cell_type": "code",
      "metadata": {
        "colab_type": "code",
        "id": "JtJIUBsFKeRO",
        "colab": {}
      },
      "source": [
        "def preprocess(imgs):\n",
        "    \n",
        "    return imgs.reshape(imgs.shape[0], IMAGE_SIZE, IMAGE_SIZE, 1)"
      ],
      "execution_count": 0,
      "outputs": []
    },
    {
      "cell_type": "code",
      "metadata": {
        "colab_type": "code",
        "id": "XypdmBJROpp9",
        "outputId": "58558453-4d7c-4bbf-a4bd-98144abf383f",
        "colab": {
          "base_uri": "https://localhost:8080/",
          "height": 68
        }
      },
      "source": [
        "(x_train, y_train), (x_test, y_test) = mnist.load_data()\n",
        "\n",
        "x_train = preprocess(x_train)\n",
        "x_test = preprocess(x_test)\n",
        "\n",
        "print('x_train shape:', x_train.shape)\n",
        "print(x_train.shape[0], 'train samples')\n",
        "print(x_test.shape[0], 'test samples')"
      ],
      "execution_count": 5,
      "outputs": [
        {
          "output_type": "stream",
          "text": [
            "x_train shape: (60000, 28, 28, 1)\n",
            "60000 train samples\n",
            "10000 test samples\n"
          ],
          "name": "stdout"
        }
      ]
    },
    {
      "cell_type": "code",
      "metadata": {
        "colab_type": "code",
        "id": "mo8yHyg-Opqo",
        "colab": {}
      },
      "source": [
        "# Convert class vectors to binary class matrices.\n",
        "y_train = keras.utils.to_categorical(y_train, NUM_CLASSES)\n",
        "y_testc = keras.utils.to_categorical(y_test, NUM_CLASSES)"
      ],
      "execution_count": 0,
      "outputs": []
    },
    {
      "cell_type": "code",
      "metadata": {
        "colab_type": "code",
        "id": "a4SYRuKZaIwb",
        "colab": {}
      },
      "source": [
        "x_train = x_train.astype('float32')\n",
        "x_test = x_test.astype('float32')\n",
        "x_train /= 255\n",
        "x_test /= 255"
      ],
      "execution_count": 0,
      "outputs": []
    },
    {
      "cell_type": "code",
      "metadata": {
        "colab_type": "code",
        "id": "vBci5ba9hiaQ",
        "colab": {}
      },
      "source": [
        "# Split the data\n",
        "x_train, x_val, y_train, y_val = train_test_split(x_train, y_train, test_size=0.20, shuffle= True)"
      ],
      "execution_count": 0,
      "outputs": []
    },
    {
      "cell_type": "markdown",
      "metadata": {
        "colab_type": "text",
        "id": "gIBGIrlkvOt0"
      },
      "source": [
        "# Model"
      ]
    },
    {
      "cell_type": "code",
      "metadata": {
        "colab_type": "code",
        "id": "zLWph6_aOpr2",
        "colab": {}
      },
      "source": [
        "def MNISTmodel(imsize, num_classes, num_channels):\n",
        "    inputs = Input((imsize,imsize,num_channels))\n",
        "    x = Conv2D(filters = 32, kernel_size = (3,3), activation = 'relu', strides = 2)(inputs)\n",
        "    x = BatchNormalization()(x)\n",
        "    x = MaxPooling2D(pool_size = (2,2), strides=(2,2), padding = \"same\")(x)\n",
        "    x = Conv2D(filters=32, kernel_size=(1,1), activation='relu', padding='valid')(x)\n",
        "    x = Conv2D(filters = 10, kernel_size = (1,1),strides = (1,1), padding = 'valid')(x)\n",
        "    x = GlobalAveragePooling2D()(x)\n",
        "    outputs = Activation('softmax')(x)\n",
        "    \n",
        "    model = Model(inputs=inputs, outputs=outputs)\n",
        "    \n",
        "    optimizer = keras.optimizers.Adam(learning_rate = 1e-04)\n",
        "\n",
        "    model.compile(loss='categorical_crossentropy',\n",
        "                      optimizer=optimizer,\n",
        "                      metrics=['accuracy'])\n",
        "    return model"
      ],
      "execution_count": 0,
      "outputs": []
    },
    {
      "cell_type": "markdown",
      "metadata": {
        "colab_type": "text",
        "id": "TVqdcrD_vQ-Q"
      },
      "source": [
        "# Train"
      ]
    },
    {
      "cell_type": "code",
      "metadata": {
        "colab_type": "code",
        "id": "HjvZqLBJOpsw",
        "outputId": "59d6b008-0b93-4dd7-b749-5ebc0dd6da66",
        "colab": {
          "base_uri": "https://localhost:8080/",
          "height": 1000
        }
      },
      "source": [
        "models = []\n",
        "accuracies = []\n",
        "predictions = []\n",
        "initializer = [\"Zero\",\"Ones\",\"Random Normal\",\"Random Uniform\",\"Identity\",\"Orthogonal\",\"Glorot Normal\",\"Glorot Uniform\"]\n",
        "for i in range(len(initializer)):\n",
        "\n",
        "    print(f\"Train model {i}\")\n",
        "    print(f\"Weight init method: {initializer[i]} \")\n",
        "    model = MNISTmodel(IMAGE_SIZE,NUM_CLASSES,NUM_CHANNELS)\n",
        "    \n",
        "    for layer in model.layers: \n",
        "        if hasattr(layer, 'kernel_initializer'):\n",
        "            if(initializer[i] == \"Zero\"):\n",
        "                layer.kernel_initializer = initializers.Zeros()\n",
        "            elif(initializer[i] == \"Ones\"):\n",
        "                layer.kernel_initializer = initializers.Ones()\n",
        "            elif(initializer[i] == \"Random Normal\"):\n",
        "                layer.kernel_initializer = initializers.RandomNormal()\n",
        "            elif(initializer[i] == \"Random Unifrom\"):\n",
        "                layer.kernel_initializer = initializers.RandomUniform()\n",
        "            elif(initializer[i] == \"Identity\"):\n",
        "                layer.kernel_initializer = initializers.Identity()\n",
        "            elif(initializer[i] == \"Orthogonal\"):\n",
        "                layer.kernel_initializer = initializers.Orthogonal()\n",
        "            elif(initializer[i] == \"Glorot Normal\"):\n",
        "                layer.kernel_initializer = initializers.GlorotNormal()\n",
        "            elif(initializer[i] == \"Glorot Unifrom\"):\n",
        "                layer.kernel_initializer = initializers.GlorotUnifrom()\n",
        "          \n",
        "    es = EarlyStopping(monitor='val_categorical_accuracy', mode='max', min_delta=0.01, patience=3)\n",
        "    model.fit(x_train,y_train,\n",
        "              batch_size = BATCH_SIZE,\n",
        "              epochs = EPOCHS,\n",
        "              validation_data = (x_val,y_val),\n",
        "              shuffle = True,\n",
        "              callbacks=[es])\n",
        "    models.append(model)\n",
        "    y_prob = model.predict(x_test) \n",
        "    predictions.append(y_prob.argmax(axis=-1))\n",
        "    acc = model.evaluate(x_test,y_testc)[1]\n",
        "    accuracies.append(acc)\n",
        "\n",
        "    print(f\"Model: {i} added. Resulting score: {acc}\")\n"
      ],
      "execution_count": 10,
      "outputs": [
        {
          "output_type": "stream",
          "text": [
            "Train model 0\n",
            "Weight init method: Zero \n",
            "Train on 48000 samples, validate on 12000 samples\n",
            "Epoch 1/10\n",
            "48000/48000 [==============================] - 5s 105us/step - loss: 2.2383 - accuracy: 0.2219 - val_loss: 2.2467 - val_accuracy: 0.2068\n",
            "Epoch 2/10\n",
            " 2816/48000 [>.............................] - ETA: 2s - loss: 2.1648 - accuracy: 0.2905"
          ],
          "name": "stdout"
        },
        {
          "output_type": "stream",
          "text": [
            "/usr/local/lib/python3.6/dist-packages/keras/callbacks/callbacks.py:846: RuntimeWarning: Early stopping conditioned on metric `val_categorical_accuracy` which is not available. Available metrics are: val_loss,val_accuracy,loss,accuracy\n",
            "  (self.monitor, ','.join(list(logs.keys()))), RuntimeWarning\n"
          ],
          "name": "stderr"
        },
        {
          "output_type": "stream",
          "text": [
            "48000/48000 [==============================] - 4s 75us/step - loss: 2.0996 - accuracy: 0.3081 - val_loss: 2.0427 - val_accuracy: 0.3157\n",
            "Epoch 3/10\n",
            "48000/48000 [==============================] - 4s 75us/step - loss: 1.9634 - accuracy: 0.3476 - val_loss: 1.8966 - val_accuracy: 0.3738\n",
            "Epoch 4/10\n",
            "48000/48000 [==============================] - 4s 76us/step - loss: 1.8458 - accuracy: 0.3881 - val_loss: 1.7886 - val_accuracy: 0.4082\n",
            "Epoch 5/10\n",
            "48000/48000 [==============================] - 4s 74us/step - loss: 1.7493 - accuracy: 0.4177 - val_loss: 1.7036 - val_accuracy: 0.4263\n",
            "Epoch 6/10\n",
            "48000/48000 [==============================] - 4s 75us/step - loss: 1.6731 - accuracy: 0.4415 - val_loss: 1.6352 - val_accuracy: 0.4522\n",
            "Epoch 7/10\n",
            "48000/48000 [==============================] - 4s 78us/step - loss: 1.6121 - accuracy: 0.4566 - val_loss: 1.5793 - val_accuracy: 0.4696\n",
            "Epoch 8/10\n",
            "48000/48000 [==============================] - 4s 75us/step - loss: 1.5616 - accuracy: 0.4697 - val_loss: 1.5339 - val_accuracy: 0.4802\n",
            "Epoch 9/10\n",
            "48000/48000 [==============================] - 4s 74us/step - loss: 1.5191 - accuracy: 0.4842 - val_loss: 1.4933 - val_accuracy: 0.4942\n",
            "Epoch 10/10\n",
            "48000/48000 [==============================] - 4s 74us/step - loss: 1.4826 - accuracy: 0.4937 - val_loss: 1.4597 - val_accuracy: 0.4987\n",
            "10000/10000 [==============================] - 1s 96us/step\n",
            "Model: 0 added. Resulting score: 0.5009999871253967\n",
            "Train model 1\n",
            "Weight init method: Ones \n",
            "Train on 48000 samples, validate on 12000 samples\n",
            "Epoch 1/10\n",
            "48000/48000 [==============================] - 4s 84us/step - loss: 2.2958 - accuracy: 0.1665 - val_loss: 2.2783 - val_accuracy: 0.2340\n",
            "Epoch 2/10\n",
            "48000/48000 [==============================] - 4s 78us/step - loss: 2.1911 - accuracy: 0.2810 - val_loss: 2.1479 - val_accuracy: 0.3073\n",
            "Epoch 3/10\n",
            "48000/48000 [==============================] - 4s 77us/step - loss: 2.0813 - accuracy: 0.3168 - val_loss: 2.0191 - val_accuracy: 0.3259\n",
            "Epoch 4/10\n",
            "48000/48000 [==============================] - 4s 77us/step - loss: 1.9625 - accuracy: 0.3308 - val_loss: 1.8931 - val_accuracy: 0.3507\n",
            "Epoch 5/10\n",
            "48000/48000 [==============================] - 4s 76us/step - loss: 1.8439 - accuracy: 0.3675 - val_loss: 1.7860 - val_accuracy: 0.3842\n",
            "Epoch 6/10\n",
            "48000/48000 [==============================] - 4s 76us/step - loss: 1.7463 - accuracy: 0.4062 - val_loss: 1.6988 - val_accuracy: 0.4353\n",
            "Epoch 7/10\n",
            "48000/48000 [==============================] - 4s 77us/step - loss: 1.6706 - accuracy: 0.4400 - val_loss: 1.6303 - val_accuracy: 0.4619\n",
            "Epoch 8/10\n",
            "48000/48000 [==============================] - 4s 77us/step - loss: 1.6085 - accuracy: 0.4652 - val_loss: 1.5757 - val_accuracy: 0.4793\n",
            "Epoch 9/10\n",
            "48000/48000 [==============================] - 4s 76us/step - loss: 1.5558 - accuracy: 0.4859 - val_loss: 1.5242 - val_accuracy: 0.5016\n",
            "Epoch 10/10\n",
            "48000/48000 [==============================] - 4s 75us/step - loss: 1.5083 - accuracy: 0.5058 - val_loss: 1.4796 - val_accuracy: 0.5167\n",
            "10000/10000 [==============================] - 1s 95us/step\n",
            "Model: 1 added. Resulting score: 0.5142999887466431\n",
            "Train model 2\n",
            "Weight init method: Random Normal \n",
            "Train on 48000 samples, validate on 12000 samples\n",
            "Epoch 1/10\n",
            "48000/48000 [==============================] - 4s 81us/step - loss: 2.3065 - accuracy: 0.1165 - val_loss: 2.2770 - val_accuracy: 0.2276\n",
            "Epoch 2/10\n",
            "48000/48000 [==============================] - 4s 75us/step - loss: 2.1556 - accuracy: 0.2713 - val_loss: 2.0921 - val_accuracy: 0.2967\n",
            "Epoch 3/10\n",
            "48000/48000 [==============================] - 4s 74us/step - loss: 2.0122 - accuracy: 0.3270 - val_loss: 1.9398 - val_accuracy: 0.3362\n",
            "Epoch 4/10\n",
            "48000/48000 [==============================] - 4s 74us/step - loss: 1.8853 - accuracy: 0.3621 - val_loss: 1.8157 - val_accuracy: 0.3835\n",
            "Epoch 5/10\n",
            "48000/48000 [==============================] - 4s 76us/step - loss: 1.7795 - accuracy: 0.3978 - val_loss: 1.7260 - val_accuracy: 0.4262\n",
            "Epoch 6/10\n",
            "48000/48000 [==============================] - 4s 73us/step - loss: 1.6964 - accuracy: 0.4290 - val_loss: 1.6525 - val_accuracy: 0.4467\n",
            "Epoch 7/10\n",
            "48000/48000 [==============================] - 4s 74us/step - loss: 1.6285 - accuracy: 0.4497 - val_loss: 1.5920 - val_accuracy: 0.4602\n",
            "Epoch 8/10\n",
            "48000/48000 [==============================] - 4s 73us/step - loss: 1.5723 - accuracy: 0.4656 - val_loss: 1.5391 - val_accuracy: 0.4782\n",
            "Epoch 9/10\n",
            "48000/48000 [==============================] - 4s 77us/step - loss: 1.5244 - accuracy: 0.4784 - val_loss: 1.4958 - val_accuracy: 0.4910\n",
            "Epoch 10/10\n",
            "48000/48000 [==============================] - 4s 74us/step - loss: 1.4841 - accuracy: 0.4867 - val_loss: 1.4581 - val_accuracy: 0.5011\n",
            "10000/10000 [==============================] - 1s 94us/step\n",
            "Model: 2 added. Resulting score: 0.5013999938964844\n",
            "Train model 3\n",
            "Weight init method: Random Uniform \n",
            "Train on 48000 samples, validate on 12000 samples\n",
            "Epoch 1/10\n",
            "48000/48000 [==============================] - 4s 83us/step - loss: 2.2921 - accuracy: 0.1493 - val_loss: 2.2619 - val_accuracy: 0.1673\n",
            "Epoch 2/10\n",
            "48000/48000 [==============================] - 4s 80us/step - loss: 2.1423 - accuracy: 0.2888 - val_loss: 2.0901 - val_accuracy: 0.2978\n",
            "Epoch 3/10\n",
            "48000/48000 [==============================] - 4s 77us/step - loss: 1.9973 - accuracy: 0.3531 - val_loss: 1.9109 - val_accuracy: 0.3838\n",
            "Epoch 4/10\n",
            "48000/48000 [==============================] - 4s 76us/step - loss: 1.8482 - accuracy: 0.3901 - val_loss: 1.7719 - val_accuracy: 0.4212\n",
            "Epoch 5/10\n",
            "48000/48000 [==============================] - 4s 74us/step - loss: 1.7270 - accuracy: 0.4307 - val_loss: 1.6673 - val_accuracy: 0.4580\n",
            "Epoch 6/10\n",
            "48000/48000 [==============================] - 4s 75us/step - loss: 1.6365 - accuracy: 0.4625 - val_loss: 1.5905 - val_accuracy: 0.4786\n",
            "Epoch 7/10\n",
            "48000/48000 [==============================] - 4s 74us/step - loss: 1.5674 - accuracy: 0.4847 - val_loss: 1.5305 - val_accuracy: 0.5003\n",
            "Epoch 8/10\n",
            "48000/48000 [==============================] - 4s 75us/step - loss: 1.5123 - accuracy: 0.5008 - val_loss: 1.4819 - val_accuracy: 0.5187\n",
            "Epoch 9/10\n",
            "48000/48000 [==============================] - 4s 76us/step - loss: 1.4670 - accuracy: 0.5154 - val_loss: 1.4410 - val_accuracy: 0.5266\n",
            "Epoch 10/10\n",
            "48000/48000 [==============================] - 4s 78us/step - loss: 1.4279 - accuracy: 0.5264 - val_loss: 1.4047 - val_accuracy: 0.5388\n",
            "10000/10000 [==============================] - 1s 96us/step\n",
            "Model: 3 added. Resulting score: 0.554099977016449\n",
            "Train model 4\n",
            "Weight init method: Identity \n",
            "Train on 48000 samples, validate on 12000 samples\n",
            "Epoch 1/10\n",
            "48000/48000 [==============================] - 4s 83us/step - loss: 2.2456 - accuracy: 0.2134 - val_loss: 2.2561 - val_accuracy: 0.2435\n",
            "Epoch 2/10\n",
            "48000/48000 [==============================] - 4s 76us/step - loss: 2.1216 - accuracy: 0.3414 - val_loss: 2.0445 - val_accuracy: 0.3344\n",
            "Epoch 3/10\n",
            "48000/48000 [==============================] - 4s 77us/step - loss: 1.9505 - accuracy: 0.3589 - val_loss: 1.8590 - val_accuracy: 0.3673\n",
            "Epoch 4/10\n",
            "48000/48000 [==============================] - 4s 74us/step - loss: 1.8093 - accuracy: 0.3951 - val_loss: 1.7438 - val_accuracy: 0.4165\n",
            "Epoch 5/10\n",
            "48000/48000 [==============================] - 4s 76us/step - loss: 1.7096 - accuracy: 0.4309 - val_loss: 1.6594 - val_accuracy: 0.4498\n",
            "Epoch 6/10\n",
            "48000/48000 [==============================] - 4s 75us/step - loss: 1.6331 - accuracy: 0.4583 - val_loss: 1.5947 - val_accuracy: 0.4696\n",
            "Epoch 7/10\n",
            "48000/48000 [==============================] - 4s 77us/step - loss: 1.5734 - accuracy: 0.4771 - val_loss: 1.5377 - val_accuracy: 0.4967\n",
            "Epoch 8/10\n",
            "48000/48000 [==============================] - 4s 74us/step - loss: 1.5224 - accuracy: 0.4922 - val_loss: 1.4925 - val_accuracy: 0.5011\n",
            "Epoch 9/10\n",
            "48000/48000 [==============================] - 4s 78us/step - loss: 1.4799 - accuracy: 0.5056 - val_loss: 1.4523 - val_accuracy: 0.5161\n",
            "Epoch 10/10\n",
            "48000/48000 [==============================] - 4s 74us/step - loss: 1.4427 - accuracy: 0.5152 - val_loss: 1.4169 - val_accuracy: 0.5253\n",
            "10000/10000 [==============================] - 1s 92us/step\n",
            "Model: 4 added. Resulting score: 0.5360000133514404\n",
            "Train model 5\n",
            "Weight init method: Orthogonal \n",
            "Train on 48000 samples, validate on 12000 samples\n",
            "Epoch 1/10\n",
            "48000/48000 [==============================] - 4s 81us/step - loss: 2.2752 - accuracy: 0.2000 - val_loss: 2.2667 - val_accuracy: 0.2124\n",
            "Epoch 2/10\n",
            "48000/48000 [==============================] - 4s 76us/step - loss: 2.1510 - accuracy: 0.2809 - val_loss: 2.0876 - val_accuracy: 0.3398\n",
            "Epoch 3/10\n",
            "48000/48000 [==============================] - 4s 78us/step - loss: 2.0064 - accuracy: 0.3480 - val_loss: 1.9298 - val_accuracy: 0.3694\n",
            "Epoch 4/10\n",
            "48000/48000 [==============================] - 4s 81us/step - loss: 1.8777 - accuracy: 0.3887 - val_loss: 1.8141 - val_accuracy: 0.3886\n",
            "Epoch 5/10\n",
            "48000/48000 [==============================] - 4s 79us/step - loss: 1.7720 - accuracy: 0.4164 - val_loss: 1.7190 - val_accuracy: 0.4333\n",
            "Epoch 6/10\n",
            "48000/48000 [==============================] - 4s 78us/step - loss: 1.6877 - accuracy: 0.4410 - val_loss: 1.6445 - val_accuracy: 0.4620\n",
            "Epoch 7/10\n",
            "48000/48000 [==============================] - 4s 76us/step - loss: 1.6198 - accuracy: 0.4656 - val_loss: 1.5848 - val_accuracy: 0.4717\n",
            "Epoch 8/10\n",
            "48000/48000 [==============================] - 4s 75us/step - loss: 1.5641 - accuracy: 0.4837 - val_loss: 1.5345 - val_accuracy: 0.4874\n",
            "Epoch 9/10\n",
            "48000/48000 [==============================] - 4s 76us/step - loss: 1.5160 - accuracy: 0.4975 - val_loss: 1.4893 - val_accuracy: 0.5041\n",
            "Epoch 10/10\n",
            "48000/48000 [==============================] - 4s 75us/step - loss: 1.4733 - accuracy: 0.5112 - val_loss: 1.4491 - val_accuracy: 0.5157\n",
            "10000/10000 [==============================] - 1s 101us/step\n",
            "Model: 5 added. Resulting score: 0.5189999938011169\n",
            "Train model 6\n",
            "Weight init method: Glorot Normal \n",
            "Train on 48000 samples, validate on 12000 samples\n",
            "Epoch 1/10\n",
            "48000/48000 [==============================] - 4s 81us/step - loss: 2.2523 - accuracy: 0.1727 - val_loss: 2.2519 - val_accuracy: 0.2593\n",
            "Epoch 2/10\n",
            "48000/48000 [==============================] - 4s 74us/step - loss: 2.1050 - accuracy: 0.3288 - val_loss: 2.0359 - val_accuracy: 0.3338\n",
            "Epoch 3/10\n",
            "48000/48000 [==============================] - 4s 76us/step - loss: 1.9643 - accuracy: 0.3623 - val_loss: 1.8936 - val_accuracy: 0.3920\n",
            "Epoch 4/10\n",
            "48000/48000 [==============================] - 4s 77us/step - loss: 1.8506 - accuracy: 0.4058 - val_loss: 1.7925 - val_accuracy: 0.4166\n",
            "Epoch 5/10\n",
            "48000/48000 [==============================] - 4s 76us/step - loss: 1.7584 - accuracy: 0.4304 - val_loss: 1.7095 - val_accuracy: 0.4356\n",
            "Epoch 6/10\n",
            "48000/48000 [==============================] - 4s 76us/step - loss: 1.6811 - accuracy: 0.4510 - val_loss: 1.6422 - val_accuracy: 0.4613\n",
            "Epoch 7/10\n",
            "48000/48000 [==============================] - 4s 76us/step - loss: 1.6161 - accuracy: 0.4709 - val_loss: 1.5804 - val_accuracy: 0.4841\n",
            "Epoch 8/10\n",
            "48000/48000 [==============================] - 4s 78us/step - loss: 1.5601 - accuracy: 0.4877 - val_loss: 1.5280 - val_accuracy: 0.5025\n",
            "Epoch 9/10\n",
            "48000/48000 [==============================] - 4s 76us/step - loss: 1.5099 - accuracy: 0.5033 - val_loss: 1.4812 - val_accuracy: 0.5238\n",
            "Epoch 10/10\n",
            "48000/48000 [==============================] - 4s 75us/step - loss: 1.4664 - accuracy: 0.5168 - val_loss: 1.4391 - val_accuracy: 0.5188\n",
            "10000/10000 [==============================] - 1s 91us/step\n",
            "Model: 6 added. Resulting score: 0.5224999785423279\n",
            "Train model 7\n",
            "Weight init method: Glorot Uniform \n",
            "Train on 48000 samples, validate on 12000 samples\n",
            "Epoch 1/10\n",
            "48000/48000 [==============================] - 4s 84us/step - loss: 2.2758 - accuracy: 0.1528 - val_loss: 2.2686 - val_accuracy: 0.2033\n",
            "Epoch 2/10\n",
            "48000/48000 [==============================] - 4s 75us/step - loss: 2.1708 - accuracy: 0.2976 - val_loss: 2.1253 - val_accuracy: 0.2977\n",
            "Epoch 3/10\n",
            "48000/48000 [==============================] - 4s 75us/step - loss: 2.0470 - accuracy: 0.3344 - val_loss: 1.9715 - val_accuracy: 0.3553\n",
            "Epoch 4/10\n",
            "48000/48000 [==============================] - 4s 74us/step - loss: 1.9122 - accuracy: 0.3740 - val_loss: 1.8393 - val_accuracy: 0.3805\n",
            "Epoch 5/10\n",
            "48000/48000 [==============================] - 4s 76us/step - loss: 1.7942 - accuracy: 0.4040 - val_loss: 1.7349 - val_accuracy: 0.4132\n",
            "Epoch 6/10\n",
            "48000/48000 [==============================] - 4s 74us/step - loss: 1.7006 - accuracy: 0.4346 - val_loss: 1.6524 - val_accuracy: 0.4400\n",
            "Epoch 7/10\n",
            "48000/48000 [==============================] - 4s 76us/step - loss: 1.6270 - accuracy: 0.4561 - val_loss: 1.5872 - val_accuracy: 0.4645\n",
            "Epoch 8/10\n",
            "48000/48000 [==============================] - 4s 76us/step - loss: 1.5658 - accuracy: 0.4760 - val_loss: 1.5337 - val_accuracy: 0.4749\n",
            "Epoch 9/10\n",
            "48000/48000 [==============================] - 4s 77us/step - loss: 1.5157 - accuracy: 0.4893 - val_loss: 1.4840 - val_accuracy: 0.5007\n",
            "Epoch 10/10\n",
            "48000/48000 [==============================] - 4s 76us/step - loss: 1.4730 - accuracy: 0.5037 - val_loss: 1.4451 - val_accuracy: 0.5177\n",
            "10000/10000 [==============================] - 1s 94us/step\n",
            "Model: 7 added. Resulting score: 0.5231000185012817\n"
          ],
          "name": "stdout"
        }
      ]
    },
    {
      "cell_type": "markdown",
      "metadata": {
        "colab_type": "text",
        "id": "fGT6jV-hcLbJ"
      },
      "source": [
        "# Results"
      ]
    },
    {
      "cell_type": "markdown",
      "metadata": {
        "colab_type": "text",
        "id": "CurcmjMCcrJI"
      },
      "source": [
        "# Accuracy"
      ]
    },
    {
      "cell_type": "code",
      "metadata": {
        "colab_type": "code",
        "id": "yvZLQyb5cg7R",
        "outputId": "d101ac90-a53b-40c7-8cc8-fb275c6cddd3",
        "colab": {
          "base_uri": "https://localhost:8080/",
          "height": 297
        }
      },
      "source": [
        "accuracy_df = pd.DataFrame(accuracies, columns=[\"Accuracy\"])\n",
        "accuracy_df[\"weight_init_method\"] = initializer\n",
        "display(accuracy_df)\n",
        "\n",
        "accuracy_df.to_csv(PATH + MODEL_NAME + \"_accuracy.csv\")"
      ],
      "execution_count": 11,
      "outputs": [
        {
          "output_type": "display_data",
          "data": {
            "text/html": [
              "<div>\n",
              "<style scoped>\n",
              "    .dataframe tbody tr th:only-of-type {\n",
              "        vertical-align: middle;\n",
              "    }\n",
              "\n",
              "    .dataframe tbody tr th {\n",
              "        vertical-align: top;\n",
              "    }\n",
              "\n",
              "    .dataframe thead th {\n",
              "        text-align: right;\n",
              "    }\n",
              "</style>\n",
              "<table border=\"1\" class=\"dataframe\">\n",
              "  <thead>\n",
              "    <tr style=\"text-align: right;\">\n",
              "      <th></th>\n",
              "      <th>Accuracy</th>\n",
              "      <th>weight_init_method</th>\n",
              "    </tr>\n",
              "  </thead>\n",
              "  <tbody>\n",
              "    <tr>\n",
              "      <th>0</th>\n",
              "      <td>0.5010</td>\n",
              "      <td>Zero</td>\n",
              "    </tr>\n",
              "    <tr>\n",
              "      <th>1</th>\n",
              "      <td>0.5143</td>\n",
              "      <td>Ones</td>\n",
              "    </tr>\n",
              "    <tr>\n",
              "      <th>2</th>\n",
              "      <td>0.5014</td>\n",
              "      <td>Random Normal</td>\n",
              "    </tr>\n",
              "    <tr>\n",
              "      <th>3</th>\n",
              "      <td>0.5541</td>\n",
              "      <td>Random Uniform</td>\n",
              "    </tr>\n",
              "    <tr>\n",
              "      <th>4</th>\n",
              "      <td>0.5360</td>\n",
              "      <td>Identity</td>\n",
              "    </tr>\n",
              "    <tr>\n",
              "      <th>5</th>\n",
              "      <td>0.5190</td>\n",
              "      <td>Orthogonal</td>\n",
              "    </tr>\n",
              "    <tr>\n",
              "      <th>6</th>\n",
              "      <td>0.5225</td>\n",
              "      <td>Glorot Normal</td>\n",
              "    </tr>\n",
              "    <tr>\n",
              "      <th>7</th>\n",
              "      <td>0.5231</td>\n",
              "      <td>Glorot Uniform</td>\n",
              "    </tr>\n",
              "  </tbody>\n",
              "</table>\n",
              "</div>"
            ],
            "text/plain": [
              "   Accuracy weight_init_method\n",
              "0    0.5010               Zero\n",
              "1    0.5143               Ones\n",
              "2    0.5014      Random Normal\n",
              "3    0.5541     Random Uniform\n",
              "4    0.5360           Identity\n",
              "5    0.5190         Orthogonal\n",
              "6    0.5225      Glorot Normal\n",
              "7    0.5231     Glorot Uniform"
            ]
          },
          "metadata": {
            "tags": []
          }
        }
      ]
    },
    {
      "cell_type": "code",
      "metadata": {
        "colab_type": "code",
        "id": "sXq8Uj3lenzH",
        "outputId": "49a27c49-4147-4d11-d371-4b77ec3e3926",
        "colab": {
          "base_uri": "https://localhost:8080/",
          "height": 354
        }
      },
      "source": [
        "import matplotlib.pyplot as plt\n",
        "\n",
        "accuracy_df.plot(x=\"weight_init_method\", y=\"Accuracy\",rot = 90)\n",
        "\n",
        "plt.show()\n"
      ],
      "execution_count": 12,
      "outputs": [
        {
          "output_type": "display_data",
          "data": {
            "image/png": "[encoded data removed]",
            "text/plain": [
              "<Figure size 432x288 with 1 Axes>"
            ]
          },
          "metadata": {
            "tags": [],
            "needs_background": "light"
          }
        }
      ]
    },
    {
      "cell_type": "code",
      "metadata": {
        "id": "O37chbRgZDXF",
        "colab_type": "code",
        "outputId": "b81772c1-156f-427c-8c9d-88da243d211b",
        "colab": {
          "base_uri": "https://localhost:8080/",
          "height": 34
        }
      },
      "source": [
        "classified = []\n",
        "\n",
        "for prediction in tqdm(predictions):\n",
        "    classified.append([1 if i==j else 0 for i,j in zip(prediction,y_test)])"
      ],
      "execution_count": 13,
      "outputs": [
        {
          "output_type": "stream",
          "text": [
            "100%|██████████| 8/8 [00:00<00:00, 230.88it/s]\n"
          ],
          "name": "stderr"
        }
      ]
    },
    {
      "cell_type": "markdown",
      "metadata": {
        "colab_type": "text",
        "id": "NMfc-h8xAYQu"
      },
      "source": [
        "## Correlation between models"
      ]
    },
    {
      "cell_type": "code",
      "metadata": {
        "colab_type": "code",
        "id": "FAky42lMV102",
        "outputId": "4e51efb0-e2fc-4e5e-a67c-2f6b09f1829f",
        "colab": {
          "base_uri": "https://localhost:8080/",
          "height": 314
        }
      },
      "source": [
        "correlation_matrix = []\n",
        "\n",
        "for ix, x in enumerate(classified):\n",
        "  row = []\n",
        "  \n",
        "  for iy, y in enumerate(classified):\n",
        "    if (ix == iy):\n",
        "      row.append(np.nan)\n",
        "    else:\n",
        "      row.append(pearsonr(x,y)[0])\n",
        "\n",
        "  correlation_matrix.append(row)\n",
        "\n",
        "correlation_matrix = np.array(correlation_matrix)\n",
        "correlation_matrix_df = pd.DataFrame(correlation_matrix)\n",
        "correlation_matrix_df.columns = initializer\n",
        "correlation_matrix_df.index = initializer\n",
        "display(correlation_matrix_df)\n",
        "print(\"Average correlation: \" + str(np.nanmean(correlation_matrix.flatten())))"
      ],
      "execution_count": 14,
      "outputs": [
        {
          "output_type": "display_data",
          "data": {
            "text/html": [
              "<div>\n",
              "<style scoped>\n",
              "    .dataframe tbody tr th:only-of-type {\n",
              "        vertical-align: middle;\n",
              "    }\n",
              "\n",
              "    .dataframe tbody tr th {\n",
              "        vertical-align: top;\n",
              "    }\n",
              "\n",
              "    .dataframe thead th {\n",
              "        text-align: right;\n",
              "    }\n",
              "</style>\n",
              "<table border=\"1\" class=\"dataframe\">\n",
              "  <thead>\n",
              "    <tr style=\"text-align: right;\">\n",
              "      <th></th>\n",
              "      <th>Zero</th>\n",
              "      <th>Ones</th>\n",
              "      <th>Random Normal</th>\n",
              "      <th>Random Uniform</th>\n",
              "      <th>Identity</th>\n",
              "      <th>Orthogonal</th>\n",
              "      <th>Glorot Normal</th>\n",
              "      <th>Glorot Uniform</th>\n",
              "    </tr>\n",
              "  </thead>\n",
              "  <tbody>\n",
              "    <tr>\n",
              "      <th>Zero</th>\n",
              "      <td>NaN</td>\n",
              "      <td>0.656012</td>\n",
              "      <td>0.695999</td>\n",
              "      <td>0.628877</td>\n",
              "      <td>0.670397</td>\n",
              "      <td>0.662003</td>\n",
              "      <td>0.587106</td>\n",
              "      <td>0.606757</td>\n",
              "    </tr>\n",
              "    <tr>\n",
              "      <th>Ones</th>\n",
              "      <td>0.656012</td>\n",
              "      <td>NaN</td>\n",
              "      <td>0.595566</td>\n",
              "      <td>0.595041</td>\n",
              "      <td>0.663734</td>\n",
              "      <td>0.665866</td>\n",
              "      <td>0.583943</td>\n",
              "      <td>0.611582</td>\n",
              "    </tr>\n",
              "    <tr>\n",
              "      <th>Random Normal</th>\n",
              "      <td>0.695999</td>\n",
              "      <td>0.595566</td>\n",
              "      <td>NaN</td>\n",
              "      <td>0.598614</td>\n",
              "      <td>0.628632</td>\n",
              "      <td>0.633554</td>\n",
              "      <td>0.580264</td>\n",
              "      <td>0.593106</td>\n",
              "    </tr>\n",
              "    <tr>\n",
              "      <th>Random Uniform</th>\n",
              "      <td>0.628877</td>\n",
              "      <td>0.595041</td>\n",
              "      <td>0.598614</td>\n",
              "      <td>NaN</td>\n",
              "      <td>0.663618</td>\n",
              "      <td>0.631046</td>\n",
              "      <td>0.586767</td>\n",
              "      <td>0.614461</td>\n",
              "    </tr>\n",
              "    <tr>\n",
              "      <th>Identity</th>\n",
              "      <td>0.670397</td>\n",
              "      <td>0.663734</td>\n",
              "      <td>0.628632</td>\n",
              "      <td>0.663618</td>\n",
              "      <td>NaN</td>\n",
              "      <td>0.674300</td>\n",
              "      <td>0.679811</td>\n",
              "      <td>0.638812</td>\n",
              "    </tr>\n",
              "    <tr>\n",
              "      <th>Orthogonal</th>\n",
              "      <td>0.662003</td>\n",
              "      <td>0.665866</td>\n",
              "      <td>0.633554</td>\n",
              "      <td>0.631046</td>\n",
              "      <td>0.674300</td>\n",
              "      <td>NaN</td>\n",
              "      <td>0.595122</td>\n",
              "      <td>0.638787</td>\n",
              "    </tr>\n",
              "    <tr>\n",
              "      <th>Glorot Normal</th>\n",
              "      <td>0.587106</td>\n",
              "      <td>0.583943</td>\n",
              "      <td>0.580264</td>\n",
              "      <td>0.586767</td>\n",
              "      <td>0.679811</td>\n",
              "      <td>0.595122</td>\n",
              "      <td>NaN</td>\n",
              "      <td>0.611994</td>\n",
              "    </tr>\n",
              "    <tr>\n",
              "      <th>Glorot Uniform</th>\n",
              "      <td>0.606757</td>\n",
              "      <td>0.611582</td>\n",
              "      <td>0.593106</td>\n",
              "      <td>0.614461</td>\n",
              "      <td>0.638812</td>\n",
              "      <td>0.638787</td>\n",
              "      <td>0.611994</td>\n",
              "      <td>NaN</td>\n",
              "    </tr>\n",
              "  </tbody>\n",
              "</table>\n",
              "</div>"
            ],
            "text/plain": [
              "                    Zero      Ones  ...  Glorot Normal  Glorot Uniform\n",
              "Zero                 NaN  0.656012  ...       0.587106        0.606757\n",
              "Ones            0.656012       NaN  ...       0.583943        0.611582\n",
              "Random Normal   0.695999  0.595566  ...       0.580264        0.593106\n",
              "Random Uniform  0.628877  0.595041  ...       0.586767        0.614461\n",
              "Identity        0.670397  0.663734  ...       0.679811        0.638812\n",
              "Orthogonal      0.662003  0.665866  ...       0.595122        0.638787\n",
              "Glorot Normal   0.587106  0.583943  ...            NaN        0.611994\n",
              "Glorot Uniform  0.606757  0.611582  ...       0.611994             NaN\n",
              "\n",
              "[8 rows x 8 columns]"
            ]
          },
          "metadata": {
            "tags": []
          }
        },
        {
          "output_type": "stream",
          "text": [
            "Average correlation: 0.6282775540596097\n"
          ],
          "name": "stdout"
        }
      ]
    }
  ]
}