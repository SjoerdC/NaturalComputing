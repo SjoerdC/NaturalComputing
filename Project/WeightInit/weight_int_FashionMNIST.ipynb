{
  "nbformat": 4,
  "nbformat_minor": 0,
  "metadata": {
    "accelerator": "GPU",
    "colab": {
      "name": "weight_int_FashionMNIST.ipynb",
      "provenance": [],
      "collapsed_sections": [],
      "toc_visible": true
    },
    "kernelspec": {
      "display_name": "Python 3",
      "language": "python",
      "name": "python3"
    },
    "language_info": {
      "codemirror_mode": {
        "name": "ipython",
        "version": 3
      },
      "file_extension": ".py",
      "mimetype": "text/x-python",
      "name": "python",
      "nbconvert_exporter": "python",
      "pygments_lexer": "ipython3",
      "version": "3.7.4"
    }
  },
  "cells": [
    {
      "cell_type": "code",
      "metadata": {
        "colab_type": "code",
        "id": "fde69AMuOpox",
        "outputId": "d122bff6-af31-4feb-c397-3cf5ce1ff9bb",
        "colab": {
          "base_uri": "https://localhost:8080/",
          "height": 34
        }
      },
      "source": [
        "import keras\n",
        "import cv2\n",
        "import numpy as np\n",
        "import pandas as pd\n",
        "import tensorflow as tf\n",
        "from tensorflow.keras import initializers\n",
        "from itertools import count\n",
        "from sklearn.metrics import accuracy_score\n",
        "from keras.datasets import fashion_mnist\n",
        "from keras.applications.vgg16 import VGG16\n",
        "from keras import layers\n",
        "from keras.layers import Dense, Dropout, Flatten, Activation, Input, Conv2D, MaxPooling2D, BatchNormalization, GlobalAveragePooling2D\n",
        "from keras.models import Model\n",
        "from sklearn.model_selection import train_test_split\n",
        "from keras.callbacks import EarlyStopping\n",
        "from scipy.stats import pearsonr\n",
        "from tqdm import tqdm"
      ],
      "execution_count": 3,
      "outputs": [
        {
          "output_type": "stream",
          "text": [
            "Using TensorFlow backend.\n"
          ],
          "name": "stderr"
        }
      ]
    },
    {
      "cell_type": "code",
      "metadata": {
        "colab_type": "code",
        "id": "qYrab7qpOppj",
        "colab": {}
      },
      "source": [
        "BATCH_SIZE = 128\n",
        "EPOCHS = 10\n",
        "IMAGE_SIZE = 28\n",
        "NUM_CLASSES = 10\n",
        "NUM_CHANNELS = 1\n",
        "MODEL_ADDITION_DELTA = 0.01\n",
        "MODEL_ADDITION_PATIENCE = 3\n",
        "MODEL_NAME = \"FashionMNIST_weight_init\"\n",
        "PATH = \"\""
      ],
      "execution_count": 0,
      "outputs": []
    },
    {
      "cell_type": "markdown",
      "metadata": {
        "colab_type": "text",
        "id": "R9M4_-IaBOsn"
      },
      "source": [
        "# Set seeds"
      ]
    },
    {
      "cell_type": "code",
      "metadata": {
        "colab_type": "code",
        "id": "7n9nJGd_BQ-r",
        "colab": {}
      },
      "source": [
        "np.random.seed(1)\n",
        "tf.random.set_seed(1)"
      ],
      "execution_count": 0,
      "outputs": []
    },
    {
      "cell_type": "markdown",
      "metadata": {
        "colab_type": "text",
        "id": "g8QvEt97vF52"
      },
      "source": [
        "# Preprocess"
      ]
    },
    {
      "cell_type": "code",
      "metadata": {
        "colab_type": "code",
        "id": "JtJIUBsFKeRO",
        "colab": {}
      },
      "source": [
        "def preprocess(imgs):\n",
        "    \n",
        "    return imgs.reshape(imgs.shape[0], IMAGE_SIZE, IMAGE_SIZE, 1)"
      ],
      "execution_count": 0,
      "outputs": []
    },
    {
      "cell_type": "code",
      "metadata": {
        "colab_type": "code",
        "id": "XypdmBJROpp9",
        "outputId": "524eb663-f26a-4333-e88c-6afe88e722fe",
        "colab": {
          "base_uri": "https://localhost:8080/",
          "height": 204
        }
      },
      "source": [
        "(x_train, y_train), (x_test, y_test) = fashion_mnist.load_data()\n",
        "\n",
        "x_train = preprocess(x_train)\n",
        "x_test = preprocess(x_test)\n",
        "\n",
        "print('x_train shape:', x_train.shape)\n",
        "print(x_train.shape[0], 'train samples')\n",
        "print(x_test.shape[0], 'test samples')"
      ],
      "execution_count": 7,
      "outputs": [
        {
          "output_type": "stream",
          "text": [
            "Downloading data from http://fashion-mnist.s3-website.eu-central-1.amazonaws.com/train-labels-idx1-ubyte.gz\n",
            "32768/29515 [=================================] - 0s 8us/step\n",
            "Downloading data from http://fashion-mnist.s3-website.eu-central-1.amazonaws.com/train-images-idx3-ubyte.gz\n",
            "26427392/26421880 [==============================] - 4s 0us/step\n",
            "Downloading data from http://fashion-mnist.s3-website.eu-central-1.amazonaws.com/t10k-labels-idx1-ubyte.gz\n",
            "8192/5148 [===============================================] - 0s 0us/step\n",
            "Downloading data from http://fashion-mnist.s3-website.eu-central-1.amazonaws.com/t10k-images-idx3-ubyte.gz\n",
            "4423680/4422102 [==============================] - 2s 0us/step\n",
            "x_train shape: (60000, 28, 28, 1)\n",
            "60000 train samples\n",
            "10000 test samples\n"
          ],
          "name": "stdout"
        }
      ]
    },
    {
      "cell_type": "code",
      "metadata": {
        "colab_type": "code",
        "id": "mo8yHyg-Opqo",
        "colab": {}
      },
      "source": [
        "# Convert class vectors to binary class matrices.\n",
        "y_train = keras.utils.to_categorical(y_train, NUM_CLASSES)\n",
        "y_testc = keras.utils.to_categorical(y_test, NUM_CLASSES)"
      ],
      "execution_count": 0,
      "outputs": []
    },
    {
      "cell_type": "code",
      "metadata": {
        "colab_type": "code",
        "id": "a4SYRuKZaIwb",
        "colab": {}
      },
      "source": [
        "x_train = x_train.astype('float32')\n",
        "x_test = x_test.astype('float32')\n",
        "x_train /= 255\n",
        "x_test /= 255"
      ],
      "execution_count": 0,
      "outputs": []
    },
    {
      "cell_type": "code",
      "metadata": {
        "colab_type": "code",
        "id": "vBci5ba9hiaQ",
        "colab": {}
      },
      "source": [
        "# Split the data\n",
        "x_train, x_val, y_train, y_val = train_test_split(x_train, y_train, test_size=0.20, shuffle= True)"
      ],
      "execution_count": 0,
      "outputs": []
    },
    {
      "cell_type": "markdown",
      "metadata": {
        "colab_type": "text",
        "id": "gIBGIrlkvOt0"
      },
      "source": [
        "# Model"
      ]
    },
    {
      "cell_type": "code",
      "metadata": {
        "colab_type": "code",
        "id": "zLWph6_aOpr2",
        "colab": {}
      },
      "source": [
        "def FashionMNISTmodel(imsize, num_classes, num_channels):\n",
        "    inputs = Input((imsize,imsize,num_channels))\n",
        "    x = Conv2D(filters = 32, kernel_size = (3,3), activation = 'relu', strides = 2)(inputs)\n",
        "    x = BatchNormalization()(x)\n",
        "    x = MaxPooling2D(pool_size = (2,2), strides=(2,2), padding = \"same\")(x)\n",
        "    x = Conv2D(filters=32, kernel_size=(1,1), activation='relu', padding='valid')(x)\n",
        "    x = Conv2D(filters = 10, kernel_size = (1,1),strides = (1,1), padding = 'valid')(x)\n",
        "    x = GlobalAveragePooling2D()(x)\n",
        "    outputs = Activation('softmax')(x)\n",
        "    \n",
        "    model = Model(inputs=inputs, outputs=outputs)\n",
        "    \n",
        "    optimizer = keras.optimizers.Adam(learning_rate = 1e-04)\n",
        "\n",
        "    model.compile(loss='categorical_crossentropy',\n",
        "                      optimizer=optimizer,\n",
        "                      metrics=['accuracy'])\n",
        "    return model"
      ],
      "execution_count": 0,
      "outputs": []
    },
    {
      "cell_type": "markdown",
      "metadata": {
        "colab_type": "text",
        "id": "TVqdcrD_vQ-Q"
      },
      "source": [
        "# Train"
      ]
    },
    {
      "cell_type": "code",
      "metadata": {
        "colab_type": "code",
        "id": "HjvZqLBJOpsw",
        "outputId": "0f129390-f247-4a46-902c-e4c271d5a9bc",
        "colab": {
          "base_uri": "https://localhost:8080/",
          "height": 1000
        }
      },
      "source": [
        "models = []\n",
        "accuracies = []\n",
        "predictions = []\n",
        "initializer = [\"Zero\",\"Ones\",\"Random Normal\",\"Random Uniform\",\"Identity\",\"Orthogonal\",\"Glorot Normal\",\"Glorot Uniform\"]\n",
        "for i in range(len(initializer)):\n",
        "\n",
        "    print(f\"Train model {i}\")\n",
        "    print(f\"Weight init method: {initializer[i]} \")\n",
        "    model = FashionMNISTmodel(IMAGE_SIZE,NUM_CLASSES,NUM_CHANNELS)\n",
        "    \n",
        "    for layer in model.layers: \n",
        "        if hasattr(layer, 'kernel_initializer'):\n",
        "            if(initializer[i] == \"Zero\"):\n",
        "                layer.kernel_initializer = initializers.Zeros()\n",
        "            elif(initializer[i] == \"Ones\"):\n",
        "                layer.kernel_initializer = initializers.Ones()\n",
        "            elif(initializer[i] == \"Random Normal\"):\n",
        "                layer.kernel_initializer = initializers.RandomNormal()\n",
        "            elif(initializer[i] == \"Random Unifrom\"):\n",
        "                layer.kernel_initializer = initializers.RandomUniform()\n",
        "            elif(initializer[i] == \"Identity\"):\n",
        "                layer.kernel_initializer = initializers.Identity()\n",
        "            elif(initializer[i] == \"Orthogonal\"):\n",
        "                layer.kernel_initializer = initializers.Orthogonal()\n",
        "            elif(initializer[i] == \"Glorot Normal\"):\n",
        "                layer.kernel_initializer = initializers.GlorotNormal()\n",
        "            elif(initializer[i] == \"Glorot Unifrom\"):\n",
        "                layer.kernel_initializer = initializers.GlorotUnifrom()\n",
        "          \n",
        "    es = EarlyStopping(monitor='val_categorical_accuracy', mode='max', min_delta=0.01, patience=3)\n",
        "    model.fit(x_train,y_train,\n",
        "              batch_size = BATCH_SIZE,\n",
        "              epochs = EPOCHS,\n",
        "              validation_data = (x_val,y_val),\n",
        "              shuffle = True,\n",
        "              callbacks=[es])\n",
        "    models.append(model)\n",
        "    y_prob = model.predict(x_test) \n",
        "    predictions.append(y_prob.argmax(axis=-1))\n",
        "    acc = model.evaluate(x_test,y_testc)[1]\n",
        "    accuracies.append(acc)\n",
        "\n",
        "    print(f\"Model: {i} added. Resulting score: {acc}\")\n"
      ],
      "execution_count": 12,
      "outputs": [
        {
          "output_type": "stream",
          "text": [
            "Train model 0\n",
            "Weight init method: Zero \n",
            "Train on 48000 samples, validate on 12000 samples\n",
            "Epoch 1/10\n",
            "48000/48000 [==============================] - 10s 200us/step - loss: 2.1487 - accuracy: 0.2455 - val_loss: 2.1678 - val_accuracy: 0.2932\n",
            "Epoch 2/10\n",
            " 2560/48000 [>.............................] - ETA: 3s - loss: 1.9955 - accuracy: 0.3562"
          ],
          "name": "stdout"
        },
        {
          "output_type": "stream",
          "text": [
            "/usr/local/lib/python3.6/dist-packages/keras/callbacks/callbacks.py:846: RuntimeWarning: Early stopping conditioned on metric `val_categorical_accuracy` which is not available. Available metrics are: val_loss,val_accuracy,loss,accuracy\n",
            "  (self.monitor, ','.join(list(logs.keys()))), RuntimeWarning\n"
          ],
          "name": "stderr"
        },
        {
          "output_type": "stream",
          "text": [
            "48000/48000 [==============================] - 4s 76us/step - loss: 1.8997 - accuracy: 0.3767 - val_loss: 1.8018 - val_accuracy: 0.4243\n",
            "Epoch 3/10\n",
            "48000/48000 [==============================] - 4s 75us/step - loss: 1.7050 - accuracy: 0.4332 - val_loss: 1.6045 - val_accuracy: 0.4567\n",
            "Epoch 4/10\n",
            "48000/48000 [==============================] - 4s 76us/step - loss: 1.5538 - accuracy: 0.4789 - val_loss: 1.4686 - val_accuracy: 0.5033\n",
            "Epoch 5/10\n",
            "48000/48000 [==============================] - 4s 75us/step - loss: 1.4304 - accuracy: 0.5273 - val_loss: 1.3604 - val_accuracy: 0.5487\n",
            "Epoch 6/10\n",
            "48000/48000 [==============================] - 4s 76us/step - loss: 1.3393 - accuracy: 0.5654 - val_loss: 1.2798 - val_accuracy: 0.5813\n",
            "Epoch 7/10\n",
            "48000/48000 [==============================] - 4s 78us/step - loss: 1.2675 - accuracy: 0.5878 - val_loss: 1.2177 - val_accuracy: 0.5993\n",
            "Epoch 8/10\n",
            "48000/48000 [==============================] - 4s 75us/step - loss: 1.2105 - accuracy: 0.6039 - val_loss: 1.1672 - val_accuracy: 0.6132\n",
            "Epoch 9/10\n",
            "48000/48000 [==============================] - 4s 76us/step - loss: 1.1631 - accuracy: 0.6165 - val_loss: 1.1236 - val_accuracy: 0.6208\n",
            "Epoch 10/10\n",
            "48000/48000 [==============================] - 4s 75us/step - loss: 1.1241 - accuracy: 0.6253 - val_loss: 1.0853 - val_accuracy: 0.6338\n",
            "10000/10000 [==============================] - 1s 94us/step\n",
            "Model: 0 added. Resulting score: 0.6320000290870667\n",
            "Train model 1\n",
            "Weight init method: Ones \n",
            "Train on 48000 samples, validate on 12000 samples\n",
            "Epoch 1/10\n",
            "48000/48000 [==============================] - 4s 82us/step - loss: 2.1931 - accuracy: 0.2769 - val_loss: 2.1919 - val_accuracy: 0.2992\n",
            "Epoch 2/10\n",
            "48000/48000 [==============================] - 4s 75us/step - loss: 1.9080 - accuracy: 0.3816 - val_loss: 1.7858 - val_accuracy: 0.4139\n",
            "Epoch 3/10\n",
            "48000/48000 [==============================] - 4s 76us/step - loss: 1.6705 - accuracy: 0.4514 - val_loss: 1.5534 - val_accuracy: 0.5038\n",
            "Epoch 4/10\n",
            "48000/48000 [==============================] - 4s 75us/step - loss: 1.5054 - accuracy: 0.5193 - val_loss: 1.4212 - val_accuracy: 0.5527\n",
            "Epoch 5/10\n",
            "48000/48000 [==============================] - 4s 76us/step - loss: 1.3921 - accuracy: 0.5583 - val_loss: 1.3261 - val_accuracy: 0.5872\n",
            "Epoch 6/10\n",
            "48000/48000 [==============================] - 4s 75us/step - loss: 1.3069 - accuracy: 0.5796 - val_loss: 1.2516 - val_accuracy: 0.5951\n",
            "Epoch 7/10\n",
            "48000/48000 [==============================] - 4s 75us/step - loss: 1.2409 - accuracy: 0.5958 - val_loss: 1.1933 - val_accuracy: 0.6010\n",
            "Epoch 8/10\n",
            "48000/48000 [==============================] - 4s 74us/step - loss: 1.1877 - accuracy: 0.6061 - val_loss: 1.1451 - val_accuracy: 0.6220\n",
            "Epoch 9/10\n",
            "48000/48000 [==============================] - 4s 75us/step - loss: 1.1426 - accuracy: 0.6175 - val_loss: 1.1040 - val_accuracy: 0.6315\n",
            "Epoch 10/10\n",
            "48000/48000 [==============================] - 4s 74us/step - loss: 1.1044 - accuracy: 0.6291 - val_loss: 1.0685 - val_accuracy: 0.6367\n",
            "10000/10000 [==============================] - 1s 90us/step\n",
            "Model: 1 added. Resulting score: 0.6322000026702881\n",
            "Train model 2\n",
            "Weight init method: Random Normal \n",
            "Train on 48000 samples, validate on 12000 samples\n",
            "Epoch 1/10\n",
            "48000/48000 [==============================] - 4s 81us/step - loss: 2.2546 - accuracy: 0.2020 - val_loss: 2.2324 - val_accuracy: 0.3386\n",
            "Epoch 2/10\n",
            "48000/48000 [==============================] - 4s 75us/step - loss: 1.9716 - accuracy: 0.3613 - val_loss: 1.8445 - val_accuracy: 0.4210\n",
            "Epoch 3/10\n",
            "48000/48000 [==============================] - 4s 75us/step - loss: 1.7264 - accuracy: 0.4407 - val_loss: 1.6002 - val_accuracy: 0.4883\n",
            "Epoch 4/10\n",
            "48000/48000 [==============================] - 4s 75us/step - loss: 1.5381 - accuracy: 0.5053 - val_loss: 1.4414 - val_accuracy: 0.5471\n",
            "Epoch 5/10\n",
            "48000/48000 [==============================] - 4s 76us/step - loss: 1.4012 - accuracy: 0.5479 - val_loss: 1.3263 - val_accuracy: 0.5706\n",
            "Epoch 6/10\n",
            "48000/48000 [==============================] - 4s 74us/step - loss: 1.3038 - accuracy: 0.5787 - val_loss: 1.2442 - val_accuracy: 0.5936\n",
            "Epoch 7/10\n",
            "48000/48000 [==============================] - 4s 75us/step - loss: 1.2304 - accuracy: 0.6001 - val_loss: 1.1795 - val_accuracy: 0.6148\n",
            "Epoch 8/10\n",
            "48000/48000 [==============================] - 4s 75us/step - loss: 1.1712 - accuracy: 0.6182 - val_loss: 1.1273 - val_accuracy: 0.6248\n",
            "Epoch 9/10\n",
            "48000/48000 [==============================] - 4s 75us/step - loss: 1.1252 - accuracy: 0.6300 - val_loss: 1.0840 - val_accuracy: 0.6385\n",
            "Epoch 10/10\n",
            "48000/48000 [==============================] - 4s 75us/step - loss: 1.0864 - accuracy: 0.6415 - val_loss: 1.0487 - val_accuracy: 0.6488\n",
            "10000/10000 [==============================] - 1s 93us/step\n",
            "Model: 2 added. Resulting score: 0.6434999704360962\n",
            "Train model 3\n",
            "Weight init method: Random Uniform \n",
            "Train on 48000 samples, validate on 12000 samples\n",
            "Epoch 1/10\n",
            "48000/48000 [==============================] - 4s 80us/step - loss: 2.2184 - accuracy: 0.1978 - val_loss: 2.1861 - val_accuracy: 0.3121\n",
            "Epoch 2/10\n",
            "48000/48000 [==============================] - 4s 74us/step - loss: 1.9661 - accuracy: 0.3867 - val_loss: 1.8782 - val_accuracy: 0.3966\n",
            "Epoch 3/10\n",
            "48000/48000 [==============================] - 4s 74us/step - loss: 1.7567 - accuracy: 0.4290 - val_loss: 1.6417 - val_accuracy: 0.4612\n",
            "Epoch 4/10\n",
            "48000/48000 [==============================] - 4s 74us/step - loss: 1.5821 - accuracy: 0.4767 - val_loss: 1.4982 - val_accuracy: 0.4971\n",
            "Epoch 5/10\n",
            "48000/48000 [==============================] - 4s 74us/step - loss: 1.4553 - accuracy: 0.5176 - val_loss: 1.3901 - val_accuracy: 0.5454\n",
            "Epoch 6/10\n",
            "48000/48000 [==============================] - 4s 74us/step - loss: 1.3622 - accuracy: 0.5530 - val_loss: 1.3048 - val_accuracy: 0.5759\n",
            "Epoch 7/10\n",
            "48000/48000 [==============================] - 4s 74us/step - loss: 1.2901 - accuracy: 0.5758 - val_loss: 1.2445 - val_accuracy: 0.5852\n",
            "Epoch 8/10\n",
            "48000/48000 [==============================] - 4s 74us/step - loss: 1.2316 - accuracy: 0.5869 - val_loss: 1.1913 - val_accuracy: 0.6037\n",
            "Epoch 9/10\n",
            "48000/48000 [==============================] - 4s 74us/step - loss: 1.1842 - accuracy: 0.6020 - val_loss: 1.1437 - val_accuracy: 0.6115\n",
            "Epoch 10/10\n",
            "48000/48000 [==============================] - 4s 75us/step - loss: 1.1427 - accuracy: 0.6136 - val_loss: 1.1052 - val_accuracy: 0.6182\n",
            "10000/10000 [==============================] - 1s 94us/step\n",
            "Model: 3 added. Resulting score: 0.6162999868392944\n",
            "Train model 4\n",
            "Weight init method: Identity \n",
            "Train on 48000 samples, validate on 12000 samples\n",
            "Epoch 1/10\n",
            "48000/48000 [==============================] - 4s 80us/step - loss: 2.1713 - accuracy: 0.1981 - val_loss: 2.1876 - val_accuracy: 0.3062\n",
            "Epoch 2/10\n",
            "48000/48000 [==============================] - 4s 74us/step - loss: 1.8716 - accuracy: 0.4382 - val_loss: 1.7311 - val_accuracy: 0.4702\n",
            "Epoch 3/10\n",
            "48000/48000 [==============================] - 4s 74us/step - loss: 1.6188 - accuracy: 0.4941 - val_loss: 1.5069 - val_accuracy: 0.5230\n",
            "Epoch 4/10\n",
            "48000/48000 [==============================] - 4s 75us/step - loss: 1.4609 - accuracy: 0.5376 - val_loss: 1.3834 - val_accuracy: 0.5540\n",
            "Epoch 5/10\n",
            "48000/48000 [==============================] - 4s 74us/step - loss: 1.3521 - accuracy: 0.5683 - val_loss: 1.2899 - val_accuracy: 0.5849\n",
            "Epoch 6/10\n",
            "48000/48000 [==============================] - 4s 74us/step - loss: 1.2706 - accuracy: 0.5914 - val_loss: 1.2165 - val_accuracy: 0.6104\n",
            "Epoch 7/10\n",
            "48000/48000 [==============================] - 4s 75us/step - loss: 1.2045 - accuracy: 0.6115 - val_loss: 1.1584 - val_accuracy: 0.6252\n",
            "Epoch 8/10\n",
            "48000/48000 [==============================] - 4s 74us/step - loss: 1.1494 - accuracy: 0.6270 - val_loss: 1.1087 - val_accuracy: 0.6423\n",
            "Epoch 9/10\n",
            "48000/48000 [==============================] - 4s 75us/step - loss: 1.1032 - accuracy: 0.6425 - val_loss: 1.0636 - val_accuracy: 0.6515\n",
            "Epoch 10/10\n",
            "48000/48000 [==============================] - 4s 75us/step - loss: 1.0627 - accuracy: 0.6535 - val_loss: 1.0273 - val_accuracy: 0.6603\n",
            "10000/10000 [==============================] - 1s 92us/step\n",
            "Model: 4 added. Resulting score: 0.6553000211715698\n",
            "Train model 5\n",
            "Weight init method: Orthogonal \n",
            "Train on 48000 samples, validate on 12000 samples\n",
            "Epoch 1/10\n",
            "48000/48000 [==============================] - 4s 80us/step - loss: 2.2058 - accuracy: 0.2379 - val_loss: 2.2153 - val_accuracy: 0.3117\n",
            "Epoch 2/10\n",
            "48000/48000 [==============================] - 4s 75us/step - loss: 1.9560 - accuracy: 0.3907 - val_loss: 1.8568 - val_accuracy: 0.4233\n",
            "Epoch 3/10\n",
            "48000/48000 [==============================] - 4s 77us/step - loss: 1.7219 - accuracy: 0.4534 - val_loss: 1.6050 - val_accuracy: 0.4737\n",
            "Epoch 4/10\n",
            "48000/48000 [==============================] - 4s 78us/step - loss: 1.5339 - accuracy: 0.4954 - val_loss: 1.4487 - val_accuracy: 0.5129\n",
            "Epoch 5/10\n",
            "48000/48000 [==============================] - 4s 75us/step - loss: 1.4066 - accuracy: 0.5329 - val_loss: 1.3411 - val_accuracy: 0.5599\n",
            "Epoch 6/10\n",
            "48000/48000 [==============================] - 4s 74us/step - loss: 1.3152 - accuracy: 0.5677 - val_loss: 1.2634 - val_accuracy: 0.5882\n",
            "Epoch 7/10\n",
            "48000/48000 [==============================] - 4s 73us/step - loss: 1.2457 - accuracy: 0.5948 - val_loss: 1.2020 - val_accuracy: 0.6079\n",
            "Epoch 8/10\n",
            "48000/48000 [==============================] - 3s 73us/step - loss: 1.1926 - accuracy: 0.6105 - val_loss: 1.1537 - val_accuracy: 0.6247\n",
            "Epoch 9/10\n",
            "48000/48000 [==============================] - 4s 73us/step - loss: 1.1487 - accuracy: 0.6260 - val_loss: 1.1152 - val_accuracy: 0.6366\n",
            "Epoch 10/10\n",
            "48000/48000 [==============================] - 4s 74us/step - loss: 1.1128 - accuracy: 0.6360 - val_loss: 1.0821 - val_accuracy: 0.6431\n",
            "10000/10000 [==============================] - 1s 92us/step\n",
            "Model: 5 added. Resulting score: 0.6389999985694885\n",
            "Train model 6\n",
            "Weight init method: Glorot Normal \n",
            "Train on 48000 samples, validate on 12000 samples\n",
            "Epoch 1/10\n",
            "48000/48000 [==============================] - 4s 81us/step - loss: 2.1491 - accuracy: 0.2372 - val_loss: 2.1712 - val_accuracy: 0.3137\n",
            "Epoch 2/10\n",
            "48000/48000 [==============================] - 4s 73us/step - loss: 1.8905 - accuracy: 0.4096 - val_loss: 1.7796 - val_accuracy: 0.4369\n",
            "Epoch 3/10\n",
            "48000/48000 [==============================] - 4s 73us/step - loss: 1.6600 - accuracy: 0.4796 - val_loss: 1.5447 - val_accuracy: 0.4990\n",
            "Epoch 4/10\n",
            "48000/48000 [==============================] - 4s 73us/step - loss: 1.4873 - accuracy: 0.5282 - val_loss: 1.4020 - val_accuracy: 0.5571\n",
            "Epoch 5/10\n",
            "48000/48000 [==============================] - 4s 74us/step - loss: 1.3679 - accuracy: 0.5661 - val_loss: 1.3041 - val_accuracy: 0.5798\n",
            "Epoch 6/10\n",
            "48000/48000 [==============================] - 4s 74us/step - loss: 1.2830 - accuracy: 0.5864 - val_loss: 1.2312 - val_accuracy: 0.5973\n",
            "Epoch 7/10\n",
            "48000/48000 [==============================] - 4s 74us/step - loss: 1.2182 - accuracy: 0.6027 - val_loss: 1.1742 - val_accuracy: 0.6097\n",
            "Epoch 8/10\n",
            "48000/48000 [==============================] - 4s 74us/step - loss: 1.1658 - accuracy: 0.6130 - val_loss: 1.1271 - val_accuracy: 0.6228\n",
            "Epoch 9/10\n",
            "48000/48000 [==============================] - 4s 74us/step - loss: 1.1263 - accuracy: 0.6214 - val_loss: 1.0928 - val_accuracy: 0.6270\n",
            "Epoch 10/10\n",
            "48000/48000 [==============================] - 4s 74us/step - loss: 1.0927 - accuracy: 0.6306 - val_loss: 1.0592 - val_accuracy: 0.6364\n",
            "10000/10000 [==============================] - 1s 95us/step\n",
            "Model: 6 added. Resulting score: 0.6305000185966492\n",
            "Train model 7\n",
            "Weight init method: Glorot Uniform \n",
            "Train on 48000 samples, validate on 12000 samples\n",
            "Epoch 1/10\n",
            "48000/48000 [==============================] - 4s 80us/step - loss: 2.2052 - accuracy: 0.2313 - val_loss: 2.1944 - val_accuracy: 0.2509\n",
            "Epoch 2/10\n",
            "48000/48000 [==============================] - 4s 75us/step - loss: 1.9934 - accuracy: 0.4254 - val_loss: 1.8982 - val_accuracy: 0.4674\n",
            "Epoch 3/10\n",
            "48000/48000 [==============================] - 4s 74us/step - loss: 1.7892 - accuracy: 0.4717 - val_loss: 1.6711 - val_accuracy: 0.5185\n",
            "Epoch 4/10\n",
            "48000/48000 [==============================] - 4s 74us/step - loss: 1.5966 - accuracy: 0.5200 - val_loss: 1.4893 - val_accuracy: 0.5481\n",
            "Epoch 5/10\n",
            "48000/48000 [==============================] - 4s 74us/step - loss: 1.4440 - accuracy: 0.5573 - val_loss: 1.3683 - val_accuracy: 0.5728\n",
            "Epoch 6/10\n",
            "48000/48000 [==============================] - 4s 74us/step - loss: 1.3372 - accuracy: 0.5781 - val_loss: 1.2792 - val_accuracy: 0.5910\n",
            "Epoch 7/10\n",
            "48000/48000 [==============================] - 4s 74us/step - loss: 1.2581 - accuracy: 0.5937 - val_loss: 1.2063 - val_accuracy: 0.6063\n",
            "Epoch 8/10\n",
            "48000/48000 [==============================] - 4s 74us/step - loss: 1.1957 - accuracy: 0.6086 - val_loss: 1.1531 - val_accuracy: 0.6163\n",
            "Epoch 9/10\n",
            "48000/48000 [==============================] - 4s 74us/step - loss: 1.1442 - accuracy: 0.6204 - val_loss: 1.1035 - val_accuracy: 0.6297\n",
            "Epoch 10/10\n",
            "48000/48000 [==============================] - 4s 75us/step - loss: 1.1027 - accuracy: 0.6304 - val_loss: 1.0669 - val_accuracy: 0.6364\n",
            "10000/10000 [==============================] - 1s 92us/step\n",
            "Model: 7 added. Resulting score: 0.631600022315979\n"
          ],
          "name": "stdout"
        }
      ]
    },
    {
      "cell_type": "markdown",
      "metadata": {
        "colab_type": "text",
        "id": "fGT6jV-hcLbJ"
      },
      "source": [
        "# Results"
      ]
    },
    {
      "cell_type": "markdown",
      "metadata": {
        "colab_type": "text",
        "id": "CurcmjMCcrJI"
      },
      "source": [
        "# Accuracy"
      ]
    },
    {
      "cell_type": "code",
      "metadata": {
        "colab_type": "code",
        "id": "yvZLQyb5cg7R",
        "outputId": "0b02924b-2835-4ac5-e8d5-1cd8ef73f9e2",
        "colab": {
          "base_uri": "https://localhost:8080/",
          "height": 297
        }
      },
      "source": [
        "accuracy_df = pd.DataFrame(accuracies, columns=[\"Accuracy\"])\n",
        "accuracy_df[\"weight_init_method\"] = initializer\n",
        "display(accuracy_df)\n",
        "\n",
        "accuracy_df.to_csv(PATH + MODEL_NAME + \"_accuracy.csv\")"
      ],
      "execution_count": 13,
      "outputs": [
        {
          "output_type": "display_data",
          "data": {
            "text/html": [
              "<div>\n",
              "<style scoped>\n",
              "    .dataframe tbody tr th:only-of-type {\n",
              "        vertical-align: middle;\n",
              "    }\n",
              "\n",
              "    .dataframe tbody tr th {\n",
              "        vertical-align: top;\n",
              "    }\n",
              "\n",
              "    .dataframe thead th {\n",
              "        text-align: right;\n",
              "    }\n",
              "</style>\n",
              "<table border=\"1\" class=\"dataframe\">\n",
              "  <thead>\n",
              "    <tr style=\"text-align: right;\">\n",
              "      <th></th>\n",
              "      <th>Accuracy</th>\n",
              "      <th>weight_init_method</th>\n",
              "    </tr>\n",
              "  </thead>\n",
              "  <tbody>\n",
              "    <tr>\n",
              "      <th>0</th>\n",
              "      <td>0.6320</td>\n",
              "      <td>Zero</td>\n",
              "    </tr>\n",
              "    <tr>\n",
              "      <th>1</th>\n",
              "      <td>0.6322</td>\n",
              "      <td>Ones</td>\n",
              "    </tr>\n",
              "    <tr>\n",
              "      <th>2</th>\n",
              "      <td>0.6435</td>\n",
              "      <td>Random Normal</td>\n",
              "    </tr>\n",
              "    <tr>\n",
              "      <th>3</th>\n",
              "      <td>0.6163</td>\n",
              "      <td>Random Uniform</td>\n",
              "    </tr>\n",
              "    <tr>\n",
              "      <th>4</th>\n",
              "      <td>0.6553</td>\n",
              "      <td>Identity</td>\n",
              "    </tr>\n",
              "    <tr>\n",
              "      <th>5</th>\n",
              "      <td>0.6390</td>\n",
              "      <td>Orthogonal</td>\n",
              "    </tr>\n",
              "    <tr>\n",
              "      <th>6</th>\n",
              "      <td>0.6305</td>\n",
              "      <td>Glorot Normal</td>\n",
              "    </tr>\n",
              "    <tr>\n",
              "      <th>7</th>\n",
              "      <td>0.6316</td>\n",
              "      <td>Glorot Uniform</td>\n",
              "    </tr>\n",
              "  </tbody>\n",
              "</table>\n",
              "</div>"
            ],
            "text/plain": [
              "   Accuracy weight_init_method\n",
              "0    0.6320               Zero\n",
              "1    0.6322               Ones\n",
              "2    0.6435      Random Normal\n",
              "3    0.6163     Random Uniform\n",
              "4    0.6553           Identity\n",
              "5    0.6390         Orthogonal\n",
              "6    0.6305      Glorot Normal\n",
              "7    0.6316     Glorot Uniform"
            ]
          },
          "metadata": {
            "tags": []
          }
        }
      ]
    },
    {
      "cell_type": "code",
      "metadata": {
        "colab_type": "code",
        "id": "sXq8Uj3lenzH",
        "outputId": "707e5bf9-0fe5-4933-f7be-7c594f694106",
        "colab": {
          "base_uri": "https://localhost:8080/",
          "height": 354
        }
      },
      "source": [
        "import matplotlib.pyplot as plt\n",
        "\n",
        "accuracy_df.plot(x=\"weight_init_method\", y=\"Accuracy\",rot = 90)\n",
        "\n",
        "plt.show()\n"
      ],
      "execution_count": 14,
      "outputs": [
        {
          "output_type": "display_data",
          "data": {
            "image/png": "[encoded data removed]",
            "text/plain": [
              "<Figure size 432x288 with 1 Axes>"
            ]
          },
          "metadata": {
            "tags": [],
            "needs_background": "light"
          }
        }
      ]
    },
    {
      "cell_type": "code",
      "metadata": {
        "id": "O37chbRgZDXF",
        "colab_type": "code",
        "outputId": "24a5fbe1-104f-48b4-cd3f-cd6771307164",
        "colab": {
          "base_uri": "https://localhost:8080/",
          "height": 34
        }
      },
      "source": [
        "classified = []\n",
        "\n",
        "for prediction in tqdm(predictions):\n",
        "    classified.append([1 if i==j else 0 for i,j in zip(prediction,y_test)])"
      ],
      "execution_count": 15,
      "outputs": [
        {
          "output_type": "stream",
          "text": [
            "100%|██████████| 8/8 [00:00<00:00, 155.62it/s]\n"
          ],
          "name": "stderr"
        }
      ]
    },
    {
      "cell_type": "markdown",
      "metadata": {
        "colab_type": "text",
        "id": "NMfc-h8xAYQu"
      },
      "source": [
        "## Correlation between models"
      ]
    },
    {
      "cell_type": "code",
      "metadata": {
        "colab_type": "code",
        "id": "FAky42lMV102",
        "outputId": "4ff0b79d-bcb8-45f4-b7c6-6b000fba9893",
        "colab": {
          "base_uri": "https://localhost:8080/",
          "height": 314
        }
      },
      "source": [
        "correlation_matrix = []\n",
        "\n",
        "for ix, x in enumerate(classified):\n",
        "  row = []\n",
        "  \n",
        "  for iy, y in enumerate(classified):\n",
        "    if (ix == iy):\n",
        "      row.append(np.nan)\n",
        "    else:\n",
        "      row.append(pearsonr(x,y)[0])\n",
        "\n",
        "  correlation_matrix.append(row)\n",
        "\n",
        "correlation_matrix = np.array(correlation_matrix)\n",
        "correlation_matrix_df = pd.DataFrame(correlation_matrix)\n",
        "correlation_matrix_df.columns = initializer\n",
        "correlation_matrix_df.index = initializer\n",
        "display(correlation_matrix_df)\n",
        "print(\"Average correlation: \" + str(np.nanmean(correlation_matrix.flatten())))"
      ],
      "execution_count": 16,
      "outputs": [
        {
          "output_type": "display_data",
          "data": {
            "text/html": [
              "<div>\n",
              "<style scoped>\n",
              "    .dataframe tbody tr th:only-of-type {\n",
              "        vertical-align: middle;\n",
              "    }\n",
              "\n",
              "    .dataframe tbody tr th {\n",
              "        vertical-align: top;\n",
              "    }\n",
              "\n",
              "    .dataframe thead th {\n",
              "        text-align: right;\n",
              "    }\n",
              "</style>\n",
              "<table border=\"1\" class=\"dataframe\">\n",
              "  <thead>\n",
              "    <tr style=\"text-align: right;\">\n",
              "      <th></th>\n",
              "      <th>Zero</th>\n",
              "      <th>Ones</th>\n",
              "      <th>Random Normal</th>\n",
              "      <th>Random Uniform</th>\n",
              "      <th>Identity</th>\n",
              "      <th>Orthogonal</th>\n",
              "      <th>Glorot Normal</th>\n",
              "      <th>Glorot Uniform</th>\n",
              "    </tr>\n",
              "  </thead>\n",
              "  <tbody>\n",
              "    <tr>\n",
              "      <th>Zero</th>\n",
              "      <td>NaN</td>\n",
              "      <td>0.698989</td>\n",
              "      <td>0.685356</td>\n",
              "      <td>0.674571</td>\n",
              "      <td>0.700468</td>\n",
              "      <td>0.691858</td>\n",
              "      <td>0.739021</td>\n",
              "      <td>0.690494</td>\n",
              "    </tr>\n",
              "    <tr>\n",
              "      <th>Ones</th>\n",
              "      <td>0.698989</td>\n",
              "      <td>NaN</td>\n",
              "      <td>0.675784</td>\n",
              "      <td>0.688195</td>\n",
              "      <td>0.683395</td>\n",
              "      <td>0.747948</td>\n",
              "      <td>0.720518</td>\n",
              "      <td>0.730012</td>\n",
              "    </tr>\n",
              "    <tr>\n",
              "      <th>Random Normal</th>\n",
              "      <td>0.685356</td>\n",
              "      <td>0.675784</td>\n",
              "      <td>NaN</td>\n",
              "      <td>0.722631</td>\n",
              "      <td>0.690634</td>\n",
              "      <td>0.677281</td>\n",
              "      <td>0.691547</td>\n",
              "      <td>0.704061</td>\n",
              "    </tr>\n",
              "    <tr>\n",
              "      <th>Random Uniform</th>\n",
              "      <td>0.674571</td>\n",
              "      <td>0.688195</td>\n",
              "      <td>0.722631</td>\n",
              "      <td>NaN</td>\n",
              "      <td>0.653515</td>\n",
              "      <td>0.674710</td>\n",
              "      <td>0.695407</td>\n",
              "      <td>0.747516</td>\n",
              "    </tr>\n",
              "    <tr>\n",
              "      <th>Identity</th>\n",
              "      <td>0.700468</td>\n",
              "      <td>0.683395</td>\n",
              "      <td>0.690634</td>\n",
              "      <td>0.653515</td>\n",
              "      <td>NaN</td>\n",
              "      <td>0.674485</td>\n",
              "      <td>0.689775</td>\n",
              "      <td>0.654344</td>\n",
              "    </tr>\n",
              "    <tr>\n",
              "      <th>Orthogonal</th>\n",
              "      <td>0.691858</td>\n",
              "      <td>0.747948</td>\n",
              "      <td>0.677281</td>\n",
              "      <td>0.674710</td>\n",
              "      <td>0.674485</td>\n",
              "      <td>NaN</td>\n",
              "      <td>0.738113</td>\n",
              "      <td>0.685035</td>\n",
              "    </tr>\n",
              "    <tr>\n",
              "      <th>Glorot Normal</th>\n",
              "      <td>0.739021</td>\n",
              "      <td>0.720518</td>\n",
              "      <td>0.691547</td>\n",
              "      <td>0.695407</td>\n",
              "      <td>0.689775</td>\n",
              "      <td>0.738113</td>\n",
              "      <td>NaN</td>\n",
              "      <td>0.699134</td>\n",
              "    </tr>\n",
              "    <tr>\n",
              "      <th>Glorot Uniform</th>\n",
              "      <td>0.690494</td>\n",
              "      <td>0.730012</td>\n",
              "      <td>0.704061</td>\n",
              "      <td>0.747516</td>\n",
              "      <td>0.654344</td>\n",
              "      <td>0.685035</td>\n",
              "      <td>0.699134</td>\n",
              "      <td>NaN</td>\n",
              "    </tr>\n",
              "  </tbody>\n",
              "</table>\n",
              "</div>"
            ],
            "text/plain": [
              "                    Zero      Ones  ...  Glorot Normal  Glorot Uniform\n",
              "Zero                 NaN  0.698989  ...       0.739021        0.690494\n",
              "Ones            0.698989       NaN  ...       0.720518        0.730012\n",
              "Random Normal   0.685356  0.675784  ...       0.691547        0.704061\n",
              "Random Uniform  0.674571  0.688195  ...       0.695407        0.747516\n",
              "Identity        0.700468  0.683395  ...       0.689775        0.654344\n",
              "Orthogonal      0.691858  0.747948  ...       0.738113        0.685035\n",
              "Glorot Normal   0.739021  0.720518  ...            NaN        0.699134\n",
              "Glorot Uniform  0.690494  0.730012  ...       0.699134             NaN\n",
              "\n",
              "[8 rows x 8 columns]"
            ]
          },
          "metadata": {
            "tags": []
          }
        },
        {
          "output_type": "stream",
          "text": [
            "Average correlation: 0.6973141656378681\n"
          ],
          "name": "stdout"
        }
      ]
    }
  ]
}