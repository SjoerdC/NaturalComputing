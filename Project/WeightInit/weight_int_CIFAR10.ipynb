{
  "nbformat": 4,
  "nbformat_minor": 0,
  "metadata": {
    "accelerator": "GPU",
    "colab": {
      "name": "weight_int_CIFAR10.ipynb",
      "provenance": [],
      "collapsed_sections": [],
      "toc_visible": true
    },
    "kernelspec": {
      "display_name": "Python 3",
      "language": "python",
      "name": "python3"
    },
    "language_info": {
      "codemirror_mode": {
        "name": "ipython",
        "version": 3
      },
      "file_extension": ".py",
      "mimetype": "text/x-python",
      "name": "python",
      "nbconvert_exporter": "python",
      "pygments_lexer": "ipython3",
      "version": "3.7.4"
    }
  },
  "cells": [
    {
      "cell_type": "code",
      "metadata": {
        "colab_type": "code",
        "id": "fde69AMuOpox",
        "outputId": "8e5908d9-dc64-420a-cfd2-0073aafd5fef",
        "colab": {
          "base_uri": "https://localhost:8080/",
          "height": 34
        }
      },
      "source": [
        "import keras\n",
        "import cv2\n",
        "import numpy as np\n",
        "import pandas as pd\n",
        "import tensorflow as tf\n",
        "from tensorflow.keras import initializers\n",
        "from itertools import count\n",
        "from sklearn.metrics import accuracy_score\n",
        "from keras.datasets import cifar10\n",
        "from keras.applications.vgg16 import VGG16\n",
        "from keras import layers\n",
        "from keras.layers import Dense, Dropout, Flatten, Activation, Input, Conv2D, MaxPooling2D, BatchNormalization, GlobalAveragePooling2D\n",
        "from keras.models import Model\n",
        "from sklearn.model_selection import train_test_split\n",
        "from keras.callbacks import EarlyStopping\n",
        "from scipy.stats import pearsonr\n",
        "from tqdm import tqdm"
      ],
      "execution_count": 1,
      "outputs": [
        {
          "output_type": "stream",
          "text": [
            "Using TensorFlow backend.\n"
          ],
          "name": "stderr"
        }
      ]
    },
    {
      "cell_type": "code",
      "metadata": {
        "colab_type": "code",
        "id": "qYrab7qpOppj",
        "colab": {}
      },
      "source": [
        "BATCH_SIZE = 128\n",
        "EPOCHS = 10\n",
        "IMAGE_SIZE = 32\n",
        "NUM_CLASSES = 10\n",
        "NUM_CHANNELS = 3\n",
        "MODEL_ADDITION_DELTA = 0.01\n",
        "MODEL_ADDITION_PATIENCE = 3\n",
        "MODEL_NAME = \"CIFAR10_weight_init\"\n",
        "PATH = \"\""
      ],
      "execution_count": 0,
      "outputs": []
    },
    {
      "cell_type": "markdown",
      "metadata": {
        "colab_type": "text",
        "id": "R9M4_-IaBOsn"
      },
      "source": [
        "# Set seeds"
      ]
    },
    {
      "cell_type": "code",
      "metadata": {
        "colab_type": "code",
        "id": "7n9nJGd_BQ-r",
        "colab": {}
      },
      "source": [
        "np.random.seed(1)\n",
        "tf.random.set_seed(1)"
      ],
      "execution_count": 0,
      "outputs": []
    },
    {
      "cell_type": "markdown",
      "metadata": {
        "colab_type": "text",
        "id": "g8QvEt97vF52"
      },
      "source": [
        "# Preprocess"
      ]
    },
    {
      "cell_type": "code",
      "metadata": {
        "colab_type": "code",
        "id": "XypdmBJROpp9",
        "outputId": "4184d87d-2396-4cd8-82bd-8b434d04a8aa",
        "colab": {
          "base_uri": "https://localhost:8080/",
          "height": 68
        }
      },
      "source": [
        "(x_train, y_train), (x_test, y_test) = cifar10.load_data()\n",
        "\n",
        "print('x_train shape:', x_train.shape)\n",
        "print(x_train.shape[0], 'train samples')\n",
        "print(x_test.shape[0], 'test samples')"
      ],
      "execution_count": 4,
      "outputs": [
        {
          "output_type": "stream",
          "text": [
            "x_train shape: (50000, 32, 32, 3)\n",
            "50000 train samples\n",
            "10000 test samples\n"
          ],
          "name": "stdout"
        }
      ]
    },
    {
      "cell_type": "code",
      "metadata": {
        "colab_type": "code",
        "id": "mo8yHyg-Opqo",
        "colab": {}
      },
      "source": [
        "# Convert class vectors to binary class matrices.\n",
        "y_train = keras.utils.to_categorical(y_train, NUM_CLASSES)\n",
        "y_testc = keras.utils.to_categorical(y_test, NUM_CLASSES)"
      ],
      "execution_count": 0,
      "outputs": []
    },
    {
      "cell_type": "code",
      "metadata": {
        "colab_type": "code",
        "id": "a4SYRuKZaIwb",
        "colab": {}
      },
      "source": [
        "x_train = x_train.astype('float32')\n",
        "x_test = x_test.astype('float32')\n",
        "x_train /= 255\n",
        "x_test /= 255"
      ],
      "execution_count": 0,
      "outputs": []
    },
    {
      "cell_type": "code",
      "metadata": {
        "colab_type": "code",
        "id": "vBci5ba9hiaQ",
        "colab": {}
      },
      "source": [
        "# Split the data\n",
        "x_train, x_val, y_train, y_val = train_test_split(x_train, y_train, test_size=0.20, shuffle= True)"
      ],
      "execution_count": 0,
      "outputs": []
    },
    {
      "cell_type": "markdown",
      "metadata": {
        "colab_type": "text",
        "id": "gIBGIrlkvOt0"
      },
      "source": [
        "# Model"
      ]
    },
    {
      "cell_type": "code",
      "metadata": {
        "colab_type": "code",
        "id": "zLWph6_aOpr2",
        "colab": {}
      },
      "source": [
        "def CIFAR10model(imsize, num_classes, num_channels):\n",
        "    inputs = Input((imsize,imsize,num_channels))\n",
        "    x = Conv2D(filters = 32, kernel_size = (3,3), activation = 'relu', strides = 2)(inputs)\n",
        "    x = BatchNormalization()(x)\n",
        "    x = MaxPooling2D(pool_size = (2,2), strides=(2,2), padding = \"same\")(x)\n",
        "    x = Conv2D(filters=32, kernel_size=(1,1), activation='relu', padding='valid')(x)\n",
        "    x = Conv2D(filters = 10, kernel_size = (1,1),strides = (1,1), padding = 'valid')(x)\n",
        "    x = GlobalAveragePooling2D()(x)\n",
        "    outputs = Activation('softmax')(x)\n",
        "    \n",
        "    model = Model(inputs=inputs, outputs=outputs)\n",
        "    \n",
        "    optimizer = keras.optimizers.Adam(learning_rate = 1e-04)\n",
        "\n",
        "    model.compile(loss='categorical_crossentropy',\n",
        "                      optimizer=optimizer,\n",
        "                      metrics=['accuracy'])\n",
        "    return model"
      ],
      "execution_count": 0,
      "outputs": []
    },
    {
      "cell_type": "markdown",
      "metadata": {
        "colab_type": "text",
        "id": "TVqdcrD_vQ-Q"
      },
      "source": [
        "# Train"
      ]
    },
    {
      "cell_type": "code",
      "metadata": {
        "colab_type": "code",
        "id": "HjvZqLBJOpsw",
        "outputId": "0d64b323-bfad-401d-cb06-118393ff4144",
        "colab": {
          "base_uri": "https://localhost:8080/",
          "height": 1000
        }
      },
      "source": [
        "models = []\n",
        "accuracies = []\n",
        "predictions = []\n",
        "initializer = [\"Zero\",\"Ones\",\"Random Normal\",\"Random Uniform\",\"Identity\",\"Orthogonal\",\"Glorot Normal\",\"Glorot Uniform\"]\n",
        "for i in range(len(initializer)):\n",
        "\n",
        "    print(f\"Train model {i}\")\n",
        "    print(f\"Weight init method: {initializer[i]} \")\n",
        "    model = CIFAR10model(IMAGE_SIZE,NUM_CLASSES,NUM_CHANNELS)\n",
        "    \n",
        "    for layer in model.layers: \n",
        "        if hasattr(layer, 'kernel_initializer'):\n",
        "            if(initializer[i] == \"Zero\"):\n",
        "                layer.kernel_initializer = initializers.Zeros()\n",
        "            elif(initializer[i] == \"Ones\"):\n",
        "                layer.kernel_initializer = initializers.Ones()\n",
        "            elif(initializer[i] == \"Random Normal\"):\n",
        "                layer.kernel_initializer = initializers.RandomNormal()\n",
        "            elif(initializer[i] == \"Random Unifrom\"):\n",
        "                layer.kernel_initializer = initializers.RandomUniform()\n",
        "            elif(initializer[i] == \"Identity\"):\n",
        "                layer.kernel_initializer = initializers.Identity()\n",
        "            elif(initializer[i] == \"Orthogonal\"):\n",
        "                layer.kernel_initializer = initializers.Orthogonal()\n",
        "            elif(initializer[i] == \"Glorot Normal\"):\n",
        "                layer.kernel_initializer = initializers.GlorotNormal()\n",
        "            elif(initializer[i] == \"Glorot Unifrom\"):\n",
        "                layer.kernel_initializer = initializers.GlorotUnifrom()\n",
        "          \n",
        "    es = EarlyStopping(monitor='val_categorical_accuracy', mode='max', min_delta=0.01, patience=3)\n",
        "    model.fit(x_train,y_train,\n",
        "              batch_size = BATCH_SIZE,\n",
        "              epochs = EPOCHS,\n",
        "              validation_data = (x_val,y_val),\n",
        "              shuffle = True,\n",
        "              callbacks=[es])\n",
        "    models.append(model)\n",
        "    y_prob = model.predict(x_test) \n",
        "    predictions.append(y_prob.argmax(axis=-1))\n",
        "    acc = model.evaluate(x_test,y_testc)[1]\n",
        "    accuracies.append(acc)\n",
        "\n",
        "    print(f\"Model: {i} added. Resulting score: {acc}\")\n"
      ],
      "execution_count": 9,
      "outputs": [
        {
          "output_type": "stream",
          "text": [
            "Train model 0\n",
            "Weight init method: Zero \n",
            "Train on 40000 samples, validate on 10000 samples\n",
            "Epoch 1/10\n",
            "40000/40000 [==============================] - 4s 90us/step - loss: 2.2199 - accuracy: 0.1654 - val_loss: 2.2462 - val_accuracy: 0.1776\n",
            "Epoch 2/10\n",
            " 3584/40000 [=>............................] - ETA: 1s - loss: 2.1375 - accuracy: 0.2006"
          ],
          "name": "stdout"
        },
        {
          "output_type": "stream",
          "text": [
            "/usr/local/lib/python3.6/dist-packages/keras/callbacks/callbacks.py:846: RuntimeWarning: Early stopping conditioned on metric `val_categorical_accuracy` which is not available. Available metrics are: val_loss,val_accuracy,loss,accuracy\n",
            "  (self.monitor, ','.join(list(logs.keys()))), RuntimeWarning\n"
          ],
          "name": "stderr"
        },
        {
          "output_type": "stream",
          "text": [
            "40000/40000 [==============================] - 2s 54us/step - loss: 2.0858 - accuracy: 0.2254 - val_loss: 2.0706 - val_accuracy: 0.2467\n",
            "Epoch 3/10\n",
            "40000/40000 [==============================] - 2s 55us/step - loss: 1.9938 - accuracy: 0.2681 - val_loss: 1.9576 - val_accuracy: 0.2869\n",
            "Epoch 4/10\n",
            "40000/40000 [==============================] - 2s 55us/step - loss: 1.9309 - accuracy: 0.3015 - val_loss: 1.9022 - val_accuracy: 0.3132\n",
            "Epoch 5/10\n",
            "40000/40000 [==============================] - 2s 54us/step - loss: 1.8840 - accuracy: 0.3178 - val_loss: 1.8639 - val_accuracy: 0.3162\n",
            "Epoch 6/10\n",
            "40000/40000 [==============================] - 2s 55us/step - loss: 1.8471 - accuracy: 0.3282 - val_loss: 1.8264 - val_accuracy: 0.3404\n",
            "Epoch 7/10\n",
            "40000/40000 [==============================] - 2s 54us/step - loss: 1.8150 - accuracy: 0.3399 - val_loss: 1.7988 - val_accuracy: 0.3467\n",
            "Epoch 8/10\n",
            "40000/40000 [==============================] - 2s 55us/step - loss: 1.7865 - accuracy: 0.3476 - val_loss: 1.7722 - val_accuracy: 0.3641\n",
            "Epoch 9/10\n",
            "40000/40000 [==============================] - 2s 56us/step - loss: 1.7639 - accuracy: 0.3560 - val_loss: 1.7542 - val_accuracy: 0.3649\n",
            "Epoch 10/10\n",
            "40000/40000 [==============================] - 2s 55us/step - loss: 1.7436 - accuracy: 0.3614 - val_loss: 1.7323 - val_accuracy: 0.3723\n",
            "10000/10000 [==============================] - 1s 71us/step\n",
            "Model: 0 added. Resulting score: 0.3693000078201294\n",
            "Train model 1\n",
            "Weight init method: Ones \n",
            "Train on 40000 samples, validate on 10000 samples\n",
            "Epoch 1/10\n",
            "40000/40000 [==============================] - 2s 62us/step - loss: 2.2200 - accuracy: 0.1929 - val_loss: 2.2422 - val_accuracy: 0.1949\n",
            "Epoch 2/10\n",
            "40000/40000 [==============================] - 2s 56us/step - loss: 2.0851 - accuracy: 0.2668 - val_loss: 2.0826 - val_accuracy: 0.2637\n",
            "Epoch 3/10\n",
            "40000/40000 [==============================] - 2s 55us/step - loss: 2.0057 - accuracy: 0.2942 - val_loss: 1.9831 - val_accuracy: 0.2936\n",
            "Epoch 4/10\n",
            "40000/40000 [==============================] - 2s 56us/step - loss: 1.9503 - accuracy: 0.3125 - val_loss: 1.9300 - val_accuracy: 0.3211\n",
            "Epoch 5/10\n",
            "40000/40000 [==============================] - 2s 56us/step - loss: 1.8986 - accuracy: 0.3273 - val_loss: 1.8758 - val_accuracy: 0.3358\n",
            "Epoch 6/10\n",
            "40000/40000 [==============================] - 2s 55us/step - loss: 1.8568 - accuracy: 0.3418 - val_loss: 1.8386 - val_accuracy: 0.3418\n",
            "Epoch 7/10\n",
            "40000/40000 [==============================] - 2s 56us/step - loss: 1.8222 - accuracy: 0.3490 - val_loss: 1.8116 - val_accuracy: 0.3468\n",
            "Epoch 8/10\n",
            "40000/40000 [==============================] - 2s 57us/step - loss: 1.7947 - accuracy: 0.3559 - val_loss: 1.7851 - val_accuracy: 0.3533\n",
            "Epoch 9/10\n",
            "40000/40000 [==============================] - 2s 58us/step - loss: 1.7703 - accuracy: 0.3600 - val_loss: 1.7626 - val_accuracy: 0.3584\n",
            "Epoch 10/10\n",
            "40000/40000 [==============================] - 2s 59us/step - loss: 1.7522 - accuracy: 0.3641 - val_loss: 1.7426 - val_accuracy: 0.3708\n",
            "10000/10000 [==============================] - 1s 81us/step\n",
            "Model: 1 added. Resulting score: 0.3702000081539154\n",
            "Train model 2\n",
            "Weight init method: Random Normal \n",
            "Train on 40000 samples, validate on 10000 samples\n",
            "Epoch 1/10\n",
            "40000/40000 [==============================] - 3s 66us/step - loss: 2.2279 - accuracy: 0.1652 - val_loss: 2.2534 - val_accuracy: 0.1843\n",
            "Epoch 2/10\n",
            "40000/40000 [==============================] - 2s 58us/step - loss: 2.1061 - accuracy: 0.2338 - val_loss: 2.0838 - val_accuracy: 0.2304\n",
            "Epoch 3/10\n",
            "40000/40000 [==============================] - 2s 57us/step - loss: 2.0160 - accuracy: 0.2714 - val_loss: 1.9758 - val_accuracy: 0.2762\n",
            "Epoch 4/10\n",
            "40000/40000 [==============================] - 2s 56us/step - loss: 1.9460 - accuracy: 0.3009 - val_loss: 1.9137 - val_accuracy: 0.3152\n",
            "Epoch 5/10\n",
            "40000/40000 [==============================] - 2s 57us/step - loss: 1.8927 - accuracy: 0.3258 - val_loss: 1.8695 - val_accuracy: 0.3324\n",
            "Epoch 6/10\n",
            "40000/40000 [==============================] - 2s 56us/step - loss: 1.8516 - accuracy: 0.3341 - val_loss: 1.8329 - val_accuracy: 0.3480\n",
            "Epoch 7/10\n",
            "40000/40000 [==============================] - 2s 55us/step - loss: 1.8194 - accuracy: 0.3404 - val_loss: 1.8017 - val_accuracy: 0.3493\n",
            "Epoch 8/10\n",
            "40000/40000 [==============================] - 2s 55us/step - loss: 1.7927 - accuracy: 0.3469 - val_loss: 1.7776 - val_accuracy: 0.3568\n",
            "Epoch 9/10\n",
            "40000/40000 [==============================] - 2s 56us/step - loss: 1.7699 - accuracy: 0.3557 - val_loss: 1.7623 - val_accuracy: 0.3536\n",
            "Epoch 10/10\n",
            "40000/40000 [==============================] - 2s 57us/step - loss: 1.7506 - accuracy: 0.3605 - val_loss: 1.7457 - val_accuracy: 0.3599\n",
            "10000/10000 [==============================] - 1s 74us/step\n",
            "Model: 2 added. Resulting score: 0.364300012588501\n",
            "Train model 3\n",
            "Weight init method: Random Uniform \n",
            "Train on 40000 samples, validate on 10000 samples\n",
            "Epoch 1/10\n",
            "40000/40000 [==============================] - 2s 62us/step - loss: 2.2722 - accuracy: 0.1354 - val_loss: 2.2591 - val_accuracy: 0.1745\n",
            "Epoch 2/10\n",
            "40000/40000 [==============================] - 2s 56us/step - loss: 2.1080 - accuracy: 0.2537 - val_loss: 2.0938 - val_accuracy: 0.2639\n",
            "Epoch 3/10\n",
            "40000/40000 [==============================] - 2s 57us/step - loss: 2.0144 - accuracy: 0.2852 - val_loss: 1.9756 - val_accuracy: 0.3048\n",
            "Epoch 4/10\n",
            "40000/40000 [==============================] - 2s 57us/step - loss: 1.9486 - accuracy: 0.3022 - val_loss: 1.9202 - val_accuracy: 0.3114\n",
            "Epoch 5/10\n",
            "40000/40000 [==============================] - 2s 57us/step - loss: 1.9029 - accuracy: 0.3176 - val_loss: 1.8866 - val_accuracy: 0.3204\n",
            "Epoch 6/10\n",
            "40000/40000 [==============================] - 2s 56us/step - loss: 1.8648 - accuracy: 0.3309 - val_loss: 1.8447 - val_accuracy: 0.3384\n",
            "Epoch 7/10\n",
            "40000/40000 [==============================] - 2s 56us/step - loss: 1.8324 - accuracy: 0.3406 - val_loss: 1.8131 - val_accuracy: 0.3435\n",
            "Epoch 8/10\n",
            "40000/40000 [==============================] - 2s 57us/step - loss: 1.8022 - accuracy: 0.3488 - val_loss: 1.7880 - val_accuracy: 0.3527\n",
            "Epoch 9/10\n",
            "40000/40000 [==============================] - 2s 58us/step - loss: 1.7759 - accuracy: 0.3583 - val_loss: 1.7688 - val_accuracy: 0.3553\n",
            "Epoch 10/10\n",
            "40000/40000 [==============================] - 2s 58us/step - loss: 1.7540 - accuracy: 0.3624 - val_loss: 1.7433 - val_accuracy: 0.3673\n",
            "10000/10000 [==============================] - 1s 79us/step\n",
            "Model: 3 added. Resulting score: 0.3668999969959259\n",
            "Train model 4\n",
            "Weight init method: Identity \n",
            "Train on 40000 samples, validate on 10000 samples\n",
            "Epoch 1/10\n",
            "40000/40000 [==============================] - 3s 66us/step - loss: 2.2489 - accuracy: 0.1568 - val_loss: 2.2685 - val_accuracy: 0.1698\n",
            "Epoch 2/10\n",
            "40000/40000 [==============================] - 2s 57us/step - loss: 2.1307 - accuracy: 0.2317 - val_loss: 2.1150 - val_accuracy: 0.2390\n",
            "Epoch 3/10\n",
            "40000/40000 [==============================] - 2s 55us/step - loss: 2.0264 - accuracy: 0.2775 - val_loss: 1.9872 - val_accuracy: 0.2975\n",
            "Epoch 4/10\n",
            "40000/40000 [==============================] - 2s 56us/step - loss: 1.9508 - accuracy: 0.3102 - val_loss: 1.9167 - val_accuracy: 0.3230\n",
            "Epoch 5/10\n",
            "40000/40000 [==============================] - 2s 56us/step - loss: 1.8929 - accuracy: 0.3271 - val_loss: 1.8633 - val_accuracy: 0.3331\n",
            "Epoch 6/10\n",
            "40000/40000 [==============================] - 2s 56us/step - loss: 1.8488 - accuracy: 0.3363 - val_loss: 1.8303 - val_accuracy: 0.3375\n",
            "Epoch 7/10\n",
            "40000/40000 [==============================] - 2s 56us/step - loss: 1.8158 - accuracy: 0.3465 - val_loss: 1.7981 - val_accuracy: 0.3478\n",
            "Epoch 8/10\n",
            "40000/40000 [==============================] - 2s 57us/step - loss: 1.7890 - accuracy: 0.3557 - val_loss: 1.7727 - val_accuracy: 0.3598\n",
            "Epoch 9/10\n",
            "40000/40000 [==============================] - 2s 56us/step - loss: 1.7658 - accuracy: 0.3608 - val_loss: 1.7575 - val_accuracy: 0.3576\n",
            "Epoch 10/10\n",
            "40000/40000 [==============================] - 2s 56us/step - loss: 1.7473 - accuracy: 0.3638 - val_loss: 1.7375 - val_accuracy: 0.3687\n",
            "10000/10000 [==============================] - 1s 75us/step\n",
            "Model: 4 added. Resulting score: 0.3723999857902527\n",
            "Train model 5\n",
            "Weight init method: Orthogonal \n",
            "Train on 40000 samples, validate on 10000 samples\n",
            "Epoch 1/10\n",
            "40000/40000 [==============================] - 3s 63us/step - loss: 2.2445 - accuracy: 0.1653 - val_loss: 2.2588 - val_accuracy: 0.1947\n",
            "Epoch 2/10\n",
            "40000/40000 [==============================] - 2s 56us/step - loss: 2.0844 - accuracy: 0.2372 - val_loss: 2.0689 - val_accuracy: 0.2453\n",
            "Epoch 3/10\n",
            "40000/40000 [==============================] - 2s 56us/step - loss: 1.9861 - accuracy: 0.2685 - val_loss: 1.9577 - val_accuracy: 0.2780\n",
            "Epoch 4/10\n",
            "40000/40000 [==============================] - 2s 56us/step - loss: 1.9219 - accuracy: 0.2921 - val_loss: 1.9015 - val_accuracy: 0.3033\n",
            "Epoch 5/10\n",
            "40000/40000 [==============================] - 2s 56us/step - loss: 1.8743 - accuracy: 0.3142 - val_loss: 1.8568 - val_accuracy: 0.3242\n",
            "Epoch 6/10\n",
            "40000/40000 [==============================] - 2s 56us/step - loss: 1.8363 - accuracy: 0.3266 - val_loss: 1.8227 - val_accuracy: 0.3404\n",
            "Epoch 7/10\n",
            "40000/40000 [==============================] - 2s 56us/step - loss: 1.8056 - accuracy: 0.3380 - val_loss: 1.7896 - val_accuracy: 0.3422\n",
            "Epoch 8/10\n",
            "40000/40000 [==============================] - 2s 56us/step - loss: 1.7770 - accuracy: 0.3448 - val_loss: 1.7658 - val_accuracy: 0.3533\n",
            "Epoch 9/10\n",
            "40000/40000 [==============================] - 2s 56us/step - loss: 1.7545 - accuracy: 0.3516 - val_loss: 1.7428 - val_accuracy: 0.3568\n",
            "Epoch 10/10\n",
            "40000/40000 [==============================] - 2s 56us/step - loss: 1.7364 - accuracy: 0.3568 - val_loss: 1.7356 - val_accuracy: 0.3532\n",
            "10000/10000 [==============================] - 1s 75us/step\n",
            "Model: 5 added. Resulting score: 0.35740000009536743\n",
            "Train model 6\n",
            "Weight init method: Glorot Normal \n",
            "Train on 40000 samples, validate on 10000 samples\n",
            "Epoch 1/10\n",
            "40000/40000 [==============================] - 2s 62us/step - loss: 2.2546 - accuracy: 0.1392 - val_loss: 2.2569 - val_accuracy: 0.1661\n",
            "Epoch 2/10\n",
            "40000/40000 [==============================] - 2s 56us/step - loss: 2.0937 - accuracy: 0.2350 - val_loss: 2.0744 - val_accuracy: 0.2530\n",
            "Epoch 3/10\n",
            "40000/40000 [==============================] - 2s 55us/step - loss: 1.9851 - accuracy: 0.2830 - val_loss: 1.9476 - val_accuracy: 0.3023\n",
            "Epoch 4/10\n",
            "40000/40000 [==============================] - 2s 56us/step - loss: 1.9120 - accuracy: 0.3138 - val_loss: 1.8824 - val_accuracy: 0.3217\n",
            "Epoch 5/10\n",
            "40000/40000 [==============================] - 2s 56us/step - loss: 1.8566 - accuracy: 0.3325 - val_loss: 1.8373 - val_accuracy: 0.3375\n",
            "Epoch 6/10\n",
            "40000/40000 [==============================] - 2s 56us/step - loss: 1.8117 - accuracy: 0.3486 - val_loss: 1.8052 - val_accuracy: 0.3454\n",
            "Epoch 7/10\n",
            "40000/40000 [==============================] - 2s 57us/step - loss: 1.7762 - accuracy: 0.3589 - val_loss: 1.7640 - val_accuracy: 0.3570\n",
            "Epoch 8/10\n",
            "40000/40000 [==============================] - 2s 55us/step - loss: 1.7484 - accuracy: 0.3664 - val_loss: 1.7389 - val_accuracy: 0.3636\n",
            "Epoch 9/10\n",
            "40000/40000 [==============================] - 2s 56us/step - loss: 1.7260 - accuracy: 0.3760 - val_loss: 1.7190 - val_accuracy: 0.3795\n",
            "Epoch 10/10\n",
            "40000/40000 [==============================] - 2s 56us/step - loss: 1.7078 - accuracy: 0.3808 - val_loss: 1.7076 - val_accuracy: 0.3766\n",
            "10000/10000 [==============================] - 1s 73us/step\n",
            "Model: 6 added. Resulting score: 0.3813000023365021\n",
            "Train model 7\n",
            "Weight init method: Glorot Uniform \n",
            "Train on 40000 samples, validate on 10000 samples\n",
            "Epoch 1/10\n",
            "40000/40000 [==============================] - 3s 64us/step - loss: 2.2957 - accuracy: 0.1499 - val_loss: 2.2729 - val_accuracy: 0.1281\n",
            "Epoch 2/10\n",
            "40000/40000 [==============================] - 2s 57us/step - loss: 2.1593 - accuracy: 0.2288 - val_loss: 2.1376 - val_accuracy: 0.2464\n",
            "Epoch 3/10\n",
            "40000/40000 [==============================] - 2s 57us/step - loss: 2.0588 - accuracy: 0.2635 - val_loss: 2.0425 - val_accuracy: 0.2390\n",
            "Epoch 4/10\n",
            "40000/40000 [==============================] - 2s 57us/step - loss: 1.9773 - accuracy: 0.2968 - val_loss: 1.9444 - val_accuracy: 0.3042\n",
            "Epoch 5/10\n",
            "40000/40000 [==============================] - 2s 56us/step - loss: 1.9133 - accuracy: 0.3196 - val_loss: 1.8891 - val_accuracy: 0.3272\n",
            "Epoch 6/10\n",
            "40000/40000 [==============================] - 2s 56us/step - loss: 1.8621 - accuracy: 0.3350 - val_loss: 1.8479 - val_accuracy: 0.3381\n",
            "Epoch 7/10\n",
            "40000/40000 [==============================] - 2s 56us/step - loss: 1.8245 - accuracy: 0.3445 - val_loss: 1.8140 - val_accuracy: 0.3475\n",
            "Epoch 8/10\n",
            "40000/40000 [==============================] - 2s 56us/step - loss: 1.7929 - accuracy: 0.3511 - val_loss: 1.7873 - val_accuracy: 0.3591\n",
            "Epoch 9/10\n",
            "40000/40000 [==============================] - 2s 57us/step - loss: 1.7675 - accuracy: 0.3605 - val_loss: 1.7576 - val_accuracy: 0.3652\n",
            "Epoch 10/10\n",
            "40000/40000 [==============================] - 2s 56us/step - loss: 1.7465 - accuracy: 0.3675 - val_loss: 1.7389 - val_accuracy: 0.3706\n",
            "10000/10000 [==============================] - 1s 73us/step\n",
            "Model: 7 added. Resulting score: 0.367000013589859\n"
          ],
          "name": "stdout"
        }
      ]
    },
    {
      "cell_type": "markdown",
      "metadata": {
        "colab_type": "text",
        "id": "fGT6jV-hcLbJ"
      },
      "source": [
        "# Results"
      ]
    },
    {
      "cell_type": "markdown",
      "metadata": {
        "colab_type": "text",
        "id": "CurcmjMCcrJI"
      },
      "source": [
        "# Accuracy"
      ]
    },
    {
      "cell_type": "code",
      "metadata": {
        "colab_type": "code",
        "id": "yvZLQyb5cg7R",
        "outputId": "b20b7153-e2d8-4c3a-c143-5769b13d8eb3",
        "colab": {
          "base_uri": "https://localhost:8080/",
          "height": 297
        }
      },
      "source": [
        "accuracy_df = pd.DataFrame(accuracies, columns=[\"Accuracy\"])\n",
        "accuracy_df[\"weight_init_method\"] = initializer\n",
        "display(accuracy_df)\n",
        "\n",
        "accuracy_df.to_csv(PATH + MODEL_NAME + \"_accuracy.csv\")"
      ],
      "execution_count": 10,
      "outputs": [
        {
          "output_type": "display_data",
          "data": {
            "text/html": [
              "<div>\n",
              "<style scoped>\n",
              "    .dataframe tbody tr th:only-of-type {\n",
              "        vertical-align: middle;\n",
              "    }\n",
              "\n",
              "    .dataframe tbody tr th {\n",
              "        vertical-align: top;\n",
              "    }\n",
              "\n",
              "    .dataframe thead th {\n",
              "        text-align: right;\n",
              "    }\n",
              "</style>\n",
              "<table border=\"1\" class=\"dataframe\">\n",
              "  <thead>\n",
              "    <tr style=\"text-align: right;\">\n",
              "      <th></th>\n",
              "      <th>Accuracy</th>\n",
              "      <th>weight_init_method</th>\n",
              "    </tr>\n",
              "  </thead>\n",
              "  <tbody>\n",
              "    <tr>\n",
              "      <th>0</th>\n",
              "      <td>0.3693</td>\n",
              "      <td>Zero</td>\n",
              "    </tr>\n",
              "    <tr>\n",
              "      <th>1</th>\n",
              "      <td>0.3702</td>\n",
              "      <td>Ones</td>\n",
              "    </tr>\n",
              "    <tr>\n",
              "      <th>2</th>\n",
              "      <td>0.3643</td>\n",
              "      <td>Random Normal</td>\n",
              "    </tr>\n",
              "    <tr>\n",
              "      <th>3</th>\n",
              "      <td>0.3669</td>\n",
              "      <td>Random Uniform</td>\n",
              "    </tr>\n",
              "    <tr>\n",
              "      <th>4</th>\n",
              "      <td>0.3724</td>\n",
              "      <td>Identity</td>\n",
              "    </tr>\n",
              "    <tr>\n",
              "      <th>5</th>\n",
              "      <td>0.3574</td>\n",
              "      <td>Orthogonal</td>\n",
              "    </tr>\n",
              "    <tr>\n",
              "      <th>6</th>\n",
              "      <td>0.3813</td>\n",
              "      <td>Glorot Normal</td>\n",
              "    </tr>\n",
              "    <tr>\n",
              "      <th>7</th>\n",
              "      <td>0.3670</td>\n",
              "      <td>Glorot Uniform</td>\n",
              "    </tr>\n",
              "  </tbody>\n",
              "</table>\n",
              "</div>"
            ],
            "text/plain": [
              "   Accuracy weight_init_method\n",
              "0    0.3693               Zero\n",
              "1    0.3702               Ones\n",
              "2    0.3643      Random Normal\n",
              "3    0.3669     Random Uniform\n",
              "4    0.3724           Identity\n",
              "5    0.3574         Orthogonal\n",
              "6    0.3813      Glorot Normal\n",
              "7    0.3670     Glorot Uniform"
            ]
          },
          "metadata": {
            "tags": []
          }
        }
      ]
    },
    {
      "cell_type": "code",
      "metadata": {
        "colab_type": "code",
        "id": "sXq8Uj3lenzH",
        "outputId": "2a495357-5e2b-40b9-a021-791928eede92",
        "colab": {
          "base_uri": "https://localhost:8080/",
          "height": 354
        }
      },
      "source": [
        "import matplotlib.pyplot as plt\n",
        "\n",
        "accuracy_df.plot(x=\"weight_init_method\", y=\"Accuracy\",rot = 90)\n",
        "\n",
        "plt.show()\n"
      ],
      "execution_count": 11,
      "outputs": [
        {
          "output_type": "display_data",
          "data": {
            "image/png": "[encoded data removed]",
            "text/plain": [
              "<Figure size 432x288 with 1 Axes>"
            ]
          },
          "metadata": {
            "tags": [],
            "needs_background": "light"
          }
        }
      ]
    },
    {
      "cell_type": "code",
      "metadata": {
        "id": "O37chbRgZDXF",
        "colab_type": "code",
        "outputId": "45088f3a-2a9e-475b-e905-d56a886a47e5",
        "colab": {
          "base_uri": "https://localhost:8080/",
          "height": 34
        }
      },
      "source": [
        "classified = []\n",
        "\n",
        "for prediction in tqdm(predictions):\n",
        "    classified.append([1 if i==j else 0 for i,j in zip(prediction,y_test)])"
      ],
      "execution_count": 12,
      "outputs": [
        {
          "output_type": "stream",
          "text": [
            "100%|██████████| 8/8 [00:00<00:00, 103.10it/s]\n"
          ],
          "name": "stderr"
        }
      ]
    },
    {
      "cell_type": "markdown",
      "metadata": {
        "colab_type": "text",
        "id": "NMfc-h8xAYQu"
      },
      "source": [
        "## Correlation between models"
      ]
    },
    {
      "cell_type": "code",
      "metadata": {
        "colab_type": "code",
        "id": "FAky42lMV102",
        "outputId": "d485d878-57b0-4ea8-9a14-36c0f1d8e8ae",
        "colab": {
          "base_uri": "https://localhost:8080/",
          "height": 314
        }
      },
      "source": [
        "correlation_matrix = []\n",
        "\n",
        "for ix, x in enumerate(classified):\n",
        "  row = []\n",
        "  \n",
        "  for iy, y in enumerate(classified):\n",
        "    if (ix == iy):\n",
        "      row.append(np.nan)\n",
        "    else:\n",
        "      row.append(pearsonr(x,y)[0])\n",
        "\n",
        "  correlation_matrix.append(row)\n",
        "\n",
        "correlation_matrix = np.array(correlation_matrix)\n",
        "correlation_matrix_df = pd.DataFrame(correlation_matrix)\n",
        "correlation_matrix_df.columns = initializer\n",
        "correlation_matrix_df.index = initializer\n",
        "display(correlation_matrix_df)\n",
        "print(\"Average correlation: \" + str(np.nanmean(correlation_matrix.flatten())))"
      ],
      "execution_count": 13,
      "outputs": [
        {
          "output_type": "display_data",
          "data": {
            "text/html": [
              "<div>\n",
              "<style scoped>\n",
              "    .dataframe tbody tr th:only-of-type {\n",
              "        vertical-align: middle;\n",
              "    }\n",
              "\n",
              "    .dataframe tbody tr th {\n",
              "        vertical-align: top;\n",
              "    }\n",
              "\n",
              "    .dataframe thead th {\n",
              "        text-align: right;\n",
              "    }\n",
              "</style>\n",
              "<table border=\"1\" class=\"dataframe\">\n",
              "  <thead>\n",
              "    <tr style=\"text-align: right;\">\n",
              "      <th></th>\n",
              "      <th>Zero</th>\n",
              "      <th>Ones</th>\n",
              "      <th>Random Normal</th>\n",
              "      <th>Random Uniform</th>\n",
              "      <th>Identity</th>\n",
              "      <th>Orthogonal</th>\n",
              "      <th>Glorot Normal</th>\n",
              "      <th>Glorot Uniform</th>\n",
              "    </tr>\n",
              "  </thead>\n",
              "  <tbody>\n",
              "    <tr>\n",
              "      <th>Zero</th>\n",
              "      <td>NaN</td>\n",
              "      <td>0.571954</td>\n",
              "      <td>0.582406</td>\n",
              "      <td>0.616094</td>\n",
              "      <td>0.608067</td>\n",
              "      <td>0.548292</td>\n",
              "      <td>0.585241</td>\n",
              "      <td>0.592685</td>\n",
              "    </tr>\n",
              "    <tr>\n",
              "      <th>Ones</th>\n",
              "      <td>0.571954</td>\n",
              "      <td>NaN</td>\n",
              "      <td>0.609105</td>\n",
              "      <td>0.557644</td>\n",
              "      <td>0.579337</td>\n",
              "      <td>0.609288</td>\n",
              "      <td>0.592012</td>\n",
              "      <td>0.623624</td>\n",
              "    </tr>\n",
              "    <tr>\n",
              "      <th>Random Normal</th>\n",
              "      <td>0.582406</td>\n",
              "      <td>0.609105</td>\n",
              "      <td>NaN</td>\n",
              "      <td>0.623185</td>\n",
              "      <td>0.627703</td>\n",
              "      <td>0.563252</td>\n",
              "      <td>0.589517</td>\n",
              "      <td>0.583329</td>\n",
              "    </tr>\n",
              "    <tr>\n",
              "      <th>Random Uniform</th>\n",
              "      <td>0.616094</td>\n",
              "      <td>0.557644</td>\n",
              "      <td>0.623185</td>\n",
              "      <td>NaN</td>\n",
              "      <td>0.620885</td>\n",
              "      <td>0.516818</td>\n",
              "      <td>0.541248</td>\n",
              "      <td>0.579634</td>\n",
              "    </tr>\n",
              "    <tr>\n",
              "      <th>Identity</th>\n",
              "      <td>0.608067</td>\n",
              "      <td>0.579337</td>\n",
              "      <td>0.627703</td>\n",
              "      <td>0.620885</td>\n",
              "      <td>NaN</td>\n",
              "      <td>0.550771</td>\n",
              "      <td>0.593258</td>\n",
              "      <td>0.607815</td>\n",
              "    </tr>\n",
              "    <tr>\n",
              "      <th>Orthogonal</th>\n",
              "      <td>0.548292</td>\n",
              "      <td>0.609288</td>\n",
              "      <td>0.563252</td>\n",
              "      <td>0.516818</td>\n",
              "      <td>0.550771</td>\n",
              "      <td>NaN</td>\n",
              "      <td>0.545711</td>\n",
              "      <td>0.560359</td>\n",
              "    </tr>\n",
              "    <tr>\n",
              "      <th>Glorot Normal</th>\n",
              "      <td>0.585241</td>\n",
              "      <td>0.592012</td>\n",
              "      <td>0.589517</td>\n",
              "      <td>0.541248</td>\n",
              "      <td>0.593258</td>\n",
              "      <td>0.545711</td>\n",
              "      <td>NaN</td>\n",
              "      <td>0.612390</td>\n",
              "    </tr>\n",
              "    <tr>\n",
              "      <th>Glorot Uniform</th>\n",
              "      <td>0.592685</td>\n",
              "      <td>0.623624</td>\n",
              "      <td>0.583329</td>\n",
              "      <td>0.579634</td>\n",
              "      <td>0.607815</td>\n",
              "      <td>0.560359</td>\n",
              "      <td>0.612390</td>\n",
              "      <td>NaN</td>\n",
              "    </tr>\n",
              "  </tbody>\n",
              "</table>\n",
              "</div>"
            ],
            "text/plain": [
              "                    Zero      Ones  ...  Glorot Normal  Glorot Uniform\n",
              "Zero                 NaN  0.571954  ...       0.585241        0.592685\n",
              "Ones            0.571954       NaN  ...       0.592012        0.623624\n",
              "Random Normal   0.582406  0.609105  ...       0.589517        0.583329\n",
              "Random Uniform  0.616094  0.557644  ...       0.541248        0.579634\n",
              "Identity        0.608067  0.579337  ...       0.593258        0.607815\n",
              "Orthogonal      0.548292  0.609288  ...       0.545711        0.560359\n",
              "Glorot Normal   0.585241  0.592012  ...            NaN        0.612390\n",
              "Glorot Uniform  0.592685  0.623624  ...       0.612390             NaN\n",
              "\n",
              "[8 rows x 8 columns]"
            ]
          },
          "metadata": {
            "tags": []
          }
        },
        {
          "output_type": "stream",
          "text": [
            "Average correlation: 0.5854151706135186\n"
          ],
          "name": "stdout"
        }
      ]
    }
  ]
}