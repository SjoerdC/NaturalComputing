{
  "nbformat": 4,
  "nbformat_minor": 0,
  "metadata": {
    "accelerator": "GPU",
    "colab": {
      "name": "weight_int_CIFAR10.ipynb",
      "provenance": [],
      "collapsed_sections": [],
      "toc_visible": true
    },
    "kernelspec": {
      "display_name": "Python 3",
      "language": "python",
      "name": "python3"
    },
    "language_info": {
      "codemirror_mode": {
        "name": "ipython",
        "version": 3
      },
      "file_extension": ".py",
      "mimetype": "text/x-python",
      "name": "python",
      "nbconvert_exporter": "python",
      "pygments_lexer": "ipython3",
      "version": "3.7.4"
    }
  },
  "cells": [
    {
      "cell_type": "code",
      "metadata": {
        "colab_type": "code",
        "id": "fde69AMuOpox",
        "outputId": "6658caa3-93e9-41e0-a218-967276cff8e0",
        "colab": {
          "base_uri": "https://localhost:8080/",
          "height": 34
        }
      },
      "source": [
        "import keras\n",
        "import cv2\n",
        "import numpy as np\n",
        "import pandas as pd\n",
        "import tensorflow as tf\n",
        "import scipy\n",
        "from tensorflow.keras import initializers\n",
        "from itertools import count\n",
        "from sklearn.metrics import accuracy_score\n",
        "from keras.datasets import cifar10\n",
        "from keras.applications.vgg16 import VGG16\n",
        "from keras import layers\n",
        "from keras.layers import Dense, Dropout, Flatten, Activation, Input, Conv2D, MaxPooling2D, BatchNormalization, GlobalAveragePooling2D\n",
        "from keras.models import Model\n",
        "from sklearn.model_selection import train_test_split\n",
        "from keras.callbacks import EarlyStopping\n",
        "from scipy.stats import pearsonr\n",
        "from tqdm import tqdm"
      ],
      "execution_count": 1,
      "outputs": [
        {
          "output_type": "stream",
          "text": [
            "Using TensorFlow backend.\n"
          ],
          "name": "stderr"
        }
      ]
    },
    {
      "cell_type": "code",
      "metadata": {
        "colab_type": "code",
        "id": "qYrab7qpOppj",
        "colab": {}
      },
      "source": [
        "BATCH_SIZE = 128\n",
        "EPOCHS = 9999\n",
        "IMAGE_SIZE = 32\n",
        "NUM_CLASSES = 10\n",
        "NUM_CHANNELS = 3\n",
        "MODEL_ADDITION_DELTA = 0.01\n",
        "MODEL_ADDITION_PATIENCE = 3\n",
        "MODEL_NAME = \"CIFAR10_weight_init\"\n",
        "PATH = \"\""
      ],
      "execution_count": 0,
      "outputs": []
    },
    {
      "cell_type": "markdown",
      "metadata": {
        "colab_type": "text",
        "id": "R9M4_-IaBOsn"
      },
      "source": [
        "# Set seeds"
      ]
    },
    {
      "cell_type": "code",
      "metadata": {
        "colab_type": "code",
        "id": "7n9nJGd_BQ-r",
        "colab": {}
      },
      "source": [
        "run = \"run3\"\n",
        "np.random.seed(3)\n",
        "tf.random.set_seed(3)"
      ],
      "execution_count": 0,
      "outputs": []
    },
    {
      "cell_type": "markdown",
      "metadata": {
        "colab_type": "text",
        "id": "g8QvEt97vF52"
      },
      "source": [
        "# Preprocess"
      ]
    },
    {
      "cell_type": "code",
      "metadata": {
        "colab_type": "code",
        "id": "XypdmBJROpp9",
        "outputId": "adfeead5-ba6a-4d24-f73c-fa562613c876",
        "colab": {
          "base_uri": "https://localhost:8080/",
          "height": 68
        }
      },
      "source": [
        "(x_train, y_train), (x_test, y_test) = cifar10.load_data()\n",
        "\n",
        "print('x_train shape:', x_train.shape)\n",
        "print(x_train.shape[0], 'train samples')\n",
        "print(x_test.shape[0], 'test samples')"
      ],
      "execution_count": 4,
      "outputs": [
        {
          "output_type": "stream",
          "text": [
            "x_train shape: (50000, 32, 32, 3)\n",
            "50000 train samples\n",
            "10000 test samples\n"
          ],
          "name": "stdout"
        }
      ]
    },
    {
      "cell_type": "code",
      "metadata": {
        "colab_type": "code",
        "id": "mo8yHyg-Opqo",
        "colab": {}
      },
      "source": [
        "# Convert class vectors to binary class matrices.\n",
        "y_train = keras.utils.to_categorical(y_train, NUM_CLASSES)\n",
        "y_testc = keras.utils.to_categorical(y_test, NUM_CLASSES)"
      ],
      "execution_count": 0,
      "outputs": []
    },
    {
      "cell_type": "code",
      "metadata": {
        "colab_type": "code",
        "id": "a4SYRuKZaIwb",
        "colab": {}
      },
      "source": [
        "x_train = x_train.astype('float32')\n",
        "x_test = x_test.astype('float32')\n",
        "x_train /= 255\n",
        "x_test /= 255"
      ],
      "execution_count": 0,
      "outputs": []
    },
    {
      "cell_type": "code",
      "metadata": {
        "colab_type": "code",
        "id": "vBci5ba9hiaQ",
        "colab": {}
      },
      "source": [
        "# Split the data\n",
        "x_train, x_val, y_train, y_val = train_test_split(x_train, y_train, test_size=0.20, shuffle= True)"
      ],
      "execution_count": 0,
      "outputs": []
    },
    {
      "cell_type": "markdown",
      "metadata": {
        "colab_type": "text",
        "id": "gIBGIrlkvOt0"
      },
      "source": [
        "# Model"
      ]
    },
    {
      "cell_type": "code",
      "metadata": {
        "colab_type": "code",
        "id": "zLWph6_aOpr2",
        "colab": {}
      },
      "source": [
        "def CIFAR10model(imsize, num_classes, num_channels):\n",
        "    inputs = Input((imsize,imsize,num_channels))\n",
        "    x = Conv2D(filters=64, kernel_size=(3,3), activation='relu')(inputs)\n",
        "    x = Conv2D(filters=64, kernel_size=(3,3), strides=2)(x)\n",
        "    x = Activation('relu')(x)\n",
        "    x = BatchNormalization()(x)\n",
        "    x = MaxPooling2D(pool_size=(2,2), strides=(2,2), padding='same')(x)\n",
        "    x = Conv2D(filters=128, kernel_size=(3,3), activation='relu', strides=2, padding='same')(x)\n",
        "    x = Conv2D(filters=128, kernel_size=(3,3), activation='relu', strides=2, padding='same')(x)\n",
        "    x = BatchNormalization()(x)\n",
        "    x = Conv2D(filters=128, kernel_size=(1,1), activation='relu', padding='valid')(x)\n",
        "    x = Conv2D(filters=10, kernel_size=(1,1),strides=(1,1), padding='valid')(x)\n",
        "    x = GlobalAveragePooling2D()(x)\n",
        "    outputs = Activation('softmax')(x)\n",
        "    \n",
        "    model = Model(inputs=inputs, outputs=outputs)\n",
        "\n",
        "    optimizer = keras.optimizers.Adam(learning_rate = 1e-04)\n",
        "\n",
        "    model.compile(loss='categorical_crossentropy',\n",
        "                      optimizer=optimizer,\n",
        "                      metrics=['accuracy'])\n",
        "    return model"
      ],
      "execution_count": 0,
      "outputs": []
    },
    {
      "cell_type": "markdown",
      "metadata": {
        "colab_type": "text",
        "id": "TVqdcrD_vQ-Q"
      },
      "source": [
        "# Train"
      ]
    },
    {
      "cell_type": "code",
      "metadata": {
        "colab_type": "code",
        "id": "HjvZqLBJOpsw",
        "outputId": "9a9d5475-99df-4440-8e11-71fd7948abd8",
        "colab": {
          "base_uri": "https://localhost:8080/",
          "height": 1000
        }
      },
      "source": [
        "models = []\n",
        "accuracies = []\n",
        "predictions = []\n",
        "initializer = [\"Zero\",\"Ones\",\"Random Normal\",\"Random Uniform\",\"Identity\",\"Orthogonal\",\"Glorot Normal\",\"Glorot Uniform\"]\n",
        "for i in range(len(initializer)):\n",
        "\n",
        "    print(f\"Train model {i}\")\n",
        "    print(f\"Weight init method: {initializer[i]} \")\n",
        "    model = CIFAR10model(IMAGE_SIZE,NUM_CLASSES,NUM_CHANNELS)\n",
        "    \n",
        "    for layer in model.layers: \n",
        "        if hasattr(layer, 'kernel_initializer'):\n",
        "            if(initializer[i] == \"Zero\"):\n",
        "                layer.kernel_initializer = initializers.Zeros()\n",
        "            elif(initializer[i] == \"Ones\"):\n",
        "                layer.kernel_initializer = initializers.Ones()\n",
        "            elif(initializer[i] == \"Random Normal\"):\n",
        "                layer.kernel_initializer = initializers.RandomNormal()\n",
        "            elif(initializer[i] == \"Random Unifrom\"):\n",
        "                layer.kernel_initializer = initializers.RandomUniform()\n",
        "            elif(initializer[i] == \"Identity\"):\n",
        "                layer.kernel_initializer = initializers.Identity()\n",
        "            elif(initializer[i] == \"Orthogonal\"):\n",
        "                layer.kernel_initializer = initializers.Orthogonal()\n",
        "            elif(initializer[i] == \"Glorot Normal\"):\n",
        "                layer.kernel_initializer = initializers.GlorotNormal()\n",
        "            elif(initializer[i] == \"Glorot Unifrom\"):\n",
        "                layer.kernel_initializer = initializers.GlorotUnifrom()\n",
        "          \n",
        "    es = EarlyStopping(monitor='val_loss', min_delta=0.01, patience=3)\n",
        "    model.fit(x_train,y_train,\n",
        "              batch_size = BATCH_SIZE,\n",
        "              epochs = EPOCHS,\n",
        "              validation_data = (x_val,y_val),\n",
        "              shuffle = True,\n",
        "              callbacks=[es])\n",
        "    models.append(model)\n",
        "    y_prob = model.predict(x_test) \n",
        "    predictions.append(y_prob.argmax(axis=-1))\n",
        "    acc = model.evaluate(x_test,y_testc)[1]\n",
        "    accuracies.append(acc)\n",
        "\n",
        "    print(f\"Model: {i} added. Resulting score: {acc}\")\n"
      ],
      "execution_count": 9,
      "outputs": [
        {
          "output_type": "stream",
          "text": [
            "Train model 0\n",
            "Weight init method: Zero \n",
            "Train on 40000 samples, validate on 10000 samples\n",
            "Epoch 1/9999\n",
            "40000/40000 [==============================] - 11s 274us/step - loss: 1.7003 - accuracy: 0.3963 - val_loss: 2.2523 - val_accuracy: 0.1374\n",
            "Epoch 2/9999\n",
            "40000/40000 [==============================] - 9s 231us/step - loss: 1.3448 - accuracy: 0.5207 - val_loss: 1.4760 - val_accuracy: 0.4858\n",
            "Epoch 3/9999\n",
            "40000/40000 [==============================] - 9s 229us/step - loss: 1.1938 - accuracy: 0.5810 - val_loss: 1.2383 - val_accuracy: 0.5608\n",
            "Epoch 4/9999\n",
            "40000/40000 [==============================] - 9s 229us/step - loss: 1.0798 - accuracy: 0.6245 - val_loss: 1.1733 - val_accuracy: 0.5866\n",
            "Epoch 5/9999\n",
            "40000/40000 [==============================] - 9s 229us/step - loss: 0.9910 - accuracy: 0.6548 - val_loss: 1.1913 - val_accuracy: 0.5800\n",
            "Epoch 6/9999\n",
            "40000/40000 [==============================] - 9s 228us/step - loss: 0.9111 - accuracy: 0.6845 - val_loss: 1.1362 - val_accuracy: 0.6057\n",
            "Epoch 7/9999\n",
            "40000/40000 [==============================] - 9s 228us/step - loss: 0.8425 - accuracy: 0.7108 - val_loss: 1.0803 - val_accuracy: 0.6191\n",
            "Epoch 8/9999\n",
            "40000/40000 [==============================] - 9s 230us/step - loss: 0.7781 - accuracy: 0.7352 - val_loss: 1.2385 - val_accuracy: 0.5707\n",
            "Epoch 9/9999\n",
            "40000/40000 [==============================] - 9s 229us/step - loss: 0.7233 - accuracy: 0.7555 - val_loss: 0.9636 - val_accuracy: 0.6591\n",
            "Epoch 10/9999\n",
            "40000/40000 [==============================] - 9s 229us/step - loss: 0.6688 - accuracy: 0.7772 - val_loss: 0.9508 - val_accuracy: 0.6677\n",
            "Epoch 11/9999\n",
            "40000/40000 [==============================] - 9s 229us/step - loss: 0.6169 - accuracy: 0.7967 - val_loss: 1.0196 - val_accuracy: 0.6548\n",
            "Epoch 12/9999\n",
            "40000/40000 [==============================] - 9s 228us/step - loss: 0.5714 - accuracy: 0.8114 - val_loss: 0.9658 - val_accuracy: 0.6696\n",
            "Epoch 13/9999\n",
            "40000/40000 [==============================] - 9s 228us/step - loss: 0.5241 - accuracy: 0.8322 - val_loss: 0.9815 - val_accuracy: 0.6705\n",
            "10000/10000 [==============================] - 2s 160us/step\n",
            "Model: 0 added. Resulting score: 0.6662999987602234\n",
            "Train model 1\n",
            "Weight init method: Ones \n",
            "Train on 40000 samples, validate on 10000 samples\n",
            "Epoch 1/9999\n",
            "40000/40000 [==============================] - 10s 243us/step - loss: 1.6929 - accuracy: 0.3966 - val_loss: 2.1266 - val_accuracy: 0.2252\n",
            "Epoch 2/9999\n",
            "40000/40000 [==============================] - 9s 229us/step - loss: 1.3173 - accuracy: 0.5370 - val_loss: 1.4960 - val_accuracy: 0.4704\n",
            "Epoch 3/9999\n",
            "40000/40000 [==============================] - 9s 229us/step - loss: 1.1623 - accuracy: 0.5918 - val_loss: 1.2020 - val_accuracy: 0.5803\n",
            "Epoch 4/9999\n",
            "40000/40000 [==============================] - 9s 230us/step - loss: 1.0553 - accuracy: 0.6348 - val_loss: 1.1252 - val_accuracy: 0.6015\n",
            "Epoch 5/9999\n",
            "40000/40000 [==============================] - 9s 229us/step - loss: 0.9678 - accuracy: 0.6662 - val_loss: 1.2517 - val_accuracy: 0.5562\n",
            "Epoch 6/9999\n",
            "40000/40000 [==============================] - 9s 230us/step - loss: 0.8948 - accuracy: 0.6923 - val_loss: 1.0664 - val_accuracy: 0.6220\n",
            "Epoch 7/9999\n",
            "40000/40000 [==============================] - 9s 229us/step - loss: 0.8258 - accuracy: 0.7161 - val_loss: 1.0287 - val_accuracy: 0.6382\n",
            "Epoch 8/9999\n",
            "40000/40000 [==============================] - 9s 228us/step - loss: 0.7665 - accuracy: 0.7407 - val_loss: 0.9865 - val_accuracy: 0.6530\n",
            "Epoch 9/9999\n",
            "40000/40000 [==============================] - 9s 229us/step - loss: 0.7086 - accuracy: 0.7595 - val_loss: 1.1136 - val_accuracy: 0.6145\n",
            "Epoch 10/9999\n",
            "40000/40000 [==============================] - 9s 228us/step - loss: 0.6556 - accuracy: 0.7814 - val_loss: 0.9870 - val_accuracy: 0.6599\n",
            "Epoch 11/9999\n",
            "40000/40000 [==============================] - 9s 228us/step - loss: 0.6051 - accuracy: 0.7997 - val_loss: 0.9830 - val_accuracy: 0.6605\n",
            "10000/10000 [==============================] - 2s 162us/step\n",
            "Model: 1 added. Resulting score: 0.6625999808311462\n",
            "Train model 2\n",
            "Weight init method: Random Normal \n",
            "Train on 40000 samples, validate on 10000 samples\n",
            "Epoch 1/9999\n",
            "40000/40000 [==============================] - 10s 245us/step - loss: 1.7108 - accuracy: 0.3970 - val_loss: 2.1633 - val_accuracy: 0.1310\n",
            "Epoch 2/9999\n",
            "40000/40000 [==============================] - 9s 229us/step - loss: 1.3220 - accuracy: 0.5344 - val_loss: 1.3810 - val_accuracy: 0.5238\n",
            "Epoch 3/9999\n",
            "40000/40000 [==============================] - 9s 228us/step - loss: 1.1586 - accuracy: 0.5951 - val_loss: 1.3054 - val_accuracy: 0.5269\n",
            "Epoch 4/9999\n",
            "40000/40000 [==============================] - 9s 228us/step - loss: 1.0525 - accuracy: 0.6329 - val_loss: 1.1361 - val_accuracy: 0.5950\n",
            "Epoch 5/9999\n",
            "40000/40000 [==============================] - 9s 229us/step - loss: 0.9646 - accuracy: 0.6680 - val_loss: 1.1032 - val_accuracy: 0.6136\n",
            "Epoch 6/9999\n",
            "40000/40000 [==============================] - 9s 229us/step - loss: 0.8909 - accuracy: 0.6942 - val_loss: 1.1794 - val_accuracy: 0.5811\n",
            "Epoch 7/9999\n",
            "40000/40000 [==============================] - 9s 229us/step - loss: 0.8295 - accuracy: 0.7154 - val_loss: 1.0067 - val_accuracy: 0.6457\n",
            "Epoch 8/9999\n",
            "40000/40000 [==============================] - 9s 229us/step - loss: 0.7683 - accuracy: 0.7386 - val_loss: 1.0448 - val_accuracy: 0.6361\n",
            "Epoch 9/9999\n",
            "40000/40000 [==============================] - 9s 228us/step - loss: 0.7118 - accuracy: 0.7591 - val_loss: 0.9581 - val_accuracy: 0.6690\n",
            "Epoch 10/9999\n",
            "40000/40000 [==============================] - 9s 230us/step - loss: 0.6608 - accuracy: 0.7783 - val_loss: 1.0385 - val_accuracy: 0.6394\n",
            "Epoch 11/9999\n",
            "40000/40000 [==============================] - 9s 230us/step - loss: 0.6144 - accuracy: 0.7961 - val_loss: 1.0155 - val_accuracy: 0.6539\n",
            "Epoch 12/9999\n",
            "40000/40000 [==============================] - 9s 228us/step - loss: 0.5666 - accuracy: 0.8150 - val_loss: 1.0210 - val_accuracy: 0.6534\n",
            "10000/10000 [==============================] - 2s 160us/step\n",
            "Model: 2 added. Resulting score: 0.6435999870300293\n",
            "Train model 3\n",
            "Weight init method: Random Uniform \n",
            "Train on 40000 samples, validate on 10000 samples\n",
            "Epoch 1/9999\n",
            "40000/40000 [==============================] - 10s 243us/step - loss: 1.6870 - accuracy: 0.4008 - val_loss: 2.2873 - val_accuracy: 0.1311\n",
            "Epoch 2/9999\n",
            "40000/40000 [==============================] - 9s 229us/step - loss: 1.3061 - accuracy: 0.5382 - val_loss: 1.5022 - val_accuracy: 0.4711\n",
            "Epoch 3/9999\n",
            "40000/40000 [==============================] - 9s 229us/step - loss: 1.1481 - accuracy: 0.6035 - val_loss: 1.3501 - val_accuracy: 0.5247\n",
            "Epoch 4/9999\n",
            "40000/40000 [==============================] - 9s 228us/step - loss: 1.0406 - accuracy: 0.6403 - val_loss: 1.1302 - val_accuracy: 0.5980\n",
            "Epoch 5/9999\n",
            "40000/40000 [==============================] - 9s 229us/step - loss: 0.9531 - accuracy: 0.6726 - val_loss: 1.1303 - val_accuracy: 0.6071\n",
            "Epoch 6/9999\n",
            "40000/40000 [==============================] - 9s 229us/step - loss: 0.8791 - accuracy: 0.6995 - val_loss: 1.0450 - val_accuracy: 0.6327\n",
            "Epoch 7/9999\n",
            "40000/40000 [==============================] - 9s 229us/step - loss: 0.8118 - accuracy: 0.7232 - val_loss: 1.1631 - val_accuracy: 0.5956\n",
            "Epoch 8/9999\n",
            "40000/40000 [==============================] - 9s 228us/step - loss: 0.7514 - accuracy: 0.7450 - val_loss: 1.0407 - val_accuracy: 0.6377\n",
            "Epoch 9/9999\n",
            "40000/40000 [==============================] - 9s 229us/step - loss: 0.6942 - accuracy: 0.7661 - val_loss: 1.0208 - val_accuracy: 0.6438\n",
            "Epoch 10/9999\n",
            "40000/40000 [==============================] - 9s 228us/step - loss: 0.6410 - accuracy: 0.7861 - val_loss: 0.9620 - val_accuracy: 0.6690\n",
            "Epoch 11/9999\n",
            "40000/40000 [==============================] - 9s 228us/step - loss: 0.5880 - accuracy: 0.8060 - val_loss: 1.0047 - val_accuracy: 0.6527\n",
            "Epoch 12/9999\n",
            "40000/40000 [==============================] - 9s 228us/step - loss: 0.5393 - accuracy: 0.8245 - val_loss: 0.9626 - val_accuracy: 0.6711\n",
            "Epoch 13/9999\n",
            "40000/40000 [==============================] - 9s 228us/step - loss: 0.4920 - accuracy: 0.8415 - val_loss: 1.0200 - val_accuracy: 0.6520\n",
            "10000/10000 [==============================] - 2s 159us/step\n",
            "Model: 3 added. Resulting score: 0.6597999930381775\n",
            "Train model 4\n",
            "Weight init method: Identity \n",
            "Train on 40000 samples, validate on 10000 samples\n",
            "Epoch 1/9999\n",
            "40000/40000 [==============================] - 10s 244us/step - loss: 1.6892 - accuracy: 0.3986 - val_loss: 2.1845 - val_accuracy: 0.2063\n",
            "Epoch 2/9999\n",
            "40000/40000 [==============================] - 9s 229us/step - loss: 1.3205 - accuracy: 0.5327 - val_loss: 1.4331 - val_accuracy: 0.4930\n",
            "Epoch 3/9999\n",
            "40000/40000 [==============================] - 9s 229us/step - loss: 1.1619 - accuracy: 0.5936 - val_loss: 1.2097 - val_accuracy: 0.5681\n",
            "Epoch 4/9999\n",
            "40000/40000 [==============================] - 9s 228us/step - loss: 1.0514 - accuracy: 0.6344 - val_loss: 1.2090 - val_accuracy: 0.5733\n",
            "Epoch 5/9999\n",
            "40000/40000 [==============================] - 9s 229us/step - loss: 0.9619 - accuracy: 0.6678 - val_loss: 1.0542 - val_accuracy: 0.6276\n",
            "Epoch 6/9999\n",
            "40000/40000 [==============================] - 9s 228us/step - loss: 0.8865 - accuracy: 0.6952 - val_loss: 1.0364 - val_accuracy: 0.6319\n",
            "Epoch 7/9999\n",
            "40000/40000 [==============================] - 9s 228us/step - loss: 0.8208 - accuracy: 0.7192 - val_loss: 1.0539 - val_accuracy: 0.6281\n",
            "Epoch 8/9999\n",
            "40000/40000 [==============================] - 9s 230us/step - loss: 0.7580 - accuracy: 0.7427 - val_loss: 1.0629 - val_accuracy: 0.6277\n",
            "Epoch 9/9999\n",
            "40000/40000 [==============================] - 9s 232us/step - loss: 0.7011 - accuracy: 0.7634 - val_loss: 1.0470 - val_accuracy: 0.6403\n",
            "10000/10000 [==============================] - 2s 159us/step\n",
            "Model: 4 added. Resulting score: 0.6247000098228455\n",
            "Train model 5\n",
            "Weight init method: Orthogonal \n",
            "Train on 40000 samples, validate on 10000 samples\n",
            "Epoch 1/9999\n",
            "40000/40000 [==============================] - 10s 242us/step - loss: 1.7368 - accuracy: 0.3864 - val_loss: 2.2890 - val_accuracy: 0.1014\n",
            "Epoch 2/9999\n",
            "40000/40000 [==============================] - 9s 228us/step - loss: 1.3531 - accuracy: 0.5257 - val_loss: 1.5626 - val_accuracy: 0.4360\n",
            "Epoch 3/9999\n",
            "40000/40000 [==============================] - 9s 229us/step - loss: 1.1901 - accuracy: 0.5841 - val_loss: 1.2408 - val_accuracy: 0.5606\n",
            "Epoch 4/9999\n",
            "40000/40000 [==============================] - 9s 229us/step - loss: 1.0691 - accuracy: 0.6268 - val_loss: 1.1746 - val_accuracy: 0.5890\n",
            "Epoch 5/9999\n",
            "40000/40000 [==============================] - 9s 228us/step - loss: 0.9755 - accuracy: 0.6607 - val_loss: 1.0961 - val_accuracy: 0.6103\n",
            "Epoch 6/9999\n",
            "40000/40000 [==============================] - 9s 227us/step - loss: 0.8991 - accuracy: 0.6891 - val_loss: 1.0920 - val_accuracy: 0.6158\n",
            "Epoch 7/9999\n",
            "40000/40000 [==============================] - 9s 228us/step - loss: 0.8307 - accuracy: 0.7186 - val_loss: 0.9998 - val_accuracy: 0.6511\n",
            "Epoch 8/9999\n",
            "40000/40000 [==============================] - 9s 230us/step - loss: 0.7717 - accuracy: 0.7369 - val_loss: 1.0414 - val_accuracy: 0.6287\n",
            "Epoch 9/9999\n",
            "40000/40000 [==============================] - 9s 229us/step - loss: 0.7107 - accuracy: 0.7591 - val_loss: 1.0545 - val_accuracy: 0.6339\n",
            "Epoch 10/9999\n",
            "40000/40000 [==============================] - 9s 228us/step - loss: 0.6603 - accuracy: 0.7784 - val_loss: 1.0679 - val_accuracy: 0.6385\n",
            "10000/10000 [==============================] - 2s 158us/step\n",
            "Model: 5 added. Resulting score: 0.6251999735832214\n",
            "Train model 6\n",
            "Weight init method: Glorot Normal \n",
            "Train on 40000 samples, validate on 10000 samples\n",
            "Epoch 1/9999\n",
            "40000/40000 [==============================] - 10s 244us/step - loss: 1.7090 - accuracy: 0.3964 - val_loss: 2.2596 - val_accuracy: 0.1101\n",
            "Epoch 2/9999\n",
            "40000/40000 [==============================] - 9s 229us/step - loss: 1.3217 - accuracy: 0.5352 - val_loss: 1.5043 - val_accuracy: 0.4708\n",
            "Epoch 3/9999\n",
            "40000/40000 [==============================] - 9s 229us/step - loss: 1.1559 - accuracy: 0.5954 - val_loss: 1.2200 - val_accuracy: 0.5706\n",
            "Epoch 4/9999\n",
            "40000/40000 [==============================] - 9s 228us/step - loss: 1.0455 - accuracy: 0.6374 - val_loss: 1.2786 - val_accuracy: 0.5438\n",
            "Epoch 5/9999\n",
            "40000/40000 [==============================] - 9s 229us/step - loss: 0.9619 - accuracy: 0.6689 - val_loss: 1.0779 - val_accuracy: 0.6169\n",
            "Epoch 6/9999\n",
            "40000/40000 [==============================] - 9s 229us/step - loss: 0.8879 - accuracy: 0.6954 - val_loss: 1.0159 - val_accuracy: 0.6376\n",
            "Epoch 7/9999\n",
            "40000/40000 [==============================] - 9s 228us/step - loss: 0.8203 - accuracy: 0.7208 - val_loss: 1.0228 - val_accuracy: 0.6417\n",
            "Epoch 8/9999\n",
            "40000/40000 [==============================] - 9s 229us/step - loss: 0.7614 - accuracy: 0.7398 - val_loss: 0.9877 - val_accuracy: 0.6502\n",
            "Epoch 9/9999\n",
            "40000/40000 [==============================] - 9s 229us/step - loss: 0.7061 - accuracy: 0.7630 - val_loss: 1.1067 - val_accuracy: 0.6179\n",
            "Epoch 10/9999\n",
            "40000/40000 [==============================] - 9s 228us/step - loss: 0.6570 - accuracy: 0.7814 - val_loss: 0.9824 - val_accuracy: 0.6522\n",
            "Epoch 11/9999\n",
            "40000/40000 [==============================] - 9s 229us/step - loss: 0.6043 - accuracy: 0.7998 - val_loss: 1.0051 - val_accuracy: 0.6494\n",
            "10000/10000 [==============================] - 2s 160us/step\n",
            "Model: 6 added. Resulting score: 0.6545000076293945\n",
            "Train model 7\n",
            "Weight init method: Glorot Uniform \n",
            "Train on 40000 samples, validate on 10000 samples\n",
            "Epoch 1/9999\n",
            "40000/40000 [==============================] - 10s 244us/step - loss: 1.7312 - accuracy: 0.3869 - val_loss: 2.2043 - val_accuracy: 0.1367\n",
            "Epoch 2/9999\n",
            "40000/40000 [==============================] - 9s 228us/step - loss: 1.3392 - accuracy: 0.5278 - val_loss: 1.4953 - val_accuracy: 0.4804\n",
            "Epoch 3/9999\n",
            "40000/40000 [==============================] - 9s 228us/step - loss: 1.1843 - accuracy: 0.5841 - val_loss: 1.2033 - val_accuracy: 0.5765\n",
            "Epoch 4/9999\n",
            "40000/40000 [==============================] - 9s 228us/step - loss: 1.0776 - accuracy: 0.6223 - val_loss: 1.2549 - val_accuracy: 0.5559\n",
            "Epoch 5/9999\n",
            "40000/40000 [==============================] - 9s 227us/step - loss: 0.9886 - accuracy: 0.6565 - val_loss: 1.1015 - val_accuracy: 0.6100\n",
            "Epoch 6/9999\n",
            "40000/40000 [==============================] - 9s 228us/step - loss: 0.9106 - accuracy: 0.6860 - val_loss: 1.1310 - val_accuracy: 0.5964\n",
            "Epoch 7/9999\n",
            "40000/40000 [==============================] - 9s 228us/step - loss: 0.8430 - accuracy: 0.7111 - val_loss: 1.0289 - val_accuracy: 0.6341\n",
            "Epoch 8/9999\n",
            "40000/40000 [==============================] - 9s 229us/step - loss: 0.7815 - accuracy: 0.7354 - val_loss: 0.9972 - val_accuracy: 0.6496\n",
            "Epoch 9/9999\n",
            "40000/40000 [==============================] - 9s 228us/step - loss: 0.7232 - accuracy: 0.7562 - val_loss: 1.0357 - val_accuracy: 0.6372\n",
            "Epoch 10/9999\n",
            "40000/40000 [==============================] - 9s 230us/step - loss: 0.6653 - accuracy: 0.7778 - val_loss: 0.9852 - val_accuracy: 0.6545\n",
            "Epoch 11/9999\n",
            "40000/40000 [==============================] - 9s 231us/step - loss: 0.6134 - accuracy: 0.7960 - val_loss: 1.0480 - val_accuracy: 0.6405\n",
            "Epoch 12/9999\n",
            "40000/40000 [==============================] - 9s 229us/step - loss: 0.5665 - accuracy: 0.8139 - val_loss: 0.9832 - val_accuracy: 0.6625\n",
            "Epoch 13/9999\n",
            "40000/40000 [==============================] - 9s 228us/step - loss: 0.5167 - accuracy: 0.8329 - val_loss: 0.9733 - val_accuracy: 0.6629\n",
            "Epoch 14/9999\n",
            "40000/40000 [==============================] - 9s 228us/step - loss: 0.4727 - accuracy: 0.8502 - val_loss: 0.9699 - val_accuracy: 0.6733\n",
            "Epoch 15/9999\n",
            "40000/40000 [==============================] - 9s 228us/step - loss: 0.4305 - accuracy: 0.8658 - val_loss: 0.9806 - val_accuracy: 0.6712\n",
            "Epoch 16/9999\n",
            "40000/40000 [==============================] - 9s 229us/step - loss: 0.3894 - accuracy: 0.8811 - val_loss: 1.0308 - val_accuracy: 0.6665\n",
            "10000/10000 [==============================] - 2s 158us/step\n",
            "Model: 7 added. Resulting score: 0.6590999960899353\n"
          ],
          "name": "stdout"
        }
      ]
    },
    {
      "cell_type": "markdown",
      "metadata": {
        "colab_type": "text",
        "id": "fGT6jV-hcLbJ"
      },
      "source": [
        "# Results"
      ]
    },
    {
      "cell_type": "markdown",
      "metadata": {
        "colab_type": "text",
        "id": "CurcmjMCcrJI"
      },
      "source": [
        "# Accuracy vs Weight initialization method"
      ]
    },
    {
      "cell_type": "code",
      "metadata": {
        "colab_type": "code",
        "id": "yvZLQyb5cg7R",
        "outputId": "3b80b5e8-1b2e-4975-b8e5-672880f8118f",
        "colab": {
          "base_uri": "https://localhost:8080/",
          "height": 297
        }
      },
      "source": [
        "accuracy_df = pd.DataFrame(accuracies, columns=[\"Accuracy\"])\n",
        "accuracy_df[\"weight_init_method\"] = initializer\n",
        "display(accuracy_df)\n",
        "\n",
        "accuracy_df.to_csv(PATH + MODEL_NAME + \"_accuracy_\"+ run + \".csv\")"
      ],
      "execution_count": 10,
      "outputs": [
        {
          "output_type": "display_data",
          "data": {
            "text/html": [
              "<div>\n",
              "<style scoped>\n",
              "    .dataframe tbody tr th:only-of-type {\n",
              "        vertical-align: middle;\n",
              "    }\n",
              "\n",
              "    .dataframe tbody tr th {\n",
              "        vertical-align: top;\n",
              "    }\n",
              "\n",
              "    .dataframe thead th {\n",
              "        text-align: right;\n",
              "    }\n",
              "</style>\n",
              "<table border=\"1\" class=\"dataframe\">\n",
              "  <thead>\n",
              "    <tr style=\"text-align: right;\">\n",
              "      <th></th>\n",
              "      <th>Accuracy</th>\n",
              "      <th>weight_init_method</th>\n",
              "    </tr>\n",
              "  </thead>\n",
              "  <tbody>\n",
              "    <tr>\n",
              "      <th>0</th>\n",
              "      <td>0.6663</td>\n",
              "      <td>Zero</td>\n",
              "    </tr>\n",
              "    <tr>\n",
              "      <th>1</th>\n",
              "      <td>0.6626</td>\n",
              "      <td>Ones</td>\n",
              "    </tr>\n",
              "    <tr>\n",
              "      <th>2</th>\n",
              "      <td>0.6436</td>\n",
              "      <td>Random Normal</td>\n",
              "    </tr>\n",
              "    <tr>\n",
              "      <th>3</th>\n",
              "      <td>0.6598</td>\n",
              "      <td>Random Uniform</td>\n",
              "    </tr>\n",
              "    <tr>\n",
              "      <th>4</th>\n",
              "      <td>0.6247</td>\n",
              "      <td>Identity</td>\n",
              "    </tr>\n",
              "    <tr>\n",
              "      <th>5</th>\n",
              "      <td>0.6252</td>\n",
              "      <td>Orthogonal</td>\n",
              "    </tr>\n",
              "    <tr>\n",
              "      <th>6</th>\n",
              "      <td>0.6545</td>\n",
              "      <td>Glorot Normal</td>\n",
              "    </tr>\n",
              "    <tr>\n",
              "      <th>7</th>\n",
              "      <td>0.6591</td>\n",
              "      <td>Glorot Uniform</td>\n",
              "    </tr>\n",
              "  </tbody>\n",
              "</table>\n",
              "</div>"
            ],
            "text/plain": [
              "   Accuracy weight_init_method\n",
              "0    0.6663               Zero\n",
              "1    0.6626               Ones\n",
              "2    0.6436      Random Normal\n",
              "3    0.6598     Random Uniform\n",
              "4    0.6247           Identity\n",
              "5    0.6252         Orthogonal\n",
              "6    0.6545      Glorot Normal\n",
              "7    0.6591     Glorot Uniform"
            ]
          },
          "metadata": {
            "tags": []
          }
        }
      ]
    },
    {
      "cell_type": "code",
      "metadata": {
        "colab_type": "code",
        "id": "sXq8Uj3lenzH",
        "outputId": "967e4ee3-7e25-4b09-b57a-76729850f369",
        "colab": {
          "base_uri": "https://localhost:8080/",
          "height": 354
        }
      },
      "source": [
        "import matplotlib.pyplot as plt\n",
        "\n",
        "accuracy_df.plot(x=\"weight_init_method\", y=\"Accuracy\",rot = 90)\n",
        "\n",
        "plt.show()\n"
      ],
      "execution_count": 11,
      "outputs": [
        {
          "output_type": "display_data",
          "data": {
            "image/png": "[encoded data removed]",
            "text/plain": [
              "<Figure size 432x288 with 1 Axes>"
            ]
          },
          "metadata": {
            "tags": [],
            "needs_background": "light"
          }
        }
      ]
    },
    {
      "cell_type": "code",
      "metadata": {
        "id": "O37chbRgZDXF",
        "colab_type": "code",
        "outputId": "7c860875-2948-4a1e-8d77-3be9884fff12",
        "colab": {
          "base_uri": "https://localhost:8080/",
          "height": 34
        }
      },
      "source": [
        "classified = []\n",
        "\n",
        "for prediction in tqdm(predictions):\n",
        "    classified.append([1 if i==j else 0 for i,j in zip(prediction,y_test)])"
      ],
      "execution_count": 12,
      "outputs": [
        {
          "output_type": "stream",
          "text": [
            "100%|██████████| 8/8 [00:00<00:00, 81.66it/s]\n"
          ],
          "name": "stderr"
        }
      ]
    },
    {
      "cell_type": "markdown",
      "metadata": {
        "colab_type": "text",
        "id": "NMfc-h8xAYQu"
      },
      "source": [
        "## Correlation between models"
      ]
    },
    {
      "cell_type": "code",
      "metadata": {
        "colab_type": "code",
        "id": "FAky42lMV102",
        "outputId": "e1714abe-0e86-4c68-d32b-582b34cb59c2",
        "colab": {
          "base_uri": "https://localhost:8080/",
          "height": 314
        }
      },
      "source": [
        "correlation_matrix = []\n",
        "\n",
        "for ix, x in enumerate(classified):\n",
        "  row = []\n",
        "  \n",
        "  for iy, y in enumerate(classified):\n",
        "    if (ix == iy):\n",
        "      row.append(np.nan)\n",
        "    else:\n",
        "      row.append(pearsonr(x,y)[0])\n",
        "\n",
        "  correlation_matrix.append(row)\n",
        "\n",
        "correlation_matrix = np.array(correlation_matrix)\n",
        "correlation_matrix_df = pd.DataFrame(correlation_matrix)\n",
        "correlation_matrix_df.columns = initializer\n",
        "correlation_matrix_df.index = initializer\n",
        "display(correlation_matrix_df)\n",
        "print(\"Average correlation: \" + str(np.nanmean(correlation_matrix.flatten())))\n",
        "correlation_matrix_df.to_csv(PATH + MODEL_NAME + \"_correlation_matrix_\" + run + \".csv\")"
      ],
      "execution_count": 13,
      "outputs": [
        {
          "output_type": "display_data",
          "data": {
            "text/html": [
              "<div>\n",
              "<style scoped>\n",
              "    .dataframe tbody tr th:only-of-type {\n",
              "        vertical-align: middle;\n",
              "    }\n",
              "\n",
              "    .dataframe tbody tr th {\n",
              "        vertical-align: top;\n",
              "    }\n",
              "\n",
              "    .dataframe thead th {\n",
              "        text-align: right;\n",
              "    }\n",
              "</style>\n",
              "<table border=\"1\" class=\"dataframe\">\n",
              "  <thead>\n",
              "    <tr style=\"text-align: right;\">\n",
              "      <th></th>\n",
              "      <th>Zero</th>\n",
              "      <th>Ones</th>\n",
              "      <th>Random Normal</th>\n",
              "      <th>Random Uniform</th>\n",
              "      <th>Identity</th>\n",
              "      <th>Orthogonal</th>\n",
              "      <th>Glorot Normal</th>\n",
              "      <th>Glorot Uniform</th>\n",
              "    </tr>\n",
              "  </thead>\n",
              "  <tbody>\n",
              "    <tr>\n",
              "      <th>Zero</th>\n",
              "      <td>NaN</td>\n",
              "      <td>0.502842</td>\n",
              "      <td>0.479862</td>\n",
              "      <td>0.511971</td>\n",
              "      <td>0.494323</td>\n",
              "      <td>0.485548</td>\n",
              "      <td>0.484356</td>\n",
              "      <td>0.477117</td>\n",
              "    </tr>\n",
              "    <tr>\n",
              "      <th>Ones</th>\n",
              "      <td>0.502842</td>\n",
              "      <td>NaN</td>\n",
              "      <td>0.463016</td>\n",
              "      <td>0.478619</td>\n",
              "      <td>0.483853</td>\n",
              "      <td>0.515740</td>\n",
              "      <td>0.471124</td>\n",
              "      <td>0.446095</td>\n",
              "    </tr>\n",
              "    <tr>\n",
              "      <th>Random Normal</th>\n",
              "      <td>0.479862</td>\n",
              "      <td>0.463016</td>\n",
              "      <td>NaN</td>\n",
              "      <td>0.510571</td>\n",
              "      <td>0.522823</td>\n",
              "      <td>0.464207</td>\n",
              "      <td>0.457802</td>\n",
              "      <td>0.461205</td>\n",
              "    </tr>\n",
              "    <tr>\n",
              "      <th>Random Uniform</th>\n",
              "      <td>0.511971</td>\n",
              "      <td>0.478619</td>\n",
              "      <td>0.510571</td>\n",
              "      <td>NaN</td>\n",
              "      <td>0.493120</td>\n",
              "      <td>0.483964</td>\n",
              "      <td>0.464994</td>\n",
              "      <td>0.456532</td>\n",
              "    </tr>\n",
              "    <tr>\n",
              "      <th>Identity</th>\n",
              "      <td>0.494323</td>\n",
              "      <td>0.483853</td>\n",
              "      <td>0.522823</td>\n",
              "      <td>0.493120</td>\n",
              "      <td>NaN</td>\n",
              "      <td>0.528346</td>\n",
              "      <td>0.431847</td>\n",
              "      <td>0.465152</td>\n",
              "    </tr>\n",
              "    <tr>\n",
              "      <th>Orthogonal</th>\n",
              "      <td>0.485548</td>\n",
              "      <td>0.515740</td>\n",
              "      <td>0.464207</td>\n",
              "      <td>0.483964</td>\n",
              "      <td>0.528346</td>\n",
              "      <td>NaN</td>\n",
              "      <td>0.427934</td>\n",
              "      <td>0.429847</td>\n",
              "    </tr>\n",
              "    <tr>\n",
              "      <th>Glorot Normal</th>\n",
              "      <td>0.484356</td>\n",
              "      <td>0.471124</td>\n",
              "      <td>0.457802</td>\n",
              "      <td>0.464994</td>\n",
              "      <td>0.431847</td>\n",
              "      <td>0.427934</td>\n",
              "      <td>NaN</td>\n",
              "      <td>0.498294</td>\n",
              "    </tr>\n",
              "    <tr>\n",
              "      <th>Glorot Uniform</th>\n",
              "      <td>0.477117</td>\n",
              "      <td>0.446095</td>\n",
              "      <td>0.461205</td>\n",
              "      <td>0.456532</td>\n",
              "      <td>0.465152</td>\n",
              "      <td>0.429847</td>\n",
              "      <td>0.498294</td>\n",
              "      <td>NaN</td>\n",
              "    </tr>\n",
              "  </tbody>\n",
              "</table>\n",
              "</div>"
            ],
            "text/plain": [
              "                    Zero      Ones  ...  Glorot Normal  Glorot Uniform\n",
              "Zero                 NaN  0.502842  ...       0.484356        0.477117\n",
              "Ones            0.502842       NaN  ...       0.471124        0.446095\n",
              "Random Normal   0.479862  0.463016  ...       0.457802        0.461205\n",
              "Random Uniform  0.511971  0.478619  ...       0.464994        0.456532\n",
              "Identity        0.494323  0.483853  ...       0.431847        0.465152\n",
              "Orthogonal      0.485548  0.515740  ...       0.427934        0.429847\n",
              "Glorot Normal   0.484356  0.471124  ...            NaN        0.498294\n",
              "Glorot Uniform  0.477117  0.446095  ...       0.498294             NaN\n",
              "\n",
              "[8 rows x 8 columns]"
            ]
          },
          "metadata": {
            "tags": []
          }
        },
        {
          "output_type": "stream",
          "text": [
            "Average correlation: 0.4782537479498809\n"
          ],
          "name": "stdout"
        }
      ]
    },
    {
      "cell_type": "markdown",
      "metadata": {
        "id": "BNnDeNX3Tjvd",
        "colab_type": "text"
      },
      "source": [
        "# Ensemble accuracy"
      ]
    },
    {
      "cell_type": "code",
      "metadata": {
        "id": "iySa4qVRTj_H",
        "colab_type": "code",
        "colab": {}
      },
      "source": [
        "def predict(models, X, Y):\n",
        "    predictions = []\n",
        "\n",
        "    for m in tqdm(models):\n",
        "        predictions.append(np.argmax(m.predict(X), axis=1))\n",
        "\n",
        "    prediction = np.transpose(predictions)\n",
        "    prediction = np.apply_along_axis(lambda x: np.bincount(x).argmax(), axis=1, arr=prediction)\n",
        "\n",
        "    return accuracy_score(prediction, np.argmax(Y, axis=1))"
      ],
      "execution_count": 0,
      "outputs": []
    },
    {
      "cell_type": "code",
      "metadata": {
        "id": "1apaRTmkTkHv",
        "colab_type": "code",
        "outputId": "07c316ff-c944-4fa4-a54c-0d598f8521b1",
        "colab": {
          "base_uri": "https://localhost:8080/",
          "height": 51
        }
      },
      "source": [
        "print(\"Accuracy of ensemble: \" + str(predict(models, x_test, y_testc)))"
      ],
      "execution_count": 15,
      "outputs": [
        {
          "output_type": "stream",
          "text": [
            "100%|██████████| 8/8 [00:08<00:00,  1.08s/it]"
          ],
          "name": "stderr"
        },
        {
          "output_type": "stream",
          "text": [
            "Accuracy of ensemble: 0.7157\n"
          ],
          "name": "stdout"
        },
        {
          "output_type": "stream",
          "text": [
            "\n"
          ],
          "name": "stderr"
        }
      ]
    }
  ]
}