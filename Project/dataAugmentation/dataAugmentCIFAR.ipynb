{
  "nbformat": 4,
  "nbformat_minor": 0,
  "metadata": {
    "accelerator": "GPU",
    "colab": {
      "name": "dataAugmentCIFAR",
      "provenance": [],
      "collapsed_sections": [],
      "toc_visible": true
    },
    "kernelspec": {
      "display_name": "Python 3",
      "language": "python",
      "name": "python3"
    },
    "language_info": {
      "codemirror_mode": {
        "name": "ipython",
        "version": 3
      },
      "file_extension": ".py",
      "mimetype": "text/x-python",
      "name": "python",
      "nbconvert_exporter": "python",
      "pygments_lexer": "ipython3",
      "version": "3.6.9"
    }
  },
  "cells": [
    {
      "cell_type": "code",
      "metadata": {
        "colab_type": "code",
        "id": "fde69AMuOpox",
        "colab": {}
      },
      "source": [
        "import keras\n",
        "import cv2\n",
        "import numpy as np\n",
        "import pandas as pd\n",
        "import tensorflow as tf\n",
        "import matplotlib.pyplot as plt\n",
        "from itertools import count\n",
        "from scipy import ndimage\n",
        "from sklearn.metrics import accuracy_score\n",
        "from keras.datasets import cifar10\n",
        "from keras.preprocessing.image import ImageDataGenerator\n",
        "from keras.applications.vgg16 import VGG16\n",
        "from keras.layers import Dense, Dropout, Flatten, Activation, Input, Conv2D, MaxPooling2D, BatchNormalization, GlobalAveragePooling2D\n",
        "from sklearn.model_selection import train_test_split\n",
        "from keras.models import Model\n",
        "from keras.callbacks import EarlyStopping\n",
        "from scipy.stats import pearsonr\n",
        "from tqdm import tqdm\n",
        "import tensorflow_addons as tfa"
      ],
      "execution_count": 0,
      "outputs": []
    },
    {
      "cell_type": "code",
      "metadata": {
        "colab_type": "code",
        "id": "qYrab7qpOppj",
        "colab": {}
      },
      "source": [
        "BATCH_SIZE = 128\n",
        "EPOCHS = 9999\n",
        "IMAGE_SIZE = 32\n",
        "NUM_CLASSES = 10\n",
        "MODEL_ADDITION_DELTA = 0.01\n",
        "MODEL_ADDITION_PATIENCE = 3\n",
        "MODEL_NAME = \"MNIST_augment\"\n",
        "PATH = \"\""
      ],
      "execution_count": 0,
      "outputs": []
    },
    {
      "cell_type": "markdown",
      "metadata": {
        "id": "R9M4_-IaBOsn",
        "colab_type": "text"
      },
      "source": [
        "# Set seeds"
      ]
    },
    {
      "cell_type": "code",
      "metadata": {
        "id": "7n9nJGd_BQ-r",
        "colab_type": "code",
        "colab": {}
      },
      "source": [
        "np.random.seed(3)\n",
        "tf.random.set_seed(3)"
      ],
      "execution_count": 0,
      "outputs": []
    },
    {
      "cell_type": "markdown",
      "metadata": {
        "id": "g8QvEt97vF52",
        "colab_type": "text"
      },
      "source": [
        "# Preprocess"
      ]
    },
    {
      "cell_type": "code",
      "metadata": {
        "id": "JtJIUBsFKeRO",
        "colab_type": "code",
        "colab": {}
      },
      "source": [
        "def preprocess(imgs):\n",
        "    \n",
        "    return imgs.reshape(imgs.shape[0], IMAGE_SIZE, IMAGE_SIZE, 1)"
      ],
      "execution_count": 0,
      "outputs": []
    },
    {
      "cell_type": "code",
      "metadata": {
        "colab_type": "code",
        "id": "XypdmBJROpp9",
        "outputId": "9cab03ac-ea76-4680-da8e-56c31e14f611",
        "colab": {
          "base_uri": "https://localhost:8080/",
          "height": 104
        }
      },
      "source": [
        "(x_train, y_train), (x_test, y_test) = cifar10.load_data()\n",
        "\n",
        "#x_train = preprocess(x_train)\n",
        "#x_test = preprocess(x_test)\n",
        "\n",
        "print('x_train shape:', x_train.shape)\n",
        "print(x_train.shape[0], 'train samples')\n",
        "print(x_test.shape[0], 'test samples')"
      ],
      "execution_count": 0,
      "outputs": [
        {
          "output_type": "stream",
          "text": [
            "Downloading data from https://www.cs.toronto.edu/~kriz/cifar-10-python.tar.gz\n",
            "170500096/170498071 [==============================] - 14s 0us/step\n",
            "x_train shape: (50000, 32, 32, 3)\n",
            "50000 train samples\n",
            "10000 test samples\n"
          ],
          "name": "stdout"
        }
      ]
    },
    {
      "cell_type": "code",
      "metadata": {
        "colab_type": "code",
        "id": "mo8yHyg-Opqo",
        "colab": {}
      },
      "source": [
        "# Convert class vectors to binary class matrices.\n",
        "y_train = keras.utils.to_categorical(y_train, NUM_CLASSES)\n",
        "y_test = keras.utils.to_categorical(y_test, NUM_CLASSES)"
      ],
      "execution_count": 0,
      "outputs": []
    },
    {
      "cell_type": "code",
      "metadata": {
        "id": "a4SYRuKZaIwb",
        "colab_type": "code",
        "colab": {}
      },
      "source": [
        "x_train = x_train.astype('float32')\n",
        "x_test = x_test.astype('float32')\n",
        "x_train /= 255\n",
        "x_test /= 255"
      ],
      "execution_count": 0,
      "outputs": []
    },
    {
      "cell_type": "code",
      "metadata": {
        "id": "yLQOYIh0OW84",
        "colab_type": "code",
        "colab": {}
      },
      "source": [
        "# Split the data\n",
        "x_train, x_val, y_train, y_val = train_test_split(x_train, y_train, test_size=0.20, shuffle= True)"
      ],
      "execution_count": 0,
      "outputs": []
    },
    {
      "cell_type": "markdown",
      "metadata": {
        "id": "gIBGIrlkvOt0",
        "colab_type": "text"
      },
      "source": [
        "# Model"
      ]
    },
    {
      "cell_type": "code",
      "metadata": {
        "colab_type": "code",
        "id": "zLWph6_aOpr2",
        "colab": {}
      },
      "source": [
        "def CIFARmodel(imsize, num_classes, num_channels):\n",
        "    inputs = Input((imsize,imsize,num_channels))\n",
        "    x = Conv2D(filters=64, kernel_size=(3,3), activation='relu')(inputs)\n",
        "    x = Conv2D(filters=64, kernel_size=(3,3), strides=2)(x)\n",
        "    x = Activation('relu')(x)\n",
        "    x = BatchNormalization()(x)\n",
        "    x = MaxPooling2D(pool_size=(2,2), strides=(2,2), padding='same')(x)\n",
        "    x = Conv2D(filters=128, kernel_size=(3,3), activation='relu', strides=2, padding='same')(x)\n",
        "    x = Conv2D(filters=128, kernel_size=(3,3), activation='relu', strides=2, padding='same')(x)\n",
        "    x = BatchNormalization()(x)\n",
        "    x = Conv2D(filters=128, kernel_size=(1,1), activation='relu', padding='valid')(x)\n",
        "    x = Conv2D(filters=10, kernel_size=(1,1),strides=(1,1), padding='valid')(x)\n",
        "    x = GlobalAveragePooling2D()(x)\n",
        "    outputs = Activation('softmax')(x)\n",
        "    \n",
        "    model = Model(inputs=inputs, outputs=outputs)\n",
        "\n",
        "    optimizer = keras.optimizers.Adam(learning_rate = 1e-04)\n",
        "\n",
        "    model.compile(loss='categorical_crossentropy',\n",
        "                      optimizer=optimizer,\n",
        "                      metrics=['accuracy'])\n",
        "    return model"
      ],
      "execution_count": 0,
      "outputs": []
    },
    {
      "cell_type": "markdown",
      "metadata": {
        "id": "EbiuqESLvTOY",
        "colab_type": "text"
      },
      "source": [
        "# Predict"
      ]
    },
    {
      "cell_type": "code",
      "metadata": {
        "id": "JXFkx19XmqKe",
        "colab_type": "code",
        "colab": {}
      },
      "source": [
        "def predict(models, X, Y):\n",
        "    predictions = []\n",
        "\n",
        "    for m in tqdm(models):\n",
        "        predictions.append(np.argmax(m.predict(X), axis=1))\n",
        "\n",
        "    prediction = np.transpose(predictions)\n",
        "    prediction = np.apply_along_axis(lambda x: np.bincount(x).argmax(), axis=1, arr=prediction)\n",
        "\n",
        "    return accuracy_score(prediction, np.argmax(Y, axis=1))"
      ],
      "execution_count": 0,
      "outputs": []
    },
    {
      "cell_type": "markdown",
      "metadata": {
        "id": "wnusOrCMhvQE",
        "colab_type": "text"
      },
      "source": [
        "# Data augmentation functions\n"
      ]
    },
    {
      "cell_type": "code",
      "metadata": {
        "id": "_SWzBrFkgsAD",
        "colab_type": "code",
        "colab": {}
      },
      "source": [
        "def flip_image(image):\n",
        "    if np.random.rand() < 0.2:\n",
        "        image = tf.image.flip_left_right(image)\n",
        "    return image"
      ],
      "execution_count": 0,
      "outputs": []
    },
    {
      "cell_type": "code",
      "metadata": {
        "id": "2gBhejyuh0qS",
        "colab_type": "code",
        "colab": {}
      },
      "source": [
        "def rotate_image(image):\n",
        "    if np.random.rand() < 0.2:\n",
        "        angles = np.linspace(1,10,10)\n",
        "        rotation_angle = np.random.choice(angles)\n",
        "        if np.random.rand() < 0.5:\n",
        "            image = ndimage.rotate(image, rotation_angle, reshape = False)\n",
        "        else:\n",
        "            image = ndimage.rotate(image, -rotation_angle, reshape = False) \n",
        "    return image"
      ],
      "execution_count": 0,
      "outputs": []
    },
    {
      "cell_type": "code",
      "metadata": {
        "id": "B-tkwzLAi6rG",
        "colab_type": "code",
        "colab": {}
      },
      "source": [
        "def horizontal_shift(image):\n",
        "    if np.random.rand() < 0.2:\n",
        "        num_rows, num_cols = image.shape[:2]\n",
        "        if np.random.rand() < 0.5:\n",
        "            translation_matrix = np.float32([ [1,0,3], [0,1,0] ])\n",
        "            image = cv2.warpAffine(image, translation_matrix, (num_cols, num_rows))\n",
        "            #image = image.reshape((IMAGE_SIZE,IMAGE_SIZE,1))\n",
        "        else:\n",
        "            translation_matrix = np.float32([ [1,0,-3], [0,1,0] ])\n",
        "            image = cv2.warpAffine(image, translation_matrix, (num_cols, num_rows))\n",
        "            #image = image.reshape((IMAGE_SIZE,IMAGE_SIZE,1))\n",
        "    return image"
      ],
      "execution_count": 0,
      "outputs": []
    },
    {
      "cell_type": "code",
      "metadata": {
        "id": "wNk5MJD9_dV1",
        "colab_type": "code",
        "colab": {}
      },
      "source": [
        "def vertical_shift(image):\n",
        "    if np.random.rand() < 0.2:\n",
        "        num_rows, num_cols = image.shape[:2]\n",
        "        if np.random.rand() < 0.5:\n",
        "            translation_matrix = np.float32([ [1,0,0], [0,1,2] ])\n",
        "            image = cv2.warpAffine(image, translation_matrix, (num_cols, num_rows))\n",
        "            #image = image.reshape((IMAGE_SIZE,IMAGE_SIZE,1))\n",
        "        else:\n",
        "            translation_matrix = np.float32([ [1,0,0], [0,1,-2] ])\n",
        "            image = cv2.warpAffine(image, translation_matrix, (num_cols, num_rows))\n",
        "            #image = image.reshape((IMAGE_SIZE,IMAGE_SIZE,1))\n",
        "    return image"
      ],
      "execution_count": 0,
      "outputs": []
    },
    {
      "cell_type": "code",
      "metadata": {
        "id": "xkGlwKLGxJi6",
        "colab_type": "code",
        "colab": {}
      },
      "source": [
        "funcs = [rotate_image,\n",
        "         horizontal_shift, \n",
        "         vertical_shift]"
      ],
      "execution_count": 0,
      "outputs": []
    },
    {
      "cell_type": "markdown",
      "metadata": {
        "id": "TVqdcrD_vQ-Q",
        "colab_type": "text"
      },
      "source": [
        "# Train"
      ]
    },
    {
      "cell_type": "code",
      "metadata": {
        "colab_type": "code",
        "id": "HjvZqLBJOpsw",
        "outputId": "bb477e50-e96f-4f53-c933-bfd869072734",
        "colab": {
          "base_uri": "https://localhost:8080/",
          "height": 1000
        }
      },
      "source": [
        "models = []\n",
        "accuracies = [0]\n",
        "\n",
        "for i in range(len(funcs)):\n",
        "\n",
        "    print(f\"Train model {i}\")\n",
        "\n",
        "    preprocessing_function = funcs[i]\n",
        "    datagen = ImageDataGenerator(preprocessing_function=preprocessing_function)\n",
        "    datagen = datagen.flow(x_train,y_train, batch_size = BATCH_SIZE)\n",
        "\n",
        "    model = CIFARmodel(IMAGE_SIZE, NUM_CLASSES, 3)\n",
        "\n",
        "    es = EarlyStopping(min_delta = 0.01, patience=3, restore_best_weights=True)\n",
        "    model.fit_generator(datagen,\n",
        "                        epochs = EPOCHS,\n",
        "                        validation_data = (x_test,y_test),\n",
        "                        shuffle = True,\n",
        "                        callbacks=[es])\n",
        "    \n",
        "    model.save_weights(PATH + MODEL_NAME + f\"_weights-{i}.h5\" )\n",
        "    models.append(model)\n",
        "\n",
        "    acc = predict(models, x_val, y_val)\n",
        "    delta = acc - accuracies[-1]\n",
        "\n",
        "    accuracies.append(acc)\n",
        "\n",
        "    print(f\"Model: {i} added. Resulting score: {acc}\")"
      ],
      "execution_count": 0,
      "outputs": [
        {
          "output_type": "stream",
          "text": [
            "Train model 0\n",
            "Epoch 1/9999\n",
            "313/313 [==============================] - 9s 30ms/step - loss: 1.7383 - accuracy: 0.3882 - val_loss: 2.2444 - val_accuracy: 0.1144\n",
            "Epoch 2/9999\n",
            "313/313 [==============================] - 9s 28ms/step - loss: 1.3449 - accuracy: 0.5262 - val_loss: 1.4609 - val_accuracy: 0.4901\n",
            "Epoch 3/9999\n",
            "313/313 [==============================] - 9s 29ms/step - loss: 1.1831 - accuracy: 0.5840 - val_loss: 1.2315 - val_accuracy: 0.5601\n",
            "Epoch 4/9999\n",
            "313/313 [==============================] - 9s 28ms/step - loss: 1.0743 - accuracy: 0.6256 - val_loss: 1.1404 - val_accuracy: 0.5939\n",
            "Epoch 5/9999\n",
            "313/313 [==============================] - 9s 28ms/step - loss: 0.9920 - accuracy: 0.6552 - val_loss: 1.1081 - val_accuracy: 0.6013\n",
            "Epoch 6/9999\n",
            "313/313 [==============================] - 9s 28ms/step - loss: 0.9260 - accuracy: 0.6792 - val_loss: 1.1439 - val_accuracy: 0.5939\n",
            "Epoch 7/9999\n",
            "313/313 [==============================] - 9s 28ms/step - loss: 0.8655 - accuracy: 0.7020 - val_loss: 1.0811 - val_accuracy: 0.6184\n",
            "Epoch 8/9999\n",
            "313/313 [==============================] - 9s 28ms/step - loss: 0.8141 - accuracy: 0.7208 - val_loss: 1.0124 - val_accuracy: 0.6434\n",
            "Epoch 9/9999\n",
            "313/313 [==============================] - 9s 28ms/step - loss: 0.7607 - accuracy: 0.7397 - val_loss: 0.9673 - val_accuracy: 0.6631\n",
            "Epoch 10/9999\n",
            "313/313 [==============================] - 9s 28ms/step - loss: 0.7144 - accuracy: 0.7564 - val_loss: 1.0372 - val_accuracy: 0.6339\n",
            "Epoch 11/9999\n",
            "313/313 [==============================] - 9s 28ms/step - loss: 0.6718 - accuracy: 0.7724 - val_loss: 1.0815 - val_accuracy: 0.6287\n",
            "Epoch 12/9999\n",
            "313/313 [==============================] - 9s 28ms/step - loss: 0.6312 - accuracy: 0.7884 - val_loss: 0.9788 - val_accuracy: 0.6596\n"
          ],
          "name": "stdout"
        },
        {
          "output_type": "stream",
          "text": [
            "100%|██████████| 1/1 [00:00<00:00,  1.17it/s]\n"
          ],
          "name": "stderr"
        },
        {
          "output_type": "stream",
          "text": [
            "Model: 0 added. Resulting score: 0.6672\n",
            "Train model 1\n",
            "Epoch 1/9999\n",
            "313/313 [==============================] - 7s 21ms/step - loss: 1.7059 - accuracy: 0.3932 - val_loss: 2.2367 - val_accuracy: 0.1274\n",
            "Epoch 2/9999\n",
            "313/313 [==============================] - 6s 19ms/step - loss: 1.3456 - accuracy: 0.5239 - val_loss: 1.4317 - val_accuracy: 0.4987\n",
            "Epoch 3/9999\n",
            "313/313 [==============================] - 6s 20ms/step - loss: 1.1953 - accuracy: 0.5804 - val_loss: 1.1999 - val_accuracy: 0.5735\n",
            "Epoch 4/9999\n",
            "313/313 [==============================] - 6s 20ms/step - loss: 1.0876 - accuracy: 0.6173 - val_loss: 1.1747 - val_accuracy: 0.5840\n",
            "Epoch 5/9999\n",
            "313/313 [==============================] - 6s 20ms/step - loss: 1.0046 - accuracy: 0.6500 - val_loss: 1.0983 - val_accuracy: 0.6158\n",
            "Epoch 6/9999\n",
            "313/313 [==============================] - 6s 20ms/step - loss: 0.9383 - accuracy: 0.6729 - val_loss: 1.0142 - val_accuracy: 0.6396\n",
            "Epoch 7/9999\n",
            "313/313 [==============================] - 6s 20ms/step - loss: 0.8833 - accuracy: 0.6934 - val_loss: 1.1755 - val_accuracy: 0.5928\n",
            "Epoch 8/9999\n",
            "313/313 [==============================] - 6s 20ms/step - loss: 0.8276 - accuracy: 0.7136 - val_loss: 1.0351 - val_accuracy: 0.6350\n",
            "Epoch 9/9999\n",
            "313/313 [==============================] - 6s 20ms/step - loss: 0.7849 - accuracy: 0.7298 - val_loss: 0.9491 - val_accuracy: 0.6632\n",
            "Epoch 10/9999\n",
            "313/313 [==============================] - 6s 20ms/step - loss: 0.7403 - accuracy: 0.7470 - val_loss: 1.0474 - val_accuracy: 0.6287\n",
            "Epoch 11/9999\n",
            "313/313 [==============================] - 6s 20ms/step - loss: 0.7027 - accuracy: 0.7613 - val_loss: 0.9912 - val_accuracy: 0.6604\n",
            "Epoch 12/9999\n",
            "313/313 [==============================] - 6s 20ms/step - loss: 0.6629 - accuracy: 0.7750 - val_loss: 0.9801 - val_accuracy: 0.6503\n"
          ],
          "name": "stdout"
        },
        {
          "output_type": "stream",
          "text": [
            "100%|██████████| 2/2 [00:01<00:00,  1.21it/s]\n"
          ],
          "name": "stderr"
        },
        {
          "output_type": "stream",
          "text": [
            "Model: 1 added. Resulting score: 0.6679\n",
            "Train model 2\n",
            "Epoch 1/9999\n",
            "313/313 [==============================] - 7s 21ms/step - loss: 1.6719 - accuracy: 0.4041 - val_loss: 2.2865 - val_accuracy: 0.1195\n",
            "Epoch 2/9999\n",
            "313/313 [==============================] - 6s 19ms/step - loss: 1.3415 - accuracy: 0.5269 - val_loss: 1.5366 - val_accuracy: 0.4622\n",
            "Epoch 3/9999\n",
            "313/313 [==============================] - 6s 20ms/step - loss: 1.1938 - accuracy: 0.5811 - val_loss: 1.4353 - val_accuracy: 0.4947\n",
            "Epoch 4/9999\n",
            "313/313 [==============================] - 6s 20ms/step - loss: 1.0890 - accuracy: 0.6186 - val_loss: 1.1529 - val_accuracy: 0.5910\n",
            "Epoch 5/9999\n",
            "313/313 [==============================] - 6s 20ms/step - loss: 1.0097 - accuracy: 0.6484 - val_loss: 1.1912 - val_accuracy: 0.5810\n",
            "Epoch 6/9999\n",
            "313/313 [==============================] - 6s 20ms/step - loss: 0.9442 - accuracy: 0.6730 - val_loss: 1.2122 - val_accuracy: 0.5870\n",
            "Epoch 7/9999\n",
            "313/313 [==============================] - 6s 20ms/step - loss: 0.8850 - accuracy: 0.6968 - val_loss: 1.0277 - val_accuracy: 0.6371\n",
            "Epoch 8/9999\n",
            "313/313 [==============================] - 6s 20ms/step - loss: 0.8304 - accuracy: 0.7143 - val_loss: 1.0277 - val_accuracy: 0.6429\n",
            "Epoch 9/9999\n",
            "313/313 [==============================] - 6s 20ms/step - loss: 0.7867 - accuracy: 0.7296 - val_loss: 1.0327 - val_accuracy: 0.6370\n",
            "Epoch 10/9999\n",
            "313/313 [==============================] - 6s 20ms/step - loss: 0.7428 - accuracy: 0.7478 - val_loss: 0.9772 - val_accuracy: 0.6583\n",
            "Epoch 11/9999\n",
            "313/313 [==============================] - 6s 20ms/step - loss: 0.7016 - accuracy: 0.7626 - val_loss: 0.9851 - val_accuracy: 0.6611\n",
            "Epoch 12/9999\n",
            "313/313 [==============================] - 6s 20ms/step - loss: 0.6620 - accuracy: 0.7774 - val_loss: 0.9439 - val_accuracy: 0.6722\n",
            "Epoch 13/9999\n",
            "313/313 [==============================] - 6s 20ms/step - loss: 0.6231 - accuracy: 0.7918 - val_loss: 1.0157 - val_accuracy: 0.6512\n",
            "Epoch 14/9999\n",
            "313/313 [==============================] - 6s 20ms/step - loss: 0.5941 - accuracy: 0.8009 - val_loss: 0.9194 - val_accuracy: 0.6860\n",
            "Epoch 15/9999\n",
            "313/313 [==============================] - 6s 20ms/step - loss: 0.5645 - accuracy: 0.8116 - val_loss: 1.0117 - val_accuracy: 0.6604\n",
            "Epoch 16/9999\n",
            "313/313 [==============================] - 6s 20ms/step - loss: 0.5300 - accuracy: 0.8237 - val_loss: 0.9469 - val_accuracy: 0.6799\n",
            "Epoch 17/9999\n",
            "313/313 [==============================] - 6s 20ms/step - loss: 0.4963 - accuracy: 0.8387 - val_loss: 1.0094 - val_accuracy: 0.6672\n"
          ],
          "name": "stdout"
        },
        {
          "output_type": "stream",
          "text": [
            "100%|██████████| 3/3 [00:02<00:00,  1.30it/s]"
          ],
          "name": "stderr"
        },
        {
          "output_type": "stream",
          "text": [
            "Model: 2 added. Resulting score: 0.7062\n"
          ],
          "name": "stdout"
        },
        {
          "output_type": "stream",
          "text": [
            "\n"
          ],
          "name": "stderr"
        }
      ]
    },
    {
      "cell_type": "markdown",
      "metadata": {
        "id": "fGT6jV-hcLbJ",
        "colab_type": "text"
      },
      "source": [
        "# Results"
      ]
    },
    {
      "cell_type": "markdown",
      "metadata": {
        "id": "CurcmjMCcrJI",
        "colab_type": "text"
      },
      "source": [
        "# Accuracy vs nr of models\n",
        "Visualizing the accuracy vs the number of models in the ensemble"
      ]
    },
    {
      "cell_type": "code",
      "metadata": {
        "id": "yvZLQyb5cg7R",
        "colab_type": "code",
        "outputId": "6752c004-856d-4fdf-e3c8-d9eb1083785c",
        "colab": {
          "base_uri": "https://localhost:8080/",
          "height": 175
        }
      },
      "source": [
        "accuracy_df = pd.DataFrame(accuracies, columns=[\"Accuracy\"])\n",
        "accuracy_df.insert(1, \"Nr of models\", accuracy_df.index)\n",
        "\n",
        "display(accuracy_df)\n",
        "\n",
        "accuracy_df.to_csv(PATH + MODEL_NAME + \"_accuracy.csv\")"
      ],
      "execution_count": 0,
      "outputs": [
        {
          "output_type": "display_data",
          "data": {
            "text/html": [
              "<div>\n",
              "<style scoped>\n",
              "    .dataframe tbody tr th:only-of-type {\n",
              "        vertical-align: middle;\n",
              "    }\n",
              "\n",
              "    .dataframe tbody tr th {\n",
              "        vertical-align: top;\n",
              "    }\n",
              "\n",
              "    .dataframe thead th {\n",
              "        text-align: right;\n",
              "    }\n",
              "</style>\n",
              "<table border=\"1\" class=\"dataframe\">\n",
              "  <thead>\n",
              "    <tr style=\"text-align: right;\">\n",
              "      <th></th>\n",
              "      <th>Accuracy</th>\n",
              "      <th>Nr of models</th>\n",
              "    </tr>\n",
              "  </thead>\n",
              "  <tbody>\n",
              "    <tr>\n",
              "      <th>0</th>\n",
              "      <td>0.0000</td>\n",
              "      <td>0</td>\n",
              "    </tr>\n",
              "    <tr>\n",
              "      <th>1</th>\n",
              "      <td>0.6672</td>\n",
              "      <td>1</td>\n",
              "    </tr>\n",
              "    <tr>\n",
              "      <th>2</th>\n",
              "      <td>0.6679</td>\n",
              "      <td>2</td>\n",
              "    </tr>\n",
              "    <tr>\n",
              "      <th>3</th>\n",
              "      <td>0.7062</td>\n",
              "      <td>3</td>\n",
              "    </tr>\n",
              "  </tbody>\n",
              "</table>\n",
              "</div>"
            ],
            "text/plain": [
              "   Accuracy  Nr of models\n",
              "0    0.0000             0\n",
              "1    0.6672             1\n",
              "2    0.6679             2\n",
              "3    0.7062             3"
            ]
          },
          "metadata": {
            "tags": []
          }
        }
      ]
    },
    {
      "cell_type": "code",
      "metadata": {
        "id": "sXq8Uj3lenzH",
        "colab_type": "code",
        "outputId": "fe07230b-a0ab-434f-f048-fb84b465f452",
        "colab": {
          "base_uri": "https://localhost:8080/",
          "height": 279
        }
      },
      "source": [
        "import matplotlib.pyplot as plt\n",
        "\n",
        "# remove first row\n",
        "accuracy_df = accuracy_df.iloc[1:]\n",
        "\n",
        "accuracy_df.plot(x=\"Nr of models\", y=\"Accuracy\", xticks=accuracy_df[\"Nr of models\"])\n",
        "plt.show()"
      ],
      "execution_count": 0,
      "outputs": [
        {
          "output_type": "display_data",
          "data": {
            "image/png": "[encoded data removed]",
            "text/plain": [
              "<Figure size 432x288 with 1 Axes>"
            ]
          },
          "metadata": {
            "tags": [],
            "needs_background": "light"
          }
        }
      ]
    },
    {
      "cell_type": "markdown",
      "metadata": {
        "id": "51rnX_l7Pfdr",
        "colab_type": "text"
      },
      "source": [
        "## Accuracy\n",
        "The final accuracy of the ensamble on the test set"
      ]
    },
    {
      "cell_type": "code",
      "metadata": {
        "id": "GwNmmvSFPlVx",
        "colab_type": "code",
        "outputId": "e5963188-f192-4a8b-a9e5-8b528f387aae",
        "colab": {
          "base_uri": "https://localhost:8080/",
          "height": 52
        }
      },
      "source": [
        "print(\"Accuracy: \" + str(predict(models, x_test, y_test)))"
      ],
      "execution_count": 0,
      "outputs": [
        {
          "output_type": "stream",
          "text": [
            "100%|██████████| 3/3 [00:02<00:00,  1.34it/s]"
          ],
          "name": "stderr"
        },
        {
          "output_type": "stream",
          "text": [
            "Accuracy: 0.6999\n"
          ],
          "name": "stdout"
        },
        {
          "output_type": "stream",
          "text": [
            "\n"
          ],
          "name": "stderr"
        }
      ]
    },
    {
      "cell_type": "code",
      "metadata": {
        "id": "HpiA_XQUbye8",
        "colab_type": "code",
        "outputId": "864587ce-fc59-4271-91c1-8af6f4199d25",
        "colab": {
          "base_uri": "https://localhost:8080/",
          "height": 34
        }
      },
      "source": [
        "predictions = []\n",
        "\n",
        "for m in tqdm(models):\n",
        "    predictions.append(np.argmax(m.predict(x_test), axis=1))\n",
        "\n"
      ],
      "execution_count": 0,
      "outputs": [
        {
          "output_type": "stream",
          "text": [
            "100%|██████████| 3/3 [00:02<00:00,  1.35it/s]\n"
          ],
          "name": "stderr"
        }
      ]
    },
    {
      "cell_type": "markdown",
      "metadata": {
        "id": "NMfc-h8xAYQu",
        "colab_type": "text"
      },
      "source": [
        "## Correlation between models"
      ]
    },
    {
      "cell_type": "code",
      "metadata": {
        "id": "0N9wSXF1iSp3",
        "colab_type": "code",
        "outputId": "07070add-d438-4684-8697-ffdef4df0b32",
        "colab": {
          "base_uri": "https://localhost:8080/",
          "height": 34
        }
      },
      "source": [
        "classified = []\n",
        "\n",
        "for prediction in tqdm(predictions):\n",
        "    classified.append([1 if i==j else 0 for i,j in zip(prediction,np.argmax(y_test, axis = 1))])"
      ],
      "execution_count": 0,
      "outputs": [
        {
          "output_type": "stream",
          "text": [
            "100%|██████████| 3/3 [00:00<00:00, 307.02it/s]\n"
          ],
          "name": "stderr"
        }
      ]
    },
    {
      "cell_type": "code",
      "metadata": {
        "id": "FAky42lMV102",
        "colab_type": "code",
        "outputId": "1455502e-e27a-4b0c-e15e-1042c853351a",
        "colab": {
          "base_uri": "https://localhost:8080/",
          "height": 161
        }
      },
      "source": [
        "correlation_matrix = []\n",
        "\n",
        "for ix, x in enumerate(predictions):\n",
        "  row = []\n",
        "  \n",
        "  for iy, y in enumerate(predictions):\n",
        "    if (ix == iy):\n",
        "      row.append(np.nan)\n",
        "    else:\n",
        "      row.append(pearsonr(x,y)[0])\n",
        "\n",
        "  correlation_matrix.append(row)\n",
        "\n",
        "correlation_matrix = np.array(correlation_matrix)\n",
        "display(pd.DataFrame(correlation_matrix))\n",
        "print(\"Average correlation: \" + str(np.nanmean(correlation_matrix.flatten())))"
      ],
      "execution_count": 0,
      "outputs": [
        {
          "output_type": "display_data",
          "data": {
            "text/html": [
              "<div>\n",
              "<style scoped>\n",
              "    .dataframe tbody tr th:only-of-type {\n",
              "        vertical-align: middle;\n",
              "    }\n",
              "\n",
              "    .dataframe tbody tr th {\n",
              "        vertical-align: top;\n",
              "    }\n",
              "\n",
              "    .dataframe thead th {\n",
              "        text-align: right;\n",
              "    }\n",
              "</style>\n",
              "<table border=\"1\" class=\"dataframe\">\n",
              "  <thead>\n",
              "    <tr style=\"text-align: right;\">\n",
              "      <th></th>\n",
              "      <th>0</th>\n",
              "      <th>1</th>\n",
              "      <th>2</th>\n",
              "    </tr>\n",
              "  </thead>\n",
              "  <tbody>\n",
              "    <tr>\n",
              "      <th>0</th>\n",
              "      <td>NaN</td>\n",
              "      <td>0.687528</td>\n",
              "      <td>0.691849</td>\n",
              "    </tr>\n",
              "    <tr>\n",
              "      <th>1</th>\n",
              "      <td>0.687528</td>\n",
              "      <td>NaN</td>\n",
              "      <td>0.687641</td>\n",
              "    </tr>\n",
              "    <tr>\n",
              "      <th>2</th>\n",
              "      <td>0.691849</td>\n",
              "      <td>0.687641</td>\n",
              "      <td>NaN</td>\n",
              "    </tr>\n",
              "  </tbody>\n",
              "</table>\n",
              "</div>"
            ],
            "text/plain": [
              "          0         1         2\n",
              "0       NaN  0.687528  0.691849\n",
              "1  0.687528       NaN  0.687641\n",
              "2  0.691849  0.687641       NaN"
            ]
          },
          "metadata": {
            "tags": []
          }
        },
        {
          "output_type": "stream",
          "text": [
            "Average correlation: 0.6890058153767168\n"
          ],
          "name": "stdout"
        }
      ]
    }
  ]
}