{
  "nbformat": 4,
  "nbformat_minor": 0,
  "metadata": {
    "accelerator": "GPU",
    "colab": {
      "name": "dataAugmentCIFAR",
      "provenance": [],
      "collapsed_sections": [],
      "toc_visible": true
    },
    "kernelspec": {
      "display_name": "Python 3",
      "language": "python",
      "name": "python3"
    },
    "language_info": {
      "codemirror_mode": {
        "name": "ipython",
        "version": 3
      },
      "file_extension": ".py",
      "mimetype": "text/x-python",
      "name": "python",
      "nbconvert_exporter": "python",
      "pygments_lexer": "ipython3",
      "version": "3.6.9"
    }
  },
  "cells": [
    {
      "cell_type": "code",
      "metadata": {
        "colab_type": "code",
        "id": "fde69AMuOpox",
        "colab": {
          "base_uri": "https://localhost:8080/",
          "height": 34
        },
        "outputId": "1443edae-f1ba-48fb-90fe-6af46f432402"
      },
      "source": [
        "import keras\n",
        "import cv2\n",
        "import numpy as np\n",
        "import pandas as pd\n",
        "import tensorflow as tf\n",
        "import matplotlib.pyplot as plt\n",
        "from itertools import count\n",
        "from scipy import ndimage\n",
        "from sklearn.metrics import accuracy_score\n",
        "from keras.datasets import cifar10\n",
        "from keras.preprocessing.image import ImageDataGenerator\n",
        "from keras.applications.vgg16 import VGG16\n",
        "from keras.layers import Dense, Dropout, Flatten, Activation, Input, Conv2D, MaxPooling2D, BatchNormalization, GlobalAveragePooling2D\n",
        "from sklearn.model_selection import train_test_split\n",
        "from keras.models import Model\n",
        "from keras.callbacks import EarlyStopping\n",
        "from scipy.stats import pearsonr\n",
        "from tqdm import tqdm\n",
        "import tensorflow_addons as tfa"
      ],
      "execution_count": 1,
      "outputs": [
        {
          "output_type": "stream",
          "text": [
            "Using TensorFlow backend.\n"
          ],
          "name": "stderr"
        }
      ]
    },
    {
      "cell_type": "code",
      "metadata": {
        "colab_type": "code",
        "id": "qYrab7qpOppj",
        "colab": {}
      },
      "source": [
        "BATCH_SIZE = 128\n",
        "EPOCHS = 9999\n",
        "IMAGE_SIZE = 32\n",
        "NUM_CLASSES = 10\n",
        "MODEL_ADDITION_DELTA = 0.01\n",
        "MODEL_ADDITION_PATIENCE = 3\n",
        "MODEL_NAME = \"MNIST_augment\"\n",
        "PATH = \"\""
      ],
      "execution_count": 0,
      "outputs": []
    },
    {
      "cell_type": "markdown",
      "metadata": {
        "id": "R9M4_-IaBOsn",
        "colab_type": "text"
      },
      "source": [
        "# Set seeds"
      ]
    },
    {
      "cell_type": "code",
      "metadata": {
        "id": "7n9nJGd_BQ-r",
        "colab_type": "code",
        "colab": {}
      },
      "source": [
        "np.random.seed(3)\n",
        "tf.random.set_seed(3)"
      ],
      "execution_count": 0,
      "outputs": []
    },
    {
      "cell_type": "markdown",
      "metadata": {
        "id": "g8QvEt97vF52",
        "colab_type": "text"
      },
      "source": [
        "# Preprocess"
      ]
    },
    {
      "cell_type": "code",
      "metadata": {
        "id": "JtJIUBsFKeRO",
        "colab_type": "code",
        "colab": {}
      },
      "source": [
        "def preprocess(imgs):\n",
        "    \n",
        "    return imgs.reshape(imgs.shape[0], IMAGE_SIZE, IMAGE_SIZE, 1)"
      ],
      "execution_count": 0,
      "outputs": []
    },
    {
      "cell_type": "code",
      "metadata": {
        "colab_type": "code",
        "id": "XypdmBJROpp9",
        "outputId": "87137f17-9234-4b77-d371-ad95187f62b4",
        "colab": {
          "base_uri": "https://localhost:8080/",
          "height": 104
        }
      },
      "source": [
        "(x_train, y_train), (x_test, y_test) = cifar10.load_data()\n",
        "\n",
        "#x_train = preprocess(x_train)\n",
        "#x_test = preprocess(x_test)\n",
        "\n",
        "print('x_train shape:', x_train.shape)\n",
        "print(x_train.shape[0], 'train samples')\n",
        "print(x_test.shape[0], 'test samples')"
      ],
      "execution_count": 5,
      "outputs": [
        {
          "output_type": "stream",
          "text": [
            "Downloading data from https://www.cs.toronto.edu/~kriz/cifar-10-python.tar.gz\n",
            "170500096/170498071 [==============================] - 6s 0us/step\n",
            "x_train shape: (50000, 32, 32, 3)\n",
            "50000 train samples\n",
            "10000 test samples\n"
          ],
          "name": "stdout"
        }
      ]
    },
    {
      "cell_type": "code",
      "metadata": {
        "colab_type": "code",
        "id": "mo8yHyg-Opqo",
        "colab": {}
      },
      "source": [
        "# Convert class vectors to binary class matrices.\n",
        "y_train = keras.utils.to_categorical(y_train, NUM_CLASSES)\n",
        "y_test = keras.utils.to_categorical(y_test, NUM_CLASSES)"
      ],
      "execution_count": 0,
      "outputs": []
    },
    {
      "cell_type": "code",
      "metadata": {
        "id": "a4SYRuKZaIwb",
        "colab_type": "code",
        "colab": {}
      },
      "source": [
        "x_train = x_train.astype('float32')\n",
        "x_test = x_test.astype('float32')\n",
        "x_train /= 255\n",
        "x_test /= 255"
      ],
      "execution_count": 0,
      "outputs": []
    },
    {
      "cell_type": "code",
      "metadata": {
        "id": "yLQOYIh0OW84",
        "colab_type": "code",
        "colab": {}
      },
      "source": [
        "# Split the data\n",
        "x_train, x_val, y_train, y_val = train_test_split(x_train, y_train, test_size=0.20, shuffle= True)"
      ],
      "execution_count": 0,
      "outputs": []
    },
    {
      "cell_type": "markdown",
      "metadata": {
        "id": "gIBGIrlkvOt0",
        "colab_type": "text"
      },
      "source": [
        "# Model"
      ]
    },
    {
      "cell_type": "code",
      "metadata": {
        "colab_type": "code",
        "id": "zLWph6_aOpr2",
        "colab": {}
      },
      "source": [
        "def CIFARmodel(imsize, num_classes, num_channels):\n",
        "    inputs = Input((imsize,imsize,num_channels))\n",
        "    x = Conv2D(filters=64, kernel_size=(3,3), activation='relu')(inputs)\n",
        "    x = Conv2D(filters=64, kernel_size=(3,3), strides=2)(x)\n",
        "    x = Activation('relu')(x)\n",
        "    x = BatchNormalization()(x)\n",
        "    x = MaxPooling2D(pool_size=(2,2), strides=(2,2), padding='same')(x)\n",
        "    x = Conv2D(filters=128, kernel_size=(3,3), activation='relu', strides=2, padding='same')(x)\n",
        "    x = Conv2D(filters=128, kernel_size=(3,3), activation='relu', strides=2, padding='same')(x)\n",
        "    x = BatchNormalization()(x)\n",
        "    x = Conv2D(filters=128, kernel_size=(1,1), activation='relu', padding='valid')(x)\n",
        "    x = Conv2D(filters=10, kernel_size=(1,1),strides=(1,1), padding='valid')(x)\n",
        "    x = GlobalAveragePooling2D()(x)\n",
        "    outputs = Activation('softmax')(x)\n",
        "    \n",
        "    model = Model(inputs=inputs, outputs=outputs)\n",
        "\n",
        "    optimizer = keras.optimizers.Adam(learning_rate = 1e-04)\n",
        "\n",
        "    model.compile(loss='categorical_crossentropy',\n",
        "                      optimizer=optimizer,\n",
        "                      metrics=['accuracy'])\n",
        "    return model"
      ],
      "execution_count": 0,
      "outputs": []
    },
    {
      "cell_type": "markdown",
      "metadata": {
        "id": "EbiuqESLvTOY",
        "colab_type": "text"
      },
      "source": [
        "# Predict"
      ]
    },
    {
      "cell_type": "code",
      "metadata": {
        "id": "JXFkx19XmqKe",
        "colab_type": "code",
        "colab": {}
      },
      "source": [
        "def predict(models, X, Y):\n",
        "    predictions = []\n",
        "\n",
        "    for m in tqdm(models):\n",
        "        predictions.append(np.argmax(m.predict(X), axis=1))\n",
        "\n",
        "    prediction = np.transpose(predictions)\n",
        "    prediction = np.apply_along_axis(lambda x: np.bincount(x).argmax(), axis=1, arr=prediction)\n",
        "\n",
        "    return accuracy_score(prediction, np.argmax(Y, axis=1))"
      ],
      "execution_count": 0,
      "outputs": []
    },
    {
      "cell_type": "markdown",
      "metadata": {
        "id": "wnusOrCMhvQE",
        "colab_type": "text"
      },
      "source": [
        "# Data augmentation functions\n"
      ]
    },
    {
      "cell_type": "code",
      "metadata": {
        "id": "_SWzBrFkgsAD",
        "colab_type": "code",
        "colab": {}
      },
      "source": [
        "def flip_image(image):\n",
        "    if np.random.rand() < 0.2:\n",
        "        image = tf.image.flip_left_right(image)\n",
        "    return image"
      ],
      "execution_count": 0,
      "outputs": []
    },
    {
      "cell_type": "code",
      "metadata": {
        "id": "2gBhejyuh0qS",
        "colab_type": "code",
        "colab": {}
      },
      "source": [
        "def rotate_image(image):\n",
        "    if np.random.rand() < 0.2:\n",
        "        angles = np.linspace(1,10,10)\n",
        "        rotation_angle = np.random.choice(angles)\n",
        "        if np.random.rand() < 0.5:\n",
        "            image = ndimage.rotate(image, rotation_angle, reshape = False)\n",
        "        else:\n",
        "            image = ndimage.rotate(image, -rotation_angle, reshape = False) \n",
        "    return image"
      ],
      "execution_count": 0,
      "outputs": []
    },
    {
      "cell_type": "code",
      "metadata": {
        "id": "B-tkwzLAi6rG",
        "colab_type": "code",
        "colab": {}
      },
      "source": [
        "def horizontal_shift(image):\n",
        "    if np.random.rand() < 0.2:\n",
        "        num_rows, num_cols = image.shape[:2]\n",
        "        if np.random.rand() < 0.5:\n",
        "            translation_matrix = np.float32([ [1,0,3], [0,1,0] ])\n",
        "            image = cv2.warpAffine(image, translation_matrix, (num_cols, num_rows))\n",
        "            #image = image.reshape((IMAGE_SIZE,IMAGE_SIZE,1))\n",
        "        else:\n",
        "            translation_matrix = np.float32([ [1,0,-3], [0,1,0] ])\n",
        "            image = cv2.warpAffine(image, translation_matrix, (num_cols, num_rows))\n",
        "            #image = image.reshape((IMAGE_SIZE,IMAGE_SIZE,1))\n",
        "    return image"
      ],
      "execution_count": 0,
      "outputs": []
    },
    {
      "cell_type": "code",
      "metadata": {
        "id": "wNk5MJD9_dV1",
        "colab_type": "code",
        "colab": {}
      },
      "source": [
        "def vertical_shift(image):\n",
        "    if np.random.rand() < 0.2:\n",
        "        num_rows, num_cols = image.shape[:2]\n",
        "        if np.random.rand() < 0.5:\n",
        "            translation_matrix = np.float32([ [1,0,0], [0,1,2] ])\n",
        "            image = cv2.warpAffine(image, translation_matrix, (num_cols, num_rows))\n",
        "            #image = image.reshape((IMAGE_SIZE,IMAGE_SIZE,1))\n",
        "        else:\n",
        "            translation_matrix = np.float32([ [1,0,0], [0,1,-2] ])\n",
        "            image = cv2.warpAffine(image, translation_matrix, (num_cols, num_rows))\n",
        "            #image = image.reshape((IMAGE_SIZE,IMAGE_SIZE,1))\n",
        "    return image"
      ],
      "execution_count": 0,
      "outputs": []
    },
    {
      "cell_type": "code",
      "metadata": {
        "id": "xkGlwKLGxJi6",
        "colab_type": "code",
        "colab": {}
      },
      "source": [
        "funcs = [rotate_image,\n",
        "         horizontal_shift, \n",
        "         vertical_shift]"
      ],
      "execution_count": 0,
      "outputs": []
    },
    {
      "cell_type": "markdown",
      "metadata": {
        "id": "TVqdcrD_vQ-Q",
        "colab_type": "text"
      },
      "source": [
        "# Train"
      ]
    },
    {
      "cell_type": "code",
      "metadata": {
        "colab_type": "code",
        "id": "HjvZqLBJOpsw",
        "outputId": "e9a02da0-a2b0-42cf-f5d4-edf24e0d874d",
        "colab": {
          "base_uri": "https://localhost:8080/",
          "height": 1000
        }
      },
      "source": [
        "models = []\n",
        "accuracies = [0]\n",
        "\n",
        "for i in range(len(funcs)):\n",
        "\n",
        "    print(f\"Train model {i}\")\n",
        "\n",
        "    preprocessing_function = funcs[i]\n",
        "    datagen = ImageDataGenerator(preprocessing_function=preprocessing_function)\n",
        "    datagen = datagen.flow(x_train,y_train, batch_size = BATCH_SIZE)\n",
        "\n",
        "    model = CIFARmodel(IMAGE_SIZE, NUM_CLASSES, 3)\n",
        "\n",
        "    es = EarlyStopping(min_delta = 0.01, patience=3, restore_best_weights=True)\n",
        "    model.fit_generator(datagen,\n",
        "                        epochs = EPOCHS,\n",
        "                        validation_data = (x_val,y_val),\n",
        "                        shuffle = True,\n",
        "                        callbacks=[es])\n",
        "    \n",
        "    model.save_weights(PATH + MODEL_NAME + f\"_weights-{i}.h5\" )\n",
        "    models.append(model)\n",
        "\n",
        "    acc = predict(models, x_val, y_val)\n",
        "    delta = acc - accuracies[-1]\n",
        "\n",
        "    accuracies.append(acc)\n",
        "\n",
        "    print(f\"Model: {i} added. Resulting score: {acc}\")"
      ],
      "execution_count": 16,
      "outputs": [
        {
          "output_type": "stream",
          "text": [
            "Train model 0\n",
            "Epoch 1/9999\n",
            "313/313 [==============================] - 16s 52ms/step - loss: 1.7116 - accuracy: 0.3924 - val_loss: 2.2424 - val_accuracy: 0.1326\n",
            "Epoch 2/9999\n",
            "313/313 [==============================] - 9s 30ms/step - loss: 1.3540 - accuracy: 0.5195 - val_loss: 1.4919 - val_accuracy: 0.4826\n",
            "Epoch 3/9999\n",
            "313/313 [==============================] - 9s 29ms/step - loss: 1.2060 - accuracy: 0.5743 - val_loss: 1.2085 - val_accuracy: 0.5711\n",
            "Epoch 4/9999\n",
            "313/313 [==============================] - 9s 29ms/step - loss: 1.0916 - accuracy: 0.6173 - val_loss: 1.1709 - val_accuracy: 0.5819\n",
            "Epoch 5/9999\n",
            "313/313 [==============================] - 9s 30ms/step - loss: 1.0038 - accuracy: 0.6496 - val_loss: 1.1324 - val_accuracy: 0.5973\n",
            "Epoch 6/9999\n",
            "313/313 [==============================] - 9s 29ms/step - loss: 0.9341 - accuracy: 0.6770 - val_loss: 1.0444 - val_accuracy: 0.6275\n",
            "Epoch 7/9999\n",
            "313/313 [==============================] - 9s 30ms/step - loss: 0.8715 - accuracy: 0.7017 - val_loss: 0.9975 - val_accuracy: 0.6468\n",
            "Epoch 8/9999\n",
            "313/313 [==============================] - 9s 30ms/step - loss: 0.8124 - accuracy: 0.7204 - val_loss: 1.0314 - val_accuracy: 0.6401\n",
            "Epoch 9/9999\n",
            "313/313 [==============================] - 9s 30ms/step - loss: 0.7632 - accuracy: 0.7394 - val_loss: 0.9623 - val_accuracy: 0.6643\n",
            "Epoch 10/9999\n",
            "313/313 [==============================] - 9s 30ms/step - loss: 0.7150 - accuracy: 0.7568 - val_loss: 1.0638 - val_accuracy: 0.6359\n",
            "Epoch 11/9999\n",
            "313/313 [==============================] - 9s 30ms/step - loss: 0.6723 - accuracy: 0.7726 - val_loss: 1.0145 - val_accuracy: 0.6548\n",
            "Epoch 12/9999\n",
            "313/313 [==============================] - 9s 29ms/step - loss: 0.6277 - accuracy: 0.7888 - val_loss: 0.9565 - val_accuracy: 0.6709\n"
          ],
          "name": "stdout"
        },
        {
          "output_type": "stream",
          "text": [
            "100%|██████████| 1/1 [00:00<00:00,  1.14it/s]\n"
          ],
          "name": "stderr"
        },
        {
          "output_type": "stream",
          "text": [
            "Model: 0 added. Resulting score: 0.6643\n",
            "Train model 1\n",
            "Epoch 1/9999\n",
            "313/313 [==============================] - 7s 22ms/step - loss: 1.7512 - accuracy: 0.3825 - val_loss: 2.2899 - val_accuracy: 0.1251\n",
            "Epoch 2/9999\n",
            "313/313 [==============================] - 6s 20ms/step - loss: 1.3777 - accuracy: 0.5148 - val_loss: 1.5093 - val_accuracy: 0.4789\n",
            "Epoch 3/9999\n",
            "313/313 [==============================] - 6s 20ms/step - loss: 1.2174 - accuracy: 0.5725 - val_loss: 1.2459 - val_accuracy: 0.5531\n",
            "Epoch 4/9999\n",
            "313/313 [==============================] - 6s 20ms/step - loss: 1.1123 - accuracy: 0.6101 - val_loss: 1.1543 - val_accuracy: 0.5894\n",
            "Epoch 5/9999\n",
            "313/313 [==============================] - 6s 20ms/step - loss: 1.0309 - accuracy: 0.6395 - val_loss: 1.0966 - val_accuracy: 0.6144\n",
            "Epoch 6/9999\n",
            "313/313 [==============================] - 6s 20ms/step - loss: 0.9610 - accuracy: 0.6658 - val_loss: 1.0550 - val_accuracy: 0.6263\n",
            "Epoch 7/9999\n",
            "313/313 [==============================] - 6s 20ms/step - loss: 0.9061 - accuracy: 0.6842 - val_loss: 1.0410 - val_accuracy: 0.6305\n",
            "Epoch 8/9999\n",
            "313/313 [==============================] - 6s 20ms/step - loss: 0.8535 - accuracy: 0.7051 - val_loss: 1.0046 - val_accuracy: 0.6462\n",
            "Epoch 9/9999\n",
            "313/313 [==============================] - 6s 20ms/step - loss: 0.8072 - accuracy: 0.7206 - val_loss: 0.9710 - val_accuracy: 0.6618\n",
            "Epoch 10/9999\n",
            "313/313 [==============================] - 6s 20ms/step - loss: 0.7670 - accuracy: 0.7370 - val_loss: 0.9770 - val_accuracy: 0.6605\n",
            "Epoch 11/9999\n",
            "313/313 [==============================] - 6s 20ms/step - loss: 0.7246 - accuracy: 0.7519 - val_loss: 0.9363 - val_accuracy: 0.6733\n",
            "Epoch 12/9999\n",
            "313/313 [==============================] - 6s 20ms/step - loss: 0.6875 - accuracy: 0.7659 - val_loss: 0.9823 - val_accuracy: 0.6582\n",
            "Epoch 13/9999\n",
            "313/313 [==============================] - 6s 20ms/step - loss: 0.6549 - accuracy: 0.7772 - val_loss: 0.9942 - val_accuracy: 0.6665\n",
            "Epoch 14/9999\n",
            "313/313 [==============================] - 6s 20ms/step - loss: 0.6202 - accuracy: 0.7907 - val_loss: 0.9147 - val_accuracy: 0.6852\n",
            "Epoch 15/9999\n",
            "313/313 [==============================] - 6s 20ms/step - loss: 0.5912 - accuracy: 0.8024 - val_loss: 0.9402 - val_accuracy: 0.6798\n",
            "Epoch 16/9999\n",
            "313/313 [==============================] - 6s 20ms/step - loss: 0.5546 - accuracy: 0.8157 - val_loss: 0.9331 - val_accuracy: 0.6836\n",
            "Epoch 17/9999\n",
            "313/313 [==============================] - 6s 20ms/step - loss: 0.5315 - accuracy: 0.8247 - val_loss: 0.9680 - val_accuracy: 0.6784\n"
          ],
          "name": "stdout"
        },
        {
          "output_type": "stream",
          "text": [
            "100%|██████████| 2/2 [00:01<00:00,  1.23it/s]\n"
          ],
          "name": "stderr"
        },
        {
          "output_type": "stream",
          "text": [
            "Model: 1 added. Resulting score: 0.6669\n",
            "Train model 2\n",
            "Epoch 1/9999\n",
            "313/313 [==============================] - 7s 22ms/step - loss: 1.7258 - accuracy: 0.3886 - val_loss: 2.1879 - val_accuracy: 0.1495\n",
            "Epoch 2/9999\n",
            "313/313 [==============================] - 6s 20ms/step - loss: 1.3504 - accuracy: 0.5224 - val_loss: 1.4086 - val_accuracy: 0.5206\n",
            "Epoch 3/9999\n",
            "313/313 [==============================] - 6s 20ms/step - loss: 1.1953 - accuracy: 0.5798 - val_loss: 1.1870 - val_accuracy: 0.5812\n",
            "Epoch 4/9999\n",
            "313/313 [==============================] - 6s 20ms/step - loss: 1.0871 - accuracy: 0.6198 - val_loss: 1.1451 - val_accuracy: 0.5960\n",
            "Epoch 5/9999\n",
            "313/313 [==============================] - 6s 20ms/step - loss: 1.0113 - accuracy: 0.6479 - val_loss: 1.1416 - val_accuracy: 0.6029\n",
            "Epoch 6/9999\n",
            "313/313 [==============================] - 6s 20ms/step - loss: 0.9426 - accuracy: 0.6730 - val_loss: 1.1391 - val_accuracy: 0.5987\n",
            "Epoch 7/9999\n",
            "313/313 [==============================] - 6s 20ms/step - loss: 0.8847 - accuracy: 0.6957 - val_loss: 1.0712 - val_accuracy: 0.6257\n",
            "Epoch 8/9999\n",
            "313/313 [==============================] - 6s 20ms/step - loss: 0.8329 - accuracy: 0.7126 - val_loss: 1.0573 - val_accuracy: 0.6288\n",
            "Epoch 9/9999\n",
            "313/313 [==============================] - 6s 20ms/step - loss: 0.7872 - accuracy: 0.7299 - val_loss: 0.9843 - val_accuracy: 0.6554\n",
            "Epoch 10/9999\n",
            "313/313 [==============================] - 6s 20ms/step - loss: 0.7429 - accuracy: 0.7470 - val_loss: 0.9891 - val_accuracy: 0.6527\n",
            "Epoch 11/9999\n",
            "313/313 [==============================] - 6s 21ms/step - loss: 0.7047 - accuracy: 0.7608 - val_loss: 0.9891 - val_accuracy: 0.6563\n",
            "Epoch 12/9999\n",
            "313/313 [==============================] - 6s 20ms/step - loss: 0.6641 - accuracy: 0.7761 - val_loss: 0.9247 - val_accuracy: 0.6813\n",
            "Epoch 13/9999\n",
            "313/313 [==============================] - 6s 20ms/step - loss: 0.6260 - accuracy: 0.7884 - val_loss: 0.9346 - val_accuracy: 0.6756\n",
            "Epoch 14/9999\n",
            "313/313 [==============================] - 6s 20ms/step - loss: 0.5959 - accuracy: 0.8006 - val_loss: 0.9317 - val_accuracy: 0.6813\n",
            "Epoch 15/9999\n",
            "313/313 [==============================] - 6s 20ms/step - loss: 0.5624 - accuracy: 0.8126 - val_loss: 0.9447 - val_accuracy: 0.6722\n"
          ],
          "name": "stdout"
        },
        {
          "output_type": "stream",
          "text": [
            "100%|██████████| 3/3 [00:02<00:00,  1.28it/s]"
          ],
          "name": "stderr"
        },
        {
          "output_type": "stream",
          "text": [
            "Model: 2 added. Resulting score: 0.7048\n"
          ],
          "name": "stdout"
        },
        {
          "output_type": "stream",
          "text": [
            "\n"
          ],
          "name": "stderr"
        }
      ]
    },
    {
      "cell_type": "markdown",
      "metadata": {
        "id": "fGT6jV-hcLbJ",
        "colab_type": "text"
      },
      "source": [
        "# Results"
      ]
    },
    {
      "cell_type": "markdown",
      "metadata": {
        "id": "CurcmjMCcrJI",
        "colab_type": "text"
      },
      "source": [
        "# Accuracy vs nr of models\n",
        "Visualizing the accuracy vs the number of models in the ensemble"
      ]
    },
    {
      "cell_type": "code",
      "metadata": {
        "id": "yvZLQyb5cg7R",
        "colab_type": "code",
        "outputId": "ab989b2b-73be-4d8e-f293-bac934283ff4",
        "colab": {
          "base_uri": "https://localhost:8080/",
          "height": 175
        }
      },
      "source": [
        "accuracy_df = pd.DataFrame(accuracies, columns=[\"Accuracy\"])\n",
        "accuracy_df.insert(1, \"Nr of models\", accuracy_df.index)\n",
        "\n",
        "display(accuracy_df)\n",
        "\n",
        "accuracy_df.to_csv(PATH + MODEL_NAME + \"_accuracy.csv\")"
      ],
      "execution_count": 17,
      "outputs": [
        {
          "output_type": "display_data",
          "data": {
            "text/html": [
              "<div>\n",
              "<style scoped>\n",
              "    .dataframe tbody tr th:only-of-type {\n",
              "        vertical-align: middle;\n",
              "    }\n",
              "\n",
              "    .dataframe tbody tr th {\n",
              "        vertical-align: top;\n",
              "    }\n",
              "\n",
              "    .dataframe thead th {\n",
              "        text-align: right;\n",
              "    }\n",
              "</style>\n",
              "<table border=\"1\" class=\"dataframe\">\n",
              "  <thead>\n",
              "    <tr style=\"text-align: right;\">\n",
              "      <th></th>\n",
              "      <th>Accuracy</th>\n",
              "      <th>Nr of models</th>\n",
              "    </tr>\n",
              "  </thead>\n",
              "  <tbody>\n",
              "    <tr>\n",
              "      <th>0</th>\n",
              "      <td>0.0000</td>\n",
              "      <td>0</td>\n",
              "    </tr>\n",
              "    <tr>\n",
              "      <th>1</th>\n",
              "      <td>0.6643</td>\n",
              "      <td>1</td>\n",
              "    </tr>\n",
              "    <tr>\n",
              "      <th>2</th>\n",
              "      <td>0.6669</td>\n",
              "      <td>2</td>\n",
              "    </tr>\n",
              "    <tr>\n",
              "      <th>3</th>\n",
              "      <td>0.7048</td>\n",
              "      <td>3</td>\n",
              "    </tr>\n",
              "  </tbody>\n",
              "</table>\n",
              "</div>"
            ],
            "text/plain": [
              "   Accuracy  Nr of models\n",
              "0    0.0000             0\n",
              "1    0.6643             1\n",
              "2    0.6669             2\n",
              "3    0.7048             3"
            ]
          },
          "metadata": {
            "tags": []
          }
        }
      ]
    },
    {
      "cell_type": "code",
      "metadata": {
        "id": "sXq8Uj3lenzH",
        "colab_type": "code",
        "outputId": "9914b538-b663-43e3-efd5-a6594c61b9e2",
        "colab": {
          "base_uri": "https://localhost:8080/",
          "height": 279
        }
      },
      "source": [
        "import matplotlib.pyplot as plt\n",
        "\n",
        "# remove first row\n",
        "accuracy_df = accuracy_df.iloc[1:]\n",
        "\n",
        "accuracy_df.plot(x=\"Nr of models\", y=\"Accuracy\", xticks=accuracy_df[\"Nr of models\"])\n",
        "plt.show()"
      ],
      "execution_count": 18,
      "outputs": [
        {
          "output_type": "display_data",
          "data": {
            "image/png": "[encoded data removed]",
            "text/plain": [
              "<Figure size 432x288 with 1 Axes>"
            ]
          },
          "metadata": {
            "tags": [],
            "needs_background": "light"
          }
        }
      ]
    },
    {
      "cell_type": "markdown",
      "metadata": {
        "id": "51rnX_l7Pfdr",
        "colab_type": "text"
      },
      "source": [
        "## Accuracy\n",
        "The final accuracy of the ensamble on the test set"
      ]
    },
    {
      "cell_type": "code",
      "metadata": {
        "id": "GwNmmvSFPlVx",
        "colab_type": "code",
        "outputId": "1340d1d0-0d11-4c7d-f25f-d7061eb92959",
        "colab": {
          "base_uri": "https://localhost:8080/",
          "height": 52
        }
      },
      "source": [
        "print(\"Accuracy: \" + str(predict(models, x_test, y_test)))"
      ],
      "execution_count": 19,
      "outputs": [
        {
          "output_type": "stream",
          "text": [
            "100%|██████████| 3/3 [00:02<00:00,  1.30it/s]"
          ],
          "name": "stderr"
        },
        {
          "output_type": "stream",
          "text": [
            "Accuracy: 0.6938\n"
          ],
          "name": "stdout"
        },
        {
          "output_type": "stream",
          "text": [
            "\n"
          ],
          "name": "stderr"
        }
      ]
    },
    {
      "cell_type": "code",
      "metadata": {
        "id": "HpiA_XQUbye8",
        "colab_type": "code",
        "outputId": "33e6666c-d1aa-4240-d27a-639c40360aad",
        "colab": {
          "base_uri": "https://localhost:8080/",
          "height": 34
        }
      },
      "source": [
        "predictions = []\n",
        "\n",
        "for m in tqdm(models):\n",
        "    predictions.append(np.argmax(m.predict(x_test), axis=1))\n",
        "\n"
      ],
      "execution_count": 20,
      "outputs": [
        {
          "output_type": "stream",
          "text": [
            "100%|██████████| 3/3 [00:02<00:00,  1.33it/s]\n"
          ],
          "name": "stderr"
        }
      ]
    },
    {
      "cell_type": "markdown",
      "metadata": {
        "id": "NMfc-h8xAYQu",
        "colab_type": "text"
      },
      "source": [
        "## Correlation between models"
      ]
    },
    {
      "cell_type": "code",
      "metadata": {
        "id": "0N9wSXF1iSp3",
        "colab_type": "code",
        "outputId": "4b157649-0ce6-4b2f-974a-e2f9db389dfc",
        "colab": {
          "base_uri": "https://localhost:8080/",
          "height": 34
        }
      },
      "source": [
        "classified = []\n",
        "\n",
        "for prediction in tqdm(predictions):\n",
        "    classified.append([1 if i==j else 0 for i,j in zip(prediction,np.argmax(y_test, axis = 1))])"
      ],
      "execution_count": 21,
      "outputs": [
        {
          "output_type": "stream",
          "text": [
            "100%|██████████| 3/3 [00:00<00:00, 251.48it/s]\n"
          ],
          "name": "stderr"
        }
      ]
    },
    {
      "cell_type": "code",
      "metadata": {
        "id": "FAky42lMV102",
        "colab_type": "code",
        "outputId": "6a81196d-448a-419d-e57d-f8034a809705",
        "colab": {
          "base_uri": "https://localhost:8080/",
          "height": 161
        }
      },
      "source": [
        "correlation_matrix = []\n",
        "\n",
        "for ix, x in enumerate(predictions):\n",
        "  row = []\n",
        "  \n",
        "  for iy, y in enumerate(predictions):\n",
        "    if (ix == iy):\n",
        "      row.append(np.nan)\n",
        "    else:\n",
        "      row.append(pearsonr(x,y)[0])\n",
        "\n",
        "  correlation_matrix.append(row)\n",
        "\n",
        "correlation_matrix = np.array(correlation_matrix)\n",
        "display(pd.DataFrame(correlation_matrix))\n",
        "print(\"Average correlation: \" + str(np.nanmean(correlation_matrix.flatten())))"
      ],
      "execution_count": 22,
      "outputs": [
        {
          "output_type": "display_data",
          "data": {
            "text/html": [
              "<div>\n",
              "<style scoped>\n",
              "    .dataframe tbody tr th:only-of-type {\n",
              "        vertical-align: middle;\n",
              "    }\n",
              "\n",
              "    .dataframe tbody tr th {\n",
              "        vertical-align: top;\n",
              "    }\n",
              "\n",
              "    .dataframe thead th {\n",
              "        text-align: right;\n",
              "    }\n",
              "</style>\n",
              "<table border=\"1\" class=\"dataframe\">\n",
              "  <thead>\n",
              "    <tr style=\"text-align: right;\">\n",
              "      <th></th>\n",
              "      <th>0</th>\n",
              "      <th>1</th>\n",
              "      <th>2</th>\n",
              "    </tr>\n",
              "  </thead>\n",
              "  <tbody>\n",
              "    <tr>\n",
              "      <th>0</th>\n",
              "      <td>NaN</td>\n",
              "      <td>0.657635</td>\n",
              "      <td>0.688520</td>\n",
              "    </tr>\n",
              "    <tr>\n",
              "      <th>1</th>\n",
              "      <td>0.657635</td>\n",
              "      <td>NaN</td>\n",
              "      <td>0.701254</td>\n",
              "    </tr>\n",
              "    <tr>\n",
              "      <th>2</th>\n",
              "      <td>0.688520</td>\n",
              "      <td>0.701254</td>\n",
              "      <td>NaN</td>\n",
              "    </tr>\n",
              "  </tbody>\n",
              "</table>\n",
              "</div>"
            ],
            "text/plain": [
              "          0         1         2\n",
              "0       NaN  0.657635  0.688520\n",
              "1  0.657635       NaN  0.701254\n",
              "2  0.688520  0.701254       NaN"
            ]
          },
          "metadata": {
            "tags": []
          }
        },
        {
          "output_type": "stream",
          "text": [
            "Average correlation: 0.6824696316410984\n"
          ],
          "name": "stdout"
        }
      ]
    }
  ]
}