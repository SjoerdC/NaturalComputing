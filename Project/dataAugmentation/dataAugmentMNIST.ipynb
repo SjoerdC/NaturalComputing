{
  "nbformat": 4,
  "nbformat_minor": 0,
  "metadata": {
    "accelerator": "GPU",
    "colab": {
      "name": "dataAugmentMNIST.ipynb",
      "provenance": [],
      "collapsed_sections": [],
      "toc_visible": true
    },
    "kernelspec": {
      "display_name": "Python 3",
      "language": "python",
      "name": "python3"
    },
    "language_info": {
      "codemirror_mode": {
        "name": "ipython",
        "version": 3
      },
      "file_extension": ".py",
      "mimetype": "text/x-python",
      "name": "python",
      "nbconvert_exporter": "python",
      "pygments_lexer": "ipython3",
      "version": "3.6.9"
    }
  },
  "cells": [
    {
      "cell_type": "code",
      "metadata": {
        "colab_type": "code",
        "id": "fde69AMuOpox",
        "outputId": "b5454db7-b4b0-4f43-fad4-6e996d7f3483",
        "colab": {
          "base_uri": "https://localhost:8080/",
          "height": 34
        }
      },
      "source": [
        "import keras\n",
        "import cv2\n",
        "import numpy as np\n",
        "import pandas as pd\n",
        "import tensorflow as tf\n",
        "from itertools import count\n",
        "from sklearn.metrics import accuracy_score\n",
        "from keras.datasets import mnist\n",
        "from keras.preprocessing.image import ImageDataGenerator\n",
        "from keras.applications.vgg16 import VGG16\n",
        "from keras.layers import Dense, Dropout, Flatten, Activation, Input, Conv2D, MaxPooling2D, BatchNormalization, GlobalAveragePooling2D\n",
        "from sklearn.model_selection import train_test_split\n",
        "from keras.models import Model\n",
        "from keras.callbacks import EarlyStopping\n",
        "from scipy.stats import pearsonr\n",
        "from tqdm import tqdm"
      ],
      "execution_count": 1,
      "outputs": [
        {
          "output_type": "stream",
          "text": [
            "Using TensorFlow backend.\n"
          ],
          "name": "stderr"
        }
      ]
    },
    {
      "cell_type": "code",
      "metadata": {
        "colab_type": "code",
        "id": "qYrab7qpOppj",
        "colab": {}
      },
      "source": [
        "BATCH_SIZE = 128\n",
        "EPOCHS = 20\n",
        "IMAGE_SIZE = 28\n",
        "NUM_CLASSES = 10\n",
        "MODEL_ADDITION_DELTA = 0.01\n",
        "MODEL_ADDITION_PATIENCE = 3\n",
        "MODEL_NAME = \"MNIST_augment\"\n",
        "PATH = \"\""
      ],
      "execution_count": 0,
      "outputs": []
    },
    {
      "cell_type": "code",
      "metadata": {
        "id": "lvPye7rV7D-m",
        "colab_type": "code",
        "colab": {}
      },
      "source": [
        "rotation_range = 10\n",
        "width_shift_range = 0.1\n",
        "height_shift_range = 0.1\n",
        "brightness_range = (0.5,1.0)\n",
        "zoom_range = 0.2\n",
        "horizontal_flip = True"
      ],
      "execution_count": 0,
      "outputs": []
    },
    {
      "cell_type": "markdown",
      "metadata": {
        "id": "R9M4_-IaBOsn",
        "colab_type": "text"
      },
      "source": [
        "# Set seeds"
      ]
    },
    {
      "cell_type": "code",
      "metadata": {
        "id": "7n9nJGd_BQ-r",
        "colab_type": "code",
        "colab": {}
      },
      "source": [
        "np.random.seed(1)\n",
        "tf.random.set_seed(1)"
      ],
      "execution_count": 0,
      "outputs": []
    },
    {
      "cell_type": "markdown",
      "metadata": {
        "id": "g8QvEt97vF52",
        "colab_type": "text"
      },
      "source": [
        "# Preprocess"
      ]
    },
    {
      "cell_type": "code",
      "metadata": {
        "id": "JtJIUBsFKeRO",
        "colab_type": "code",
        "colab": {}
      },
      "source": [
        "def preprocess(imgs):\n",
        "    \n",
        "    return imgs.reshape(imgs.shape[0], IMAGE_SIZE, IMAGE_SIZE, 1)"
      ],
      "execution_count": 0,
      "outputs": []
    },
    {
      "cell_type": "code",
      "metadata": {
        "colab_type": "code",
        "id": "XypdmBJROpp9",
        "outputId": "0242ac1f-a2b2-4173-bce9-80ff0c1f4517",
        "colab": {
          "base_uri": "https://localhost:8080/",
          "height": 104
        }
      },
      "source": [
        "(x_train, y_train), (x_test, y_test) = mnist.load_data()\n",
        "\n",
        "x_train = preprocess(x_train)\n",
        "x_test = preprocess(x_test)\n",
        "\n",
        "print('x_train shape:', x_train.shape)\n",
        "print(x_train.shape[0], 'train samples')\n",
        "print(x_test.shape[0], 'test samples')"
      ],
      "execution_count": 6,
      "outputs": [
        {
          "output_type": "stream",
          "text": [
            "Downloading data from https://s3.amazonaws.com/img-datasets/mnist.npz\n",
            "11493376/11490434 [==============================] - 2s 0us/step\n",
            "x_train shape: (60000, 28, 28, 1)\n",
            "60000 train samples\n",
            "10000 test samples\n"
          ],
          "name": "stdout"
        }
      ]
    },
    {
      "cell_type": "code",
      "metadata": {
        "colab_type": "code",
        "id": "mo8yHyg-Opqo",
        "colab": {}
      },
      "source": [
        "# Convert class vectors to binary class matrices.\n",
        "y_train = keras.utils.to_categorical(y_train, NUM_CLASSES)\n",
        "y_test = keras.utils.to_categorical(y_test, NUM_CLASSES)"
      ],
      "execution_count": 0,
      "outputs": []
    },
    {
      "cell_type": "code",
      "metadata": {
        "id": "a4SYRuKZaIwb",
        "colab_type": "code",
        "colab": {}
      },
      "source": [
        "x_train = x_train.astype('float32')\n",
        "x_test = x_test.astype('float32')\n",
        "x_train /= 255\n",
        "x_test /= 255"
      ],
      "execution_count": 0,
      "outputs": []
    },
    {
      "cell_type": "code",
      "metadata": {
        "id": "yLQOYIh0OW84",
        "colab_type": "code",
        "colab": {}
      },
      "source": [
        "# Split the data\n",
        "x_train, x_val, y_train, y_val = train_test_split(x_train, y_train, test_size=0.20, shuffle= True)"
      ],
      "execution_count": 0,
      "outputs": []
    },
    {
      "cell_type": "markdown",
      "metadata": {
        "id": "U6JSOpWp_BHt",
        "colab_type": "text"
      },
      "source": [
        "#Data generators\n"
      ]
    },
    {
      "cell_type": "code",
      "metadata": {
        "id": "VeSX4_La7EIs",
        "colab_type": "code",
        "colab": {}
      },
      "source": [
        "datagen_rotation = ImageDataGenerator(rotation_range=rotation_range)\n",
        "datagen_width_shift = ImageDataGenerator(width_shift_range=width_shift_range)\n",
        "datagen_height_shift = ImageDataGenerator(height_shift_range=height_shift_range)\n",
        "datagen_brightness = ImageDataGenerator(brightness_range=brightness_range)\n",
        "datagen_zoom = ImageDataGenerator(zoom_range=zoom_range)\n",
        "datagen_hflip = ImageDataGenerator(horizontal_flip=horizontal_flip)"
      ],
      "execution_count": 0,
      "outputs": []
    },
    {
      "cell_type": "code",
      "metadata": {
        "id": "TBZwvb9Z7ala",
        "colab_type": "code",
        "colab": {}
      },
      "source": [
        "datagens = []\n",
        "datagens.append(datagen_rotation)\n",
        "datagens.append(datagen_width_shift)\n",
        "datagens.append(datagen_height_shift)\n",
        "datagens.append(datagen_brightness)\n",
        "datagens.append(datagen_zoom)\n",
        "datagens.append(datagen_hflip)"
      ],
      "execution_count": 0,
      "outputs": []
    },
    {
      "cell_type": "markdown",
      "metadata": {
        "id": "gIBGIrlkvOt0",
        "colab_type": "text"
      },
      "source": [
        "# Model"
      ]
    },
    {
      "cell_type": "code",
      "metadata": {
        "colab_type": "code",
        "id": "zLWph6_aOpr2",
        "colab": {}
      },
      "source": [
        "def MNISTmodel(imsize, num_classes, num_channels):\n",
        "    inputs = Input((imsize,imsize,num_channels))\n",
        "    x = Conv2D(filters=16, kernel_size=(3,3), activation='relu',strides = 2)(inputs)\n",
        "    x = BatchNormalization()(x)\n",
        "    x = MaxPooling2D(pool_size=(2,2), strides=(2,2), padding='same')(x)\n",
        "    x = Conv2D(filters=16, kernel_size=(1,1), activation='relu', padding='valid')(x)\n",
        "    x = Conv2D(filters=10, kernel_size=(1,1),strides=(1,1), padding='valid')(x)\n",
        "    x = GlobalAveragePooling2D()(x)\n",
        "    outputs = Activation('softmax')(x)\n",
        "    \n",
        "    model = Model(inputs=inputs, outputs=outputs)\n",
        "\n",
        "    optimizer = keras.optimizers.Adam(learning_rate = 1e-04)\n",
        "\n",
        "    model.compile(loss='categorical_crossentropy',\n",
        "                      optimizer=optimizer,\n",
        "                      metrics=['accuracy'])\n",
        "    return model"
      ],
      "execution_count": 0,
      "outputs": []
    },
    {
      "cell_type": "markdown",
      "metadata": {
        "id": "EbiuqESLvTOY",
        "colab_type": "text"
      },
      "source": [
        "# Predict"
      ]
    },
    {
      "cell_type": "code",
      "metadata": {
        "id": "JXFkx19XmqKe",
        "colab_type": "code",
        "colab": {}
      },
      "source": [
        "def predict(models, X, Y):\n",
        "    predictions = []\n",
        "\n",
        "    for m in tqdm(models):\n",
        "        predictions.append(np.argmax(m.predict(X), axis=1))\n",
        "\n",
        "    prediction = np.transpose(predictions)\n",
        "    prediction = np.apply_along_axis(lambda x: np.bincount(x).argmax(), axis=1, arr=prediction)\n",
        "\n",
        "    return accuracy_score(prediction, np.argmax(Y, axis=1))"
      ],
      "execution_count": 0,
      "outputs": []
    },
    {
      "cell_type": "markdown",
      "metadata": {
        "id": "TVqdcrD_vQ-Q",
        "colab_type": "text"
      },
      "source": [
        "# Train"
      ]
    },
    {
      "cell_type": "code",
      "metadata": {
        "colab_type": "code",
        "id": "HjvZqLBJOpsw",
        "outputId": "692da13a-7681-4dd4-9540-be0c4a776b32",
        "colab": {
          "base_uri": "https://localhost:8080/",
          "height": 1000
        }
      },
      "source": [
        "models = []\n",
        "accuracies = [0]\n",
        "patience = 0\n",
        "\n",
        "for i in range(len(datagens)):\n",
        "\n",
        "    print(f\"Train model {i}\")\n",
        "\n",
        "    datagen = datagens[i].flow(x_train,y_train, batch_size = BATCH_SIZE) \n",
        "    model = MNISTmodel(IMAGE_SIZE, NUM_CLASSES, 1)\n",
        "\n",
        "    es = EarlyStopping(min_delta=0.01, patience=3)\n",
        "    model.fit_generator(datagen,\n",
        "                        epochs = EPOCHS,\n",
        "                        validation_data = (x_test,y_test),\n",
        "                        shuffle = True,\n",
        "                        callbacks=[es])\n",
        "    \n",
        "    model.save_weights(PATH + MODEL_NAME + f\"_weights-{i}.h5\" )\n",
        "    models.append(model)\n",
        "\n",
        "    acc = predict(models, x_val, y_val)\n",
        "    accuracies.append(acc)\n",
        "\n",
        "    print(f\"Model: {i} added. Resulting score: {acc}\")"
      ],
      "execution_count": 14,
      "outputs": [
        {
          "output_type": "stream",
          "text": [
            "Train model 0\n",
            "Epoch 1/20\n",
            "375/375 [==============================] - 15s 41ms/step - loss: 2.3098 - accuracy: 0.2058 - val_loss: 2.2774 - val_accuracy: 0.2112\n",
            "Epoch 2/20\n",
            "375/375 [==============================] - 8s 22ms/step - loss: 2.2272 - accuracy: 0.2590 - val_loss: 2.1971 - val_accuracy: 0.2676\n",
            "Epoch 3/20\n",
            "375/375 [==============================] - 8s 22ms/step - loss: 2.1686 - accuracy: 0.2850 - val_loss: 2.1255 - val_accuracy: 0.3058\n",
            "Epoch 4/20\n",
            "375/375 [==============================] - 9s 23ms/step - loss: 2.1005 - accuracy: 0.3119 - val_loss: 2.0480 - val_accuracy: 0.3212\n",
            "Epoch 5/20\n",
            "375/375 [==============================] - 8s 22ms/step - loss: 2.0253 - accuracy: 0.3288 - val_loss: 1.9690 - val_accuracy: 0.3457\n",
            "Epoch 6/20\n",
            "375/375 [==============================] - 8s 22ms/step - loss: 1.9556 - accuracy: 0.3499 - val_loss: 1.9034 - val_accuracy: 0.3709\n",
            "Epoch 7/20\n",
            "375/375 [==============================] - 8s 22ms/step - loss: 1.8994 - accuracy: 0.3693 - val_loss: 1.8495 - val_accuracy: 0.3847\n",
            "Epoch 8/20\n",
            "375/375 [==============================] - 8s 22ms/step - loss: 1.8519 - accuracy: 0.3837 - val_loss: 1.8042 - val_accuracy: 0.4104\n",
            "Epoch 9/20\n",
            "375/375 [==============================] - 8s 22ms/step - loss: 1.8095 - accuracy: 0.4024 - val_loss: 1.7594 - val_accuracy: 0.4200\n",
            "Epoch 10/20\n",
            "375/375 [==============================] - 9s 23ms/step - loss: 1.7701 - accuracy: 0.4124 - val_loss: 1.7217 - val_accuracy: 0.4323\n",
            "Epoch 11/20\n",
            "375/375 [==============================] - 8s 22ms/step - loss: 1.7364 - accuracy: 0.4221 - val_loss: 1.6896 - val_accuracy: 0.4436\n",
            "Epoch 12/20\n",
            "375/375 [==============================] - 8s 22ms/step - loss: 1.7034 - accuracy: 0.4318 - val_loss: 1.6559 - val_accuracy: 0.4493\n",
            "Epoch 13/20\n",
            "375/375 [==============================] - 8s 22ms/step - loss: 1.6725 - accuracy: 0.4400 - val_loss: 1.6284 - val_accuracy: 0.4541\n",
            "Epoch 14/20\n",
            "375/375 [==============================] - 8s 22ms/step - loss: 1.6446 - accuracy: 0.4458 - val_loss: 1.6011 - val_accuracy: 0.4608\n",
            "Epoch 15/20\n",
            "375/375 [==============================] - 8s 22ms/step - loss: 1.6170 - accuracy: 0.4534 - val_loss: 1.5765 - val_accuracy: 0.4628\n",
            "Epoch 16/20\n",
            "375/375 [==============================] - 8s 22ms/step - loss: 1.5923 - accuracy: 0.4612 - val_loss: 1.5614 - val_accuracy: 0.4566\n",
            "Epoch 17/20\n",
            "375/375 [==============================] - 8s 21ms/step - loss: 1.5689 - accuracy: 0.4671 - val_loss: 1.5303 - val_accuracy: 0.4713\n",
            "Epoch 18/20\n",
            "375/375 [==============================] - 8s 21ms/step - loss: 1.5474 - accuracy: 0.4703 - val_loss: 1.5091 - val_accuracy: 0.4773\n",
            "Epoch 19/20\n",
            "375/375 [==============================] - 8s 21ms/step - loss: 1.5252 - accuracy: 0.4758 - val_loss: 1.4897 - val_accuracy: 0.4776\n",
            "Epoch 20/20\n",
            "375/375 [==============================] - 8s 21ms/step - loss: 1.5061 - accuracy: 0.4809 - val_loss: 1.4673 - val_accuracy: 0.4818\n"
          ],
          "name": "stdout"
        },
        {
          "output_type": "stream",
          "text": [
            "100%|██████████| 1/1 [00:00<00:00,  2.04it/s]\n"
          ],
          "name": "stderr"
        },
        {
          "output_type": "stream",
          "text": [
            "Model: 0 added. Resulting score: 0.4696666666666667\n",
            "Train model 1\n",
            "Epoch 1/20\n",
            "375/375 [==============================] - 9s 23ms/step - loss: 2.3494 - accuracy: 0.1079 - val_loss: 2.2998 - val_accuracy: 0.0974\n",
            "Epoch 2/20\n",
            "375/375 [==============================] - 9s 23ms/step - loss: 2.2759 - accuracy: 0.1912 - val_loss: 2.2577 - val_accuracy: 0.2146\n",
            "Epoch 3/20\n",
            "375/375 [==============================] - 9s 23ms/step - loss: 2.2270 - accuracy: 0.2612 - val_loss: 2.1909 - val_accuracy: 0.2824\n",
            "Epoch 4/20\n",
            "375/375 [==============================] - 9s 23ms/step - loss: 2.1589 - accuracy: 0.2932 - val_loss: 2.1094 - val_accuracy: 0.3277\n",
            "Epoch 5/20\n",
            "375/375 [==============================] - 9s 23ms/step - loss: 2.0789 - accuracy: 0.3186 - val_loss: 2.0252 - val_accuracy: 0.3358\n",
            "Epoch 6/20\n",
            "375/375 [==============================] - 9s 23ms/step - loss: 1.9991 - accuracy: 0.3292 - val_loss: 1.9455 - val_accuracy: 0.3456\n",
            "Epoch 7/20\n",
            "375/375 [==============================] - 9s 23ms/step - loss: 1.9240 - accuracy: 0.3471 - val_loss: 1.8711 - val_accuracy: 0.3712\n",
            "Epoch 8/20\n",
            "375/375 [==============================] - 9s 23ms/step - loss: 1.8522 - accuracy: 0.3701 - val_loss: 1.8005 - val_accuracy: 0.3950\n",
            "Epoch 9/20\n",
            "375/375 [==============================] - 9s 23ms/step - loss: 1.7877 - accuracy: 0.3934 - val_loss: 1.7382 - val_accuracy: 0.4112\n",
            "Epoch 10/20\n",
            "375/375 [==============================] - 8s 23ms/step - loss: 1.7306 - accuracy: 0.4120 - val_loss: 1.6823 - val_accuracy: 0.4361\n",
            "Epoch 11/20\n",
            "375/375 [==============================] - 9s 23ms/step - loss: 1.6800 - accuracy: 0.4309 - val_loss: 1.6351 - val_accuracy: 0.4347\n",
            "Epoch 12/20\n",
            "375/375 [==============================] - 9s 23ms/step - loss: 1.6381 - accuracy: 0.4399 - val_loss: 1.5934 - val_accuracy: 0.4528\n",
            "Epoch 13/20\n",
            "375/375 [==============================] - 8s 23ms/step - loss: 1.6015 - accuracy: 0.4498 - val_loss: 1.5641 - val_accuracy: 0.4533\n",
            "Epoch 14/20\n",
            "375/375 [==============================] - 9s 23ms/step - loss: 1.5693 - accuracy: 0.4631 - val_loss: 1.5322 - val_accuracy: 0.4679\n",
            "Epoch 15/20\n",
            "375/375 [==============================] - 9s 23ms/step - loss: 1.5413 - accuracy: 0.4700 - val_loss: 1.5073 - val_accuracy: 0.4671\n",
            "Epoch 16/20\n",
            "375/375 [==============================] - 9s 23ms/step - loss: 1.5172 - accuracy: 0.4763 - val_loss: 1.4861 - val_accuracy: 0.4768\n",
            "Epoch 17/20\n",
            "375/375 [==============================] - 9s 23ms/step - loss: 1.4960 - accuracy: 0.4798 - val_loss: 1.4658 - val_accuracy: 0.4821\n",
            "Epoch 18/20\n",
            "375/375 [==============================] - 9s 23ms/step - loss: 1.4780 - accuracy: 0.4854 - val_loss: 1.4483 - val_accuracy: 0.4828\n",
            "Epoch 19/20\n",
            "375/375 [==============================] - 9s 23ms/step - loss: 1.4592 - accuracy: 0.4920 - val_loss: 1.4390 - val_accuracy: 0.4794\n",
            "Epoch 20/20\n",
            "375/375 [==============================] - 9s 23ms/step - loss: 1.4429 - accuracy: 0.4942 - val_loss: 1.4210 - val_accuracy: 0.4867\n"
          ],
          "name": "stdout"
        },
        {
          "output_type": "stream",
          "text": [
            "100%|██████████| 2/2 [00:00<00:00,  2.26it/s]\n"
          ],
          "name": "stderr"
        },
        {
          "output_type": "stream",
          "text": [
            "Model: 1 added. Resulting score: 0.46\n",
            "Train model 2\n",
            "Epoch 1/20\n",
            "375/375 [==============================] - 9s 23ms/step - loss: 2.3242 - accuracy: 0.0729 - val_loss: 2.2981 - val_accuracy: 0.1340\n",
            "Epoch 2/20\n",
            "375/375 [==============================] - 8s 22ms/step - loss: 2.2712 - accuracy: 0.1604 - val_loss: 2.2572 - val_accuracy: 0.1823\n",
            "Epoch 3/20\n",
            "375/375 [==============================] - 9s 23ms/step - loss: 2.2240 - accuracy: 0.2047 - val_loss: 2.1950 - val_accuracy: 0.2094\n",
            "Epoch 4/20\n",
            "375/375 [==============================] - 9s 23ms/step - loss: 2.1669 - accuracy: 0.2543 - val_loss: 2.1259 - val_accuracy: 0.2347\n",
            "Epoch 5/20\n",
            "375/375 [==============================] - 8s 23ms/step - loss: 2.0992 - accuracy: 0.2778 - val_loss: 2.0532 - val_accuracy: 0.2804\n",
            "Epoch 6/20\n",
            "375/375 [==============================] - 8s 23ms/step - loss: 2.0324 - accuracy: 0.3021 - val_loss: 1.9852 - val_accuracy: 0.2997\n",
            "Epoch 7/20\n",
            "375/375 [==============================] - 9s 23ms/step - loss: 1.9693 - accuracy: 0.3197 - val_loss: 1.9215 - val_accuracy: 0.3305\n",
            "Epoch 8/20\n",
            "375/375 [==============================] - 8s 22ms/step - loss: 1.9101 - accuracy: 0.3375 - val_loss: 1.8660 - val_accuracy: 0.3427\n",
            "Epoch 9/20\n",
            "375/375 [==============================] - 8s 22ms/step - loss: 1.8573 - accuracy: 0.3494 - val_loss: 1.8179 - val_accuracy: 0.3589\n",
            "Epoch 10/20\n",
            "375/375 [==============================] - 8s 23ms/step - loss: 1.8118 - accuracy: 0.3627 - val_loss: 1.7706 - val_accuracy: 0.3716\n",
            "Epoch 11/20\n",
            "375/375 [==============================] - 8s 22ms/step - loss: 1.7694 - accuracy: 0.3772 - val_loss: 1.7316 - val_accuracy: 0.3926\n",
            "Epoch 12/20\n",
            "375/375 [==============================] - 9s 23ms/step - loss: 1.7317 - accuracy: 0.3859 - val_loss: 1.6999 - val_accuracy: 0.3987\n",
            "Epoch 13/20\n",
            "375/375 [==============================] - 9s 23ms/step - loss: 1.6986 - accuracy: 0.4005 - val_loss: 1.6649 - val_accuracy: 0.4163\n",
            "Epoch 14/20\n",
            "375/375 [==============================] - 8s 22ms/step - loss: 1.6687 - accuracy: 0.4109 - val_loss: 1.6411 - val_accuracy: 0.4150\n",
            "Epoch 15/20\n",
            "375/375 [==============================] - 9s 23ms/step - loss: 1.6418 - accuracy: 0.4191 - val_loss: 1.6148 - val_accuracy: 0.4224\n",
            "Epoch 16/20\n",
            "375/375 [==============================] - 8s 22ms/step - loss: 1.6178 - accuracy: 0.4282 - val_loss: 1.5842 - val_accuracy: 0.4287\n",
            "Epoch 17/20\n",
            "375/375 [==============================] - 9s 23ms/step - loss: 1.5965 - accuracy: 0.4346 - val_loss: 1.5705 - val_accuracy: 0.4359\n",
            "Epoch 18/20\n",
            "375/375 [==============================] - 8s 22ms/step - loss: 1.5780 - accuracy: 0.4406 - val_loss: 1.5558 - val_accuracy: 0.4369\n",
            "Epoch 19/20\n",
            "375/375 [==============================] - 9s 23ms/step - loss: 1.5597 - accuracy: 0.4430 - val_loss: 1.5357 - val_accuracy: 0.4476\n",
            "Epoch 20/20\n",
            "375/375 [==============================] - 9s 23ms/step - loss: 1.5431 - accuracy: 0.4488 - val_loss: 1.5174 - val_accuracy: 0.4503\n"
          ],
          "name": "stdout"
        },
        {
          "output_type": "stream",
          "text": [
            "100%|██████████| 3/3 [00:01<00:00,  2.31it/s]\n"
          ],
          "name": "stderr"
        },
        {
          "output_type": "stream",
          "text": [
            "Model: 2 added. Resulting score: 0.48125\n",
            "Train model 3\n",
            "Epoch 1/20\n",
            "375/375 [==============================] - 8s 21ms/step - loss: 2.3037 - accuracy: 0.1781 - val_loss: 2.3154 - val_accuracy: 0.1135\n",
            "Epoch 2/20\n",
            "375/375 [==============================] - 8s 20ms/step - loss: 2.2454 - accuracy: 0.2388 - val_loss: 2.3390 - val_accuracy: 0.1135\n",
            "Epoch 3/20\n",
            "375/375 [==============================] - 8s 20ms/step - loss: 2.1931 - accuracy: 0.2670 - val_loss: 2.3911 - val_accuracy: 0.1135\n",
            "Epoch 4/20\n",
            "375/375 [==============================] - 8s 20ms/step - loss: 2.1277 - accuracy: 0.2860 - val_loss: 2.4909 - val_accuracy: 0.1135\n"
          ],
          "name": "stdout"
        },
        {
          "output_type": "stream",
          "text": [
            "100%|██████████| 4/4 [00:01<00:00,  2.31it/s]\n"
          ],
          "name": "stderr"
        },
        {
          "output_type": "stream",
          "text": [
            "Model: 3 added. Resulting score: 0.4673333333333333\n",
            "Train model 4\n",
            "Epoch 1/20\n",
            "375/375 [==============================] - 8s 21ms/step - loss: 2.3224 - accuracy: 0.1388 - val_loss: 2.2824 - val_accuracy: 0.2189\n",
            "Epoch 2/20\n",
            "375/375 [==============================] - 8s 21ms/step - loss: 2.2496 - accuracy: 0.2172 - val_loss: 2.2224 - val_accuracy: 0.2325\n",
            "Epoch 3/20\n",
            "375/375 [==============================] - 8s 21ms/step - loss: 2.1974 - accuracy: 0.2463 - val_loss: 2.1513 - val_accuracy: 0.2673\n",
            "Epoch 4/20\n",
            "375/375 [==============================] - 8s 21ms/step - loss: 2.1312 - accuracy: 0.2694 - val_loss: 2.0686 - val_accuracy: 0.2998\n",
            "Epoch 5/20\n",
            "375/375 [==============================] - 8s 21ms/step - loss: 2.0595 - accuracy: 0.2840 - val_loss: 1.9859 - val_accuracy: 0.3283\n",
            "Epoch 6/20\n",
            "375/375 [==============================] - 8s 21ms/step - loss: 1.9870 - accuracy: 0.3007 - val_loss: 1.8984 - val_accuracy: 0.3610\n",
            "Epoch 7/20\n",
            "375/375 [==============================] - 8s 21ms/step - loss: 1.9217 - accuracy: 0.3212 - val_loss: 1.8303 - val_accuracy: 0.3760\n",
            "Epoch 8/20\n",
            "375/375 [==============================] - 8s 21ms/step - loss: 1.8658 - accuracy: 0.3390 - val_loss: 1.7784 - val_accuracy: 0.3937\n",
            "Epoch 9/20\n",
            "375/375 [==============================] - 8s 21ms/step - loss: 1.8194 - accuracy: 0.3512 - val_loss: 1.7342 - val_accuracy: 0.4017\n",
            "Epoch 10/20\n",
            "375/375 [==============================] - 8s 21ms/step - loss: 1.7818 - accuracy: 0.3594 - val_loss: 1.6935 - val_accuracy: 0.4111\n",
            "Epoch 11/20\n",
            "375/375 [==============================] - 8s 21ms/step - loss: 1.7470 - accuracy: 0.3680 - val_loss: 1.6599 - val_accuracy: 0.4154\n",
            "Epoch 12/20\n",
            "375/375 [==============================] - 8s 20ms/step - loss: 1.7168 - accuracy: 0.3780 - val_loss: 1.6376 - val_accuracy: 0.4213\n",
            "Epoch 13/20\n",
            "375/375 [==============================] - 8s 21ms/step - loss: 1.6924 - accuracy: 0.3872 - val_loss: 1.6128 - val_accuracy: 0.4275\n",
            "Epoch 14/20\n",
            "375/375 [==============================] - 8s 21ms/step - loss: 1.6720 - accuracy: 0.3894 - val_loss: 1.5981 - val_accuracy: 0.4295\n",
            "Epoch 15/20\n",
            "375/375 [==============================] - 8s 20ms/step - loss: 1.6504 - accuracy: 0.3962 - val_loss: 1.5806 - val_accuracy: 0.4292\n",
            "Epoch 16/20\n",
            "375/375 [==============================] - 8s 21ms/step - loss: 1.6338 - accuracy: 0.4002 - val_loss: 1.5683 - val_accuracy: 0.4329\n",
            "Epoch 17/20\n",
            "375/375 [==============================] - 8s 21ms/step - loss: 1.6194 - accuracy: 0.4040 - val_loss: 1.5624 - val_accuracy: 0.4337\n",
            "Epoch 18/20\n",
            "375/375 [==============================] - 8s 21ms/step - loss: 1.6051 - accuracy: 0.4090 - val_loss: 1.5693 - val_accuracy: 0.4345\n",
            "Epoch 19/20\n",
            "375/375 [==============================] - 8s 21ms/step - loss: 1.5872 - accuracy: 0.4188 - val_loss: 1.5326 - val_accuracy: 0.4463\n",
            "Epoch 20/20\n",
            "375/375 [==============================] - 8s 21ms/step - loss: 1.5741 - accuracy: 0.4224 - val_loss: 1.5420 - val_accuracy: 0.4411\n"
          ],
          "name": "stdout"
        },
        {
          "output_type": "stream",
          "text": [
            "100%|██████████| 5/5 [00:02<00:00,  2.13it/s]\n"
          ],
          "name": "stderr"
        },
        {
          "output_type": "stream",
          "text": [
            "Model: 4 added. Resulting score: 0.47158333333333335\n",
            "Train model 5\n",
            "Epoch 1/20\n",
            "375/375 [==============================] - 3s 7ms/step - loss: 2.3212 - accuracy: 0.0984 - val_loss: 2.2890 - val_accuracy: 0.1385\n",
            "Epoch 2/20\n",
            "375/375 [==============================] - 2s 6ms/step - loss: 2.2424 - accuracy: 0.1810 - val_loss: 2.2183 - val_accuracy: 0.2622\n",
            "Epoch 3/20\n",
            "375/375 [==============================] - 3s 7ms/step - loss: 2.1868 - accuracy: 0.2875 - val_loss: 2.1505 - val_accuracy: 0.3221\n",
            "Epoch 4/20\n",
            "375/375 [==============================] - 2s 6ms/step - loss: 2.1247 - accuracy: 0.3129 - val_loss: 2.0837 - val_accuracy: 0.3335\n",
            "Epoch 5/20\n",
            "375/375 [==============================] - 2s 6ms/step - loss: 2.0574 - accuracy: 0.3228 - val_loss: 2.0158 - val_accuracy: 0.3409\n",
            "Epoch 6/20\n",
            "375/375 [==============================] - 2s 6ms/step - loss: 1.9894 - accuracy: 0.3342 - val_loss: 1.9487 - val_accuracy: 0.3536\n",
            "Epoch 7/20\n",
            "375/375 [==============================] - 2s 6ms/step - loss: 1.9249 - accuracy: 0.3462 - val_loss: 1.8866 - val_accuracy: 0.3581\n",
            "Epoch 8/20\n",
            "375/375 [==============================] - 2s 7ms/step - loss: 1.8673 - accuracy: 0.3647 - val_loss: 1.8316 - val_accuracy: 0.3745\n",
            "Epoch 9/20\n",
            "375/375 [==============================] - 3s 7ms/step - loss: 1.8162 - accuracy: 0.3755 - val_loss: 1.7843 - val_accuracy: 0.3856\n",
            "Epoch 10/20\n",
            "375/375 [==============================] - 2s 7ms/step - loss: 1.7728 - accuracy: 0.3895 - val_loss: 1.7425 - val_accuracy: 0.3952\n",
            "Epoch 11/20\n",
            "375/375 [==============================] - 2s 6ms/step - loss: 1.7349 - accuracy: 0.4000 - val_loss: 1.7060 - val_accuracy: 0.4096\n",
            "Epoch 12/20\n",
            "375/375 [==============================] - 2s 7ms/step - loss: 1.7016 - accuracy: 0.4100 - val_loss: 1.6747 - val_accuracy: 0.4136\n",
            "Epoch 13/20\n",
            "375/375 [==============================] - 2s 6ms/step - loss: 1.6722 - accuracy: 0.4152 - val_loss: 1.6468 - val_accuracy: 0.4263\n",
            "Epoch 14/20\n",
            "375/375 [==============================] - 2s 7ms/step - loss: 1.6482 - accuracy: 0.4220 - val_loss: 1.6222 - val_accuracy: 0.4295\n",
            "Epoch 15/20\n",
            "375/375 [==============================] - 2s 6ms/step - loss: 1.6241 - accuracy: 0.4291 - val_loss: 1.6002 - val_accuracy: 0.4371\n",
            "Epoch 16/20\n",
            "375/375 [==============================] - 3s 7ms/step - loss: 1.6039 - accuracy: 0.4345 - val_loss: 1.5773 - val_accuracy: 0.4441\n",
            "Epoch 17/20\n",
            "375/375 [==============================] - 2s 7ms/step - loss: 1.5853 - accuracy: 0.4397 - val_loss: 1.5575 - val_accuracy: 0.4518\n",
            "Epoch 18/20\n",
            "375/375 [==============================] - 2s 6ms/step - loss: 1.5668 - accuracy: 0.4484 - val_loss: 1.5403 - val_accuracy: 0.4583\n",
            "Epoch 19/20\n",
            "375/375 [==============================] - 2s 7ms/step - loss: 1.5502 - accuracy: 0.4535 - val_loss: 1.5226 - val_accuracy: 0.4632\n",
            "Epoch 20/20\n",
            "375/375 [==============================] - 3s 7ms/step - loss: 1.5341 - accuracy: 0.4621 - val_loss: 1.5066 - val_accuracy: 0.4725\n"
          ],
          "name": "stdout"
        },
        {
          "output_type": "stream",
          "text": [
            "100%|██████████| 6/6 [00:02<00:00,  2.24it/s]"
          ],
          "name": "stderr"
        },
        {
          "output_type": "stream",
          "text": [
            "Model: 5 added. Resulting score: 0.4865833333333333\n"
          ],
          "name": "stdout"
        },
        {
          "output_type": "stream",
          "text": [
            "\n"
          ],
          "name": "stderr"
        }
      ]
    },
    {
      "cell_type": "markdown",
      "metadata": {
        "id": "fGT6jV-hcLbJ",
        "colab_type": "text"
      },
      "source": [
        "# Results"
      ]
    },
    {
      "cell_type": "markdown",
      "metadata": {
        "id": "CurcmjMCcrJI",
        "colab_type": "text"
      },
      "source": [
        "# Accuracy vs nr of models\n",
        "Visualizing the accuracy vs the number of models in the ensemble"
      ]
    },
    {
      "cell_type": "code",
      "metadata": {
        "id": "yvZLQyb5cg7R",
        "colab_type": "code",
        "outputId": "31dc134d-71dd-4b6d-c208-2c3b877de3bf",
        "colab": {
          "base_uri": "https://localhost:8080/",
          "height": 269
        }
      },
      "source": [
        "accuracy_df = pd.DataFrame(accuracies, columns=[\"Accuracy\"])\n",
        "accuracy_df.insert(1, \"Nr of models\", accuracy_df.index)\n",
        "\n",
        "display(accuracy_df)\n",
        "\n",
        "accuracy_df.to_csv(PATH + MODEL_NAME + \"_accuracy.csv\")"
      ],
      "execution_count": 15,
      "outputs": [
        {
          "output_type": "display_data",
          "data": {
            "text/html": [
              "<div>\n",
              "<style scoped>\n",
              "    .dataframe tbody tr th:only-of-type {\n",
              "        vertical-align: middle;\n",
              "    }\n",
              "\n",
              "    .dataframe tbody tr th {\n",
              "        vertical-align: top;\n",
              "    }\n",
              "\n",
              "    .dataframe thead th {\n",
              "        text-align: right;\n",
              "    }\n",
              "</style>\n",
              "<table border=\"1\" class=\"dataframe\">\n",
              "  <thead>\n",
              "    <tr style=\"text-align: right;\">\n",
              "      <th></th>\n",
              "      <th>Accuracy</th>\n",
              "      <th>Nr of models</th>\n",
              "    </tr>\n",
              "  </thead>\n",
              "  <tbody>\n",
              "    <tr>\n",
              "      <th>0</th>\n",
              "      <td>0.000000</td>\n",
              "      <td>0</td>\n",
              "    </tr>\n",
              "    <tr>\n",
              "      <th>1</th>\n",
              "      <td>0.469667</td>\n",
              "      <td>1</td>\n",
              "    </tr>\n",
              "    <tr>\n",
              "      <th>2</th>\n",
              "      <td>0.460000</td>\n",
              "      <td>2</td>\n",
              "    </tr>\n",
              "    <tr>\n",
              "      <th>3</th>\n",
              "      <td>0.481250</td>\n",
              "      <td>3</td>\n",
              "    </tr>\n",
              "    <tr>\n",
              "      <th>4</th>\n",
              "      <td>0.467333</td>\n",
              "      <td>4</td>\n",
              "    </tr>\n",
              "    <tr>\n",
              "      <th>5</th>\n",
              "      <td>0.471583</td>\n",
              "      <td>5</td>\n",
              "    </tr>\n",
              "    <tr>\n",
              "      <th>6</th>\n",
              "      <td>0.486583</td>\n",
              "      <td>6</td>\n",
              "    </tr>\n",
              "  </tbody>\n",
              "</table>\n",
              "</div>"
            ],
            "text/plain": [
              "   Accuracy  Nr of models\n",
              "0  0.000000             0\n",
              "1  0.469667             1\n",
              "2  0.460000             2\n",
              "3  0.481250             3\n",
              "4  0.467333             4\n",
              "5  0.471583             5\n",
              "6  0.486583             6"
            ]
          },
          "metadata": {
            "tags": []
          }
        }
      ]
    },
    {
      "cell_type": "code",
      "metadata": {
        "id": "sXq8Uj3lenzH",
        "colab_type": "code",
        "outputId": "cc50edd6-d8f6-4fff-ca87-b06aafdbbb02",
        "colab": {
          "base_uri": "https://localhost:8080/",
          "height": 279
        }
      },
      "source": [
        "import matplotlib.pyplot as plt\n",
        "\n",
        "# remove first row\n",
        "accuracy_df = accuracy_df.iloc[1:]\n",
        "\n",
        "accuracy_df.plot(x=\"Nr of models\", y=\"Accuracy\", xticks=accuracy_df[\"Nr of models\"])\n",
        "plt.show()"
      ],
      "execution_count": 16,
      "outputs": [
        {
          "output_type": "display_data",
          "data": {
            "image/png": "[encoded data removed]",
            "text/plain": [
              "<Figure size 432x288 with 1 Axes>"
            ]
          },
          "metadata": {
            "tags": [],
            "needs_background": "light"
          }
        }
      ]
    },
    {
      "cell_type": "markdown",
      "metadata": {
        "id": "51rnX_l7Pfdr",
        "colab_type": "text"
      },
      "source": [
        "## Accuracy\n",
        "The final accuracy of the ensamble on the test set"
      ]
    },
    {
      "cell_type": "code",
      "metadata": {
        "id": "GwNmmvSFPlVx",
        "colab_type": "code",
        "outputId": "1cb9e030-57e6-4bfd-a84b-911ea086fd7e",
        "colab": {
          "base_uri": "https://localhost:8080/",
          "height": 52
        }
      },
      "source": [
        "print(\"Accuracy: \" + str(predict(models, x_test, y_test)))"
      ],
      "execution_count": 17,
      "outputs": [
        {
          "output_type": "stream",
          "text": [
            "100%|██████████| 6/6 [00:02<00:00,  2.80it/s]"
          ],
          "name": "stderr"
        },
        {
          "output_type": "stream",
          "text": [
            "Accuracy: 0.4944\n"
          ],
          "name": "stdout"
        },
        {
          "output_type": "stream",
          "text": [
            "\n"
          ],
          "name": "stderr"
        }
      ]
    },
    {
      "cell_type": "markdown",
      "metadata": {
        "id": "NMfc-h8xAYQu",
        "colab_type": "text"
      },
      "source": [
        "## Correlation between models"
      ]
    },
    {
      "cell_type": "code",
      "metadata": {
        "id": "0N9wSXF1iSp3",
        "colab_type": "code",
        "outputId": "6fdb4c2d-726a-4a41-ba44-1682bf1f10cf",
        "colab": {
          "base_uri": "https://localhost:8080/",
          "height": 34
        }
      },
      "source": [
        "predictions = []\n",
        "\n",
        "for m in tqdm(models):\n",
        "    predictions.append(np.argmax(m.predict(x_test), axis=1))"
      ],
      "execution_count": 18,
      "outputs": [
        {
          "output_type": "stream",
          "text": [
            "100%|██████████| 6/6 [00:02<00:00,  2.82it/s]\n"
          ],
          "name": "stderr"
        }
      ]
    },
    {
      "cell_type": "code",
      "metadata": {
        "id": "FAky42lMV102",
        "colab_type": "code",
        "outputId": "cf659b9b-29e6-46fd-dc1d-f5d6ad69e9c7",
        "colab": {
          "base_uri": "https://localhost:8080/",
          "height": 290
        }
      },
      "source": [
        "correlation_matrix = []\n",
        "\n",
        "for ix, x in enumerate(predictions):\n",
        "  row = []\n",
        "  \n",
        "  for iy, y in enumerate(predictions):\n",
        "    if (ix == iy):\n",
        "      row.append(np.nan)\n",
        "    else:\n",
        "      row.append(pearsonr(x,y)[0])\n",
        "\n",
        "  correlation_matrix.append(row)\n",
        "\n",
        "correlation_matrix = np.array(correlation_matrix)\n",
        "display(pd.DataFrame(correlation_matrix))\n",
        "print(\"Average correlation: \" + str(np.nanmean(correlation_matrix.flatten())))"
      ],
      "execution_count": 19,
      "outputs": [
        {
          "output_type": "stream",
          "text": [
            "/usr/local/lib/python3.6/dist-packages/scipy/stats/stats.py:3508: PearsonRConstantInputWarning: An input array is constant; the correlation coefficent is not defined.\n",
            "  warnings.warn(PearsonRConstantInputWarning())\n"
          ],
          "name": "stderr"
        },
        {
          "output_type": "display_data",
          "data": {
            "text/html": [
              "<div>\n",
              "<style scoped>\n",
              "    .dataframe tbody tr th:only-of-type {\n",
              "        vertical-align: middle;\n",
              "    }\n",
              "\n",
              "    .dataframe tbody tr th {\n",
              "        vertical-align: top;\n",
              "    }\n",
              "\n",
              "    .dataframe thead th {\n",
              "        text-align: right;\n",
              "    }\n",
              "</style>\n",
              "<table border=\"1\" class=\"dataframe\">\n",
              "  <thead>\n",
              "    <tr style=\"text-align: right;\">\n",
              "      <th></th>\n",
              "      <th>0</th>\n",
              "      <th>1</th>\n",
              "      <th>2</th>\n",
              "      <th>3</th>\n",
              "      <th>4</th>\n",
              "      <th>5</th>\n",
              "    </tr>\n",
              "  </thead>\n",
              "  <tbody>\n",
              "    <tr>\n",
              "      <th>0</th>\n",
              "      <td>NaN</td>\n",
              "      <td>0.560250</td>\n",
              "      <td>0.559921</td>\n",
              "      <td>NaN</td>\n",
              "      <td>0.624712</td>\n",
              "      <td>0.629930</td>\n",
              "    </tr>\n",
              "    <tr>\n",
              "      <th>1</th>\n",
              "      <td>0.560250</td>\n",
              "      <td>NaN</td>\n",
              "      <td>0.547756</td>\n",
              "      <td>NaN</td>\n",
              "      <td>0.581776</td>\n",
              "      <td>0.525111</td>\n",
              "    </tr>\n",
              "    <tr>\n",
              "      <th>2</th>\n",
              "      <td>0.559921</td>\n",
              "      <td>0.547756</td>\n",
              "      <td>NaN</td>\n",
              "      <td>NaN</td>\n",
              "      <td>0.556699</td>\n",
              "      <td>0.567642</td>\n",
              "    </tr>\n",
              "    <tr>\n",
              "      <th>3</th>\n",
              "      <td>NaN</td>\n",
              "      <td>NaN</td>\n",
              "      <td>NaN</td>\n",
              "      <td>NaN</td>\n",
              "      <td>NaN</td>\n",
              "      <td>NaN</td>\n",
              "    </tr>\n",
              "    <tr>\n",
              "      <th>4</th>\n",
              "      <td>0.624712</td>\n",
              "      <td>0.581776</td>\n",
              "      <td>0.556699</td>\n",
              "      <td>NaN</td>\n",
              "      <td>NaN</td>\n",
              "      <td>0.510010</td>\n",
              "    </tr>\n",
              "    <tr>\n",
              "      <th>5</th>\n",
              "      <td>0.629930</td>\n",
              "      <td>0.525111</td>\n",
              "      <td>0.567642</td>\n",
              "      <td>NaN</td>\n",
              "      <td>0.510010</td>\n",
              "      <td>NaN</td>\n",
              "    </tr>\n",
              "  </tbody>\n",
              "</table>\n",
              "</div>"
            ],
            "text/plain": [
              "          0         1         2   3         4         5\n",
              "0       NaN  0.560250  0.559921 NaN  0.624712  0.629930\n",
              "1  0.560250       NaN  0.547756 NaN  0.581776  0.525111\n",
              "2  0.559921  0.547756       NaN NaN  0.556699  0.567642\n",
              "3       NaN       NaN       NaN NaN       NaN       NaN\n",
              "4  0.624712  0.581776  0.556699 NaN       NaN  0.510010\n",
              "5  0.629930  0.525111  0.567642 NaN  0.510010       NaN"
            ]
          },
          "metadata": {
            "tags": []
          }
        },
        {
          "output_type": "stream",
          "text": [
            "Average correlation: 0.5663806103764353\n"
          ],
          "name": "stdout"
        }
      ]
    }
  ]
}