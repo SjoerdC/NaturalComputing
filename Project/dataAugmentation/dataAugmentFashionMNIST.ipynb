{
  "nbformat": 4,
  "nbformat_minor": 0,
  "metadata": {
    "accelerator": "GPU",
    "colab": {
      "name": "dataAugmentFashionMNIST.ipynb",
      "provenance": [],
      "collapsed_sections": [],
      "toc_visible": true
    },
    "kernelspec": {
      "display_name": "Python 3",
      "language": "python",
      "name": "python3"
    },
    "language_info": {
      "codemirror_mode": {
        "name": "ipython",
        "version": 3
      },
      "file_extension": ".py",
      "mimetype": "text/x-python",
      "name": "python",
      "nbconvert_exporter": "python",
      "pygments_lexer": "ipython3",
      "version": "3.6.9"
    }
  },
  "cells": [
    {
      "cell_type": "code",
      "metadata": {
        "colab_type": "code",
        "id": "fde69AMuOpox",
        "outputId": "a7914e85-0765-4ec5-fcbb-6ce877498ae8",
        "colab": {
          "base_uri": "https://localhost:8080/",
          "height": 34
        }
      },
      "source": [
        "import keras\n",
        "import cv2\n",
        "import numpy as np\n",
        "import pandas as pd\n",
        "import tensorflow as tf\n",
        "from itertools import count\n",
        "from sklearn.metrics import accuracy_score\n",
        "from keras.datasets import fashion_mnist\n",
        "from keras.preprocessing.image import ImageDataGenerator\n",
        "from keras.applications.vgg16 import VGG16\n",
        "from keras.layers import Dense, Dropout, Flatten, Activation, Input, Conv2D, MaxPooling2D, BatchNormalization, GlobalAveragePooling2D\n",
        "from sklearn.model_selection import train_test_split\n",
        "from keras.models import Model\n",
        "from keras.callbacks import EarlyStopping\n",
        "from scipy.stats import pearsonr\n",
        "from tqdm import tqdm"
      ],
      "execution_count": 1,
      "outputs": [
        {
          "output_type": "stream",
          "text": [
            "Using TensorFlow backend.\n"
          ],
          "name": "stderr"
        }
      ]
    },
    {
      "cell_type": "code",
      "metadata": {
        "colab_type": "code",
        "id": "qYrab7qpOppj",
        "colab": {}
      },
      "source": [
        "BATCH_SIZE = 128\n",
        "EPOCHS = 20\n",
        "IMAGE_SIZE = 28\n",
        "NUM_CLASSES = 10\n",
        "MODEL_ADDITION_DELTA = 0.01\n",
        "MODEL_ADDITION_PATIENCE = 3\n",
        "MODEL_NAME = \"FashionMNIST_augment\"\n",
        "PATH = \"\""
      ],
      "execution_count": 0,
      "outputs": []
    },
    {
      "cell_type": "code",
      "metadata": {
        "id": "lvPye7rV7D-m",
        "colab_type": "code",
        "colab": {}
      },
      "source": [
        "rotation_range = 10\n",
        "width_shift_range = 0.1\n",
        "height_shift_range = 0.1\n",
        "brightness_range = (0.5,1.0)\n",
        "zoom_range = 0.2\n",
        "horizontal_flip = True"
      ],
      "execution_count": 0,
      "outputs": []
    },
    {
      "cell_type": "markdown",
      "metadata": {
        "id": "R9M4_-IaBOsn",
        "colab_type": "text"
      },
      "source": [
        "# Set seeds"
      ]
    },
    {
      "cell_type": "code",
      "metadata": {
        "id": "7n9nJGd_BQ-r",
        "colab_type": "code",
        "colab": {}
      },
      "source": [
        "np.random.seed(1)\n",
        "tf.random.set_seed(1)"
      ],
      "execution_count": 0,
      "outputs": []
    },
    {
      "cell_type": "markdown",
      "metadata": {
        "id": "g8QvEt97vF52",
        "colab_type": "text"
      },
      "source": [
        "# Preprocess"
      ]
    },
    {
      "cell_type": "code",
      "metadata": {
        "id": "JtJIUBsFKeRO",
        "colab_type": "code",
        "colab": {}
      },
      "source": [
        "def preprocess(imgs):\n",
        "    \n",
        "    return imgs.reshape(imgs.shape[0], IMAGE_SIZE, IMAGE_SIZE, 1)"
      ],
      "execution_count": 0,
      "outputs": []
    },
    {
      "cell_type": "code",
      "metadata": {
        "colab_type": "code",
        "id": "XypdmBJROpp9",
        "outputId": "e3437005-dad6-47e2-9cfe-9da8214b6205",
        "colab": {
          "base_uri": "https://localhost:8080/",
          "height": 208
        }
      },
      "source": [
        "(x_train, y_train), (x_test, y_test) = fashion_mnist.load_data()\n",
        "\n",
        "x_train = preprocess(x_train)\n",
        "x_test = preprocess(x_test)\n",
        "\n",
        "print('x_train shape:', x_train.shape)\n",
        "print(x_train.shape[0], 'train samples')\n",
        "print(x_test.shape[0], 'test samples')"
      ],
      "execution_count": 6,
      "outputs": [
        {
          "output_type": "stream",
          "text": [
            "Downloading data from http://fashion-mnist.s3-website.eu-central-1.amazonaws.com/train-labels-idx1-ubyte.gz\n",
            "32768/29515 [=================================] - 0s 4us/step\n",
            "Downloading data from http://fashion-mnist.s3-website.eu-central-1.amazonaws.com/train-images-idx3-ubyte.gz\n",
            "26427392/26421880 [==============================] - 2s 0us/step\n",
            "Downloading data from http://fashion-mnist.s3-website.eu-central-1.amazonaws.com/t10k-labels-idx1-ubyte.gz\n",
            "8192/5148 [===============================================] - 0s 0us/step\n",
            "Downloading data from http://fashion-mnist.s3-website.eu-central-1.amazonaws.com/t10k-images-idx3-ubyte.gz\n",
            "4423680/4422102 [==============================] - 1s 0us/step\n",
            "x_train shape: (60000, 28, 28, 1)\n",
            "60000 train samples\n",
            "10000 test samples\n"
          ],
          "name": "stdout"
        }
      ]
    },
    {
      "cell_type": "code",
      "metadata": {
        "colab_type": "code",
        "id": "mo8yHyg-Opqo",
        "colab": {}
      },
      "source": [
        "# Convert class vectors to binary class matrices.\n",
        "y_train = keras.utils.to_categorical(y_train, NUM_CLASSES)\n",
        "y_test = keras.utils.to_categorical(y_test, NUM_CLASSES)"
      ],
      "execution_count": 0,
      "outputs": []
    },
    {
      "cell_type": "code",
      "metadata": {
        "id": "a4SYRuKZaIwb",
        "colab_type": "code",
        "colab": {}
      },
      "source": [
        "x_train = x_train.astype('float32')\n",
        "x_test = x_test.astype('float32')\n",
        "x_train /= 255\n",
        "x_test /= 255"
      ],
      "execution_count": 0,
      "outputs": []
    },
    {
      "cell_type": "code",
      "metadata": {
        "id": "yLQOYIh0OW84",
        "colab_type": "code",
        "colab": {}
      },
      "source": [
        "# Split the data\n",
        "x_train, x_val, y_train, y_val = train_test_split(x_train, y_train, test_size=0.20, shuffle= True)"
      ],
      "execution_count": 0,
      "outputs": []
    },
    {
      "cell_type": "markdown",
      "metadata": {
        "id": "U6JSOpWp_BHt",
        "colab_type": "text"
      },
      "source": [
        "#Data generators\n"
      ]
    },
    {
      "cell_type": "code",
      "metadata": {
        "id": "VeSX4_La7EIs",
        "colab_type": "code",
        "colab": {}
      },
      "source": [
        "datagen_rotation = ImageDataGenerator(rotation_range=rotation_range)\n",
        "datagen_width_shift = ImageDataGenerator(width_shift_range=width_shift_range)\n",
        "datagen_height_shift = ImageDataGenerator(height_shift_range=height_shift_range)\n",
        "datagen_brightness = ImageDataGenerator(brightness_range=brightness_range)\n",
        "datagen_zoom = ImageDataGenerator(zoom_range=zoom_range)\n",
        "datagen_hflip = ImageDataGenerator(horizontal_flip=horizontal_flip)"
      ],
      "execution_count": 0,
      "outputs": []
    },
    {
      "cell_type": "code",
      "metadata": {
        "id": "TBZwvb9Z7ala",
        "colab_type": "code",
        "colab": {}
      },
      "source": [
        "datagens = []\n",
        "datagens.append(datagen_rotation)\n",
        "datagens.append(datagen_width_shift)\n",
        "datagens.append(datagen_height_shift)\n",
        "datagens.append(datagen_brightness)\n",
        "datagens.append(datagen_zoom)\n",
        "datagens.append(datagen_hflip)"
      ],
      "execution_count": 0,
      "outputs": []
    },
    {
      "cell_type": "markdown",
      "metadata": {
        "id": "gIBGIrlkvOt0",
        "colab_type": "text"
      },
      "source": [
        "# Model"
      ]
    },
    {
      "cell_type": "code",
      "metadata": {
        "colab_type": "code",
        "id": "zLWph6_aOpr2",
        "colab": {}
      },
      "source": [
        "def FashionMNISTmodel(imsize, num_classes, num_channels):\n",
        "    inputs = Input((imsize,imsize,num_channels))\n",
        "    x = Conv2D(filters = 32, kernel_size = (3,3), activation = 'relu', strides = 2)(inputs)\n",
        "    x = BatchNormalization()(x)\n",
        "    x = MaxPooling2D(pool_size = (2,2), strides=(2,2), padding = \"same\")(x)\n",
        "    x = Conv2D(filters=32, kernel_size=(1,1), activation='relu', padding='valid')(x)\n",
        "    x = Conv2D(filters = 10, kernel_size = (1,1),strides = (1,1), padding = 'valid')(x)\n",
        "    x = GlobalAveragePooling2D()(x)\n",
        "    outputs = Activation('softmax')(x)\n",
        "    \n",
        "    model = Model(inputs=inputs, outputs=outputs)\n",
        "\n",
        "    optimizer = keras.optimizers.Adam(learning_rate = 1e-04)\n",
        "\n",
        "    model.compile(loss='categorical_crossentropy',\n",
        "                      optimizer=optimizer,\n",
        "                      metrics=['accuracy'])\n",
        "    return model"
      ],
      "execution_count": 0,
      "outputs": []
    },
    {
      "cell_type": "markdown",
      "metadata": {
        "id": "EbiuqESLvTOY",
        "colab_type": "text"
      },
      "source": [
        "# Predict"
      ]
    },
    {
      "cell_type": "code",
      "metadata": {
        "id": "JXFkx19XmqKe",
        "colab_type": "code",
        "colab": {}
      },
      "source": [
        "def predict(models, X, Y):\n",
        "    predictions = []\n",
        "\n",
        "    for m in tqdm(models):\n",
        "        predictions.append(np.argmax(m.predict(X), axis=1))\n",
        "\n",
        "    prediction = np.transpose(predictions)\n",
        "    prediction = np.apply_along_axis(lambda x: np.bincount(x).argmax(), axis=1, arr=prediction)\n",
        "\n",
        "    return accuracy_score(prediction, np.argmax(Y, axis=1))"
      ],
      "execution_count": 0,
      "outputs": []
    },
    {
      "cell_type": "markdown",
      "metadata": {
        "id": "TVqdcrD_vQ-Q",
        "colab_type": "text"
      },
      "source": [
        "# Train"
      ]
    },
    {
      "cell_type": "code",
      "metadata": {
        "colab_type": "code",
        "id": "HjvZqLBJOpsw",
        "outputId": "30b96668-cef7-4a24-8229-9860ecb473e6",
        "colab": {
          "base_uri": "https://localhost:8080/",
          "height": 1000
        }
      },
      "source": [
        "models = []\n",
        "accuracies = [0]\n",
        "patience = 0\n",
        "\n",
        "for i in range(len(datagens)):\n",
        "\n",
        "    print(f\"Train model {i}\")\n",
        "\n",
        "    datagen = datagens[i].flow(x_train,y_train, batch_size = BATCH_SIZE) \n",
        "    model = FashionMNISTmodel(IMAGE_SIZE, NUM_CLASSES, 1)\n",
        "\n",
        "    es = EarlyStopping(min_delta=0.01, patience=3)\n",
        "    model.fit_generator(datagen,\n",
        "                        epochs = EPOCHS,\n",
        "                        validation_data = (x_test,y_test),\n",
        "                        shuffle = True,\n",
        "                        callbacks=[es])\n",
        "    \n",
        "    model.save_weights(PATH + MODEL_NAME + f\"_weights-{i}.h5\" )\n",
        "    models.append(model)\n",
        "\n",
        "    acc = predict(models, x_val, y_val)\n",
        "    accuracies.append(acc)\n",
        "\n",
        "    print(f\"Model: {i} added. Resulting score: {acc}\")"
      ],
      "execution_count": 24,
      "outputs": [
        {
          "output_type": "stream",
          "text": [
            "Train model 0\n",
            "Epoch 1/20\n",
            "375/375 [==============================] - 9s 23ms/step - loss: 2.1725 - accuracy: 0.2280 - val_loss: 2.1672 - val_accuracy: 0.2773\n",
            "Epoch 2/20\n",
            "375/375 [==============================] - 8s 22ms/step - loss: 1.8664 - accuracy: 0.4019 - val_loss: 1.7024 - val_accuracy: 0.4454\n",
            "Epoch 3/20\n",
            "375/375 [==============================] - 8s 22ms/step - loss: 1.6147 - accuracy: 0.4619 - val_loss: 1.4792 - val_accuracy: 0.4866\n",
            "Epoch 4/20\n",
            "375/375 [==============================] - 8s 22ms/step - loss: 1.4506 - accuracy: 0.5224 - val_loss: 1.3709 - val_accuracy: 0.5199\n",
            "Epoch 5/20\n",
            "375/375 [==============================] - 8s 22ms/step - loss: 1.3427 - accuracy: 0.5570 - val_loss: 1.2797 - val_accuracy: 0.5541\n",
            "Epoch 6/20\n",
            "375/375 [==============================] - 8s 22ms/step - loss: 1.2662 - accuracy: 0.5824 - val_loss: 1.2285 - val_accuracy: 0.5622\n",
            "Epoch 7/20\n",
            "375/375 [==============================] - 8s 22ms/step - loss: 1.2064 - accuracy: 0.5978 - val_loss: 1.1789 - val_accuracy: 0.5937\n",
            "Epoch 8/20\n",
            "375/375 [==============================] - 8s 22ms/step - loss: 1.1586 - accuracy: 0.6107 - val_loss: 1.1432 - val_accuracy: 0.5971\n",
            "Epoch 9/20\n",
            "375/375 [==============================] - 8s 23ms/step - loss: 1.1208 - accuracy: 0.6208 - val_loss: 1.1122 - val_accuracy: 0.6035\n",
            "Epoch 10/20\n",
            "375/375 [==============================] - 8s 23ms/step - loss: 1.0881 - accuracy: 0.6335 - val_loss: 1.0787 - val_accuracy: 0.6255\n",
            "Epoch 11/20\n",
            "375/375 [==============================] - 8s 22ms/step - loss: 1.0590 - accuracy: 0.6419 - val_loss: 1.0694 - val_accuracy: 0.6195\n",
            "Epoch 12/20\n",
            "375/375 [==============================] - 8s 22ms/step - loss: 1.0334 - accuracy: 0.6495 - val_loss: 1.0355 - val_accuracy: 0.6350\n",
            "Epoch 13/20\n",
            "375/375 [==============================] - 8s 22ms/step - loss: 1.0126 - accuracy: 0.6588 - val_loss: 1.0185 - val_accuracy: 0.6417\n",
            "Epoch 14/20\n",
            "375/375 [==============================] - 8s 22ms/step - loss: 0.9922 - accuracy: 0.6649 - val_loss: 0.9936 - val_accuracy: 0.6524\n",
            "Epoch 15/20\n",
            "375/375 [==============================] - 8s 22ms/step - loss: 0.9744 - accuracy: 0.6700 - val_loss: 0.9844 - val_accuracy: 0.6515\n",
            "Epoch 16/20\n",
            "375/375 [==============================] - 8s 22ms/step - loss: 0.9568 - accuracy: 0.6781 - val_loss: 0.9648 - val_accuracy: 0.6684\n",
            "Epoch 17/20\n",
            "375/375 [==============================] - 8s 22ms/step - loss: 0.9411 - accuracy: 0.6847 - val_loss: 0.9560 - val_accuracy: 0.6690\n",
            "Epoch 18/20\n",
            "375/375 [==============================] - 9s 23ms/step - loss: 0.9287 - accuracy: 0.6903 - val_loss: 0.9484 - val_accuracy: 0.6747\n",
            "Epoch 19/20\n",
            "375/375 [==============================] - 9s 23ms/step - loss: 0.9148 - accuracy: 0.6944 - val_loss: 0.9318 - val_accuracy: 0.6789\n",
            "Epoch 20/20\n",
            "375/375 [==============================] - 8s 22ms/step - loss: 0.9021 - accuracy: 0.6996 - val_loss: 0.9231 - val_accuracy: 0.6845\n"
          ],
          "name": "stdout"
        },
        {
          "output_type": "stream",
          "text": [
            "100%|██████████| 1/1 [00:00<00:00,  2.04it/s]\n"
          ],
          "name": "stderr"
        },
        {
          "output_type": "stream",
          "text": [
            "Model: 0 added. Resulting score: 0.6858333333333333\n",
            "Train model 1\n",
            "Epoch 1/20\n",
            "375/375 [==============================] - 9s 24ms/step - loss: 2.2232 - accuracy: 0.2186 - val_loss: 2.1981 - val_accuracy: 0.3080\n",
            "Epoch 2/20\n",
            "375/375 [==============================] - 9s 24ms/step - loss: 1.9752 - accuracy: 0.3506 - val_loss: 1.8821 - val_accuracy: 0.3667\n",
            "Epoch 3/20\n",
            "375/375 [==============================] - 9s 24ms/step - loss: 1.7833 - accuracy: 0.3965 - val_loss: 1.6628 - val_accuracy: 0.4265\n",
            "Epoch 4/20\n",
            "375/375 [==============================] - 9s 24ms/step - loss: 1.6213 - accuracy: 0.4565 - val_loss: 1.5117 - val_accuracy: 0.4679\n",
            "Epoch 5/20\n",
            "375/375 [==============================] - 9s 23ms/step - loss: 1.4977 - accuracy: 0.5026 - val_loss: 1.4019 - val_accuracy: 0.5209\n",
            "Epoch 6/20\n",
            "375/375 [==============================] - 9s 24ms/step - loss: 1.4037 - accuracy: 0.5374 - val_loss: 1.3195 - val_accuracy: 0.5485\n",
            "Epoch 7/20\n",
            "375/375 [==============================] - 9s 24ms/step - loss: 1.3282 - accuracy: 0.5619 - val_loss: 1.2517 - val_accuracy: 0.5774\n",
            "Epoch 8/20\n",
            "375/375 [==============================] - 9s 24ms/step - loss: 1.2698 - accuracy: 0.5778 - val_loss: 1.1987 - val_accuracy: 0.5959\n",
            "Epoch 9/20\n",
            "375/375 [==============================] - 9s 24ms/step - loss: 1.2210 - accuracy: 0.5905 - val_loss: 1.1631 - val_accuracy: 0.6057\n",
            "Epoch 10/20\n",
            "375/375 [==============================] - 9s 24ms/step - loss: 1.1798 - accuracy: 0.6034 - val_loss: 1.1380 - val_accuracy: 0.6016\n",
            "Epoch 11/20\n",
            "375/375 [==============================] - 9s 24ms/step - loss: 1.1461 - accuracy: 0.6145 - val_loss: 1.1019 - val_accuracy: 0.6196\n",
            "Epoch 12/20\n",
            "375/375 [==============================] - 9s 23ms/step - loss: 1.1180 - accuracy: 0.6220 - val_loss: 1.0754 - val_accuracy: 0.6308\n",
            "Epoch 13/20\n",
            "375/375 [==============================] - 9s 24ms/step - loss: 1.0912 - accuracy: 0.6306 - val_loss: 1.0474 - val_accuracy: 0.6424\n",
            "Epoch 14/20\n",
            "375/375 [==============================] - 9s 24ms/step - loss: 1.0692 - accuracy: 0.6371 - val_loss: 1.0364 - val_accuracy: 0.6400\n",
            "Epoch 15/20\n",
            "375/375 [==============================] - 9s 24ms/step - loss: 1.0468 - accuracy: 0.6457 - val_loss: 1.0148 - val_accuracy: 0.6507\n",
            "Epoch 16/20\n",
            "375/375 [==============================] - 9s 24ms/step - loss: 1.0309 - accuracy: 0.6505 - val_loss: 1.0009 - val_accuracy: 0.6558\n",
            "Epoch 17/20\n",
            "375/375 [==============================] - 9s 24ms/step - loss: 1.0145 - accuracy: 0.6584 - val_loss: 0.9834 - val_accuracy: 0.6647\n",
            "Epoch 18/20\n",
            "375/375 [==============================] - 9s 24ms/step - loss: 0.9955 - accuracy: 0.6671 - val_loss: 0.9843 - val_accuracy: 0.6597\n",
            "Epoch 19/20\n",
            "375/375 [==============================] - 9s 24ms/step - loss: 0.9851 - accuracy: 0.6679 - val_loss: 0.9614 - val_accuracy: 0.6723\n",
            "Epoch 20/20\n",
            "375/375 [==============================] - 9s 24ms/step - loss: 0.9711 - accuracy: 0.6741 - val_loss: 0.9404 - val_accuracy: 0.6823\n"
          ],
          "name": "stdout"
        },
        {
          "output_type": "stream",
          "text": [
            "100%|██████████| 2/2 [00:00<00:00,  2.23it/s]\n"
          ],
          "name": "stderr"
        },
        {
          "output_type": "stream",
          "text": [
            "Model: 1 added. Resulting score: 0.6834166666666667\n",
            "Train model 2\n",
            "Epoch 1/20\n",
            "375/375 [==============================] - 9s 24ms/step - loss: 2.3033 - accuracy: 0.1629 - val_loss: 2.2576 - val_accuracy: 0.1576\n",
            "Epoch 2/20\n",
            "375/375 [==============================] - 9s 23ms/step - loss: 2.0904 - accuracy: 0.3822 - val_loss: 1.9717 - val_accuracy: 0.4227\n",
            "Epoch 3/20\n",
            "375/375 [==============================] - 9s 23ms/step - loss: 1.8438 - accuracy: 0.4412 - val_loss: 1.6955 - val_accuracy: 0.4632\n",
            "Epoch 4/20\n",
            "375/375 [==============================] - 9s 24ms/step - loss: 1.6306 - accuracy: 0.4931 - val_loss: 1.5221 - val_accuracy: 0.5133\n",
            "Epoch 5/20\n",
            "375/375 [==============================] - 9s 24ms/step - loss: 1.4680 - accuracy: 0.5438 - val_loss: 1.3898 - val_accuracy: 0.5471\n",
            "Epoch 6/20\n",
            "375/375 [==============================] - 9s 24ms/step - loss: 1.3467 - accuracy: 0.5789 - val_loss: 1.2981 - val_accuracy: 0.5692\n",
            "Epoch 7/20\n",
            "375/375 [==============================] - 9s 24ms/step - loss: 1.2628 - accuracy: 0.5967 - val_loss: 1.2437 - val_accuracy: 0.5728\n",
            "Epoch 8/20\n",
            "375/375 [==============================] - 9s 24ms/step - loss: 1.1999 - accuracy: 0.6096 - val_loss: 1.1767 - val_accuracy: 0.5999\n",
            "Epoch 9/20\n",
            "375/375 [==============================] - 9s 24ms/step - loss: 1.1512 - accuracy: 0.6181 - val_loss: 1.1330 - val_accuracy: 0.6109\n",
            "Epoch 10/20\n",
            "375/375 [==============================] - 9s 24ms/step - loss: 1.1138 - accuracy: 0.6271 - val_loss: 1.1013 - val_accuracy: 0.6168\n",
            "Epoch 11/20\n",
            "375/375 [==============================] - 9s 24ms/step - loss: 1.0848 - accuracy: 0.6304 - val_loss: 1.0805 - val_accuracy: 0.6220\n",
            "Epoch 12/20\n",
            "375/375 [==============================] - 9s 24ms/step - loss: 1.0609 - accuracy: 0.6364 - val_loss: 1.0733 - val_accuracy: 0.6207\n",
            "Epoch 13/20\n",
            "375/375 [==============================] - 9s 24ms/step - loss: 1.0400 - accuracy: 0.6421 - val_loss: 1.0678 - val_accuracy: 0.6214\n",
            "Epoch 14/20\n",
            "375/375 [==============================] - 9s 24ms/step - loss: 1.0229 - accuracy: 0.6463 - val_loss: 1.0287 - val_accuracy: 0.6382\n",
            "Epoch 15/20\n",
            "375/375 [==============================] - 9s 24ms/step - loss: 1.0069 - accuracy: 0.6473 - val_loss: 1.0232 - val_accuracy: 0.6396\n",
            "Epoch 16/20\n",
            "375/375 [==============================] - 9s 24ms/step - loss: 0.9932 - accuracy: 0.6540 - val_loss: 0.9997 - val_accuracy: 0.6496\n",
            "Epoch 17/20\n",
            "375/375 [==============================] - 9s 23ms/step - loss: 0.9804 - accuracy: 0.6581 - val_loss: 0.9957 - val_accuracy: 0.6536\n",
            "Epoch 18/20\n",
            "375/375 [==============================] - 9s 24ms/step - loss: 0.9689 - accuracy: 0.6634 - val_loss: 0.9805 - val_accuracy: 0.6600\n",
            "Epoch 19/20\n",
            "375/375 [==============================] - 9s 23ms/step - loss: 0.9591 - accuracy: 0.6646 - val_loss: 0.9849 - val_accuracy: 0.6574\n",
            "Epoch 20/20\n",
            "375/375 [==============================] - 9s 24ms/step - loss: 0.9480 - accuracy: 0.6711 - val_loss: 0.9635 - val_accuracy: 0.6653\n"
          ],
          "name": "stdout"
        },
        {
          "output_type": "stream",
          "text": [
            "100%|██████████| 3/3 [00:01<00:00,  2.22it/s]\n"
          ],
          "name": "stderr"
        },
        {
          "output_type": "stream",
          "text": [
            "Model: 2 added. Resulting score: 0.6953333333333334\n",
            "Train model 3\n",
            "Epoch 1/20\n",
            "375/375 [==============================] - 8s 22ms/step - loss: 2.2347 - accuracy: 0.2013 - val_loss: 2.6305 - val_accuracy: 0.1000\n",
            "Epoch 2/20\n",
            "375/375 [==============================] - 8s 20ms/step - loss: 1.9103 - accuracy: 0.3360 - val_loss: 2.7435 - val_accuracy: 0.1000\n",
            "Epoch 3/20\n",
            "375/375 [==============================] - 8s 20ms/step - loss: 1.6946 - accuracy: 0.4431 - val_loss: 2.8615 - val_accuracy: 0.1000\n",
            "Epoch 4/20\n",
            "375/375 [==============================] - 8s 20ms/step - loss: 1.5342 - accuracy: 0.5249 - val_loss: 3.0109 - val_accuracy: 0.1000\n"
          ],
          "name": "stdout"
        },
        {
          "output_type": "stream",
          "text": [
            "100%|██████████| 4/4 [00:01<00:00,  2.19it/s]\n"
          ],
          "name": "stderr"
        },
        {
          "output_type": "stream",
          "text": [
            "Model: 3 added. Resulting score: 0.69425\n",
            "Train model 4\n",
            "Epoch 1/20\n",
            "375/375 [==============================] - 8s 22ms/step - loss: 2.2723 - accuracy: 0.1533 - val_loss: 2.2140 - val_accuracy: 0.1712\n",
            "Epoch 2/20\n",
            "375/375 [==============================] - 8s 21ms/step - loss: 2.0174 - accuracy: 0.2993 - val_loss: 1.8858 - val_accuracy: 0.3728\n",
            "Epoch 3/20\n",
            "375/375 [==============================] - 8s 21ms/step - loss: 1.8116 - accuracy: 0.3925 - val_loss: 1.6630 - val_accuracy: 0.4144\n",
            "Epoch 4/20\n",
            "375/375 [==============================] - 8s 21ms/step - loss: 1.6473 - accuracy: 0.4436 - val_loss: 1.5072 - val_accuracy: 0.4811\n",
            "Epoch 5/20\n",
            "375/375 [==============================] - 8s 21ms/step - loss: 1.5242 - accuracy: 0.4881 - val_loss: 1.4044 - val_accuracy: 0.5047\n",
            "Epoch 6/20\n",
            "375/375 [==============================] - 8s 22ms/step - loss: 1.4340 - accuracy: 0.5154 - val_loss: 1.3235 - val_accuracy: 0.5395\n",
            "Epoch 7/20\n",
            "375/375 [==============================] - 8s 22ms/step - loss: 1.3596 - accuracy: 0.5389 - val_loss: 1.2550 - val_accuracy: 0.5703\n",
            "Epoch 8/20\n",
            "375/375 [==============================] - 9s 23ms/step - loss: 1.3007 - accuracy: 0.5580 - val_loss: 1.2054 - val_accuracy: 0.5858\n",
            "Epoch 9/20\n",
            "375/375 [==============================] - 9s 23ms/step - loss: 1.2526 - accuracy: 0.5688 - val_loss: 1.1601 - val_accuracy: 0.6027\n",
            "Epoch 10/20\n",
            "375/375 [==============================] - 8s 23ms/step - loss: 1.2177 - accuracy: 0.5767 - val_loss: 1.1333 - val_accuracy: 0.6042\n",
            "Epoch 11/20\n",
            "375/375 [==============================] - 9s 23ms/step - loss: 1.1830 - accuracy: 0.5857 - val_loss: 1.1015 - val_accuracy: 0.6227\n",
            "Epoch 12/20\n",
            "375/375 [==============================] - 9s 23ms/step - loss: 1.1607 - accuracy: 0.5943 - val_loss: 1.0762 - val_accuracy: 0.6322\n",
            "Epoch 13/20\n",
            "375/375 [==============================] - 9s 23ms/step - loss: 1.1383 - accuracy: 0.6000 - val_loss: 1.0576 - val_accuracy: 0.6329\n",
            "Epoch 14/20\n",
            "375/375 [==============================] - 9s 23ms/step - loss: 1.1214 - accuracy: 0.6053 - val_loss: 1.0439 - val_accuracy: 0.6363\n",
            "Epoch 15/20\n",
            "375/375 [==============================] - 8s 22ms/step - loss: 1.1039 - accuracy: 0.6103 - val_loss: 1.0341 - val_accuracy: 0.6412\n",
            "Epoch 16/20\n",
            "375/375 [==============================] - 8s 22ms/step - loss: 1.0897 - accuracy: 0.6128 - val_loss: 1.0125 - val_accuracy: 0.6526\n",
            "Epoch 17/20\n",
            "375/375 [==============================] - 8s 22ms/step - loss: 1.0711 - accuracy: 0.6205 - val_loss: 1.0026 - val_accuracy: 0.6547\n",
            "Epoch 18/20\n",
            "375/375 [==============================] - 8s 22ms/step - loss: 1.0596 - accuracy: 0.6236 - val_loss: 0.9969 - val_accuracy: 0.6559\n",
            "Epoch 19/20\n",
            "375/375 [==============================] - 8s 22ms/step - loss: 1.0538 - accuracy: 0.6278 - val_loss: 0.9822 - val_accuracy: 0.6621\n",
            "Epoch 20/20\n",
            "375/375 [==============================] - 8s 22ms/step - loss: 1.0442 - accuracy: 0.6316 - val_loss: 0.9748 - val_accuracy: 0.6621\n"
          ],
          "name": "stdout"
        },
        {
          "output_type": "stream",
          "text": [
            "100%|██████████| 5/5 [00:02<00:00,  2.26it/s]\n"
          ],
          "name": "stderr"
        },
        {
          "output_type": "stream",
          "text": [
            "Model: 4 added. Resulting score: 0.69275\n",
            "Train model 5\n",
            "Epoch 1/20\n",
            "375/375 [==============================] - 3s 7ms/step - loss: 2.2812 - accuracy: 0.1039 - val_loss: 2.2562 - val_accuracy: 0.2183\n",
            "Epoch 2/20\n",
            "375/375 [==============================] - 2s 6ms/step - loss: 2.0710 - accuracy: 0.2689 - val_loss: 1.9509 - val_accuracy: 0.3566\n",
            "Epoch 3/20\n",
            "375/375 [==============================] - 2s 6ms/step - loss: 1.8258 - accuracy: 0.3755 - val_loss: 1.6973 - val_accuracy: 0.4028\n",
            "Epoch 4/20\n",
            "375/375 [==============================] - 2s 6ms/step - loss: 1.6324 - accuracy: 0.4370 - val_loss: 1.5369 - val_accuracy: 0.4693\n",
            "Epoch 5/20\n",
            "375/375 [==============================] - 2s 6ms/step - loss: 1.4980 - accuracy: 0.4907 - val_loss: 1.4232 - val_accuracy: 0.5077\n",
            "Epoch 6/20\n",
            "375/375 [==============================] - 2s 6ms/step - loss: 1.4019 - accuracy: 0.5243 - val_loss: 1.3402 - val_accuracy: 0.5496\n",
            "Epoch 7/20\n",
            "375/375 [==============================] - 2s 6ms/step - loss: 1.3311 - accuracy: 0.5518 - val_loss: 1.2830 - val_accuracy: 0.5568\n",
            "Epoch 8/20\n",
            "375/375 [==============================] - 2s 6ms/step - loss: 1.2761 - accuracy: 0.5712 - val_loss: 1.2328 - val_accuracy: 0.5726\n",
            "Epoch 9/20\n",
            "375/375 [==============================] - 2s 6ms/step - loss: 1.2315 - accuracy: 0.5824 - val_loss: 1.1908 - val_accuracy: 0.5847\n",
            "Epoch 10/20\n",
            "375/375 [==============================] - 2s 7ms/step - loss: 1.1946 - accuracy: 0.5943 - val_loss: 1.1607 - val_accuracy: 0.6010\n",
            "Epoch 11/20\n",
            "375/375 [==============================] - 2s 6ms/step - loss: 1.1630 - accuracy: 0.6040 - val_loss: 1.1342 - val_accuracy: 0.6119\n",
            "Epoch 12/20\n",
            "375/375 [==============================] - 2s 6ms/step - loss: 1.1360 - accuracy: 0.6116 - val_loss: 1.1080 - val_accuracy: 0.6138\n",
            "Epoch 13/20\n",
            "375/375 [==============================] - 2s 6ms/step - loss: 1.1126 - accuracy: 0.6198 - val_loss: 1.0873 - val_accuracy: 0.6165\n",
            "Epoch 14/20\n",
            "375/375 [==============================] - 2s 7ms/step - loss: 1.0911 - accuracy: 0.6270 - val_loss: 1.0663 - val_accuracy: 0.6291\n",
            "Epoch 15/20\n",
            "375/375 [==============================] - 3s 7ms/step - loss: 1.0733 - accuracy: 0.6314 - val_loss: 1.0492 - val_accuracy: 0.6356\n",
            "Epoch 16/20\n",
            "375/375 [==============================] - 3s 7ms/step - loss: 1.0572 - accuracy: 0.6355 - val_loss: 1.0361 - val_accuracy: 0.6367\n",
            "Epoch 17/20\n",
            "375/375 [==============================] - 3s 7ms/step - loss: 1.0416 - accuracy: 0.6407 - val_loss: 1.0229 - val_accuracy: 0.6404\n",
            "Epoch 18/20\n",
            "375/375 [==============================] - 2s 7ms/step - loss: 1.0273 - accuracy: 0.6479 - val_loss: 1.0163 - val_accuracy: 0.6425\n",
            "Epoch 19/20\n",
            "375/375 [==============================] - 2s 6ms/step - loss: 1.0153 - accuracy: 0.6520 - val_loss: 0.9979 - val_accuracy: 0.6554\n",
            "Epoch 20/20\n",
            "375/375 [==============================] - 2s 6ms/step - loss: 1.0022 - accuracy: 0.6570 - val_loss: 0.9877 - val_accuracy: 0.6563\n"
          ],
          "name": "stdout"
        },
        {
          "output_type": "stream",
          "text": [
            "100%|██████████| 6/6 [00:02<00:00,  2.35it/s]"
          ],
          "name": "stderr"
        },
        {
          "output_type": "stream",
          "text": [
            "Model: 5 added. Resulting score: 0.69575\n"
          ],
          "name": "stdout"
        },
        {
          "output_type": "stream",
          "text": [
            "\n"
          ],
          "name": "stderr"
        }
      ]
    },
    {
      "cell_type": "markdown",
      "metadata": {
        "id": "fGT6jV-hcLbJ",
        "colab_type": "text"
      },
      "source": [
        "# Results"
      ]
    },
    {
      "cell_type": "markdown",
      "metadata": {
        "id": "CurcmjMCcrJI",
        "colab_type": "text"
      },
      "source": [
        "# Accuracy vs nr of models\n",
        "Visualizing the accuracy vs the number of models in the ensemble"
      ]
    },
    {
      "cell_type": "code",
      "metadata": {
        "id": "yvZLQyb5cg7R",
        "colab_type": "code",
        "outputId": "fbdc3c52-c081-40f0-fc8b-5145e5760a86",
        "colab": {
          "base_uri": "https://localhost:8080/",
          "height": 269
        }
      },
      "source": [
        "accuracy_df = pd.DataFrame(accuracies, columns=[\"Accuracy\"])\n",
        "accuracy_df.insert(1, \"Nr of models\", accuracy_df.index)\n",
        "\n",
        "display(accuracy_df)\n",
        "\n",
        "accuracy_df.to_csv(PATH + MODEL_NAME + \"_accuracy.csv\")"
      ],
      "execution_count": 30,
      "outputs": [
        {
          "output_type": "display_data",
          "data": {
            "text/html": [
              "<div>\n",
              "<style scoped>\n",
              "    .dataframe tbody tr th:only-of-type {\n",
              "        vertical-align: middle;\n",
              "    }\n",
              "\n",
              "    .dataframe tbody tr th {\n",
              "        vertical-align: top;\n",
              "    }\n",
              "\n",
              "    .dataframe thead th {\n",
              "        text-align: right;\n",
              "    }\n",
              "</style>\n",
              "<table border=\"1\" class=\"dataframe\">\n",
              "  <thead>\n",
              "    <tr style=\"text-align: right;\">\n",
              "      <th></th>\n",
              "      <th>Accuracy</th>\n",
              "      <th>Nr of models</th>\n",
              "    </tr>\n",
              "  </thead>\n",
              "  <tbody>\n",
              "    <tr>\n",
              "      <th>0</th>\n",
              "      <td>0.000000</td>\n",
              "      <td>0</td>\n",
              "    </tr>\n",
              "    <tr>\n",
              "      <th>1</th>\n",
              "      <td>0.685833</td>\n",
              "      <td>1</td>\n",
              "    </tr>\n",
              "    <tr>\n",
              "      <th>2</th>\n",
              "      <td>0.683417</td>\n",
              "      <td>2</td>\n",
              "    </tr>\n",
              "    <tr>\n",
              "      <th>3</th>\n",
              "      <td>0.695333</td>\n",
              "      <td>3</td>\n",
              "    </tr>\n",
              "    <tr>\n",
              "      <th>4</th>\n",
              "      <td>0.694250</td>\n",
              "      <td>4</td>\n",
              "    </tr>\n",
              "    <tr>\n",
              "      <th>5</th>\n",
              "      <td>0.692750</td>\n",
              "      <td>5</td>\n",
              "    </tr>\n",
              "    <tr>\n",
              "      <th>6</th>\n",
              "      <td>0.695750</td>\n",
              "      <td>6</td>\n",
              "    </tr>\n",
              "  </tbody>\n",
              "</table>\n",
              "</div>"
            ],
            "text/plain": [
              "   Accuracy  Nr of models\n",
              "0  0.000000             0\n",
              "1  0.685833             1\n",
              "2  0.683417             2\n",
              "3  0.695333             3\n",
              "4  0.694250             4\n",
              "5  0.692750             5\n",
              "6  0.695750             6"
            ]
          },
          "metadata": {
            "tags": []
          }
        }
      ]
    },
    {
      "cell_type": "code",
      "metadata": {
        "id": "sXq8Uj3lenzH",
        "colab_type": "code",
        "outputId": "a3d96b88-51e2-4cc0-da0c-7b9f1a34927a",
        "colab": {
          "base_uri": "https://localhost:8080/",
          "height": 279
        }
      },
      "source": [
        "import matplotlib.pyplot as plt\n",
        "\n",
        "# remove first row\n",
        "accuracy_df = accuracy_df.iloc[1:]\n",
        "\n",
        "accuracy_df.plot(x=\"Nr of models\", y=\"Accuracy\", xticks=accuracy_df[\"Nr of models\"])\n",
        "plt.show()"
      ],
      "execution_count": 31,
      "outputs": [
        {
          "output_type": "display_data",
          "data": {
            "image/png": "[encoded data removed]",
            "text/plain": [
              "<Figure size 432x288 with 1 Axes>"
            ]
          },
          "metadata": {
            "tags": [],
            "needs_background": "light"
          }
        }
      ]
    },
    {
      "cell_type": "markdown",
      "metadata": {
        "id": "51rnX_l7Pfdr",
        "colab_type": "text"
      },
      "source": [
        "## Accuracy\n",
        "The final accuracy of the ensamble on the test set"
      ]
    },
    {
      "cell_type": "code",
      "metadata": {
        "id": "GwNmmvSFPlVx",
        "colab_type": "code",
        "outputId": "f7cc50ff-784f-43f6-dd6a-90685268b465",
        "colab": {
          "base_uri": "https://localhost:8080/",
          "height": 52
        }
      },
      "source": [
        "print(\"Accuracy: \" + str(predict(models, x_test, y_test)))"
      ],
      "execution_count": 32,
      "outputs": [
        {
          "output_type": "stream",
          "text": [
            "100%|██████████| 6/6 [00:02<00:00,  2.70it/s]"
          ],
          "name": "stderr"
        },
        {
          "output_type": "stream",
          "text": [
            "Accuracy: 0.6909\n"
          ],
          "name": "stdout"
        },
        {
          "output_type": "stream",
          "text": [
            "\n"
          ],
          "name": "stderr"
        }
      ]
    },
    {
      "cell_type": "markdown",
      "metadata": {
        "id": "NMfc-h8xAYQu",
        "colab_type": "text"
      },
      "source": [
        "## Correlation between models"
      ]
    },
    {
      "cell_type": "code",
      "metadata": {
        "id": "0N9wSXF1iSp3",
        "colab_type": "code",
        "outputId": "e3e6ac97-2d46-4fe1-a65f-81a17fd05a89",
        "colab": {
          "base_uri": "https://localhost:8080/",
          "height": 34
        }
      },
      "source": [
        "predictions = []\n",
        "\n",
        "for m in tqdm(models):\n",
        "    predictions.append(np.argmax(m.predict(x_test), axis=1))"
      ],
      "execution_count": 33,
      "outputs": [
        {
          "output_type": "stream",
          "text": [
            "100%|██████████| 6/6 [00:02<00:00,  2.64it/s]\n"
          ],
          "name": "stderr"
        }
      ]
    },
    {
      "cell_type": "code",
      "metadata": {
        "id": "FAky42lMV102",
        "colab_type": "code",
        "outputId": "ed4afd89-0bdd-4081-9708-4a17daac0b32",
        "colab": {
          "base_uri": "https://localhost:8080/",
          "height": 290
        }
      },
      "source": [
        "correlation_matrix = []\n",
        "\n",
        "for ix, x in enumerate(predictions):\n",
        "  row = []\n",
        "  \n",
        "  for iy, y in enumerate(predictions):\n",
        "    if (ix == iy):\n",
        "      row.append(np.nan)\n",
        "    else:\n",
        "      row.append(pearsonr(x,y)[0])\n",
        "\n",
        "  correlation_matrix.append(row)\n",
        "\n",
        "correlation_matrix = np.array(correlation_matrix)\n",
        "display(pd.DataFrame(correlation_matrix))\n",
        "print(\"Average correlation: \" + str(np.nanmean(correlation_matrix.flatten())))"
      ],
      "execution_count": 34,
      "outputs": [
        {
          "output_type": "stream",
          "text": [
            "/usr/local/lib/python3.6/dist-packages/scipy/stats/stats.py:3508: PearsonRConstantInputWarning: An input array is constant; the correlation coefficent is not defined.\n",
            "  warnings.warn(PearsonRConstantInputWarning())\n"
          ],
          "name": "stderr"
        },
        {
          "output_type": "display_data",
          "data": {
            "text/html": [
              "<div>\n",
              "<style scoped>\n",
              "    .dataframe tbody tr th:only-of-type {\n",
              "        vertical-align: middle;\n",
              "    }\n",
              "\n",
              "    .dataframe tbody tr th {\n",
              "        vertical-align: top;\n",
              "    }\n",
              "\n",
              "    .dataframe thead th {\n",
              "        text-align: right;\n",
              "    }\n",
              "</style>\n",
              "<table border=\"1\" class=\"dataframe\">\n",
              "  <thead>\n",
              "    <tr style=\"text-align: right;\">\n",
              "      <th></th>\n",
              "      <th>0</th>\n",
              "      <th>1</th>\n",
              "      <th>2</th>\n",
              "      <th>3</th>\n",
              "      <th>4</th>\n",
              "      <th>5</th>\n",
              "    </tr>\n",
              "  </thead>\n",
              "  <tbody>\n",
              "    <tr>\n",
              "      <th>0</th>\n",
              "      <td>NaN</td>\n",
              "      <td>0.852910</td>\n",
              "      <td>0.845442</td>\n",
              "      <td>NaN</td>\n",
              "      <td>0.809065</td>\n",
              "      <td>0.844308</td>\n",
              "    </tr>\n",
              "    <tr>\n",
              "      <th>1</th>\n",
              "      <td>0.852910</td>\n",
              "      <td>NaN</td>\n",
              "      <td>0.802876</td>\n",
              "      <td>NaN</td>\n",
              "      <td>0.777948</td>\n",
              "      <td>0.843794</td>\n",
              "    </tr>\n",
              "    <tr>\n",
              "      <th>2</th>\n",
              "      <td>0.845442</td>\n",
              "      <td>0.802876</td>\n",
              "      <td>NaN</td>\n",
              "      <td>NaN</td>\n",
              "      <td>0.797493</td>\n",
              "      <td>0.820954</td>\n",
              "    </tr>\n",
              "    <tr>\n",
              "      <th>3</th>\n",
              "      <td>NaN</td>\n",
              "      <td>NaN</td>\n",
              "      <td>NaN</td>\n",
              "      <td>NaN</td>\n",
              "      <td>NaN</td>\n",
              "      <td>NaN</td>\n",
              "    </tr>\n",
              "    <tr>\n",
              "      <th>4</th>\n",
              "      <td>0.809065</td>\n",
              "      <td>0.777948</td>\n",
              "      <td>0.797493</td>\n",
              "      <td>NaN</td>\n",
              "      <td>NaN</td>\n",
              "      <td>0.778127</td>\n",
              "    </tr>\n",
              "    <tr>\n",
              "      <th>5</th>\n",
              "      <td>0.844308</td>\n",
              "      <td>0.843794</td>\n",
              "      <td>0.820954</td>\n",
              "      <td>NaN</td>\n",
              "      <td>0.778127</td>\n",
              "      <td>NaN</td>\n",
              "    </tr>\n",
              "  </tbody>\n",
              "</table>\n",
              "</div>"
            ],
            "text/plain": [
              "          0         1         2   3         4         5\n",
              "0       NaN  0.852910  0.845442 NaN  0.809065  0.844308\n",
              "1  0.852910       NaN  0.802876 NaN  0.777948  0.843794\n",
              "2  0.845442  0.802876       NaN NaN  0.797493  0.820954\n",
              "3       NaN       NaN       NaN NaN       NaN       NaN\n",
              "4  0.809065  0.777948  0.797493 NaN       NaN  0.778127\n",
              "5  0.844308  0.843794  0.820954 NaN  0.778127       NaN"
            ]
          },
          "metadata": {
            "tags": []
          }
        },
        {
          "output_type": "stream",
          "text": [
            "Average correlation: 0.817291801398415\n"
          ],
          "name": "stdout"
        }
      ]
    }
  ]
}