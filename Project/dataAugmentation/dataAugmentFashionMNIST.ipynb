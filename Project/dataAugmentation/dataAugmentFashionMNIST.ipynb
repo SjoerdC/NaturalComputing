{
  "nbformat": 4,
  "nbformat_minor": 0,
  "metadata": {
    "accelerator": "GPU",
    "colab": {
      "name": "dataAugmentFashionMNIST.ipynb",
      "provenance": [],
      "collapsed_sections": [],
      "toc_visible": true
    },
    "kernelspec": {
      "display_name": "Python 3",
      "language": "python",
      "name": "python3"
    },
    "language_info": {
      "codemirror_mode": {
        "name": "ipython",
        "version": 3
      },
      "file_extension": ".py",
      "mimetype": "text/x-python",
      "name": "python",
      "nbconvert_exporter": "python",
      "pygments_lexer": "ipython3",
      "version": "3.6.9"
    }
  },
  "cells": [
    {
      "cell_type": "code",
      "metadata": {
        "colab_type": "code",
        "id": "fde69AMuOpox",
        "colab": {
          "base_uri": "https://localhost:8080/",
          "height": 34
        },
        "outputId": "2a792fd6-8016-4d51-d567-ce1dfc2aa139"
      },
      "source": [
        "import keras\n",
        "import cv2\n",
        "import numpy as np\n",
        "import pandas as pd\n",
        "import tensorflow as tf\n",
        "import matplotlib.pyplot as plt\n",
        "from itertools import count\n",
        "from scipy import ndimage\n",
        "from sklearn.metrics import accuracy_score\n",
        "from keras.datasets import fashion_mnist\n",
        "from keras.preprocessing.image import ImageDataGenerator\n",
        "from keras.applications.vgg16 import VGG16\n",
        "from keras.layers import Dense, Dropout, Flatten, Activation, Input, Conv2D, MaxPooling2D, BatchNormalization, GlobalAveragePooling2D\n",
        "from sklearn.model_selection import train_test_split\n",
        "from keras.models import Model\n",
        "from keras.callbacks import EarlyStopping\n",
        "from scipy.stats import pearsonr\n",
        "from tqdm import tqdm\n",
        "import tensorflow_addons as tfa"
      ],
      "execution_count": 1,
      "outputs": [
        {
          "output_type": "stream",
          "text": [
            "Using TensorFlow backend.\n"
          ],
          "name": "stderr"
        }
      ]
    },
    {
      "cell_type": "code",
      "metadata": {
        "colab_type": "code",
        "id": "qYrab7qpOppj",
        "colab": {}
      },
      "source": [
        "BATCH_SIZE = 128\n",
        "EPOCHS = 9999\n",
        "IMAGE_SIZE = 28\n",
        "NUM_CLASSES = 10\n",
        "MODEL_ADDITION_DELTA = 0.01\n",
        "MODEL_ADDITION_PATIENCE = 3\n",
        "MODEL_NAME = \"MNIST_augment\"\n",
        "PATH = \"\""
      ],
      "execution_count": 0,
      "outputs": []
    },
    {
      "cell_type": "markdown",
      "metadata": {
        "id": "R9M4_-IaBOsn",
        "colab_type": "text"
      },
      "source": [
        "# Set seeds"
      ]
    },
    {
      "cell_type": "code",
      "metadata": {
        "id": "7n9nJGd_BQ-r",
        "colab_type": "code",
        "colab": {}
      },
      "source": [
        "np.random.seed(3)\n",
        "tf.random.set_seed(3)"
      ],
      "execution_count": 0,
      "outputs": []
    },
    {
      "cell_type": "markdown",
      "metadata": {
        "id": "g8QvEt97vF52",
        "colab_type": "text"
      },
      "source": [
        "# Preprocess"
      ]
    },
    {
      "cell_type": "code",
      "metadata": {
        "id": "JtJIUBsFKeRO",
        "colab_type": "code",
        "colab": {}
      },
      "source": [
        "def preprocess(imgs):\n",
        "    \n",
        "    return imgs.reshape(imgs.shape[0], IMAGE_SIZE, IMAGE_SIZE, 1)"
      ],
      "execution_count": 0,
      "outputs": []
    },
    {
      "cell_type": "code",
      "metadata": {
        "colab_type": "code",
        "id": "XypdmBJROpp9",
        "outputId": "ff6652c1-89de-4e6f-e720-3b5189550736",
        "colab": {
          "base_uri": "https://localhost:8080/",
          "height": 208
        }
      },
      "source": [
        "(x_train, y_train), (x_test, y_test) = fashion_mnist.load_data()\n",
        "\n",
        "x_train = preprocess(x_train)\n",
        "x_test = preprocess(x_test)\n",
        "\n",
        "print('x_train shape:', x_train.shape)\n",
        "print(x_train.shape[0], 'train samples')\n",
        "print(x_test.shape[0], 'test samples')"
      ],
      "execution_count": 5,
      "outputs": [
        {
          "output_type": "stream",
          "text": [
            "Downloading data from http://fashion-mnist.s3-website.eu-central-1.amazonaws.com/train-labels-idx1-ubyte.gz\n",
            "32768/29515 [=================================] - 0s 9us/step\n",
            "Downloading data from http://fashion-mnist.s3-website.eu-central-1.amazonaws.com/train-images-idx3-ubyte.gz\n",
            "26427392/26421880 [==============================] - 5s 0us/step\n",
            "Downloading data from http://fashion-mnist.s3-website.eu-central-1.amazonaws.com/t10k-labels-idx1-ubyte.gz\n",
            "8192/5148 [===============================================] - 0s 0us/step\n",
            "Downloading data from http://fashion-mnist.s3-website.eu-central-1.amazonaws.com/t10k-images-idx3-ubyte.gz\n",
            "4423680/4422102 [==============================] - 2s 1us/step\n",
            "x_train shape: (60000, 28, 28, 1)\n",
            "60000 train samples\n",
            "10000 test samples\n"
          ],
          "name": "stdout"
        }
      ]
    },
    {
      "cell_type": "code",
      "metadata": {
        "colab_type": "code",
        "id": "mo8yHyg-Opqo",
        "colab": {}
      },
      "source": [
        "# Convert class vectors to binary class matrices.\n",
        "y_train = keras.utils.to_categorical(y_train, NUM_CLASSES)\n",
        "y_test = keras.utils.to_categorical(y_test, NUM_CLASSES)"
      ],
      "execution_count": 0,
      "outputs": []
    },
    {
      "cell_type": "code",
      "metadata": {
        "id": "a4SYRuKZaIwb",
        "colab_type": "code",
        "colab": {}
      },
      "source": [
        "x_train = x_train.astype('float32')\n",
        "x_test = x_test.astype('float32')\n",
        "x_train /= 255\n",
        "x_test /= 255"
      ],
      "execution_count": 0,
      "outputs": []
    },
    {
      "cell_type": "code",
      "metadata": {
        "id": "yLQOYIh0OW84",
        "colab_type": "code",
        "colab": {}
      },
      "source": [
        "# Split the data\n",
        "x_train, x_val, y_train, y_val = train_test_split(x_train, y_train, test_size=0.20, shuffle= True)"
      ],
      "execution_count": 0,
      "outputs": []
    },
    {
      "cell_type": "markdown",
      "metadata": {
        "id": "gIBGIrlkvOt0",
        "colab_type": "text"
      },
      "source": [
        "# Model"
      ]
    },
    {
      "cell_type": "code",
      "metadata": {
        "colab_type": "code",
        "id": "zLWph6_aOpr2",
        "colab": {}
      },
      "source": [
        "def FashionMNISTmodel(imsize, num_classes, num_channels):\n",
        "    inputs = Input((imsize,imsize,num_channels))\n",
        "    x = Conv2D(filters = 32, kernel_size = (3,3), activation = 'relu', strides = 2)(inputs)\n",
        "    x = BatchNormalization()(x)\n",
        "    x = MaxPooling2D(pool_size = (2,2), strides=(2,2), padding = \"same\")(x)\n",
        "    x = Conv2D(filters=32, kernel_size=(1,1), activation='relu', padding='valid')(x)\n",
        "    x = Conv2D(filters = 10, kernel_size = (1,1),strides = (1,1), padding = 'valid')(x)\n",
        "    x = GlobalAveragePooling2D()(x)\n",
        "    outputs = Activation('softmax')(x)\n",
        "    \n",
        "    model = Model(inputs=inputs, outputs=outputs)\n",
        "\n",
        "    optimizer = keras.optimizers.Adam(learning_rate = 1e-04)\n",
        "\n",
        "    model.compile(loss='categorical_crossentropy',\n",
        "                      optimizer=optimizer,\n",
        "                      metrics=['accuracy'])\n",
        "    return model"
      ],
      "execution_count": 0,
      "outputs": []
    },
    {
      "cell_type": "markdown",
      "metadata": {
        "id": "EbiuqESLvTOY",
        "colab_type": "text"
      },
      "source": [
        "# Predict"
      ]
    },
    {
      "cell_type": "code",
      "metadata": {
        "id": "JXFkx19XmqKe",
        "colab_type": "code",
        "colab": {}
      },
      "source": [
        "def predict(models, X, Y):\n",
        "    predictions = []\n",
        "\n",
        "    for m in tqdm(models):\n",
        "        predictions.append(np.argmax(m.predict(X), axis=1))\n",
        "\n",
        "    prediction = np.transpose(predictions)\n",
        "    prediction = np.apply_along_axis(lambda x: np.bincount(x).argmax(), axis=1, arr=prediction)\n",
        "\n",
        "    return accuracy_score(prediction, np.argmax(Y, axis=1))"
      ],
      "execution_count": 0,
      "outputs": []
    },
    {
      "cell_type": "markdown",
      "metadata": {
        "id": "wnusOrCMhvQE",
        "colab_type": "text"
      },
      "source": [
        "# Data augmentation functions\n"
      ]
    },
    {
      "cell_type": "code",
      "metadata": {
        "id": "_SWzBrFkgsAD",
        "colab_type": "code",
        "colab": {}
      },
      "source": [
        "def flip_image(image):\n",
        "    if np.random.rand() < 0.2:\n",
        "        image = tf.image.flip_left_right(image)\n",
        "    return image"
      ],
      "execution_count": 0,
      "outputs": []
    },
    {
      "cell_type": "code",
      "metadata": {
        "id": "2gBhejyuh0qS",
        "colab_type": "code",
        "colab": {}
      },
      "source": [
        "def rotate_image(image):\n",
        "    if np.random.rand() < 0.2:\n",
        "        angles = np.linspace(1,10,10)\n",
        "        rotation_angle = np.random.choice(angles)\n",
        "        if np.random.rand() < 0.5:\n",
        "            image = ndimage.rotate(image, rotation_angle, reshape = False)\n",
        "        else:\n",
        "            image = ndimage.rotate(image, -rotation_angle, reshape = False) \n",
        "    return image"
      ],
      "execution_count": 0,
      "outputs": []
    },
    {
      "cell_type": "code",
      "metadata": {
        "id": "B-tkwzLAi6rG",
        "colab_type": "code",
        "colab": {}
      },
      "source": [
        "def horizontal_shift(image):\n",
        "    if np.random.rand() < 0.2:\n",
        "        num_rows, num_cols = image.shape[:2]\n",
        "        if np.random.rand() < 0.5:\n",
        "            translation_matrix = np.float32([ [1,0,3], [0,1,0] ])\n",
        "            image = cv2.warpAffine(image, translation_matrix, (num_cols, num_rows))\n",
        "            image = image.reshape((IMAGE_SIZE,IMAGE_SIZE,1))\n",
        "        else:\n",
        "            translation_matrix = np.float32([ [1,0,-3], [0,1,0] ])\n",
        "            image = cv2.warpAffine(image, translation_matrix, (num_cols, num_rows))\n",
        "            image = image.reshape((IMAGE_SIZE,IMAGE_SIZE,1))\n",
        "    return image"
      ],
      "execution_count": 0,
      "outputs": []
    },
    {
      "cell_type": "code",
      "metadata": {
        "id": "wNk5MJD9_dV1",
        "colab_type": "code",
        "colab": {}
      },
      "source": [
        "def vertical_shift(image):\n",
        "    if np.random.rand() < 0.2:\n",
        "        num_rows, num_cols = image.shape[:2]\n",
        "        if np.random.rand() < 0.5:\n",
        "            translation_matrix = np.float32([ [1,0,0], [0,1,2] ])\n",
        "            image = cv2.warpAffine(image, translation_matrix, (num_cols, num_rows))\n",
        "            image = image.reshape((IMAGE_SIZE,IMAGE_SIZE,1))\n",
        "        else:\n",
        "            translation_matrix = np.float32([ [1,0,0], [0,1,-2] ])\n",
        "            image = cv2.warpAffine(image, translation_matrix, (num_cols, num_rows))\n",
        "            image = image.reshape((IMAGE_SIZE,IMAGE_SIZE,1))\n",
        "    return image"
      ],
      "execution_count": 0,
      "outputs": []
    },
    {
      "cell_type": "code",
      "metadata": {
        "id": "xkGlwKLGxJi6",
        "colab_type": "code",
        "colab": {}
      },
      "source": [
        "funcs = [rotate_image,\n",
        "         horizontal_shift, \n",
        "         vertical_shift]"
      ],
      "execution_count": 0,
      "outputs": []
    },
    {
      "cell_type": "markdown",
      "metadata": {
        "id": "TVqdcrD_vQ-Q",
        "colab_type": "text"
      },
      "source": [
        "# Train"
      ]
    },
    {
      "cell_type": "code",
      "metadata": {
        "colab_type": "code",
        "id": "HjvZqLBJOpsw",
        "outputId": "7f785c21-5fec-49d0-c40a-c6230a14495f",
        "colab": {
          "base_uri": "https://localhost:8080/",
          "height": 1000
        }
      },
      "source": [
        "models = []\n",
        "accuracies = [0]\n",
        "\n",
        "for i in range(len(funcs)):\n",
        "\n",
        "    print(f\"Train model {i}\")\n",
        "\n",
        "    preprocessing_function = funcs[i]\n",
        "    datagen = ImageDataGenerator(preprocessing_function=preprocessing_function)\n",
        "    datagen = datagen.flow(x_train,y_train, batch_size = BATCH_SIZE)\n",
        "\n",
        "    model = FashionMNISTmodel(IMAGE_SIZE, NUM_CLASSES, 1)\n",
        "\n",
        "    es = EarlyStopping(min_delta = 0.01, patience=3)\n",
        "    model.fit_generator(datagen,\n",
        "                        epochs = EPOCHS,\n",
        "                        validation_data = (x_test,y_test),\n",
        "                        shuffle = True,\n",
        "                        callbacks=[es])\n",
        "    \n",
        "    model.save_weights(PATH + MODEL_NAME + f\"_weights-{i}.h5\" )\n",
        "    models.append(model)\n",
        "\n",
        "    acc = predict(models, x_val, y_val)\n",
        "    delta = acc - accuracies[-1]\n",
        "\n",
        "    accuracies.append(acc)\n",
        "\n",
        "    print(f\"Model: {i} added. Resulting score: {acc}\")"
      ],
      "execution_count": 16,
      "outputs": [
        {
          "output_type": "stream",
          "text": [
            "Train model 0\n",
            "Epoch 1/9999\n",
            "375/375 [==============================] - 11s 30ms/step - loss: 2.1619 - accuracy: 0.2397 - val_loss: 2.1878 - val_accuracy: 0.2723\n",
            "Epoch 2/9999\n",
            "375/375 [==============================] - 5s 13ms/step - loss: 1.9125 - accuracy: 0.3683 - val_loss: 1.8190 - val_accuracy: 0.3847\n",
            "Epoch 3/9999\n",
            "375/375 [==============================] - 5s 13ms/step - loss: 1.6876 - accuracy: 0.4320 - val_loss: 1.5821 - val_accuracy: 0.4754\n",
            "Epoch 4/9999\n",
            "375/375 [==============================] - 5s 13ms/step - loss: 1.5228 - accuracy: 0.5050 - val_loss: 1.4442 - val_accuracy: 0.5405\n",
            "Epoch 5/9999\n",
            "375/375 [==============================] - 5s 13ms/step - loss: 1.4059 - accuracy: 0.5491 - val_loss: 1.3467 - val_accuracy: 0.5682\n",
            "Epoch 6/9999\n",
            "375/375 [==============================] - 5s 13ms/step - loss: 1.3179 - accuracy: 0.5764 - val_loss: 1.2698 - val_accuracy: 0.5885\n",
            "Epoch 7/9999\n",
            "375/375 [==============================] - 5s 12ms/step - loss: 1.2499 - accuracy: 0.5931 - val_loss: 1.2103 - val_accuracy: 0.5983\n",
            "Epoch 8/9999\n",
            "375/375 [==============================] - 5s 12ms/step - loss: 1.1919 - accuracy: 0.6065 - val_loss: 1.1622 - val_accuracy: 0.6114\n",
            "Epoch 9/9999\n",
            "375/375 [==============================] - 5s 13ms/step - loss: 1.1474 - accuracy: 0.6176 - val_loss: 1.1218 - val_accuracy: 0.6169\n",
            "Epoch 10/9999\n",
            "375/375 [==============================] - 5s 12ms/step - loss: 1.1101 - accuracy: 0.6251 - val_loss: 1.0904 - val_accuracy: 0.6300\n",
            "Epoch 11/9999\n",
            "375/375 [==============================] - 5s 12ms/step - loss: 1.0796 - accuracy: 0.6327 - val_loss: 1.0612 - val_accuracy: 0.6354\n",
            "Epoch 12/9999\n",
            "375/375 [==============================] - 5s 12ms/step - loss: 1.0519 - accuracy: 0.6398 - val_loss: 1.0392 - val_accuracy: 0.6416\n",
            "Epoch 13/9999\n",
            "375/375 [==============================] - 5s 13ms/step - loss: 1.0306 - accuracy: 0.6449 - val_loss: 1.0201 - val_accuracy: 0.6401\n",
            "Epoch 14/9999\n",
            "375/375 [==============================] - 5s 13ms/step - loss: 1.0104 - accuracy: 0.6506 - val_loss: 1.0013 - val_accuracy: 0.6465\n",
            "Epoch 15/9999\n",
            "375/375 [==============================] - 5s 13ms/step - loss: 0.9920 - accuracy: 0.6555 - val_loss: 0.9887 - val_accuracy: 0.6460\n",
            "Epoch 16/9999\n",
            "375/375 [==============================] - 5s 12ms/step - loss: 0.9771 - accuracy: 0.6598 - val_loss: 0.9719 - val_accuracy: 0.6550\n",
            "Epoch 17/9999\n",
            "375/375 [==============================] - 5s 13ms/step - loss: 0.9631 - accuracy: 0.6652 - val_loss: 0.9573 - val_accuracy: 0.6673\n",
            "Epoch 18/9999\n",
            "375/375 [==============================] - 5s 13ms/step - loss: 0.9506 - accuracy: 0.6683 - val_loss: 0.9463 - val_accuracy: 0.6641\n",
            "Epoch 19/9999\n",
            "375/375 [==============================] - 5s 13ms/step - loss: 0.9390 - accuracy: 0.6737 - val_loss: 0.9344 - val_accuracy: 0.6702\n",
            "Epoch 20/9999\n",
            "375/375 [==============================] - 5s 12ms/step - loss: 0.9291 - accuracy: 0.6757 - val_loss: 0.9256 - val_accuracy: 0.6746\n",
            "Epoch 21/9999\n",
            "375/375 [==============================] - 5s 12ms/step - loss: 0.9188 - accuracy: 0.6796 - val_loss: 0.9194 - val_accuracy: 0.6720\n",
            "Epoch 22/9999\n",
            "375/375 [==============================] - 5s 12ms/step - loss: 0.9085 - accuracy: 0.6823 - val_loss: 0.9074 - val_accuracy: 0.6769\n",
            "Epoch 23/9999\n",
            "375/375 [==============================] - 5s 12ms/step - loss: 0.9010 - accuracy: 0.6861 - val_loss: 0.8965 - val_accuracy: 0.6822\n",
            "Epoch 24/9999\n",
            "375/375 [==============================] - 5s 12ms/step - loss: 0.8896 - accuracy: 0.6886 - val_loss: 0.8889 - val_accuracy: 0.6884\n",
            "Epoch 25/9999\n",
            "375/375 [==============================] - 5s 12ms/step - loss: 0.8817 - accuracy: 0.6926 - val_loss: 0.8866 - val_accuracy: 0.6829\n",
            "Epoch 26/9999\n",
            "375/375 [==============================] - 5s 13ms/step - loss: 0.8719 - accuracy: 0.6955 - val_loss: 0.8728 - val_accuracy: 0.6899\n",
            "Epoch 27/9999\n",
            "375/375 [==============================] - 5s 13ms/step - loss: 0.8652 - accuracy: 0.7002 - val_loss: 0.8643 - val_accuracy: 0.6946\n",
            "Epoch 28/9999\n",
            "375/375 [==============================] - 5s 13ms/step - loss: 0.8553 - accuracy: 0.7014 - val_loss: 0.8561 - val_accuracy: 0.6976\n",
            "Epoch 29/9999\n",
            "375/375 [==============================] - 5s 12ms/step - loss: 0.8481 - accuracy: 0.7066 - val_loss: 0.8484 - val_accuracy: 0.7030\n",
            "Epoch 30/9999\n",
            "375/375 [==============================] - 5s 12ms/step - loss: 0.8416 - accuracy: 0.7081 - val_loss: 0.8405 - val_accuracy: 0.7039\n",
            "Epoch 31/9999\n",
            "375/375 [==============================] - 5s 12ms/step - loss: 0.8338 - accuracy: 0.7082 - val_loss: 0.8358 - val_accuracy: 0.7054\n",
            "Epoch 32/9999\n",
            "375/375 [==============================] - 5s 13ms/step - loss: 0.8264 - accuracy: 0.7146 - val_loss: 0.8274 - val_accuracy: 0.7075\n",
            "Epoch 33/9999\n",
            "375/375 [==============================] - 5s 13ms/step - loss: 0.8203 - accuracy: 0.7163 - val_loss: 0.8190 - val_accuracy: 0.7125\n",
            "Epoch 34/9999\n",
            "375/375 [==============================] - 5s 13ms/step - loss: 0.8117 - accuracy: 0.7188 - val_loss: 0.8142 - val_accuracy: 0.7124\n",
            "Epoch 35/9999\n",
            "375/375 [==============================] - 5s 13ms/step - loss: 0.8074 - accuracy: 0.7213 - val_loss: 0.8092 - val_accuracy: 0.7129\n",
            "Epoch 36/9999\n",
            "375/375 [==============================] - 5s 13ms/step - loss: 0.8006 - accuracy: 0.7225 - val_loss: 0.8024 - val_accuracy: 0.7155\n",
            "Epoch 37/9999\n",
            "375/375 [==============================] - 5s 13ms/step - loss: 0.7940 - accuracy: 0.7267 - val_loss: 0.7971 - val_accuracy: 0.7160\n",
            "Epoch 38/9999\n",
            "375/375 [==============================] - 5s 13ms/step - loss: 0.7878 - accuracy: 0.7268 - val_loss: 0.7887 - val_accuracy: 0.7227\n",
            "Epoch 39/9999\n",
            "375/375 [==============================] - 5s 13ms/step - loss: 0.7822 - accuracy: 0.7312 - val_loss: 0.7858 - val_accuracy: 0.7212\n",
            "Epoch 40/9999\n",
            "375/375 [==============================] - 5s 13ms/step - loss: 0.7769 - accuracy: 0.7325 - val_loss: 0.7794 - val_accuracy: 0.7238\n",
            "Epoch 41/9999\n",
            "375/375 [==============================] - 5s 13ms/step - loss: 0.7686 - accuracy: 0.7361 - val_loss: 0.7725 - val_accuracy: 0.7269\n",
            "Epoch 42/9999\n",
            "375/375 [==============================] - 5s 12ms/step - loss: 0.7633 - accuracy: 0.7375 - val_loss: 0.7678 - val_accuracy: 0.7310\n",
            "Epoch 43/9999\n",
            "375/375 [==============================] - 5s 13ms/step - loss: 0.7587 - accuracy: 0.7397 - val_loss: 0.7624 - val_accuracy: 0.7336\n",
            "Epoch 44/9999\n",
            "375/375 [==============================] - 5s 13ms/step - loss: 0.7531 - accuracy: 0.7412 - val_loss: 0.7582 - val_accuracy: 0.7331\n",
            "Epoch 45/9999\n",
            "375/375 [==============================] - 5s 13ms/step - loss: 0.7480 - accuracy: 0.7427 - val_loss: 0.7510 - val_accuracy: 0.7362\n",
            "Epoch 46/9999\n",
            "375/375 [==============================] - 5s 13ms/step - loss: 0.7446 - accuracy: 0.7453 - val_loss: 0.7466 - val_accuracy: 0.7377\n",
            "Epoch 47/9999\n",
            "375/375 [==============================] - 5s 13ms/step - loss: 0.7398 - accuracy: 0.7454 - val_loss: 0.7417 - val_accuracy: 0.7415\n",
            "Epoch 48/9999\n",
            "375/375 [==============================] - 5s 13ms/step - loss: 0.7362 - accuracy: 0.7468 - val_loss: 0.7395 - val_accuracy: 0.7391\n",
            "Epoch 49/9999\n",
            "375/375 [==============================] - 5s 12ms/step - loss: 0.7316 - accuracy: 0.7489 - val_loss: 0.7334 - val_accuracy: 0.7434\n",
            "Epoch 50/9999\n",
            "375/375 [==============================] - 5s 13ms/step - loss: 0.7270 - accuracy: 0.7514 - val_loss: 0.7307 - val_accuracy: 0.7463\n",
            "Epoch 51/9999\n",
            "375/375 [==============================] - 5s 13ms/step - loss: 0.7239 - accuracy: 0.7524 - val_loss: 0.7246 - val_accuracy: 0.7487\n",
            "Epoch 52/9999\n",
            "375/375 [==============================] - 5s 13ms/step - loss: 0.7192 - accuracy: 0.7540 - val_loss: 0.7225 - val_accuracy: 0.7481\n",
            "Epoch 53/9999\n",
            "375/375 [==============================] - 5s 13ms/step - loss: 0.7146 - accuracy: 0.7550 - val_loss: 0.7182 - val_accuracy: 0.7475\n",
            "Epoch 54/9999\n",
            "375/375 [==============================] - 5s 13ms/step - loss: 0.7118 - accuracy: 0.7559 - val_loss: 0.7182 - val_accuracy: 0.7486\n"
          ],
          "name": "stdout"
        },
        {
          "output_type": "stream",
          "text": [
            "100%|██████████| 1/1 [00:00<00:00,  2.13it/s]\n"
          ],
          "name": "stderr"
        },
        {
          "output_type": "stream",
          "text": [
            "Model: 0 added. Resulting score: 0.7530833333333333\n",
            "Train model 1\n",
            "Epoch 1/9999\n",
            "375/375 [==============================] - 3s 8ms/step - loss: 2.1875 - accuracy: 0.2132 - val_loss: 2.1843 - val_accuracy: 0.3066\n",
            "Epoch 2/9999\n",
            "375/375 [==============================] - 3s 7ms/step - loss: 1.9343 - accuracy: 0.3675 - val_loss: 1.8276 - val_accuracy: 0.4026\n",
            "Epoch 3/9999\n",
            "375/375 [==============================] - 3s 7ms/step - loss: 1.7034 - accuracy: 0.4450 - val_loss: 1.5945 - val_accuracy: 0.4902\n",
            "Epoch 4/9999\n",
            "375/375 [==============================] - 3s 7ms/step - loss: 1.5282 - accuracy: 0.4992 - val_loss: 1.4453 - val_accuracy: 0.5313\n",
            "Epoch 5/9999\n",
            "375/375 [==============================] - 3s 7ms/step - loss: 1.4058 - accuracy: 0.5437 - val_loss: 1.3454 - val_accuracy: 0.5604\n",
            "Epoch 6/9999\n",
            "375/375 [==============================] - 3s 7ms/step - loss: 1.3201 - accuracy: 0.5699 - val_loss: 1.2681 - val_accuracy: 0.5905\n",
            "Epoch 7/9999\n",
            "375/375 [==============================] - 3s 7ms/step - loss: 1.2531 - accuracy: 0.5910 - val_loss: 1.2090 - val_accuracy: 0.6087\n",
            "Epoch 8/9999\n",
            "375/375 [==============================] - 3s 7ms/step - loss: 1.1999 - accuracy: 0.6040 - val_loss: 1.1630 - val_accuracy: 0.6124\n",
            "Epoch 9/9999\n",
            "375/375 [==============================] - 3s 7ms/step - loss: 1.1561 - accuracy: 0.6138 - val_loss: 1.1230 - val_accuracy: 0.6351\n",
            "Epoch 10/9999\n",
            "375/375 [==============================] - 3s 7ms/step - loss: 1.1203 - accuracy: 0.6237 - val_loss: 1.0916 - val_accuracy: 0.6341\n",
            "Epoch 11/9999\n",
            "375/375 [==============================] - 3s 7ms/step - loss: 1.0898 - accuracy: 0.6316 - val_loss: 1.0626 - val_accuracy: 0.6419\n",
            "Epoch 12/9999\n",
            "375/375 [==============================] - 3s 7ms/step - loss: 1.0639 - accuracy: 0.6391 - val_loss: 1.0372 - val_accuracy: 0.6517\n",
            "Epoch 13/9999\n",
            "375/375 [==============================] - 3s 7ms/step - loss: 1.0365 - accuracy: 0.6474 - val_loss: 1.0127 - val_accuracy: 0.6602\n",
            "Epoch 14/9999\n",
            "375/375 [==============================] - 3s 7ms/step - loss: 1.0195 - accuracy: 0.6547 - val_loss: 0.9967 - val_accuracy: 0.6599\n",
            "Epoch 15/9999\n",
            "375/375 [==============================] - 3s 7ms/step - loss: 0.9997 - accuracy: 0.6578 - val_loss: 0.9873 - val_accuracy: 0.6638\n",
            "Epoch 16/9999\n",
            "375/375 [==============================] - 3s 7ms/step - loss: 0.9801 - accuracy: 0.6647 - val_loss: 0.9587 - val_accuracy: 0.6799\n",
            "Epoch 17/9999\n",
            "375/375 [==============================] - 3s 7ms/step - loss: 0.9643 - accuracy: 0.6724 - val_loss: 0.9445 - val_accuracy: 0.6778\n",
            "Epoch 18/9999\n",
            "375/375 [==============================] - 3s 7ms/step - loss: 0.9480 - accuracy: 0.6755 - val_loss: 0.9318 - val_accuracy: 0.6817\n",
            "Epoch 19/9999\n",
            "375/375 [==============================] - 3s 7ms/step - loss: 0.9356 - accuracy: 0.6790 - val_loss: 0.9136 - val_accuracy: 0.6917\n",
            "Epoch 20/9999\n",
            "375/375 [==============================] - 3s 7ms/step - loss: 0.9218 - accuracy: 0.6856 - val_loss: 0.9020 - val_accuracy: 0.6952\n",
            "Epoch 21/9999\n",
            "375/375 [==============================] - 3s 7ms/step - loss: 0.9083 - accuracy: 0.6884 - val_loss: 0.8905 - val_accuracy: 0.6985\n",
            "Epoch 22/9999\n",
            "375/375 [==============================] - 3s 7ms/step - loss: 0.8983 - accuracy: 0.6922 - val_loss: 0.8778 - val_accuracy: 0.7004\n",
            "Epoch 23/9999\n",
            "375/375 [==============================] - 3s 7ms/step - loss: 0.8847 - accuracy: 0.6982 - val_loss: 0.8695 - val_accuracy: 0.7046\n",
            "Epoch 24/9999\n",
            "375/375 [==============================] - 3s 7ms/step - loss: 0.8730 - accuracy: 0.7035 - val_loss: 0.8576 - val_accuracy: 0.7084\n",
            "Epoch 25/9999\n",
            "375/375 [==============================] - 3s 7ms/step - loss: 0.8637 - accuracy: 0.7061 - val_loss: 0.8452 - val_accuracy: 0.7161\n",
            "Epoch 26/9999\n",
            "375/375 [==============================] - 3s 7ms/step - loss: 0.8559 - accuracy: 0.7074 - val_loss: 0.8382 - val_accuracy: 0.7143\n",
            "Epoch 27/9999\n",
            "375/375 [==============================] - 3s 7ms/step - loss: 0.8451 - accuracy: 0.7117 - val_loss: 0.8274 - val_accuracy: 0.7210\n",
            "Epoch 28/9999\n",
            "375/375 [==============================] - 3s 7ms/step - loss: 0.8394 - accuracy: 0.7156 - val_loss: 0.8183 - val_accuracy: 0.7273\n",
            "Epoch 29/9999\n",
            "375/375 [==============================] - 3s 7ms/step - loss: 0.8291 - accuracy: 0.7180 - val_loss: 0.8106 - val_accuracy: 0.7286\n",
            "Epoch 30/9999\n",
            "375/375 [==============================] - 3s 7ms/step - loss: 0.8217 - accuracy: 0.7210 - val_loss: 0.8032 - val_accuracy: 0.7312\n",
            "Epoch 31/9999\n",
            "375/375 [==============================] - 3s 7ms/step - loss: 0.8155 - accuracy: 0.7230 - val_loss: 0.7953 - val_accuracy: 0.7343\n",
            "Epoch 32/9999\n",
            "375/375 [==============================] - 3s 7ms/step - loss: 0.8071 - accuracy: 0.7257 - val_loss: 0.7923 - val_accuracy: 0.7305\n",
            "Epoch 33/9999\n",
            "375/375 [==============================] - 3s 7ms/step - loss: 0.8005 - accuracy: 0.7270 - val_loss: 0.7840 - val_accuracy: 0.7385\n",
            "Epoch 34/9999\n",
            "375/375 [==============================] - 3s 7ms/step - loss: 0.7915 - accuracy: 0.7292 - val_loss: 0.7782 - val_accuracy: 0.7385\n",
            "Epoch 35/9999\n",
            "375/375 [==============================] - 3s 7ms/step - loss: 0.7863 - accuracy: 0.7318 - val_loss: 0.7749 - val_accuracy: 0.7380\n",
            "Epoch 36/9999\n",
            "375/375 [==============================] - 3s 7ms/step - loss: 0.7785 - accuracy: 0.7351 - val_loss: 0.7676 - val_accuracy: 0.7384\n",
            "Epoch 37/9999\n",
            "375/375 [==============================] - 3s 7ms/step - loss: 0.7744 - accuracy: 0.7345 - val_loss: 0.7580 - val_accuracy: 0.7460\n",
            "Epoch 38/9999\n",
            "375/375 [==============================] - 3s 7ms/step - loss: 0.7714 - accuracy: 0.7371 - val_loss: 0.7550 - val_accuracy: 0.7442\n",
            "Epoch 39/9999\n",
            "375/375 [==============================] - 3s 7ms/step - loss: 0.7622 - accuracy: 0.7385 - val_loss: 0.7481 - val_accuracy: 0.7486\n",
            "Epoch 40/9999\n",
            "375/375 [==============================] - 3s 7ms/step - loss: 0.7585 - accuracy: 0.7413 - val_loss: 0.7450 - val_accuracy: 0.7485\n",
            "Epoch 41/9999\n",
            "375/375 [==============================] - 3s 7ms/step - loss: 0.7544 - accuracy: 0.7418 - val_loss: 0.7423 - val_accuracy: 0.7491\n",
            "Epoch 42/9999\n",
            "375/375 [==============================] - 3s 7ms/step - loss: 0.7498 - accuracy: 0.7440 - val_loss: 0.7368 - val_accuracy: 0.7505\n",
            "Epoch 43/9999\n",
            "375/375 [==============================] - 3s 7ms/step - loss: 0.7434 - accuracy: 0.7459 - val_loss: 0.7329 - val_accuracy: 0.7528\n",
            "Epoch 44/9999\n",
            "375/375 [==============================] - 3s 7ms/step - loss: 0.7384 - accuracy: 0.7469 - val_loss: 0.7272 - val_accuracy: 0.7543\n",
            "Epoch 45/9999\n",
            "375/375 [==============================] - 3s 7ms/step - loss: 0.7352 - accuracy: 0.7479 - val_loss: 0.7238 - val_accuracy: 0.7556\n",
            "Epoch 46/9999\n",
            "375/375 [==============================] - 3s 7ms/step - loss: 0.7325 - accuracy: 0.7500 - val_loss: 0.7199 - val_accuracy: 0.7542\n",
            "Epoch 47/9999\n",
            "375/375 [==============================] - 3s 7ms/step - loss: 0.7269 - accuracy: 0.7508 - val_loss: 0.7166 - val_accuracy: 0.7566\n",
            "Epoch 48/9999\n",
            "375/375 [==============================] - 3s 7ms/step - loss: 0.7250 - accuracy: 0.7513 - val_loss: 0.7123 - val_accuracy: 0.7601\n",
            "Epoch 49/9999\n",
            "375/375 [==============================] - 3s 7ms/step - loss: 0.7215 - accuracy: 0.7528 - val_loss: 0.7112 - val_accuracy: 0.7580\n"
          ],
          "name": "stdout"
        },
        {
          "output_type": "stream",
          "text": [
            "100%|██████████| 2/2 [00:00<00:00,  2.38it/s]\n"
          ],
          "name": "stderr"
        },
        {
          "output_type": "stream",
          "text": [
            "Model: 1 added. Resulting score: 0.7515833333333334\n",
            "Train model 2\n",
            "Epoch 1/9999\n",
            "375/375 [==============================] - 3s 7ms/step - loss: 2.1994 - accuracy: 0.2407 - val_loss: 2.1912 - val_accuracy: 0.3582\n",
            "Epoch 2/9999\n",
            "375/375 [==============================] - 3s 7ms/step - loss: 1.9060 - accuracy: 0.4204 - val_loss: 1.7965 - val_accuracy: 0.4541\n",
            "Epoch 3/9999\n",
            "375/375 [==============================] - 3s 7ms/step - loss: 1.6806 - accuracy: 0.4940 - val_loss: 1.5737 - val_accuracy: 0.5236\n",
            "Epoch 4/9999\n",
            "375/375 [==============================] - 3s 7ms/step - loss: 1.5174 - accuracy: 0.5393 - val_loss: 1.4378 - val_accuracy: 0.5631\n",
            "Epoch 5/9999\n",
            "375/375 [==============================] - 3s 7ms/step - loss: 1.3987 - accuracy: 0.5670 - val_loss: 1.3396 - val_accuracy: 0.5835\n",
            "Epoch 6/9999\n",
            "375/375 [==============================] - 3s 7ms/step - loss: 1.3093 - accuracy: 0.5907 - val_loss: 1.2686 - val_accuracy: 0.5851\n",
            "Epoch 7/9999\n",
            "375/375 [==============================] - 3s 7ms/step - loss: 1.2410 - accuracy: 0.6022 - val_loss: 1.2014 - val_accuracy: 0.6171\n",
            "Epoch 8/9999\n",
            "375/375 [==============================] - 3s 7ms/step - loss: 1.1854 - accuracy: 0.6153 - val_loss: 1.1514 - val_accuracy: 0.6263\n",
            "Epoch 9/9999\n",
            "375/375 [==============================] - 3s 7ms/step - loss: 1.1393 - accuracy: 0.6286 - val_loss: 1.1113 - val_accuracy: 0.6317\n",
            "Epoch 10/9999\n",
            "375/375 [==============================] - 3s 7ms/step - loss: 1.1029 - accuracy: 0.6367 - val_loss: 1.0786 - val_accuracy: 0.6416\n",
            "Epoch 11/9999\n",
            "375/375 [==============================] - 3s 7ms/step - loss: 1.0684 - accuracy: 0.6457 - val_loss: 1.0495 - val_accuracy: 0.6500\n",
            "Epoch 12/9999\n",
            "375/375 [==============================] - 3s 7ms/step - loss: 1.0418 - accuracy: 0.6533 - val_loss: 1.0209 - val_accuracy: 0.6625\n",
            "Epoch 13/9999\n",
            "375/375 [==============================] - 3s 7ms/step - loss: 1.0178 - accuracy: 0.6610 - val_loss: 0.9987 - val_accuracy: 0.6662\n",
            "Epoch 14/9999\n",
            "375/375 [==============================] - 3s 7ms/step - loss: 0.9949 - accuracy: 0.6661 - val_loss: 0.9786 - val_accuracy: 0.6748\n",
            "Epoch 15/9999\n",
            "375/375 [==============================] - 3s 7ms/step - loss: 0.9750 - accuracy: 0.6726 - val_loss: 0.9620 - val_accuracy: 0.6752\n",
            "Epoch 16/9999\n",
            "375/375 [==============================] - 3s 7ms/step - loss: 0.9565 - accuracy: 0.6781 - val_loss: 0.9432 - val_accuracy: 0.6837\n",
            "Epoch 17/9999\n",
            "375/375 [==============================] - 3s 7ms/step - loss: 0.9391 - accuracy: 0.6829 - val_loss: 0.9282 - val_accuracy: 0.6867\n",
            "Epoch 18/9999\n",
            "375/375 [==============================] - 3s 7ms/step - loss: 0.9251 - accuracy: 0.6874 - val_loss: 0.9125 - val_accuracy: 0.6931\n",
            "Epoch 19/9999\n",
            "375/375 [==============================] - 3s 7ms/step - loss: 0.9121 - accuracy: 0.6910 - val_loss: 0.9000 - val_accuracy: 0.6958\n",
            "Epoch 20/9999\n",
            "375/375 [==============================] - 3s 7ms/step - loss: 0.8983 - accuracy: 0.6967 - val_loss: 0.8874 - val_accuracy: 0.6997\n",
            "Epoch 21/9999\n",
            "375/375 [==============================] - 3s 7ms/step - loss: 0.8861 - accuracy: 0.7011 - val_loss: 0.8761 - val_accuracy: 0.7014\n",
            "Epoch 22/9999\n",
            "375/375 [==============================] - 3s 7ms/step - loss: 0.8765 - accuracy: 0.7040 - val_loss: 0.8652 - val_accuracy: 0.7053\n",
            "Epoch 23/9999\n",
            "375/375 [==============================] - 3s 7ms/step - loss: 0.8648 - accuracy: 0.7046 - val_loss: 0.8547 - val_accuracy: 0.7097\n",
            "Epoch 24/9999\n",
            "375/375 [==============================] - 3s 7ms/step - loss: 0.8555 - accuracy: 0.7087 - val_loss: 0.8494 - val_accuracy: 0.7056\n",
            "Epoch 25/9999\n",
            "375/375 [==============================] - 3s 7ms/step - loss: 0.8464 - accuracy: 0.7119 - val_loss: 0.8360 - val_accuracy: 0.7175\n",
            "Epoch 26/9999\n",
            "375/375 [==============================] - 3s 7ms/step - loss: 0.8371 - accuracy: 0.7143 - val_loss: 0.8281 - val_accuracy: 0.7203\n",
            "Epoch 27/9999\n",
            "375/375 [==============================] - 3s 7ms/step - loss: 0.8283 - accuracy: 0.7178 - val_loss: 0.8212 - val_accuracy: 0.7189\n",
            "Epoch 28/9999\n",
            "375/375 [==============================] - 3s 7ms/step - loss: 0.8204 - accuracy: 0.7193 - val_loss: 0.8133 - val_accuracy: 0.7235\n",
            "Epoch 29/9999\n",
            "375/375 [==============================] - 3s 7ms/step - loss: 0.8135 - accuracy: 0.7212 - val_loss: 0.8079 - val_accuracy: 0.7262\n",
            "Epoch 30/9999\n",
            "375/375 [==============================] - 3s 7ms/step - loss: 0.8052 - accuracy: 0.7239 - val_loss: 0.8000 - val_accuracy: 0.7263\n",
            "Epoch 31/9999\n",
            "375/375 [==============================] - 3s 7ms/step - loss: 0.7972 - accuracy: 0.7255 - val_loss: 0.7918 - val_accuracy: 0.7313\n",
            "Epoch 32/9999\n",
            "375/375 [==============================] - 3s 7ms/step - loss: 0.7921 - accuracy: 0.7294 - val_loss: 0.7861 - val_accuracy: 0.7291\n",
            "Epoch 33/9999\n",
            "375/375 [==============================] - 3s 7ms/step - loss: 0.7860 - accuracy: 0.7301 - val_loss: 0.7814 - val_accuracy: 0.7297\n",
            "Epoch 34/9999\n",
            "375/375 [==============================] - 3s 7ms/step - loss: 0.7807 - accuracy: 0.7310 - val_loss: 0.7751 - val_accuracy: 0.7343\n",
            "Epoch 35/9999\n",
            "375/375 [==============================] - 3s 7ms/step - loss: 0.7749 - accuracy: 0.7341 - val_loss: 0.7721 - val_accuracy: 0.7371\n",
            "Epoch 36/9999\n",
            "375/375 [==============================] - 3s 7ms/step - loss: 0.7718 - accuracy: 0.7341 - val_loss: 0.7631 - val_accuracy: 0.7370\n",
            "Epoch 37/9999\n",
            "375/375 [==============================] - 3s 7ms/step - loss: 0.7653 - accuracy: 0.7380 - val_loss: 0.7583 - val_accuracy: 0.7409\n",
            "Epoch 38/9999\n",
            "375/375 [==============================] - 3s 7ms/step - loss: 0.7596 - accuracy: 0.7380 - val_loss: 0.7552 - val_accuracy: 0.7392\n",
            "Epoch 39/9999\n",
            "375/375 [==============================] - 3s 7ms/step - loss: 0.7552 - accuracy: 0.7389 - val_loss: 0.7499 - val_accuracy: 0.7418\n",
            "Epoch 40/9999\n",
            "375/375 [==============================] - 3s 7ms/step - loss: 0.7522 - accuracy: 0.7412 - val_loss: 0.7456 - val_accuracy: 0.7430\n",
            "Epoch 41/9999\n",
            "375/375 [==============================] - 3s 7ms/step - loss: 0.7461 - accuracy: 0.7429 - val_loss: 0.7420 - val_accuracy: 0.7435\n",
            "Epoch 42/9999\n",
            "375/375 [==============================] - 3s 7ms/step - loss: 0.7401 - accuracy: 0.7447 - val_loss: 0.7366 - val_accuracy: 0.7466\n",
            "Epoch 43/9999\n",
            "375/375 [==============================] - 3s 7ms/step - loss: 0.7374 - accuracy: 0.7445 - val_loss: 0.7337 - val_accuracy: 0.7463\n",
            "Epoch 44/9999\n",
            "375/375 [==============================] - 3s 7ms/step - loss: 0.7329 - accuracy: 0.7473 - val_loss: 0.7321 - val_accuracy: 0.7460\n",
            "Epoch 45/9999\n",
            "375/375 [==============================] - 3s 7ms/step - loss: 0.7293 - accuracy: 0.7467 - val_loss: 0.7260 - val_accuracy: 0.7487\n",
            "Epoch 46/9999\n",
            "375/375 [==============================] - 3s 7ms/step - loss: 0.7250 - accuracy: 0.7499 - val_loss: 0.7217 - val_accuracy: 0.7510\n",
            "Epoch 47/9999\n",
            "375/375 [==============================] - 3s 7ms/step - loss: 0.7214 - accuracy: 0.7516 - val_loss: 0.7184 - val_accuracy: 0.7507\n",
            "Epoch 48/9999\n",
            "375/375 [==============================] - 3s 7ms/step - loss: 0.7202 - accuracy: 0.7508 - val_loss: 0.7178 - val_accuracy: 0.7519\n"
          ],
          "name": "stdout"
        },
        {
          "output_type": "stream",
          "text": [
            "100%|██████████| 3/3 [00:01<00:00,  2.36it/s]"
          ],
          "name": "stderr"
        },
        {
          "output_type": "stream",
          "text": [
            "Model: 2 added. Resulting score: 0.765\n"
          ],
          "name": "stdout"
        },
        {
          "output_type": "stream",
          "text": [
            "\n"
          ],
          "name": "stderr"
        }
      ]
    },
    {
      "cell_type": "markdown",
      "metadata": {
        "id": "fGT6jV-hcLbJ",
        "colab_type": "text"
      },
      "source": [
        "# Results"
      ]
    },
    {
      "cell_type": "markdown",
      "metadata": {
        "id": "CurcmjMCcrJI",
        "colab_type": "text"
      },
      "source": [
        "# Accuracy vs nr of models\n",
        "Visualizing the accuracy vs the number of models in the ensemble"
      ]
    },
    {
      "cell_type": "code",
      "metadata": {
        "id": "yvZLQyb5cg7R",
        "colab_type": "code",
        "outputId": "1270c92c-38e9-4e51-b32d-52da0c2bba99",
        "colab": {
          "base_uri": "https://localhost:8080/",
          "height": 175
        }
      },
      "source": [
        "accuracy_df = pd.DataFrame(accuracies, columns=[\"Accuracy\"])\n",
        "accuracy_df.insert(1, \"Nr of models\", accuracy_df.index)\n",
        "\n",
        "display(accuracy_df)\n",
        "\n",
        "accuracy_df.to_csv(PATH + MODEL_NAME + \"_accuracy.csv\")"
      ],
      "execution_count": 17,
      "outputs": [
        {
          "output_type": "display_data",
          "data": {
            "text/html": [
              "<div>\n",
              "<style scoped>\n",
              "    .dataframe tbody tr th:only-of-type {\n",
              "        vertical-align: middle;\n",
              "    }\n",
              "\n",
              "    .dataframe tbody tr th {\n",
              "        vertical-align: top;\n",
              "    }\n",
              "\n",
              "    .dataframe thead th {\n",
              "        text-align: right;\n",
              "    }\n",
              "</style>\n",
              "<table border=\"1\" class=\"dataframe\">\n",
              "  <thead>\n",
              "    <tr style=\"text-align: right;\">\n",
              "      <th></th>\n",
              "      <th>Accuracy</th>\n",
              "      <th>Nr of models</th>\n",
              "    </tr>\n",
              "  </thead>\n",
              "  <tbody>\n",
              "    <tr>\n",
              "      <th>0</th>\n",
              "      <td>0.000000</td>\n",
              "      <td>0</td>\n",
              "    </tr>\n",
              "    <tr>\n",
              "      <th>1</th>\n",
              "      <td>0.753083</td>\n",
              "      <td>1</td>\n",
              "    </tr>\n",
              "    <tr>\n",
              "      <th>2</th>\n",
              "      <td>0.751583</td>\n",
              "      <td>2</td>\n",
              "    </tr>\n",
              "    <tr>\n",
              "      <th>3</th>\n",
              "      <td>0.765000</td>\n",
              "      <td>3</td>\n",
              "    </tr>\n",
              "  </tbody>\n",
              "</table>\n",
              "</div>"
            ],
            "text/plain": [
              "   Accuracy  Nr of models\n",
              "0  0.000000             0\n",
              "1  0.753083             1\n",
              "2  0.751583             2\n",
              "3  0.765000             3"
            ]
          },
          "metadata": {
            "tags": []
          }
        }
      ]
    },
    {
      "cell_type": "code",
      "metadata": {
        "id": "sXq8Uj3lenzH",
        "colab_type": "code",
        "outputId": "e463acb1-c7b8-45bb-fa6e-ae909d759b11",
        "colab": {
          "base_uri": "https://localhost:8080/",
          "height": 279
        }
      },
      "source": [
        "import matplotlib.pyplot as plt\n",
        "\n",
        "# remove first row\n",
        "accuracy_df = accuracy_df.iloc[1:]\n",
        "\n",
        "accuracy_df.plot(x=\"Nr of models\", y=\"Accuracy\", xticks=accuracy_df[\"Nr of models\"])\n",
        "plt.show()"
      ],
      "execution_count": 18,
      "outputs": [
        {
          "output_type": "display_data",
          "data": {
            "image/png": "[encoded data removed]",
            "text/plain": [
              "<Figure size 432x288 with 1 Axes>"
            ]
          },
          "metadata": {
            "tags": [],
            "needs_background": "light"
          }
        }
      ]
    },
    {
      "cell_type": "markdown",
      "metadata": {
        "id": "51rnX_l7Pfdr",
        "colab_type": "text"
      },
      "source": [
        "## Accuracy\n",
        "The final accuracy of the ensamble on the test set"
      ]
    },
    {
      "cell_type": "code",
      "metadata": {
        "id": "GwNmmvSFPlVx",
        "colab_type": "code",
        "outputId": "e13c2177-20c0-4020-d616-9c8a47ee575b",
        "colab": {
          "base_uri": "https://localhost:8080/",
          "height": 52
        }
      },
      "source": [
        "print(\"Accuracy: \" + str(predict(models, x_test, y_test)))"
      ],
      "execution_count": 19,
      "outputs": [
        {
          "output_type": "stream",
          "text": [
            "100%|██████████| 3/3 [00:00<00:00,  3.05it/s]"
          ],
          "name": "stderr"
        },
        {
          "output_type": "stream",
          "text": [
            "Accuracy: 0.7604\n"
          ],
          "name": "stdout"
        },
        {
          "output_type": "stream",
          "text": [
            "\n"
          ],
          "name": "stderr"
        }
      ]
    },
    {
      "cell_type": "code",
      "metadata": {
        "id": "HpiA_XQUbye8",
        "colab_type": "code",
        "outputId": "caa280c2-2c5c-47f0-8428-9bcb15917a59",
        "colab": {
          "base_uri": "https://localhost:8080/",
          "height": 34
        }
      },
      "source": [
        "predictions = []\n",
        "\n",
        "for m in tqdm(models):\n",
        "    predictions.append(np.argmax(m.predict(x_test), axis=1))\n",
        "\n"
      ],
      "execution_count": 20,
      "outputs": [
        {
          "output_type": "stream",
          "text": [
            "100%|██████████| 3/3 [00:01<00:00,  2.95it/s]\n"
          ],
          "name": "stderr"
        }
      ]
    },
    {
      "cell_type": "markdown",
      "metadata": {
        "id": "NMfc-h8xAYQu",
        "colab_type": "text"
      },
      "source": [
        "## Correlation between models"
      ]
    },
    {
      "cell_type": "code",
      "metadata": {
        "id": "0N9wSXF1iSp3",
        "colab_type": "code",
        "outputId": "a539bfdc-d16e-4317-9bab-7aa02480cfcd",
        "colab": {
          "base_uri": "https://localhost:8080/",
          "height": 34
        }
      },
      "source": [
        "classified = []\n",
        "\n",
        "for prediction in tqdm(predictions):\n",
        "    classified.append([1 if i==j else 0 for i,j in zip(prediction,np.argmax(y_test, axis = 1))])"
      ],
      "execution_count": 21,
      "outputs": [
        {
          "output_type": "stream",
          "text": [
            "100%|██████████| 3/3 [00:00<00:00, 346.30it/s]\n"
          ],
          "name": "stderr"
        }
      ]
    },
    {
      "cell_type": "code",
      "metadata": {
        "id": "FAky42lMV102",
        "colab_type": "code",
        "outputId": "80796b67-ab7b-4a6b-a952-25507653f255",
        "colab": {
          "base_uri": "https://localhost:8080/",
          "height": 161
        }
      },
      "source": [
        "correlation_matrix = []\n",
        "\n",
        "for ix, x in enumerate(predictions):\n",
        "  row = []\n",
        "  \n",
        "  for iy, y in enumerate(predictions):\n",
        "    if (ix == iy):\n",
        "      row.append(np.nan)\n",
        "    else:\n",
        "      row.append(pearsonr(x,y)[0])\n",
        "\n",
        "  correlation_matrix.append(row)\n",
        "\n",
        "correlation_matrix = np.array(correlation_matrix)\n",
        "display(pd.DataFrame(correlation_matrix))\n",
        "print(\"Average correlation: \" + str(np.nanmean(correlation_matrix.flatten())))"
      ],
      "execution_count": 22,
      "outputs": [
        {
          "output_type": "display_data",
          "data": {
            "text/html": [
              "<div>\n",
              "<style scoped>\n",
              "    .dataframe tbody tr th:only-of-type {\n",
              "        vertical-align: middle;\n",
              "    }\n",
              "\n",
              "    .dataframe tbody tr th {\n",
              "        vertical-align: top;\n",
              "    }\n",
              "\n",
              "    .dataframe thead th {\n",
              "        text-align: right;\n",
              "    }\n",
              "</style>\n",
              "<table border=\"1\" class=\"dataframe\">\n",
              "  <thead>\n",
              "    <tr style=\"text-align: right;\">\n",
              "      <th></th>\n",
              "      <th>0</th>\n",
              "      <th>1</th>\n",
              "      <th>2</th>\n",
              "    </tr>\n",
              "  </thead>\n",
              "  <tbody>\n",
              "    <tr>\n",
              "      <th>0</th>\n",
              "      <td>NaN</td>\n",
              "      <td>0.896291</td>\n",
              "      <td>0.900179</td>\n",
              "    </tr>\n",
              "    <tr>\n",
              "      <th>1</th>\n",
              "      <td>0.896291</td>\n",
              "      <td>NaN</td>\n",
              "      <td>0.893928</td>\n",
              "    </tr>\n",
              "    <tr>\n",
              "      <th>2</th>\n",
              "      <td>0.900179</td>\n",
              "      <td>0.893928</td>\n",
              "      <td>NaN</td>\n",
              "    </tr>\n",
              "  </tbody>\n",
              "</table>\n",
              "</div>"
            ],
            "text/plain": [
              "          0         1         2\n",
              "0       NaN  0.896291  0.900179\n",
              "1  0.896291       NaN  0.893928\n",
              "2  0.900179  0.893928       NaN"
            ]
          },
          "metadata": {
            "tags": []
          }
        },
        {
          "output_type": "stream",
          "text": [
            "Average correlation: 0.8967991064158763\n"
          ],
          "name": "stdout"
        }
      ]
    }
  ]
}