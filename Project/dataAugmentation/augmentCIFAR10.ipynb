{
  "nbformat": 4,
  "nbformat_minor": 0,
  "metadata": {
    "accelerator": "GPU",
    "colab": {
      "name": "augmentCIFAR10.ipynb",
      "provenance": [],
      "collapsed_sections": []
    },
    "kernelspec": {
      "display_name": "Python 3",
      "language": "python",
      "name": "python3"
    },
    "language_info": {
      "codemirror_mode": {
        "name": "ipython",
        "version": 3
      },
      "file_extension": ".py",
      "mimetype": "text/x-python",
      "name": "python",
      "nbconvert_exporter": "python",
      "pygments_lexer": "ipython3",
      "version": "3.6.9"
    }
  },
  "cells": [
    {
      "cell_type": "code",
      "metadata": {
        "colab_type": "code",
        "id": "fde69AMuOpox",
        "colab": {
          "base_uri": "https://localhost:8080/",
          "height": 34
        },
        "outputId": "18862f49-c884-4425-b427-6d2269b9268c"
      },
      "source": [
        "import keras\n",
        "import cv2\n",
        "import os\n",
        "import numpy as np\n",
        "import pandas as pd\n",
        "import tensorflow as tf\n",
        "from itertools import count\n",
        "from sklearn.metrics import accuracy_score\n",
        "from keras.datasets import cifar10\n",
        "from keras.applications.vgg16 import VGG16\n",
        "from keras.layers import Dense, Dropout, Flatten, Activation, Input, Conv2D, MaxPooling2D, BatchNormalization, GlobalAveragePooling2D\n",
        "from sklearn.model_selection import train_test_split\n",
        "from keras.models import Model\n",
        "from keras.callbacks import EarlyStopping, CSVLogger\n",
        "from keras.preprocessing.image import ImageDataGenerator\n",
        "from scipy.stats import pearsonr\n",
        "from tqdm import tqdm\n",
        "from scipy import ndimage\n",
        "from IPython.display import clear_output"
      ],
      "execution_count": 1,
      "outputs": [
        {
          "output_type": "stream",
          "text": [
            "Using TensorFlow backend.\n"
          ],
          "name": "stderr"
        }
      ]
    },
    {
      "cell_type": "code",
      "metadata": {
        "colab_type": "code",
        "id": "qYrab7qpOppj",
        "colab": {}
      },
      "source": [
        "BATCH_SIZE = 128\n",
        "EPOCHS = 9999\n",
        "IMAGE_SIZE = 28\n",
        "NUM_CLASSES = 10\n",
        "NUM_CHANNELS = 1\n",
        "MODEL_NAME = \"MNIST_data_augmentation\"\n",
        "PATH = \"\"\n",
        "NR_OF_RUNS = 10"
      ],
      "execution_count": 0,
      "outputs": []
    },
    {
      "cell_type": "markdown",
      "metadata": {
        "id": "R9M4_-IaBOsn",
        "colab_type": "text"
      },
      "source": [
        "# Set seeds"
      ]
    },
    {
      "cell_type": "markdown",
      "metadata": {
        "id": "g8QvEt97vF52",
        "colab_type": "text"
      },
      "source": [
        "# Preprocess"
      ]
    },
    {
      "cell_type": "code",
      "metadata": {
        "colab_type": "code",
        "id": "XypdmBJROpp9",
        "outputId": "c18c4dab-f877-4d97-ada3-2f5ef638ef65",
        "colab": {
          "base_uri": "https://localhost:8080/",
          "height": 69
        }
      },
      "source": [
        "(x_train, y_train), (x_test, y_test) = cifar10.load_data()\n",
        "\n",
        "x_train = preprocess(x_train)\n",
        "x_test = preprocess(x_test)\n",
        "\n",
        "print('x_train shape:', x_train.shape)\n",
        "print(x_train.shape[0], 'train samples')\n",
        "print(x_test.shape[0], 'test samples')"
      ],
      "execution_count": 3,
      "outputs": [
        {
          "output_type": "stream",
          "text": [
            "x_train shape: (50000, 32, 32, 3)\n",
            "50000 train samples\n",
            "10000 test samples\n"
          ],
          "name": "stdout"
        }
      ]
    },
    {
      "cell_type": "code",
      "metadata": {
        "colab_type": "code",
        "id": "mo8yHyg-Opqo",
        "colab": {}
      },
      "source": [
        "# Convert class vectors to binary class matrices.\n",
        "y_trainc = keras.utils.to_categorical(y_train, NUM_CLASSES)\n",
        "y_testc = keras.utils.to_categorical(y_test, NUM_CLASSES)"
      ],
      "execution_count": 0,
      "outputs": []
    },
    {
      "cell_type": "code",
      "metadata": {
        "id": "a4SYRuKZaIwb",
        "colab_type": "code",
        "colab": {}
      },
      "source": [
        "x_train_full = x_train.astype('float32')\n",
        "x_test = x_test.astype('float32')\n",
        "x_train_full /= 255\n",
        "x_test /= 255"
      ],
      "execution_count": 0,
      "outputs": []
    },
    {
      "cell_type": "markdown",
      "metadata": {
        "id": "gIBGIrlkvOt0",
        "colab_type": "text"
      },
      "source": [
        "# Model"
      ]
    },
    {
      "cell_type": "code",
      "metadata": {
        "colab_type": "code",
        "id": "zLWph6_aOpr2",
        "colab": {}
      },
      "source": [
        "def MNISTmodel(imsize, num_classes, num_channels):\n",
        "    inputs = Input((imsize,imsize,num_channels))\n",
        "    x = Conv2D(filters = 32, kernel_size = (3,3), activation = 'relu', strides = 2)(inputs)\n",
        "    x = BatchNormalization()(x)\n",
        "    x = MaxPooling2D(pool_size = (2,2), strides=(2,2), padding = \"same\")(x)\n",
        "    x = Conv2D(filters=32, kernel_size=(1,1), activation='relu', padding='valid')(x)\n",
        "    x = Conv2D(filters = 10, kernel_size = (1,1),strides = (1,1), padding = 'valid')(x)\n",
        "    x = GlobalAveragePooling2D()(x)\n",
        "    outputs = Activation('softmax')(x)\n",
        "    \n",
        "    model = Model(inputs=inputs, outputs=outputs)\n",
        "    \n",
        "    optimizer = keras.optimizers.Adam(learning_rate = 1e-04)\n",
        "\n",
        "    model.compile(loss='categorical_crossentropy',\n",
        "                      optimizer=optimizer,\n",
        "                      metrics=['accuracy'])\n",
        "    return model"
      ],
      "execution_count": 0,
      "outputs": []
    },
    {
      "cell_type": "markdown",
      "metadata": {
        "id": "En8s8pDUP67N",
        "colab_type": "text"
      },
      "source": [
        "#Predict\n"
      ]
    },
    {
      "cell_type": "code",
      "metadata": {
        "id": "NLxVuqboP-cO",
        "colab_type": "code",
        "colab": {}
      },
      "source": [
        "def hard_voting(models, X):\n",
        "    predictions = []\n",
        "\n",
        "    for m in models:\n",
        "        predictions.append(np.argmax(m.predict(X), axis=1))\n",
        "\n",
        "    prediction = np.transpose(predictions)\n",
        "    prediction = np.apply_along_axis(lambda x: np.bincount(x).argmax(), axis=1, arr=prediction)\n",
        "\n",
        "    return prediction\n",
        "\n",
        "def soft_voting(models, X):\n",
        "    predictions = np.empty((len(X),0,NUM_CLASSES))\n",
        "\n",
        "    for m in models:\n",
        "        pred = np.expand_dims(m.predict(X), axis=1)\n",
        "        predictions = np.append(predictions, pred, axis=1)\n",
        "\n",
        "    predictions = np.apply_along_axis(np.transpose, axis=1, arr=predictions)\n",
        "    predictions = np.mean(predictions, axis=1)\n",
        "    prediction = np.argmax(predictions, axis=1)\n",
        "\n",
        "    return prediction\n",
        "\n",
        "def predict(models, X, Y,voting = 'hard'):\n",
        "    \n",
        "    if voting == \"soft\":\n",
        "      prediction = soft_voting(models, X)\n",
        "    elif voting == \"hard\":\n",
        "      prediction = hard_voting(models, X)\n",
        "    else:\n",
        "      raise ValueError(f\"Voting mechanism: {VOTING} not supported\")\n",
        "\n",
        "    return accuracy_score(prediction, np.argmax(Y, axis=1))"
      ],
      "execution_count": 0,
      "outputs": []
    },
    {
      "cell_type": "markdown",
      "metadata": {
        "id": "5MyRrQVaQR_H",
        "colab_type": "text"
      },
      "source": [
        "#Augmentation \n"
      ]
    },
    {
      "cell_type": "code",
      "metadata": {
        "id": "zGFhlwUcQXXL",
        "colab_type": "code",
        "colab": {}
      },
      "source": [
        "def rotate_image(image):\n",
        "    if np.random.rand() < 0.2:\n",
        "        angles = np.linspace(1,10,10)\n",
        "        rotation_angle = np.random.choice(angles)\n",
        "        if np.random.rand() < 0.5:\n",
        "            image = ndimage.rotate(image, rotation_angle, reshape = False)\n",
        "        else:\n",
        "            image = ndimage.rotate(image, -rotation_angle, reshape = False) \n",
        "    return image"
      ],
      "execution_count": 0,
      "outputs": []
    },
    {
      "cell_type": "code",
      "metadata": {
        "id": "SJO0YrV-QauF",
        "colab_type": "code",
        "colab": {}
      },
      "source": [
        "def horizontal_shift(image):\n",
        "    if np.random.rand() < 0.2:\n",
        "        num_rows, num_cols = image.shape[:2]\n",
        "        if np.random.rand() < 0.5:\n",
        "            translation_matrix = np.float32([ [1,0,3], [0,1,0] ])\n",
        "            image = cv2.warpAffine(image, translation_matrix, (num_cols, num_rows))\n",
        "            #image = image.reshape((IMAGE_SIZE,IMAGE_SIZE,1))\n",
        "        else:\n",
        "            translation_matrix = np.float32([ [1,0,-3], [0,1,0] ])\n",
        "            image = cv2.warpAffine(image, translation_matrix, (num_cols, num_rows))\n",
        "            #image = image.reshape((IMAGE_SIZE,IMAGE_SIZE,1))\n",
        "    return image"
      ],
      "execution_count": 0,
      "outputs": []
    },
    {
      "cell_type": "code",
      "metadata": {
        "id": "QcIcRAVcQdi9",
        "colab_type": "code",
        "colab": {}
      },
      "source": [
        "def vertical_shift(image):\n",
        "    if np.random.rand() < 0.2:\n",
        "        num_rows, num_cols = image.shape[:2]\n",
        "        if np.random.rand() < 0.5:\n",
        "            translation_matrix = np.float32([ [1,0,0], [0,1,2] ])\n",
        "            image = cv2.warpAffine(image, translation_matrix, (num_cols, num_rows))\n",
        "            #image = image.reshape((IMAGE_SIZE,IMAGE_SIZE,1))\n",
        "        else:\n",
        "            translation_matrix = np.float32([ [1,0,0], [0,1,-2] ])\n",
        "            image = cv2.warpAffine(image, translation_matrix, (num_cols, num_rows))\n",
        "            #image = image.reshape((IMAGE_SIZE,IMAGE_SIZE,1))\n",
        "    return image"
      ],
      "execution_count": 0,
      "outputs": []
    },
    {
      "cell_type": "code",
      "metadata": {
        "id": "ZbPg2kj4Qe77",
        "colab_type": "code",
        "colab": {}
      },
      "source": [
        "funcs = [rotate_image,\n",
        "         horizontal_shift, \n",
        "         vertical_shift]"
      ],
      "execution_count": 0,
      "outputs": []
    },
    {
      "cell_type": "code",
      "metadata": {
        "id": "jMClqrSCRERL",
        "colab_type": "code",
        "colab": {}
      },
      "source": [
        "augmentations = [\"rotation\", \"horizontal shifting\", \"vetical shifting\"]"
      ],
      "execution_count": 0,
      "outputs": []
    },
    {
      "cell_type": "markdown",
      "metadata": {
        "id": "TVqdcrD_vQ-Q",
        "colab_type": "text"
      },
      "source": [
        "# Train"
      ]
    },
    {
      "cell_type": "code",
      "metadata": {
        "colab_type": "code",
        "id": "HjvZqLBJOpsw",
        "outputId": "91eb5a28-7c42-4e8c-bf6a-6235d3a36ac2",
        "colab": {
          "base_uri": "https://localhost:8080/",
          "height": 1000
        }
      },
      "source": [
        "for run in range(1, NR_OF_RUNS+1):\n",
        "    # Split the data\n",
        "    x_train, x_val, y_train, y_val = train_test_split(x_train_full, y_trainc, test_size=0.20, shuffle= True)\n",
        "    \n",
        "    models = []\n",
        "    accuracies = []\n",
        "    predictions = []\n",
        "    for i in range(len(funcs)):\n",
        "        print(f\"\\n ===== Train model: Data augmentation method: {augmentations[i]}  =====\")\n",
        "        \n",
        "        # Set the seeds\n",
        "        np.random.seed(run*i)\n",
        "        tf.random.set_seed(run*i)\n",
        "\n",
        "        # Create directories\n",
        "        os.makedirs(PATH + MODEL_NAME + f\"/{run}/history\", exist_ok=True)\n",
        "        os.makedirs(PATH + MODEL_NAME + f\"/{run}/weights\", exist_ok=True)\n",
        "        \n",
        "        #data augmentation function\n",
        "        preprocessing_function = funcs[i]\n",
        "        #data augmentation generator\n",
        "        datagen = ImageDataGenerator(preprocessing_function=preprocessing_function)\n",
        "        datagen = datagen.flow(x_train,y_train, batch_size = BATCH_SIZE)\n",
        "        # weight init method\n",
        "        model = CIFARmodel(IMAGE_SIZE,NUM_CLASSES,NUM_CHANNELS)\n",
        "    \n",
        "        #save weights \n",
        "        weights_path = PATH + MODEL_NAME + f\"/{run}/weights/weights-{augmentations[i]}.h5\"\n",
        "            \n",
        "        #save weights \n",
        "        weights_path = PATH + MODEL_NAME + f\"/{run}/weights/weights-{augmentations[i]}.h5\"\n",
        "        if os.path.exists(weights_path):\n",
        "            print(f\"Skipping training of model {augmentations[i]}: weights exists\")\n",
        "            model.load_weights(weights_path)\n",
        "        else:\n",
        "            # initiate early stopping\n",
        "            es = EarlyStopping(min_delta=0.01, patience=3)\n",
        "            csv_logger = CSVLogger(PATH + MODEL_NAME + f\"/{run}/history/history-{augmentations[i]}.csv\", separator=';')\n",
        "            #train\n",
        "            model.fit_generator(datagen,\n",
        "                                epochs = EPOCHS,\n",
        "                                validation_data = (x_val,y_val),\n",
        "                                shuffle = True,\n",
        "                                callbacks=[es, csv_logger])\n",
        "            model.save_weights(weights_path)\n",
        "            \n",
        "        models.append(model)\n",
        "        y_prob = model.predict(x_test) \n",
        "        predictions.append(y_prob.argmax(axis=-1))\n",
        "        acc = model.evaluate(x_test,y_testc)[1]\n",
        "        accuracies.append(acc)\n",
        "\n",
        "        print(f\"Model: {augmentations[i]} added. Resulting score: {acc}\")\n",
        "\n",
        "    # Results  \n",
        "        \n",
        "    # Accuracy vs data augmentation method\n",
        "        \n",
        "    print(\"\\n ===== Accuracy vs weight init methods =====\")\n",
        "    accuracy_df = pd.DataFrame(accuracies, columns=[\"Accuracy\"])\n",
        "    accuracy_df[\"data_augmentaion_method\"] = augmentations\n",
        "    display(accuracy_df)\n",
        "    accuracy_df.to_csv(PATH + MODEL_NAME + f\"/{run}/accuracy.csv\")\n",
        "        \n",
        "    print(\"\\n ===== Converting Binary classification =====\")\n",
        "    classified = []\n",
        "    for prediction in tqdm(predictions):\n",
        "        classified.append([1 if i==j else 0 for i,j in zip(prediction,y_test)])\n",
        "        \n",
        "    ## Correlation between models\n",
        "    print(\"\\n ===== Correlation =====\")  \n",
        "    correlation_matrix = []\n",
        "\n",
        "    for ix, x in enumerate(classified):\n",
        "        row = []\n",
        "  \n",
        "        for iy, y in enumerate(classified):\n",
        "            if (ix == iy):\n",
        "                row.append(np.nan)\n",
        "            else:\n",
        "                row.append(pearsonr(x,y)[0])\n",
        "\n",
        "        correlation_matrix.append(row)\n",
        "\n",
        "    correlation_matrix = np.array(correlation_matrix)\n",
        "    correlation_matrix_df = pd.DataFrame(correlation_matrix)\n",
        "    correlation_matrix_df.columns = augmentations\n",
        "    correlation_matrix_df.index = augmentations\n",
        "    correlation_matrix_df.to_csv(PATH + MODEL_NAME + f\"/{run}/correlation_matrix.csv\")\n",
        "    display(correlation_matrix_df)\n",
        "    correlation = np.nanmean(correlation_matrix.flatten())\n",
        "    print(\"Average correlation: \" + str(correlation))\n",
        "    \n",
        "    \n",
        "    print(\"\\n ===== Computing ensemble accuracy =====\")  \n",
        "    # Ensemble accuracy\n",
        "    accuracy_hard = predict(models, x_test, y_testc,voting = 'hard')\n",
        "    print(\"Accuracy of ensemble using hard voting: \" + str(accuracy_hard))\n",
        "    accuracy_soft = predict(models, x_test, y_testc,voting = 'soft')\n",
        "    print(\"Accuracy of ensemble using soft voting: \" + str(accuracy_soft))\n",
        "    \n",
        "    \n",
        "    print(\"\\n ===== Computing ensemble accuracy =====\")  \n",
        "    # Save the results\n",
        "    file = PATH + MODEL_NAME + f\"/results_.csv\"\n",
        "    df = pd.DataFrame([[run,correlation,accuracy_hard,accuracy_soft]])\n",
        "\n",
        "    if not os.path.isfile(file):\n",
        "        df.to_csv(file, header=[\"run\", \"correlation\",\"accuracy_hard_voting\",\"accuracy_soft_voting\"], index=False)\n",
        "    else: # else it exists so append without writing the header\n",
        "        df.to_csv(file, mode='a', header=False, index=False)\n",
        "\n",
        "    clear_output(wait=True)"
      ],
      "execution_count": 14,
      "outputs": [
        {
          "output_type": "stream",
          "text": [
            "\n",
            " ===== Train model: Data augmentation method: rotation  =====\n",
            "Epoch 1/9999\n",
            "313/313 [==============================] - 13s 41ms/step - loss: 1.7234 - accuracy: 0.3964 - val_loss: 2.4444 - val_accuracy: 0.1351\n",
            "Epoch 2/9999\n",
            "313/313 [==============================] - 12s 38ms/step - loss: 1.3324 - accuracy: 0.5327 - val_loss: 1.6874 - val_accuracy: 0.4096\n",
            "Epoch 3/9999\n",
            "313/313 [==============================] - 12s 38ms/step - loss: 1.1738 - accuracy: 0.5900 - val_loss: 1.2279 - val_accuracy: 0.5591\n",
            "Epoch 4/9999\n",
            "313/313 [==============================] - 12s 38ms/step - loss: 1.0692 - accuracy: 0.6291 - val_loss: 1.2416 - val_accuracy: 0.5639\n",
            "Epoch 5/9999\n",
            "313/313 [==============================] - 12s 37ms/step - loss: 0.9874 - accuracy: 0.6585 - val_loss: 1.0791 - val_accuracy: 0.6161\n",
            "Epoch 6/9999\n",
            "313/313 [==============================] - 12s 37ms/step - loss: 0.9215 - accuracy: 0.6816 - val_loss: 1.0317 - val_accuracy: 0.6345\n",
            "Epoch 7/9999\n",
            "313/313 [==============================] - 12s 37ms/step - loss: 0.8602 - accuracy: 0.7029 - val_loss: 1.2187 - val_accuracy: 0.5727\n",
            "Epoch 8/9999\n",
            "313/313 [==============================] - 12s 38ms/step - loss: 0.8086 - accuracy: 0.7236 - val_loss: 1.0023 - val_accuracy: 0.6471\n",
            "Epoch 9/9999\n",
            "313/313 [==============================] - 12s 38ms/step - loss: 0.7612 - accuracy: 0.7397 - val_loss: 1.0186 - val_accuracy: 0.6421\n",
            "Epoch 10/9999\n",
            "313/313 [==============================] - 12s 38ms/step - loss: 0.7142 - accuracy: 0.7581 - val_loss: 1.0841 - val_accuracy: 0.6324\n",
            "Epoch 11/9999\n",
            "313/313 [==============================] - 12s 37ms/step - loss: 0.6700 - accuracy: 0.7754 - val_loss: 1.0615 - val_accuracy: 0.6378\n",
            "10000/10000 [==============================] - 2s 158us/step\n",
            "Model: rotation added. Resulting score: 0.6435999870300293\n",
            "\n",
            " ===== Train model: Data augmentation method: horizontal shifting  =====\n",
            "Epoch 1/9999\n",
            "313/313 [==============================] - 10s 32ms/step - loss: 1.7326 - accuracy: 0.3825 - val_loss: 2.1249 - val_accuracy: 0.2184\n",
            "Epoch 2/9999\n",
            "313/313 [==============================] - 9s 30ms/step - loss: 1.3533 - accuracy: 0.5204 - val_loss: 1.4279 - val_accuracy: 0.5052\n",
            "Epoch 3/9999\n",
            "313/313 [==============================] - 9s 30ms/step - loss: 1.2129 - accuracy: 0.5710 - val_loss: 1.2777 - val_accuracy: 0.5513\n",
            "Epoch 4/9999\n",
            "313/313 [==============================] - 9s 29ms/step - loss: 1.1079 - accuracy: 0.6093 - val_loss: 1.1560 - val_accuracy: 0.5872\n",
            "Epoch 5/9999\n",
            "313/313 [==============================] - 9s 30ms/step - loss: 1.0242 - accuracy: 0.6396 - val_loss: 1.0995 - val_accuracy: 0.6077\n",
            "Epoch 6/9999\n",
            "313/313 [==============================] - 9s 30ms/step - loss: 0.9642 - accuracy: 0.6621 - val_loss: 1.0485 - val_accuracy: 0.6269\n",
            "Epoch 7/9999\n",
            "313/313 [==============================] - 9s 30ms/step - loss: 0.9015 - accuracy: 0.6865 - val_loss: 1.0177 - val_accuracy: 0.6401\n",
            "Epoch 8/9999\n",
            "313/313 [==============================] - 9s 30ms/step - loss: 0.8580 - accuracy: 0.7026 - val_loss: 1.0285 - val_accuracy: 0.6321\n",
            "Epoch 9/9999\n",
            "313/313 [==============================] - 9s 30ms/step - loss: 0.8057 - accuracy: 0.7211 - val_loss: 0.9921 - val_accuracy: 0.6483\n",
            "Epoch 10/9999\n",
            "313/313 [==============================] - 9s 30ms/step - loss: 0.7646 - accuracy: 0.7370 - val_loss: 1.0031 - val_accuracy: 0.6507\n",
            "Epoch 11/9999\n",
            "313/313 [==============================] - 9s 30ms/step - loss: 0.7293 - accuracy: 0.7498 - val_loss: 1.0426 - val_accuracy: 0.6380\n",
            "Epoch 12/9999\n",
            "313/313 [==============================] - 9s 30ms/step - loss: 0.6932 - accuracy: 0.7617 - val_loss: 1.0519 - val_accuracy: 0.6350\n",
            "10000/10000 [==============================] - 2s 159us/step\n",
            "Model: horizontal shifting added. Resulting score: 0.6434999704360962\n",
            "\n",
            " ===== Train model: Data augmentation method: vetical shifting  =====\n",
            "Epoch 1/9999\n",
            "313/313 [==============================] - 10s 32ms/step - loss: 1.7329 - accuracy: 0.3888 - val_loss: 2.2340 - val_accuracy: 0.1505\n",
            "Epoch 2/9999\n",
            "313/313 [==============================] - 9s 30ms/step - loss: 1.3592 - accuracy: 0.5215 - val_loss: 1.4483 - val_accuracy: 0.5072\n",
            "Epoch 3/9999\n",
            "313/313 [==============================] - 9s 30ms/step - loss: 1.1938 - accuracy: 0.5836 - val_loss: 1.2855 - val_accuracy: 0.5419\n",
            "Epoch 4/9999\n",
            "313/313 [==============================] - 9s 30ms/step - loss: 1.0880 - accuracy: 0.6193 - val_loss: 1.1748 - val_accuracy: 0.5712\n",
            "Epoch 5/9999\n",
            "313/313 [==============================] - 9s 30ms/step - loss: 1.0031 - accuracy: 0.6518 - val_loss: 1.0912 - val_accuracy: 0.6129\n",
            "Epoch 6/9999\n",
            "313/313 [==============================] - 9s 30ms/step - loss: 0.9361 - accuracy: 0.6738 - val_loss: 1.0941 - val_accuracy: 0.6173\n",
            "Epoch 7/9999\n",
            "313/313 [==============================] - 9s 30ms/step - loss: 0.8774 - accuracy: 0.6989 - val_loss: 1.0110 - val_accuracy: 0.6448\n",
            "Epoch 8/9999\n",
            "313/313 [==============================] - 9s 30ms/step - loss: 0.8267 - accuracy: 0.7168 - val_loss: 0.9758 - val_accuracy: 0.6564\n",
            "Epoch 9/9999\n",
            "313/313 [==============================] - 9s 30ms/step - loss: 0.7784 - accuracy: 0.7341 - val_loss: 1.0148 - val_accuracy: 0.6485\n",
            "Epoch 10/9999\n",
            "313/313 [==============================] - 9s 30ms/step - loss: 0.7350 - accuracy: 0.7499 - val_loss: 1.0463 - val_accuracy: 0.6369\n",
            "Epoch 11/9999\n",
            "313/313 [==============================] - 9s 30ms/step - loss: 0.6917 - accuracy: 0.7662 - val_loss: 0.9456 - val_accuracy: 0.6659\n",
            "Epoch 12/9999\n",
            "313/313 [==============================] - 9s 30ms/step - loss: 0.6546 - accuracy: 0.7794 - val_loss: 0.9571 - val_accuracy: 0.6688\n",
            "Epoch 13/9999\n",
            "313/313 [==============================] - 9s 30ms/step - loss: 0.6181 - accuracy: 0.7931 - val_loss: 0.9992 - val_accuracy: 0.6603\n",
            "Epoch 14/9999\n",
            "313/313 [==============================] - 9s 30ms/step - loss: 0.5811 - accuracy: 0.8091 - val_loss: 0.9197 - val_accuracy: 0.6817\n",
            "Epoch 15/9999\n",
            "313/313 [==============================] - 9s 30ms/step - loss: 0.5510 - accuracy: 0.8174 - val_loss: 0.9269 - val_accuracy: 0.6832\n",
            "Epoch 16/9999\n",
            "313/313 [==============================] - 9s 30ms/step - loss: 0.5157 - accuracy: 0.8322 - val_loss: 0.9376 - val_accuracy: 0.6846\n",
            "Epoch 17/9999\n",
            "313/313 [==============================] - 9s 30ms/step - loss: 0.4842 - accuracy: 0.8427 - val_loss: 0.9318 - val_accuracy: 0.6867\n",
            "10000/10000 [==============================] - 2s 161us/step\n",
            "Model: vetical shifting added. Resulting score: 0.6800000071525574\n",
            "\n",
            " ===== Accuracy vs weight init methods =====\n"
          ],
          "name": "stdout"
        },
        {
          "output_type": "display_data",
          "data": {
            "text/html": [
              "<div>\n",
              "<style scoped>\n",
              "    .dataframe tbody tr th:only-of-type {\n",
              "        vertical-align: middle;\n",
              "    }\n",
              "\n",
              "    .dataframe tbody tr th {\n",
              "        vertical-align: top;\n",
              "    }\n",
              "\n",
              "    .dataframe thead th {\n",
              "        text-align: right;\n",
              "    }\n",
              "</style>\n",
              "<table border=\"1\" class=\"dataframe\">\n",
              "  <thead>\n",
              "    <tr style=\"text-align: right;\">\n",
              "      <th></th>\n",
              "      <th>Accuracy</th>\n",
              "      <th>data_augmentaion_method</th>\n",
              "    </tr>\n",
              "  </thead>\n",
              "  <tbody>\n",
              "    <tr>\n",
              "      <th>0</th>\n",
              "      <td>0.6436</td>\n",
              "      <td>rotation</td>\n",
              "    </tr>\n",
              "    <tr>\n",
              "      <th>1</th>\n",
              "      <td>0.6435</td>\n",
              "      <td>horizontal shifting</td>\n",
              "    </tr>\n",
              "    <tr>\n",
              "      <th>2</th>\n",
              "      <td>0.6800</td>\n",
              "      <td>vetical shifting</td>\n",
              "    </tr>\n",
              "  </tbody>\n",
              "</table>\n",
              "</div>"
            ],
            "text/plain": [
              "   Accuracy data_augmentaion_method\n",
              "0    0.6436                rotation\n",
              "1    0.6435     horizontal shifting\n",
              "2    0.6800        vetical shifting"
            ]
          },
          "metadata": {
            "tags": []
          }
        },
        {
          "output_type": "stream",
          "text": [
            "\n",
            " ===== Converting Binary classification ====="
          ],
          "name": "stdout"
        },
        {
          "output_type": "stream",
          "text": [
            "100%|██████████| 3/3 [00:00<00:00, 89.96it/s]"
          ],
          "name": "stderr"
        },
        {
          "output_type": "stream",
          "text": [
            "\n",
            "\n",
            " ===== Correlation =====\n"
          ],
          "name": "stdout"
        },
        {
          "output_type": "stream",
          "text": [
            "\n"
          ],
          "name": "stderr"
        },
        {
          "output_type": "display_data",
          "data": {
            "text/html": [
              "<div>\n",
              "<style scoped>\n",
              "    .dataframe tbody tr th:only-of-type {\n",
              "        vertical-align: middle;\n",
              "    }\n",
              "\n",
              "    .dataframe tbody tr th {\n",
              "        vertical-align: top;\n",
              "    }\n",
              "\n",
              "    .dataframe thead th {\n",
              "        text-align: right;\n",
              "    }\n",
              "</style>\n",
              "<table border=\"1\" class=\"dataframe\">\n",
              "  <thead>\n",
              "    <tr style=\"text-align: right;\">\n",
              "      <th></th>\n",
              "      <th>rotation</th>\n",
              "      <th>horizontal shifting</th>\n",
              "      <th>vetical shifting</th>\n",
              "    </tr>\n",
              "  </thead>\n",
              "  <tbody>\n",
              "    <tr>\n",
              "      <th>rotation</th>\n",
              "      <td>NaN</td>\n",
              "      <td>0.478407</td>\n",
              "      <td>0.475588</td>\n",
              "    </tr>\n",
              "    <tr>\n",
              "      <th>horizontal shifting</th>\n",
              "      <td>0.478407</td>\n",
              "      <td>NaN</td>\n",
              "      <td>0.444532</td>\n",
              "    </tr>\n",
              "    <tr>\n",
              "      <th>vetical shifting</th>\n",
              "      <td>0.475588</td>\n",
              "      <td>0.444532</td>\n",
              "      <td>NaN</td>\n",
              "    </tr>\n",
              "  </tbody>\n",
              "</table>\n",
              "</div>"
            ],
            "text/plain": [
              "                     rotation  horizontal shifting  vetical shifting\n",
              "rotation                  NaN             0.478407          0.475588\n",
              "horizontal shifting  0.478407                  NaN          0.444532\n",
              "vetical shifting     0.475588             0.444532               NaN"
            ]
          },
          "metadata": {
            "tags": []
          }
        },
        {
          "output_type": "stream",
          "text": [
            "Average correlation: 0.4661756931452934\n",
            "\n",
            " ===== Computing ensemble accuracy =====\n",
            "Accuracy of ensemble using hard voting: 0.698\n",
            "Accuracy of ensemble using soft voting: 0.7088\n",
            "\n",
            " ===== Computing ensemble accuracy =====\n"
          ],
          "name": "stdout"
        }
      ]
    },
    {
      "cell_type": "markdown",
      "metadata": {
        "id": "fGT6jV-hcLbJ",
        "colab_type": "text"
      },
      "source": [
        "# Results"
      ]
    },
    {
      "cell_type": "code",
      "metadata": {
        "id": "3ZvQRiBBvl5W",
        "colab_type": "code",
        "colab": {}
      },
      "source": [
        "from scipy import stats"
      ],
      "execution_count": 0,
      "outputs": []
    },
    {
      "cell_type": "code",
      "metadata": {
        "id": "UbSRKks5vmhD",
        "colab_type": "code",
        "colab": {}
      },
      "source": [
        "baseline = [0.6636000276,\n",
        "            0.6371999979,\n",
        "            0.6478999853,\n",
        "            0.6585999727,\n",
        "            0.6401000023,\n",
        "            0.619599998,\n",
        "            0.679099977,\n",
        "            0.6636000276,\n",
        "            0.6561999917,\n",
        "            0.6692000031]"
      ],
      "execution_count": 0,
      "outputs": []
    },
    {
      "cell_type": "code",
      "metadata": {
        "id": "5Ozg6pK4v1Yx",
        "colab_type": "code",
        "colab": {
          "base_uri": "https://localhost:8080/",
          "height": 191
        },
        "outputId": "009a6057-16ca-4368-d232-c63ab91cf3e8"
      },
      "source": [
        "augmented = pd.read_csv(\"/content/CIFAR_data_augmentation/results_.csv\")\n",
        "augmented = augmented.values\n",
        "augmented"
      ],
      "execution_count": 37,
      "outputs": [
        {
          "output_type": "execute_result",
          "data": {
            "text/plain": [
              "array([[ 1.        ,  0.46764748,  0.6991    ,  0.7089    ],\n",
              "       [ 2.        ,  0.48367173,  0.7005    ,  0.7198    ],\n",
              "       [ 3.        ,  0.49942668,  0.7085    ,  0.7181    ],\n",
              "       [ 4.        ,  0.4463676 ,  0.6859    ,  0.7021    ],\n",
              "       [ 5.        ,  0.5137241 ,  0.6936    ,  0.7162    ],\n",
              "       [ 6.        ,  0.47631682,  0.7102    ,  0.7285    ],\n",
              "       [ 7.        ,  0.47590558,  0.6825    ,  0.7048    ],\n",
              "       [ 8.        ,  0.49856153,  0.6918    ,  0.7101    ],\n",
              "       [ 9.        ,  0.48980765,  0.7004    ,  0.7148    ],\n",
              "       [10.        ,  0.46617569,  0.698     ,  0.7088    ]])"
            ]
          },
          "metadata": {
            "tags": []
          },
          "execution_count": 37
        }
      ]
    },
    {
      "cell_type": "code",
      "metadata": {
        "id": "2GYweHYDwdVZ",
        "colab_type": "code",
        "colab": {}
      },
      "source": [
        "augmented_hard = augmented[:,2]\n",
        "augmented_soft = augmented[:,3]"
      ],
      "execution_count": 0,
      "outputs": []
    },
    {
      "cell_type": "code",
      "metadata": {
        "id": "0ydHmwge0Dck",
        "colab_type": "code",
        "colab": {
          "base_uri": "https://localhost:8080/",
          "height": 34
        },
        "outputId": "8d971b9b-b6db-459c-e44d-d482592acab8"
      },
      "source": [
        "np.mean(augmented_hard)"
      ],
      "execution_count": 46,
      "outputs": [
        {
          "output_type": "execute_result",
          "data": {
            "text/plain": [
              "0.69705"
            ]
          },
          "metadata": {
            "tags": []
          },
          "execution_count": 46
        }
      ]
    },
    {
      "cell_type": "code",
      "metadata": {
        "id": "X7wlD6720GYj",
        "colab_type": "code",
        "colab": {
          "base_uri": "https://localhost:8080/",
          "height": 34
        },
        "outputId": "4c58d6f0-7ab1-4167-8b99-4f906e6f9fa5"
      },
      "source": [
        "np.mean(augmented_soft)"
      ],
      "execution_count": 47,
      "outputs": [
        {
          "output_type": "execute_result",
          "data": {
            "text/plain": [
              "0.71321"
            ]
          },
          "metadata": {
            "tags": []
          },
          "execution_count": 47
        }
      ]
    },
    {
      "cell_type": "code",
      "metadata": {
        "id": "iQxqLwhWwshl",
        "colab_type": "code",
        "colab": {
          "base_uri": "https://localhost:8080/",
          "height": 34
        },
        "outputId": "e9f22e88-b954-4ce6-8c05-f53da9e039b1"
      },
      "source": [
        "stats.ttest_rel(augmented_hard,baseline)"
      ],
      "execution_count": 40,
      "outputs": [
        {
          "output_type": "execute_result",
          "data": {
            "text/plain": [
              "Ttest_relResult(statistic=5.62726513932962, pvalue=0.0003228232881827489)"
            ]
          },
          "metadata": {
            "tags": []
          },
          "execution_count": 40
        }
      ]
    },
    {
      "cell_type": "code",
      "metadata": {
        "id": "350YGCOhxbho",
        "colab_type": "code",
        "colab": {
          "base_uri": "https://localhost:8080/",
          "height": 34
        },
        "outputId": "6587df5f-e4b8-41fc-a2f3-27d093bb9d25"
      },
      "source": [
        "stats.ttest_rel(augmented_soft,baseline)"
      ],
      "execution_count": 41,
      "outputs": [
        {
          "output_type": "execute_result",
          "data": {
            "text/plain": [
              "Ttest_relResult(statistic=7.616437680629082, pvalue=3.270392678603264e-05)"
            ]
          },
          "metadata": {
            "tags": []
          },
          "execution_count": 41
        }
      ]
    },
    {
      "cell_type": "markdown",
      "metadata": {
        "id": "51rnX_l7Pfdr",
        "colab_type": "text"
      },
      "source": [
        "## Accuracy\n",
        "The final accuracy of the ensamble on the test set"
      ]
    },
    {
      "cell_type": "code",
      "metadata": {
        "id": "GwNmmvSFPlVx",
        "colab_type": "code",
        "outputId": "c2c2e669-9d53-4c01-92c7-a4fce44e02ff",
        "colab": {
          "base_uri": "https://localhost:8080/",
          "height": 1000
        }
      },
      "source": [
        "!zip -r /content/CIFAR_data_augmentation.zip /content/CIFAR_data_augmentation"
      ],
      "execution_count": 49,
      "outputs": [
        {
          "output_type": "stream",
          "text": [
            "  adding: content/CIFAR_data_augmentation/ (stored 0%)\n",
            "  adding: content/CIFAR_data_augmentation/9/ (stored 0%)\n",
            "  adding: content/CIFAR_data_augmentation/9/correlation_matrix.csv (deflated 50%)\n",
            "  adding: content/CIFAR_data_augmentation/9/accuracy.csv (deflated 20%)\n",
            "  adding: content/CIFAR_data_augmentation/9/weights/ (stored 0%)\n",
            "  adding: content/CIFAR_data_augmentation/9/weights/weights-vetical shifting.h5 (deflated 10%)\n",
            "  adding: content/CIFAR_data_augmentation/9/weights/weights-horizontal shifting.h5 (deflated 10%)\n",
            "  adding: content/CIFAR_data_augmentation/9/weights/weights-rotation.h5 (deflated 10%)\n",
            "  adding: content/CIFAR_data_augmentation/9/history/ (stored 0%)\n",
            "  adding: content/CIFAR_data_augmentation/9/history/history-vetical shifting.csv (deflated 48%)\n",
            "  adding: content/CIFAR_data_augmentation/9/history/history-horizontal shifting.csv (deflated 49%)\n",
            "  adding: content/CIFAR_data_augmentation/9/history/history-rotation.csv (deflated 49%)\n",
            "  adding: content/CIFAR_data_augmentation/7/ (stored 0%)\n",
            "  adding: content/CIFAR_data_augmentation/7/correlation_matrix.csv (deflated 50%)\n",
            "  adding: content/CIFAR_data_augmentation/7/accuracy.csv (deflated 18%)\n",
            "  adding: content/CIFAR_data_augmentation/7/weights/ (stored 0%)\n",
            "  adding: content/CIFAR_data_augmentation/7/weights/weights-vetical shifting.h5 (deflated 10%)\n",
            "  adding: content/CIFAR_data_augmentation/7/weights/weights-horizontal shifting.h5 (deflated 10%)\n",
            "  adding: content/CIFAR_data_augmentation/7/weights/weights-rotation.h5 (deflated 10%)\n",
            "  adding: content/CIFAR_data_augmentation/7/history/ (stored 0%)\n",
            "  adding: content/CIFAR_data_augmentation/7/history/history-vetical shifting.csv (deflated 48%)\n",
            "  adding: content/CIFAR_data_augmentation/7/history/history-horizontal shifting.csv (deflated 44%)\n",
            "  adding: content/CIFAR_data_augmentation/7/history/history-rotation.csv (deflated 49%)\n",
            "  adding: content/CIFAR_data_augmentation/8/ (stored 0%)\n",
            "  adding: content/CIFAR_data_augmentation/8/correlation_matrix.csv (deflated 50%)\n",
            "  adding: content/CIFAR_data_augmentation/8/accuracy.csv (deflated 17%)\n",
            "  adding: content/CIFAR_data_augmentation/8/weights/ (stored 0%)\n",
            "  adding: content/CIFAR_data_augmentation/8/weights/weights-vetical shifting.h5 (deflated 10%)\n",
            "  adding: content/CIFAR_data_augmentation/8/weights/weights-horizontal shifting.h5 (deflated 10%)\n",
            "  adding: content/CIFAR_data_augmentation/8/weights/weights-rotation.h5 (deflated 10%)\n",
            "  adding: content/CIFAR_data_augmentation/8/history/ (stored 0%)\n",
            "  adding: content/CIFAR_data_augmentation/8/history/history-vetical shifting.csv (deflated 48%)\n",
            "  adding: content/CIFAR_data_augmentation/8/history/history-horizontal shifting.csv (deflated 48%)\n",
            "  adding: content/CIFAR_data_augmentation/8/history/history-rotation.csv (deflated 48%)\n",
            "  adding: content/CIFAR_data_augmentation/2/ (stored 0%)\n",
            "  adding: content/CIFAR_data_augmentation/2/correlation_matrix.csv (deflated 50%)\n",
            "  adding: content/CIFAR_data_augmentation/2/accuracy.csv (deflated 19%)\n",
            "  adding: content/CIFAR_data_augmentation/2/weights/ (stored 0%)\n",
            "  adding: content/CIFAR_data_augmentation/2/weights/weights-vetical shifting.h5 (deflated 10%)\n",
            "  adding: content/CIFAR_data_augmentation/2/weights/weights-horizontal shifting.h5 (deflated 10%)\n",
            "  adding: content/CIFAR_data_augmentation/2/weights/weights-rotation.h5 (deflated 10%)\n",
            "  adding: content/CIFAR_data_augmentation/2/history/ (stored 0%)\n",
            "  adding: content/CIFAR_data_augmentation/2/history/history-vetical shifting.csv (deflated 49%)\n",
            "  adding: content/CIFAR_data_augmentation/2/history/history-horizontal shifting.csv (deflated 48%)\n",
            "  adding: content/CIFAR_data_augmentation/2/history/history-rotation.csv (deflated 49%)\n",
            "  adding: content/CIFAR_data_augmentation/10/ (stored 0%)\n",
            "  adding: content/CIFAR_data_augmentation/10/correlation_matrix.csv (deflated 50%)\n",
            "  adding: content/CIFAR_data_augmentation/10/accuracy.csv (deflated 20%)\n",
            "  adding: content/CIFAR_data_augmentation/10/weights/ (stored 0%)\n",
            "  adding: content/CIFAR_data_augmentation/10/weights/weights-vetical shifting.h5 (deflated 10%)\n",
            "  adding: content/CIFAR_data_augmentation/10/weights/weights-horizontal shifting.h5 (deflated 10%)\n",
            "  adding: content/CIFAR_data_augmentation/10/weights/weights-rotation.h5 (deflated 10%)\n",
            "  adding: content/CIFAR_data_augmentation/10/history/ (stored 0%)\n",
            "  adding: content/CIFAR_data_augmentation/10/history/history-vetical shifting.csv (deflated 49%)\n",
            "  adding: content/CIFAR_data_augmentation/10/history/history-horizontal shifting.csv (deflated 48%)\n",
            "  adding: content/CIFAR_data_augmentation/10/history/history-rotation.csv (deflated 47%)\n",
            "  adding: content/CIFAR_data_augmentation/5/ (stored 0%)\n",
            "  adding: content/CIFAR_data_augmentation/5/correlation_matrix.csv (deflated 50%)\n",
            "  adding: content/CIFAR_data_augmentation/5/accuracy.csv (deflated 21%)\n",
            "  adding: content/CIFAR_data_augmentation/5/weights/ (stored 0%)\n",
            "  adding: content/CIFAR_data_augmentation/5/weights/weights-vetical shifting.h5 (deflated 10%)\n",
            "  adding: content/CIFAR_data_augmentation/5/weights/weights-horizontal shifting.h5 (deflated 10%)\n",
            "  adding: content/CIFAR_data_augmentation/5/weights/weights-rotation.h5 (deflated 10%)\n",
            "  adding: content/CIFAR_data_augmentation/5/history/ (stored 0%)\n",
            "  adding: content/CIFAR_data_augmentation/5/history/history-vetical shifting.csv (deflated 49%)\n",
            "  adding: content/CIFAR_data_augmentation/5/history/history-horizontal shifting.csv (deflated 49%)\n",
            "  adding: content/CIFAR_data_augmentation/5/history/history-rotation.csv (deflated 48%)\n",
            "  adding: content/CIFAR_data_augmentation/6/ (stored 0%)\n",
            "  adding: content/CIFAR_data_augmentation/6/correlation_matrix.csv (deflated 50%)\n",
            "  adding: content/CIFAR_data_augmentation/6/accuracy.csv (deflated 20%)\n",
            "  adding: content/CIFAR_data_augmentation/6/weights/ (stored 0%)\n",
            "  adding: content/CIFAR_data_augmentation/6/weights/weights-vetical shifting.h5 (deflated 10%)\n",
            "  adding: content/CIFAR_data_augmentation/6/weights/weights-horizontal shifting.h5 (deflated 10%)\n",
            "  adding: content/CIFAR_data_augmentation/6/weights/weights-rotation.h5 (deflated 10%)\n",
            "  adding: content/CIFAR_data_augmentation/6/history/ (stored 0%)\n",
            "  adding: content/CIFAR_data_augmentation/6/history/history-vetical shifting.csv (deflated 48%)\n",
            "  adding: content/CIFAR_data_augmentation/6/history/history-horizontal shifting.csv (deflated 49%)\n",
            "  adding: content/CIFAR_data_augmentation/6/history/history-rotation.csv (deflated 49%)\n",
            "  adding: content/CIFAR_data_augmentation/.ipynb_checkpoints/ (stored 0%)\n",
            "  adding: content/CIFAR_data_augmentation/results_.csv (deflated 47%)\n",
            "  adding: content/CIFAR_data_augmentation/4/ (stored 0%)\n",
            "  adding: content/CIFAR_data_augmentation/4/correlation_matrix.csv (deflated 50%)\n",
            "  adding: content/CIFAR_data_augmentation/4/accuracy.csv (deflated 18%)\n",
            "  adding: content/CIFAR_data_augmentation/4/weights/ (stored 0%)\n",
            "  adding: content/CIFAR_data_augmentation/4/weights/weights-vetical shifting.h5 (deflated 10%)\n",
            "  adding: content/CIFAR_data_augmentation/4/weights/weights-horizontal shifting.h5 (deflated 10%)\n",
            "  adding: content/CIFAR_data_augmentation/4/weights/weights-rotation.h5 (deflated 10%)\n",
            "  adding: content/CIFAR_data_augmentation/4/history/ (stored 0%)\n",
            "  adding: content/CIFAR_data_augmentation/4/history/history-vetical shifting.csv (deflated 45%)\n",
            "  adding: content/CIFAR_data_augmentation/4/history/history-horizontal shifting.csv (deflated 48%)\n",
            "  adding: content/CIFAR_data_augmentation/4/history/history-rotation.csv (deflated 47%)\n",
            "  adding: content/CIFAR_data_augmentation/1/ (stored 0%)\n",
            "  adding: content/CIFAR_data_augmentation/1/correlation_matrix.csv (deflated 50%)\n",
            "  adding: content/CIFAR_data_augmentation/1/accuracy.csv (deflated 20%)\n",
            "  adding: content/CIFAR_data_augmentation/1/weights/ (stored 0%)\n",
            "  adding: content/CIFAR_data_augmentation/1/weights/weights-vetical shifting.h5 (deflated 10%)\n",
            "  adding: content/CIFAR_data_augmentation/1/weights/weights-horizontal shifting.h5 (deflated 10%)\n",
            "  adding: content/CIFAR_data_augmentation/1/weights/weights-rotation.h5 (deflated 10%)\n",
            "  adding: content/CIFAR_data_augmentation/1/history/ (stored 0%)\n",
            "  adding: content/CIFAR_data_augmentation/1/history/history-vetical shifting.csv (deflated 48%)\n",
            "  adding: content/CIFAR_data_augmentation/1/history/history-horizontal shifting.csv (deflated 48%)\n",
            "  adding: content/CIFAR_data_augmentation/1/history/history-rotation.csv (deflated 49%)\n",
            "  adding: content/CIFAR_data_augmentation/3/ (stored 0%)\n",
            "  adding: content/CIFAR_data_augmentation/3/correlation_matrix.csv (deflated 50%)\n",
            "  adding: content/CIFAR_data_augmentation/3/accuracy.csv (deflated 19%)\n",
            "  adding: content/CIFAR_data_augmentation/3/weights/ (stored 0%)\n",
            "  adding: content/CIFAR_data_augmentation/3/weights/weights-vetical shifting.h5 (deflated 10%)\n",
            "  adding: content/CIFAR_data_augmentation/3/weights/weights-horizontal shifting.h5 (deflated 10%)\n",
            "  adding: content/CIFAR_data_augmentation/3/weights/weights-rotation.h5 (deflated 10%)\n",
            "  adding: content/CIFAR_data_augmentation/3/history/ (stored 0%)\n",
            "  adding: content/CIFAR_data_augmentation/3/history/history-vetical shifting.csv (deflated 48%)\n",
            "  adding: content/CIFAR_data_augmentation/3/history/history-horizontal shifting.csv (deflated 49%)\n",
            "  adding: content/CIFAR_data_augmentation/3/history/history-rotation.csv (deflated 48%)\n",
            "  adding: content/CIFAR_data_augmentation/3/history/.ipynb_checkpoints/ (stored 0%)\n"
          ],
          "name": "stdout"
        }
      ]
    }
  ]
}