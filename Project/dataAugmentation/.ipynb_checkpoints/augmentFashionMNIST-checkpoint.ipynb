{
 "cells": [
  {
   "cell_type": "code",
   "execution_count": 0,
   "metadata": {
    "colab": {},
    "colab_type": "code",
    "id": "fde69AMuOpox"
   },
   "outputs": [],
   "source": [
    "import keras\n",
    "import cv2\n",
    "import os\n",
    "import numpy as np\n",
    "import pandas as pd\n",
    "import tensorflow as tf\n",
    "from itertools import count\n",
    "from sklearn.metrics import accuracy_score\n",
    "from keras.datasets import fashion_mnist,mnist\n",
    "from keras.applications.vgg16 import VGG16\n",
    "from keras.layers import Dense, Dropout, Flatten, Activation, Input, Conv2D, MaxPooling2D, BatchNormalization, GlobalAveragePooling2D\n",
    "from sklearn.model_selection import train_test_split\n",
    "from keras.models import Model\n",
    "from keras.callbacks import EarlyStopping, CSVLogger\n",
    "from keras.preprocessing.image import ImageDataGenerator\n",
    "from scipy.stats import pearsonr\n",
    "from tqdm import tqdm\n",
    "from scipy import ndimage\n",
    "from IPython.display import clear_output"
   ]
  },
  {
   "cell_type": "code",
   "execution_count": 0,
   "metadata": {
    "colab": {},
    "colab_type": "code",
    "id": "qYrab7qpOppj"
   },
   "outputs": [],
   "source": [
    "BATCH_SIZE = 128\n",
    "EPOCHS = 9999\n",
    "IMAGE_SIZE = 28\n",
    "NUM_CLASSES = 10\n",
    "NUM_CHANNELS = 1\n",
    "MODEL_NAME = \"MNIST_data_augmentation\"\n",
    "PATH = \"\"\n",
    "NR_OF_RUNS = 10"
   ]
  },
  {
   "cell_type": "markdown",
   "metadata": {
    "colab_type": "text",
    "id": "g8QvEt97vF52"
   },
   "source": [
    "# Preprocess"
   ]
  },
  {
   "cell_type": "code",
   "execution_count": 0,
   "metadata": {
    "colab": {},
    "colab_type": "code",
    "id": "O-Ohz27-3QY0"
   },
   "outputs": [],
   "source": [
    "def preprocess(imgs):\n",
    "    return imgs.reshape(imgs.shape[0], IMAGE_SIZE, IMAGE_SIZE, 1)"
   ]
  },
  {
   "cell_type": "code",
   "execution_count": 60,
   "metadata": {
    "colab": {
     "base_uri": "https://localhost:8080/",
     "height": 208
    },
    "colab_type": "code",
    "id": "XypdmBJROpp9",
    "outputId": "242ea239-7b3c-49da-949b-0da5aadef4a8"
   },
   "outputs": [
    {
     "name": "stdout",
     "output_type": "stream",
     "text": [
      "Downloading data from http://fashion-mnist.s3-website.eu-central-1.amazonaws.com/train-labels-idx1-ubyte.gz\n",
      "32768/29515 [=================================] - 0s 8us/step\n",
      "Downloading data from http://fashion-mnist.s3-website.eu-central-1.amazonaws.com/train-images-idx3-ubyte.gz\n",
      "26427392/26421880 [==============================] - 4s 0us/step\n",
      "Downloading data from http://fashion-mnist.s3-website.eu-central-1.amazonaws.com/t10k-labels-idx1-ubyte.gz\n",
      "8192/5148 [===============================================] - 0s 0us/step\n",
      "Downloading data from http://fashion-mnist.s3-website.eu-central-1.amazonaws.com/t10k-images-idx3-ubyte.gz\n",
      "4423680/4422102 [==============================] - 2s 0us/step\n",
      "x_train shape: (60000, 28, 28, 1)\n",
      "60000 train samples\n",
      "10000 test samples\n"
     ]
    }
   ],
   "source": [
    "(x_train, y_train), (x_test, y_test) = fashion_mnist.load_data()\n",
    "\n",
    "x_train = preprocess(x_train)\n",
    "x_test = preprocess(x_test)\n",
    "\n",
    "print('x_train shape:', x_train.shape)\n",
    "print(x_train.shape[0], 'train samples')\n",
    "print(x_test.shape[0], 'test samples')"
   ]
  },
  {
   "cell_type": "code",
   "execution_count": 0,
   "metadata": {
    "colab": {},
    "colab_type": "code",
    "id": "mo8yHyg-Opqo"
   },
   "outputs": [],
   "source": [
    "# Convert class vectors to binary class matrices.\n",
    "y_trainc = keras.utils.to_categorical(y_train, NUM_CLASSES)\n",
    "y_testc = keras.utils.to_categorical(y_test, NUM_CLASSES)"
   ]
  },
  {
   "cell_type": "code",
   "execution_count": 0,
   "metadata": {
    "colab": {},
    "colab_type": "code",
    "id": "a4SYRuKZaIwb"
   },
   "outputs": [],
   "source": [
    "x_train_full = x_train.astype('float32')\n",
    "x_test = x_test.astype('float32')\n",
    "x_train_full /= 255\n",
    "x_test /= 255"
   ]
  },
  {
   "cell_type": "markdown",
   "metadata": {
    "colab_type": "text",
    "id": "gIBGIrlkvOt0"
   },
   "source": [
    "# Model"
   ]
  },
  {
   "cell_type": "code",
   "execution_count": 0,
   "metadata": {
    "colab": {},
    "colab_type": "code",
    "id": "zLWph6_aOpr2"
   },
   "outputs": [],
   "source": [
    "def FashionMNISTmodel(imsize, num_classes, num_channels):\n",
    "    inputs = Input((imsize,imsize,num_channels))\n",
    "    x = Conv2D(filters = 32, kernel_size = (3,3), activation = 'relu', strides = 2)(inputs)\n",
    "    x = BatchNormalization()(x)\n",
    "    x = MaxPooling2D(pool_size = (2,2), strides=(2,2), padding = \"same\")(x)\n",
    "    x = Conv2D(filters=32, kernel_size=(1,1), activation='relu', padding='valid')(x)\n",
    "    x = Conv2D(filters = 10, kernel_size = (1,1),strides = (1,1), padding = 'valid')(x)\n",
    "    x = GlobalAveragePooling2D()(x)\n",
    "    outputs = Activation('softmax')(x)\n",
    "    \n",
    "    model = Model(inputs=inputs, outputs=outputs)\n",
    "    \n",
    "    optimizer = keras.optimizers.Adam(learning_rate = 1e-04)\n",
    "\n",
    "    model.compile(loss='categorical_crossentropy',\n",
    "                      optimizer=optimizer,\n",
    "                      metrics=['accuracy'])\n",
    "    return model"
   ]
  },
  {
   "cell_type": "markdown",
   "metadata": {
    "colab_type": "text",
    "id": "En8s8pDUP67N"
   },
   "source": [
    "#Predict\n"
   ]
  },
  {
   "cell_type": "code",
   "execution_count": 0,
   "metadata": {
    "colab": {},
    "colab_type": "code",
    "id": "NLxVuqboP-cO"
   },
   "outputs": [],
   "source": [
    "def hard_voting(models, X):\n",
    "    predictions = []\n",
    "\n",
    "    for m in models:\n",
    "        predictions.append(np.argmax(m.predict(X), axis=1))\n",
    "\n",
    "    prediction = np.transpose(predictions)\n",
    "    prediction = np.apply_along_axis(lambda x: np.bincount(x).argmax(), axis=1, arr=prediction)\n",
    "\n",
    "    return prediction\n",
    "\n",
    "def soft_voting(models, X):\n",
    "    predictions = np.empty((len(X),0,NUM_CLASSES))\n",
    "\n",
    "    for m in models:\n",
    "        pred = np.expand_dims(m.predict(X), axis=1)\n",
    "        predictions = np.append(predictions, pred, axis=1)\n",
    "\n",
    "    predictions = np.apply_along_axis(np.transpose, axis=1, arr=predictions)\n",
    "    predictions = np.mean(predictions, axis=1)\n",
    "    prediction = np.argmax(predictions, axis=1)\n",
    "\n",
    "    return prediction\n",
    "\n",
    "def predict(models, X, Y,voting = 'hard'):\n",
    "    \n",
    "    if voting == \"soft\":\n",
    "      prediction = soft_voting(models, X)\n",
    "    elif voting == \"hard\":\n",
    "      prediction = hard_voting(models, X)\n",
    "    else:\n",
    "      raise ValueError(f\"Voting mechanism: {VOTING} not supported\")\n",
    "\n",
    "    return accuracy_score(prediction, np.argmax(Y, axis=1))"
   ]
  },
  {
   "cell_type": "markdown",
   "metadata": {
    "colab_type": "text",
    "id": "5MyRrQVaQR_H"
   },
   "source": [
    "#Augmentation \n"
   ]
  },
  {
   "cell_type": "code",
   "execution_count": 0,
   "metadata": {
    "colab": {},
    "colab_type": "code",
    "id": "zGFhlwUcQXXL"
   },
   "outputs": [],
   "source": [
    "def rotate_image(image):\n",
    "    if np.random.rand() < 0.2:\n",
    "        angles = np.linspace(1,10,10)\n",
    "        rotation_angle = np.random.choice(angles)\n",
    "        if np.random.rand() < 0.5:\n",
    "            image = ndimage.rotate(image, rotation_angle, reshape = False)\n",
    "        else:\n",
    "            image = ndimage.rotate(image, -rotation_angle, reshape = False) \n",
    "    return image"
   ]
  },
  {
   "cell_type": "code",
   "execution_count": 0,
   "metadata": {
    "colab": {},
    "colab_type": "code",
    "id": "SJO0YrV-QauF"
   },
   "outputs": [],
   "source": [
    "def horizontal_shift(image):\n",
    "    if np.random.rand() < 0.2:\n",
    "        num_rows, num_cols = image.shape[:2]\n",
    "        if np.random.rand() < 0.5:\n",
    "            translation_matrix = np.float32([ [1,0,3], [0,1,0] ])\n",
    "            image = cv2.warpAffine(image, translation_matrix, (num_cols, num_rows))\n",
    "            image = image.reshape((IMAGE_SIZE,IMAGE_SIZE,1))\n",
    "        else:\n",
    "            translation_matrix = np.float32([ [1,0,-3], [0,1,0] ])\n",
    "            image = cv2.warpAffine(image, translation_matrix, (num_cols, num_rows))\n",
    "            image = image.reshape((IMAGE_SIZE,IMAGE_SIZE,1))\n",
    "    return image"
   ]
  },
  {
   "cell_type": "code",
   "execution_count": 0,
   "metadata": {
    "colab": {},
    "colab_type": "code",
    "id": "QcIcRAVcQdi9"
   },
   "outputs": [],
   "source": [
    "def vertical_shift(image):\n",
    "    if np.random.rand() < 0.2:\n",
    "        num_rows, num_cols = image.shape[:2]\n",
    "        if np.random.rand() < 0.5:\n",
    "            translation_matrix = np.float32([ [1,0,0], [0,1,2] ])\n",
    "            image = cv2.warpAffine(image, translation_matrix, (num_cols, num_rows))\n",
    "            image = image.reshape((IMAGE_SIZE,IMAGE_SIZE,1))\n",
    "        else:\n",
    "            translation_matrix = np.float32([ [1,0,0], [0,1,-2] ])\n",
    "            image = cv2.warpAffine(image, translation_matrix, (num_cols, num_rows))\n",
    "            image = image.reshape((IMAGE_SIZE,IMAGE_SIZE,1))\n",
    "    return image"
   ]
  },
  {
   "cell_type": "code",
   "execution_count": 0,
   "metadata": {
    "colab": {},
    "colab_type": "code",
    "id": "ZbPg2kj4Qe77"
   },
   "outputs": [],
   "source": [
    "funcs = [rotate_image,\n",
    "         horizontal_shift, \n",
    "         vertical_shift]"
   ]
  },
  {
   "cell_type": "code",
   "execution_count": 0,
   "metadata": {
    "colab": {},
    "colab_type": "code",
    "id": "jMClqrSCRERL"
   },
   "outputs": [],
   "source": [
    "augmentations = [\"rotation\", \"horizontal shifting\", \"vertical shifting\"]"
   ]
  },
  {
   "cell_type": "markdown",
   "metadata": {
    "colab_type": "text",
    "id": "TVqdcrD_vQ-Q"
   },
   "source": [
    "# Train"
   ]
  },
  {
   "cell_type": "code",
   "execution_count": 64,
   "metadata": {
    "colab": {
     "base_uri": "https://localhost:8080/",
     "height": 1000
    },
    "colab_type": "code",
    "id": "HjvZqLBJOpsw",
    "outputId": "948f3520-5aa3-4b37-efca-2acb50e73d9b"
   },
   "outputs": [
    {
     "name": "stdout",
     "output_type": "stream",
     "text": [
      "\n",
      " ===== Train model: Data augmentation method: rotation  =====\n",
      "Epoch 1/9999\n",
      "375/375 [==============================] - 6s 17ms/step - loss: 2.2428 - accuracy: 0.1925 - val_loss: 2.2234 - val_accuracy: 0.3027\n",
      "Epoch 2/9999\n",
      "375/375 [==============================] - 6s 16ms/step - loss: 1.9778 - accuracy: 0.3325 - val_loss: 1.8748 - val_accuracy: 0.3856\n",
      "Epoch 3/9999\n",
      "375/375 [==============================] - 6s 16ms/step - loss: 1.7528 - accuracy: 0.4359 - val_loss: 1.6531 - val_accuracy: 0.4631\n",
      "Epoch 4/9999\n",
      "375/375 [==============================] - 6s 16ms/step - loss: 1.5805 - accuracy: 0.4965 - val_loss: 1.5040 - val_accuracy: 0.5249\n",
      "Epoch 5/9999\n",
      "375/375 [==============================] - 6s 16ms/step - loss: 1.4528 - accuracy: 0.5374 - val_loss: 1.3941 - val_accuracy: 0.5555\n",
      "Epoch 6/9999\n",
      "375/375 [==============================] - 6s 16ms/step - loss: 1.3590 - accuracy: 0.5640 - val_loss: 1.3123 - val_accuracy: 0.5740\n",
      "Epoch 7/9999\n",
      "375/375 [==============================] - 6s 16ms/step - loss: 1.2869 - accuracy: 0.5814 - val_loss: 1.2473 - val_accuracy: 0.5876\n",
      "Epoch 8/9999\n",
      "375/375 [==============================] - 6s 16ms/step - loss: 1.2296 - accuracy: 0.5954 - val_loss: 1.1960 - val_accuracy: 0.5958\n",
      "Epoch 9/9999\n",
      "375/375 [==============================] - 6s 16ms/step - loss: 1.1799 - accuracy: 0.6099 - val_loss: 1.1471 - val_accuracy: 0.6177\n",
      "Epoch 10/9999\n",
      "375/375 [==============================] - 6s 16ms/step - loss: 1.1383 - accuracy: 0.6225 - val_loss: 1.1081 - val_accuracy: 0.6292\n",
      "Epoch 11/9999\n",
      "375/375 [==============================] - 6s 17ms/step - loss: 1.1011 - accuracy: 0.6342 - val_loss: 1.0717 - val_accuracy: 0.6395\n",
      "Epoch 12/9999\n",
      "375/375 [==============================] - 6s 16ms/step - loss: 1.0662 - accuracy: 0.6448 - val_loss: 1.0417 - val_accuracy: 0.6467\n",
      "Epoch 13/9999\n",
      "375/375 [==============================] - 6s 16ms/step - loss: 1.0386 - accuracy: 0.6543 - val_loss: 1.0122 - val_accuracy: 0.6598\n",
      "Epoch 14/9999\n",
      "375/375 [==============================] - 6s 16ms/step - loss: 1.0145 - accuracy: 0.6605 - val_loss: 0.9870 - val_accuracy: 0.6670\n",
      "Epoch 15/9999\n",
      "375/375 [==============================] - 6s 16ms/step - loss: 0.9910 - accuracy: 0.6690 - val_loss: 0.9670 - val_accuracy: 0.6718\n",
      "Epoch 16/9999\n",
      "375/375 [==============================] - 6s 16ms/step - loss: 0.9703 - accuracy: 0.6749 - val_loss: 0.9472 - val_accuracy: 0.6796\n",
      "Epoch 17/9999\n",
      "375/375 [==============================] - 6s 16ms/step - loss: 0.9534 - accuracy: 0.6802 - val_loss: 0.9327 - val_accuracy: 0.6838\n",
      "Epoch 18/9999\n",
      "375/375 [==============================] - 6s 16ms/step - loss: 0.9358 - accuracy: 0.6876 - val_loss: 0.9155 - val_accuracy: 0.6911\n",
      "Epoch 19/9999\n",
      "375/375 [==============================] - 6s 16ms/step - loss: 0.9234 - accuracy: 0.6912 - val_loss: 0.9007 - val_accuracy: 0.6942\n",
      "Epoch 20/9999\n",
      "375/375 [==============================] - 6s 16ms/step - loss: 0.9082 - accuracy: 0.6964 - val_loss: 0.8891 - val_accuracy: 0.6962\n",
      "Epoch 21/9999\n",
      "375/375 [==============================] - 6s 16ms/step - loss: 0.8962 - accuracy: 0.7000 - val_loss: 0.8770 - val_accuracy: 0.7003\n",
      "Epoch 22/9999\n",
      "375/375 [==============================] - 6s 16ms/step - loss: 0.8848 - accuracy: 0.7047 - val_loss: 0.8641 - val_accuracy: 0.7075\n",
      "Epoch 23/9999\n",
      "375/375 [==============================] - 6s 16ms/step - loss: 0.8721 - accuracy: 0.7064 - val_loss: 0.8537 - val_accuracy: 0.7080\n",
      "Epoch 24/9999\n",
      "375/375 [==============================] - 6s 16ms/step - loss: 0.8636 - accuracy: 0.7095 - val_loss: 0.8441 - val_accuracy: 0.7105\n",
      "Epoch 25/9999\n",
      "375/375 [==============================] - 6s 16ms/step - loss: 0.8538 - accuracy: 0.7136 - val_loss: 0.8349 - val_accuracy: 0.7179\n",
      "Epoch 26/9999\n",
      "375/375 [==============================] - 6s 16ms/step - loss: 0.8442 - accuracy: 0.7170 - val_loss: 0.8251 - val_accuracy: 0.7197\n",
      "Epoch 27/9999\n",
      "375/375 [==============================] - 6s 16ms/step - loss: 0.8369 - accuracy: 0.7190 - val_loss: 0.8180 - val_accuracy: 0.7197\n",
      "Epoch 28/9999\n",
      "375/375 [==============================] - 6s 16ms/step - loss: 0.8248 - accuracy: 0.7228 - val_loss: 0.8117 - val_accuracy: 0.7232\n",
      "Epoch 29/9999\n",
      "375/375 [==============================] - 6s 16ms/step - loss: 0.8186 - accuracy: 0.7237 - val_loss: 0.8022 - val_accuracy: 0.7268\n",
      "Epoch 30/9999\n",
      "375/375 [==============================] - 6s 16ms/step - loss: 0.8105 - accuracy: 0.7265 - val_loss: 0.7932 - val_accuracy: 0.7300\n",
      "Epoch 31/9999\n",
      "375/375 [==============================] - 6s 16ms/step - loss: 0.8019 - accuracy: 0.7283 - val_loss: 0.7880 - val_accuracy: 0.7292\n",
      "Epoch 32/9999\n",
      "375/375 [==============================] - 6s 16ms/step - loss: 0.7945 - accuracy: 0.7327 - val_loss: 0.7808 - val_accuracy: 0.7328\n",
      "Epoch 33/9999\n",
      "375/375 [==============================] - 6s 16ms/step - loss: 0.7886 - accuracy: 0.7336 - val_loss: 0.7746 - val_accuracy: 0.7345\n",
      "Epoch 34/9999\n",
      "375/375 [==============================] - 6s 16ms/step - loss: 0.7822 - accuracy: 0.7356 - val_loss: 0.7670 - val_accuracy: 0.7414\n",
      "Epoch 35/9999\n",
      "375/375 [==============================] - 6s 16ms/step - loss: 0.7746 - accuracy: 0.7398 - val_loss: 0.7594 - val_accuracy: 0.7443\n",
      "Epoch 36/9999\n",
      "375/375 [==============================] - 6s 16ms/step - loss: 0.7693 - accuracy: 0.7405 - val_loss: 0.7557 - val_accuracy: 0.7429\n",
      "Epoch 37/9999\n",
      "375/375 [==============================] - 6s 17ms/step - loss: 0.7648 - accuracy: 0.7416 - val_loss: 0.7477 - val_accuracy: 0.7465\n",
      "Epoch 38/9999\n",
      "375/375 [==============================] - 6s 16ms/step - loss: 0.7563 - accuracy: 0.7449 - val_loss: 0.7427 - val_accuracy: 0.7507\n",
      "Epoch 39/9999\n",
      "375/375 [==============================] - 6s 16ms/step - loss: 0.7511 - accuracy: 0.7454 - val_loss: 0.7371 - val_accuracy: 0.7496\n",
      "Epoch 40/9999\n",
      "375/375 [==============================] - 6s 16ms/step - loss: 0.7455 - accuracy: 0.7478 - val_loss: 0.7322 - val_accuracy: 0.7513\n",
      "Epoch 41/9999\n",
      "375/375 [==============================] - 6s 16ms/step - loss: 0.7402 - accuracy: 0.7483 - val_loss: 0.7261 - val_accuracy: 0.7555\n",
      "Epoch 42/9999\n",
      "375/375 [==============================] - 6s 16ms/step - loss: 0.7345 - accuracy: 0.7513 - val_loss: 0.7217 - val_accuracy: 0.7548\n",
      "Epoch 43/9999\n",
      "375/375 [==============================] - 6s 16ms/step - loss: 0.7301 - accuracy: 0.7510 - val_loss: 0.7197 - val_accuracy: 0.7571\n",
      "Epoch 44/9999\n",
      "375/375 [==============================] - 6s 16ms/step - loss: 0.7246 - accuracy: 0.7544 - val_loss: 0.7132 - val_accuracy: 0.7542\n",
      "Epoch 45/9999\n",
      "375/375 [==============================] - 6s 16ms/step - loss: 0.7198 - accuracy: 0.7562 - val_loss: 0.7064 - val_accuracy: 0.7599\n",
      "Epoch 46/9999\n",
      "375/375 [==============================] - 6s 16ms/step - loss: 0.7158 - accuracy: 0.7558 - val_loss: 0.7055 - val_accuracy: 0.7596\n",
      "Epoch 47/9999\n",
      "375/375 [==============================] - 6s 16ms/step - loss: 0.7116 - accuracy: 0.7574 - val_loss: 0.6989 - val_accuracy: 0.7616\n",
      "Epoch 48/9999\n",
      "375/375 [==============================] - 6s 17ms/step - loss: 0.7047 - accuracy: 0.7586 - val_loss: 0.6950 - val_accuracy: 0.7623\n",
      "Epoch 49/9999\n",
      "375/375 [==============================] - 6s 16ms/step - loss: 0.7011 - accuracy: 0.7604 - val_loss: 0.6909 - val_accuracy: 0.7653\n",
      "Epoch 50/9999\n",
      "375/375 [==============================] - 6s 16ms/step - loss: 0.6981 - accuracy: 0.7627 - val_loss: 0.6866 - val_accuracy: 0.7653\n",
      "Epoch 51/9999\n",
      "375/375 [==============================] - 6s 16ms/step - loss: 0.6923 - accuracy: 0.7640 - val_loss: 0.6822 - val_accuracy: 0.7678\n",
      "Epoch 52/9999\n",
      "375/375 [==============================] - 6s 16ms/step - loss: 0.6910 - accuracy: 0.7636 - val_loss: 0.6792 - val_accuracy: 0.7672\n",
      "Epoch 53/9999\n",
      "375/375 [==============================] - 6s 16ms/step - loss: 0.6855 - accuracy: 0.7656 - val_loss: 0.6773 - val_accuracy: 0.7687\n",
      "10000/10000 [==============================] - 1s 81us/step\n",
      "Model: rotation added. Resulting score: 0.7630000114440918\n",
      "\n",
      " ===== Train model: Data augmentation method: horizontal shifting  =====\n",
      "Epoch 1/9999\n",
      "375/375 [==============================] - 4s 11ms/step - loss: 2.1761 - accuracy: 0.1971 - val_loss: 2.1800 - val_accuracy: 0.1880\n",
      "Epoch 2/9999\n",
      "375/375 [==============================] - 4s 10ms/step - loss: 1.9329 - accuracy: 0.3873 - val_loss: 1.8228 - val_accuracy: 0.4322\n",
      "Epoch 3/9999\n",
      "375/375 [==============================] - 4s 10ms/step - loss: 1.6964 - accuracy: 0.4580 - val_loss: 1.5833 - val_accuracy: 0.5080\n",
      "Epoch 4/9999\n",
      "375/375 [==============================] - 4s 10ms/step - loss: 1.5209 - accuracy: 0.5151 - val_loss: 1.4325 - val_accuracy: 0.5434\n",
      "Epoch 5/9999\n",
      "375/375 [==============================] - 4s 10ms/step - loss: 1.3952 - accuracy: 0.5588 - val_loss: 1.3200 - val_accuracy: 0.5790\n",
      "Epoch 6/9999\n",
      "375/375 [==============================] - 4s 10ms/step - loss: 1.3017 - accuracy: 0.5872 - val_loss: 1.2350 - val_accuracy: 0.6090\n",
      "Epoch 7/9999\n",
      "375/375 [==============================] - 4s 10ms/step - loss: 1.2303 - accuracy: 0.6079 - val_loss: 1.1749 - val_accuracy: 0.6237\n",
      "Epoch 8/9999\n",
      "375/375 [==============================] - 4s 10ms/step - loss: 1.1751 - accuracy: 0.6226 - val_loss: 1.1245 - val_accuracy: 0.6402\n",
      "Epoch 9/9999\n",
      "375/375 [==============================] - 4s 10ms/step - loss: 1.1300 - accuracy: 0.6361 - val_loss: 1.0844 - val_accuracy: 0.6463\n",
      "Epoch 10/9999\n",
      "375/375 [==============================] - 4s 10ms/step - loss: 1.0909 - accuracy: 0.6462 - val_loss: 1.0466 - val_accuracy: 0.6625\n",
      "Epoch 11/9999\n",
      "375/375 [==============================] - 4s 10ms/step - loss: 1.0580 - accuracy: 0.6536 - val_loss: 1.0175 - val_accuracy: 0.6733\n",
      "Epoch 12/9999\n",
      "375/375 [==============================] - 4s 10ms/step - loss: 1.0316 - accuracy: 0.6626 - val_loss: 0.9936 - val_accuracy: 0.6784\n",
      "Epoch 13/9999\n",
      "375/375 [==============================] - 4s 10ms/step - loss: 1.0076 - accuracy: 0.6689 - val_loss: 0.9708 - val_accuracy: 0.6827\n",
      "Epoch 14/9999\n",
      "375/375 [==============================] - 4s 10ms/step - loss: 0.9829 - accuracy: 0.6780 - val_loss: 0.9505 - val_accuracy: 0.6933\n",
      "Epoch 15/9999\n",
      "375/375 [==============================] - 4s 10ms/step - loss: 0.9637 - accuracy: 0.6842 - val_loss: 0.9299 - val_accuracy: 0.6974\n",
      "Epoch 16/9999\n",
      "375/375 [==============================] - 4s 10ms/step - loss: 0.9462 - accuracy: 0.6911 - val_loss: 0.9123 - val_accuracy: 0.7018\n",
      "Epoch 17/9999\n",
      "375/375 [==============================] - 4s 10ms/step - loss: 0.9280 - accuracy: 0.6957 - val_loss: 0.8963 - val_accuracy: 0.7109\n",
      "Epoch 18/9999\n",
      "375/375 [==============================] - 4s 10ms/step - loss: 0.9158 - accuracy: 0.6992 - val_loss: 0.8825 - val_accuracy: 0.7123\n",
      "Epoch 19/9999\n",
      "375/375 [==============================] - 4s 10ms/step - loss: 0.8982 - accuracy: 0.7053 - val_loss: 0.8670 - val_accuracy: 0.7168\n",
      "Epoch 20/9999\n",
      "375/375 [==============================] - 4s 10ms/step - loss: 0.8841 - accuracy: 0.7103 - val_loss: 0.8542 - val_accuracy: 0.7208\n",
      "Epoch 21/9999\n",
      "375/375 [==============================] - 4s 10ms/step - loss: 0.8735 - accuracy: 0.7128 - val_loss: 0.8432 - val_accuracy: 0.7205\n",
      "Epoch 22/9999\n",
      "375/375 [==============================] - 4s 10ms/step - loss: 0.8613 - accuracy: 0.7152 - val_loss: 0.8321 - val_accuracy: 0.7258\n",
      "Epoch 23/9999\n",
      "375/375 [==============================] - 4s 10ms/step - loss: 0.8480 - accuracy: 0.7197 - val_loss: 0.8273 - val_accuracy: 0.7259\n",
      "Epoch 24/9999\n",
      "375/375 [==============================] - 4s 10ms/step - loss: 0.8389 - accuracy: 0.7232 - val_loss: 0.8102 - val_accuracy: 0.7321\n",
      "Epoch 25/9999\n",
      "375/375 [==============================] - 4s 10ms/step - loss: 0.8279 - accuracy: 0.7274 - val_loss: 0.8023 - val_accuracy: 0.7353\n",
      "Epoch 26/9999\n",
      "375/375 [==============================] - 4s 10ms/step - loss: 0.8193 - accuracy: 0.7283 - val_loss: 0.7952 - val_accuracy: 0.7363\n",
      "Epoch 27/9999\n",
      "375/375 [==============================] - 4s 10ms/step - loss: 0.8113 - accuracy: 0.7309 - val_loss: 0.7868 - val_accuracy: 0.7393\n",
      "Epoch 28/9999\n",
      "375/375 [==============================] - 4s 10ms/step - loss: 0.8024 - accuracy: 0.7325 - val_loss: 0.7785 - val_accuracy: 0.7400\n",
      "Epoch 29/9999\n",
      "375/375 [==============================] - 4s 10ms/step - loss: 0.7934 - accuracy: 0.7357 - val_loss: 0.7737 - val_accuracy: 0.7393\n",
      "Epoch 30/9999\n",
      "375/375 [==============================] - 4s 10ms/step - loss: 0.7859 - accuracy: 0.7379 - val_loss: 0.7654 - val_accuracy: 0.7466\n",
      "Epoch 31/9999\n",
      "375/375 [==============================] - 4s 10ms/step - loss: 0.7813 - accuracy: 0.7379 - val_loss: 0.7591 - val_accuracy: 0.7432\n",
      "Epoch 32/9999\n",
      "375/375 [==============================] - 4s 10ms/step - loss: 0.7729 - accuracy: 0.7399 - val_loss: 0.7533 - val_accuracy: 0.7448\n",
      "Epoch 33/9999\n",
      "375/375 [==============================] - 4s 10ms/step - loss: 0.7670 - accuracy: 0.7425 - val_loss: 0.7454 - val_accuracy: 0.7473\n",
      "Epoch 34/9999\n",
      "375/375 [==============================] - 4s 10ms/step - loss: 0.7626 - accuracy: 0.7439 - val_loss: 0.7410 - val_accuracy: 0.7488\n",
      "Epoch 35/9999\n",
      "375/375 [==============================] - 4s 10ms/step - loss: 0.7561 - accuracy: 0.7458 - val_loss: 0.7356 - val_accuracy: 0.7506\n",
      "Epoch 36/9999\n",
      "375/375 [==============================] - 4s 10ms/step - loss: 0.7499 - accuracy: 0.7463 - val_loss: 0.7333 - val_accuracy: 0.7509\n",
      "Epoch 37/9999\n",
      "375/375 [==============================] - 4s 10ms/step - loss: 0.7457 - accuracy: 0.7479 - val_loss: 0.7247 - val_accuracy: 0.7558\n",
      "Epoch 38/9999\n",
      "375/375 [==============================] - 4s 10ms/step - loss: 0.7411 - accuracy: 0.7484 - val_loss: 0.7222 - val_accuracy: 0.7546\n",
      "Epoch 39/9999\n",
      "375/375 [==============================] - 4s 10ms/step - loss: 0.7361 - accuracy: 0.7505 - val_loss: 0.7183 - val_accuracy: 0.7558\n",
      "Epoch 40/9999\n",
      "375/375 [==============================] - 4s 10ms/step - loss: 0.7345 - accuracy: 0.7494 - val_loss: 0.7128 - val_accuracy: 0.7592\n",
      "Epoch 41/9999\n",
      "375/375 [==============================] - 4s 10ms/step - loss: 0.7282 - accuracy: 0.7527 - val_loss: 0.7121 - val_accuracy: 0.7594\n",
      "Epoch 42/9999\n",
      "375/375 [==============================] - 4s 10ms/step - loss: 0.7238 - accuracy: 0.7561 - val_loss: 0.7046 - val_accuracy: 0.7608\n",
      "Epoch 43/9999\n",
      "375/375 [==============================] - 4s 10ms/step - loss: 0.7183 - accuracy: 0.7579 - val_loss: 0.7009 - val_accuracy: 0.7613\n",
      "Epoch 44/9999\n",
      "375/375 [==============================] - 4s 10ms/step - loss: 0.7141 - accuracy: 0.7582 - val_loss: 0.6991 - val_accuracy: 0.7592\n",
      "Epoch 45/9999\n",
      "375/375 [==============================] - 4s 10ms/step - loss: 0.7131 - accuracy: 0.7571 - val_loss: 0.6952 - val_accuracy: 0.7628\n",
      "Epoch 46/9999\n",
      "375/375 [==============================] - 4s 10ms/step - loss: 0.7096 - accuracy: 0.7590 - val_loss: 0.6917 - val_accuracy: 0.7646\n",
      "10000/10000 [==============================] - 1s 81us/step\n",
      "Model: horizontal shifting added. Resulting score: 0.7608000040054321\n",
      "\n",
      " ===== Train model: Data augmentation method: vetical shifting  =====\n",
      "Epoch 1/9999\n",
      "375/375 [==============================] - 4s 11ms/step - loss: 2.2449 - accuracy: 0.2224 - val_loss: 2.2187 - val_accuracy: 0.2546\n",
      "Epoch 2/9999\n",
      "375/375 [==============================] - 4s 10ms/step - loss: 1.9732 - accuracy: 0.3726 - val_loss: 1.8687 - val_accuracy: 0.4409\n",
      "Epoch 3/9999\n",
      "375/375 [==============================] - 4s 10ms/step - loss: 1.7233 - accuracy: 0.4677 - val_loss: 1.5933 - val_accuracy: 0.5208\n",
      "Epoch 4/9999\n",
      "375/375 [==============================] - 4s 10ms/step - loss: 1.5103 - accuracy: 0.5404 - val_loss: 1.4141 - val_accuracy: 0.5609\n",
      "Epoch 5/9999\n",
      "375/375 [==============================] - 4s 10ms/step - loss: 1.3595 - accuracy: 0.5829 - val_loss: 1.2895 - val_accuracy: 0.6028\n",
      "Epoch 6/9999\n",
      "375/375 [==============================] - 4s 10ms/step - loss: 1.2549 - accuracy: 0.6084 - val_loss: 1.2005 - val_accuracy: 0.6206\n",
      "Epoch 7/9999\n",
      "375/375 [==============================] - 4s 10ms/step - loss: 1.1799 - accuracy: 0.6253 - val_loss: 1.1378 - val_accuracy: 0.6325\n",
      "Epoch 8/9999\n",
      "375/375 [==============================] - 4s 10ms/step - loss: 1.1232 - accuracy: 0.6349 - val_loss: 1.0922 - val_accuracy: 0.6405\n",
      "Epoch 9/9999\n",
      "375/375 [==============================] - 4s 10ms/step - loss: 1.0807 - accuracy: 0.6451 - val_loss: 1.0505 - val_accuracy: 0.6555\n",
      "Epoch 10/9999\n",
      "375/375 [==============================] - 4s 10ms/step - loss: 1.0471 - accuracy: 0.6516 - val_loss: 1.0177 - val_accuracy: 0.6633\n",
      "Epoch 11/9999\n",
      "375/375 [==============================] - 4s 10ms/step - loss: 1.0177 - accuracy: 0.6597 - val_loss: 0.9929 - val_accuracy: 0.6678\n",
      "Epoch 12/9999\n",
      "375/375 [==============================] - 4s 10ms/step - loss: 0.9933 - accuracy: 0.6664 - val_loss: 0.9691 - val_accuracy: 0.6734\n",
      "Epoch 13/9999\n",
      "375/375 [==============================] - 4s 10ms/step - loss: 0.9731 - accuracy: 0.6707 - val_loss: 0.9493 - val_accuracy: 0.6785\n",
      "Epoch 14/9999\n",
      "375/375 [==============================] - 4s 10ms/step - loss: 0.9552 - accuracy: 0.6743 - val_loss: 0.9321 - val_accuracy: 0.6847\n",
      "Epoch 15/9999\n",
      "375/375 [==============================] - 4s 10ms/step - loss: 0.9386 - accuracy: 0.6807 - val_loss: 0.9167 - val_accuracy: 0.6890\n",
      "Epoch 16/9999\n",
      "375/375 [==============================] - 4s 10ms/step - loss: 0.9249 - accuracy: 0.6846 - val_loss: 0.9044 - val_accuracy: 0.6900\n",
      "Epoch 17/9999\n",
      "375/375 [==============================] - 4s 10ms/step - loss: 0.9113 - accuracy: 0.6886 - val_loss: 0.8906 - val_accuracy: 0.6953\n",
      "Epoch 18/9999\n",
      "375/375 [==============================] - 4s 10ms/step - loss: 0.8978 - accuracy: 0.6937 - val_loss: 0.8790 - val_accuracy: 0.6988\n",
      "Epoch 19/9999\n",
      "375/375 [==============================] - 4s 10ms/step - loss: 0.8873 - accuracy: 0.6955 - val_loss: 0.8668 - val_accuracy: 0.7024\n",
      "Epoch 20/9999\n",
      "375/375 [==============================] - 4s 10ms/step - loss: 0.8754 - accuracy: 0.7006 - val_loss: 0.8560 - val_accuracy: 0.7043\n",
      "Epoch 21/9999\n",
      "375/375 [==============================] - 4s 10ms/step - loss: 0.8637 - accuracy: 0.7055 - val_loss: 0.8456 - val_accuracy: 0.7092\n",
      "Epoch 22/9999\n",
      "375/375 [==============================] - 4s 10ms/step - loss: 0.8556 - accuracy: 0.7079 - val_loss: 0.8371 - val_accuracy: 0.7105\n",
      "Epoch 23/9999\n",
      "375/375 [==============================] - 4s 10ms/step - loss: 0.8461 - accuracy: 0.7102 - val_loss: 0.8283 - val_accuracy: 0.7146\n",
      "Epoch 24/9999\n",
      "375/375 [==============================] - 4s 10ms/step - loss: 0.8371 - accuracy: 0.7120 - val_loss: 0.8201 - val_accuracy: 0.7202\n",
      "Epoch 25/9999\n",
      "375/375 [==============================] - 4s 10ms/step - loss: 0.8286 - accuracy: 0.7148 - val_loss: 0.8114 - val_accuracy: 0.7197\n",
      "Epoch 26/9999\n",
      "375/375 [==============================] - 4s 10ms/step - loss: 0.8204 - accuracy: 0.7172 - val_loss: 0.8037 - val_accuracy: 0.7218\n",
      "Epoch 27/9999\n",
      "375/375 [==============================] - 4s 10ms/step - loss: 0.8130 - accuracy: 0.7195 - val_loss: 0.7958 - val_accuracy: 0.7263\n",
      "Epoch 28/9999\n",
      "375/375 [==============================] - 4s 10ms/step - loss: 0.8062 - accuracy: 0.7222 - val_loss: 0.7924 - val_accuracy: 0.7243\n",
      "Epoch 29/9999\n",
      "375/375 [==============================] - 4s 10ms/step - loss: 0.7978 - accuracy: 0.7245 - val_loss: 0.7831 - val_accuracy: 0.7289\n",
      "Epoch 30/9999\n",
      "375/375 [==============================] - 4s 10ms/step - loss: 0.7915 - accuracy: 0.7273 - val_loss: 0.7755 - val_accuracy: 0.7334\n",
      "Epoch 31/9999\n",
      "375/375 [==============================] - 4s 10ms/step - loss: 0.7846 - accuracy: 0.7282 - val_loss: 0.7698 - val_accuracy: 0.7324\n",
      "Epoch 32/9999\n",
      "375/375 [==============================] - 4s 10ms/step - loss: 0.7790 - accuracy: 0.7309 - val_loss: 0.7623 - val_accuracy: 0.7368\n",
      "Epoch 33/9999\n",
      "375/375 [==============================] - 4s 10ms/step - loss: 0.7733 - accuracy: 0.7313 - val_loss: 0.7597 - val_accuracy: 0.7343\n",
      "Epoch 34/9999\n",
      "375/375 [==============================] - 4s 10ms/step - loss: 0.7656 - accuracy: 0.7341 - val_loss: 0.7532 - val_accuracy: 0.7372\n",
      "Epoch 35/9999\n",
      "375/375 [==============================] - 4s 10ms/step - loss: 0.7611 - accuracy: 0.7360 - val_loss: 0.7455 - val_accuracy: 0.7403\n",
      "Epoch 36/9999\n",
      "375/375 [==============================] - 4s 10ms/step - loss: 0.7551 - accuracy: 0.7367 - val_loss: 0.7399 - val_accuracy: 0.7427\n",
      "Epoch 37/9999\n",
      "375/375 [==============================] - 4s 10ms/step - loss: 0.7493 - accuracy: 0.7395 - val_loss: 0.7357 - val_accuracy: 0.7435\n",
      "Epoch 38/9999\n",
      "375/375 [==============================] - 4s 10ms/step - loss: 0.7435 - accuracy: 0.7402 - val_loss: 0.7295 - val_accuracy: 0.7467\n",
      "Epoch 39/9999\n",
      "375/375 [==============================] - 4s 10ms/step - loss: 0.7386 - accuracy: 0.7417 - val_loss: 0.7266 - val_accuracy: 0.7454\n",
      "Epoch 40/9999\n",
      "375/375 [==============================] - 4s 10ms/step - loss: 0.7360 - accuracy: 0.7427 - val_loss: 0.7252 - val_accuracy: 0.7437\n",
      "Epoch 41/9999\n",
      "375/375 [==============================] - 4s 10ms/step - loss: 0.7303 - accuracy: 0.7436 - val_loss: 0.7186 - val_accuracy: 0.7441\n",
      "Epoch 42/9999\n",
      "375/375 [==============================] - 4s 10ms/step - loss: 0.7264 - accuracy: 0.7453 - val_loss: 0.7160 - val_accuracy: 0.7461\n",
      "Epoch 43/9999\n",
      "375/375 [==============================] - 4s 10ms/step - loss: 0.7223 - accuracy: 0.7451 - val_loss: 0.7080 - val_accuracy: 0.7497\n",
      "Epoch 44/9999\n",
      "375/375 [==============================] - 4s 10ms/step - loss: 0.7171 - accuracy: 0.7482 - val_loss: 0.7045 - val_accuracy: 0.7496\n",
      "Epoch 45/9999\n",
      "375/375 [==============================] - 4s 10ms/step - loss: 0.7141 - accuracy: 0.7488 - val_loss: 0.7020 - val_accuracy: 0.7498\n",
      "Epoch 46/9999\n",
      "375/375 [==============================] - 4s 10ms/step - loss: 0.7107 - accuracy: 0.7489 - val_loss: 0.6968 - val_accuracy: 0.7523\n",
      "Epoch 47/9999\n",
      "375/375 [==============================] - 4s 10ms/step - loss: 0.7051 - accuracy: 0.7506 - val_loss: 0.6942 - val_accuracy: 0.7525\n",
      "Epoch 48/9999\n",
      "375/375 [==============================] - 4s 10ms/step - loss: 0.7022 - accuracy: 0.7527 - val_loss: 0.6901 - val_accuracy: 0.7545\n",
      "Epoch 49/9999\n",
      "375/375 [==============================] - 4s 10ms/step - loss: 0.6994 - accuracy: 0.7530 - val_loss: 0.6849 - val_accuracy: 0.7567\n",
      "Epoch 50/9999\n",
      "375/375 [==============================] - 4s 10ms/step - loss: 0.6949 - accuracy: 0.7550 - val_loss: 0.6838 - val_accuracy: 0.7542\n",
      "Epoch 51/9999\n",
      "375/375 [==============================] - 4s 10ms/step - loss: 0.6920 - accuracy: 0.7541 - val_loss: 0.6813 - val_accuracy: 0.7579\n",
      "Epoch 52/9999\n",
      "375/375 [==============================] - 4s 10ms/step - loss: 0.6883 - accuracy: 0.7562 - val_loss: 0.6785 - val_accuracy: 0.7582\n",
      "10000/10000 [==============================] - 1s 79us/step\n",
      "Model: vetical shifting added. Resulting score: 0.7594000101089478\n",
      "\n",
      " ===== Accuracy vs weight init methods =====\n"
     ]
    },
    {
     "data": {
      "text/html": [
       "<div>\n",
       "<style scoped>\n",
       "    .dataframe tbody tr th:only-of-type {\n",
       "        vertical-align: middle;\n",
       "    }\n",
       "\n",
       "    .dataframe tbody tr th {\n",
       "        vertical-align: top;\n",
       "    }\n",
       "\n",
       "    .dataframe thead th {\n",
       "        text-align: right;\n",
       "    }\n",
       "</style>\n",
       "<table border=\"1\" class=\"dataframe\">\n",
       "  <thead>\n",
       "    <tr style=\"text-align: right;\">\n",
       "      <th></th>\n",
       "      <th>Accuracy</th>\n",
       "      <th>data_augmentaion_method</th>\n",
       "    </tr>\n",
       "  </thead>\n",
       "  <tbody>\n",
       "    <tr>\n",
       "      <th>0</th>\n",
       "      <td>0.7630</td>\n",
       "      <td>rotation</td>\n",
       "    </tr>\n",
       "    <tr>\n",
       "      <th>1</th>\n",
       "      <td>0.7608</td>\n",
       "      <td>horizontal shifting</td>\n",
       "    </tr>\n",
       "    <tr>\n",
       "      <th>2</th>\n",
       "      <td>0.7594</td>\n",
       "      <td>vetical shifting</td>\n",
       "    </tr>\n",
       "  </tbody>\n",
       "</table>\n",
       "</div>"
      ],
      "text/plain": [
       "   Accuracy data_augmentaion_method\n",
       "0    0.7630                rotation\n",
       "1    0.7608     horizontal shifting\n",
       "2    0.7594        vetical shifting"
      ]
     },
     "metadata": {
      "tags": []
     },
     "output_type": "display_data"
    },
    {
     "name": "stderr",
     "output_type": "stream",
     "text": [
      "100%|██████████| 3/3 [00:00<00:00, 308.20it/s]"
     ]
    },
    {
     "name": "stdout",
     "output_type": "stream",
     "text": [
      "\n",
      " ===== Converting Binary classification =====\n",
      "\n",
      " ===== Correlation =====\n"
     ]
    },
    {
     "name": "stderr",
     "output_type": "stream",
     "text": [
      "\n"
     ]
    },
    {
     "data": {
      "text/html": [
       "<div>\n",
       "<style scoped>\n",
       "    .dataframe tbody tr th:only-of-type {\n",
       "        vertical-align: middle;\n",
       "    }\n",
       "\n",
       "    .dataframe tbody tr th {\n",
       "        vertical-align: top;\n",
       "    }\n",
       "\n",
       "    .dataframe thead th {\n",
       "        text-align: right;\n",
       "    }\n",
       "</style>\n",
       "<table border=\"1\" class=\"dataframe\">\n",
       "  <thead>\n",
       "    <tr style=\"text-align: right;\">\n",
       "      <th></th>\n",
       "      <th>rotation</th>\n",
       "      <th>horizontal shifting</th>\n",
       "      <th>vetical shifting</th>\n",
       "    </tr>\n",
       "  </thead>\n",
       "  <tbody>\n",
       "    <tr>\n",
       "      <th>rotation</th>\n",
       "      <td>NaN</td>\n",
       "      <td>0.737073</td>\n",
       "      <td>0.732677</td>\n",
       "    </tr>\n",
       "    <tr>\n",
       "      <th>horizontal shifting</th>\n",
       "      <td>0.737073</td>\n",
       "      <td>NaN</td>\n",
       "      <td>0.742806</td>\n",
       "    </tr>\n",
       "    <tr>\n",
       "      <th>vetical shifting</th>\n",
       "      <td>0.732677</td>\n",
       "      <td>0.742806</td>\n",
       "      <td>NaN</td>\n",
       "    </tr>\n",
       "  </tbody>\n",
       "</table>\n",
       "</div>"
      ],
      "text/plain": [
       "                     rotation  horizontal shifting  vetical shifting\n",
       "rotation                  NaN             0.737073          0.732677\n",
       "horizontal shifting  0.737073                  NaN          0.742806\n",
       "vetical shifting     0.732677             0.742806               NaN"
      ]
     },
     "metadata": {
      "tags": []
     },
     "output_type": "display_data"
    },
    {
     "name": "stdout",
     "output_type": "stream",
     "text": [
      "Average correlation: 0.7375182810663509\n",
      "\n",
      " ===== Computing ensemble accuracy =====\n",
      "Accuracy of ensemble using hard voting: 0.7693\n",
      "Accuracy of ensemble using soft voting: 0.7732\n",
      "\n",
      " ===== Computing ensemble accuracy =====\n"
     ]
    }
   ],
   "source": [
    "for run in range(1, NR_OF_RUNS+1):\n",
    "    # Split the data\n",
    "    x_train, x_val, y_train, y_val = train_test_split(x_train_full, y_trainc, test_size=0.20, shuffle= True)\n",
    "    \n",
    "    models = []\n",
    "    accuracies = []\n",
    "    predictions = []\n",
    "    for i in range(len(funcs)):\n",
    "        print(f\"\\n ===== Train model: Data augmentation method: {augmentations[i]}  =====\")\n",
    "        \n",
    "        # Set the seeds\n",
    "        np.random.seed(run*i)\n",
    "        tf.random.set_seed(run*i)\n",
    "\n",
    "        # Create directories\n",
    "        os.makedirs(PATH + MODEL_NAME + f\"/{run}/history\", exist_ok=True)\n",
    "        os.makedirs(PATH + MODEL_NAME + f\"/{run}/weights\", exist_ok=True)\n",
    "        \n",
    "        #data augmentation function\n",
    "        preprocessing_function = funcs[i]\n",
    "\n",
    "        #data augmentation generator\n",
    "        datagen = ImageDataGenerator(preprocessing_function=preprocessing_function)\n",
    "        datagen = datagen.flow(x_train,y_train, batch_size = BATCH_SIZE)\n",
    "        \n",
    "        # weight init method\n",
    "        model = FashionMNISTmodel(IMAGE_SIZE,NUM_CLASSES,NUM_CHANNELS)\n",
    "    \n",
    "        #save weights \n",
    "        weights_path = PATH + MODEL_NAME + f\"/{run}/weights/weights-{augmentations[i]}.h5\"\n",
    "            \n",
    "        #save weights \n",
    "        weights_path = PATH + MODEL_NAME + f\"/{run}/weights/weights-{augmentations[i]}.h5\"\n",
    "        if os.path.exists(weights_path):\n",
    "            print(f\"Skipping training of model {augmentations[i]}: weights exists\")\n",
    "            model.load_weights(weights_path)\n",
    "        else:\n",
    "            # initiate early stopping\n",
    "            es = EarlyStopping(min_delta=0.01, patience=3)\n",
    "            csv_logger = CSVLogger(PATH + MODEL_NAME + f\"/{run}/history/history-{augmentations[i]}.csv\", separator=';')\n",
    "            #train\n",
    "            model.fit_generator(datagen,\n",
    "                                epochs = EPOCHS,\n",
    "                                validation_data = (x_val,y_val),\n",
    "                                shuffle = True,\n",
    "                                callbacks=[es, csv_logger])\n",
    "            model.save_weights(weights_path)\n",
    "            \n",
    "        models.append(model)\n",
    "        y_prob = model.predict(x_test) \n",
    "        predictions.append(y_prob.argmax(axis=-1))\n",
    "        acc = model.evaluate(x_test,y_testc)[1]\n",
    "        accuracies.append(acc)\n",
    "\n",
    "        print(f\"Model: {augmentations[i]} added. Resulting score: {acc}\")\n",
    "\n",
    "    # Results  \n",
    "        \n",
    "    # Accuracy vs data augmentation method\n",
    "        \n",
    "    print(\"\\n ===== Accuracy vs weight init methods =====\")\n",
    "    accuracy_df = pd.DataFrame(accuracies, columns=[\"Accuracy\"])\n",
    "    accuracy_df[\"data_augmentaion_method\"] = augmentations\n",
    "    display(accuracy_df)\n",
    "    accuracy_df.to_csv(PATH + MODEL_NAME + f\"/{run}/accuracy.csv\")\n",
    "        \n",
    "    print(\"\\n ===== Converting Binary classification =====\")\n",
    "    classified = []\n",
    "    for prediction in tqdm(predictions):\n",
    "        classified.append([1 if i==j else 0 for i,j in zip(prediction,y_test)])\n",
    "        \n",
    "    ## Correlation between models\n",
    "    print(\"\\n ===== Correlation =====\")  \n",
    "    correlation_matrix = []\n",
    "\n",
    "    for ix, x in enumerate(classified):\n",
    "        row = []\n",
    "  \n",
    "        for iy, y in enumerate(classified):\n",
    "            if (ix == iy):\n",
    "                row.append(np.nan)\n",
    "            else:\n",
    "                row.append(pearsonr(x,y)[0])\n",
    "\n",
    "        correlation_matrix.append(row)\n",
    "\n",
    "    correlation_matrix = np.array(correlation_matrix)\n",
    "    correlation_matrix_df = pd.DataFrame(correlation_matrix)\n",
    "    correlation_matrix_df.columns = augmentations\n",
    "    correlation_matrix_df.index = augmentations\n",
    "    correlation_matrix_df.to_csv(PATH + MODEL_NAME + f\"/{run}/correlation_matrix.csv\")\n",
    "    display(correlation_matrix_df)\n",
    "    correlation = np.nanmean(correlation_matrix.flatten())\n",
    "    print(\"Average correlation: \" + str(correlation))\n",
    "    \n",
    "    \n",
    "    print(\"\\n ===== Computing ensemble accuracy =====\")  \n",
    "    # Ensemble accuracy\n",
    "    accuracy_hard = predict(models, x_test, y_testc,voting = 'hard')\n",
    "    print(\"Accuracy of ensemble using hard voting: \" + str(accuracy_hard))\n",
    "    accuracy_soft = predict(models, x_test, y_testc,voting = 'soft')\n",
    "    print(\"Accuracy of ensemble using soft voting: \" + str(accuracy_soft))\n",
    "    \n",
    "    \n",
    "    print(\"\\n ===== Computing ensemble accuracy =====\")  \n",
    "    # Save the results\n",
    "    file = PATH + MODEL_NAME + f\"/results_.csv\"\n",
    "    df = pd.DataFrame([[run,correlation,accuracy_hard,accuracy_soft]])\n",
    "\n",
    "    if not os.path.isfile(file):\n",
    "        df.to_csv(file, header=[\"run\", \"correlation\",\"accuracy_hard_voting\",\"accuracy_soft_voting\"], index=False)\n",
    "    else: # else it exists so append without writing the header\n",
    "        df.to_csv(file, mode='a', header=False, index=False)\n",
    "\n",
    "    clear_output(wait=True)"
   ]
  },
  {
   "cell_type": "markdown",
   "metadata": {
    "colab_type": "text",
    "id": "fGT6jV-hcLbJ"
   },
   "source": [
    "# Results"
   ]
  },
  {
   "cell_type": "code",
   "execution_count": 0,
   "metadata": {
    "colab": {},
    "colab_type": "code",
    "id": "3ZvQRiBBvl5W"
   },
   "outputs": [],
   "source": [
    "from scipy import stats"
   ]
  },
  {
   "cell_type": "code",
   "execution_count": 0,
   "metadata": {
    "colab": {},
    "colab_type": "code",
    "id": "UbSRKks5vmhD"
   },
   "outputs": [],
   "source": [
    "baseline = [0.769,\n",
    "            0.7436,\n",
    "            0.7663,\n",
    "            0.7642,\n",
    "            0.7725,\n",
    "            0.7461,\n",
    "            0.7612,\n",
    "            0.773,\n",
    "            0.7713,\n",
    "            0.7726]"
   ]
  },
  {
   "cell_type": "code",
   "execution_count": 68,
   "metadata": {
    "colab": {
     "base_uri": "https://localhost:8080/",
     "height": 191
    },
    "colab_type": "code",
    "id": "5Ozg6pK4v1Yx",
    "outputId": "325a6dc6-e1d3-4693-b674-e372a933d57e"
   },
   "outputs": [
    {
     "data": {
      "text/plain": [
       "array([[ 1.        ,  0.74472335,  0.7716    ,  0.774     ],\n",
       "       [ 2.        ,  0.72412417,  0.7664    ,  0.7715    ],\n",
       "       [ 3.        ,  0.74345316,  0.7733    ,  0.779     ],\n",
       "       [ 4.        ,  0.73858803,  0.7734    ,  0.7755    ],\n",
       "       [ 5.        ,  0.71899743,  0.7713    ,  0.7738    ],\n",
       "       [ 6.        ,  0.72185108,  0.7752    ,  0.7755    ],\n",
       "       [ 7.        ,  0.74803508,  0.7709    ,  0.7733    ],\n",
       "       [ 8.        ,  0.71877519,  0.7717    ,  0.7762    ],\n",
       "       [ 9.        ,  0.73013566,  0.7737    ,  0.7792    ],\n",
       "       [10.        ,  0.73751828,  0.7693    ,  0.7732    ]])"
      ]
     },
     "execution_count": 68,
     "metadata": {
      "tags": []
     },
     "output_type": "execute_result"
    }
   ],
   "source": [
    "augmented = pd.read_csv(\"/content/FashionMNIST_data_augmentation/results_.csv\")\n",
    "augmented = augmented.values\n",
    "augmented"
   ]
  },
  {
   "cell_type": "code",
   "execution_count": 0,
   "metadata": {
    "colab": {},
    "colab_type": "code",
    "id": "2GYweHYDwdVZ"
   },
   "outputs": [],
   "source": [
    "augmented_hard = augmented[:,2]\n",
    "augmented_soft = augmented[:,3]"
   ]
  },
  {
   "cell_type": "code",
   "execution_count": 70,
   "metadata": {
    "colab": {
     "base_uri": "https://localhost:8080/",
     "height": 34
    },
    "colab_type": "code",
    "id": "0ydHmwge0Dck",
    "outputId": "3c696bbe-171d-4b0b-ce84-6c5bce7ee314"
   },
   "outputs": [
    {
     "data": {
      "text/plain": [
       "0.77168"
      ]
     },
     "execution_count": 70,
     "metadata": {
      "tags": []
     },
     "output_type": "execute_result"
    }
   ],
   "source": [
    "np.mean(augmented_hard)"
   ]
  },
  {
   "cell_type": "code",
   "execution_count": 71,
   "metadata": {
    "colab": {
     "base_uri": "https://localhost:8080/",
     "height": 34
    },
    "colab_type": "code",
    "id": "X7wlD6720GYj",
    "outputId": "a070abd1-556a-4011-f2a1-988a090b9f13"
   },
   "outputs": [
    {
     "data": {
      "text/plain": [
       "0.77512"
      ]
     },
     "execution_count": 71,
     "metadata": {
      "tags": []
     },
     "output_type": "execute_result"
    }
   ],
   "source": [
    "np.mean(augmented_soft)"
   ]
  },
  {
   "cell_type": "code",
   "execution_count": 72,
   "metadata": {
    "colab": {
     "base_uri": "https://localhost:8080/",
     "height": 34
    },
    "colab_type": "code",
    "id": "4Kyo05JdnJea",
    "outputId": "287e5cc2-3f3f-408b-acef-51663fbb0e03"
   },
   "outputs": [
    {
     "data": {
      "text/plain": [
       "0.76398"
      ]
     },
     "execution_count": 72,
     "metadata": {
      "tags": []
     },
     "output_type": "execute_result"
    }
   ],
   "source": [
    "np.mean(baseline)"
   ]
  },
  {
   "cell_type": "code",
   "execution_count": 73,
   "metadata": {
    "colab": {
     "base_uri": "https://localhost:8080/",
     "height": 34
    },
    "colab_type": "code",
    "id": "iQxqLwhWwshl",
    "outputId": "6d499f6a-b4d3-447d-9957-caacff8b3c2f"
   },
   "outputs": [
    {
     "data": {
      "text/plain": [
       "Ttest_relResult(statistic=2.2783015097445123, pvalue=0.0486975588481664)"
      ]
     },
     "execution_count": 73,
     "metadata": {
      "tags": []
     },
     "output_type": "execute_result"
    }
   ],
   "source": [
    "stats.ttest_rel(augmented_hard,baseline)"
   ]
  },
  {
   "cell_type": "code",
   "execution_count": 74,
   "metadata": {
    "colab": {
     "base_uri": "https://localhost:8080/",
     "height": 34
    },
    "colab_type": "code",
    "id": "350YGCOhxbho",
    "outputId": "eba405ca-9b6b-4703-cb52-a1ae291425a0"
   },
   "outputs": [
    {
     "data": {
      "text/plain": [
       "Ttest_relResult(statistic=3.4527741378273125, pvalue=0.007242925644445067)"
      ]
     },
     "execution_count": 74,
     "metadata": {
      "tags": []
     },
     "output_type": "execute_result"
    }
   ],
   "source": [
    "stats.ttest_rel(augmented_soft,baseline)"
   ]
  },
  {
   "cell_type": "markdown",
   "metadata": {
    "colab_type": "text",
    "id": "51rnX_l7Pfdr"
   },
   "source": [
    "## Accuracy\n",
    "The final accuracy of the ensamble on the test set"
   ]
  },
  {
   "cell_type": "code",
   "execution_count": 75,
   "metadata": {
    "colab": {
     "base_uri": "https://localhost:8080/",
     "height": 1000
    },
    "colab_type": "code",
    "id": "GwNmmvSFPlVx",
    "outputId": "03480c96-74ae-476d-eb27-679141b0a468"
   },
   "outputs": [
    {
     "name": "stdout",
     "output_type": "stream",
     "text": [
      "  adding: content/FashionMNIST_data_augmentation/ (stored 0%)\n",
      "  adding: content/FashionMNIST_data_augmentation/9/ (stored 0%)\n",
      "  adding: content/FashionMNIST_data_augmentation/9/correlation_matrix.csv (deflated 50%)\n",
      "  adding: content/FashionMNIST_data_augmentation/9/accuracy.csv (deflated 19%)\n",
      "  adding: content/FashionMNIST_data_augmentation/9/weights/ (stored 0%)\n",
      "  adding: content/FashionMNIST_data_augmentation/9/weights/weights-vetical shifting.h5 (deflated 71%)\n",
      "  adding: content/FashionMNIST_data_augmentation/9/weights/weights-horizontal shifting.h5 (deflated 71%)\n",
      "  adding: content/FashionMNIST_data_augmentation/9/weights/weights-rotation.h5 (deflated 71%)\n",
      "  adding: content/FashionMNIST_data_augmentation/9/history/ (stored 0%)\n",
      "  adding: content/FashionMNIST_data_augmentation/9/history/history-vetical shifting.csv (deflated 52%)\n",
      "  adding: content/FashionMNIST_data_augmentation/9/history/history-horizontal shifting.csv (deflated 52%)\n",
      "  adding: content/FashionMNIST_data_augmentation/9/history/history-rotation.csv (deflated 52%)\n",
      "  adding: content/FashionMNIST_data_augmentation/7/ (stored 0%)\n",
      "  adding: content/FashionMNIST_data_augmentation/7/correlation_matrix.csv (deflated 50%)\n",
      "  adding: content/FashionMNIST_data_augmentation/7/accuracy.csv (deflated 20%)\n",
      "  adding: content/FashionMNIST_data_augmentation/7/weights/ (stored 0%)\n",
      "  adding: content/FashionMNIST_data_augmentation/7/weights/weights-vetical shifting.h5 (deflated 71%)\n",
      "  adding: content/FashionMNIST_data_augmentation/7/weights/weights-horizontal shifting.h5 (deflated 71%)\n",
      "  adding: content/FashionMNIST_data_augmentation/7/weights/weights-rotation.h5 (deflated 71%)\n",
      "  adding: content/FashionMNIST_data_augmentation/7/history/ (stored 0%)\n",
      "  adding: content/FashionMNIST_data_augmentation/7/history/history-vetical shifting.csv (deflated 52%)\n",
      "  adding: content/FashionMNIST_data_augmentation/7/history/history-horizontal shifting.csv (deflated 52%)\n",
      "  adding: content/FashionMNIST_data_augmentation/7/history/history-rotation.csv (deflated 53%)\n",
      "  adding: content/FashionMNIST_data_augmentation/8/ (stored 0%)\n",
      "  adding: content/FashionMNIST_data_augmentation/8/correlation_matrix.csv (deflated 50%)\n",
      "  adding: content/FashionMNIST_data_augmentation/8/accuracy.csv (deflated 19%)\n",
      "  adding: content/FashionMNIST_data_augmentation/8/weights/ (stored 0%)\n",
      "  adding: content/FashionMNIST_data_augmentation/8/weights/weights-vetical shifting.h5 (deflated 71%)\n",
      "  adding: content/FashionMNIST_data_augmentation/8/weights/weights-horizontal shifting.h5 (deflated 71%)\n",
      "  adding: content/FashionMNIST_data_augmentation/8/weights/weights-rotation.h5 (deflated 71%)\n",
      "  adding: content/FashionMNIST_data_augmentation/8/history/ (stored 0%)\n",
      "  adding: content/FashionMNIST_data_augmentation/8/history/history-vetical shifting.csv (deflated 52%)\n",
      "  adding: content/FashionMNIST_data_augmentation/8/history/history-horizontal shifting.csv (deflated 52%)\n",
      "  adding: content/FashionMNIST_data_augmentation/8/history/history-rotation.csv (deflated 52%)\n",
      "  adding: content/FashionMNIST_data_augmentation/2/ (stored 0%)\n",
      "  adding: content/FashionMNIST_data_augmentation/2/correlation_matrix.csv (deflated 49%)\n",
      "  adding: content/FashionMNIST_data_augmentation/2/accuracy.csv (deflated 19%)\n",
      "  adding: content/FashionMNIST_data_augmentation/2/weights/ (stored 0%)\n",
      "  adding: content/FashionMNIST_data_augmentation/2/weights/weights-vetical shifting.h5 (deflated 71%)\n",
      "  adding: content/FashionMNIST_data_augmentation/2/weights/weights-horizontal shifting.h5 (deflated 71%)\n",
      "  adding: content/FashionMNIST_data_augmentation/2/weights/weights-rotation.h5 (deflated 71%)\n",
      "  adding: content/FashionMNIST_data_augmentation/2/history/ (stored 0%)\n",
      "  adding: content/FashionMNIST_data_augmentation/2/history/history-vetical shifting.csv (deflated 52%)\n",
      "  adding: content/FashionMNIST_data_augmentation/2/history/history-horizontal shifting.csv (deflated 52%)\n",
      "  adding: content/FashionMNIST_data_augmentation/2/history/history-rotation.csv (deflated 52%)\n",
      "  adding: content/FashionMNIST_data_augmentation/10/ (stored 0%)\n",
      "  adding: content/FashionMNIST_data_augmentation/10/correlation_matrix.csv (deflated 50%)\n",
      "  adding: content/FashionMNIST_data_augmentation/10/accuracy.csv (deflated 20%)\n",
      "  adding: content/FashionMNIST_data_augmentation/10/weights/ (stored 0%)\n",
      "  adding: content/FashionMNIST_data_augmentation/10/weights/weights-vetical shifting.h5 (deflated 71%)\n",
      "  adding: content/FashionMNIST_data_augmentation/10/weights/weights-horizontal shifting.h5 (deflated 71%)\n",
      "  adding: content/FashionMNIST_data_augmentation/10/weights/weights-rotation.h5 (deflated 71%)\n",
      "  adding: content/FashionMNIST_data_augmentation/10/history/ (stored 0%)\n",
      "  adding: content/FashionMNIST_data_augmentation/10/history/history-vetical shifting.csv (deflated 52%)\n",
      "  adding: content/FashionMNIST_data_augmentation/10/history/history-horizontal shifting.csv (deflated 52%)\n",
      "  adding: content/FashionMNIST_data_augmentation/10/history/history-rotation.csv (deflated 52%)\n",
      "  adding: content/FashionMNIST_data_augmentation/5/ (stored 0%)\n",
      "  adding: content/FashionMNIST_data_augmentation/5/correlation_matrix.csv (deflated 50%)\n",
      "  adding: content/FashionMNIST_data_augmentation/5/accuracy.csv (deflated 20%)\n",
      "  adding: content/FashionMNIST_data_augmentation/5/weights/ (stored 0%)\n",
      "  adding: content/FashionMNIST_data_augmentation/5/weights/weights-vetical shifting.h5 (deflated 71%)\n",
      "  adding: content/FashionMNIST_data_augmentation/5/weights/weights-horizontal shifting.h5 (deflated 71%)\n",
      "  adding: content/FashionMNIST_data_augmentation/5/weights/weights-rotation.h5 (deflated 71%)\n",
      "  adding: content/FashionMNIST_data_augmentation/5/history/ (stored 0%)\n",
      "  adding: content/FashionMNIST_data_augmentation/5/history/history-vetical shifting.csv (deflated 52%)\n",
      "  adding: content/FashionMNIST_data_augmentation/5/history/history-horizontal shifting.csv (deflated 51%)\n",
      "  adding: content/FashionMNIST_data_augmentation/5/history/history-rotation.csv (deflated 52%)\n",
      "  adding: content/FashionMNIST_data_augmentation/6/ (stored 0%)\n",
      "  adding: content/FashionMNIST_data_augmentation/6/correlation_matrix.csv (deflated 50%)\n",
      "  adding: content/FashionMNIST_data_augmentation/6/accuracy.csv (deflated 20%)\n",
      "  adding: content/FashionMNIST_data_augmentation/6/weights/ (stored 0%)\n",
      "  adding: content/FashionMNIST_data_augmentation/6/weights/weights-vetical shifting.h5 (deflated 71%)\n",
      "  adding: content/FashionMNIST_data_augmentation/6/weights/weights-horizontal shifting.h5 (deflated 71%)\n",
      "  adding: content/FashionMNIST_data_augmentation/6/weights/weights-rotation.h5 (deflated 71%)\n",
      "  adding: content/FashionMNIST_data_augmentation/6/history/ (stored 0%)\n",
      "  adding: content/FashionMNIST_data_augmentation/6/history/history-vetical shifting.csv (deflated 52%)\n",
      "  adding: content/FashionMNIST_data_augmentation/6/history/history-horizontal shifting.csv (deflated 53%)\n",
      "  adding: content/FashionMNIST_data_augmentation/6/history/history-rotation.csv (deflated 52%)\n",
      "  adding: content/FashionMNIST_data_augmentation/results_.csv (deflated 48%)\n",
      "  adding: content/FashionMNIST_data_augmentation/4/ (stored 0%)\n",
      "  adding: content/FashionMNIST_data_augmentation/4/correlation_matrix.csv (deflated 50%)\n",
      "  adding: content/FashionMNIST_data_augmentation/4/accuracy.csv (deflated 20%)\n",
      "  adding: content/FashionMNIST_data_augmentation/4/weights/ (stored 0%)\n",
      "  adding: content/FashionMNIST_data_augmentation/4/weights/weights-vetical shifting.h5 (deflated 71%)\n",
      "  adding: content/FashionMNIST_data_augmentation/4/weights/weights-horizontal shifting.h5 (deflated 71%)\n",
      "  adding: content/FashionMNIST_data_augmentation/4/weights/weights-rotation.h5 (deflated 71%)\n",
      "  adding: content/FashionMNIST_data_augmentation/4/history/ (stored 0%)\n",
      "  adding: content/FashionMNIST_data_augmentation/4/history/history-vetical shifting.csv (deflated 52%)\n",
      "  adding: content/FashionMNIST_data_augmentation/4/history/history-horizontal shifting.csv (deflated 52%)\n",
      "  adding: content/FashionMNIST_data_augmentation/4/history/history-rotation.csv (deflated 52%)\n",
      "  adding: content/FashionMNIST_data_augmentation/1/ (stored 0%)\n",
      "  adding: content/FashionMNIST_data_augmentation/1/correlation_matrix.csv (deflated 50%)\n",
      "  adding: content/FashionMNIST_data_augmentation/1/accuracy.csv (deflated 20%)\n",
      "  adding: content/FashionMNIST_data_augmentation/1/weights/ (stored 0%)\n",
      "  adding: content/FashionMNIST_data_augmentation/1/weights/weights-vetical shifting.h5 (deflated 71%)\n",
      "  adding: content/FashionMNIST_data_augmentation/1/weights/weights-horizontal shifting.h5 (deflated 71%)\n",
      "  adding: content/FashionMNIST_data_augmentation/1/weights/weights-rotation.h5 (deflated 71%)\n",
      "  adding: content/FashionMNIST_data_augmentation/1/history/ (stored 0%)\n",
      "  adding: content/FashionMNIST_data_augmentation/1/history/history-vetical shifting.csv (deflated 52%)\n",
      "  adding: content/FashionMNIST_data_augmentation/1/history/history-horizontal shifting.csv (deflated 52%)\n",
      "  adding: content/FashionMNIST_data_augmentation/1/history/history-rotation.csv (deflated 53%)\n",
      "  adding: content/FashionMNIST_data_augmentation/3/ (stored 0%)\n",
      "  adding: content/FashionMNIST_data_augmentation/3/correlation_matrix.csv (deflated 51%)\n",
      "  adding: content/FashionMNIST_data_augmentation/3/accuracy.csv (deflated 18%)\n",
      "  adding: content/FashionMNIST_data_augmentation/3/weights/ (stored 0%)\n",
      "  adding: content/FashionMNIST_data_augmentation/3/weights/weights-vetical shifting.h5 (deflated 71%)\n",
      "  adding: content/FashionMNIST_data_augmentation/3/weights/weights-horizontal shifting.h5 (deflated 71%)\n",
      "  adding: content/FashionMNIST_data_augmentation/3/weights/weights-rotation.h5 (deflated 71%)\n",
      "  adding: content/FashionMNIST_data_augmentation/3/history/ (stored 0%)\n",
      "  adding: content/FashionMNIST_data_augmentation/3/history/history-vetical shifting.csv (deflated 53%)\n",
      "  adding: content/FashionMNIST_data_augmentation/3/history/history-horizontal shifting.csv (deflated 52%)\n",
      "  adding: content/FashionMNIST_data_augmentation/3/history/history-rotation.csv (deflated 52%)\n"
     ]
    }
   ],
   "source": [
    "!zip -r /content/FashionMNIST_data_augmentation.zip /content/FashionMNIST_data_augmentation"
   ]
  }
 ],
 "metadata": {
  "accelerator": "GPU",
  "colab": {
   "collapsed_sections": [],
   "name": "augmentFashionMNIST.ipynb",
   "provenance": []
  },
  "kernelspec": {
   "display_name": "Python 3",
   "language": "python",
   "name": "python3"
  },
  "language_info": {
   "codemirror_mode": {
    "name": "ipython",
    "version": 3
   },
   "file_extension": ".py",
   "mimetype": "text/x-python",
   "name": "python",
   "nbconvert_exporter": "python",
   "pygments_lexer": "ipython3",
   "version": "3.7.7"
  }
 },
 "nbformat": 4,
 "nbformat_minor": 1
}
