{
 "cells": [
  {
   "cell_type": "code",
   "execution_count": 1,
   "metadata": {
    "colab": {
     "base_uri": "https://localhost:8080/",
     "height": 34
    },
    "colab_type": "code",
    "id": "fde69AMuOpox",
    "outputId": "acbc98f6-e9a5-4a92-ddef-8a61072f3385"
   },
   "outputs": [
    {
     "name": "stderr",
     "output_type": "stream",
     "text": [
      "Using TensorFlow backend.\n"
     ]
    }
   ],
   "source": [
    "import keras\n",
    "import cv2\n",
    "import os\n",
    "import numpy as np\n",
    "import pandas as pd\n",
    "import tensorflow as tf\n",
    "from itertools import count\n",
    "from sklearn.metrics import accuracy_score\n",
    "from keras.datasets import fashion_mnist,mnist\n",
    "from keras.applications.vgg16 import VGG16\n",
    "from keras.layers import Dense, Dropout, Flatten, Activation, Input, Conv2D, MaxPooling2D, BatchNormalization, GlobalAveragePooling2D\n",
    "from sklearn.model_selection import train_test_split\n",
    "from keras.models import Model\n",
    "from keras.callbacks import EarlyStopping, CSVLogger\n",
    "from keras.preprocessing.image import ImageDataGenerator\n",
    "from scipy.stats import pearsonr\n",
    "from tqdm import tqdm\n",
    "from scipy import ndimage\n",
    "from IPython.display import clear_output"
   ]
  },
  {
   "cell_type": "code",
   "execution_count": 11,
   "metadata": {
    "colab": {},
    "colab_type": "code",
    "id": "qYrab7qpOppj"
   },
   "outputs": [],
   "source": [
    "BATCH_SIZE = 128\n",
    "EPOCHS = 9999\n",
    "IMAGE_SIZE = 28\n",
    "NUM_CLASSES = 10\n",
    "NUM_CHANNELS = 1\n",
    "MODEL_NAME = \"FashionMNIST_rotation\"\n",
    "VOTING = 'SOFT'\n",
    "PATH = \"\"\n",
    "MODEL_ADDITION_DELTA = 0.01\n",
    "MODEL_ADDITION_PATIENCE = 3\n",
    "NR_OF_RUNS = 10"
   ]
  },
  {
   "cell_type": "markdown",
   "metadata": {
    "colab_type": "text",
    "id": "g8QvEt97vF52"
   },
   "source": [
    "# Preprocess"
   ]
  },
  {
   "cell_type": "code",
   "execution_count": 3,
   "metadata": {
    "colab": {},
    "colab_type": "code",
    "id": "O-Ohz27-3QY0"
   },
   "outputs": [],
   "source": [
    "def preprocess(imgs):\n",
    "    return imgs.reshape(imgs.shape[0], IMAGE_SIZE, IMAGE_SIZE, 1)"
   ]
  },
  {
   "cell_type": "code",
   "execution_count": 4,
   "metadata": {
    "colab": {
     "base_uri": "https://localhost:8080/",
     "height": 208
    },
    "colab_type": "code",
    "id": "XypdmBJROpp9",
    "outputId": "64d5cf3a-d181-4852-85c8-8ffdaf0501e6"
   },
   "outputs": [
    {
     "name": "stdout",
     "output_type": "stream",
     "text": [
      "Downloading data from http://fashion-mnist.s3-website.eu-central-1.amazonaws.com/train-labels-idx1-ubyte.gz\n",
      "32768/29515 [=================================] - 0s 8us/step\n",
      "Downloading data from http://fashion-mnist.s3-website.eu-central-1.amazonaws.com/train-images-idx3-ubyte.gz\n",
      "26427392/26421880 [==============================] - 4s 0us/step\n",
      "Downloading data from http://fashion-mnist.s3-website.eu-central-1.amazonaws.com/t10k-labels-idx1-ubyte.gz\n",
      "8192/5148 [===============================================] - 0s 0us/step\n",
      "Downloading data from http://fashion-mnist.s3-website.eu-central-1.amazonaws.com/t10k-images-idx3-ubyte.gz\n",
      "4423680/4422102 [==============================] - 2s 0us/step\n",
      "x_train shape: (60000, 28, 28, 1)\n",
      "60000 train samples\n",
      "10000 test samples\n"
     ]
    }
   ],
   "source": [
    "(x_train_val, y_train_val), (x_test, y_test) = fashion_mnist.load_data()\n",
    "\n",
    "x_train_val = preprocess(x_train_val)\n",
    "x_test = preprocess(x_test)\n",
    "\n",
    "print('x_train shape:', x_train_val.shape)\n",
    "print(x_train_val.shape[0], 'train samples')\n",
    "print(x_test.shape[0], 'test samples')"
   ]
  },
  {
   "cell_type": "code",
   "execution_count": 5,
   "metadata": {
    "colab": {},
    "colab_type": "code",
    "id": "mo8yHyg-Opqo"
   },
   "outputs": [],
   "source": [
    "# Convert class vectors to binary class matrices.\n",
    "y_train_val = keras.utils.to_categorical(y_train_val, NUM_CLASSES)\n",
    "y_testc = keras.utils.to_categorical(y_test, NUM_CLASSES)"
   ]
  },
  {
   "cell_type": "code",
   "execution_count": 6,
   "metadata": {
    "colab": {},
    "colab_type": "code",
    "id": "a4SYRuKZaIwb"
   },
   "outputs": [],
   "source": [
    "x_train_val = x_train_val.astype('float32')\n",
    "x_test = x_test.astype('float32')\n",
    "x_train_val /= 255\n",
    "x_test /= 255"
   ]
  },
  {
   "cell_type": "markdown",
   "metadata": {
    "colab_type": "text",
    "id": "gIBGIrlkvOt0"
   },
   "source": [
    "# Model"
   ]
  },
  {
   "cell_type": "code",
   "execution_count": 7,
   "metadata": {
    "colab": {},
    "colab_type": "code",
    "id": "zLWph6_aOpr2"
   },
   "outputs": [],
   "source": [
    "def FashionMNISTmodel(imsize, num_classes, num_channels):\n",
    "    inputs = Input((imsize,imsize,num_channels))\n",
    "    x = Conv2D(filters = 32, kernel_size = (3,3), activation = 'relu', strides = 2)(inputs)\n",
    "    x = BatchNormalization()(x)\n",
    "    x = MaxPooling2D(pool_size = (2,2), strides=(2,2), padding = \"same\")(x)\n",
    "    x = Conv2D(filters=32, kernel_size=(1,1), activation='relu', padding='valid')(x)\n",
    "    x = Conv2D(filters = 10, kernel_size = (1,1),strides = (1,1), padding = 'valid')(x)\n",
    "    x = GlobalAveragePooling2D()(x)\n",
    "    outputs = Activation('softmax')(x)\n",
    "    \n",
    "    model = Model(inputs=inputs, outputs=outputs)\n",
    "    \n",
    "    optimizer = keras.optimizers.Adam(learning_rate = 1e-04)\n",
    "\n",
    "    model.compile(loss='categorical_crossentropy',\n",
    "                      optimizer=optimizer,\n",
    "                      metrics=['accuracy'])\n",
    "    return model"
   ]
  },
  {
   "cell_type": "markdown",
   "metadata": {
    "colab_type": "text",
    "id": "En8s8pDUP67N"
   },
   "source": [
    "#Predict\n"
   ]
  },
  {
   "cell_type": "code",
   "execution_count": 12,
   "metadata": {
    "colab": {},
    "colab_type": "code",
    "id": "NLxVuqboP-cO"
   },
   "outputs": [],
   "source": [
    "def hard_voting(models, X):\n",
    "    predictions = []\n",
    "\n",
    "    for m in models:\n",
    "        predictions.append(np.argmax(m.predict(X), axis=1))\n",
    "\n",
    "    prediction = np.transpose(predictions)\n",
    "    prediction = np.apply_along_axis(lambda x: np.bincount(x).argmax(), axis=1, arr=prediction)\n",
    "\n",
    "    return prediction\n",
    "\n",
    "def soft_voting(models, X):\n",
    "    predictions = np.empty((len(X),0,NUM_CLASSES))\n",
    "\n",
    "    for m in models:\n",
    "        pred = np.expand_dims(m.predict(X), axis=1)\n",
    "        predictions = np.append(predictions, pred, axis=1)\n",
    "\n",
    "    predictions = np.apply_along_axis(np.transpose, axis=1, arr=predictions)\n",
    "    predictions = np.mean(predictions, axis=1)\n",
    "    prediction = np.argmax(predictions, axis=1)\n",
    "\n",
    "    return prediction\n",
    "\n",
    "def predict(models, X, Y,voting = 'soft'):\n",
    "    \n",
    "    if voting == \"soft\":\n",
    "      prediction = soft_voting(models, X)\n",
    "    elif voting == \"hard\":\n",
    "      prediction = hard_voting(models, X)\n",
    "    else:\n",
    "      raise ValueError(f\"Voting mechanism: {VOTING} not supported\")\n",
    "\n",
    "    return accuracy_score(prediction, np.argmax(Y, axis=1))"
   ]
  },
  {
   "cell_type": "markdown",
   "metadata": {
    "colab_type": "text",
    "id": "5MyRrQVaQR_H"
   },
   "source": [
    "#Augmentation \n"
   ]
  },
  {
   "cell_type": "code",
   "execution_count": 9,
   "metadata": {
    "colab": {},
    "colab_type": "code",
    "id": "zGFhlwUcQXXL"
   },
   "outputs": [],
   "source": [
    "def rotate_image(image):\n",
    "    if np.random.rand() < 0.2:\n",
    "        angles = np.linspace(1,10,10)\n",
    "        rotation_angle = np.random.choice(angles)\n",
    "        if np.random.rand() < 0.5:\n",
    "            image = ndimage.rotate(image, rotation_angle, reshape = False)\n",
    "        else:\n",
    "            image = ndimage.rotate(image, -rotation_angle, reshape = False) \n",
    "    return image"
   ]
  },
  {
   "cell_type": "markdown",
   "metadata": {
    "colab_type": "text",
    "id": "TVqdcrD_vQ-Q"
   },
   "source": [
    "# Train"
   ]
  },
  {
   "cell_type": "code",
   "execution_count": null,
   "metadata": {
    "colab": {},
    "colab_type": "code",
    "id": "HjvZqLBJOpsw"
   },
   "outputs": [],
   "source": [
    "for run in range(1, NR_OF_RUNS+1):\n",
    "\n",
    "    # Split the data\n",
    "    x_train, x_val, y_train, y_val = train_test_split(x_train_val, y_train_val, test_size=0.20, shuffle= True)\n",
    "\n",
    "    models = []\n",
    "    accuracies = [0]\n",
    "    patience = 0\n",
    "\n",
    "    for i in count(1):\n",
    "\n",
    "        print(f\"\\n ===== Train model {i} =====\")\n",
    "\n",
    "        # Set the seeds\n",
    "        np.random.seed(run*i)\n",
    "        tf.random.set_seed(run*i)\n",
    "\n",
    "        # augmentation\n",
    "        datagen = ImageDataGenerator(preprocessing_function=rotate_image)\n",
    "        datagen = datagen.flow(x_train,y_train, batch_size= BATCH_SIZE)\n",
    "\n",
    "        # Create directories\n",
    "        os.makedirs(PATH + MODEL_NAME + f\"/{run}/history\", exist_ok=True)\n",
    "        os.makedirs(PATH + MODEL_NAME + f\"/{run}/weights\", exist_ok=True)\n",
    "\n",
    "        # Create the model\n",
    "        model = FashionMNISTmodel(IMAGE_SIZE, NUM_CLASSES, 1)\n",
    "        \n",
    "        # Load the weighs if the model is already trained\n",
    "        weights_path = PATH + MODEL_NAME + f\"/{run}/weights/weights-{i}.h5\"\n",
    "\n",
    "        if os.path.exists(weights_path):\n",
    "            print(f\"Skipping training of model {i}: weights exists\")\n",
    "            model.load_weights(weights_path)\n",
    "        else:\n",
    "            es = EarlyStopping(min_delta=0.01, patience=3)\n",
    "            csv_logger = CSVLogger(PATH + MODEL_NAME + f\"/{run}/history/history-{i}.csv\", separator=';')\n",
    "\n",
    "            model.fit_generator(datagen,\n",
    "                                epochs = EPOCHS,\n",
    "                                validation_data = (x_val, y_val),\n",
    "                                shuffle = True,\n",
    "                                callbacks=[es, csv_logger])\n",
    "            \n",
    "            model.save_weights(weights_path)\n",
    "        \n",
    "        models.append(model)\n",
    "\n",
    "        acc = predict(models, x_val, y_val)\n",
    "        delta = acc - accuracies[-1]\n",
    "\n",
    "        accuracies.append(acc)\n",
    "\n",
    "        if delta >= MODEL_ADDITION_DELTA:\n",
    "          patience = 0\n",
    "        else:\n",
    "          patience += 1\n",
    "\n",
    "        print(f\"Model: {i} added. Resulting score: {acc}, Delta: {delta}, Patience: {patience}\")\n",
    "\n",
    "        if patience >= MODEL_ADDITION_PATIENCE:\n",
    "          break\n",
    "\n",
    "    # Results\n",
    "\n",
    "    ## Accuracy vs nr of models\n",
    "    ## Visualizing the accuracy vs the number of models in the ensamble\n",
    "\n",
    "    print(\"\\n ===== Accuracy vs nr of models =====\")\n",
    "\n",
    "    accuracy_df = pd.DataFrame(accuracies, columns=[\"Accuracy\"])\n",
    "    accuracy_df.insert(1, \"Nr of models\", accuracy_df.index)\n",
    "    accuracy_df.to_csv(PATH + MODEL_NAME + f\"/{run}/accuracy_{VOTING}.csv\")\n",
    "    display(accuracy_df)\n",
    "\n",
    "    ## Accuracy\n",
    "    ## The final accuracy of the ensamble on the test set\n",
    "    print(\"\\n ===== Accuracy ======\")\n",
    "\n",
    "    accuracy = predict(models, x_test, y_testc)\n",
    "    print(\"Accuracy: \" + str(accuracy))\n",
    "\n",
    "    ## Correlation between models\n",
    "    print(\"\\n ===== Correlation =====\")\n",
    "    predictions = []\n",
    "\n",
    "    for m in models:\n",
    "        predictions.append(np.argmax(m.predict(x_test), axis=1))\n",
    "    classified = []\n",
    "\n",
    "    for prediction in predictions:\n",
    "        classified.append([1 if i==j else 0 for i,j in zip(prediction,y_test)])\n",
    "    correlation_matrix = []\n",
    "\n",
    "    for ix, x in enumerate(classified):\n",
    "      row = []\n",
    "      \n",
    "      for iy, y in enumerate(classified):\n",
    "        if (ix == iy):\n",
    "          row.append(np.nan)\n",
    "        else:\n",
    "          row.append(pearsonr(x,y)[0])\n",
    "\n",
    "      correlation_matrix.append(row)\n",
    "\n",
    "    correlation_matrix = np.array(correlation_matrix)\n",
    "    correlation_matrix_df = pd.DataFrame(correlation_matrix)\n",
    "    correlation_matrix_df.to_csv(PATH + MODEL_NAME + f\"/{run}/correlation_matrix_{VOTING}.csv\")\n",
    "    \n",
    "    display(correlation_matrix_df)\n",
    "    correlation = np.nanmean(correlation_matrix.flatten())\n",
    "    print(\"Average correlation: \" + str(correlation))\n",
    "\n",
    "    # Save the results\n",
    "    file = PATH + MODEL_NAME + f\"/results_{VOTING}.csv\"\n",
    "    df = pd.DataFrame([[run, accuracy, correlation]])\n",
    "\n",
    "    if not os.path.isfile(file):\n",
    "      df.to_csv(file, header=[\"run\", \"accuracy\", \"correlation\"], index=False)\n",
    "    else: # else it exists so append without writing the header\n",
    "      df.to_csv(file, mode='a', header=False, index=False)\n",
    "\n",
    "    clear_output(wait=True)"
   ]
  },
  {
   "cell_type": "markdown",
   "metadata": {
    "colab_type": "text",
    "id": "fGT6jV-hcLbJ"
   },
   "source": [
    "# Results"
   ]
  },
  {
   "cell_type": "code",
   "execution_count": 14,
   "metadata": {
    "colab": {},
    "colab_type": "code",
    "id": "3ZvQRiBBvl5W"
   },
   "outputs": [],
   "source": [
    "from scipy import stats"
   ]
  },
  {
   "cell_type": "code",
   "execution_count": 15,
   "metadata": {
    "colab": {},
    "colab_type": "code",
    "id": "UbSRKks5vmhD"
   },
   "outputs": [],
   "source": [
    "baseline_hard =  [0.7774,\n",
    "                  0.7774,\n",
    "                  0.7764,\n",
    "                  0.7717,\n",
    "                  0.7669,\n",
    "                  0.7729,\n",
    "                  0.7743,\n",
    "                  0.7662,\n",
    "                  0.7743,\n",
    "                  0.7735]"
   ]
  },
  {
   "cell_type": "code",
   "execution_count": 16,
   "metadata": {
    "colab": {},
    "colab_type": "code",
    "id": "-VU_5YPeQ1QQ"
   },
   "outputs": [],
   "source": [
    "baseline_soft=   [0.7795,\n",
    "                  0.7814,\n",
    "                  0.7824,\n",
    "                  0.7747,\n",
    "                  0.7753,\n",
    "                  0.7758,\n",
    "                  0.7768,\n",
    "                  0.7722,\n",
    "                  0.7776,\n",
    "                  0.7742]"
   ]
  },
  {
   "cell_type": "code",
   "execution_count": 27,
   "metadata": {
    "colab": {
     "base_uri": "https://localhost:8080/",
     "height": 34
    },
    "colab_type": "code",
    "id": "Krqwc_Y4OCxx",
    "outputId": "81449c38-8d2a-406f-ae57-e21533910930"
   },
   "outputs": [
    {
     "data": {
      "text/plain": [
       "0.7731000000000001"
      ]
     },
     "execution_count": 27,
     "metadata": {
      "tags": []
     },
     "output_type": "execute_result"
    }
   ],
   "source": [
    "np.mean(baseline_hard)"
   ]
  },
  {
   "cell_type": "code",
   "execution_count": 26,
   "metadata": {
    "colab": {
     "base_uri": "https://localhost:8080/",
     "height": 34
    },
    "colab_type": "code",
    "id": "Ke2jJF4BN9AQ",
    "outputId": "6116d70a-e16e-47f5-ff04-4944e17463c2"
   },
   "outputs": [
    {
     "data": {
      "text/plain": [
       "0.77699"
      ]
     },
     "execution_count": 26,
     "metadata": {
      "tags": []
     },
     "output_type": "execute_result"
    }
   ],
   "source": [
    "np.mean(baseline_soft)"
   ]
  },
  {
   "cell_type": "code",
   "execution_count": 17,
   "metadata": {
    "colab": {
     "base_uri": "https://localhost:8080/",
     "height": 191
    },
    "colab_type": "code",
    "id": "5Ozg6pK4v1Yx",
    "outputId": "9d150bd4-d292-4c46-e9de-040873061181"
   },
   "outputs": [
    {
     "data": {
      "text/plain": [
       "array([[ 1.        ,  0.7708    ,  0.74016156],\n",
       "       [ 2.        ,  0.7725    ,  0.74890865],\n",
       "       [ 3.        ,  0.7738    ,  0.73243286],\n",
       "       [ 4.        ,  0.7679    ,  0.75930904],\n",
       "       [ 5.        ,  0.7685    ,  0.74236975],\n",
       "       [ 6.        ,  0.7652    ,  0.75432929],\n",
       "       [ 7.        ,  0.7693    ,  0.75868088],\n",
       "       [ 8.        ,  0.7671    ,  0.76382272],\n",
       "       [ 9.        ,  0.7739    ,  0.7170636 ],\n",
       "       [10.        ,  0.766     ,  0.75628955]])"
      ]
     },
     "execution_count": 17,
     "metadata": {
      "tags": []
     },
     "output_type": "execute_result"
    }
   ],
   "source": [
    "augmented_hard = pd.read_csv(\"/content/FashionMNIST_rotation/results_HARD.csv\")\n",
    "augmented_hard = augmented_hard.values\n",
    "augmented_hard"
   ]
  },
  {
   "cell_type": "code",
   "execution_count": 18,
   "metadata": {
    "colab": {
     "base_uri": "https://localhost:8080/",
     "height": 191
    },
    "colab_type": "code",
    "id": "wfnJxSrfQYU7",
    "outputId": "5ce5e5aa-aede-41a3-f12a-63fcd41cb49f"
   },
   "outputs": [
    {
     "data": {
      "text/plain": [
       "array([[ 1.        ,  0.7703    ,  0.74380357],\n",
       "       [ 2.        ,  0.7781    ,  0.74588633],\n",
       "       [ 3.        ,  0.7798    ,  0.73243286],\n",
       "       [ 4.        ,  0.7717    ,  0.75930904],\n",
       "       [ 5.        ,  0.7719    ,  0.74236975],\n",
       "       [ 6.        ,  0.7683    ,  0.75432929],\n",
       "       [ 7.        ,  0.7713    ,  0.75689827],\n",
       "       [ 8.        ,  0.774     ,  0.76382272],\n",
       "       [ 9.        ,  0.7781    ,  0.7170636 ],\n",
       "       [10.        ,  0.7672    ,  0.74179622]])"
      ]
     },
     "execution_count": 18,
     "metadata": {
      "tags": []
     },
     "output_type": "execute_result"
    }
   ],
   "source": [
    "augmented_soft = pd.read_csv(\"/content/FashionMNIST_rotation/results_SOFT.csv\")\n",
    "augmented_soft = augmented_soft.values\n",
    "augmented_soft"
   ]
  },
  {
   "cell_type": "code",
   "execution_count": 19,
   "metadata": {
    "colab": {},
    "colab_type": "code",
    "id": "2GYweHYDwdVZ"
   },
   "outputs": [],
   "source": [
    "augmented_hard = augmented_hard[:,1]\n",
    "augmented_soft = augmented_soft[:,1]"
   ]
  },
  {
   "cell_type": "code",
   "execution_count": 20,
   "metadata": {
    "colab": {
     "base_uri": "https://localhost:8080/",
     "height": 34
    },
    "colab_type": "code",
    "id": "0ydHmwge0Dck",
    "outputId": "f005b5fc-e7db-4eb9-af27-935bd8953bf4"
   },
   "outputs": [
    {
     "data": {
      "text/plain": [
       "0.7695000000000001"
      ]
     },
     "execution_count": 20,
     "metadata": {
      "tags": []
     },
     "output_type": "execute_result"
    }
   ],
   "source": [
    "np.mean(augmented_hard)"
   ]
  },
  {
   "cell_type": "code",
   "execution_count": 21,
   "metadata": {
    "colab": {
     "base_uri": "https://localhost:8080/",
     "height": 34
    },
    "colab_type": "code",
    "id": "X7wlD6720GYj",
    "outputId": "3985b83d-78c3-45c7-a874-09fbac5d5cf1"
   },
   "outputs": [
    {
     "data": {
      "text/plain": [
       "0.7730699999999999"
      ]
     },
     "execution_count": 21,
     "metadata": {
      "tags": []
     },
     "output_type": "execute_result"
    }
   ],
   "source": [
    "np.mean(augmented_soft)"
   ]
  },
  {
   "cell_type": "code",
   "execution_count": 22,
   "metadata": {
    "colab": {
     "base_uri": "https://localhost:8080/",
     "height": 34
    },
    "colab_type": "code",
    "id": "iQxqLwhWwshl",
    "outputId": "62e45638-b6d1-4ea2-951f-0fe7889d67e3"
   },
   "outputs": [
    {
     "data": {
      "text/plain": [
       "Ttest_relResult(statistic=-3.3612418140252545, pvalue=0.008372626536858399)"
      ]
     },
     "execution_count": 22,
     "metadata": {
      "tags": []
     },
     "output_type": "execute_result"
    }
   ],
   "source": [
    "stats.ttest_rel(augmented_hard,baseline_hard)"
   ]
  },
  {
   "cell_type": "code",
   "execution_count": 23,
   "metadata": {
    "colab": {
     "base_uri": "https://localhost:8080/",
     "height": 34
    },
    "colab_type": "code",
    "id": "350YGCOhxbho",
    "outputId": "b1e8fd6f-ea0d-45d5-9230-cd4e6a3c3b64"
   },
   "outputs": [
    {
     "data": {
      "text/plain": [
       "Ttest_relResult(statistic=-3.575541823894351, pvalue=0.005972242419708263)"
      ]
     },
     "execution_count": 23,
     "metadata": {
      "tags": []
     },
     "output_type": "execute_result"
    }
   ],
   "source": [
    "stats.ttest_rel(augmented_soft,baseline_soft)"
   ]
  },
  {
   "cell_type": "markdown",
   "metadata": {
    "colab_type": "text",
    "id": "51rnX_l7Pfdr"
   },
   "source": [
    "## Accuracy\n",
    "The final accuracy of the ensamble on the test set"
   ]
  },
  {
   "cell_type": "code",
   "execution_count": 24,
   "metadata": {
    "colab": {
     "base_uri": "https://localhost:8080/",
     "height": 1000
    },
    "colab_type": "code",
    "id": "GwNmmvSFPlVx",
    "outputId": "0670a529-7b71-42cf-8706-a6b678f7ec38"
   },
   "outputs": [
    {
     "name": "stdout",
     "output_type": "stream",
     "text": [
      "  adding: content/FashionMNIST_rotation/ (stored 0%)\n",
      "  adding: content/FashionMNIST_rotation/8/ (stored 0%)\n",
      "  adding: content/FashionMNIST_rotation/8/history/ (stored 0%)\n",
      "  adding: content/FashionMNIST_rotation/8/history/history-2.csv (deflated 52%)\n",
      "  adding: content/FashionMNIST_rotation/8/history/history-3.csv (deflated 52%)\n",
      "  adding: content/FashionMNIST_rotation/8/history/history-1.csv (deflated 52%)\n",
      "  adding: content/FashionMNIST_rotation/8/history/history-4.csv (deflated 52%)\n",
      "  adding: content/FashionMNIST_rotation/8/weights/ (stored 0%)\n",
      "  adding: content/FashionMNIST_rotation/8/weights/weights-3.h5 (deflated 71%)\n",
      "  adding: content/FashionMNIST_rotation/8/weights/weights-4.h5 (deflated 71%)\n",
      "  adding: content/FashionMNIST_rotation/8/weights/weights-1.h5 (deflated 71%)\n",
      "  adding: content/FashionMNIST_rotation/8/weights/weights-2.h5 (deflated 71%)\n",
      "  adding: content/FashionMNIST_rotation/8/accuracy_HARD.csv (deflated 40%)\n",
      "  adding: content/FashionMNIST_rotation/8/correlation_matrix_HARD.csv (deflated 60%)\n",
      "  adding: content/FashionMNIST_rotation/8/correlation_matrix_SOFT.csv (deflated 60%)\n",
      "  adding: content/FashionMNIST_rotation/8/accuracy_SOFT.csv (deflated 32%)\n",
      "  adding: content/FashionMNIST_rotation/results_HARD.csv (deflated 43%)\n",
      "  adding: content/FashionMNIST_rotation/7/ (stored 0%)\n",
      "  adding: content/FashionMNIST_rotation/7/history/ (stored 0%)\n",
      "  adding: content/FashionMNIST_rotation/7/history/history-2.csv (deflated 52%)\n",
      "  adding: content/FashionMNIST_rotation/7/history/history-6.csv (deflated 53%)\n",
      "  adding: content/FashionMNIST_rotation/7/history/history-3.csv (deflated 52%)\n",
      "  adding: content/FashionMNIST_rotation/7/history/history-1.csv (deflated 52%)\n",
      "  adding: content/FashionMNIST_rotation/7/history/history-4.csv (deflated 52%)\n",
      "  adding: content/FashionMNIST_rotation/7/history/history-5.csv (deflated 52%)\n",
      "  adding: content/FashionMNIST_rotation/7/weights/ (stored 0%)\n",
      "  adding: content/FashionMNIST_rotation/7/weights/weights-3.h5 (deflated 71%)\n",
      "  adding: content/FashionMNIST_rotation/7/weights/weights-4.h5 (deflated 71%)\n",
      "  adding: content/FashionMNIST_rotation/7/weights/weights-6.h5 (deflated 71%)\n",
      "  adding: content/FashionMNIST_rotation/7/weights/weights-5.h5 (deflated 71%)\n",
      "  adding: content/FashionMNIST_rotation/7/weights/weights-1.h5 (deflated 71%)\n",
      "  adding: content/FashionMNIST_rotation/7/weights/weights-2.h5 (deflated 71%)\n",
      "  adding: content/FashionMNIST_rotation/7/accuracy_HARD.csv (deflated 28%)\n",
      "  adding: content/FashionMNIST_rotation/7/correlation_matrix_HARD.csv (deflated 67%)\n",
      "  adding: content/FashionMNIST_rotation/7/correlation_matrix_SOFT.csv (deflated 65%)\n",
      "  adding: content/FashionMNIST_rotation/7/accuracy_SOFT.csv (deflated 29%)\n",
      "  adding: content/FashionMNIST_rotation/1/ (stored 0%)\n",
      "  adding: content/FashionMNIST_rotation/1/history/ (stored 0%)\n",
      "  adding: content/FashionMNIST_rotation/1/history/history-2.csv (deflated 52%)\n",
      "  adding: content/FashionMNIST_rotation/1/history/history-6.csv (deflated 52%)\n",
      "  adding: content/FashionMNIST_rotation/1/history/history-3.csv (deflated 52%)\n",
      "  adding: content/FashionMNIST_rotation/1/history/history-1.csv (deflated 52%)\n",
      "  adding: content/FashionMNIST_rotation/1/history/history-4.csv (deflated 52%)\n",
      "  adding: content/FashionMNIST_rotation/1/history/history-5.csv (deflated 52%)\n",
      "  adding: content/FashionMNIST_rotation/1/weights/ (stored 0%)\n",
      "  adding: content/FashionMNIST_rotation/1/weights/weights-3.h5 (deflated 70%)\n",
      "  adding: content/FashionMNIST_rotation/1/weights/weights-4.h5 (deflated 70%)\n",
      "  adding: content/FashionMNIST_rotation/1/weights/weights-6.h5 (deflated 70%)\n",
      "  adding: content/FashionMNIST_rotation/1/weights/weights-5.h5 (deflated 71%)\n",
      "  adding: content/FashionMNIST_rotation/1/weights/weights-1.h5 (deflated 71%)\n",
      "  adding: content/FashionMNIST_rotation/1/weights/weights-2.h5 (deflated 71%)\n",
      "  adding: content/FashionMNIST_rotation/1/accuracy_HARD.csv (deflated 41%)\n",
      "  adding: content/FashionMNIST_rotation/1/correlation_matrix_HARD.csv (deflated 67%)\n",
      "  adding: content/FashionMNIST_rotation/1/correlation_matrix_SOFT.csv (deflated 62%)\n",
      "  adding: content/FashionMNIST_rotation/1/accuracy_SOFT.csv (deflated 35%)\n",
      "  adding: content/FashionMNIST_rotation/2/ (stored 0%)\n",
      "  adding: content/FashionMNIST_rotation/2/history/ (stored 0%)\n",
      "  adding: content/FashionMNIST_rotation/2/history/history-2.csv (deflated 52%)\n",
      "  adding: content/FashionMNIST_rotation/2/history/history-6.csv (deflated 52%)\n",
      "  adding: content/FashionMNIST_rotation/2/history/history-3.csv (deflated 52%)\n",
      "  adding: content/FashionMNIST_rotation/2/history/history-1.csv (deflated 52%)\n",
      "  adding: content/FashionMNIST_rotation/2/history/history-4.csv (deflated 52%)\n",
      "  adding: content/FashionMNIST_rotation/2/history/history-5.csv (deflated 52%)\n",
      "  adding: content/FashionMNIST_rotation/2/weights/ (stored 0%)\n",
      "  adding: content/FashionMNIST_rotation/2/weights/weights-3.h5 (deflated 70%)\n",
      "  adding: content/FashionMNIST_rotation/2/weights/weights-4.h5 (deflated 71%)\n",
      "  adding: content/FashionMNIST_rotation/2/weights/weights-6.h5 (deflated 71%)\n",
      "  adding: content/FashionMNIST_rotation/2/weights/weights-5.h5 (deflated 71%)\n",
      "  adding: content/FashionMNIST_rotation/2/weights/weights-1.h5 (deflated 70%)\n",
      "  adding: content/FashionMNIST_rotation/2/weights/weights-2.h5 (deflated 70%)\n",
      "  adding: content/FashionMNIST_rotation/2/accuracy_HARD.csv (deflated 47%)\n",
      "  adding: content/FashionMNIST_rotation/2/correlation_matrix_HARD.csv (deflated 67%)\n",
      "  adding: content/FashionMNIST_rotation/2/correlation_matrix_SOFT.csv (deflated 61%)\n",
      "  adding: content/FashionMNIST_rotation/2/accuracy_SOFT.csv (deflated 35%)\n",
      "  adding: content/FashionMNIST_rotation/9/ (stored 0%)\n",
      "  adding: content/FashionMNIST_rotation/9/history/ (stored 0%)\n",
      "  adding: content/FashionMNIST_rotation/9/history/history-2.csv (deflated 51%)\n",
      "  adding: content/FashionMNIST_rotation/9/history/history-3.csv (deflated 52%)\n",
      "  adding: content/FashionMNIST_rotation/9/history/history-1.csv (deflated 52%)\n",
      "  adding: content/FashionMNIST_rotation/9/history/history-4.csv (deflated 52%)\n",
      "  adding: content/FashionMNIST_rotation/9/weights/ (stored 0%)\n",
      "  adding: content/FashionMNIST_rotation/9/weights/weights-3.h5 (deflated 71%)\n",
      "  adding: content/FashionMNIST_rotation/9/weights/weights-4.h5 (deflated 71%)\n",
      "  adding: content/FashionMNIST_rotation/9/weights/weights-1.h5 (deflated 71%)\n",
      "  adding: content/FashionMNIST_rotation/9/weights/weights-2.h5 (deflated 71%)\n",
      "  adding: content/FashionMNIST_rotation/9/accuracy_HARD.csv (deflated 38%)\n",
      "  adding: content/FashionMNIST_rotation/9/correlation_matrix_HARD.csv (deflated 61%)\n",
      "  adding: content/FashionMNIST_rotation/9/correlation_matrix_SOFT.csv (deflated 61%)\n",
      "  adding: content/FashionMNIST_rotation/9/accuracy_SOFT.csv (deflated 29%)\n",
      "  adding: content/FashionMNIST_rotation/5/ (stored 0%)\n",
      "  adding: content/FashionMNIST_rotation/5/history/ (stored 0%)\n",
      "  adding: content/FashionMNIST_rotation/5/history/history-2.csv (deflated 52%)\n",
      "  adding: content/FashionMNIST_rotation/5/history/history-3.csv (deflated 52%)\n",
      "  adding: content/FashionMNIST_rotation/5/history/history-1.csv (deflated 52%)\n",
      "  adding: content/FashionMNIST_rotation/5/history/history-4.csv (deflated 52%)\n",
      "  adding: content/FashionMNIST_rotation/5/weights/ (stored 0%)\n",
      "  adding: content/FashionMNIST_rotation/5/weights/weights-3.h5 (deflated 71%)\n",
      "  adding: content/FashionMNIST_rotation/5/weights/weights-4.h5 (deflated 71%)\n",
      "  adding: content/FashionMNIST_rotation/5/weights/weights-1.h5 (deflated 71%)\n",
      "  adding: content/FashionMNIST_rotation/5/weights/weights-2.h5 (deflated 71%)\n",
      "  adding: content/FashionMNIST_rotation/5/accuracy_HARD.csv (deflated 35%)\n",
      "  adding: content/FashionMNIST_rotation/5/correlation_matrix_HARD.csv (deflated 61%)\n",
      "  adding: content/FashionMNIST_rotation/5/correlation_matrix_SOFT.csv (deflated 61%)\n",
      "  adding: content/FashionMNIST_rotation/5/accuracy_SOFT.csv (deflated 41%)\n",
      "  adding: content/FashionMNIST_rotation/6/ (stored 0%)\n",
      "  adding: content/FashionMNIST_rotation/6/history/ (stored 0%)\n",
      "  adding: content/FashionMNIST_rotation/6/history/history-2.csv (deflated 51%)\n",
      "  adding: content/FashionMNIST_rotation/6/history/history-3.csv (deflated 52%)\n",
      "  adding: content/FashionMNIST_rotation/6/history/history-1.csv (deflated 52%)\n",
      "  adding: content/FashionMNIST_rotation/6/history/history-4.csv (deflated 51%)\n",
      "  adding: content/FashionMNIST_rotation/6/weights/ (stored 0%)\n",
      "  adding: content/FashionMNIST_rotation/6/weights/weights-3.h5 (deflated 71%)\n",
      "  adding: content/FashionMNIST_rotation/6/weights/weights-4.h5 (deflated 71%)\n",
      "  adding: content/FashionMNIST_rotation/6/weights/weights-1.h5 (deflated 71%)\n",
      "  adding: content/FashionMNIST_rotation/6/weights/weights-2.h5 (deflated 71%)\n",
      "  adding: content/FashionMNIST_rotation/6/accuracy_HARD.csv (deflated 33%)\n",
      "  adding: content/FashionMNIST_rotation/6/correlation_matrix_HARD.csv (deflated 61%)\n",
      "  adding: content/FashionMNIST_rotation/6/correlation_matrix_SOFT.csv (deflated 61%)\n",
      "  adding: content/FashionMNIST_rotation/6/accuracy_SOFT.csv (deflated 28%)\n",
      "  adding: content/FashionMNIST_rotation/10/ (stored 0%)\n",
      "  adding: content/FashionMNIST_rotation/10/history/ (stored 0%)\n",
      "  adding: content/FashionMNIST_rotation/10/history/history-2.csv (deflated 52%)\n",
      "  adding: content/FashionMNIST_rotation/10/history/history-3.csv (deflated 52%)\n",
      "  adding: content/FashionMNIST_rotation/10/history/history-1.csv (deflated 51%)\n",
      "  adding: content/FashionMNIST_rotation/10/history/history-4.csv (deflated 52%)\n",
      "  adding: content/FashionMNIST_rotation/10/history/history-5.csv (deflated 51%)\n",
      "  adding: content/FashionMNIST_rotation/10/weights/ (stored 0%)\n",
      "  adding: content/FashionMNIST_rotation/10/weights/weights-3.h5 (deflated 71%)\n",
      "  adding: content/FashionMNIST_rotation/10/weights/weights-4.h5 (deflated 71%)\n",
      "  adding: content/FashionMNIST_rotation/10/weights/weights-5.h5 (deflated 71%)\n",
      "  adding: content/FashionMNIST_rotation/10/weights/weights-1.h5 (deflated 71%)\n",
      "  adding: content/FashionMNIST_rotation/10/weights/weights-2.h5 (deflated 71%)\n",
      "  adding: content/FashionMNIST_rotation/10/accuracy_HARD.csv (deflated 33%)\n",
      "  adding: content/FashionMNIST_rotation/10/correlation_matrix_HARD.csv (deflated 61%)\n",
      "  adding: content/FashionMNIST_rotation/10/correlation_matrix_SOFT.csv (deflated 65%)\n",
      "  adding: content/FashionMNIST_rotation/10/accuracy_SOFT.csv (deflated 26%)\n",
      "  adding: content/FashionMNIST_rotation/4/ (stored 0%)\n",
      "  adding: content/FashionMNIST_rotation/4/history/ (stored 0%)\n",
      "  adding: content/FashionMNIST_rotation/4/history/history-2.csv (deflated 52%)\n",
      "  adding: content/FashionMNIST_rotation/4/history/history-3.csv (deflated 51%)\n",
      "  adding: content/FashionMNIST_rotation/4/history/history-1.csv (deflated 52%)\n",
      "  adding: content/FashionMNIST_rotation/4/history/history-4.csv (deflated 52%)\n",
      "  adding: content/FashionMNIST_rotation/4/weights/ (stored 0%)\n",
      "  adding: content/FashionMNIST_rotation/4/weights/weights-3.h5 (deflated 71%)\n",
      "  adding: content/FashionMNIST_rotation/4/weights/weights-4.h5 (deflated 71%)\n",
      "  adding: content/FashionMNIST_rotation/4/weights/weights-1.h5 (deflated 71%)\n",
      "  adding: content/FashionMNIST_rotation/4/weights/weights-2.h5 (deflated 71%)\n",
      "  adding: content/FashionMNIST_rotation/4/accuracy_HARD.csv (deflated 39%)\n",
      "  adding: content/FashionMNIST_rotation/4/correlation_matrix_HARD.csv (deflated 61%)\n",
      "  adding: content/FashionMNIST_rotation/4/correlation_matrix_SOFT.csv (deflated 61%)\n",
      "  adding: content/FashionMNIST_rotation/4/accuracy_SOFT.csv (deflated 37%)\n",
      "  adding: content/FashionMNIST_rotation/3/ (stored 0%)\n",
      "  adding: content/FashionMNIST_rotation/3/history/ (stored 0%)\n",
      "  adding: content/FashionMNIST_rotation/3/history/history-2.csv (deflated 52%)\n",
      "  adding: content/FashionMNIST_rotation/3/history/history-3.csv (deflated 52%)\n",
      "  adding: content/FashionMNIST_rotation/3/history/history-1.csv (deflated 52%)\n",
      "  adding: content/FashionMNIST_rotation/3/history/history-4.csv (deflated 52%)\n",
      "  adding: content/FashionMNIST_rotation/3/weights/ (stored 0%)\n",
      "  adding: content/FashionMNIST_rotation/3/weights/weights-3.h5 (deflated 71%)\n",
      "  adding: content/FashionMNIST_rotation/3/weights/weights-4.h5 (deflated 71%)\n",
      "  adding: content/FashionMNIST_rotation/3/weights/weights-1.h5 (deflated 71%)\n",
      "  adding: content/FashionMNIST_rotation/3/weights/weights-2.h5 (deflated 71%)\n",
      "  adding: content/FashionMNIST_rotation/3/accuracy_HARD.csv (deflated 32%)\n",
      "  adding: content/FashionMNIST_rotation/3/correlation_matrix_HARD.csv (deflated 61%)\n",
      "  adding: content/FashionMNIST_rotation/3/correlation_matrix_SOFT.csv (deflated 61%)\n",
      "  adding: content/FashionMNIST_rotation/3/accuracy_SOFT.csv (deflated 26%)\n",
      "  adding: content/FashionMNIST_rotation/results_SOFT.csv (deflated 43%)\n"
     ]
    }
   ],
   "source": [
    "!zip -r /content/FashionMNIST_rotation10.zip /content/FashionMNIST_rotation"
   ]
  }
 ],
 "metadata": {
  "accelerator": "GPU",
  "colab": {
   "collapsed_sections": [],
   "name": "rotation10FashionMNIST.ipynb",
   "provenance": []
  },
  "kernelspec": {
   "display_name": "Python 3",
   "language": "python",
   "name": "python3"
  },
  "language_info": {
   "codemirror_mode": {
    "name": "ipython",
    "version": 3
   },
   "file_extension": ".py",
   "mimetype": "text/x-python",
   "name": "python",
   "nbconvert_exporter": "python",
   "pygments_lexer": "ipython3",
   "version": "3.7.7"
  }
 },
 "nbformat": 4,
 "nbformat_minor": 1
}
