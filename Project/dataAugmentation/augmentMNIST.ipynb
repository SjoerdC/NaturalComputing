{
  "nbformat": 4,
  "nbformat_minor": 0,
  "metadata": {
    "accelerator": "GPU",
    "colab": {
      "name": "augmentMNIST.ipynb",
      "provenance": [],
      "collapsed_sections": []
    },
    "kernelspec": {
      "display_name": "Python 3",
      "language": "python",
      "name": "python3"
    },
    "language_info": {
      "codemirror_mode": {
        "name": "ipython",
        "version": 3
      },
      "file_extension": ".py",
      "mimetype": "text/x-python",
      "name": "python",
      "nbconvert_exporter": "python",
      "pygments_lexer": "ipython3",
      "version": "3.6.9"
    }
  },
  "cells": [
    {
      "cell_type": "code",
      "metadata": {
        "colab_type": "code",
        "id": "fde69AMuOpox",
        "colab": {}
      },
      "source": [
        "import keras\n",
        "import cv2\n",
        "import os\n",
        "import numpy as np\n",
        "import pandas as pd\n",
        "import tensorflow as tf\n",
        "from itertools import count\n",
        "from sklearn.metrics import accuracy_score\n",
        "from keras.datasets import fashion_mnist,mnist\n",
        "from keras.applications.vgg16 import VGG16\n",
        "from keras.layers import Dense, Dropout, Flatten, Activation, Input, Conv2D, MaxPooling2D, BatchNormalization, GlobalAveragePooling2D\n",
        "from sklearn.model_selection import train_test_split\n",
        "from keras.models import Model\n",
        "from keras.callbacks import EarlyStopping, CSVLogger\n",
        "from keras.preprocessing.image import ImageDataGenerator\n",
        "from scipy.stats import pearsonr\n",
        "from tqdm import tqdm\n",
        "from scipy import ndimage\n",
        "from IPython.display import clear_output"
      ],
      "execution_count": 0,
      "outputs": []
    },
    {
      "cell_type": "code",
      "metadata": {
        "colab_type": "code",
        "id": "qYrab7qpOppj",
        "colab": {}
      },
      "source": [
        "BATCH_SIZE = 128\n",
        "EPOCHS = 9999\n",
        "IMAGE_SIZE = 28\n",
        "NUM_CLASSES = 10\n",
        "NUM_CHANNELS = 1\n",
        "MODEL_NAME = \"MNIST_data_augmentation\"\n",
        "PATH = \"\"\n",
        "NR_OF_RUNS = 10"
      ],
      "execution_count": 0,
      "outputs": []
    },
    {
      "cell_type": "markdown",
      "metadata": {
        "id": "g8QvEt97vF52",
        "colab_type": "text"
      },
      "source": [
        "# Preprocess"
      ]
    },
    {
      "cell_type": "code",
      "metadata": {
        "id": "O-Ohz27-3QY0",
        "colab_type": "code",
        "colab": {}
      },
      "source": [
        "def preprocess(imgs):\n",
        "    return imgs.reshape(imgs.shape[0], IMAGE_SIZE, IMAGE_SIZE, 1)"
      ],
      "execution_count": 0,
      "outputs": []
    },
    {
      "cell_type": "code",
      "metadata": {
        "colab_type": "code",
        "id": "XypdmBJROpp9",
        "outputId": "3017b78d-263c-4f0d-9802-beb0ec7bd2e3",
        "colab": {
          "base_uri": "https://localhost:8080/",
          "height": 69
        }
      },
      "source": [
        "(x_train, y_train), (x_test, y_test) = mnist.load_data()\n",
        "\n",
        "x_train = preprocess(x_train)\n",
        "x_test = preprocess(x_test)\n",
        "\n",
        "print('x_train shape:', x_train.shape)\n",
        "print(x_train.shape[0], 'train samples')\n",
        "print(x_test.shape[0], 'test samples')"
      ],
      "execution_count": 56,
      "outputs": [
        {
          "output_type": "stream",
          "text": [
            "x_train shape: (60000, 28, 28, 1)\n",
            "60000 train samples\n",
            "10000 test samples\n"
          ],
          "name": "stdout"
        }
      ]
    },
    {
      "cell_type": "code",
      "metadata": {
        "colab_type": "code",
        "id": "mo8yHyg-Opqo",
        "colab": {}
      },
      "source": [
        "# Convert class vectors to binary class matrices.\n",
        "y_trainc = keras.utils.to_categorical(y_train, NUM_CLASSES)\n",
        "y_testc = keras.utils.to_categorical(y_test, NUM_CLASSES)"
      ],
      "execution_count": 0,
      "outputs": []
    },
    {
      "cell_type": "code",
      "metadata": {
        "id": "a4SYRuKZaIwb",
        "colab_type": "code",
        "colab": {}
      },
      "source": [
        "x_train_full = x_train.astype('float32')\n",
        "x_test = x_test.astype('float32')\n",
        "x_train_full /= 255\n",
        "x_test /= 255"
      ],
      "execution_count": 0,
      "outputs": []
    },
    {
      "cell_type": "markdown",
      "metadata": {
        "id": "gIBGIrlkvOt0",
        "colab_type": "text"
      },
      "source": [
        "# Model"
      ]
    },
    {
      "cell_type": "code",
      "metadata": {
        "colab_type": "code",
        "id": "zLWph6_aOpr2",
        "colab": {}
      },
      "source": [
        "def MNISTmodel(imsize, num_classes, num_channels):\n",
        "    inputs = Input((imsize,imsize,num_channels))\n",
        "    x = Conv2D(filters = 32, kernel_size = (3,3), activation = 'relu', strides = 2)(inputs)\n",
        "    x = BatchNormalization()(x)\n",
        "    x = MaxPooling2D(pool_size = (2,2), strides=(2,2), padding = \"same\")(x)\n",
        "    x = Conv2D(filters=32, kernel_size=(1,1), activation='relu', padding='valid')(x)\n",
        "    x = Conv2D(filters = 10, kernel_size = (1,1),strides = (1,1), padding = 'valid')(x)\n",
        "    x = GlobalAveragePooling2D()(x)\n",
        "    outputs = Activation('softmax')(x)\n",
        "    \n",
        "    model = Model(inputs=inputs, outputs=outputs)\n",
        "    \n",
        "    optimizer = keras.optimizers.Adam(learning_rate = 1e-04)\n",
        "\n",
        "    model.compile(loss='categorical_crossentropy',\n",
        "                      optimizer=optimizer,\n",
        "                      metrics=['accuracy'])\n",
        "    return model"
      ],
      "execution_count": 0,
      "outputs": []
    },
    {
      "cell_type": "markdown",
      "metadata": {
        "id": "En8s8pDUP67N",
        "colab_type": "text"
      },
      "source": [
        "#Predict\n"
      ]
    },
    {
      "cell_type": "code",
      "metadata": {
        "id": "NLxVuqboP-cO",
        "colab_type": "code",
        "colab": {}
      },
      "source": [
        "def hard_voting(models, X):\n",
        "    predictions = []\n",
        "\n",
        "    for m in models:\n",
        "        predictions.append(np.argmax(m.predict(X), axis=1))\n",
        "\n",
        "    prediction = np.transpose(predictions)\n",
        "    prediction = np.apply_along_axis(lambda x: np.bincount(x).argmax(), axis=1, arr=prediction)\n",
        "\n",
        "    return prediction\n",
        "\n",
        "def soft_voting(models, X):\n",
        "    predictions = np.empty((len(X),0,NUM_CLASSES))\n",
        "\n",
        "    for m in models:\n",
        "        pred = np.expand_dims(m.predict(X), axis=1)\n",
        "        predictions = np.append(predictions, pred, axis=1)\n",
        "\n",
        "    predictions = np.apply_along_axis(np.transpose, axis=1, arr=predictions)\n",
        "    predictions = np.mean(predictions, axis=1)\n",
        "    prediction = np.argmax(predictions, axis=1)\n",
        "\n",
        "    return prediction\n",
        "\n",
        "def predict(models, X, Y,voting = 'hard'):\n",
        "    \n",
        "    if voting == \"soft\":\n",
        "      prediction = soft_voting(models, X)\n",
        "    elif voting == \"hard\":\n",
        "      prediction = hard_voting(models, X)\n",
        "    else:\n",
        "      raise ValueError(f\"Voting mechanism: {VOTING} not supported\")\n",
        "\n",
        "    return accuracy_score(prediction, np.argmax(Y, axis=1))"
      ],
      "execution_count": 0,
      "outputs": []
    },
    {
      "cell_type": "markdown",
      "metadata": {
        "id": "5MyRrQVaQR_H",
        "colab_type": "text"
      },
      "source": [
        "#Augmentation \n"
      ]
    },
    {
      "cell_type": "code",
      "metadata": {
        "id": "zGFhlwUcQXXL",
        "colab_type": "code",
        "colab": {}
      },
      "source": [
        "def rotate_image(image):\n",
        "    if np.random.rand() < 0.2:\n",
        "        angles = np.linspace(1,10,10)\n",
        "        rotation_angle = np.random.choice(angles)\n",
        "        if np.random.rand() < 0.5:\n",
        "            image = ndimage.rotate(image, rotation_angle, reshape = False)\n",
        "        else:\n",
        "            image = ndimage.rotate(image, -rotation_angle, reshape = False) \n",
        "    return image"
      ],
      "execution_count": 0,
      "outputs": []
    },
    {
      "cell_type": "code",
      "metadata": {
        "id": "SJO0YrV-QauF",
        "colab_type": "code",
        "colab": {}
      },
      "source": [
        "def horizontal_shift(image):\n",
        "    if np.random.rand() < 0.2:\n",
        "        num_rows, num_cols = image.shape[:2]\n",
        "        if np.random.rand() < 0.5:\n",
        "            translation_matrix = np.float32([ [1,0,3], [0,1,0] ])\n",
        "            image = cv2.warpAffine(image, translation_matrix, (num_cols, num_rows))\n",
        "            image = image.reshape((IMAGE_SIZE,IMAGE_SIZE,1))\n",
        "        else:\n",
        "            translation_matrix = np.float32([ [1,0,-3], [0,1,0] ])\n",
        "            image = cv2.warpAffine(image, translation_matrix, (num_cols, num_rows))\n",
        "            image = image.reshape((IMAGE_SIZE,IMAGE_SIZE,1))\n",
        "    return image"
      ],
      "execution_count": 0,
      "outputs": []
    },
    {
      "cell_type": "code",
      "metadata": {
        "id": "QcIcRAVcQdi9",
        "colab_type": "code",
        "colab": {}
      },
      "source": [
        "def vertical_shift(image):\n",
        "    if np.random.rand() < 0.2:\n",
        "        num_rows, num_cols = image.shape[:2]\n",
        "        if np.random.rand() < 0.5:\n",
        "            translation_matrix = np.float32([ [1,0,0], [0,1,2] ])\n",
        "            image = cv2.warpAffine(image, translation_matrix, (num_cols, num_rows))\n",
        "            image = image.reshape((IMAGE_SIZE,IMAGE_SIZE,1))\n",
        "        else:\n",
        "            translation_matrix = np.float32([ [1,0,0], [0,1,-2] ])\n",
        "            image = cv2.warpAffine(image, translation_matrix, (num_cols, num_rows))\n",
        "            image = image.reshape((IMAGE_SIZE,IMAGE_SIZE,1))\n",
        "    return image"
      ],
      "execution_count": 0,
      "outputs": []
    },
    {
      "cell_type": "code",
      "metadata": {
        "id": "ZbPg2kj4Qe77",
        "colab_type": "code",
        "colab": {}
      },
      "source": [
        "funcs = [rotate_image,\n",
        "         horizontal_shift, \n",
        "         vertical_shift]"
      ],
      "execution_count": 0,
      "outputs": []
    },
    {
      "cell_type": "code",
      "metadata": {
        "id": "jMClqrSCRERL",
        "colab_type": "code",
        "colab": {}
      },
      "source": [
        "augmentations = [\"rotation\", \"horizontal shifting\", \"vertical shifting\"]"
      ],
      "execution_count": 0,
      "outputs": []
    },
    {
      "cell_type": "markdown",
      "metadata": {
        "id": "TVqdcrD_vQ-Q",
        "colab_type": "text"
      },
      "source": [
        "# Train"
      ]
    },
    {
      "cell_type": "code",
      "metadata": {
        "colab_type": "code",
        "id": "HjvZqLBJOpsw",
        "outputId": "72604bd0-179e-4d85-d640-e9bc35222850",
        "colab": {
          "base_uri": "https://localhost:8080/",
          "height": 1000
        }
      },
      "source": [
        "for run in range(1, NR_OF_RUNS+1):\n",
        "    # Split the data\n",
        "    x_train, x_val, y_train, y_val = train_test_split(x_train_full, y_trainc, test_size=0.20, shuffle= True)\n",
        "    \n",
        "    models = []\n",
        "    accuracies = []\n",
        "    predictions = []\n",
        "    for i in range(len(funcs)):\n",
        "        print(f\"\\n ===== Train model: Data augmentation method: {augmentations[i]}  =====\")\n",
        "        \n",
        "        # Set the seeds\n",
        "        np.random.seed(run*i)\n",
        "        tf.random.set_seed(run*i)\n",
        "\n",
        "        # Create directories\n",
        "        os.makedirs(PATH + MODEL_NAME + f\"/{run}/history\", exist_ok=True)\n",
        "        os.makedirs(PATH + MODEL_NAME + f\"/{run}/weights\", exist_ok=True)\n",
        "        \n",
        "        #data augmentation function\n",
        "        preprocessing_function = funcs[i]\n",
        "\n",
        "        #data augmentation generator\n",
        "        datagen = ImageDataGenerator(preprocessing_function=preprocessing_function)\n",
        "        datagen = datagen.flow(x_train,y_train, batch_size = BATCH_SIZE)\n",
        "        \n",
        "        # weight init method\n",
        "        model = MNISTmodel(IMAGE_SIZE,NUM_CLASSES,NUM_CHANNELS)\n",
        "    \n",
        "        #save weights \n",
        "        weights_path = PATH + MODEL_NAME + f\"/{run}/weights/weights-{augmentations[i]}.h5\"\n",
        "            \n",
        "        #save weights \n",
        "        weights_path = PATH + MODEL_NAME + f\"/{run}/weights/weights-{augmentations[i]}.h5\"\n",
        "        if os.path.exists(weights_path):\n",
        "            print(f\"Skipping training of model {augmentations[i]}: weights exists\")\n",
        "            model.load_weights(weights_path)\n",
        "        else:\n",
        "            # initiate early stopping\n",
        "            es = EarlyStopping(min_delta=0.01, patience=3)\n",
        "            csv_logger = CSVLogger(PATH + MODEL_NAME + f\"/{run}/history/history-{augmentations[i]}.csv\", separator=';')\n",
        "            #train\n",
        "            model.fit_generator(datagen,\n",
        "                                epochs = EPOCHS,\n",
        "                                validation_data = (x_val,y_val),\n",
        "                                shuffle = True,\n",
        "                                callbacks=[es, csv_logger])\n",
        "            model.save_weights(weights_path)\n",
        "            \n",
        "        models.append(model)\n",
        "        y_prob = model.predict(x_test) \n",
        "        predictions.append(y_prob.argmax(axis=-1))\n",
        "        acc = model.evaluate(x_test,y_testc)[1]\n",
        "        accuracies.append(acc)\n",
        "\n",
        "        print(f\"Model: {augmentations[i]} added. Resulting score: {acc}\")\n",
        "\n",
        "    # Results  \n",
        "        \n",
        "    # Accuracy vs data augmentation method\n",
        "        \n",
        "    print(\"\\n ===== Accuracy vs weight init methods =====\")\n",
        "    accuracy_df = pd.DataFrame(accuracies, columns=[\"Accuracy\"])\n",
        "    accuracy_df[\"data_augmentaion_method\"] = augmentations\n",
        "    display(accuracy_df)\n",
        "    accuracy_df.to_csv(PATH + MODEL_NAME + f\"/{run}/accuracy.csv\")\n",
        "        \n",
        "    print(\"\\n ===== Converting Binary classification =====\")\n",
        "    classified = []\n",
        "    for prediction in tqdm(predictions):\n",
        "        classified.append([1 if i==j else 0 for i,j in zip(prediction,y_test)])\n",
        "        \n",
        "    ## Correlation between models\n",
        "    print(\"\\n ===== Correlation =====\")  \n",
        "    correlation_matrix = []\n",
        "\n",
        "    for ix, x in enumerate(classified):\n",
        "        row = []\n",
        "  \n",
        "        for iy, y in enumerate(classified):\n",
        "            if (ix == iy):\n",
        "                row.append(np.nan)\n",
        "            else:\n",
        "                row.append(pearsonr(x,y)[0])\n",
        "\n",
        "        correlation_matrix.append(row)\n",
        "\n",
        "    correlation_matrix = np.array(correlation_matrix)\n",
        "    correlation_matrix_df = pd.DataFrame(correlation_matrix)\n",
        "    correlation_matrix_df.columns = augmentations\n",
        "    correlation_matrix_df.index = augmentations\n",
        "    correlation_matrix_df.to_csv(PATH + MODEL_NAME + f\"/{run}/correlation_matrix.csv\")\n",
        "    display(correlation_matrix_df)\n",
        "    correlation = np.nanmean(correlation_matrix.flatten())\n",
        "    print(\"Average correlation: \" + str(correlation))\n",
        "    \n",
        "    \n",
        "    print(\"\\n ===== Computing ensemble accuracy =====\")  \n",
        "    # Ensemble accuracy\n",
        "    accuracy_hard = predict(models, x_test, y_testc,voting = 'hard')\n",
        "    print(\"Accuracy of ensemble using hard voting: \" + str(accuracy_hard))\n",
        "    accuracy_soft = predict(models, x_test, y_testc,voting = 'soft')\n",
        "    print(\"Accuracy of ensemble using soft voting: \" + str(accuracy_soft))\n",
        "    \n",
        "    \n",
        "    print(\"\\n ===== Computing ensemble accuracy =====\")  \n",
        "    # Save the results\n",
        "    file = PATH + MODEL_NAME + f\"/results_.csv\"\n",
        "    df = pd.DataFrame([[run,correlation,accuracy_hard,accuracy_soft]])\n",
        "\n",
        "    if not os.path.isfile(file):\n",
        "        df.to_csv(file, header=[\"run\", \"correlation\",\"accuracy_hard_voting\",\"accuracy_soft_voting\"], index=False)\n",
        "    else: # else it exists so append without writing the header\n",
        "        df.to_csv(file, mode='a', header=False, index=False)\n",
        "\n",
        "    clear_output(wait=True)"
      ],
      "execution_count": 15,
      "outputs": [
        {
          "output_type": "stream",
          "text": [
            "\n",
            " ===== Train model: Data augmentation method: rotation  =====\n",
            "Epoch 1/9999\n",
            "375/375 [==============================] - 6s 17ms/step - loss: 2.2834 - accuracy: 0.1497 - val_loss: 2.2683 - val_accuracy: 0.1209\n",
            "Epoch 2/9999\n",
            "375/375 [==============================] - 6s 16ms/step - loss: 2.1663 - accuracy: 0.2408 - val_loss: 2.1167 - val_accuracy: 0.3043\n",
            "Epoch 3/9999\n",
            "375/375 [==============================] - 6s 16ms/step - loss: 2.0438 - accuracy: 0.3343 - val_loss: 1.9581 - val_accuracy: 0.3593\n",
            "Epoch 4/9999\n",
            "375/375 [==============================] - 6s 16ms/step - loss: 1.9028 - accuracy: 0.3672 - val_loss: 1.8268 - val_accuracy: 0.3891\n",
            "Epoch 5/9999\n",
            "375/375 [==============================] - 6s 16ms/step - loss: 1.7897 - accuracy: 0.3965 - val_loss: 1.7257 - val_accuracy: 0.4151\n",
            "Epoch 6/9999\n",
            "375/375 [==============================] - 6s 16ms/step - loss: 1.6984 - accuracy: 0.4298 - val_loss: 1.6450 - val_accuracy: 0.4597\n",
            "Epoch 7/9999\n",
            "375/375 [==============================] - 6s 16ms/step - loss: 1.6262 - accuracy: 0.4598 - val_loss: 1.5809 - val_accuracy: 0.4697\n",
            "Epoch 8/9999\n",
            "375/375 [==============================] - 6s 16ms/step - loss: 1.5647 - accuracy: 0.4841 - val_loss: 1.5225 - val_accuracy: 0.4842\n",
            "Epoch 9/9999\n",
            "375/375 [==============================] - 6s 16ms/step - loss: 1.5132 - accuracy: 0.5006 - val_loss: 1.4724 - val_accuracy: 0.5175\n",
            "Epoch 10/9999\n",
            "375/375 [==============================] - 6s 16ms/step - loss: 1.4686 - accuracy: 0.5134 - val_loss: 1.4305 - val_accuracy: 0.5287\n",
            "Epoch 11/9999\n",
            "375/375 [==============================] - 6s 16ms/step - loss: 1.4283 - accuracy: 0.5266 - val_loss: 1.3928 - val_accuracy: 0.5356\n",
            "Epoch 12/9999\n",
            "375/375 [==============================] - 6s 16ms/step - loss: 1.3931 - accuracy: 0.5371 - val_loss: 1.3597 - val_accuracy: 0.5493\n",
            "Epoch 13/9999\n",
            "375/375 [==============================] - 6s 16ms/step - loss: 1.3628 - accuracy: 0.5477 - val_loss: 1.3306 - val_accuracy: 0.5591\n",
            "Epoch 14/9999\n",
            "375/375 [==============================] - 6s 16ms/step - loss: 1.3356 - accuracy: 0.5530 - val_loss: 1.3043 - val_accuracy: 0.5658\n",
            "Epoch 15/9999\n",
            "375/375 [==============================] - 6s 16ms/step - loss: 1.3090 - accuracy: 0.5639 - val_loss: 1.2806 - val_accuracy: 0.5702\n",
            "Epoch 16/9999\n",
            "375/375 [==============================] - 6s 16ms/step - loss: 1.2877 - accuracy: 0.5697 - val_loss: 1.2577 - val_accuracy: 0.5832\n",
            "Epoch 17/9999\n",
            "375/375 [==============================] - 6s 15ms/step - loss: 1.2650 - accuracy: 0.5771 - val_loss: 1.2379 - val_accuracy: 0.5882\n",
            "Epoch 18/9999\n",
            "375/375 [==============================] - 6s 16ms/step - loss: 1.2442 - accuracy: 0.5830 - val_loss: 1.2190 - val_accuracy: 0.5951\n",
            "Epoch 19/9999\n",
            "375/375 [==============================] - 6s 16ms/step - loss: 1.2277 - accuracy: 0.5887 - val_loss: 1.2020 - val_accuracy: 0.6006\n",
            "Epoch 20/9999\n",
            "375/375 [==============================] - 6s 16ms/step - loss: 1.2121 - accuracy: 0.5947 - val_loss: 1.1863 - val_accuracy: 0.6094\n",
            "Epoch 21/9999\n",
            "375/375 [==============================] - 6s 16ms/step - loss: 1.1964 - accuracy: 0.5996 - val_loss: 1.1704 - val_accuracy: 0.6159\n",
            "Epoch 22/9999\n",
            "375/375 [==============================] - 6s 16ms/step - loss: 1.1819 - accuracy: 0.6052 - val_loss: 1.1567 - val_accuracy: 0.6144\n",
            "Epoch 23/9999\n",
            "375/375 [==============================] - 6s 16ms/step - loss: 1.1676 - accuracy: 0.6106 - val_loss: 1.1438 - val_accuracy: 0.6206\n",
            "Epoch 24/9999\n",
            "375/375 [==============================] - 6s 16ms/step - loss: 1.1553 - accuracy: 0.6146 - val_loss: 1.1301 - val_accuracy: 0.6288\n",
            "Epoch 25/9999\n",
            "375/375 [==============================] - 6s 16ms/step - loss: 1.1409 - accuracy: 0.6206 - val_loss: 1.1170 - val_accuracy: 0.6325\n",
            "Epoch 26/9999\n",
            "375/375 [==============================] - 6s 16ms/step - loss: 1.1291 - accuracy: 0.6259 - val_loss: 1.1051 - val_accuracy: 0.6367\n",
            "Epoch 27/9999\n",
            "375/375 [==============================] - 6s 16ms/step - loss: 1.1174 - accuracy: 0.6302 - val_loss: 1.0941 - val_accuracy: 0.6404\n",
            "Epoch 28/9999\n",
            "375/375 [==============================] - 6s 16ms/step - loss: 1.1065 - accuracy: 0.6329 - val_loss: 1.0825 - val_accuracy: 0.6447\n",
            "Epoch 29/9999\n",
            "375/375 [==============================] - 6s 16ms/step - loss: 1.0955 - accuracy: 0.6382 - val_loss: 1.0714 - val_accuracy: 0.6523\n",
            "Epoch 30/9999\n",
            "375/375 [==============================] - 6s 16ms/step - loss: 1.0846 - accuracy: 0.6431 - val_loss: 1.0621 - val_accuracy: 0.6570\n",
            "Epoch 31/9999\n",
            "375/375 [==============================] - 6s 16ms/step - loss: 1.0744 - accuracy: 0.6466 - val_loss: 1.0523 - val_accuracy: 0.6589\n",
            "Epoch 32/9999\n",
            "375/375 [==============================] - 6s 16ms/step - loss: 1.0661 - accuracy: 0.6521 - val_loss: 1.0430 - val_accuracy: 0.6649\n",
            "Epoch 33/9999\n",
            "375/375 [==============================] - 6s 16ms/step - loss: 1.0560 - accuracy: 0.6560 - val_loss: 1.0347 - val_accuracy: 0.6703\n",
            "Epoch 34/9999\n",
            "375/375 [==============================] - 6s 16ms/step - loss: 1.0439 - accuracy: 0.6609 - val_loss: 1.0279 - val_accuracy: 0.6661\n",
            "Epoch 35/9999\n",
            "375/375 [==============================] - 6s 16ms/step - loss: 1.0351 - accuracy: 0.6630 - val_loss: 1.0147 - val_accuracy: 0.6754\n",
            "Epoch 36/9999\n",
            "375/375 [==============================] - 6s 16ms/step - loss: 1.0287 - accuracy: 0.6675 - val_loss: 1.0104 - val_accuracy: 0.6781\n",
            "Epoch 37/9999\n",
            "375/375 [==============================] - 6s 16ms/step - loss: 1.0196 - accuracy: 0.6684 - val_loss: 0.9972 - val_accuracy: 0.6830\n",
            "Epoch 38/9999\n",
            "375/375 [==============================] - 6s 16ms/step - loss: 1.0098 - accuracy: 0.6736 - val_loss: 0.9886 - val_accuracy: 0.6860\n",
            "Epoch 39/9999\n",
            "375/375 [==============================] - 6s 16ms/step - loss: 1.0026 - accuracy: 0.6741 - val_loss: 0.9814 - val_accuracy: 0.6867\n",
            "Epoch 40/9999\n",
            "375/375 [==============================] - 6s 15ms/step - loss: 0.9937 - accuracy: 0.6806 - val_loss: 0.9768 - val_accuracy: 0.6867\n",
            "Epoch 41/9999\n",
            "375/375 [==============================] - 6s 16ms/step - loss: 0.9871 - accuracy: 0.6811 - val_loss: 0.9664 - val_accuracy: 0.6933\n",
            "Epoch 42/9999\n",
            "375/375 [==============================] - 6s 16ms/step - loss: 0.9774 - accuracy: 0.6868 - val_loss: 0.9597 - val_accuracy: 0.6951\n",
            "Epoch 43/9999\n",
            "375/375 [==============================] - 6s 16ms/step - loss: 0.9711 - accuracy: 0.6870 - val_loss: 0.9491 - val_accuracy: 0.7016\n",
            "Epoch 44/9999\n",
            "375/375 [==============================] - 6s 15ms/step - loss: 0.9637 - accuracy: 0.6910 - val_loss: 0.9426 - val_accuracy: 0.7048\n",
            "Epoch 45/9999\n",
            "375/375 [==============================] - 6s 16ms/step - loss: 0.9598 - accuracy: 0.6913 - val_loss: 0.9402 - val_accuracy: 0.6998\n",
            "Epoch 46/9999\n",
            "375/375 [==============================] - 6s 16ms/step - loss: 0.9491 - accuracy: 0.6972 - val_loss: 0.9305 - val_accuracy: 0.7058\n",
            "Epoch 47/9999\n",
            "375/375 [==============================] - 6s 16ms/step - loss: 0.9420 - accuracy: 0.6998 - val_loss: 0.9210 - val_accuracy: 0.7105\n",
            "Epoch 48/9999\n",
            "375/375 [==============================] - 6s 16ms/step - loss: 0.9350 - accuracy: 0.7007 - val_loss: 0.9143 - val_accuracy: 0.7132\n",
            "Epoch 49/9999\n",
            "375/375 [==============================] - 6s 16ms/step - loss: 0.9304 - accuracy: 0.7030 - val_loss: 0.9081 - val_accuracy: 0.7158\n",
            "Epoch 50/9999\n",
            "375/375 [==============================] - 6s 16ms/step - loss: 0.9232 - accuracy: 0.7054 - val_loss: 0.9037 - val_accuracy: 0.7169\n",
            "Epoch 51/9999\n",
            "375/375 [==============================] - 6s 16ms/step - loss: 0.9169 - accuracy: 0.7084 - val_loss: 0.8966 - val_accuracy: 0.7229\n",
            "Epoch 52/9999\n",
            "375/375 [==============================] - 6s 16ms/step - loss: 0.9100 - accuracy: 0.7103 - val_loss: 0.8933 - val_accuracy: 0.7218\n",
            "Epoch 53/9999\n",
            "375/375 [==============================] - 6s 16ms/step - loss: 0.9049 - accuracy: 0.7120 - val_loss: 0.8851 - val_accuracy: 0.7212\n",
            "Epoch 54/9999\n",
            "375/375 [==============================] - 6s 16ms/step - loss: 0.8976 - accuracy: 0.7139 - val_loss: 0.8800 - val_accuracy: 0.7247\n",
            "Epoch 55/9999\n",
            "375/375 [==============================] - 6s 16ms/step - loss: 0.8914 - accuracy: 0.7180 - val_loss: 0.8744 - val_accuracy: 0.7267\n",
            "Epoch 56/9999\n",
            "375/375 [==============================] - 6s 16ms/step - loss: 0.8856 - accuracy: 0.7195 - val_loss: 0.8668 - val_accuracy: 0.7303\n",
            "Epoch 57/9999\n",
            "375/375 [==============================] - 6s 16ms/step - loss: 0.8819 - accuracy: 0.7218 - val_loss: 0.8602 - val_accuracy: 0.7333\n",
            "Epoch 58/9999\n",
            "375/375 [==============================] - 6s 16ms/step - loss: 0.8746 - accuracy: 0.7239 - val_loss: 0.8554 - val_accuracy: 0.7344\n",
            "Epoch 59/9999\n",
            "375/375 [==============================] - 6s 16ms/step - loss: 0.8699 - accuracy: 0.7252 - val_loss: 0.8494 - val_accuracy: 0.7372\n",
            "Epoch 60/9999\n",
            "375/375 [==============================] - 6s 16ms/step - loss: 0.8613 - accuracy: 0.7272 - val_loss: 0.8449 - val_accuracy: 0.7363\n",
            "Epoch 61/9999\n",
            "375/375 [==============================] - 6s 16ms/step - loss: 0.8592 - accuracy: 0.7275 - val_loss: 0.8383 - val_accuracy: 0.7408\n",
            "Epoch 62/9999\n",
            "375/375 [==============================] - 6s 16ms/step - loss: 0.8535 - accuracy: 0.7295 - val_loss: 0.8345 - val_accuracy: 0.7418\n",
            "Epoch 63/9999\n",
            "375/375 [==============================] - 6s 16ms/step - loss: 0.8484 - accuracy: 0.7316 - val_loss: 0.8308 - val_accuracy: 0.7421\n",
            "Epoch 64/9999\n",
            "375/375 [==============================] - 6s 16ms/step - loss: 0.8429 - accuracy: 0.7337 - val_loss: 0.8258 - val_accuracy: 0.7427\n",
            "Epoch 65/9999\n",
            "375/375 [==============================] - 6s 16ms/step - loss: 0.8380 - accuracy: 0.7352 - val_loss: 0.8226 - val_accuracy: 0.7456\n",
            "Epoch 66/9999\n",
            "375/375 [==============================] - 6s 16ms/step - loss: 0.8361 - accuracy: 0.7366 - val_loss: 0.8168 - val_accuracy: 0.7483\n",
            "Epoch 67/9999\n",
            "375/375 [==============================] - 6s 16ms/step - loss: 0.8303 - accuracy: 0.7375 - val_loss: 0.8121 - val_accuracy: 0.7483\n",
            "Epoch 68/9999\n",
            "375/375 [==============================] - 6s 16ms/step - loss: 0.8262 - accuracy: 0.7393 - val_loss: 0.8088 - val_accuracy: 0.7478\n",
            "Epoch 69/9999\n",
            "375/375 [==============================] - 6s 16ms/step - loss: 0.8195 - accuracy: 0.7407 - val_loss: 0.8023 - val_accuracy: 0.7511\n",
            "Epoch 70/9999\n",
            "375/375 [==============================] - 6s 16ms/step - loss: 0.8153 - accuracy: 0.7433 - val_loss: 0.7995 - val_accuracy: 0.7505\n",
            "Epoch 71/9999\n",
            "375/375 [==============================] - 6s 16ms/step - loss: 0.8116 - accuracy: 0.7436 - val_loss: 0.7970 - val_accuracy: 0.7539\n",
            "Epoch 72/9999\n",
            "375/375 [==============================] - 6s 16ms/step - loss: 0.8085 - accuracy: 0.7444 - val_loss: 0.7894 - val_accuracy: 0.7569\n",
            "Epoch 73/9999\n",
            "375/375 [==============================] - 6s 16ms/step - loss: 0.8037 - accuracy: 0.7464 - val_loss: 0.7877 - val_accuracy: 0.7588\n",
            "Epoch 74/9999\n",
            "375/375 [==============================] - 6s 16ms/step - loss: 0.8005 - accuracy: 0.7459 - val_loss: 0.7820 - val_accuracy: 0.7548\n",
            "Epoch 75/9999\n",
            "375/375 [==============================] - 6s 16ms/step - loss: 0.7952 - accuracy: 0.7496 - val_loss: 0.7765 - val_accuracy: 0.7588\n",
            "Epoch 76/9999\n",
            "375/375 [==============================] - 6s 16ms/step - loss: 0.7936 - accuracy: 0.7488 - val_loss: 0.7752 - val_accuracy: 0.7612\n",
            "Epoch 77/9999\n",
            "375/375 [==============================] - 6s 16ms/step - loss: 0.7905 - accuracy: 0.7495 - val_loss: 0.7692 - val_accuracy: 0.7613\n",
            "Epoch 78/9999\n",
            "375/375 [==============================] - 6s 17ms/step - loss: 0.7832 - accuracy: 0.7530 - val_loss: 0.7670 - val_accuracy: 0.7628\n",
            "10000/10000 [==============================] - 1s 83us/step\n",
            "Model: rotation added. Resulting score: 0.7720999717712402\n",
            "\n",
            " ===== Train model: Data augmentation method: horizontal shifting  =====\n",
            "Epoch 1/9999\n",
            "375/375 [==============================] - 4s 11ms/step - loss: 2.2678 - accuracy: 0.1758 - val_loss: 2.2638 - val_accuracy: 0.2368\n",
            "Epoch 2/9999\n",
            "375/375 [==============================] - 4s 10ms/step - loss: 2.1491 - accuracy: 0.3122 - val_loss: 2.0948 - val_accuracy: 0.3217\n",
            "Epoch 3/9999\n",
            "375/375 [==============================] - 4s 10ms/step - loss: 2.0193 - accuracy: 0.3445 - val_loss: 1.9373 - val_accuracy: 0.3632\n",
            "Epoch 4/9999\n",
            "375/375 [==============================] - 4s 10ms/step - loss: 1.8832 - accuracy: 0.3922 - val_loss: 1.8109 - val_accuracy: 0.4134\n",
            "Epoch 5/9999\n",
            "375/375 [==============================] - 4s 10ms/step - loss: 1.7734 - accuracy: 0.4266 - val_loss: 1.7140 - val_accuracy: 0.4428\n",
            "Epoch 6/9999\n",
            "375/375 [==============================] - 4s 10ms/step - loss: 1.6853 - accuracy: 0.4538 - val_loss: 1.6327 - val_accuracy: 0.4692\n",
            "Epoch 7/9999\n",
            "375/375 [==============================] - 4s 10ms/step - loss: 1.6135 - accuracy: 0.4778 - val_loss: 1.5709 - val_accuracy: 0.4875\n",
            "Epoch 8/9999\n",
            "375/375 [==============================] - 4s 10ms/step - loss: 1.5556 - accuracy: 0.4968 - val_loss: 1.5175 - val_accuracy: 0.5059\n",
            "Epoch 9/9999\n",
            "375/375 [==============================] - 4s 10ms/step - loss: 1.5067 - accuracy: 0.5120 - val_loss: 1.4733 - val_accuracy: 0.5098\n",
            "Epoch 10/9999\n",
            "375/375 [==============================] - 4s 10ms/step - loss: 1.4655 - accuracy: 0.5256 - val_loss: 1.4324 - val_accuracy: 0.5368\n",
            "Epoch 11/9999\n",
            "375/375 [==============================] - 4s 10ms/step - loss: 1.4290 - accuracy: 0.5361 - val_loss: 1.3994 - val_accuracy: 0.5405\n",
            "Epoch 12/9999\n",
            "375/375 [==============================] - 4s 10ms/step - loss: 1.3960 - accuracy: 0.5479 - val_loss: 1.3667 - val_accuracy: 0.5571\n",
            "Epoch 13/9999\n",
            "375/375 [==============================] - 4s 10ms/step - loss: 1.3655 - accuracy: 0.5581 - val_loss: 1.3416 - val_accuracy: 0.5721\n",
            "Epoch 14/9999\n",
            "375/375 [==============================] - 4s 10ms/step - loss: 1.3384 - accuracy: 0.5680 - val_loss: 1.3131 - val_accuracy: 0.5726\n",
            "Epoch 15/9999\n",
            "375/375 [==============================] - 4s 10ms/step - loss: 1.3126 - accuracy: 0.5745 - val_loss: 1.2879 - val_accuracy: 0.5819\n",
            "Epoch 16/9999\n",
            "375/375 [==============================] - 4s 10ms/step - loss: 1.2887 - accuracy: 0.5828 - val_loss: 1.2674 - val_accuracy: 0.5918\n",
            "Epoch 17/9999\n",
            "375/375 [==============================] - 4s 10ms/step - loss: 1.2663 - accuracy: 0.5892 - val_loss: 1.2451 - val_accuracy: 0.5951\n",
            "Epoch 18/9999\n",
            "375/375 [==============================] - 4s 10ms/step - loss: 1.2477 - accuracy: 0.5943 - val_loss: 1.2252 - val_accuracy: 0.5993\n",
            "Epoch 19/9999\n",
            "375/375 [==============================] - 4s 10ms/step - loss: 1.2279 - accuracy: 0.6025 - val_loss: 1.2083 - val_accuracy: 0.6018\n",
            "Epoch 20/9999\n",
            "375/375 [==============================] - 4s 10ms/step - loss: 1.2090 - accuracy: 0.6054 - val_loss: 1.1895 - val_accuracy: 0.6177\n",
            "Epoch 21/9999\n",
            "375/375 [==============================] - 4s 10ms/step - loss: 1.1915 - accuracy: 0.6138 - val_loss: 1.1711 - val_accuracy: 0.6205\n",
            "Epoch 22/9999\n",
            "375/375 [==============================] - 4s 10ms/step - loss: 1.1751 - accuracy: 0.6174 - val_loss: 1.1568 - val_accuracy: 0.6246\n",
            "Epoch 23/9999\n",
            "375/375 [==============================] - 4s 10ms/step - loss: 1.1585 - accuracy: 0.6224 - val_loss: 1.1424 - val_accuracy: 0.6293\n",
            "Epoch 24/9999\n",
            "375/375 [==============================] - 4s 10ms/step - loss: 1.1438 - accuracy: 0.6271 - val_loss: 1.1273 - val_accuracy: 0.6331\n",
            "Epoch 25/9999\n",
            "375/375 [==============================] - 4s 10ms/step - loss: 1.1293 - accuracy: 0.6313 - val_loss: 1.1148 - val_accuracy: 0.6372\n",
            "Epoch 26/9999\n",
            "375/375 [==============================] - 4s 10ms/step - loss: 1.1141 - accuracy: 0.6358 - val_loss: 1.1006 - val_accuracy: 0.6442\n",
            "Epoch 27/9999\n",
            "375/375 [==============================] - 4s 10ms/step - loss: 1.1028 - accuracy: 0.6378 - val_loss: 1.0896 - val_accuracy: 0.6444\n",
            "Epoch 28/9999\n",
            "375/375 [==============================] - 4s 10ms/step - loss: 1.0915 - accuracy: 0.6427 - val_loss: 1.0766 - val_accuracy: 0.6492\n",
            "Epoch 29/9999\n",
            "375/375 [==============================] - 4s 10ms/step - loss: 1.0786 - accuracy: 0.6459 - val_loss: 1.0666 - val_accuracy: 0.6513\n",
            "Epoch 30/9999\n",
            "375/375 [==============================] - 4s 10ms/step - loss: 1.0681 - accuracy: 0.6492 - val_loss: 1.0575 - val_accuracy: 0.6531\n",
            "Epoch 31/9999\n",
            "375/375 [==============================] - 4s 10ms/step - loss: 1.0553 - accuracy: 0.6546 - val_loss: 1.0451 - val_accuracy: 0.6606\n",
            "Epoch 32/9999\n",
            "375/375 [==============================] - 4s 10ms/step - loss: 1.0473 - accuracy: 0.6560 - val_loss: 1.0367 - val_accuracy: 0.6599\n",
            "Epoch 33/9999\n",
            "375/375 [==============================] - 4s 10ms/step - loss: 1.0379 - accuracy: 0.6598 - val_loss: 1.0261 - val_accuracy: 0.6661\n",
            "Epoch 34/9999\n",
            "375/375 [==============================] - 4s 10ms/step - loss: 1.0281 - accuracy: 0.6620 - val_loss: 1.0190 - val_accuracy: 0.6661\n",
            "Epoch 35/9999\n",
            "375/375 [==============================] - 4s 10ms/step - loss: 1.0201 - accuracy: 0.6644 - val_loss: 1.0117 - val_accuracy: 0.6673\n",
            "Epoch 36/9999\n",
            "375/375 [==============================] - 4s 10ms/step - loss: 1.0115 - accuracy: 0.6688 - val_loss: 1.0013 - val_accuracy: 0.6731\n",
            "Epoch 37/9999\n",
            "375/375 [==============================] - 4s 10ms/step - loss: 1.0032 - accuracy: 0.6713 - val_loss: 0.9945 - val_accuracy: 0.6769\n",
            "Epoch 38/9999\n",
            "375/375 [==============================] - 4s 10ms/step - loss: 0.9967 - accuracy: 0.6717 - val_loss: 0.9882 - val_accuracy: 0.6748\n",
            "Epoch 39/9999\n",
            "375/375 [==============================] - 4s 10ms/step - loss: 0.9859 - accuracy: 0.6757 - val_loss: 0.9793 - val_accuracy: 0.6808\n",
            "Epoch 40/9999\n",
            "375/375 [==============================] - 4s 10ms/step - loss: 0.9809 - accuracy: 0.6791 - val_loss: 0.9735 - val_accuracy: 0.6823\n",
            "Epoch 41/9999\n",
            "375/375 [==============================] - 4s 10ms/step - loss: 0.9733 - accuracy: 0.6811 - val_loss: 0.9664 - val_accuracy: 0.6834\n",
            "Epoch 42/9999\n",
            "375/375 [==============================] - 4s 10ms/step - loss: 0.9663 - accuracy: 0.6842 - val_loss: 0.9600 - val_accuracy: 0.6883\n",
            "Epoch 43/9999\n",
            "375/375 [==============================] - 4s 10ms/step - loss: 0.9606 - accuracy: 0.6854 - val_loss: 0.9534 - val_accuracy: 0.6898\n",
            "Epoch 44/9999\n",
            "375/375 [==============================] - 4s 10ms/step - loss: 0.9533 - accuracy: 0.6881 - val_loss: 0.9497 - val_accuracy: 0.6907\n",
            "Epoch 45/9999\n",
            "375/375 [==============================] - 4s 10ms/step - loss: 0.9483 - accuracy: 0.6907 - val_loss: 0.9405 - val_accuracy: 0.6923\n",
            "Epoch 46/9999\n",
            "375/375 [==============================] - 4s 10ms/step - loss: 0.9417 - accuracy: 0.6924 - val_loss: 0.9350 - val_accuracy: 0.6979\n",
            "Epoch 47/9999\n",
            "375/375 [==============================] - 4s 10ms/step - loss: 0.9333 - accuracy: 0.6961 - val_loss: 0.9297 - val_accuracy: 0.6985\n",
            "Epoch 48/9999\n",
            "375/375 [==============================] - 4s 10ms/step - loss: 0.9289 - accuracy: 0.6974 - val_loss: 0.9227 - val_accuracy: 0.7019\n",
            "Epoch 49/9999\n",
            "375/375 [==============================] - 4s 10ms/step - loss: 0.9230 - accuracy: 0.6998 - val_loss: 0.9207 - val_accuracy: 0.6999\n",
            "Epoch 50/9999\n",
            "375/375 [==============================] - 4s 10ms/step - loss: 0.9173 - accuracy: 0.7002 - val_loss: 0.9121 - val_accuracy: 0.7064\n",
            "Epoch 51/9999\n",
            "375/375 [==============================] - 4s 10ms/step - loss: 0.9118 - accuracy: 0.7037 - val_loss: 0.9065 - val_accuracy: 0.7049\n",
            "Epoch 52/9999\n",
            "375/375 [==============================] - 4s 10ms/step - loss: 0.9040 - accuracy: 0.7064 - val_loss: 0.9014 - val_accuracy: 0.7080\n",
            "Epoch 53/9999\n",
            "375/375 [==============================] - 4s 10ms/step - loss: 0.9003 - accuracy: 0.7077 - val_loss: 0.8975 - val_accuracy: 0.7086\n",
            "Epoch 54/9999\n",
            "375/375 [==============================] - 4s 10ms/step - loss: 0.8972 - accuracy: 0.7085 - val_loss: 0.8914 - val_accuracy: 0.7128\n",
            "Epoch 55/9999\n",
            "375/375 [==============================] - 4s 10ms/step - loss: 0.8906 - accuracy: 0.7125 - val_loss: 0.8902 - val_accuracy: 0.7113\n",
            "Epoch 56/9999\n",
            "375/375 [==============================] - 4s 10ms/step - loss: 0.8837 - accuracy: 0.7144 - val_loss: 0.8814 - val_accuracy: 0.7160\n",
            "Epoch 57/9999\n",
            "375/375 [==============================] - 4s 10ms/step - loss: 0.8781 - accuracy: 0.7168 - val_loss: 0.8755 - val_accuracy: 0.7176\n",
            "Epoch 58/9999\n",
            "375/375 [==============================] - 4s 10ms/step - loss: 0.8720 - accuracy: 0.7185 - val_loss: 0.8708 - val_accuracy: 0.7189\n",
            "Epoch 59/9999\n",
            "375/375 [==============================] - 4s 10ms/step - loss: 0.8689 - accuracy: 0.7197 - val_loss: 0.8652 - val_accuracy: 0.7222\n",
            "Epoch 60/9999\n",
            "375/375 [==============================] - 4s 10ms/step - loss: 0.8648 - accuracy: 0.7221 - val_loss: 0.8612 - val_accuracy: 0.7223\n",
            "Epoch 61/9999\n",
            "375/375 [==============================] - 4s 10ms/step - loss: 0.8576 - accuracy: 0.7247 - val_loss: 0.8583 - val_accuracy: 0.7260\n",
            "Epoch 62/9999\n",
            "375/375 [==============================] - 4s 10ms/step - loss: 0.8551 - accuracy: 0.7257 - val_loss: 0.8527 - val_accuracy: 0.7287\n",
            "Epoch 63/9999\n",
            "375/375 [==============================] - 4s 10ms/step - loss: 0.8500 - accuracy: 0.7266 - val_loss: 0.8479 - val_accuracy: 0.7283\n",
            "Epoch 64/9999\n",
            "375/375 [==============================] - 4s 10ms/step - loss: 0.8436 - accuracy: 0.7290 - val_loss: 0.8460 - val_accuracy: 0.7285\n",
            "Epoch 65/9999\n",
            "375/375 [==============================] - 4s 10ms/step - loss: 0.8417 - accuracy: 0.7281 - val_loss: 0.8391 - val_accuracy: 0.7319\n",
            "Epoch 66/9999\n",
            "375/375 [==============================] - 4s 10ms/step - loss: 0.8364 - accuracy: 0.7323 - val_loss: 0.8347 - val_accuracy: 0.7326\n",
            "Epoch 67/9999\n",
            "375/375 [==============================] - 4s 10ms/step - loss: 0.8309 - accuracy: 0.7344 - val_loss: 0.8307 - val_accuracy: 0.7341\n",
            "Epoch 68/9999\n",
            "375/375 [==============================] - 4s 10ms/step - loss: 0.8255 - accuracy: 0.7365 - val_loss: 0.8269 - val_accuracy: 0.7383\n",
            "Epoch 69/9999\n",
            "375/375 [==============================] - 4s 10ms/step - loss: 0.8247 - accuracy: 0.7361 - val_loss: 0.8210 - val_accuracy: 0.7382\n",
            "Epoch 70/9999\n",
            "375/375 [==============================] - 4s 10ms/step - loss: 0.8188 - accuracy: 0.7391 - val_loss: 0.8180 - val_accuracy: 0.7390\n",
            "Epoch 71/9999\n",
            "375/375 [==============================] - 4s 10ms/step - loss: 0.8141 - accuracy: 0.7401 - val_loss: 0.8128 - val_accuracy: 0.7421\n",
            "Epoch 72/9999\n",
            "375/375 [==============================] - 4s 10ms/step - loss: 0.8138 - accuracy: 0.7397 - val_loss: 0.8105 - val_accuracy: 0.7438\n",
            "Epoch 73/9999\n",
            "375/375 [==============================] - 4s 10ms/step - loss: 0.8080 - accuracy: 0.7413 - val_loss: 0.8053 - val_accuracy: 0.7443\n",
            "Epoch 74/9999\n",
            "375/375 [==============================] - 4s 10ms/step - loss: 0.8015 - accuracy: 0.7444 - val_loss: 0.8014 - val_accuracy: 0.7458\n",
            "Epoch 75/9999\n",
            "375/375 [==============================] - 4s 10ms/step - loss: 0.7979 - accuracy: 0.7469 - val_loss: 0.7971 - val_accuracy: 0.7483\n",
            "Epoch 76/9999\n",
            "375/375 [==============================] - 4s 10ms/step - loss: 0.7939 - accuracy: 0.7478 - val_loss: 0.7961 - val_accuracy: 0.7469\n",
            "Epoch 77/9999\n",
            "375/375 [==============================] - 4s 10ms/step - loss: 0.7903 - accuracy: 0.7496 - val_loss: 0.7910 - val_accuracy: 0.7497\n",
            "Epoch 78/9999\n",
            "375/375 [==============================] - 4s 10ms/step - loss: 0.7871 - accuracy: 0.7498 - val_loss: 0.7877 - val_accuracy: 0.7510\n",
            "Epoch 79/9999\n",
            "375/375 [==============================] - 4s 10ms/step - loss: 0.7835 - accuracy: 0.7500 - val_loss: 0.7859 - val_accuracy: 0.7515\n",
            "Epoch 80/9999\n",
            "375/375 [==============================] - 4s 10ms/step - loss: 0.7823 - accuracy: 0.7522 - val_loss: 0.7797 - val_accuracy: 0.7533\n",
            "Epoch 81/9999\n",
            "375/375 [==============================] - 4s 10ms/step - loss: 0.7784 - accuracy: 0.7517 - val_loss: 0.7762 - val_accuracy: 0.7555\n",
            "Epoch 82/9999\n",
            "375/375 [==============================] - 4s 10ms/step - loss: 0.7747 - accuracy: 0.7547 - val_loss: 0.7739 - val_accuracy: 0.7534\n",
            "Epoch 83/9999\n",
            "375/375 [==============================] - 4s 10ms/step - loss: 0.7717 - accuracy: 0.7544 - val_loss: 0.7710 - val_accuracy: 0.7551\n",
            "10000/10000 [==============================] - 1s 79us/step\n",
            "Model: horizontal shifting added. Resulting score: 0.7656000256538391\n",
            "\n",
            " ===== Train model: Data augmentation method: vetical shifting  =====\n",
            "Epoch 1/9999\n",
            "375/375 [==============================] - 4s 10ms/step - loss: 2.2781 - accuracy: 0.1808 - val_loss: 2.2616 - val_accuracy: 0.2796\n",
            "Epoch 2/9999\n",
            "375/375 [==============================] - 4s 10ms/step - loss: 2.1535 - accuracy: 0.2857 - val_loss: 2.0994 - val_accuracy: 0.2930\n",
            "Epoch 3/9999\n",
            "375/375 [==============================] - 4s 10ms/step - loss: 2.0260 - accuracy: 0.3213 - val_loss: 1.9482 - val_accuracy: 0.3520\n",
            "Epoch 4/9999\n",
            "375/375 [==============================] - 4s 10ms/step - loss: 1.8992 - accuracy: 0.3615 - val_loss: 1.8272 - val_accuracy: 0.3867\n",
            "Epoch 5/9999\n",
            "375/375 [==============================] - 4s 10ms/step - loss: 1.7872 - accuracy: 0.4029 - val_loss: 1.7206 - val_accuracy: 0.4233\n",
            "Epoch 6/9999\n",
            "375/375 [==============================] - 4s 10ms/step - loss: 1.6912 - accuracy: 0.4368 - val_loss: 1.6316 - val_accuracy: 0.4569\n",
            "Epoch 7/9999\n",
            "375/375 [==============================] - 4s 10ms/step - loss: 1.6130 - accuracy: 0.4591 - val_loss: 1.5613 - val_accuracy: 0.4868\n",
            "Epoch 8/9999\n",
            "375/375 [==============================] - 4s 10ms/step - loss: 1.5502 - accuracy: 0.4796 - val_loss: 1.5036 - val_accuracy: 0.4973\n",
            "Epoch 9/9999\n",
            "375/375 [==============================] - 4s 10ms/step - loss: 1.4986 - accuracy: 0.4958 - val_loss: 1.4582 - val_accuracy: 0.5090\n",
            "Epoch 10/9999\n",
            "375/375 [==============================] - 4s 10ms/step - loss: 1.4544 - accuracy: 0.5085 - val_loss: 1.4141 - val_accuracy: 0.5203\n",
            "Epoch 11/9999\n",
            "375/375 [==============================] - 4s 10ms/step - loss: 1.4179 - accuracy: 0.5153 - val_loss: 1.3800 - val_accuracy: 0.5349\n",
            "Epoch 12/9999\n",
            "375/375 [==============================] - 4s 10ms/step - loss: 1.3838 - accuracy: 0.5259 - val_loss: 1.3504 - val_accuracy: 0.5390\n",
            "Epoch 13/9999\n",
            "375/375 [==============================] - 4s 10ms/step - loss: 1.3559 - accuracy: 0.5330 - val_loss: 1.3237 - val_accuracy: 0.5437\n",
            "Epoch 14/9999\n",
            "375/375 [==============================] - 4s 10ms/step - loss: 1.3314 - accuracy: 0.5410 - val_loss: 1.2995 - val_accuracy: 0.5520\n",
            "Epoch 15/9999\n",
            "375/375 [==============================] - 4s 10ms/step - loss: 1.3097 - accuracy: 0.5482 - val_loss: 1.2783 - val_accuracy: 0.5609\n",
            "Epoch 16/9999\n",
            "375/375 [==============================] - 4s 10ms/step - loss: 1.2891 - accuracy: 0.5543 - val_loss: 1.2604 - val_accuracy: 0.5638\n",
            "Epoch 17/9999\n",
            "375/375 [==============================] - 4s 10ms/step - loss: 1.2712 - accuracy: 0.5591 - val_loss: 1.2454 - val_accuracy: 0.5727\n",
            "Epoch 18/9999\n",
            "375/375 [==============================] - 4s 10ms/step - loss: 1.2546 - accuracy: 0.5648 - val_loss: 1.2264 - val_accuracy: 0.5728\n",
            "Epoch 19/9999\n",
            "375/375 [==============================] - 4s 10ms/step - loss: 1.2407 - accuracy: 0.5697 - val_loss: 1.2119 - val_accuracy: 0.5754\n",
            "Epoch 20/9999\n",
            "375/375 [==============================] - 4s 10ms/step - loss: 1.2232 - accuracy: 0.5772 - val_loss: 1.1980 - val_accuracy: 0.5900\n",
            "Epoch 21/9999\n",
            "375/375 [==============================] - 4s 10ms/step - loss: 1.2102 - accuracy: 0.5825 - val_loss: 1.1830 - val_accuracy: 0.5959\n",
            "Epoch 22/9999\n",
            "375/375 [==============================] - 4s 10ms/step - loss: 1.1981 - accuracy: 0.5854 - val_loss: 1.1717 - val_accuracy: 0.5997\n",
            "Epoch 23/9999\n",
            "375/375 [==============================] - 4s 10ms/step - loss: 1.1842 - accuracy: 0.5926 - val_loss: 1.1586 - val_accuracy: 0.6076\n",
            "Epoch 24/9999\n",
            "375/375 [==============================] - 4s 10ms/step - loss: 1.1745 - accuracy: 0.5957 - val_loss: 1.1479 - val_accuracy: 0.6007\n",
            "Epoch 25/9999\n",
            "375/375 [==============================] - 4s 10ms/step - loss: 1.1616 - accuracy: 0.6012 - val_loss: 1.1362 - val_accuracy: 0.6130\n",
            "Epoch 26/9999\n",
            "375/375 [==============================] - 4s 10ms/step - loss: 1.1513 - accuracy: 0.6071 - val_loss: 1.1250 - val_accuracy: 0.6176\n",
            "Epoch 27/9999\n",
            "375/375 [==============================] - 4s 10ms/step - loss: 1.1412 - accuracy: 0.6099 - val_loss: 1.1137 - val_accuracy: 0.6206\n",
            "Epoch 28/9999\n",
            "375/375 [==============================] - 4s 10ms/step - loss: 1.1295 - accuracy: 0.6143 - val_loss: 1.1052 - val_accuracy: 0.6289\n",
            "Epoch 29/9999\n",
            "375/375 [==============================] - 4s 10ms/step - loss: 1.1210 - accuracy: 0.6194 - val_loss: 1.0939 - val_accuracy: 0.6321\n",
            "Epoch 30/9999\n",
            "375/375 [==============================] - 4s 10ms/step - loss: 1.1094 - accuracy: 0.6226 - val_loss: 1.0843 - val_accuracy: 0.6403\n",
            "Epoch 31/9999\n",
            "375/375 [==============================] - 4s 10ms/step - loss: 1.1000 - accuracy: 0.6288 - val_loss: 1.0768 - val_accuracy: 0.6363\n",
            "Epoch 32/9999\n",
            "375/375 [==============================] - 4s 10ms/step - loss: 1.0923 - accuracy: 0.6328 - val_loss: 1.0673 - val_accuracy: 0.6453\n",
            "Epoch 33/9999\n",
            "375/375 [==============================] - 4s 10ms/step - loss: 1.0823 - accuracy: 0.6353 - val_loss: 1.0583 - val_accuracy: 0.6471\n",
            "Epoch 34/9999\n",
            "375/375 [==============================] - 4s 10ms/step - loss: 1.0739 - accuracy: 0.6399 - val_loss: 1.0485 - val_accuracy: 0.6524\n",
            "Epoch 35/9999\n",
            "375/375 [==============================] - 4s 10ms/step - loss: 1.0657 - accuracy: 0.6421 - val_loss: 1.0408 - val_accuracy: 0.6563\n",
            "Epoch 36/9999\n",
            "375/375 [==============================] - 4s 10ms/step - loss: 1.0579 - accuracy: 0.6473 - val_loss: 1.0339 - val_accuracy: 0.6604\n",
            "Epoch 37/9999\n",
            "375/375 [==============================] - 4s 10ms/step - loss: 1.0504 - accuracy: 0.6493 - val_loss: 1.0259 - val_accuracy: 0.6607\n",
            "Epoch 38/9999\n",
            "375/375 [==============================] - 4s 10ms/step - loss: 1.0410 - accuracy: 0.6540 - val_loss: 1.0193 - val_accuracy: 0.6655\n",
            "Epoch 39/9999\n",
            "375/375 [==============================] - 4s 10ms/step - loss: 1.0344 - accuracy: 0.6579 - val_loss: 1.0096 - val_accuracy: 0.6636\n",
            "Epoch 40/9999\n",
            "375/375 [==============================] - 4s 10ms/step - loss: 1.0270 - accuracy: 0.6610 - val_loss: 1.0043 - val_accuracy: 0.6722\n",
            "Epoch 41/9999\n",
            "375/375 [==============================] - 4s 10ms/step - loss: 1.0200 - accuracy: 0.6636 - val_loss: 0.9950 - val_accuracy: 0.6734\n",
            "Epoch 42/9999\n",
            "375/375 [==============================] - 4s 10ms/step - loss: 1.0144 - accuracy: 0.6663 - val_loss: 0.9883 - val_accuracy: 0.6753\n",
            "Epoch 43/9999\n",
            "375/375 [==============================] - 4s 10ms/step - loss: 1.0068 - accuracy: 0.6689 - val_loss: 0.9821 - val_accuracy: 0.6788\n",
            "Epoch 44/9999\n",
            "375/375 [==============================] - 4s 10ms/step - loss: 1.0007 - accuracy: 0.6729 - val_loss: 0.9750 - val_accuracy: 0.6838\n",
            "Epoch 45/9999\n",
            "375/375 [==============================] - 4s 10ms/step - loss: 0.9918 - accuracy: 0.6747 - val_loss: 0.9703 - val_accuracy: 0.6873\n",
            "Epoch 46/9999\n",
            "375/375 [==============================] - 4s 10ms/step - loss: 0.9854 - accuracy: 0.6766 - val_loss: 0.9607 - val_accuracy: 0.6911\n",
            "Epoch 47/9999\n",
            "375/375 [==============================] - 4s 10ms/step - loss: 0.9784 - accuracy: 0.6806 - val_loss: 0.9565 - val_accuracy: 0.6909\n",
            "Epoch 48/9999\n",
            "375/375 [==============================] - 4s 10ms/step - loss: 0.9732 - accuracy: 0.6831 - val_loss: 0.9483 - val_accuracy: 0.6948\n",
            "Epoch 49/9999\n",
            "375/375 [==============================] - 4s 10ms/step - loss: 0.9670 - accuracy: 0.6859 - val_loss: 0.9427 - val_accuracy: 0.6973\n",
            "Epoch 50/9999\n",
            "375/375 [==============================] - 4s 10ms/step - loss: 0.9601 - accuracy: 0.6865 - val_loss: 0.9380 - val_accuracy: 0.6973\n",
            "Epoch 51/9999\n",
            "375/375 [==============================] - 4s 10ms/step - loss: 0.9540 - accuracy: 0.6894 - val_loss: 0.9312 - val_accuracy: 0.7008\n",
            "Epoch 52/9999\n",
            "375/375 [==============================] - 4s 10ms/step - loss: 0.9481 - accuracy: 0.6916 - val_loss: 0.9282 - val_accuracy: 0.7065\n",
            "Epoch 53/9999\n",
            "375/375 [==============================] - 4s 10ms/step - loss: 0.9429 - accuracy: 0.6955 - val_loss: 0.9216 - val_accuracy: 0.7062\n",
            "Epoch 54/9999\n",
            "375/375 [==============================] - 4s 10ms/step - loss: 0.9351 - accuracy: 0.6993 - val_loss: 0.9136 - val_accuracy: 0.7088\n",
            "Epoch 55/9999\n",
            "375/375 [==============================] - 4s 10ms/step - loss: 0.9303 - accuracy: 0.6989 - val_loss: 0.9091 - val_accuracy: 0.7103\n",
            "Epoch 56/9999\n",
            "375/375 [==============================] - 4s 10ms/step - loss: 0.9239 - accuracy: 0.7010 - val_loss: 0.9024 - val_accuracy: 0.7137\n",
            "Epoch 57/9999\n",
            "375/375 [==============================] - 4s 10ms/step - loss: 0.9188 - accuracy: 0.7024 - val_loss: 0.8969 - val_accuracy: 0.7150\n",
            "Epoch 58/9999\n",
            "375/375 [==============================] - 4s 10ms/step - loss: 0.9131 - accuracy: 0.7045 - val_loss: 0.8920 - val_accuracy: 0.7172\n",
            "Epoch 59/9999\n",
            "375/375 [==============================] - 4s 10ms/step - loss: 0.9079 - accuracy: 0.7088 - val_loss: 0.8858 - val_accuracy: 0.7192\n",
            "Epoch 60/9999\n",
            "375/375 [==============================] - 4s 10ms/step - loss: 0.9018 - accuracy: 0.7101 - val_loss: 0.8805 - val_accuracy: 0.7209\n",
            "Epoch 61/9999\n",
            "375/375 [==============================] - 4s 10ms/step - loss: 0.8966 - accuracy: 0.7098 - val_loss: 0.8756 - val_accuracy: 0.7218\n",
            "Epoch 62/9999\n",
            "375/375 [==============================] - 4s 10ms/step - loss: 0.8908 - accuracy: 0.7128 - val_loss: 0.8721 - val_accuracy: 0.7234\n",
            "Epoch 63/9999\n",
            "375/375 [==============================] - 4s 10ms/step - loss: 0.8856 - accuracy: 0.7166 - val_loss: 0.8676 - val_accuracy: 0.7228\n",
            "Epoch 64/9999\n",
            "375/375 [==============================] - 4s 10ms/step - loss: 0.8826 - accuracy: 0.7157 - val_loss: 0.8603 - val_accuracy: 0.7262\n",
            "Epoch 65/9999\n",
            "375/375 [==============================] - 4s 10ms/step - loss: 0.8767 - accuracy: 0.7197 - val_loss: 0.8656 - val_accuracy: 0.7251\n",
            "Epoch 66/9999\n",
            "375/375 [==============================] - 4s 10ms/step - loss: 0.8729 - accuracy: 0.7181 - val_loss: 0.8508 - val_accuracy: 0.7318\n",
            "Epoch 67/9999\n",
            "375/375 [==============================] - 4s 10ms/step - loss: 0.8660 - accuracy: 0.7218 - val_loss: 0.8469 - val_accuracy: 0.7328\n",
            "Epoch 68/9999\n",
            "375/375 [==============================] - 4s 10ms/step - loss: 0.8626 - accuracy: 0.7230 - val_loss: 0.8414 - val_accuracy: 0.7368\n",
            "Epoch 69/9999\n",
            "375/375 [==============================] - 4s 10ms/step - loss: 0.8570 - accuracy: 0.7254 - val_loss: 0.8375 - val_accuracy: 0.7360\n",
            "Epoch 70/9999\n",
            "375/375 [==============================] - 4s 10ms/step - loss: 0.8519 - accuracy: 0.7277 - val_loss: 0.8331 - val_accuracy: 0.7381\n",
            "Epoch 71/9999\n",
            "375/375 [==============================] - 4s 10ms/step - loss: 0.8505 - accuracy: 0.7276 - val_loss: 0.8265 - val_accuracy: 0.7413\n",
            "Epoch 72/9999\n",
            "375/375 [==============================] - 4s 10ms/step - loss: 0.8451 - accuracy: 0.7296 - val_loss: 0.8233 - val_accuracy: 0.7409\n",
            "Epoch 73/9999\n",
            "375/375 [==============================] - 4s 10ms/step - loss: 0.8411 - accuracy: 0.7308 - val_loss: 0.8187 - val_accuracy: 0.7411\n",
            "Epoch 74/9999\n",
            "375/375 [==============================] - 4s 10ms/step - loss: 0.8359 - accuracy: 0.7308 - val_loss: 0.8166 - val_accuracy: 0.7417\n",
            "10000/10000 [==============================] - 1s 77us/step\n",
            "Model: vetical shifting added. Resulting score: 0.75\n",
            "\n",
            " ===== Accuracy vs weight init methods =====\n"
          ],
          "name": "stdout"
        },
        {
          "output_type": "display_data",
          "data": {
            "text/html": [
              "<div>\n",
              "<style scoped>\n",
              "    .dataframe tbody tr th:only-of-type {\n",
              "        vertical-align: middle;\n",
              "    }\n",
              "\n",
              "    .dataframe tbody tr th {\n",
              "        vertical-align: top;\n",
              "    }\n",
              "\n",
              "    .dataframe thead th {\n",
              "        text-align: right;\n",
              "    }\n",
              "</style>\n",
              "<table border=\"1\" class=\"dataframe\">\n",
              "  <thead>\n",
              "    <tr style=\"text-align: right;\">\n",
              "      <th></th>\n",
              "      <th>Accuracy</th>\n",
              "      <th>data_augmentaion_method</th>\n",
              "    </tr>\n",
              "  </thead>\n",
              "  <tbody>\n",
              "    <tr>\n",
              "      <th>0</th>\n",
              "      <td>0.7721</td>\n",
              "      <td>rotation</td>\n",
              "    </tr>\n",
              "    <tr>\n",
              "      <th>1</th>\n",
              "      <td>0.7656</td>\n",
              "      <td>horizontal shifting</td>\n",
              "    </tr>\n",
              "    <tr>\n",
              "      <th>2</th>\n",
              "      <td>0.7500</td>\n",
              "      <td>vetical shifting</td>\n",
              "    </tr>\n",
              "  </tbody>\n",
              "</table>\n",
              "</div>"
            ],
            "text/plain": [
              "   Accuracy data_augmentaion_method\n",
              "0    0.7721                rotation\n",
              "1    0.7656     horizontal shifting\n",
              "2    0.7500        vetical shifting"
            ]
          },
          "metadata": {
            "tags": []
          }
        },
        {
          "output_type": "stream",
          "text": [
            "100%|██████████| 3/3 [00:00<00:00, 317.74it/s]"
          ],
          "name": "stderr"
        },
        {
          "output_type": "stream",
          "text": [
            "\n",
            " ===== Converting Binary classification =====\n",
            "\n",
            " ===== Correlation =====\n"
          ],
          "name": "stdout"
        },
        {
          "output_type": "stream",
          "text": [
            "\n"
          ],
          "name": "stderr"
        },
        {
          "output_type": "display_data",
          "data": {
            "text/html": [
              "<div>\n",
              "<style scoped>\n",
              "    .dataframe tbody tr th:only-of-type {\n",
              "        vertical-align: middle;\n",
              "    }\n",
              "\n",
              "    .dataframe tbody tr th {\n",
              "        vertical-align: top;\n",
              "    }\n",
              "\n",
              "    .dataframe thead th {\n",
              "        text-align: right;\n",
              "    }\n",
              "</style>\n",
              "<table border=\"1\" class=\"dataframe\">\n",
              "  <thead>\n",
              "    <tr style=\"text-align: right;\">\n",
              "      <th></th>\n",
              "      <th>rotation</th>\n",
              "      <th>horizontal shifting</th>\n",
              "      <th>vetical shifting</th>\n",
              "    </tr>\n",
              "  </thead>\n",
              "  <tbody>\n",
              "    <tr>\n",
              "      <th>rotation</th>\n",
              "      <td>NaN</td>\n",
              "      <td>0.622847</td>\n",
              "      <td>0.633811</td>\n",
              "    </tr>\n",
              "    <tr>\n",
              "      <th>horizontal shifting</th>\n",
              "      <td>0.622847</td>\n",
              "      <td>NaN</td>\n",
              "      <td>0.620931</td>\n",
              "    </tr>\n",
              "    <tr>\n",
              "      <th>vetical shifting</th>\n",
              "      <td>0.633811</td>\n",
              "      <td>0.620931</td>\n",
              "      <td>NaN</td>\n",
              "    </tr>\n",
              "  </tbody>\n",
              "</table>\n",
              "</div>"
            ],
            "text/plain": [
              "                     rotation  horizontal shifting  vetical shifting\n",
              "rotation                  NaN             0.622847          0.633811\n",
              "horizontal shifting  0.622847                  NaN          0.620931\n",
              "vetical shifting     0.633811             0.620931               NaN"
            ]
          },
          "metadata": {
            "tags": []
          }
        },
        {
          "output_type": "stream",
          "text": [
            "Average correlation: 0.6258631391978263\n",
            "\n",
            " ===== Computing ensemble accuracy =====\n",
            "Accuracy of ensemble using hard voting: 0.7824\n",
            "Accuracy of ensemble using soft voting: 0.788\n",
            "\n",
            " ===== Computing ensemble accuracy =====\n"
          ],
          "name": "stdout"
        }
      ]
    },
    {
      "cell_type": "markdown",
      "metadata": {
        "id": "fGT6jV-hcLbJ",
        "colab_type": "text"
      },
      "source": [
        "# Results"
      ]
    },
    {
      "cell_type": "code",
      "metadata": {
        "id": "3ZvQRiBBvl5W",
        "colab_type": "code",
        "colab": {}
      },
      "source": [
        "from scipy import stats"
      ],
      "execution_count": 0,
      "outputs": []
    },
    {
      "cell_type": "code",
      "metadata": {
        "id": "UbSRKks5vmhD",
        "colab_type": "code",
        "colab": {}
      },
      "source": [
        "baseline = [0.7622,\n",
        "            0.7632,\n",
        "            0.7672,\n",
        "            0.7498,\n",
        "            0.7658,\n",
        "            0.7454,\n",
        "            0.7652,\n",
        "            0.7777,\n",
        "            0.753,\n",
        "            0.7692]"
      ],
      "execution_count": 0,
      "outputs": []
    },
    {
      "cell_type": "code",
      "metadata": {
        "id": "5Ozg6pK4v1Yx",
        "colab_type": "code",
        "colab": {
          "base_uri": "https://localhost:8080/",
          "height": 191
        },
        "outputId": "4283ba43-f7b0-431b-c79d-da833cb2524d"
      },
      "source": [
        "augmented = pd.read_csv(\"/content/MNIST_data_augmentation/results_.csv\")\n",
        "augmented = augmented.values\n",
        "augmented"
      ],
      "execution_count": 45,
      "outputs": [
        {
          "output_type": "execute_result",
          "data": {
            "text/plain": [
              "array([[ 1.        ,  0.62610946,  0.7918    ,  0.7978    ],\n",
              "       [ 2.        ,  0.63458471,  0.7861    ,  0.7918    ],\n",
              "       [ 3.        ,  0.6107443 ,  0.7699    ,  0.7793    ],\n",
              "       [ 4.        ,  0.61110583,  0.7662    ,  0.774     ],\n",
              "       [ 5.        ,  0.6074457 ,  0.7755    ,  0.7804    ],\n",
              "       [ 6.        ,  0.63162062,  0.7803    ,  0.7862    ],\n",
              "       [ 7.        ,  0.63629137,  0.7776    ,  0.7846    ],\n",
              "       [ 8.        ,  0.61766347,  0.7746    ,  0.7813    ],\n",
              "       [ 9.        ,  0.63189894,  0.777     ,  0.7862    ],\n",
              "       [10.        ,  0.62586314,  0.7824    ,  0.788     ]])"
            ]
          },
          "metadata": {
            "tags": []
          },
          "execution_count": 45
        }
      ]
    },
    {
      "cell_type": "code",
      "metadata": {
        "id": "2GYweHYDwdVZ",
        "colab_type": "code",
        "colab": {}
      },
      "source": [
        "augmented_hard = augmented[:,2]\n",
        "augmented_soft = augmented[:,3]"
      ],
      "execution_count": 0,
      "outputs": []
    },
    {
      "cell_type": "code",
      "metadata": {
        "id": "0ydHmwge0Dck",
        "colab_type": "code",
        "colab": {
          "base_uri": "https://localhost:8080/",
          "height": 34
        },
        "outputId": "c0fc353d-3f6c-4145-85c3-84d22fdd87de"
      },
      "source": [
        "np.mean(augmented_hard)"
      ],
      "execution_count": 47,
      "outputs": [
        {
          "output_type": "execute_result",
          "data": {
            "text/plain": [
              "0.7781399999999999"
            ]
          },
          "metadata": {
            "tags": []
          },
          "execution_count": 47
        }
      ]
    },
    {
      "cell_type": "code",
      "metadata": {
        "id": "X7wlD6720GYj",
        "colab_type": "code",
        "colab": {
          "base_uri": "https://localhost:8080/",
          "height": 34
        },
        "outputId": "21058a2c-db67-4146-b2bc-e44b8fc2d266"
      },
      "source": [
        "np.mean(augmented_soft)"
      ],
      "execution_count": 48,
      "outputs": [
        {
          "output_type": "execute_result",
          "data": {
            "text/plain": [
              "0.7849600000000001"
            ]
          },
          "metadata": {
            "tags": []
          },
          "execution_count": 48
        }
      ]
    },
    {
      "cell_type": "code",
      "metadata": {
        "id": "4Kyo05JdnJea",
        "colab_type": "code",
        "colab": {
          "base_uri": "https://localhost:8080/",
          "height": 34
        },
        "outputId": "887298eb-3f8b-41e9-8b20-1fc1706cc7dc"
      },
      "source": [
        "np.mean(baseline)"
      ],
      "execution_count": 49,
      "outputs": [
        {
          "output_type": "execute_result",
          "data": {
            "text/plain": [
              "0.7618699999999999"
            ]
          },
          "metadata": {
            "tags": []
          },
          "execution_count": 49
        }
      ]
    },
    {
      "cell_type": "code",
      "metadata": {
        "id": "iQxqLwhWwshl",
        "colab_type": "code",
        "colab": {
          "base_uri": "https://localhost:8080/",
          "height": 34
        },
        "outputId": "f7541dbb-ed03-48b5-c37b-ffbddcece605"
      },
      "source": [
        "stats.ttest_rel(augmented_hard,baseline)"
      ],
      "execution_count": 50,
      "outputs": [
        {
          "output_type": "execute_result",
          "data": {
            "text/plain": [
              "Ttest_relResult(statistic=4.356297917481842, pvalue=0.001833334328602048)"
            ]
          },
          "metadata": {
            "tags": []
          },
          "execution_count": 50
        }
      ]
    },
    {
      "cell_type": "code",
      "metadata": {
        "id": "350YGCOhxbho",
        "colab_type": "code",
        "colab": {
          "base_uri": "https://localhost:8080/",
          "height": 34
        },
        "outputId": "77ef4e17-08ce-4c9a-a78c-a24d123500b8"
      },
      "source": [
        "stats.ttest_rel(augmented_soft,baseline)"
      ],
      "execution_count": 51,
      "outputs": [
        {
          "output_type": "execute_result",
          "data": {
            "text/plain": [
              "Ttest_relResult(statistic=6.3006869583625695, pvalue=0.0001408690514115729)"
            ]
          },
          "metadata": {
            "tags": []
          },
          "execution_count": 51
        }
      ]
    },
    {
      "cell_type": "markdown",
      "metadata": {
        "id": "51rnX_l7Pfdr",
        "colab_type": "text"
      },
      "source": [
        "## Accuracy\n",
        "The final accuracy of the ensamble on the test set"
      ]
    },
    {
      "cell_type": "code",
      "metadata": {
        "id": "GwNmmvSFPlVx",
        "colab_type": "code",
        "outputId": "f990c978-64c9-42dc-957a-cf68d873e7cf",
        "colab": {
          "base_uri": "https://localhost:8080/",
          "height": 1000
        }
      },
      "source": [
        "!zip -r /content/MNIST_data_augmentation.zip /content/MNIST_data_augmentation"
      ],
      "execution_count": 52,
      "outputs": [
        {
          "output_type": "stream",
          "text": [
            "  adding: content/MNIST_data_augmentation/ (stored 0%)\n",
            "  adding: content/MNIST_data_augmentation/9/ (stored 0%)\n",
            "  adding: content/MNIST_data_augmentation/9/correlation_matrix.csv (deflated 50%)\n",
            "  adding: content/MNIST_data_augmentation/9/accuracy.csv (deflated 19%)\n",
            "  adding: content/MNIST_data_augmentation/9/weights/ (stored 0%)\n",
            "  adding: content/MNIST_data_augmentation/9/weights/weights-vetical shifting.h5 (deflated 71%)\n",
            "  adding: content/MNIST_data_augmentation/9/weights/weights-horizontal shifting.h5 (deflated 71%)\n",
            "  adding: content/MNIST_data_augmentation/9/weights/weights-rotation.h5 (deflated 71%)\n",
            "  adding: content/MNIST_data_augmentation/9/history/ (stored 0%)\n",
            "  adding: content/MNIST_data_augmentation/9/history/history-vetical shifting.csv (deflated 53%)\n",
            "  adding: content/MNIST_data_augmentation/9/history/history-horizontal shifting.csv (deflated 52%)\n",
            "  adding: content/MNIST_data_augmentation/9/history/history-rotation.csv (deflated 52%)\n",
            "  adding: content/MNIST_data_augmentation/7/ (stored 0%)\n",
            "  adding: content/MNIST_data_augmentation/7/correlation_matrix.csv (deflated 50%)\n",
            "  adding: content/MNIST_data_augmentation/7/accuracy.csv (deflated 20%)\n",
            "  adding: content/MNIST_data_augmentation/7/weights/ (stored 0%)\n",
            "  adding: content/MNIST_data_augmentation/7/weights/weights-vetical shifting.h5 (deflated 71%)\n",
            "  adding: content/MNIST_data_augmentation/7/weights/weights-horizontal shifting.h5 (deflated 71%)\n",
            "  adding: content/MNIST_data_augmentation/7/weights/weights-rotation.h5 (deflated 71%)\n",
            "  adding: content/MNIST_data_augmentation/7/history/ (stored 0%)\n",
            "  adding: content/MNIST_data_augmentation/7/history/history-vetical shifting.csv (deflated 52%)\n",
            "  adding: content/MNIST_data_augmentation/7/history/history-horizontal shifting.csv (deflated 53%)\n",
            "  adding: content/MNIST_data_augmentation/7/history/history-rotation.csv (deflated 53%)\n",
            "  adding: content/MNIST_data_augmentation/8/ (stored 0%)\n",
            "  adding: content/MNIST_data_augmentation/8/correlation_matrix.csv (deflated 49%)\n",
            "  adding: content/MNIST_data_augmentation/8/accuracy.csv (deflated 18%)\n",
            "  adding: content/MNIST_data_augmentation/8/weights/ (stored 0%)\n",
            "  adding: content/MNIST_data_augmentation/8/weights/weights-vetical shifting.h5 (deflated 71%)\n",
            "  adding: content/MNIST_data_augmentation/8/weights/weights-horizontal shifting.h5 (deflated 71%)\n",
            "  adding: content/MNIST_data_augmentation/8/weights/weights-rotation.h5 (deflated 71%)\n",
            "  adding: content/MNIST_data_augmentation/8/history/ (stored 0%)\n",
            "  adding: content/MNIST_data_augmentation/8/history/history-vetical shifting.csv (deflated 52%)\n",
            "  adding: content/MNIST_data_augmentation/8/history/history-horizontal shifting.csv (deflated 52%)\n",
            "  adding: content/MNIST_data_augmentation/8/history/history-rotation.csv (deflated 51%)\n",
            "  adding: content/MNIST_data_augmentation/2/ (stored 0%)\n",
            "  adding: content/MNIST_data_augmentation/2/correlation_matrix.csv (deflated 50%)\n",
            "  adding: content/MNIST_data_augmentation/2/accuracy.csv (deflated 19%)\n",
            "  adding: content/MNIST_data_augmentation/2/weights/ (stored 0%)\n",
            "  adding: content/MNIST_data_augmentation/2/weights/weights-vetical shifting.h5 (deflated 71%)\n",
            "  adding: content/MNIST_data_augmentation/2/weights/weights-horizontal shifting.h5 (deflated 70%)\n",
            "  adding: content/MNIST_data_augmentation/2/weights/weights-rotation.h5 (deflated 71%)\n",
            "  adding: content/MNIST_data_augmentation/2/history/ (stored 0%)\n",
            "  adding: content/MNIST_data_augmentation/2/history/history-vetical shifting.csv (deflated 52%)\n",
            "  adding: content/MNIST_data_augmentation/2/history/history-horizontal shifting.csv (deflated 53%)\n",
            "  adding: content/MNIST_data_augmentation/2/history/history-rotation.csv (deflated 52%)\n",
            "  adding: content/MNIST_data_augmentation/10/ (stored 0%)\n",
            "  adding: content/MNIST_data_augmentation/10/correlation_matrix.csv (deflated 49%)\n",
            "  adding: content/MNIST_data_augmentation/10/accuracy.csv (deflated 16%)\n",
            "  adding: content/MNIST_data_augmentation/10/weights/ (stored 0%)\n",
            "  adding: content/MNIST_data_augmentation/10/weights/weights-vetical shifting.h5 (deflated 71%)\n",
            "  adding: content/MNIST_data_augmentation/10/weights/weights-horizontal shifting.h5 (deflated 71%)\n",
            "  adding: content/MNIST_data_augmentation/10/weights/weights-rotation.h5 (deflated 71%)\n",
            "  adding: content/MNIST_data_augmentation/10/history/ (stored 0%)\n",
            "  adding: content/MNIST_data_augmentation/10/history/history-vetical shifting.csv (deflated 52%)\n",
            "  adding: content/MNIST_data_augmentation/10/history/history-horizontal shifting.csv (deflated 53%)\n",
            "  adding: content/MNIST_data_augmentation/10/history/history-rotation.csv (deflated 52%)\n",
            "  adding: content/MNIST_data_augmentation/5/ (stored 0%)\n",
            "  adding: content/MNIST_data_augmentation/5/correlation_matrix.csv (deflated 49%)\n",
            "  adding: content/MNIST_data_augmentation/5/accuracy.csv (deflated 19%)\n",
            "  adding: content/MNIST_data_augmentation/5/weights/ (stored 0%)\n",
            "  adding: content/MNIST_data_augmentation/5/weights/weights-vetical shifting.h5 (deflated 71%)\n",
            "  adding: content/MNIST_data_augmentation/5/weights/weights-horizontal shifting.h5 (deflated 71%)\n",
            "  adding: content/MNIST_data_augmentation/5/weights/weights-rotation.h5 (deflated 71%)\n",
            "  adding: content/MNIST_data_augmentation/5/history/ (stored 0%)\n",
            "  adding: content/MNIST_data_augmentation/5/history/history-vetical shifting.csv (deflated 52%)\n",
            "  adding: content/MNIST_data_augmentation/5/history/history-horizontal shifting.csv (deflated 53%)\n",
            "  adding: content/MNIST_data_augmentation/5/history/history-rotation.csv (deflated 53%)\n",
            "  adding: content/MNIST_data_augmentation/6/ (stored 0%)\n",
            "  adding: content/MNIST_data_augmentation/6/correlation_matrix.csv (deflated 51%)\n",
            "  adding: content/MNIST_data_augmentation/6/accuracy.csv (deflated 19%)\n",
            "  adding: content/MNIST_data_augmentation/6/weights/ (stored 0%)\n",
            "  adding: content/MNIST_data_augmentation/6/weights/weights-vetical shifting.h5 (deflated 71%)\n",
            "  adding: content/MNIST_data_augmentation/6/weights/weights-horizontal shifting.h5 (deflated 71%)\n",
            "  adding: content/MNIST_data_augmentation/6/weights/weights-rotation.h5 (deflated 71%)\n",
            "  adding: content/MNIST_data_augmentation/6/history/ (stored 0%)\n",
            "  adding: content/MNIST_data_augmentation/6/history/history-vetical shifting.csv (deflated 52%)\n",
            "  adding: content/MNIST_data_augmentation/6/history/history-horizontal shifting.csv (deflated 53%)\n",
            "  adding: content/MNIST_data_augmentation/6/history/history-rotation.csv (deflated 52%)\n",
            "  adding: content/MNIST_data_augmentation/.ipynb_checkpoints/ (stored 0%)\n",
            "  adding: content/MNIST_data_augmentation/results_.csv (deflated 55%)\n",
            "  adding: content/MNIST_data_augmentation/4/ (stored 0%)\n",
            "  adding: content/MNIST_data_augmentation/4/correlation_matrix.csv (deflated 49%)\n",
            "  adding: content/MNIST_data_augmentation/4/accuracy.csv (deflated 18%)\n",
            "  adding: content/MNIST_data_augmentation/4/weights/ (stored 0%)\n",
            "  adding: content/MNIST_data_augmentation/4/weights/weights-vetical shifting.h5 (deflated 71%)\n",
            "  adding: content/MNIST_data_augmentation/4/weights/weights-horizontal shifting.h5 (deflated 71%)\n",
            "  adding: content/MNIST_data_augmentation/4/weights/weights-rotation.h5 (deflated 71%)\n",
            "  adding: content/MNIST_data_augmentation/4/history/ (stored 0%)\n",
            "  adding: content/MNIST_data_augmentation/4/history/history-vetical shifting.csv (deflated 52%)\n",
            "  adding: content/MNIST_data_augmentation/4/history/history-horizontal shifting.csv (deflated 52%)\n",
            "  adding: content/MNIST_data_augmentation/4/history/history-rotation.csv (deflated 52%)\n",
            "  adding: content/MNIST_data_augmentation/1/ (stored 0%)\n",
            "  adding: content/MNIST_data_augmentation/1/correlation_matrix.csv (deflated 50%)\n",
            "  adding: content/MNIST_data_augmentation/1/accuracy.csv (deflated 18%)\n",
            "  adding: content/MNIST_data_augmentation/1/weights/ (stored 0%)\n",
            "  adding: content/MNIST_data_augmentation/1/weights/weights-vetical shifting.h5 (deflated 71%)\n",
            "  adding: content/MNIST_data_augmentation/1/weights/weights-horizontal shifting.h5 (deflated 71%)\n",
            "  adding: content/MNIST_data_augmentation/1/weights/weights-rotation.h5 (deflated 71%)\n",
            "  adding: content/MNIST_data_augmentation/1/history/ (stored 0%)\n",
            "  adding: content/MNIST_data_augmentation/1/history/history-vetical shifting.csv (deflated 52%)\n",
            "  adding: content/MNIST_data_augmentation/1/history/history-horizontal shifting.csv (deflated 53%)\n",
            "  adding: content/MNIST_data_augmentation/1/history/history-rotation.csv (deflated 53%)\n",
            "  adding: content/MNIST_data_augmentation/3/ (stored 0%)\n",
            "  adding: content/MNIST_data_augmentation/3/correlation_matrix.csv (deflated 49%)\n",
            "  adding: content/MNIST_data_augmentation/3/accuracy.csv (deflated 20%)\n",
            "  adding: content/MNIST_data_augmentation/3/weights/ (stored 0%)\n",
            "  adding: content/MNIST_data_augmentation/3/weights/weights-vetical shifting.h5 (deflated 71%)\n",
            "  adding: content/MNIST_data_augmentation/3/weights/weights-horizontal shifting.h5 (deflated 70%)\n",
            "  adding: content/MNIST_data_augmentation/3/weights/weights-rotation.h5 (deflated 71%)\n",
            "  adding: content/MNIST_data_augmentation/3/history/ (stored 0%)\n",
            "  adding: content/MNIST_data_augmentation/3/history/history-vetical shifting.csv (deflated 52%)\n",
            "  adding: content/MNIST_data_augmentation/3/history/history-horizontal shifting.csv (deflated 52%)\n",
            "  adding: content/MNIST_data_augmentation/3/history/history-rotation.csv (deflated 52%)\n"
          ],
          "name": "stdout"
        }
      ]
    }
  ]
}