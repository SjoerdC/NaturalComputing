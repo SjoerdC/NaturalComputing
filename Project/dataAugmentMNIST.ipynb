{
  "nbformat": 4,
  "nbformat_minor": 0,
  "metadata": {
    "accelerator": "GPU",
    "colab": {
      "name": "dataAugmentMNIST.ipynb",
      "provenance": [],
      "collapsed_sections": [],
      "toc_visible": true
    },
    "kernelspec": {
      "display_name": "Python 3",
      "language": "python",
      "name": "python3"
    },
    "language_info": {
      "codemirror_mode": {
        "name": "ipython",
        "version": 3
      },
      "file_extension": ".py",
      "mimetype": "text/x-python",
      "name": "python",
      "nbconvert_exporter": "python",
      "pygments_lexer": "ipython3",
      "version": "3.6.9"
    }
  },
  "cells": [
    {
      "cell_type": "code",
      "metadata": {
        "colab_type": "code",
        "id": "fde69AMuOpox",
        "colab": {
          "base_uri": "https://localhost:8080/",
          "height": 34
        },
        "outputId": "278050c6-6504-4d14-d718-7fde7326e42d"
      },
      "source": [
        "import keras\n",
        "import cv2\n",
        "import numpy as np\n",
        "import pandas as pd\n",
        "import tensorflow as tf\n",
        "from itertools import count\n",
        "from sklearn.metrics import accuracy_score\n",
        "from keras.datasets import mnist\n",
        "from keras.preprocessing.image import ImageDataGenerator\n",
        "from keras.applications.vgg16 import VGG16\n",
        "from keras.layers import Dense, Dropout, Flatten, Activation, Input, Conv2D, MaxPooling2D, BatchNormalization, GlobalAveragePooling2D\n",
        "from sklearn.model_selection import train_test_split\n",
        "from keras.models import Model\n",
        "from keras.callbacks import EarlyStopping\n",
        "from scipy.stats import pearsonr\n",
        "from tqdm import tqdm"
      ],
      "execution_count": 1,
      "outputs": [
        {
          "output_type": "stream",
          "text": [
            "Using TensorFlow backend.\n"
          ],
          "name": "stderr"
        }
      ]
    },
    {
      "cell_type": "code",
      "metadata": {
        "colab_type": "code",
        "id": "qYrab7qpOppj",
        "colab": {}
      },
      "source": [
        "BATCH_SIZE = 128\n",
        "EPOCHS = 20\n",
        "IMAGE_SIZE = 28\n",
        "NUM_CLASSES = 10\n",
        "MODEL_ADDITION_DELTA = 0.01\n",
        "MODEL_ADDITION_PATIENCE = 3\n",
        "MODEL_NAME = \"MNIST_augment\"\n",
        "PATH = \"\""
      ],
      "execution_count": 0,
      "outputs": []
    },
    {
      "cell_type": "code",
      "metadata": {
        "id": "lvPye7rV7D-m",
        "colab_type": "code",
        "colab": {}
      },
      "source": [
        "rotation_range = 10\n",
        "width_shift_range = 0.1\n",
        "height_shift_range = 0.1\n",
        "brightness_range = (0.5,1.0)\n",
        "zoom_range = 0.2\n",
        "horizontal_flip = True"
      ],
      "execution_count": 0,
      "outputs": []
    },
    {
      "cell_type": "markdown",
      "metadata": {
        "id": "R9M4_-IaBOsn",
        "colab_type": "text"
      },
      "source": [
        "# Set seeds"
      ]
    },
    {
      "cell_type": "code",
      "metadata": {
        "id": "7n9nJGd_BQ-r",
        "colab_type": "code",
        "colab": {}
      },
      "source": [
        "np.random.seed(1)\n",
        "tf.random.set_seed(1)"
      ],
      "execution_count": 0,
      "outputs": []
    },
    {
      "cell_type": "markdown",
      "metadata": {
        "id": "g8QvEt97vF52",
        "colab_type": "text"
      },
      "source": [
        "# Preprocess"
      ]
    },
    {
      "cell_type": "code",
      "metadata": {
        "id": "JtJIUBsFKeRO",
        "colab_type": "code",
        "colab": {}
      },
      "source": [
        "def preprocess(imgs):\n",
        "    \n",
        "    return imgs.reshape(imgs.shape[0], IMAGE_SIZE, IMAGE_SIZE, 1)"
      ],
      "execution_count": 0,
      "outputs": []
    },
    {
      "cell_type": "code",
      "metadata": {
        "colab_type": "code",
        "id": "XypdmBJROpp9",
        "outputId": "1c8d47d1-dd50-4264-e87d-f275f72a1098",
        "colab": {
          "base_uri": "https://localhost:8080/",
          "height": 104
        }
      },
      "source": [
        "(x_train, y_train), (x_test, y_test) = mnist.load_data()\n",
        "\n",
        "x_train = preprocess(x_train)\n",
        "x_test = preprocess(x_test)\n",
        "\n",
        "print('x_train shape:', x_train.shape)\n",
        "print(x_train.shape[0], 'train samples')\n",
        "print(x_test.shape[0], 'test samples')"
      ],
      "execution_count": 9,
      "outputs": [
        {
          "output_type": "stream",
          "text": [
            "Downloading data from https://s3.amazonaws.com/img-datasets/mnist.npz\n",
            "11493376/11490434 [==============================] - 1s 0us/step\n",
            "x_train shape: (60000, 28, 28, 1)\n",
            "60000 train samples\n",
            "10000 test samples\n"
          ],
          "name": "stdout"
        }
      ]
    },
    {
      "cell_type": "code",
      "metadata": {
        "colab_type": "code",
        "id": "mo8yHyg-Opqo",
        "colab": {}
      },
      "source": [
        "# Convert class vectors to binary class matrices.\n",
        "y_train = keras.utils.to_categorical(y_train, NUM_CLASSES)\n",
        "y_test = keras.utils.to_categorical(y_test, NUM_CLASSES)"
      ],
      "execution_count": 0,
      "outputs": []
    },
    {
      "cell_type": "code",
      "metadata": {
        "id": "a4SYRuKZaIwb",
        "colab_type": "code",
        "colab": {}
      },
      "source": [
        "x_train = x_train.astype('float32')\n",
        "x_test = x_test.astype('float32')\n",
        "x_train /= 255\n",
        "x_test /= 255"
      ],
      "execution_count": 0,
      "outputs": []
    },
    {
      "cell_type": "code",
      "metadata": {
        "id": "yLQOYIh0OW84",
        "colab_type": "code",
        "colab": {}
      },
      "source": [
        "# Split the data\n",
        "x_train, x_val, y_train, y_val = train_test_split(x_train, y_train, test_size=0.20, shuffle= True)"
      ],
      "execution_count": 0,
      "outputs": []
    },
    {
      "cell_type": "markdown",
      "metadata": {
        "id": "U6JSOpWp_BHt",
        "colab_type": "text"
      },
      "source": [
        "#Data generators\n"
      ]
    },
    {
      "cell_type": "code",
      "metadata": {
        "id": "VeSX4_La7EIs",
        "colab_type": "code",
        "colab": {}
      },
      "source": [
        "datagen_rotation = ImageDataGenerator(rotation_range=rotation_range)\n",
        "datagen_width_shift = ImageDataGenerator(width_shift_range=width_shift_range)\n",
        "datagen_height_shift = ImageDataGenerator(height_shift_range=height_shift_range)\n",
        "datagen_brightness = ImageDataGenerator(brightness_range=brightness_range)\n",
        "datagen_zoom = ImageDataGenerator(zoom_range=zoom_range)\n",
        "datagen_hflip = ImageDataGenerator(horizontal_flip=horizontal_flip)"
      ],
      "execution_count": 0,
      "outputs": []
    },
    {
      "cell_type": "code",
      "metadata": {
        "id": "TBZwvb9Z7ala",
        "colab_type": "code",
        "colab": {}
      },
      "source": [
        "datagens = []\n",
        "datagens.append(datagen_rotation)\n",
        "datagens.append(datagen_width_shift)\n",
        "datagens.append(datagen_brightness)\n",
        "datagens.append(datagen_zoom)\n",
        "datagens.append(datagen_hflip)"
      ],
      "execution_count": 0,
      "outputs": []
    },
    {
      "cell_type": "markdown",
      "metadata": {
        "id": "gIBGIrlkvOt0",
        "colab_type": "text"
      },
      "source": [
        "# Model"
      ]
    },
    {
      "cell_type": "code",
      "metadata": {
        "colab_type": "code",
        "id": "zLWph6_aOpr2",
        "colab": {}
      },
      "source": [
        "def MNISTmodel(imsize, num_classes, num_channels):\n",
        "    inputs = Input((imsize,imsize,num_channels))\n",
        "    x = Conv2D(filters=16, kernel_size=(3,3), activation='relu',strides = 2)(inputs)\n",
        "    x = BatchNormalization()(x)\n",
        "    x = MaxPooling2D(pool_size=(2,2), strides=(2,2), padding='same')(x)\n",
        "    x = Conv2D(filters=16, kernel_size=(1,1), activation='relu', padding='valid')(x)\n",
        "    x = Conv2D(filters=10, kernel_size=(1,1),strides=(1,1), padding='valid')(x)\n",
        "    x = GlobalAveragePooling2D()(x)\n",
        "    outputs = Activation('softmax')(x)\n",
        "    \n",
        "    model = Model(inputs=inputs, outputs=outputs)\n",
        "\n",
        "    optimizer = keras.optimizers.Adam(learning_rate = 1e-04)\n",
        "\n",
        "    model.compile(loss='categorical_crossentropy',\n",
        "                      optimizer=optimizer,\n",
        "                      metrics=['accuracy'])\n",
        "    return model"
      ],
      "execution_count": 0,
      "outputs": []
    },
    {
      "cell_type": "markdown",
      "metadata": {
        "id": "EbiuqESLvTOY",
        "colab_type": "text"
      },
      "source": [
        "# Predict"
      ]
    },
    {
      "cell_type": "code",
      "metadata": {
        "id": "JXFkx19XmqKe",
        "colab_type": "code",
        "colab": {}
      },
      "source": [
        "def predict(models, X, Y):\n",
        "    predictions = []\n",
        "\n",
        "    for m in tqdm(models):\n",
        "        predictions.append(np.argmax(m.predict(X), axis=1))\n",
        "\n",
        "    prediction = np.transpose(predictions)\n",
        "    prediction = np.apply_along_axis(lambda x: np.bincount(x).argmax(), axis=1, arr=prediction)\n",
        "\n",
        "    return accuracy_score(prediction, np.argmax(Y, axis=1))"
      ],
      "execution_count": 0,
      "outputs": []
    },
    {
      "cell_type": "markdown",
      "metadata": {
        "id": "TVqdcrD_vQ-Q",
        "colab_type": "text"
      },
      "source": [
        "# Train"
      ]
    },
    {
      "cell_type": "code",
      "metadata": {
        "colab_type": "code",
        "id": "HjvZqLBJOpsw",
        "outputId": "80c8e50c-ebc1-4db0-d57f-0aba3aba0627",
        "colab": {
          "base_uri": "https://localhost:8080/",
          "height": 1000
        }
      },
      "source": [
        "models = []\n",
        "accuracies = [0]\n",
        "patience = 0\n",
        "\n",
        "for i in range(len(datagens)):\n",
        "\n",
        "    print(f\"Train model {i}\")\n",
        "\n",
        "    datagen = datagens[i].flow(x_train,y_train, batch_size = BATCH_SIZE) \n",
        "    model = MNISTmodel(IMAGE_SIZE, NUM_CLASSES, 1)\n",
        "\n",
        "    es = EarlyStopping(min_delta=0.01, patience=3)\n",
        "    model.fit_generator(datagen,\n",
        "                        epochs = EPOCHS,\n",
        "                        validation_data = (x_test,y_test),\n",
        "                        shuffle = True,\n",
        "                        callbacks=[es])\n",
        "    \n",
        "    model.save_weights(PATH + MODEL_NAME + f\"_weights-{i}.h5\" )\n",
        "    models.append(model)\n",
        "\n",
        "    acc = predict(models, x_val, y_val)\n",
        "    accuracies.append(acc)\n",
        "\n",
        "    print(f\"Model: {i} added. Resulting score: {acc}\")"
      ],
      "execution_count": 25,
      "outputs": [
        {
          "output_type": "stream",
          "text": [
            "Train model 0\n",
            "Epoch 1/20\n",
            "375/375 [==============================] - 14s 37ms/step - loss: 2.3060 - accuracy: 0.1796 - val_loss: 2.2918 - val_accuracy: 0.1156\n",
            "Epoch 2/20\n",
            "375/375 [==============================] - 13s 35ms/step - loss: 2.2634 - accuracy: 0.2148 - val_loss: 2.2454 - val_accuracy: 0.2196\n",
            "Epoch 3/20\n",
            "375/375 [==============================] - 13s 35ms/step - loss: 2.2235 - accuracy: 0.2421 - val_loss: 2.1940 - val_accuracy: 0.2189\n",
            "Epoch 4/20\n",
            "375/375 [==============================] - 13s 36ms/step - loss: 2.1680 - accuracy: 0.2554 - val_loss: 2.1248 - val_accuracy: 0.2413\n",
            "Epoch 5/20\n",
            "375/375 [==============================] - 13s 35ms/step - loss: 2.0990 - accuracy: 0.2629 - val_loss: 2.0454 - val_accuracy: 0.2848\n",
            "Epoch 6/20\n",
            "375/375 [==============================] - 14s 36ms/step - loss: 2.0286 - accuracy: 0.2781 - val_loss: 1.9718 - val_accuracy: 0.2955\n",
            "Epoch 7/20\n",
            "375/375 [==============================] - 13s 35ms/step - loss: 1.9628 - accuracy: 0.2926 - val_loss: 1.9054 - val_accuracy: 0.3110\n",
            "Epoch 8/20\n",
            "375/375 [==============================] - 13s 35ms/step - loss: 1.9031 - accuracy: 0.3128 - val_loss: 1.8431 - val_accuracy: 0.3386\n",
            "Epoch 9/20\n",
            "375/375 [==============================] - 13s 36ms/step - loss: 1.8492 - accuracy: 0.3414 - val_loss: 1.7893 - val_accuracy: 0.3607\n",
            "Epoch 10/20\n",
            "375/375 [==============================] - 13s 36ms/step - loss: 1.8020 - accuracy: 0.3670 - val_loss: 1.7428 - val_accuracy: 0.3908\n",
            "Epoch 11/20\n",
            "375/375 [==============================] - 13s 36ms/step - loss: 1.7581 - accuracy: 0.3817 - val_loss: 1.7019 - val_accuracy: 0.3980\n",
            "Epoch 12/20\n",
            "375/375 [==============================] - 13s 35ms/step - loss: 1.7220 - accuracy: 0.3932 - val_loss: 1.6650 - val_accuracy: 0.4050\n",
            "Epoch 13/20\n",
            "375/375 [==============================] - 13s 35ms/step - loss: 1.6902 - accuracy: 0.4016 - val_loss: 1.6387 - val_accuracy: 0.4220\n",
            "Epoch 14/20\n",
            "375/375 [==============================] - 13s 35ms/step - loss: 1.6587 - accuracy: 0.4104 - val_loss: 1.6081 - val_accuracy: 0.4183\n",
            "Epoch 15/20\n",
            "375/375 [==============================] - 13s 35ms/step - loss: 1.6322 - accuracy: 0.4162 - val_loss: 1.5786 - val_accuracy: 0.4320\n",
            "Epoch 16/20\n",
            "375/375 [==============================] - 13s 35ms/step - loss: 1.6105 - accuracy: 0.4252 - val_loss: 1.5605 - val_accuracy: 0.4345\n",
            "Epoch 17/20\n",
            "375/375 [==============================] - 13s 35ms/step - loss: 1.5889 - accuracy: 0.4288 - val_loss: 1.5370 - val_accuracy: 0.4408\n",
            "Epoch 18/20\n",
            "375/375 [==============================] - 13s 35ms/step - loss: 1.5693 - accuracy: 0.4357 - val_loss: 1.5228 - val_accuracy: 0.4418\n",
            "Epoch 19/20\n",
            "375/375 [==============================] - 13s 36ms/step - loss: 1.5523 - accuracy: 0.4414 - val_loss: 1.5075 - val_accuracy: 0.4545\n",
            "Epoch 20/20\n",
            "375/375 [==============================] - 13s 35ms/step - loss: 1.5394 - accuracy: 0.4447 - val_loss: 1.4945 - val_accuracy: 0.4608\n"
          ],
          "name": "stdout"
        },
        {
          "output_type": "stream",
          "text": [
            "100%|██████████| 1/1 [00:00<00:00,  1.39it/s]\n"
          ],
          "name": "stderr"
        },
        {
          "output_type": "stream",
          "text": [
            "Model: 0 added. Resulting score: 0.4608333333333333\n",
            "Train model 1\n",
            "Epoch 1/20\n",
            "375/375 [==============================] - 14s 39ms/step - loss: 2.2860 - accuracy: 0.1705 - val_loss: 2.2767 - val_accuracy: 0.2068\n",
            "Epoch 2/20\n",
            "375/375 [==============================] - 14s 37ms/step - loss: 2.2319 - accuracy: 0.2404 - val_loss: 2.2093 - val_accuracy: 0.2332\n",
            "Epoch 3/20\n",
            "375/375 [==============================] - 14s 37ms/step - loss: 2.1809 - accuracy: 0.2378 - val_loss: 2.1494 - val_accuracy: 0.2410\n",
            "Epoch 4/20\n",
            "375/375 [==============================] - 14s 37ms/step - loss: 2.1225 - accuracy: 0.2536 - val_loss: 2.0796 - val_accuracy: 0.2755\n",
            "Epoch 5/20\n",
            "375/375 [==============================] - 14s 37ms/step - loss: 2.0500 - accuracy: 0.2913 - val_loss: 2.0036 - val_accuracy: 0.3088\n",
            "Epoch 6/20\n",
            "375/375 [==============================] - 14s 38ms/step - loss: 1.9767 - accuracy: 0.3151 - val_loss: 1.9258 - val_accuracy: 0.3410\n",
            "Epoch 7/20\n",
            "375/375 [==============================] - 14s 37ms/step - loss: 1.9044 - accuracy: 0.3429 - val_loss: 1.8523 - val_accuracy: 0.3669\n",
            "Epoch 8/20\n",
            "375/375 [==============================] - 14s 38ms/step - loss: 1.8388 - accuracy: 0.3655 - val_loss: 1.7876 - val_accuracy: 0.3777\n",
            "Epoch 9/20\n",
            "375/375 [==============================] - 14s 37ms/step - loss: 1.7794 - accuracy: 0.3862 - val_loss: 1.7293 - val_accuracy: 0.3912\n",
            "Epoch 10/20\n",
            "375/375 [==============================] - 14s 37ms/step - loss: 1.7279 - accuracy: 0.3991 - val_loss: 1.6784 - val_accuracy: 0.4014\n",
            "Epoch 11/20\n",
            "375/375 [==============================] - 14s 37ms/step - loss: 1.6822 - accuracy: 0.4153 - val_loss: 1.6361 - val_accuracy: 0.4080\n",
            "Epoch 12/20\n",
            "375/375 [==============================] - 14s 37ms/step - loss: 1.6441 - accuracy: 0.4280 - val_loss: 1.6008 - val_accuracy: 0.4224\n",
            "Epoch 13/20\n",
            "375/375 [==============================] - 14s 37ms/step - loss: 1.6132 - accuracy: 0.4359 - val_loss: 1.5707 - val_accuracy: 0.4341\n",
            "Epoch 14/20\n",
            "375/375 [==============================] - 14s 36ms/step - loss: 1.5835 - accuracy: 0.4473 - val_loss: 1.5455 - val_accuracy: 0.4354\n",
            "Epoch 15/20\n",
            "375/375 [==============================] - 14s 37ms/step - loss: 1.5578 - accuracy: 0.4551 - val_loss: 1.5227 - val_accuracy: 0.4569\n",
            "Epoch 16/20\n",
            "375/375 [==============================] - 14s 37ms/step - loss: 1.5359 - accuracy: 0.4662 - val_loss: 1.4996 - val_accuracy: 0.4552\n",
            "Epoch 17/20\n",
            "375/375 [==============================] - 14s 37ms/step - loss: 1.5135 - accuracy: 0.4728 - val_loss: 1.4837 - val_accuracy: 0.4644\n",
            "Epoch 18/20\n",
            "375/375 [==============================] - 14s 37ms/step - loss: 1.4947 - accuracy: 0.4819 - val_loss: 1.4621 - val_accuracy: 0.4709\n",
            "Epoch 19/20\n",
            "375/375 [==============================] - 14s 37ms/step - loss: 1.4759 - accuracy: 0.4872 - val_loss: 1.4471 - val_accuracy: 0.4749\n",
            "Epoch 20/20\n",
            "375/375 [==============================] - 14s 36ms/step - loss: 1.4574 - accuracy: 0.4938 - val_loss: 1.4302 - val_accuracy: 0.4811\n"
          ],
          "name": "stdout"
        },
        {
          "output_type": "stream",
          "text": [
            "100%|██████████| 2/2 [00:01<00:00,  1.72it/s]\n"
          ],
          "name": "stderr"
        },
        {
          "output_type": "stream",
          "text": [
            "Model: 1 added. Resulting score: 0.4488333333333333\n",
            "Train model 2\n",
            "Epoch 1/20\n",
            "375/375 [==============================] - 12s 33ms/step - loss: 2.3571 - accuracy: 0.1065 - val_loss: 2.3240 - val_accuracy: 0.1028\n",
            "Epoch 2/20\n",
            "375/375 [==============================] - 12s 32ms/step - loss: 2.2459 - accuracy: 0.1791 - val_loss: 2.3382 - val_accuracy: 0.1135\n",
            "Epoch 3/20\n",
            "375/375 [==============================] - 12s 32ms/step - loss: 2.1884 - accuracy: 0.2529 - val_loss: 2.3688 - val_accuracy: 0.1135\n",
            "Epoch 4/20\n",
            "375/375 [==============================] - 12s 32ms/step - loss: 2.1238 - accuracy: 0.3082 - val_loss: 2.4232 - val_accuracy: 0.1135\n"
          ],
          "name": "stdout"
        },
        {
          "output_type": "stream",
          "text": [
            "100%|██████████| 3/3 [00:01<00:00,  1.65it/s]\n"
          ],
          "name": "stderr"
        },
        {
          "output_type": "stream",
          "text": [
            "Model: 2 added. Resulting score: 0.3546666666666667\n",
            "Train model 3\n",
            "Epoch 1/20\n",
            "375/375 [==============================] - 13s 35ms/step - loss: 2.3073 - accuracy: 0.0696 - val_loss: 2.2864 - val_accuracy: 0.1131\n",
            "Epoch 2/20\n",
            "375/375 [==============================] - 13s 34ms/step - loss: 2.2517 - accuracy: 0.1056 - val_loss: 2.2184 - val_accuracy: 0.1610\n",
            "Epoch 3/20\n",
            "375/375 [==============================] - 13s 34ms/step - loss: 2.1900 - accuracy: 0.1983 - val_loss: 2.1315 - val_accuracy: 0.2632\n",
            "Epoch 4/20\n",
            "375/375 [==============================] - 13s 34ms/step - loss: 2.1155 - accuracy: 0.2683 - val_loss: 2.0406 - val_accuracy: 0.3271\n",
            "Epoch 5/20\n",
            "375/375 [==============================] - 13s 34ms/step - loss: 2.0390 - accuracy: 0.2991 - val_loss: 1.9573 - val_accuracy: 0.3505\n",
            "Epoch 6/20\n",
            "375/375 [==============================] - 13s 34ms/step - loss: 1.9707 - accuracy: 0.3040 - val_loss: 1.8810 - val_accuracy: 0.3580\n",
            "Epoch 7/20\n",
            "375/375 [==============================] - 13s 34ms/step - loss: 1.9104 - accuracy: 0.3174 - val_loss: 1.8169 - val_accuracy: 0.3850\n",
            "Epoch 8/20\n",
            "375/375 [==============================] - 13s 34ms/step - loss: 1.8602 - accuracy: 0.3278 - val_loss: 1.7637 - val_accuracy: 0.4009\n",
            "Epoch 9/20\n",
            "375/375 [==============================] - 13s 34ms/step - loss: 1.8172 - accuracy: 0.3444 - val_loss: 1.7259 - val_accuracy: 0.4116\n",
            "Epoch 10/20\n",
            "375/375 [==============================] - 13s 34ms/step - loss: 1.7837 - accuracy: 0.3536 - val_loss: 1.6840 - val_accuracy: 0.4250\n",
            "Epoch 11/20\n",
            "375/375 [==============================] - 13s 34ms/step - loss: 1.7518 - accuracy: 0.3662 - val_loss: 1.6607 - val_accuracy: 0.4336\n",
            "Epoch 12/20\n",
            "375/375 [==============================] - 13s 34ms/step - loss: 1.7243 - accuracy: 0.3784 - val_loss: 1.6283 - val_accuracy: 0.4529\n",
            "Epoch 13/20\n",
            "375/375 [==============================] - 13s 34ms/step - loss: 1.6983 - accuracy: 0.3916 - val_loss: 1.6121 - val_accuracy: 0.4600\n",
            "Epoch 14/20\n",
            "375/375 [==============================] - 13s 34ms/step - loss: 1.6775 - accuracy: 0.4013 - val_loss: 1.5729 - val_accuracy: 0.4729\n",
            "Epoch 15/20\n",
            "375/375 [==============================] - 13s 33ms/step - loss: 1.6556 - accuracy: 0.4095 - val_loss: 1.5521 - val_accuracy: 0.4910\n",
            "Epoch 16/20\n",
            "375/375 [==============================] - 13s 34ms/step - loss: 1.6381 - accuracy: 0.4165 - val_loss: 1.5405 - val_accuracy: 0.4896\n",
            "Epoch 17/20\n",
            "375/375 [==============================] - 13s 34ms/step - loss: 1.6213 - accuracy: 0.4264 - val_loss: 1.5298 - val_accuracy: 0.4959\n",
            "Epoch 18/20\n",
            "375/375 [==============================] - 13s 35ms/step - loss: 1.6052 - accuracy: 0.4325 - val_loss: 1.5108 - val_accuracy: 0.5021\n",
            "Epoch 19/20\n",
            "375/375 [==============================] - 13s 34ms/step - loss: 1.5900 - accuracy: 0.4435 - val_loss: 1.4873 - val_accuracy: 0.5107\n",
            "Epoch 20/20\n",
            "375/375 [==============================] - 13s 34ms/step - loss: 1.5749 - accuracy: 0.4480 - val_loss: 1.4813 - val_accuracy: 0.5076\n"
          ],
          "name": "stdout"
        },
        {
          "output_type": "stream",
          "text": [
            "100%|██████████| 4/4 [00:02<00:00,  1.61it/s]\n"
          ],
          "name": "stderr"
        },
        {
          "output_type": "stream",
          "text": [
            "Model: 3 added. Resulting score: 0.482\n",
            "Train model 4\n",
            "Epoch 1/20\n",
            "375/375 [==============================] - 4s 12ms/step - loss: 2.2916 - accuracy: 0.1195 - val_loss: 2.2895 - val_accuracy: 0.1223\n",
            "Epoch 2/20\n",
            "375/375 [==============================] - 4s 11ms/step - loss: 2.2521 - accuracy: 0.1910 - val_loss: 2.2352 - val_accuracy: 0.2167\n",
            "Epoch 3/20\n",
            "375/375 [==============================] - 4s 11ms/step - loss: 2.2015 - accuracy: 0.2598 - val_loss: 2.1705 - val_accuracy: 0.2747\n",
            "Epoch 4/20\n",
            "375/375 [==============================] - 4s 10ms/step - loss: 2.1413 - accuracy: 0.3213 - val_loss: 2.1043 - val_accuracy: 0.3437\n",
            "Epoch 5/20\n",
            "375/375 [==============================] - 4s 11ms/step - loss: 2.0710 - accuracy: 0.3644 - val_loss: 2.0270 - val_accuracy: 0.3691\n",
            "Epoch 6/20\n",
            "375/375 [==============================] - 4s 11ms/step - loss: 1.9845 - accuracy: 0.3710 - val_loss: 1.9328 - val_accuracy: 0.3778\n",
            "Epoch 7/20\n",
            "375/375 [==============================] - 4s 11ms/step - loss: 1.9037 - accuracy: 0.3779 - val_loss: 1.8622 - val_accuracy: 0.3752\n",
            "Epoch 8/20\n",
            "375/375 [==============================] - 4s 11ms/step - loss: 1.8391 - accuracy: 0.3833 - val_loss: 1.8021 - val_accuracy: 0.3834\n",
            "Epoch 9/20\n",
            "375/375 [==============================] - 4s 11ms/step - loss: 1.7878 - accuracy: 0.3906 - val_loss: 1.7544 - val_accuracy: 0.3925\n",
            "Epoch 10/20\n",
            "375/375 [==============================] - 4s 11ms/step - loss: 1.7446 - accuracy: 0.3955 - val_loss: 1.7103 - val_accuracy: 0.4054\n",
            "Epoch 11/20\n",
            "375/375 [==============================] - 4s 11ms/step - loss: 1.7077 - accuracy: 0.4057 - val_loss: 1.6772 - val_accuracy: 0.4085\n",
            "Epoch 12/20\n",
            "375/375 [==============================] - 4s 11ms/step - loss: 1.6777 - accuracy: 0.4103 - val_loss: 1.6473 - val_accuracy: 0.4153\n",
            "Epoch 13/20\n",
            "375/375 [==============================] - 4s 11ms/step - loss: 1.6505 - accuracy: 0.4177 - val_loss: 1.6219 - val_accuracy: 0.4193\n",
            "Epoch 14/20\n",
            "375/375 [==============================] - 4s 10ms/step - loss: 1.6276 - accuracy: 0.4204 - val_loss: 1.5980 - val_accuracy: 0.4251\n",
            "Epoch 15/20\n",
            "375/375 [==============================] - 4s 10ms/step - loss: 1.6084 - accuracy: 0.4245 - val_loss: 1.5799 - val_accuracy: 0.4324\n",
            "Epoch 16/20\n",
            "375/375 [==============================] - 4s 10ms/step - loss: 1.5912 - accuracy: 0.4304 - val_loss: 1.5620 - val_accuracy: 0.4330\n",
            "Epoch 17/20\n",
            "375/375 [==============================] - 4s 10ms/step - loss: 1.5735 - accuracy: 0.4346 - val_loss: 1.5460 - val_accuracy: 0.4353\n",
            "Epoch 18/20\n",
            "375/375 [==============================] - 4s 10ms/step - loss: 1.5592 - accuracy: 0.4402 - val_loss: 1.5336 - val_accuracy: 0.4365\n",
            "Epoch 19/20\n",
            "375/375 [==============================] - 4s 11ms/step - loss: 1.5475 - accuracy: 0.4437 - val_loss: 1.5196 - val_accuracy: 0.4446\n",
            "Epoch 20/20\n",
            "375/375 [==============================] - 4s 10ms/step - loss: 1.5351 - accuracy: 0.4447 - val_loss: 1.5059 - val_accuracy: 0.4492\n"
          ],
          "name": "stdout"
        },
        {
          "output_type": "stream",
          "text": [
            "100%|██████████| 5/5 [00:02<00:00,  1.72it/s]"
          ],
          "name": "stderr"
        },
        {
          "output_type": "stream",
          "text": [
            "Model: 4 added. Resulting score: 0.48583333333333334\n"
          ],
          "name": "stdout"
        },
        {
          "output_type": "stream",
          "text": [
            "\n"
          ],
          "name": "stderr"
        }
      ]
    },
    {
      "cell_type": "markdown",
      "metadata": {
        "id": "fGT6jV-hcLbJ",
        "colab_type": "text"
      },
      "source": [
        "# Results"
      ]
    },
    {
      "cell_type": "markdown",
      "metadata": {
        "id": "CurcmjMCcrJI",
        "colab_type": "text"
      },
      "source": [
        "# Accuracy vs nr of models\n",
        "Visualizing the accuracy vs the number of models in the ensemble"
      ]
    },
    {
      "cell_type": "code",
      "metadata": {
        "id": "yvZLQyb5cg7R",
        "colab_type": "code",
        "outputId": "37b51d44-728b-45fa-c2b7-95cd96a7864b",
        "colab": {
          "base_uri": "https://localhost:8080/",
          "height": 238
        }
      },
      "source": [
        "accuracy_df = pd.DataFrame(accuracies, columns=[\"Accuracy\"])\n",
        "accuracy_df.insert(1, \"Nr of models\", accuracy_df.index)\n",
        "\n",
        "display(accuracy_df)\n",
        "\n",
        "accuracy_df.to_csv(PATH + MODEL_NAME + \"_accuracy.csv\")"
      ],
      "execution_count": 26,
      "outputs": [
        {
          "output_type": "display_data",
          "data": {
            "text/html": [
              "<div>\n",
              "<style scoped>\n",
              "    .dataframe tbody tr th:only-of-type {\n",
              "        vertical-align: middle;\n",
              "    }\n",
              "\n",
              "    .dataframe tbody tr th {\n",
              "        vertical-align: top;\n",
              "    }\n",
              "\n",
              "    .dataframe thead th {\n",
              "        text-align: right;\n",
              "    }\n",
              "</style>\n",
              "<table border=\"1\" class=\"dataframe\">\n",
              "  <thead>\n",
              "    <tr style=\"text-align: right;\">\n",
              "      <th></th>\n",
              "      <th>Accuracy</th>\n",
              "      <th>Nr of models</th>\n",
              "    </tr>\n",
              "  </thead>\n",
              "  <tbody>\n",
              "    <tr>\n",
              "      <th>0</th>\n",
              "      <td>0.000000</td>\n",
              "      <td>0</td>\n",
              "    </tr>\n",
              "    <tr>\n",
              "      <th>1</th>\n",
              "      <td>0.460833</td>\n",
              "      <td>1</td>\n",
              "    </tr>\n",
              "    <tr>\n",
              "      <th>2</th>\n",
              "      <td>0.448833</td>\n",
              "      <td>2</td>\n",
              "    </tr>\n",
              "    <tr>\n",
              "      <th>3</th>\n",
              "      <td>0.354667</td>\n",
              "      <td>3</td>\n",
              "    </tr>\n",
              "    <tr>\n",
              "      <th>4</th>\n",
              "      <td>0.482000</td>\n",
              "      <td>4</td>\n",
              "    </tr>\n",
              "    <tr>\n",
              "      <th>5</th>\n",
              "      <td>0.485833</td>\n",
              "      <td>5</td>\n",
              "    </tr>\n",
              "  </tbody>\n",
              "</table>\n",
              "</div>"
            ],
            "text/plain": [
              "   Accuracy  Nr of models\n",
              "0  0.000000             0\n",
              "1  0.460833             1\n",
              "2  0.448833             2\n",
              "3  0.354667             3\n",
              "4  0.482000             4\n",
              "5  0.485833             5"
            ]
          },
          "metadata": {
            "tags": []
          }
        }
      ]
    },
    {
      "cell_type": "code",
      "metadata": {
        "id": "sXq8Uj3lenzH",
        "colab_type": "code",
        "outputId": "4ccb2cd4-8908-46e6-ad45-a1d520784754",
        "colab": {
          "base_uri": "https://localhost:8080/",
          "height": 279
        }
      },
      "source": [
        "import matplotlib.pyplot as plt\n",
        "\n",
        "# remove first row\n",
        "accuracy_df = accuracy_df.iloc[1:]\n",
        "\n",
        "accuracy_df.plot(x=\"Nr of models\", y=\"Accuracy\", xticks=accuracy_df[\"Nr of models\"])\n",
        "plt.show()"
      ],
      "execution_count": 27,
      "outputs": [
        {
          "output_type": "display_data",
          "data": {
            "image/png": "[encoded data removed]",
            "text/plain": [
              "<Figure size 432x288 with 1 Axes>"
            ]
          },
          "metadata": {
            "tags": [],
            "needs_background": "light"
          }
        }
      ]
    },
    {
      "cell_type": "markdown",
      "metadata": {
        "id": "51rnX_l7Pfdr",
        "colab_type": "text"
      },
      "source": [
        "## Accuracy\n",
        "The final accuracy of the ensamble on the test set"
      ]
    },
    {
      "cell_type": "code",
      "metadata": {
        "id": "GwNmmvSFPlVx",
        "colab_type": "code",
        "outputId": "8b31ea8e-5033-41e0-b922-32b892d9d352",
        "colab": {
          "base_uri": "https://localhost:8080/",
          "height": 52
        }
      },
      "source": [
        "print(\"Accuracy: \" + str(predict(models, x_test, y_test)))"
      ],
      "execution_count": 28,
      "outputs": [
        {
          "output_type": "stream",
          "text": [
            "100%|██████████| 5/5 [00:02<00:00,  2.11it/s]"
          ],
          "name": "stderr"
        },
        {
          "output_type": "stream",
          "text": [
            "Accuracy: 0.49\n"
          ],
          "name": "stdout"
        },
        {
          "output_type": "stream",
          "text": [
            "\n"
          ],
          "name": "stderr"
        }
      ]
    },
    {
      "cell_type": "markdown",
      "metadata": {
        "id": "NMfc-h8xAYQu",
        "colab_type": "text"
      },
      "source": [
        "## Correlation between models"
      ]
    },
    {
      "cell_type": "code",
      "metadata": {
        "id": "0N9wSXF1iSp3",
        "colab_type": "code",
        "outputId": "0555e21f-ae5c-499c-87f2-a97768ace98e",
        "colab": {
          "base_uri": "https://localhost:8080/",
          "height": 34
        }
      },
      "source": [
        "predictions = []\n",
        "\n",
        "for m in tqdm(models):\n",
        "    predictions.append(np.argmax(m.predict(x_test), axis=1))"
      ],
      "execution_count": 29,
      "outputs": [
        {
          "output_type": "stream",
          "text": [
            "100%|██████████| 5/5 [00:02<00:00,  2.17it/s]\n"
          ],
          "name": "stderr"
        }
      ]
    },
    {
      "cell_type": "code",
      "metadata": {
        "id": "FAky42lMV102",
        "colab_type": "code",
        "outputId": "16c92b4d-005e-44c6-8dc0-8b700a22c87c",
        "colab": {
          "base_uri": "https://localhost:8080/",
          "height": 258
        }
      },
      "source": [
        "correlation_matrix = []\n",
        "\n",
        "for ix, x in enumerate(predictions):\n",
        "  row = []\n",
        "  \n",
        "  for iy, y in enumerate(predictions):\n",
        "    if (ix == iy):\n",
        "      row.append(np.nan)\n",
        "    else:\n",
        "      row.append(pearsonr(x,y)[0])\n",
        "\n",
        "  correlation_matrix.append(row)\n",
        "\n",
        "correlation_matrix = np.array(correlation_matrix)\n",
        "display(pd.DataFrame(correlation_matrix))\n",
        "print(\"Average correlation: \" + str(np.nanmean(correlation_matrix.flatten())))"
      ],
      "execution_count": 30,
      "outputs": [
        {
          "output_type": "stream",
          "text": [
            "/usr/local/lib/python3.6/dist-packages/scipy/stats/stats.py:3508: PearsonRConstantInputWarning: An input array is constant; the correlation coefficent is not defined.\n",
            "  warnings.warn(PearsonRConstantInputWarning())\n"
          ],
          "name": "stderr"
        },
        {
          "output_type": "display_data",
          "data": {
            "text/html": [
              "<div>\n",
              "<style scoped>\n",
              "    .dataframe tbody tr th:only-of-type {\n",
              "        vertical-align: middle;\n",
              "    }\n",
              "\n",
              "    .dataframe tbody tr th {\n",
              "        vertical-align: top;\n",
              "    }\n",
              "\n",
              "    .dataframe thead th {\n",
              "        text-align: right;\n",
              "    }\n",
              "</style>\n",
              "<table border=\"1\" class=\"dataframe\">\n",
              "  <thead>\n",
              "    <tr style=\"text-align: right;\">\n",
              "      <th></th>\n",
              "      <th>0</th>\n",
              "      <th>1</th>\n",
              "      <th>2</th>\n",
              "      <th>3</th>\n",
              "      <th>4</th>\n",
              "    </tr>\n",
              "  </thead>\n",
              "  <tbody>\n",
              "    <tr>\n",
              "      <th>0</th>\n",
              "      <td>NaN</td>\n",
              "      <td>0.516488</td>\n",
              "      <td>NaN</td>\n",
              "      <td>0.508021</td>\n",
              "      <td>0.621802</td>\n",
              "    </tr>\n",
              "    <tr>\n",
              "      <th>1</th>\n",
              "      <td>0.516488</td>\n",
              "      <td>NaN</td>\n",
              "      <td>NaN</td>\n",
              "      <td>0.581879</td>\n",
              "      <td>0.502173</td>\n",
              "    </tr>\n",
              "    <tr>\n",
              "      <th>2</th>\n",
              "      <td>NaN</td>\n",
              "      <td>NaN</td>\n",
              "      <td>NaN</td>\n",
              "      <td>NaN</td>\n",
              "      <td>NaN</td>\n",
              "    </tr>\n",
              "    <tr>\n",
              "      <th>3</th>\n",
              "      <td>0.508021</td>\n",
              "      <td>0.581879</td>\n",
              "      <td>NaN</td>\n",
              "      <td>NaN</td>\n",
              "      <td>0.418016</td>\n",
              "    </tr>\n",
              "    <tr>\n",
              "      <th>4</th>\n",
              "      <td>0.621802</td>\n",
              "      <td>0.502173</td>\n",
              "      <td>NaN</td>\n",
              "      <td>0.418016</td>\n",
              "      <td>NaN</td>\n",
              "    </tr>\n",
              "  </tbody>\n",
              "</table>\n",
              "</div>"
            ],
            "text/plain": [
              "          0         1   2         3         4\n",
              "0       NaN  0.516488 NaN  0.508021  0.621802\n",
              "1  0.516488       NaN NaN  0.581879  0.502173\n",
              "2       NaN       NaN NaN       NaN       NaN\n",
              "3  0.508021  0.581879 NaN       NaN  0.418016\n",
              "4  0.621802  0.502173 NaN  0.418016       NaN"
            ]
          },
          "metadata": {
            "tags": []
          }
        },
        {
          "output_type": "stream",
          "text": [
            "Average correlation: 0.5247298697694526\n"
          ],
          "name": "stdout"
        }
      ]
    }
  ]
}