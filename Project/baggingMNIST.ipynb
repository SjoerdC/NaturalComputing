{
  "nbformat": 4,
  "nbformat_minor": 0,
  "metadata": {
    "accelerator": "GPU",
    "colab": {
      "name": "baggingMNIST.ipynb",
      "provenance": [],
      "collapsed_sections": [],
      "toc_visible": true
    },
    "kernelspec": {
      "display_name": "Python 3",
      "language": "python",
      "name": "python3"
    },
    "language_info": {
      "codemirror_mode": {
        "name": "ipython",
        "version": 3
      },
      "file_extension": ".py",
      "mimetype": "text/x-python",
      "name": "python",
      "nbconvert_exporter": "python",
      "pygments_lexer": "ipython3",
      "version": "3.6.9"
    }
  },
  "cells": [
    {
      "cell_type": "code",
      "metadata": {
        "colab_type": "code",
        "id": "fde69AMuOpox",
        "colab": {}
      },
      "source": [
        "import keras\n",
        "import cv2\n",
        "import numpy as np\n",
        "import pandas as pd\n",
        "import tensorflow as tf\n",
        "from itertools import count\n",
        "from sklearn.metrics import accuracy_score\n",
        "from keras.datasets import mnist\n",
        "from keras.applications.vgg16 import VGG16\n",
        "from keras.layers import Dense, Dropout, Flatten, Activation\n",
        "from keras.models import Sequential\n",
        "from keras.callbacks import EarlyStopping\n",
        "from scipy.stats import pearsonr\n",
        "from tqdm import tqdm"
      ],
      "execution_count": 0,
      "outputs": []
    },
    {
      "cell_type": "code",
      "metadata": {
        "colab_type": "code",
        "id": "qYrab7qpOppj",
        "colab": {}
      },
      "source": [
        "batch_size = 64\n",
        "epochs = 35\n",
        "IMAGE_WIDTH = 32\n",
        "IMAGE_HEIGHT = 32\n",
        "NUM_CLASSES = 10\n",
        "TRAIN_SET_SIZE = 2500\n",
        "MODEL_ADDITION_DELTA = 0.01\n",
        "MODEL_NAME = \"MNIST_bagging\"\n",
        "PATH = \"\""
      ],
      "execution_count": 0,
      "outputs": []
    },
    {
      "cell_type": "markdown",
      "metadata": {
        "id": "R9M4_-IaBOsn",
        "colab_type": "text"
      },
      "source": [
        "# Set seeds"
      ]
    },
    {
      "cell_type": "code",
      "metadata": {
        "id": "7n9nJGd_BQ-r",
        "colab_type": "code",
        "colab": {}
      },
      "source": [
        "np.random.seed(1)\n",
        "tf.random.set_seed(1)"
      ],
      "execution_count": 0,
      "outputs": []
    },
    {
      "cell_type": "markdown",
      "metadata": {
        "id": "g8QvEt97vF52",
        "colab_type": "text"
      },
      "source": [
        "# Preprocess"
      ]
    },
    {
      "cell_type": "code",
      "metadata": {
        "id": "JtJIUBsFKeRO",
        "colab_type": "code",
        "colab": {}
      },
      "source": [
        "def preprocess(imgs):\n",
        "    \n",
        "    processed = []\n",
        "    \n",
        "    for img in tqdm(imgs):\n",
        "        processed.append(cv2.resize(img, (IMAGE_WIDTH, IMAGE_HEIGHT), interpolation = cv2.INTER_AREA))\n",
        "    \n",
        "    proccessed = np.array(processed)\n",
        "    return proccessed.reshape(proccessed.shape[0], IMAGE_WIDTH, IMAGE_HEIGHT, 1)"
      ],
      "execution_count": 0,
      "outputs": []
    },
    {
      "cell_type": "code",
      "metadata": {
        "colab_type": "code",
        "id": "XypdmBJROpp9",
        "outputId": "fb29f743-35e1-4673-b79d-da6d045efdb6",
        "colab": {
          "base_uri": "https://localhost:8080/",
          "height": 104
        }
      },
      "source": [
        "(x_train, y_train), (x_test, y_test) = mnist.load_data()\n",
        "\n",
        "# Decrease the training set size\n",
        "idx = np.random.choice(len(x_train), size=TRAIN_SET_SIZE, replace=False)\n",
        "x_train = x_train[idx]\n",
        "y_train = y_train[idx]\n",
        "\n",
        "x_train = preprocess(x_train)\n",
        "x_test = preprocess(x_test)\n",
        "\n",
        "print('x_train shape:', x_train.shape)\n",
        "print(x_train.shape[0], 'train samples')\n",
        "print(x_test.shape[0], 'test samples')"
      ],
      "execution_count": 30,
      "outputs": [
        {
          "output_type": "stream",
          "text": [
            "100%|██████████| 2500/2500 [00:00<00:00, 134684.92it/s]\n",
            "100%|██████████| 10000/10000 [00:00<00:00, 149617.03it/s]"
          ],
          "name": "stderr"
        },
        {
          "output_type": "stream",
          "text": [
            "x_train shape: (2500, 32, 32, 1)\n",
            "2500 train samples\n",
            "10000 test samples\n"
          ],
          "name": "stdout"
        },
        {
          "output_type": "stream",
          "text": [
            "\n"
          ],
          "name": "stderr"
        }
      ]
    },
    {
      "cell_type": "code",
      "metadata": {
        "colab_type": "code",
        "id": "mo8yHyg-Opqo",
        "colab": {}
      },
      "source": [
        "# Convert class vectors to binary class matrices.\n",
        "y_train = keras.utils.to_categorical(y_train, NUM_CLASSES)\n",
        "y_test = keras.utils.to_categorical(y_test, NUM_CLASSES)"
      ],
      "execution_count": 0,
      "outputs": []
    },
    {
      "cell_type": "code",
      "metadata": {
        "id": "a4SYRuKZaIwb",
        "colab_type": "code",
        "colab": {}
      },
      "source": [
        "x_train = x_train.astype('float32')\n",
        "x_test = x_test.astype('float32')\n",
        "x_train /= 255\n",
        "x_test /= 255"
      ],
      "execution_count": 0,
      "outputs": []
    },
    {
      "cell_type": "markdown",
      "metadata": {
        "id": "gIBGIrlkvOt0",
        "colab_type": "text"
      },
      "source": [
        "# Model"
      ]
    },
    {
      "cell_type": "code",
      "metadata": {
        "colab_type": "code",
        "id": "zLWph6_aOpr2",
        "colab": {}
      },
      "source": [
        "def create_model():\n",
        "    conv_base = VGG16(input_shape = (IMAGE_HEIGHT,IMAGE_WIDTH, 1),\n",
        "                            include_top = False, weights = None, classes=NUM_CLASSES)\n",
        "\n",
        "    conv_base.trainable = True\n",
        "\n",
        "    model = Sequential()\n",
        "\n",
        "    model.add(conv_base)\n",
        "    model.add(Dropout(0.2))\n",
        "    model.add(Flatten())\n",
        "    model.add(Dense(512))\n",
        "    model.add(Activation('relu'))\n",
        "    model.add(Dense(NUM_CLASSES))\n",
        "    model.add(Activation('softmax'))\n",
        "\n",
        "    optimizer = keras.optimizers.Adam(learning_rate=0.0001)\n",
        "\n",
        "    model.compile(loss='categorical_crossentropy',\n",
        "              optimizer=optimizer,\n",
        "              metrics=['categorical_accuracy']\n",
        "              )\n",
        "    \n",
        "    return model"
      ],
      "execution_count": 0,
      "outputs": []
    },
    {
      "cell_type": "markdown",
      "metadata": {
        "id": "EbiuqESLvTOY",
        "colab_type": "text"
      },
      "source": [
        "# Predict"
      ]
    },
    {
      "cell_type": "code",
      "metadata": {
        "id": "JXFkx19XmqKe",
        "colab_type": "code",
        "colab": {}
      },
      "source": [
        "def predict(models):\n",
        "    predictions = []\n",
        "\n",
        "    for m in tqdm(models):\n",
        "        predictions.append(np.argmax(m.predict(x_test), axis=1))\n",
        "\n",
        "    prediction = np.transpose(predictions)\n",
        "    prediction = np.apply_along_axis(lambda x: np.bincount(x).argmax(), axis=1, arr=prediction)\n",
        "\n",
        "    return accuracy_score(prediction, np.argmax(y_test, axis=1))"
      ],
      "execution_count": 0,
      "outputs": []
    },
    {
      "cell_type": "markdown",
      "metadata": {
        "id": "TVqdcrD_vQ-Q",
        "colab_type": "text"
      },
      "source": [
        "# Train"
      ]
    },
    {
      "cell_type": "code",
      "metadata": {
        "colab_type": "code",
        "id": "HjvZqLBJOpsw",
        "outputId": "53dfe3fe-00a7-4eac-a994-fbb2f3aed547",
        "colab": {
          "base_uri": "https://localhost:8080/",
          "height": 920
        }
      },
      "source": [
        "models = []\n",
        "accuracies = [0]\n",
        "\n",
        "for i in count(1):\n",
        "\n",
        "    print(f\"Train model {i}\")\n",
        "    idx = np.random.choice(len(x_train), size=len(x_train), replace=True)\n",
        "\n",
        "    x_train_model = x_train[idx]\n",
        "    y_train_model = y_train[idx]\n",
        "\n",
        "    model = create_model()\n",
        "    \n",
        "    es = EarlyStopping(monitor='val_categorical_accuracy', mode='max', min_delta=0.01, patience=3)\n",
        "    model.fit(x_train_model,y_train_model,\n",
        "              batch_size = batch_size,\n",
        "              epochs = epochs,\n",
        "              validation_data = (x_test,y_test),\n",
        "              shuffle = True,\n",
        "              callbacks=[es])\n",
        "    models.append(model)\n",
        "\n",
        "    acc = predict(models)\n",
        "    delta = abs(acc - accuracies[-1])\n",
        "\n",
        "    accuracies.append(acc)\n",
        "\n",
        "    print(f\"Model: {i} added. Resulting score: {acc}, Delta: {delta}\")\n",
        "\n",
        "    if delta <= MODEL_ADDITION_DELTA:\n",
        "      break;"
      ],
      "execution_count": 36,
      "outputs": [
        {
          "output_type": "stream",
          "text": [
            "Train model 1\n",
            "Train on 2500 samples, validate on 10000 samples\n",
            "Epoch 1/35\n",
            "2500/2500 [==============================] - 4s 2ms/step - loss: 2.1595 - categorical_accuracy: 0.1868 - val_loss: 1.3445 - val_categorical_accuracy: 0.5841\n",
            "Epoch 2/35\n",
            "2500/2500 [==============================] - 4s 1ms/step - loss: 1.0434 - categorical_accuracy: 0.6312 - val_loss: 0.8517 - val_categorical_accuracy: 0.6982\n",
            "Epoch 3/35\n",
            "2500/2500 [==============================] - 4s 1ms/step - loss: 0.6617 - categorical_accuracy: 0.7756 - val_loss: 0.5502 - val_categorical_accuracy: 0.8226\n",
            "Epoch 4/35\n",
            "2500/2500 [==============================] - 4s 1ms/step - loss: 0.4725 - categorical_accuracy: 0.8268 - val_loss: 0.9420 - val_categorical_accuracy: 0.7249\n",
            "Epoch 5/35\n",
            "2500/2500 [==============================] - 4s 1ms/step - loss: 0.3486 - categorical_accuracy: 0.8828 - val_loss: 0.2958 - val_categorical_accuracy: 0.9018\n",
            "Epoch 6/35\n",
            "2500/2500 [==============================] - 4s 1ms/step - loss: 0.1835 - categorical_accuracy: 0.9408 - val_loss: 0.3101 - val_categorical_accuracy: 0.9016\n",
            "Epoch 7/35\n",
            "2500/2500 [==============================] - 4s 1ms/step - loss: 0.1980 - categorical_accuracy: 0.9432 - val_loss: 0.2066 - val_categorical_accuracy: 0.9390\n",
            "Epoch 8/35\n",
            "2500/2500 [==============================] - 4s 1ms/step - loss: 0.1342 - categorical_accuracy: 0.9556 - val_loss: 0.2246 - val_categorical_accuracy: 0.9299\n",
            "Epoch 9/35\n",
            "2500/2500 [==============================] - 4s 1ms/step - loss: 0.0782 - categorical_accuracy: 0.9788 - val_loss: 0.2345 - val_categorical_accuracy: 0.9447\n",
            "Epoch 10/35\n",
            "2500/2500 [==============================] - 4s 1ms/step - loss: 0.0745 - categorical_accuracy: 0.9748 - val_loss: 0.2049 - val_categorical_accuracy: 0.9415\n"
          ],
          "name": "stdout"
        },
        {
          "output_type": "stream",
          "text": [
            "100%|██████████| 1/1 [00:02<00:00,  2.54s/it]\n"
          ],
          "name": "stderr"
        },
        {
          "output_type": "stream",
          "text": [
            "Model: 1 added. Resulting score: 0.9415, Delta: 0.9415\n",
            "Train model 2\n",
            "Train on 2500 samples, validate on 10000 samples\n",
            "Epoch 1/35\n",
            "2500/2500 [==============================] - 4s 2ms/step - loss: 2.2369 - categorical_accuracy: 0.1524 - val_loss: 1.8873 - val_categorical_accuracy: 0.3821\n",
            "Epoch 2/35\n",
            "2500/2500 [==============================] - 4s 1ms/step - loss: 1.2431 - categorical_accuracy: 0.5572 - val_loss: 0.8566 - val_categorical_accuracy: 0.7004\n",
            "Epoch 3/35\n",
            "2500/2500 [==============================] - 3s 1ms/step - loss: 0.6545 - categorical_accuracy: 0.7656 - val_loss: 0.7223 - val_categorical_accuracy: 0.7569\n",
            "Epoch 4/35\n",
            "2500/2500 [==============================] - 4s 1ms/step - loss: 0.4713 - categorical_accuracy: 0.8212 - val_loss: 0.5743 - val_categorical_accuracy: 0.8052\n",
            "Epoch 5/35\n",
            "2500/2500 [==============================] - 3s 1ms/step - loss: 0.3174 - categorical_accuracy: 0.8892 - val_loss: 0.3001 - val_categorical_accuracy: 0.9099\n",
            "Epoch 6/35\n",
            "2500/2500 [==============================] - 3s 1ms/step - loss: 0.2173 - categorical_accuracy: 0.9280 - val_loss: 0.2702 - val_categorical_accuracy: 0.9121\n",
            "Epoch 7/35\n",
            "2500/2500 [==============================] - 3s 1ms/step - loss: 0.1328 - categorical_accuracy: 0.9584 - val_loss: 0.2306 - val_categorical_accuracy: 0.9351\n",
            "Epoch 8/35\n",
            "2500/2500 [==============================] - 3s 1ms/step - loss: 0.0881 - categorical_accuracy: 0.9752 - val_loss: 0.2281 - val_categorical_accuracy: 0.9310\n",
            "Epoch 9/35\n",
            "2500/2500 [==============================] - 3s 1ms/step - loss: 0.0947 - categorical_accuracy: 0.9720 - val_loss: 0.2283 - val_categorical_accuracy: 0.9454\n",
            "Epoch 10/35\n",
            "2500/2500 [==============================] - 3s 1ms/step - loss: 0.0577 - categorical_accuracy: 0.9848 - val_loss: 0.2321 - val_categorical_accuracy: 0.9356\n",
            "Epoch 11/35\n",
            "2500/2500 [==============================] - 3s 1ms/step - loss: 0.0438 - categorical_accuracy: 0.9884 - val_loss: 0.3278 - val_categorical_accuracy: 0.9206\n",
            "Epoch 12/35\n",
            "2500/2500 [==============================] - 3s 1ms/step - loss: 0.2249 - categorical_accuracy: 0.9316 - val_loss: 0.2082 - val_categorical_accuracy: 0.9423\n"
          ],
          "name": "stdout"
        },
        {
          "output_type": "stream",
          "text": [
            "100%|██████████| 2/2 [00:04<00:00,  2.45s/it]"
          ],
          "name": "stderr"
        },
        {
          "output_type": "stream",
          "text": [
            "Model: 2 added. Resulting score: 0.9421, Delta: 0.0006000000000000449\n"
          ],
          "name": "stdout"
        },
        {
          "output_type": "stream",
          "text": [
            "\n"
          ],
          "name": "stderr"
        }
      ]
    },
    {
      "cell_type": "markdown",
      "metadata": {
        "id": "fGT6jV-hcLbJ",
        "colab_type": "text"
      },
      "source": [
        "# Results"
      ]
    },
    {
      "cell_type": "markdown",
      "metadata": {
        "id": "CurcmjMCcrJI",
        "colab_type": "text"
      },
      "source": [
        "# Accuracy"
      ]
    },
    {
      "cell_type": "code",
      "metadata": {
        "id": "yvZLQyb5cg7R",
        "colab_type": "code",
        "colab": {
          "base_uri": "https://localhost:8080/",
          "height": 143
        },
        "outputId": "38f040bc-2346-4c51-e331-4498ffe61fc1"
      },
      "source": [
        "accuracy_df = pd.DataFrame(accuracies, columns=[\"Accuracy\"])\n",
        "accuracy_df.insert(1, \"Round\", accuracy_df.index + 1)\n",
        "\n",
        "display(accuracy_df)\n",
        "\n",
        "accuracy_df.to_csv(PATH + MODEL_NAME + \"_accuracy.csv\")"
      ],
      "execution_count": 37,
      "outputs": [
        {
          "output_type": "display_data",
          "data": {
            "text/html": [
              "<div>\n",
              "<style scoped>\n",
              "    .dataframe tbody tr th:only-of-type {\n",
              "        vertical-align: middle;\n",
              "    }\n",
              "\n",
              "    .dataframe tbody tr th {\n",
              "        vertical-align: top;\n",
              "    }\n",
              "\n",
              "    .dataframe thead th {\n",
              "        text-align: right;\n",
              "    }\n",
              "</style>\n",
              "<table border=\"1\" class=\"dataframe\">\n",
              "  <thead>\n",
              "    <tr style=\"text-align: right;\">\n",
              "      <th></th>\n",
              "      <th>Accuracy</th>\n",
              "      <th>Round</th>\n",
              "    </tr>\n",
              "  </thead>\n",
              "  <tbody>\n",
              "    <tr>\n",
              "      <th>0</th>\n",
              "      <td>0.0000</td>\n",
              "      <td>1</td>\n",
              "    </tr>\n",
              "    <tr>\n",
              "      <th>1</th>\n",
              "      <td>0.9415</td>\n",
              "      <td>2</td>\n",
              "    </tr>\n",
              "    <tr>\n",
              "      <th>2</th>\n",
              "      <td>0.9421</td>\n",
              "      <td>3</td>\n",
              "    </tr>\n",
              "  </tbody>\n",
              "</table>\n",
              "</div>"
            ],
            "text/plain": [
              "   Accuracy  Round\n",
              "0    0.0000      1\n",
              "1    0.9415      2\n",
              "2    0.9421      3"
            ]
          },
          "metadata": {
            "tags": []
          }
        }
      ]
    },
    {
      "cell_type": "code",
      "metadata": {
        "id": "sXq8Uj3lenzH",
        "colab_type": "code",
        "colab": {
          "base_uri": "https://localhost:8080/",
          "height": 279
        },
        "outputId": "e031f99d-0aa2-47cc-f6c1-219d20fd0819"
      },
      "source": [
        "import matplotlib.pyplot as plt\n",
        "\n",
        "accuracy_df.plot(x=\"Round\", y=\"Accuracy\", xticks=accuracy_df[\"Round\"])\n",
        "plt.show()"
      ],
      "execution_count": 38,
      "outputs": [
        {
          "output_type": "display_data",
          "data": {
            "image/png": "[encoded data removed]",
            "text/plain": [
              "<Figure size 432x288 with 1 Axes>"
            ]
          },
          "metadata": {
            "tags": [],
            "needs_background": "light"
          }
        }
      ]
    },
    {
      "cell_type": "markdown",
      "metadata": {
        "id": "NMfc-h8xAYQu",
        "colab_type": "text"
      },
      "source": [
        "## Correlation between models"
      ]
    },
    {
      "cell_type": "code",
      "metadata": {
        "id": "0N9wSXF1iSp3",
        "colab_type": "code",
        "colab": {
          "base_uri": "https://localhost:8080/",
          "height": 34
        },
        "outputId": "596e2661-81a9-43b8-9ade-e39dc3c67035"
      },
      "source": [
        "predictions = []\n",
        "\n",
        "for m in tqdm(models):\n",
        "    predictions.append(np.argmax(m.predict(x_test), axis=1))"
      ],
      "execution_count": 41,
      "outputs": [
        {
          "output_type": "stream",
          "text": [
            "100%|██████████| 2/2 [00:04<00:00,  2.43s/it]\n"
          ],
          "name": "stderr"
        }
      ]
    },
    {
      "cell_type": "code",
      "metadata": {
        "id": "FAky42lMV102",
        "colab_type": "code",
        "colab": {
          "base_uri": "https://localhost:8080/",
          "height": 129
        },
        "outputId": "74f1e53c-a248-4e9b-e7ff-e16ff365a2da"
      },
      "source": [
        "correlation_matrix = []\n",
        "\n",
        "for ix, x in enumerate(predictions):\n",
        "  row = []\n",
        "  \n",
        "  for iy, y in enumerate(predictions):\n",
        "    if (ix == iy):\n",
        "      row.append(np.nan)\n",
        "    else:\n",
        "      row.append(pearsonr(x,y)[0])\n",
        "\n",
        "  correlation_matrix.append(row)\n",
        "\n",
        "correlation_matrix = np.array(correlation_matrix)\n",
        "display(pd.DataFrame(correlation_matrix))\n",
        "print(\"Average correlation: \" + str(np.nanmean(correlation_matrix.flatten())))"
      ],
      "execution_count": 42,
      "outputs": [
        {
          "output_type": "display_data",
          "data": {
            "text/html": [
              "<div>\n",
              "<style scoped>\n",
              "    .dataframe tbody tr th:only-of-type {\n",
              "        vertical-align: middle;\n",
              "    }\n",
              "\n",
              "    .dataframe tbody tr th {\n",
              "        vertical-align: top;\n",
              "    }\n",
              "\n",
              "    .dataframe thead th {\n",
              "        text-align: right;\n",
              "    }\n",
              "</style>\n",
              "<table border=\"1\" class=\"dataframe\">\n",
              "  <thead>\n",
              "    <tr style=\"text-align: right;\">\n",
              "      <th></th>\n",
              "      <th>0</th>\n",
              "      <th>1</th>\n",
              "    </tr>\n",
              "  </thead>\n",
              "  <tbody>\n",
              "    <tr>\n",
              "      <th>0</th>\n",
              "      <td>NaN</td>\n",
              "      <td>0.935303</td>\n",
              "    </tr>\n",
              "    <tr>\n",
              "      <th>1</th>\n",
              "      <td>0.935303</td>\n",
              "      <td>NaN</td>\n",
              "    </tr>\n",
              "  </tbody>\n",
              "</table>\n",
              "</div>"
            ],
            "text/plain": [
              "          0         1\n",
              "0       NaN  0.935303\n",
              "1  0.935303       NaN"
            ]
          },
          "metadata": {
            "tags": []
          }
        },
        {
          "output_type": "stream",
          "text": [
            "Average correlation: 0.9353025570233877\n"
          ],
          "name": "stdout"
        }
      ]
    }
  ]
}