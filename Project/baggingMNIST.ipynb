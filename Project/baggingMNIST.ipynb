{
  "nbformat": 4,
  "nbformat_minor": 0,
  "metadata": {
    "accelerator": "GPU",
    "colab": {
      "name": "baggingMNIST.ipynb",
      "provenance": [],
      "collapsed_sections": [],
      "toc_visible": true
    },
    "kernelspec": {
      "display_name": "Python 3",
      "language": "python",
      "name": "python3"
    },
    "language_info": {
      "codemirror_mode": {
        "name": "ipython",
        "version": 3
      },
      "file_extension": ".py",
      "mimetype": "text/x-python",
      "name": "python",
      "nbconvert_exporter": "python",
      "pygments_lexer": "ipython3",
      "version": "3.6.9"
    }
  },
  "cells": [
    {
      "cell_type": "code",
      "metadata": {
        "colab_type": "code",
        "id": "fde69AMuOpox",
        "colab": {}
      },
      "source": [
        "import keras\n",
        "import cv2\n",
        "import numpy as np\n",
        "import pandas as pd\n",
        "import tensorflow as tf\n",
        "from itertools import count\n",
        "from sklearn.metrics import accuracy_score\n",
        "from keras.datasets import mnist\n",
        "from keras.applications.vgg16 import VGG16\n",
        "from keras.layers import Dense, Dropout, Flatten, Activation, Input, Conv2D, MaxPooling2D, BatchNormalization, GlobalAveragePooling2D\n",
        "from keras.models import Model\n",
        "from keras.callbacks import EarlyStopping\n",
        "from scipy.stats import pearsonr\n",
        "from tqdm import tqdm"
      ],
      "execution_count": 0,
      "outputs": []
    },
    {
      "cell_type": "code",
      "metadata": {
        "colab_type": "code",
        "id": "qYrab7qpOppj",
        "colab": {}
      },
      "source": [
        "BATCH_SIZE = 128\n",
        "EPOCHS = 9999\n",
        "IMAGE_SIZE = 28\n",
        "NUM_CLASSES = 10\n",
        "MODEL_ADDITION_DELTA = 0.01\n",
        "MODEL_ADDITION_PATIENCE = 3\n",
        "MODEL_NAME = \"MNIST_bagging\"\n",
        "PATH = \"\""
      ],
      "execution_count": 0,
      "outputs": []
    },
    {
      "cell_type": "markdown",
      "metadata": {
        "id": "R9M4_-IaBOsn",
        "colab_type": "text"
      },
      "source": [
        "# Set seeds"
      ]
    },
    {
      "cell_type": "code",
      "metadata": {
        "id": "7n9nJGd_BQ-r",
        "colab_type": "code",
        "colab": {}
      },
      "source": [
        "np.random.seed(1)\n",
        "tf.random.set_seed(1)"
      ],
      "execution_count": 0,
      "outputs": []
    },
    {
      "cell_type": "markdown",
      "metadata": {
        "id": "g8QvEt97vF52",
        "colab_type": "text"
      },
      "source": [
        "# Preprocess"
      ]
    },
    {
      "cell_type": "code",
      "metadata": {
        "id": "JtJIUBsFKeRO",
        "colab_type": "code",
        "colab": {}
      },
      "source": [
        "def preprocess(imgs):\n",
        "    \n",
        "    return imgs.reshape(imgs.shape[0], IMAGE_SIZE, IMAGE_SIZE, 1)"
      ],
      "execution_count": 0,
      "outputs": []
    },
    {
      "cell_type": "code",
      "metadata": {
        "colab_type": "code",
        "id": "XypdmBJROpp9",
        "outputId": "c3735cb8-dc1f-4a76-846f-ac352ea1b4d7",
        "colab": {
          "base_uri": "https://localhost:8080/",
          "height": 69
        }
      },
      "source": [
        "(x_train, y_train), (x_test, y_test) = mnist.load_data()\n",
        "\n",
        "x_train = preprocess(x_train)\n",
        "x_test = preprocess(x_test)\n",
        "\n",
        "print('x_train shape:', x_train.shape)\n",
        "print(x_train.shape[0], 'train samples')\n",
        "print(x_test.shape[0], 'test samples')"
      ],
      "execution_count": 42,
      "outputs": [
        {
          "output_type": "stream",
          "text": [
            "x_train shape: (60000, 28, 28, 1)\n",
            "60000 train samples\n",
            "10000 test samples\n"
          ],
          "name": "stdout"
        }
      ]
    },
    {
      "cell_type": "code",
      "metadata": {
        "colab_type": "code",
        "id": "mo8yHyg-Opqo",
        "colab": {}
      },
      "source": [
        "# Convert class vectors to binary class matrices.\n",
        "y_train = keras.utils.to_categorical(y_train, NUM_CLASSES)\n",
        "y_test = keras.utils.to_categorical(y_test, NUM_CLASSES)"
      ],
      "execution_count": 0,
      "outputs": []
    },
    {
      "cell_type": "code",
      "metadata": {
        "id": "a4SYRuKZaIwb",
        "colab_type": "code",
        "colab": {}
      },
      "source": [
        "x_train = x_train.astype('float32')\n",
        "x_test = x_test.astype('float32')\n",
        "x_train /= 255\n",
        "x_test /= 255"
      ],
      "execution_count": 0,
      "outputs": []
    },
    {
      "cell_type": "markdown",
      "metadata": {
        "id": "gIBGIrlkvOt0",
        "colab_type": "text"
      },
      "source": [
        "# Model"
      ]
    },
    {
      "cell_type": "code",
      "metadata": {
        "colab_type": "code",
        "id": "zLWph6_aOpr2",
        "colab": {}
      },
      "source": [
        "def MNISTmodel(imsize, num_classes, num_channels):\n",
        "    inputs = Input((imsize,imsize,num_channels))\n",
        "    x = Conv2D(filters=16, kernel_size=(3,3), activation='relu',strides = 2)(inputs)\n",
        "    x = BatchNormalization()(x)\n",
        "    x = MaxPooling2D(pool_size=(2,2), strides=(2,2), padding='same')(x)\n",
        "    x = Conv2D(filters=16, kernel_size=(1,1), activation='relu', padding='valid')(x)\n",
        "    x = Conv2D(filters=10, kernel_size=(1,1),strides=(1,1), padding='valid')(x)\n",
        "    x = GlobalAveragePooling2D()(x)\n",
        "    outputs = Activation('softmax')(x)\n",
        "    \n",
        "    model = Model(inputs=inputs, outputs=outputs)\n",
        "\n",
        "    optimizer = keras.optimizers.Adam(learning_rate = 1e-04)\n",
        "\n",
        "    model.compile(loss='categorical_crossentropy',\n",
        "                      optimizer=optimizer,\n",
        "                      metrics=['accuracy'])\n",
        "    return model"
      ],
      "execution_count": 0,
      "outputs": []
    },
    {
      "cell_type": "markdown",
      "metadata": {
        "id": "EbiuqESLvTOY",
        "colab_type": "text"
      },
      "source": [
        "# Predict"
      ]
    },
    {
      "cell_type": "code",
      "metadata": {
        "id": "JXFkx19XmqKe",
        "colab_type": "code",
        "colab": {}
      },
      "source": [
        "def predict(models):\n",
        "    predictions = []\n",
        "\n",
        "    for m in tqdm(models):\n",
        "        predictions.append(np.argmax(m.predict(x_test), axis=1))\n",
        "\n",
        "    prediction = np.transpose(predictions)\n",
        "    prediction = np.apply_along_axis(lambda x: np.bincount(x).argmax(), axis=1, arr=prediction)\n",
        "\n",
        "    return accuracy_score(prediction, np.argmax(y_test, axis=1))"
      ],
      "execution_count": 0,
      "outputs": []
    },
    {
      "cell_type": "markdown",
      "metadata": {
        "id": "TVqdcrD_vQ-Q",
        "colab_type": "text"
      },
      "source": [
        "# Train"
      ]
    },
    {
      "cell_type": "code",
      "metadata": {
        "colab_type": "code",
        "id": "HjvZqLBJOpsw",
        "outputId": "fcfc08b7-4ee7-4e21-f20e-fbccabacda70",
        "colab": {
          "base_uri": "https://localhost:8080/",
          "height": 1000
        }
      },
      "source": [
        "models = []\n",
        "accuracies = [0]\n",
        "patience = 0\n",
        "\n",
        "for i in count(1):\n",
        "\n",
        "    print(f\"Train model {i}\")\n",
        "    idx = np.random.choice(len(x_train), size=len(x_train), replace=True)\n",
        "\n",
        "    x_train_model = x_train[idx]\n",
        "    y_train_model = y_train[idx]\n",
        "\n",
        "    model = MNISTmodel(IMAGE_SIZE, NUM_CLASSES, 1)\n",
        "    \n",
        "    es = EarlyStopping(min_delta=0.01, patience=3)\n",
        "    model.fit(x_train_model,y_train_model,\n",
        "              batch_size = BATCH_SIZE,\n",
        "              epochs = EPOCHS,\n",
        "              validation_data = (x_test,y_test),\n",
        "              shuffle = True,\n",
        "              callbacks=[es])\n",
        "    \n",
        "    model.save_weights(PATH + MODEL_NAME + f\"_weights-{i}.h5\" )\n",
        "    models.append(model)\n",
        "\n",
        "    acc = predict(models)\n",
        "    delta = acc - accuracies[-1]\n",
        "\n",
        "    accuracies.append(acc)\n",
        "\n",
        "    if delta >= MODEL_ADDITION_DELTA:\n",
        "      patience = 0\n",
        "    else:\n",
        "      patience += 1\n",
        "\n",
        "    print(f\"Model: {i} added. Resulting score: {acc}, Delta: {delta}, Patience: {patience}\")\n",
        "\n",
        "    if patience >= MODEL_ADDITION_PATIENCE:\n",
        "      break"
      ],
      "execution_count": 47,
      "outputs": [
        {
          "output_type": "stream",
          "text": [
            "Train model 1\n",
            "Train on 60000 samples, validate on 10000 samples\n",
            "Epoch 1/10\n",
            "60000/60000 [==============================] - 4s 70us/step - loss: 2.2984 - accuracy: 0.1988 - val_loss: 2.2730 - val_accuracy: 0.2192\n",
            "Epoch 2/10\n",
            "60000/60000 [==============================] - 4s 64us/step - loss: 2.2028 - accuracy: 0.2393 - val_loss: 2.1532 - val_accuracy: 0.2503\n",
            "Epoch 3/10\n",
            "60000/60000 [==============================] - 4s 64us/step - loss: 2.1045 - accuracy: 0.2626 - val_loss: 2.0364 - val_accuracy: 0.2938\n",
            "Epoch 4/10\n",
            "60000/60000 [==============================] - 4s 64us/step - loss: 1.9910 - accuracy: 0.3078 - val_loss: 1.9229 - val_accuracy: 0.3395\n",
            "Epoch 5/10\n",
            "60000/60000 [==============================] - 4s 64us/step - loss: 1.8887 - accuracy: 0.3386 - val_loss: 1.8310 - val_accuracy: 0.3642\n",
            "Epoch 6/10\n",
            "60000/60000 [==============================] - 4s 64us/step - loss: 1.8059 - accuracy: 0.3698 - val_loss: 1.7585 - val_accuracy: 0.3843\n",
            "Epoch 7/10\n",
            "60000/60000 [==============================] - 4s 64us/step - loss: 1.7390 - accuracy: 0.3956 - val_loss: 1.6971 - val_accuracy: 0.4010\n",
            "Epoch 8/10\n",
            "60000/60000 [==============================] - 4s 64us/step - loss: 1.6844 - accuracy: 0.4119 - val_loss: 1.6452 - val_accuracy: 0.4201\n",
            "Epoch 9/10\n",
            "60000/60000 [==============================] - 4s 64us/step - loss: 1.6395 - accuracy: 0.4253 - val_loss: 1.6053 - val_accuracy: 0.4389\n",
            "Epoch 10/10\n",
            "60000/60000 [==============================] - 4s 64us/step - loss: 1.6011 - accuracy: 0.4391 - val_loss: 1.5658 - val_accuracy: 0.4528\n"
          ],
          "name": "stdout"
        },
        {
          "output_type": "stream",
          "text": [
            "100%|██████████| 1/1 [00:00<00:00,  1.83it/s]\n"
          ],
          "name": "stderr"
        },
        {
          "output_type": "stream",
          "text": [
            "Model: 1 added. Resulting score: 0.4528, Delta: 0.4528, Patience: 0\n",
            "Train model 2\n",
            "Train on 60000 samples, validate on 10000 samples\n",
            "Epoch 1/10\n",
            "60000/60000 [==============================] - 4s 70us/step - loss: 2.2920 - accuracy: 0.1807 - val_loss: 2.2686 - val_accuracy: 0.2134\n",
            "Epoch 2/10\n",
            "60000/60000 [==============================] - 4s 65us/step - loss: 2.2002 - accuracy: 0.2427 - val_loss: 2.1469 - val_accuracy: 0.3173\n",
            "Epoch 3/10\n",
            "60000/60000 [==============================] - 4s 65us/step - loss: 2.0936 - accuracy: 0.3160 - val_loss: 2.0275 - val_accuracy: 0.3410\n",
            "Epoch 4/10\n",
            "60000/60000 [==============================] - 4s 65us/step - loss: 1.9844 - accuracy: 0.3476 - val_loss: 1.9221 - val_accuracy: 0.3723\n",
            "Epoch 5/10\n",
            "60000/60000 [==============================] - 4s 65us/step - loss: 1.8869 - accuracy: 0.3798 - val_loss: 1.8301 - val_accuracy: 0.3977\n",
            "Epoch 6/10\n",
            "60000/60000 [==============================] - 4s 65us/step - loss: 1.8031 - accuracy: 0.4053 - val_loss: 1.7506 - val_accuracy: 0.4192\n",
            "Epoch 7/10\n",
            "60000/60000 [==============================] - 4s 65us/step - loss: 1.7322 - accuracy: 0.4270 - val_loss: 1.6847 - val_accuracy: 0.4449\n",
            "Epoch 8/10\n",
            "60000/60000 [==============================] - 4s 65us/step - loss: 1.6736 - accuracy: 0.4457 - val_loss: 1.6297 - val_accuracy: 0.4665\n",
            "Epoch 9/10\n",
            "60000/60000 [==============================] - 4s 65us/step - loss: 1.6237 - accuracy: 0.4632 - val_loss: 1.5820 - val_accuracy: 0.4833\n",
            "Epoch 10/10\n",
            "60000/60000 [==============================] - 4s 64us/step - loss: 1.5802 - accuracy: 0.4773 - val_loss: 1.5399 - val_accuracy: 0.4951\n"
          ],
          "name": "stdout"
        },
        {
          "output_type": "stream",
          "text": [
            "100%|██████████| 2/2 [00:01<00:00,  1.86it/s]\n"
          ],
          "name": "stderr"
        },
        {
          "output_type": "stream",
          "text": [
            "Model: 2 added. Resulting score: 0.4528, Delta: 0.0, Patience: 1\n",
            "Train model 3\n",
            "Train on 60000 samples, validate on 10000 samples\n",
            "Epoch 1/10\n",
            "60000/60000 [==============================] - 4s 70us/step - loss: 2.2980 - accuracy: 0.1024 - val_loss: 2.2787 - val_accuracy: 0.2223\n",
            "Epoch 2/10\n",
            "60000/60000 [==============================] - 4s 64us/step - loss: 2.2221 - accuracy: 0.2366 - val_loss: 2.1836 - val_accuracy: 0.2934\n",
            "Epoch 3/10\n",
            "60000/60000 [==============================] - 4s 64us/step - loss: 2.1406 - accuracy: 0.3100 - val_loss: 2.0880 - val_accuracy: 0.3394\n",
            "Epoch 4/10\n",
            "60000/60000 [==============================] - 4s 64us/step - loss: 2.0422 - accuracy: 0.3423 - val_loss: 1.9870 - val_accuracy: 0.3480\n",
            "Epoch 5/10\n",
            "60000/60000 [==============================] - 4s 64us/step - loss: 1.9421 - accuracy: 0.3608 - val_loss: 1.8886 - val_accuracy: 0.3675\n",
            "Epoch 6/10\n",
            "60000/60000 [==============================] - 4s 64us/step - loss: 1.8485 - accuracy: 0.3834 - val_loss: 1.7976 - val_accuracy: 0.3906\n",
            "Epoch 7/10\n",
            "60000/60000 [==============================] - 4s 64us/step - loss: 1.7673 - accuracy: 0.4035 - val_loss: 1.7221 - val_accuracy: 0.4194\n",
            "Epoch 8/10\n",
            "60000/60000 [==============================] - 4s 64us/step - loss: 1.6992 - accuracy: 0.4240 - val_loss: 1.6560 - val_accuracy: 0.4375\n",
            "Epoch 9/10\n",
            "60000/60000 [==============================] - 4s 64us/step - loss: 1.6429 - accuracy: 0.4403 - val_loss: 1.6030 - val_accuracy: 0.4526\n",
            "Epoch 10/10\n",
            "60000/60000 [==============================] - 4s 64us/step - loss: 1.5955 - accuracy: 0.4534 - val_loss: 1.5563 - val_accuracy: 0.4674\n"
          ],
          "name": "stdout"
        },
        {
          "output_type": "stream",
          "text": [
            "100%|██████████| 3/3 [00:01<00:00,  1.95it/s]\n"
          ],
          "name": "stderr"
        },
        {
          "output_type": "stream",
          "text": [
            "Model: 3 added. Resulting score: 0.4835, Delta: 0.030700000000000005, Patience: 2\n",
            "Train model 4\n",
            "Train on 60000 samples, validate on 10000 samples\n",
            "Epoch 1/10\n",
            "60000/60000 [==============================] - 4s 69us/step - loss: 2.3066 - accuracy: 0.0996 - val_loss: 2.2815 - val_accuracy: 0.1598\n",
            "Epoch 2/10\n",
            "60000/60000 [==============================] - 4s 64us/step - loss: 2.2436 - accuracy: 0.1787 - val_loss: 2.2130 - val_accuracy: 0.2176\n",
            "Epoch 3/10\n",
            "60000/60000 [==============================] - 4s 64us/step - loss: 2.1678 - accuracy: 0.2524 - val_loss: 2.1096 - val_accuracy: 0.2893\n",
            "Epoch 4/10\n",
            "60000/60000 [==============================] - 4s 64us/step - loss: 2.0571 - accuracy: 0.3345 - val_loss: 1.9944 - val_accuracy: 0.3672\n",
            "Epoch 5/10\n",
            "60000/60000 [==============================] - 4s 64us/step - loss: 1.9516 - accuracy: 0.3737 - val_loss: 1.8943 - val_accuracy: 0.3842\n",
            "Epoch 6/10\n",
            "60000/60000 [==============================] - 4s 64us/step - loss: 1.8591 - accuracy: 0.3964 - val_loss: 1.8052 - val_accuracy: 0.4102\n",
            "Epoch 7/10\n",
            "60000/60000 [==============================] - 4s 64us/step - loss: 1.7747 - accuracy: 0.4201 - val_loss: 1.7258 - val_accuracy: 0.4257\n",
            "Epoch 8/10\n",
            "60000/60000 [==============================] - 4s 64us/step - loss: 1.7042 - accuracy: 0.4379 - val_loss: 1.6616 - val_accuracy: 0.4501\n",
            "Epoch 9/10\n",
            "60000/60000 [==============================] - 4s 63us/step - loss: 1.6459 - accuracy: 0.4559 - val_loss: 1.6068 - val_accuracy: 0.4641\n",
            "Epoch 10/10\n",
            "60000/60000 [==============================] - 4s 64us/step - loss: 1.5962 - accuracy: 0.4705 - val_loss: 1.5590 - val_accuracy: 0.4749\n"
          ],
          "name": "stdout"
        },
        {
          "output_type": "stream",
          "text": [
            "100%|██████████| 4/4 [00:02<00:00,  1.96it/s]"
          ],
          "name": "stderr"
        },
        {
          "output_type": "stream",
          "text": [
            "Model: 4 added. Resulting score: 0.4827, Delta: -0.0007999999999999674, Patience: 3\n"
          ],
          "name": "stdout"
        },
        {
          "output_type": "stream",
          "text": [
            "\n"
          ],
          "name": "stderr"
        }
      ]
    },
    {
      "cell_type": "markdown",
      "metadata": {
        "id": "fGT6jV-hcLbJ",
        "colab_type": "text"
      },
      "source": [
        "# Results"
      ]
    },
    {
      "cell_type": "markdown",
      "metadata": {
        "id": "CurcmjMCcrJI",
        "colab_type": "text"
      },
      "source": [
        "# Accuracy"
      ]
    },
    {
      "cell_type": "code",
      "metadata": {
        "id": "yvZLQyb5cg7R",
        "colab_type": "code",
        "outputId": "71d876f6-0961-4549-84e5-a255394c8d12",
        "colab": {
          "base_uri": "https://localhost:8080/",
          "height": 206
        }
      },
      "source": [
        "accuracy_df = pd.DataFrame(accuracies, columns=[\"Accuracy\"])\n",
        "accuracy_df.insert(1, \"Nr of models\", accuracy_df.index + 1)\n",
        "\n",
        "display(accuracy_df)\n",
        "\n",
        "accuracy_df.to_csv(PATH + MODEL_NAME + \"_accuracy.csv\")"
      ],
      "execution_count": 52,
      "outputs": [
        {
          "output_type": "display_data",
          "data": {
            "text/html": [
              "<div>\n",
              "<style scoped>\n",
              "    .dataframe tbody tr th:only-of-type {\n",
              "        vertical-align: middle;\n",
              "    }\n",
              "\n",
              "    .dataframe tbody tr th {\n",
              "        vertical-align: top;\n",
              "    }\n",
              "\n",
              "    .dataframe thead th {\n",
              "        text-align: right;\n",
              "    }\n",
              "</style>\n",
              "<table border=\"1\" class=\"dataframe\">\n",
              "  <thead>\n",
              "    <tr style=\"text-align: right;\">\n",
              "      <th></th>\n",
              "      <th>Accuracy</th>\n",
              "      <th>Nr of models</th>\n",
              "    </tr>\n",
              "  </thead>\n",
              "  <tbody>\n",
              "    <tr>\n",
              "      <th>0</th>\n",
              "      <td>0.0000</td>\n",
              "      <td>1</td>\n",
              "    </tr>\n",
              "    <tr>\n",
              "      <th>1</th>\n",
              "      <td>0.4528</td>\n",
              "      <td>2</td>\n",
              "    </tr>\n",
              "    <tr>\n",
              "      <th>2</th>\n",
              "      <td>0.4528</td>\n",
              "      <td>3</td>\n",
              "    </tr>\n",
              "    <tr>\n",
              "      <th>3</th>\n",
              "      <td>0.4835</td>\n",
              "      <td>4</td>\n",
              "    </tr>\n",
              "    <tr>\n",
              "      <th>4</th>\n",
              "      <td>0.4827</td>\n",
              "      <td>5</td>\n",
              "    </tr>\n",
              "  </tbody>\n",
              "</table>\n",
              "</div>"
            ],
            "text/plain": [
              "   Accuracy  Nr of models\n",
              "0    0.0000             1\n",
              "1    0.4528             2\n",
              "2    0.4528             3\n",
              "3    0.4835             4\n",
              "4    0.4827             5"
            ]
          },
          "metadata": {
            "tags": []
          }
        }
      ]
    },
    {
      "cell_type": "code",
      "metadata": {
        "id": "sXq8Uj3lenzH",
        "colab_type": "code",
        "outputId": "39c312bc-22b6-4c36-f698-b70eefad84e2",
        "colab": {
          "base_uri": "https://localhost:8080/",
          "height": 280
        }
      },
      "source": [
        "import matplotlib.pyplot as plt\n",
        "\n",
        "accuracy_df.plot(x=\"Nr of models\", y=\"Accuracy\", xticks=accuracy_df[\"Nr of models\"])\n",
        "plt.show()"
      ],
      "execution_count": 53,
      "outputs": [
        {
          "output_type": "display_data",
          "data": {
            "image/png": "[encoded data removed]",
            "text/plain": [
              "<Figure size 432x288 with 1 Axes>"
            ]
          },
          "metadata": {
            "tags": [],
            "needs_background": "light"
          }
        }
      ]
    },
    {
      "cell_type": "markdown",
      "metadata": {
        "id": "NMfc-h8xAYQu",
        "colab_type": "text"
      },
      "source": [
        "## Correlation between models"
      ]
    },
    {
      "cell_type": "code",
      "metadata": {
        "id": "0N9wSXF1iSp3",
        "colab_type": "code",
        "outputId": "ccb6152c-05da-4d87-d43c-57c75f30f38e",
        "colab": {
          "base_uri": "https://localhost:8080/",
          "height": 34
        }
      },
      "source": [
        "predictions = []\n",
        "\n",
        "for m in tqdm(models):\n",
        "    predictions.append(np.argmax(m.predict(x_test), axis=1))"
      ],
      "execution_count": 54,
      "outputs": [
        {
          "output_type": "stream",
          "text": [
            "100%|██████████| 4/4 [00:01<00:00,  2.08it/s]\n"
          ],
          "name": "stderr"
        }
      ]
    },
    {
      "cell_type": "code",
      "metadata": {
        "id": "FAky42lMV102",
        "colab_type": "code",
        "outputId": "ece15924-af19-4bd0-aad4-ade080659cb0",
        "colab": {
          "base_uri": "https://localhost:8080/",
          "height": 192
        }
      },
      "source": [
        "correlation_matrix = []\n",
        "\n",
        "for ix, x in enumerate(predictions):\n",
        "  row = []\n",
        "  \n",
        "  for iy, y in enumerate(predictions):\n",
        "    if (ix == iy):\n",
        "      row.append(np.nan)\n",
        "    else:\n",
        "      row.append(pearsonr(x,y)[0])\n",
        "\n",
        "  correlation_matrix.append(row)\n",
        "\n",
        "correlation_matrix = np.array(correlation_matrix)\n",
        "display(pd.DataFrame(correlation_matrix))\n",
        "print(\"Average correlation: \" + str(np.nanmean(correlation_matrix.flatten())))"
      ],
      "execution_count": 55,
      "outputs": [
        {
          "output_type": "display_data",
          "data": {
            "text/html": [
              "<div>\n",
              "<style scoped>\n",
              "    .dataframe tbody tr th:only-of-type {\n",
              "        vertical-align: middle;\n",
              "    }\n",
              "\n",
              "    .dataframe tbody tr th {\n",
              "        vertical-align: top;\n",
              "    }\n",
              "\n",
              "    .dataframe thead th {\n",
              "        text-align: right;\n",
              "    }\n",
              "</style>\n",
              "<table border=\"1\" class=\"dataframe\">\n",
              "  <thead>\n",
              "    <tr style=\"text-align: right;\">\n",
              "      <th></th>\n",
              "      <th>0</th>\n",
              "      <th>1</th>\n",
              "      <th>2</th>\n",
              "      <th>3</th>\n",
              "    </tr>\n",
              "  </thead>\n",
              "  <tbody>\n",
              "    <tr>\n",
              "      <th>0</th>\n",
              "      <td>NaN</td>\n",
              "      <td>0.553148</td>\n",
              "      <td>0.608246</td>\n",
              "      <td>0.631323</td>\n",
              "    </tr>\n",
              "    <tr>\n",
              "      <th>1</th>\n",
              "      <td>0.553148</td>\n",
              "      <td>NaN</td>\n",
              "      <td>0.622944</td>\n",
              "      <td>0.668767</td>\n",
              "    </tr>\n",
              "    <tr>\n",
              "      <th>2</th>\n",
              "      <td>0.608246</td>\n",
              "      <td>0.622944</td>\n",
              "      <td>NaN</td>\n",
              "      <td>0.662058</td>\n",
              "    </tr>\n",
              "    <tr>\n",
              "      <th>3</th>\n",
              "      <td>0.631323</td>\n",
              "      <td>0.668767</td>\n",
              "      <td>0.662058</td>\n",
              "      <td>NaN</td>\n",
              "    </tr>\n",
              "  </tbody>\n",
              "</table>\n",
              "</div>"
            ],
            "text/plain": [
              "          0         1         2         3\n",
              "0       NaN  0.553148  0.608246  0.631323\n",
              "1  0.553148       NaN  0.622944  0.668767\n",
              "2  0.608246  0.622944       NaN  0.662058\n",
              "3  0.631323  0.668767  0.662058       NaN"
            ]
          },
          "metadata": {
            "tags": []
          }
        },
        {
          "output_type": "stream",
          "text": [
            "Average correlation: 0.6244143712317278\n"
          ],
          "name": "stdout"
        }
      ]
    }
  ]
}