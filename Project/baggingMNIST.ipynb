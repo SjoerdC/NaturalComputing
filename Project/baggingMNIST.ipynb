{
  "nbformat": 4,
  "nbformat_minor": 0,
  "metadata": {
    "accelerator": "GPU",
    "colab": {
      "name": "baggingMNIST.ipynb",
      "provenance": [],
      "collapsed_sections": []
    },
    "kernelspec": {
      "display_name": "Python 3",
      "language": "python",
      "name": "python3"
    },
    "language_info": {
      "codemirror_mode": {
        "name": "ipython",
        "version": 3
      },
      "file_extension": ".py",
      "mimetype": "text/x-python",
      "name": "python",
      "nbconvert_exporter": "python",
      "pygments_lexer": "ipython3",
      "version": "3.6.9"
    }
  },
  "cells": [
    {
      "cell_type": "code",
      "metadata": {
        "colab_type": "code",
        "id": "fde69AMuOpox",
        "colab": {}
      },
      "source": [
        "import keras\n",
        "import cv2\n",
        "import numpy as np\n",
        "import tensorflow as tf\n",
        "from sklearn.metrics import accuracy_score\n",
        "from keras.datasets import mnist\n",
        "from keras.applications.vgg16 import VGG16\n",
        "from keras.layers import Dense, Dropout, Flatten, Activation\n",
        "from keras.models import Sequential\n",
        "from keras.callbacks import EarlyStopping\n",
        "from tqdm import tqdm"
      ],
      "execution_count": 0,
      "outputs": []
    },
    {
      "cell_type": "code",
      "metadata": {
        "colab_type": "code",
        "id": "qYrab7qpOppj",
        "colab": {}
      },
      "source": [
        "batch_size = 64\n",
        "epochs = 35\n",
        "IMAGE_WIDTH = 32\n",
        "IMAGE_HEIGHT = 32\n",
        "NUM_CLASSES = 10\n",
        "NUM_MODELS = 5\n",
        "TRAIN_SET_SIZE = 2500"
      ],
      "execution_count": 0,
      "outputs": []
    },
    {
      "cell_type": "markdown",
      "metadata": {
        "id": "R9M4_-IaBOsn",
        "colab_type": "text"
      },
      "source": [
        "# Set seeds"
      ]
    },
    {
      "cell_type": "code",
      "metadata": {
        "id": "7n9nJGd_BQ-r",
        "colab_type": "code",
        "colab": {}
      },
      "source": [
        "np.random.seed(1)\n",
        "tf.random.set_seed(1)"
      ],
      "execution_count": 0,
      "outputs": []
    },
    {
      "cell_type": "markdown",
      "metadata": {
        "id": "g8QvEt97vF52",
        "colab_type": "text"
      },
      "source": [
        "# Preprocess"
      ]
    },
    {
      "cell_type": "code",
      "metadata": {
        "id": "JtJIUBsFKeRO",
        "colab_type": "code",
        "colab": {}
      },
      "source": [
        "def preprocess(imgs):\n",
        "    \n",
        "    processed = []\n",
        "    \n",
        "    for img in tqdm(imgs):\n",
        "        processed.append(cv2.resize(img, (IMAGE_WIDTH, IMAGE_HEIGHT), interpolation = cv2.INTER_AREA))\n",
        "    \n",
        "    proccessed = np.array(processed)\n",
        "    return proccessed.reshape(proccessed.shape[0], IMAGE_WIDTH, IMAGE_HEIGHT, 1)"
      ],
      "execution_count": 0,
      "outputs": []
    },
    {
      "cell_type": "code",
      "metadata": {
        "colab_type": "code",
        "id": "XypdmBJROpp9",
        "outputId": "73bca957-5f51-4f95-d6f7-6923b9c1c833",
        "colab": {
          "base_uri": "https://localhost:8080/",
          "height": 104
        }
      },
      "source": [
        "(x_train, y_train), (x_test, y_test) = mnist.load_data()\n",
        "\n",
        "# Decrease the training set size\n",
        "idx = np.random.choice(len(x_train), size=TRAIN_SET_SIZE, replace=False)\n",
        "x_train = x_train[idx]\n",
        "y_train = y_train[idx]\n",
        "\n",
        "x_train = preprocess(x_train)\n",
        "x_test = preprocess(x_test)\n",
        "\n",
        "print('x_train shape:', x_train.shape)\n",
        "print(x_train.shape[0], 'train samples')\n",
        "print(x_test.shape[0], 'test samples')"
      ],
      "execution_count": 0,
      "outputs": [
        {
          "output_type": "stream",
          "text": [
            "100%|██████████| 60000/60000 [00:00<00:00, 128918.72it/s]\n",
            "100%|██████████| 10000/10000 [00:00<00:00, 141659.74it/s]"
          ],
          "name": "stderr"
        },
        {
          "output_type": "stream",
          "text": [
            "x_train shape: (60000, 32, 32, 1)\n",
            "60000 train samples\n",
            "10000 test samples\n"
          ],
          "name": "stdout"
        },
        {
          "output_type": "stream",
          "text": [
            "\n"
          ],
          "name": "stderr"
        }
      ]
    },
    {
      "cell_type": "code",
      "metadata": {
        "colab_type": "code",
        "id": "mo8yHyg-Opqo",
        "colab": {}
      },
      "source": [
        "# Convert class vectors to binary class matrices.\n",
        "y_train = keras.utils.to_categorical(y_train, NUM_CLASSES)\n",
        "y_test = keras.utils.to_categorical(y_test, NUM_CLASSES)"
      ],
      "execution_count": 0,
      "outputs": []
    },
    {
      "cell_type": "code",
      "metadata": {
        "id": "a4SYRuKZaIwb",
        "colab_type": "code",
        "colab": {}
      },
      "source": [
        "x_train = x_train.astype('float32')\n",
        "x_test = x_test.astype('float32')\n",
        "x_train /= 255\n",
        "x_test /= 255"
      ],
      "execution_count": 0,
      "outputs": []
    },
    {
      "cell_type": "markdown",
      "metadata": {
        "id": "gIBGIrlkvOt0",
        "colab_type": "text"
      },
      "source": [
        "# Model"
      ]
    },
    {
      "cell_type": "code",
      "metadata": {
        "colab_type": "code",
        "id": "zLWph6_aOpr2",
        "colab": {}
      },
      "source": [
        "def create_model():\n",
        "    conv_base = VGG16(input_shape = (IMAGE_HEIGHT,IMAGE_WIDTH, 1),\n",
        "                            include_top = False, weights = None, classes=NUM_CLASSES)\n",
        "\n",
        "    conv_base.trainable = True\n",
        "\n",
        "    model = Sequential()\n",
        "\n",
        "    model.add(conv_base)\n",
        "    model.add(Dropout(0.2))\n",
        "    model.add(Flatten())\n",
        "    model.add(Dense(512))\n",
        "    model.add(Activation('relu'))\n",
        "    model.add(Dense(NUM_CLASSES))\n",
        "    model.add(Activation('softmax'))\n",
        "\n",
        "    optimizer = keras.optimizers.Adam(learning_rate=0.0001)\n",
        "\n",
        "    model.compile(loss='categorical_crossentropy',\n",
        "              optimizer=optimizer,\n",
        "              metrics=['categorical_accuracy']\n",
        "              )\n",
        "    \n",
        "    return model"
      ],
      "execution_count": 0,
      "outputs": []
    },
    {
      "cell_type": "markdown",
      "metadata": {
        "id": "TVqdcrD_vQ-Q",
        "colab_type": "text"
      },
      "source": [
        "# Train"
      ]
    },
    {
      "cell_type": "code",
      "metadata": {
        "colab_type": "code",
        "id": "HjvZqLBJOpsw",
        "outputId": "c1d8b8a7-dc3d-4693-e890-ff1cd4c76453",
        "colab": {
          "base_uri": "https://localhost:8080/",
          "height": 1000
        }
      },
      "source": [
        "models = []\n",
        "\n",
        "for i in range(NUM_MODELS):\n",
        "\n",
        "    print(f\"Train model {i}\")\n",
        "    idx = np.random.choice(len(x_train), size=len(x_train), replace=True)\n",
        "\n",
        "    x_train_model = x_train[idx]\n",
        "    y_train_model = y_train[idx]\n",
        "\n",
        "    model = create_model()\n",
        "    \n",
        "    es = EarlyStopping(monitor='val_categorical_accuracy', mode='max', min_delta=0.01, patience=3)\n",
        "    model.fit(x_train_model,y_train_model,\n",
        "              batch_size = batch_size,\n",
        "              epochs = epochs,\n",
        "              validation_data = (x_test,y_test),\n",
        "              shuffle = True,\n",
        "              callbacks=[es])\n",
        "    models.append(model)"
      ],
      "execution_count": 0,
      "outputs": [
        {
          "output_type": "stream",
          "text": [
            "Train model 0\n",
            "Train on 60000 samples, validate on 10000 samples\n",
            "Epoch 1/35\n",
            "60000/60000 [==============================] - 91s 2ms/step - loss: 0.3181 - categorical_accuracy: 0.8920 - val_loss: 0.1036 - val_categorical_accuracy: 0.9686\n",
            "Epoch 2/35\n",
            "60000/60000 [==============================] - 90s 1ms/step - loss: 0.0623 - categorical_accuracy: 0.9809 - val_loss: 0.0477 - val_categorical_accuracy: 0.9856\n",
            "Epoch 3/35\n",
            "60000/60000 [==============================] - 89s 1ms/step - loss: 0.0384 - categorical_accuracy: 0.9891 - val_loss: 0.0381 - val_categorical_accuracy: 0.9895\n",
            "Epoch 4/35\n",
            "60000/60000 [==============================] - 89s 1ms/step - loss: 0.0333 - categorical_accuracy: 0.9912 - val_loss: 0.0305 - val_categorical_accuracy: 0.9920\n",
            "Epoch 5/35\n",
            "60000/60000 [==============================] - 89s 1ms/step - loss: 0.0242 - categorical_accuracy: 0.9931 - val_loss: 0.0409 - val_categorical_accuracy: 0.9914\n",
            "Train model 1\n",
            "Train on 60000 samples, validate on 10000 samples\n",
            "Epoch 1/35\n",
            "60000/60000 [==============================] - 90s 1ms/step - loss: 0.3657 - categorical_accuracy: 0.8754 - val_loss: 0.0672 - val_categorical_accuracy: 0.9810\n",
            "Epoch 2/35\n",
            "60000/60000 [==============================] - 89s 1ms/step - loss: 0.0640 - categorical_accuracy: 0.9812 - val_loss: 0.0486 - val_categorical_accuracy: 0.9852\n",
            "Epoch 3/35\n",
            "60000/60000 [==============================] - 89s 1ms/step - loss: 0.0408 - categorical_accuracy: 0.9883 - val_loss: 0.0490 - val_categorical_accuracy: 0.9870\n",
            "Epoch 4/35\n",
            "60000/60000 [==============================] - 90s 1ms/step - loss: 0.0303 - categorical_accuracy: 0.9915 - val_loss: 0.0594 - val_categorical_accuracy: 0.9823\n",
            "Train model 2\n",
            "Train on 60000 samples, validate on 10000 samples\n",
            "Epoch 1/35\n",
            "60000/60000 [==============================] - 90s 2ms/step - loss: 0.3112 - categorical_accuracy: 0.8942 - val_loss: 0.1095 - val_categorical_accuracy: 0.9686\n",
            "Epoch 2/35\n",
            "60000/60000 [==============================] - 90s 1ms/step - loss: 0.0604 - categorical_accuracy: 0.9829 - val_loss: 0.0747 - val_categorical_accuracy: 0.9787\n",
            "Epoch 3/35\n",
            "60000/60000 [==============================] - 89s 1ms/step - loss: 0.0423 - categorical_accuracy: 0.9883 - val_loss: 0.0437 - val_categorical_accuracy: 0.9884\n",
            "Epoch 4/35\n",
            "60000/60000 [==============================] - 89s 1ms/step - loss: 0.0314 - categorical_accuracy: 0.9916 - val_loss: 0.0358 - val_categorical_accuracy: 0.9896\n",
            "Epoch 5/35\n",
            "60000/60000 [==============================] - 89s 1ms/step - loss: 0.0250 - categorical_accuracy: 0.9933 - val_loss: 0.0429 - val_categorical_accuracy: 0.9878\n",
            "Epoch 6/35\n",
            "60000/60000 [==============================] - 89s 1ms/step - loss: 0.0224 - categorical_accuracy: 0.9937 - val_loss: 0.0330 - val_categorical_accuracy: 0.9901\n",
            "Epoch 7/35\n",
            "60000/60000 [==============================] - 89s 1ms/step - loss: 0.0176 - categorical_accuracy: 0.9953 - val_loss: 0.0396 - val_categorical_accuracy: 0.9896\n",
            "Train model 3\n",
            "Train on 60000 samples, validate on 10000 samples\n",
            "Epoch 1/35\n",
            "60000/60000 [==============================] - 90s 2ms/step - loss: 0.2862 - categorical_accuracy: 0.9044 - val_loss: 0.0642 - val_categorical_accuracy: 0.9790\n",
            "Epoch 2/35\n",
            "60000/60000 [==============================] - 90s 1ms/step - loss: 0.0598 - categorical_accuracy: 0.9827 - val_loss: 0.0474 - val_categorical_accuracy: 0.9867\n",
            "Epoch 3/35\n",
            "60000/60000 [==============================] - 89s 1ms/step - loss: 0.0414 - categorical_accuracy: 0.9885 - val_loss: 0.0538 - val_categorical_accuracy: 0.9857\n",
            "Epoch 4/35\n",
            "60000/60000 [==============================] - 89s 1ms/step - loss: 0.0305 - categorical_accuracy: 0.9912 - val_loss: 0.0393 - val_categorical_accuracy: 0.9902\n",
            "Epoch 5/35\n",
            "60000/60000 [==============================] - 89s 1ms/step - loss: 0.0246 - categorical_accuracy: 0.9937 - val_loss: 0.0340 - val_categorical_accuracy: 0.9906\n",
            "Epoch 6/35\n",
            "60000/60000 [==============================] - 89s 1ms/step - loss: 0.0243 - categorical_accuracy: 0.9936 - val_loss: 0.0408 - val_categorical_accuracy: 0.9889\n",
            "Epoch 7/35\n",
            "60000/60000 [==============================] - 90s 1ms/step - loss: 0.0171 - categorical_accuracy: 0.9957 - val_loss: 0.0331 - val_categorical_accuracy: 0.9899\n",
            "Train model 4\n",
            "Train on 60000 samples, validate on 10000 samples\n",
            "Epoch 1/35\n",
            "60000/60000 [==============================] - 90s 2ms/step - loss: 0.3292 - categorical_accuracy: 0.8881 - val_loss: 0.0774 - val_categorical_accuracy: 0.9755\n",
            "Epoch 2/35\n",
            "60000/60000 [==============================] - 89s 1ms/step - loss: 0.0613 - categorical_accuracy: 0.9820 - val_loss: 0.0442 - val_categorical_accuracy: 0.9865\n",
            "Epoch 3/35\n",
            "60000/60000 [==============================] - 89s 1ms/step - loss: 0.0399 - categorical_accuracy: 0.9882 - val_loss: 0.0514 - val_categorical_accuracy: 0.9854\n",
            "Epoch 4/35\n",
            "60000/60000 [==============================] - 89s 1ms/step - loss: 0.0286 - categorical_accuracy: 0.9916 - val_loss: 0.0346 - val_categorical_accuracy: 0.9906\n",
            "Epoch 5/35\n",
            "60000/60000 [==============================] - 89s 1ms/step - loss: 0.0243 - categorical_accuracy: 0.9934 - val_loss: 0.0742 - val_categorical_accuracy: 0.9814\n"
          ],
          "name": "stdout"
        }
      ]
    },
    {
      "cell_type": "markdown",
      "metadata": {
        "id": "EbiuqESLvTOY",
        "colab_type": "text"
      },
      "source": [
        "# Predict"
      ]
    },
    {
      "cell_type": "code",
      "metadata": {
        "id": "JXFkx19XmqKe",
        "colab_type": "code",
        "outputId": "37c1050f-8ca3-4048-abd2-1188b243cb62",
        "colab": {
          "base_uri": "https://localhost:8080/",
          "height": 34
        }
      },
      "source": [
        "predictions = []\n",
        "\n",
        "for m in tqdm(models):\n",
        "    predictions.append(np.argmax(m.predict(x_test), axis=1))"
      ],
      "execution_count": 0,
      "outputs": [
        {
          "output_type": "stream",
          "text": [
            "100%|██████████| 5/5 [00:25<00:00,  5.10s/it]\n"
          ],
          "name": "stderr"
        }
      ]
    },
    {
      "cell_type": "code",
      "metadata": {
        "id": "8Rhe8NT_nDSb",
        "colab_type": "code",
        "outputId": "8c44b2c9-8d4a-4f83-899a-a3ebcb1b7c56",
        "colab": {
          "base_uri": "https://localhost:8080/",
          "height": 34
        }
      },
      "source": [
        "prediction = np.transpose(predictions)\n",
        "prediction = np.apply_along_axis(lambda x: np.bincount(x).argmax(), axis=1, arr=prediction)\n",
        "\n",
        "print('Test accuracy:', accuracy_score(prediction, np.argmax(y_test, axis=1)))"
      ],
      "execution_count": 0,
      "outputs": [
        {
          "output_type": "stream",
          "text": [
            "Test accuracy: 0.993\n"
          ],
          "name": "stdout"
        }
      ]
    },
    {
      "cell_type": "markdown",
      "metadata": {
        "id": "NMfc-h8xAYQu",
        "colab_type": "text"
      },
      "source": [
        "# Correlation between models"
      ]
    },
    {
      "cell_type": "code",
      "metadata": {
        "id": "FAky42lMV102",
        "colab_type": "code",
        "outputId": "c47586ff-7010-4168-d85e-e5e8e878f7ea",
        "colab": {
          "base_uri": "https://localhost:8080/",
          "height": 224
        }
      },
      "source": [
        "from scipy.stats import pearsonr\n",
        "import pandas as pd\n",
        "\n",
        "correlation_matrix = []\n",
        "\n",
        "for ix, x in enumerate(predictions):\n",
        "  row = []\n",
        "  \n",
        "  for iy, y in enumerate(predictions):\n",
        "    if (ix == iy):\n",
        "      row.append(np.nan)\n",
        "    else:\n",
        "      row.append(pearsonr(x,y)[0])\n",
        "\n",
        "  correlation_matrix.append(row)\n",
        "\n",
        "correlation_matrix = np.array(correlation_matrix)\n",
        "display(pd.DataFrame(correlation_matrix))\n",
        "print(\"Average correlation: \" + str(np.nanmean(correlation_matrix.flatten())))"
      ],
      "execution_count": 0,
      "outputs": [
        {
          "output_type": "display_data",
          "data": {
            "text/html": [
              "<div>\n",
              "<style scoped>\n",
              "    .dataframe tbody tr th:only-of-type {\n",
              "        vertical-align: middle;\n",
              "    }\n",
              "\n",
              "    .dataframe tbody tr th {\n",
              "        vertical-align: top;\n",
              "    }\n",
              "\n",
              "    .dataframe thead th {\n",
              "        text-align: right;\n",
              "    }\n",
              "</style>\n",
              "<table border=\"1\" class=\"dataframe\">\n",
              "  <thead>\n",
              "    <tr style=\"text-align: right;\">\n",
              "      <th></th>\n",
              "      <th>0</th>\n",
              "      <th>1</th>\n",
              "      <th>2</th>\n",
              "      <th>3</th>\n",
              "      <th>4</th>\n",
              "    </tr>\n",
              "  </thead>\n",
              "  <tbody>\n",
              "    <tr>\n",
              "      <th>0</th>\n",
              "      <td>NaN</td>\n",
              "      <td>0.980346</td>\n",
              "      <td>0.987144</td>\n",
              "      <td>0.984345</td>\n",
              "      <td>0.982658</td>\n",
              "    </tr>\n",
              "    <tr>\n",
              "      <th>1</th>\n",
              "      <td>0.980346</td>\n",
              "      <td>NaN</td>\n",
              "      <td>0.980168</td>\n",
              "      <td>0.982352</td>\n",
              "      <td>0.980815</td>\n",
              "    </tr>\n",
              "    <tr>\n",
              "      <th>2</th>\n",
              "      <td>0.987144</td>\n",
              "      <td>0.980168</td>\n",
              "      <td>NaN</td>\n",
              "      <td>0.985582</td>\n",
              "      <td>0.983056</td>\n",
              "    </tr>\n",
              "    <tr>\n",
              "      <th>3</th>\n",
              "      <td>0.984345</td>\n",
              "      <td>0.982352</td>\n",
              "      <td>0.985582</td>\n",
              "      <td>NaN</td>\n",
              "      <td>0.986408</td>\n",
              "    </tr>\n",
              "    <tr>\n",
              "      <th>4</th>\n",
              "      <td>0.982658</td>\n",
              "      <td>0.980815</td>\n",
              "      <td>0.983056</td>\n",
              "      <td>0.986408</td>\n",
              "      <td>NaN</td>\n",
              "    </tr>\n",
              "  </tbody>\n",
              "</table>\n",
              "</div>"
            ],
            "text/plain": [
              "          0         1         2         3         4\n",
              "0       NaN  0.980346  0.987144  0.984345  0.982658\n",
              "1  0.980346       NaN  0.980168  0.982352  0.980815\n",
              "2  0.987144  0.980168       NaN  0.985582  0.983056\n",
              "3  0.984345  0.982352  0.985582       NaN  0.986408\n",
              "4  0.982658  0.980815  0.983056  0.986408       NaN"
            ]
          },
          "metadata": {
            "tags": []
          }
        },
        {
          "output_type": "stream",
          "text": [
            "Average correlation: 0.9832875621470725\n"
          ],
          "name": "stdout"
        }
      ]
    }
  ]
}