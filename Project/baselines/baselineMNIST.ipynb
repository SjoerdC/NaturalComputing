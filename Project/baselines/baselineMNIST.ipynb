{
  "nbformat": 4,
  "nbformat_minor": 0,
  "metadata": {
    "accelerator": "GPU",
    "colab": {
      "name": "baselineMNIST.ipynb",
      "provenance": [],
      "collapsed_sections": [],
      "toc_visible": true
    },
    "kernelspec": {
      "display_name": "Python 3",
      "language": "python",
      "name": "python3"
    },
    "language_info": {
      "codemirror_mode": {
        "name": "ipython",
        "version": 3
      },
      "file_extension": ".py",
      "mimetype": "text/x-python",
      "name": "python",
      "nbconvert_exporter": "python",
      "pygments_lexer": "ipython3",
      "version": "3.6.9"
    }
  },
  "cells": [
    {
      "cell_type": "code",
      "metadata": {
        "colab_type": "code",
        "id": "fde69AMuOpox",
        "colab": {}
      },
      "source": [
        "import keras\n",
        "import cv2\n",
        "import numpy as np\n",
        "import pandas as pd\n",
        "import tensorflow as tf\n",
        "from itertools import count\n",
        "from sklearn.metrics import accuracy_score\n",
        "from keras.datasets import mnist\n",
        "from keras.applications.vgg16 import VGG16\n",
        "from keras.layers import Dense, Dropout, Flatten, Activation, Input, Conv2D, MaxPooling2D, BatchNormalization, GlobalAveragePooling2D\n",
        "from sklearn.model_selection import train_test_split\n",
        "from keras.models import Model\n",
        "from keras.callbacks import EarlyStopping\n",
        "from scipy.stats import pearsonr\n",
        "from tqdm import tqdm"
      ],
      "execution_count": 0,
      "outputs": []
    },
    {
      "cell_type": "code",
      "metadata": {
        "colab_type": "code",
        "id": "qYrab7qpOppj",
        "colab": {}
      },
      "source": [
        "BATCH_SIZE = 128\n",
        "EPOCHS = 9999\n",
        "IMAGE_SIZE = 28\n",
        "NUM_CLASSES = 10\n",
        "MODEL_NAME = \"MNIST_baseline\"\n",
        "PATH = \"\""
      ],
      "execution_count": 0,
      "outputs": []
    },
    {
      "cell_type": "markdown",
      "metadata": {
        "id": "R9M4_-IaBOsn",
        "colab_type": "text"
      },
      "source": [
        "# Set seeds"
      ]
    },
    {
      "cell_type": "code",
      "metadata": {
        "id": "7n9nJGd_BQ-r",
        "colab_type": "code",
        "colab": {}
      },
      "source": [
        "np.random.seed(1)\n",
        "tf.random.set_seed(1)"
      ],
      "execution_count": 0,
      "outputs": []
    },
    {
      "cell_type": "markdown",
      "metadata": {
        "id": "g8QvEt97vF52",
        "colab_type": "text"
      },
      "source": [
        "# Preprocess"
      ]
    },
    {
      "cell_type": "code",
      "metadata": {
        "id": "JtJIUBsFKeRO",
        "colab_type": "code",
        "colab": {}
      },
      "source": [
        "def preprocess(imgs):\n",
        "    \n",
        "    return imgs.reshape(imgs.shape[0], IMAGE_SIZE, IMAGE_SIZE, 1)"
      ],
      "execution_count": 0,
      "outputs": []
    },
    {
      "cell_type": "code",
      "metadata": {
        "colab_type": "code",
        "id": "XypdmBJROpp9",
        "outputId": "8d53f905-0041-4f8f-8643-9cd68382cff6",
        "colab": {
          "base_uri": "https://localhost:8080/",
          "height": 69
        }
      },
      "source": [
        "(x_train, y_train), (x_test, y_test) = mnist.load_data()\n",
        "\n",
        "x_train = preprocess(x_train)\n",
        "x_test = preprocess(x_test)\n",
        "\n",
        "print('x_train shape:', x_train.shape)\n",
        "print(x_train.shape[0], 'train samples')\n",
        "print(x_test.shape[0], 'test samples')"
      ],
      "execution_count": 29,
      "outputs": [
        {
          "output_type": "stream",
          "text": [
            "x_train shape: (60000, 28, 28, 1)\n",
            "60000 train samples\n",
            "10000 test samples\n"
          ],
          "name": "stdout"
        }
      ]
    },
    {
      "cell_type": "code",
      "metadata": {
        "colab_type": "code",
        "id": "mo8yHyg-Opqo",
        "colab": {}
      },
      "source": [
        "# Convert class vectors to binary class matrices.\n",
        "y_train = keras.utils.to_categorical(y_train, NUM_CLASSES)\n",
        "y_testc = keras.utils.to_categorical(y_test, NUM_CLASSES)"
      ],
      "execution_count": 0,
      "outputs": []
    },
    {
      "cell_type": "code",
      "metadata": {
        "id": "a4SYRuKZaIwb",
        "colab_type": "code",
        "colab": {}
      },
      "source": [
        "x_train = x_train.astype('float32')\n",
        "x_test = x_test.astype('float32')\n",
        "x_train /= 255\n",
        "x_test /= 255"
      ],
      "execution_count": 0,
      "outputs": []
    },
    {
      "cell_type": "code",
      "metadata": {
        "id": "yLQOYIh0OW84",
        "colab_type": "code",
        "colab": {}
      },
      "source": [
        "# Split the data\n",
        "x_train, x_val, y_train, y_val = train_test_split(x_train, y_train, test_size=0.20, shuffle= True)"
      ],
      "execution_count": 0,
      "outputs": []
    },
    {
      "cell_type": "markdown",
      "metadata": {
        "id": "gIBGIrlkvOt0",
        "colab_type": "text"
      },
      "source": [
        "# Model"
      ]
    },
    {
      "cell_type": "code",
      "metadata": {
        "colab_type": "code",
        "id": "zLWph6_aOpr2",
        "colab": {}
      },
      "source": [
        "def MNISTmodel(imsize, num_classes, num_channels):\n",
        "    inputs = Input((imsize,imsize,num_channels))\n",
        "    x = Conv2D(filters=16, kernel_size=(3,3), activation='relu',strides = 2)(inputs)\n",
        "    x = BatchNormalization()(x)\n",
        "    x = MaxPooling2D(pool_size=(2,2), strides=(2,2), padding='same')(x)\n",
        "    x = Conv2D(filters=16, kernel_size=(1,1), activation='relu', padding='valid')(x)\n",
        "    x = Conv2D(filters=10, kernel_size=(1,1),strides=(1,1), padding='valid')(x)\n",
        "    x = GlobalAveragePooling2D()(x)\n",
        "    outputs = Activation('softmax')(x)\n",
        "    \n",
        "    model = Model(inputs=inputs, outputs=outputs)\n",
        "\n",
        "    optimizer = keras.optimizers.Adam(learning_rate = 1e-04)\n",
        "\n",
        "    model.compile(loss='categorical_crossentropy',\n",
        "                      optimizer=optimizer,\n",
        "                      metrics=['accuracy'])\n",
        "    return model"
      ],
      "execution_count": 0,
      "outputs": []
    },
    {
      "cell_type": "markdown",
      "metadata": {
        "id": "EbiuqESLvTOY",
        "colab_type": "text"
      },
      "source": [
        "# Predict"
      ]
    },
    {
      "cell_type": "code",
      "metadata": {
        "id": "JXFkx19XmqKe",
        "colab_type": "code",
        "colab": {}
      },
      "source": [
        "def predict(model, X, Y):\n",
        "    return accuracy_score(np.argmax(model.predict(X), axis=1), np.argmax(Y, axis=1))"
      ],
      "execution_count": 0,
      "outputs": []
    },
    {
      "cell_type": "markdown",
      "metadata": {
        "id": "TVqdcrD_vQ-Q",
        "colab_type": "text"
      },
      "source": [
        "# Train"
      ]
    },
    {
      "cell_type": "code",
      "metadata": {
        "colab_type": "code",
        "id": "HjvZqLBJOpsw",
        "outputId": "1d3d1fc6-3a47-498d-e9b7-a3e7eb757f6d",
        "colab": {
          "base_uri": "https://localhost:8080/",
          "height": 1000
        }
      },
      "source": [
        "model = MNISTmodel(IMAGE_SIZE, NUM_CLASSES, 1)\n",
        "\n",
        "es = EarlyStopping(min_delta=0.01, patience=3)\n",
        "model.fit(x_train,y_train,\n",
        "          batch_size = BATCH_SIZE,\n",
        "          epochs = EPOCHS,\n",
        "          validation_data = (x_val,y_val),\n",
        "          shuffle = True,\n",
        "          callbacks=[es])\n",
        "\n",
        "model.save_weights(PATH + MODEL_NAME + f\"_weights.h5\" )"
      ],
      "execution_count": 35,
      "outputs": [
        {
          "output_type": "stream",
          "text": [
            "Train on 48000 samples, validate on 12000 samples\n",
            "Epoch 1/9999\n",
            "48000/48000 [==============================] - 3s 72us/step - loss: 2.2810 - accuracy: 0.1307 - val_loss: 2.2591 - val_accuracy: 0.1483\n",
            "Epoch 2/9999\n",
            "48000/48000 [==============================] - 3s 66us/step - loss: 2.1968 - accuracy: 0.2323 - val_loss: 2.1711 - val_accuracy: 0.2432\n",
            "Epoch 3/9999\n",
            "48000/48000 [==============================] - 3s 65us/step - loss: 2.1317 - accuracy: 0.2913 - val_loss: 2.1006 - val_accuracy: 0.3058\n",
            "Epoch 4/9999\n",
            "48000/48000 [==============================] - 3s 66us/step - loss: 2.0633 - accuracy: 0.3194 - val_loss: 2.0279 - val_accuracy: 0.3323\n",
            "Epoch 5/9999\n",
            "48000/48000 [==============================] - 3s 66us/step - loss: 1.9949 - accuracy: 0.3371 - val_loss: 1.9600 - val_accuracy: 0.3517\n",
            "Epoch 6/9999\n",
            "48000/48000 [==============================] - 3s 65us/step - loss: 1.9299 - accuracy: 0.3546 - val_loss: 1.8973 - val_accuracy: 0.3754\n",
            "Epoch 7/9999\n",
            "48000/48000 [==============================] - 3s 65us/step - loss: 1.8691 - accuracy: 0.3758 - val_loss: 1.8404 - val_accuracy: 0.3947\n",
            "Epoch 8/9999\n",
            "48000/48000 [==============================] - 3s 67us/step - loss: 1.8142 - accuracy: 0.3907 - val_loss: 1.7877 - val_accuracy: 0.4042\n",
            "Epoch 9/9999\n",
            "48000/48000 [==============================] - 3s 66us/step - loss: 1.7653 - accuracy: 0.4054 - val_loss: 1.7408 - val_accuracy: 0.4151\n",
            "Epoch 10/9999\n",
            "48000/48000 [==============================] - 3s 67us/step - loss: 1.7222 - accuracy: 0.4178 - val_loss: 1.7002 - val_accuracy: 0.4313\n",
            "Epoch 11/9999\n",
            "48000/48000 [==============================] - 3s 66us/step - loss: 1.6836 - accuracy: 0.4291 - val_loss: 1.6643 - val_accuracy: 0.4365\n",
            "Epoch 12/9999\n",
            "48000/48000 [==============================] - 3s 66us/step - loss: 1.6492 - accuracy: 0.4358 - val_loss: 1.6315 - val_accuracy: 0.4530\n",
            "Epoch 13/9999\n",
            "48000/48000 [==============================] - 3s 67us/step - loss: 1.6188 - accuracy: 0.4465 - val_loss: 1.6020 - val_accuracy: 0.4521\n",
            "Epoch 14/9999\n",
            "48000/48000 [==============================] - 3s 65us/step - loss: 1.5906 - accuracy: 0.4542 - val_loss: 1.5747 - val_accuracy: 0.4586\n",
            "Epoch 15/9999\n",
            "48000/48000 [==============================] - 3s 67us/step - loss: 1.5654 - accuracy: 0.4615 - val_loss: 1.5535 - val_accuracy: 0.4707\n",
            "Epoch 16/9999\n",
            "48000/48000 [==============================] - 3s 69us/step - loss: 1.5423 - accuracy: 0.4675 - val_loss: 1.5281 - val_accuracy: 0.4733\n",
            "Epoch 17/9999\n",
            "48000/48000 [==============================] - 3s 69us/step - loss: 1.5205 - accuracy: 0.4729 - val_loss: 1.5066 - val_accuracy: 0.4793\n",
            "Epoch 18/9999\n",
            "48000/48000 [==============================] - 3s 69us/step - loss: 1.5001 - accuracy: 0.4811 - val_loss: 1.4869 - val_accuracy: 0.4853\n",
            "Epoch 19/9999\n",
            "48000/48000 [==============================] - 3s 66us/step - loss: 1.4820 - accuracy: 0.4878 - val_loss: 1.4698 - val_accuracy: 0.4878\n",
            "Epoch 20/9999\n",
            "48000/48000 [==============================] - 3s 66us/step - loss: 1.4644 - accuracy: 0.4921 - val_loss: 1.4531 - val_accuracy: 0.4948\n",
            "Epoch 21/9999\n",
            "48000/48000 [==============================] - 3s 67us/step - loss: 1.4483 - accuracy: 0.4982 - val_loss: 1.4376 - val_accuracy: 0.4997\n",
            "Epoch 22/9999\n",
            "48000/48000 [==============================] - 3s 66us/step - loss: 1.4328 - accuracy: 0.5033 - val_loss: 1.4223 - val_accuracy: 0.5043\n",
            "Epoch 23/9999\n",
            "48000/48000 [==============================] - 3s 67us/step - loss: 1.4183 - accuracy: 0.5067 - val_loss: 1.4079 - val_accuracy: 0.5082\n",
            "Epoch 24/9999\n",
            "48000/48000 [==============================] - 3s 67us/step - loss: 1.4050 - accuracy: 0.5108 - val_loss: 1.3953 - val_accuracy: 0.5137\n",
            "Epoch 25/9999\n",
            "48000/48000 [==============================] - 3s 67us/step - loss: 1.3915 - accuracy: 0.5151 - val_loss: 1.3835 - val_accuracy: 0.5207\n",
            "Epoch 26/9999\n",
            "48000/48000 [==============================] - 3s 66us/step - loss: 1.3791 - accuracy: 0.5188 - val_loss: 1.3701 - val_accuracy: 0.5182\n",
            "Epoch 27/9999\n",
            "48000/48000 [==============================] - 3s 67us/step - loss: 1.3678 - accuracy: 0.5225 - val_loss: 1.3574 - val_accuracy: 0.5254\n",
            "Epoch 28/9999\n",
            "48000/48000 [==============================] - 3s 67us/step - loss: 1.3559 - accuracy: 0.5257 - val_loss: 1.3465 - val_accuracy: 0.5295\n",
            "Epoch 29/9999\n",
            "48000/48000 [==============================] - 3s 67us/step - loss: 1.3454 - accuracy: 0.5294 - val_loss: 1.3362 - val_accuracy: 0.5297\n",
            "Epoch 30/9999\n",
            "48000/48000 [==============================] - 3s 66us/step - loss: 1.3354 - accuracy: 0.5306 - val_loss: 1.3298 - val_accuracy: 0.5286\n",
            "Epoch 31/9999\n",
            "48000/48000 [==============================] - 3s 68us/step - loss: 1.3246 - accuracy: 0.5341 - val_loss: 1.3165 - val_accuracy: 0.5370\n",
            "Epoch 32/9999\n",
            "48000/48000 [==============================] - 3s 67us/step - loss: 1.3168 - accuracy: 0.5359 - val_loss: 1.3070 - val_accuracy: 0.5384\n",
            "Epoch 33/9999\n",
            "48000/48000 [==============================] - 3s 66us/step - loss: 1.3066 - accuracy: 0.5395 - val_loss: 1.2985 - val_accuracy: 0.5453\n",
            "Epoch 34/9999\n",
            "48000/48000 [==============================] - 3s 67us/step - loss: 1.2977 - accuracy: 0.5414 - val_loss: 1.2889 - val_accuracy: 0.5475\n",
            "Epoch 35/9999\n",
            "48000/48000 [==============================] - 3s 67us/step - loss: 1.2892 - accuracy: 0.5455 - val_loss: 1.2819 - val_accuracy: 0.5532\n",
            "Epoch 36/9999\n",
            "48000/48000 [==============================] - 3s 67us/step - loss: 1.2809 - accuracy: 0.5490 - val_loss: 1.2726 - val_accuracy: 0.5542\n",
            "Epoch 37/9999\n",
            "48000/48000 [==============================] - 3s 66us/step - loss: 1.2731 - accuracy: 0.5516 - val_loss: 1.2652 - val_accuracy: 0.5560\n",
            "Epoch 38/9999\n",
            "48000/48000 [==============================] - 3s 67us/step - loss: 1.2652 - accuracy: 0.5532 - val_loss: 1.2586 - val_accuracy: 0.5550\n",
            "Epoch 39/9999\n",
            "48000/48000 [==============================] - 3s 66us/step - loss: 1.2573 - accuracy: 0.5563 - val_loss: 1.2499 - val_accuracy: 0.5627\n",
            "Epoch 40/9999\n",
            "48000/48000 [==============================] - 3s 67us/step - loss: 1.2498 - accuracy: 0.5596 - val_loss: 1.2427 - val_accuracy: 0.5633\n",
            "Epoch 41/9999\n",
            "48000/48000 [==============================] - 3s 67us/step - loss: 1.2434 - accuracy: 0.5614 - val_loss: 1.2366 - val_accuracy: 0.5673\n",
            "Epoch 42/9999\n",
            "48000/48000 [==============================] - 3s 66us/step - loss: 1.2369 - accuracy: 0.5652 - val_loss: 1.2308 - val_accuracy: 0.5670\n",
            "Epoch 43/9999\n",
            "48000/48000 [==============================] - 3s 66us/step - loss: 1.2302 - accuracy: 0.5663 - val_loss: 1.2226 - val_accuracy: 0.5720\n",
            "Epoch 44/9999\n",
            "48000/48000 [==============================] - 3s 66us/step - loss: 1.2241 - accuracy: 0.5682 - val_loss: 1.2179 - val_accuracy: 0.5742\n",
            "Epoch 45/9999\n",
            "48000/48000 [==============================] - 3s 66us/step - loss: 1.2173 - accuracy: 0.5712 - val_loss: 1.2122 - val_accuracy: 0.5763\n",
            "Epoch 46/9999\n",
            "48000/48000 [==============================] - 3s 65us/step - loss: 1.2121 - accuracy: 0.5735 - val_loss: 1.2068 - val_accuracy: 0.5761\n",
            "Epoch 47/9999\n",
            "48000/48000 [==============================] - 3s 67us/step - loss: 1.2068 - accuracy: 0.5753 - val_loss: 1.2011 - val_accuracy: 0.5784\n",
            "Epoch 48/9999\n",
            "48000/48000 [==============================] - 3s 67us/step - loss: 1.2013 - accuracy: 0.5766 - val_loss: 1.1947 - val_accuracy: 0.5817\n",
            "Epoch 49/9999\n",
            "48000/48000 [==============================] - 3s 65us/step - loss: 1.1949 - accuracy: 0.5806 - val_loss: 1.1903 - val_accuracy: 0.5841\n",
            "Epoch 50/9999\n",
            "48000/48000 [==============================] - 3s 66us/step - loss: 1.1905 - accuracy: 0.5818 - val_loss: 1.1864 - val_accuracy: 0.5844\n",
            "Epoch 51/9999\n",
            "48000/48000 [==============================] - 3s 66us/step - loss: 1.1855 - accuracy: 0.5826 - val_loss: 1.1800 - val_accuracy: 0.5893\n",
            "Epoch 52/9999\n",
            "48000/48000 [==============================] - 3s 66us/step - loss: 1.1821 - accuracy: 0.5851 - val_loss: 1.1747 - val_accuracy: 0.5907\n",
            "Epoch 53/9999\n",
            "48000/48000 [==============================] - 3s 66us/step - loss: 1.1758 - accuracy: 0.5881 - val_loss: 1.1713 - val_accuracy: 0.5938\n",
            "Epoch 54/9999\n",
            "48000/48000 [==============================] - 3s 67us/step - loss: 1.1716 - accuracy: 0.5883 - val_loss: 1.1701 - val_accuracy: 0.5893\n"
          ],
          "name": "stdout"
        }
      ]
    },
    {
      "cell_type": "markdown",
      "metadata": {
        "id": "fGT6jV-hcLbJ",
        "colab_type": "text"
      },
      "source": [
        "# Results"
      ]
    },
    {
      "cell_type": "markdown",
      "metadata": {
        "id": "51rnX_l7Pfdr",
        "colab_type": "text"
      },
      "source": [
        "## Accuracy\n",
        "The final accuracy on the test set"
      ]
    },
    {
      "cell_type": "code",
      "metadata": {
        "id": "GwNmmvSFPlVx",
        "colab_type": "code",
        "outputId": "d7fcec3d-0d8c-4d34-c4f9-842c124d7c6a",
        "colab": {
          "base_uri": "https://localhost:8080/",
          "height": 34
        }
      },
      "source": [
        "print(\"Accuracy: \" + str(predict(model, x_test, y_testc)))"
      ],
      "execution_count": 36,
      "outputs": [
        {
          "output_type": "stream",
          "text": [
            "Accuracy: 0.597\n"
          ],
          "name": "stdout"
        }
      ]
    }
  ]
}
