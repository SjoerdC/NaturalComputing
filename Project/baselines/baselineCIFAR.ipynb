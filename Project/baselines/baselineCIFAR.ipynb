{
  "nbformat": 4,
  "nbformat_minor": 0,
  "metadata": {
    "kernelspec": {
      "display_name": "Python 3",
      "language": "python",
      "name": "python3"
    },
    "language_info": {
      "codemirror_mode": {
        "name": "ipython",
        "version": 3
      },
      "file_extension": ".py",
      "mimetype": "text/x-python",
      "name": "python",
      "nbconvert_exporter": "python",
      "pygments_lexer": "ipython3",
      "version": "3.6.10"
    },
    "colab": {
      "name": "baselineCIFAR.ipynb",
      "provenance": [],
      "collapsed_sections": []
    },
    "accelerator": "GPU"
  },
  "cells": [
    {
      "cell_type": "code",
      "metadata": {
        "id": "fde69AMuOpox",
        "colab_type": "code",
        "colab": {}
      },
      "source": [
        "import keras\n",
        "import matplotlib.pyplot as plt\n",
        "from keras.datasets import cifar10\n",
        "from keras.applications.mobilenet import MobileNet\n",
        "from keras.applications.mobilenet import preprocess_input\n",
        "from keras.layers import Dense, Dropout, Flatten, Activation\n",
        "from keras.models import Sequential"
      ],
      "execution_count": 0,
      "outputs": []
    },
    {
      "cell_type": "code",
      "metadata": {
        "id": "qYrab7qpOppj",
        "colab_type": "code",
        "colab": {}
      },
      "source": [
        "batch_size = 64\n",
        "epochs = 15\n",
        "IMAGE_WIDTH = 32\n",
        "IMAGE_HEIGHT = 32\n",
        "NUM_CLASSES = 10"
      ],
      "execution_count": 0,
      "outputs": []
    },
    {
      "cell_type": "code",
      "metadata": {
        "id": "XypdmBJROpp9",
        "colab_type": "code",
        "outputId": "9faa74c7-45f5-4ea9-a520-905750a11919",
        "colab": {
          "base_uri": "https://localhost:8080/",
          "height": 69
        }
      },
      "source": [
        "(x_train, y_train), (x_test, y_test) = cifar10.load_data()\n",
        "print('x_train shape:', x_train.shape)\n",
        "print(x_train.shape[0], 'train samples')\n",
        "print(x_test.shape[0], 'test samples')"
      ],
      "execution_count": 122,
      "outputs": [
        {
          "output_type": "stream",
          "text": [
            "x_train shape: (50000, 32, 32, 3)\n",
            "50000 train samples\n",
            "10000 test samples\n"
          ],
          "name": "stdout"
        }
      ]
    },
    {
      "cell_type": "code",
      "metadata": {
        "id": "2OOdaB1KEKyg",
        "colab_type": "code",
        "colab": {}
      },
      "source": [
        "x_train = preprocess_input(x_train)\n",
        "x_test = preprocess_input(x_test)"
      ],
      "execution_count": 0,
      "outputs": []
    },
    {
      "cell_type": "code",
      "metadata": {
        "id": "mo8yHyg-Opqo",
        "colab_type": "code",
        "colab": {}
      },
      "source": [
        "# Convert class vectors to binary class matrices.\n",
        "y_train = keras.utils.to_categorical(y_train, NUM_CLASSES)\n",
        "y_test = keras.utils.to_categorical(y_test, NUM_CLASSES)"
      ],
      "execution_count": 0,
      "outputs": []
    },
    {
      "cell_type": "code",
      "metadata": {
        "id": "9r9vBTxzOpq9",
        "colab_type": "code",
        "colab": {}
      },
      "source": [
        "conv_base = MobileNet(input_shape = (IMAGE_HEIGHT,IMAGE_WIDTH,3),\n",
        "                         include_top = False, weights = None)"
      ],
      "execution_count": 0,
      "outputs": []
    },
    {
      "cell_type": "code",
      "metadata": {
        "id": "ioKSlRz1OprZ",
        "colab_type": "code",
        "colab": {}
      },
      "source": [
        "conv_base.trainable = True"
      ],
      "execution_count": 0,
      "outputs": []
    },
    {
      "cell_type": "code",
      "metadata": {
        "id": "zLWph6_aOpr2",
        "colab_type": "code",
        "colab": {}
      },
      "source": [
        "model = Sequential()\n",
        "\n",
        "model.add(conv_base)\n",
        "model.add(Dropout(0.2))\n",
        "model.add(Flatten())\n",
        "model.add(Dense(512))\n",
        "model.add(Activation('relu'))\n",
        "model.add(Dense(NUM_CLASSES))\n",
        "model.add(Activation('softmax'))"
      ],
      "execution_count": 0,
      "outputs": []
    },
    {
      "cell_type": "code",
      "metadata": {
        "id": "c8E7fU1eOpsE",
        "colab_type": "code",
        "colab": {}
      },
      "source": [
        "optimizer = keras.optimizers.Adam()"
      ],
      "execution_count": 0,
      "outputs": []
    },
    {
      "cell_type": "code",
      "metadata": {
        "id": "avJI8tzMOpsP",
        "colab_type": "code",
        "colab": {}
      },
      "source": [
        "model.compile(loss='categorical_crossentropy',\n",
        "              optimizer=optimizer,\n",
        "              metrics=['accuracy'])"
      ],
      "execution_count": 0,
      "outputs": []
    },
    {
      "cell_type": "code",
      "metadata": {
        "id": "HjvZqLBJOpsw",
        "colab_type": "code",
        "colab": {
          "base_uri": "https://localhost:8080/",
          "height": 575
        },
        "outputId": "e873e500-1e4f-4d46-d280-3daa6e131968"
      },
      "source": [
        "history = model.fit(x_train,y_train,\n",
        "                  batch_size = batch_size,\n",
        "                  epochs = epochs,\n",
        "                  validation_data = (x_test,y_test),\n",
        "                  shuffle = True)"
      ],
      "execution_count": 131,
      "outputs": [
        {
          "output_type": "stream",
          "text": [
            "Train on 50000 samples, validate on 10000 samples\n",
            "Epoch 1/15\n",
            "50000/50000 [==============================] - 35s 708us/step - loss: 1.8468 - accuracy: 0.3067 - val_loss: 1.6952 - val_accuracy: 0.3775\n",
            "Epoch 2/15\n",
            "50000/50000 [==============================] - 30s 593us/step - loss: 1.4735 - accuracy: 0.4577 - val_loss: 1.4547 - val_accuracy: 0.4885\n",
            "Epoch 3/15\n",
            "50000/50000 [==============================] - 29s 589us/step - loss: 1.2940 - accuracy: 0.5340 - val_loss: 1.4856 - val_accuracy: 0.5038\n",
            "Epoch 4/15\n",
            "50000/50000 [==============================] - 30s 600us/step - loss: 1.1719 - accuracy: 0.5839 - val_loss: 1.3585 - val_accuracy: 0.5519\n",
            "Epoch 5/15\n",
            "50000/50000 [==============================] - 30s 591us/step - loss: 1.0692 - accuracy: 0.6215 - val_loss: 1.1566 - val_accuracy: 0.6139\n",
            "Epoch 6/15\n",
            "50000/50000 [==============================] - 30s 596us/step - loss: 0.9861 - accuracy: 0.6561 - val_loss: 1.1004 - val_accuracy: 0.6294\n",
            "Epoch 7/15\n",
            "50000/50000 [==============================] - 30s 591us/step - loss: 0.9080 - accuracy: 0.6852 - val_loss: 1.0788 - val_accuracy: 0.6445\n",
            "Epoch 8/15\n",
            "50000/50000 [==============================] - 29s 590us/step - loss: 0.8344 - accuracy: 0.7134 - val_loss: 1.0010 - val_accuracy: 0.6763\n",
            "Epoch 9/15\n",
            "50000/50000 [==============================] - 30s 598us/step - loss: 0.7678 - accuracy: 0.7357 - val_loss: 0.9818 - val_accuracy: 0.6881\n",
            "Epoch 10/15\n",
            "50000/50000 [==============================] - 30s 591us/step - loss: 0.6992 - accuracy: 0.7605 - val_loss: 0.9894 - val_accuracy: 0.6921\n",
            "Epoch 11/15\n",
            "50000/50000 [==============================] - 29s 589us/step - loss: 0.6455 - accuracy: 0.7798 - val_loss: 0.9789 - val_accuracy: 0.6960\n",
            "Epoch 12/15\n",
            "50000/50000 [==============================] - 30s 593us/step - loss: 0.5918 - accuracy: 0.7986 - val_loss: 0.9000 - val_accuracy: 0.7099\n",
            "Epoch 13/15\n",
            "50000/50000 [==============================] - 29s 589us/step - loss: 0.5432 - accuracy: 0.8156 - val_loss: 0.9708 - val_accuracy: 0.7058\n",
            "Epoch 14/15\n",
            "50000/50000 [==============================] - 30s 592us/step - loss: 0.4913 - accuracy: 0.8320 - val_loss: 0.9949 - val_accuracy: 0.7071\n",
            "Epoch 15/15\n",
            "50000/50000 [==============================] - 30s 599us/step - loss: 0.4552 - accuracy: 0.8470 - val_loss: 0.9488 - val_accuracy: 0.7098\n"
          ],
          "name": "stdout"
        }
      ]
    },
    {
      "cell_type": "code",
      "metadata": {
        "id": "LNNx7Hlr79l_",
        "colab_type": "code",
        "colab": {
          "base_uri": "https://localhost:8080/",
          "height": 265
        },
        "outputId": "da956b62-eec7-455f-cd66-c44a835bafb8"
      },
      "source": [
        "val_acc = history.history['val_accuracy']\n",
        "\n",
        "plt.plot(range(15),val_acc)\n",
        "plt.show()"
      ],
      "execution_count": 132,
      "outputs": [
        {
          "output_type": "display_data",
          "data": {
            "image/png": "[encoded data removed]",
            "text/plain": [
              "<Figure size 432x288 with 1 Axes>"
            ]
          },
          "metadata": {
            "tags": [],
            "needs_background": "light"
          }
        }
      ]
    },
    {
      "cell_type": "code",
      "metadata": {
        "id": "Q_0DgAinUHaw",
        "colab_type": "code",
        "colab": {
          "base_uri": "https://localhost:8080/",
          "height": 69
        },
        "outputId": "8d3c5fa4-618b-477c-e19e-135bd10b67d4"
      },
      "source": [
        "scores = model.evaluate(x_test, y_test, verbose=1)\n",
        "print('Test loss:', scores[0])\n",
        "print('Test accuracy:', scores[1])"
      ],
      "execution_count": 71,
      "outputs": [
        {
          "output_type": "stream",
          "text": [
            "10000/10000 [==============================] - 2s 244us/step\n",
            "Test loss: 0.9542177631378174\n",
            "Test accuracy: 0.7057999968528748\n"
          ],
          "name": "stdout"
        }
      ]
    }
  ]
}