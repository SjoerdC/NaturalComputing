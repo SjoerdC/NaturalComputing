{
 "cells": [
  {
   "cell_type": "code",
   "execution_count": 1,
   "metadata": {
    "colab": {
     "base_uri": "https://localhost:8080/",
     "height": 34
    },
    "colab_type": "code",
    "id": "fde69AMuOpox",
    "outputId": "bcebe0af-9237-4810-a687-a9dbc2abb57c"
   },
   "outputs": [
    {
     "name": "stderr",
     "output_type": "stream",
     "text": [
      "Using TensorFlow backend.\n"
     ]
    }
   ],
   "source": [
    "import keras\n",
    "import numpy as np\n",
    "import pandas as pd\n",
    "import os\n",
    "import scipy\n",
    "import tensorflow as tf\n",
    "from itertools import count\n",
    "from sklearn.metrics import accuracy_score\n",
    "from keras.datasets import fashion_mnist\n",
    "from keras import layers\n",
    "from keras.layers import Dense, Dropout, Flatten, Activation, Input, Conv2D, MaxPooling2D, BatchNormalization, GlobalAveragePooling2D\n",
    "from keras.models import Model\n",
    "from sklearn.model_selection import train_test_split\n",
    "from keras.callbacks import EarlyStopping, CSVLogger\n",
    "from tqdm import tqdm\n",
    "from IPython.display import clear_output"
   ]
  },
  {
   "cell_type": "code",
   "execution_count": 2,
   "metadata": {
    "colab": {},
    "colab_type": "code",
    "id": "qYrab7qpOppj"
   },
   "outputs": [],
   "source": [
    "BATCH_SIZE = 128\n",
    "EPOCHS = 9999\n",
    "IMAGE_SIZE = 28\n",
    "NUM_CLASSES = 10\n",
    "NUM_CHANNELS = 1\n",
    "MODEL_NAME = \"FashionMNIST_basleine\"\n",
    "PATH = \"\"\n",
    "NR_OF_RUNS = 10"
   ]
  },
  {
   "cell_type": "markdown",
   "metadata": {
    "colab_type": "text",
    "id": "g8QvEt97vF52"
   },
   "source": [
    "# Preprocess"
   ]
  },
  {
   "cell_type": "code",
   "execution_count": 3,
   "metadata": {
    "colab": {},
    "colab_type": "code",
    "id": "JtJIUBsFKeRO"
   },
   "outputs": [],
   "source": [
    "def preprocess(imgs):\n",
    "    \n",
    "    return imgs.reshape(imgs.shape[0], IMAGE_SIZE, IMAGE_SIZE, 1)"
   ]
  },
  {
   "cell_type": "code",
   "execution_count": 4,
   "metadata": {
    "colab": {
     "base_uri": "https://localhost:8080/",
     "height": 68
    },
    "colab_type": "code",
    "id": "XypdmBJROpp9",
    "outputId": "cd4f77d7-561c-4171-cab3-643e8284906b"
   },
   "outputs": [
    {
     "name": "stdout",
     "output_type": "stream",
     "text": [
      "x_train shape: (60000, 28, 28, 1)\n",
      "60000 train samples\n",
      "10000 test samples\n"
     ]
    }
   ],
   "source": [
    "(x_train, y_train), (x_test, y_test) = fashion_mnist.load_data()\n",
    "\n",
    "x_train = preprocess(x_train)\n",
    "x_test = preprocess(x_test)\n",
    "\n",
    "print('x_train shape:', x_train.shape)\n",
    "print(x_train.shape[0], 'train samples')\n",
    "print(x_test.shape[0], 'test samples')"
   ]
  },
  {
   "cell_type": "code",
   "execution_count": 5,
   "metadata": {
    "colab": {},
    "colab_type": "code",
    "id": "mo8yHyg-Opqo"
   },
   "outputs": [],
   "source": [
    "# Convert class vectors to binary class matrices.\n",
    "y_trainc = keras.utils.to_categorical(y_train, NUM_CLASSES)\n",
    "y_testc = keras.utils.to_categorical(y_test, NUM_CLASSES)"
   ]
  },
  {
   "cell_type": "code",
   "execution_count": 6,
   "metadata": {
    "colab": {},
    "colab_type": "code",
    "id": "a4SYRuKZaIwb"
   },
   "outputs": [],
   "source": [
    "x_train_full = x_train.astype('float32')\n",
    "x_test = x_test.astype('float32')\n",
    "x_train_full /= 255\n",
    "x_test /= 255"
   ]
  },
  {
   "cell_type": "markdown",
   "metadata": {
    "colab_type": "text",
    "id": "gIBGIrlkvOt0"
   },
   "source": [
    "# Model"
   ]
  },
  {
   "cell_type": "code",
   "execution_count": 7,
   "metadata": {
    "colab": {},
    "colab_type": "code",
    "id": "zLWph6_aOpr2"
   },
   "outputs": [],
   "source": [
    "def FashionMNISTmodel(imsize, num_classes, num_channels):\n",
    "    inputs = Input((imsize,imsize,num_channels))\n",
    "    x = Conv2D(filters = 32, kernel_size = (3,3), activation = 'relu', strides = 2)(inputs)\n",
    "    x = BatchNormalization()(x)\n",
    "    x = MaxPooling2D(pool_size = (2,2), strides=(2,2), padding = \"same\")(x)\n",
    "    x = Conv2D(filters=32, kernel_size=(1,1), activation='relu', padding='valid')(x)\n",
    "    x = Conv2D(filters = 10, kernel_size = (1,1),strides = (1,1), padding = 'valid')(x)\n",
    "    x = GlobalAveragePooling2D()(x)\n",
    "    outputs = Activation('softmax')(x)\n",
    "    \n",
    "    model = Model(inputs=inputs, outputs=outputs)\n",
    "    \n",
    "    optimizer = keras.optimizers.Adam(learning_rate = 1e-04)\n",
    "\n",
    "    model.compile(loss='categorical_crossentropy',\n",
    "                      optimizer=optimizer,\n",
    "                      metrics=['accuracy'])\n",
    "    return model"
   ]
  },
  {
   "cell_type": "markdown",
   "metadata": {
    "colab_type": "text",
    "id": "TVqdcrD_vQ-Q"
   },
   "source": [
    "# Train"
   ]
  },
  {
   "cell_type": "code",
   "execution_count": null,
   "metadata": {
    "colab": {
     "base_uri": "https://localhost:8080/",
     "height": 1000
    },
    "colab_type": "code",
    "id": "HjvZqLBJOpsw",
    "outputId": "c34da81d-6296-4818-9690-3ae7035f6412"
   },
   "outputs": [
    {
     "name": "stdout",
     "output_type": "stream",
     "text": [
      "\n",
      " ===== Train model: Baseline: Run: 1  =====\n",
      "Train on 48000 samples, validate on 12000 samples\n",
      "Epoch 1/9999\n",
      "48000/48000 [==============================] - 21s 445us/step - loss: 2.1983 - accuracy: 0.2613 - val_loss: 2.2085 - val_accuracy: 0.2043\n",
      "Epoch 2/9999\n",
      "48000/48000 [==============================] - 17s 360us/step - loss: 1.9577 - accuracy: 0.3696 - val_loss: 1.8690 - val_accuracy: 0.3947\n",
      "Epoch 3/9999\n",
      "48000/48000 [==============================] - 19s 403us/step - loss: 1.7185 - accuracy: 0.4585 - val_loss: 1.6077 - val_accuracy: 0.4986\n",
      "Epoch 4/9999\n",
      "22400/48000 [=============>................] - ETA: 8s - loss: 1.5616 - accuracy: 0.5223"
     ]
    }
   ],
   "source": [
    "for run in range(1, NR_OF_RUNS+1):\n",
    "    \n",
    "    # Split the data\n",
    "    x_train, x_val, y_train, y_val = train_test_split(x_train_full, y_trainc, test_size=0.20, shuffle= True)\n",
    "    \n",
    "    models = []\n",
    "    accuracies = []\n",
    "    predictions = []\n",
    "    print(f\"\\n ===== Train model: Baseline: Run: {run}  =====\")\n",
    "        \n",
    "    # Set the seeds\n",
    "    np.random.seed(run*17)\n",
    "    tf.random.set_seed(run*17)\n",
    "\n",
    "    # Create directories\n",
    "    os.makedirs(PATH + MODEL_NAME + f\"/{run}/history\", exist_ok=True)\n",
    "    os.makedirs(PATH + MODEL_NAME + f\"/{run}/weights\", exist_ok=True)\n",
    "        \n",
    "    # weight init method\n",
    "    model = FashionMNISTmodel(IMAGE_SIZE,NUM_CLASSES,NUM_CHANNELS)\n",
    "            \n",
    "    #save weights \n",
    "    weights_path = PATH + MODEL_NAME + f\"/{run}/weights/weights-baseline.h5\"\n",
    "            \n",
    "    if os.path.exists(weights_path):\n",
    "        print(f\"Skipping training of model: weights exists\")\n",
    "        model.load_weights(weights_path)\n",
    "    else:\n",
    "        # initiate early stopping\n",
    "        es = EarlyStopping(patience=15)\n",
    "        csv_logger = CSVLogger(PATH + MODEL_NAME + f\"/{run}/history/history.csv\", separator=';')\n",
    "        # train\n",
    "        model.fit(x_train,y_train,\n",
    "                batch_size = BATCH_SIZE,\n",
    "                epochs = EPOCHS,\n",
    "                validation_data = (x_val,y_val),\n",
    "                shuffle = True,\n",
    "                callbacks=[es, csv_logger])\n",
    "        model.save_weights(weights_path)\n",
    "            \n",
    "    acc = model.evaluate(x_test,y_testc)[1]\n",
    "    print(f\"Run: {run} added. Resulting score: {acc}\")\n",
    "\n",
    "    print(\"\\n ===== Saving results =====\")  \n",
    "    # Save the results\n",
    "    file = PATH + MODEL_NAME + f\"/results_.csv\"\n",
    "    df = pd.DataFrame([[run,acc]])\n",
    "    if not os.path.isfile(file):\n",
    "        df.to_csv(file, header=[\"run\",\"accuracy\"], index=False)\n",
    "    else: # else it exists so append without writing the header\n",
    "        df.to_csv(file, mode='a', header=False, index=False)\n",
    "    clear_output(wait=True)"
   ]
  },
  {
   "cell_type": "code",
   "execution_count": null,
   "metadata": {
    "colab": {
     "base_uri": "https://localhost:8080/",
     "height": 901
    },
    "colab_type": "code",
    "id": "MV--sBbgbTrz",
    "outputId": "5e4f9142-2546-41f0-aa5f-cd4a408b6488"
   },
   "outputs": [],
   "source": [
    "!zip -r /content/FashionMNIST_basleine.zip /content/FashionMNIST_basleine"
   ]
  },
  {
   "cell_type": "code",
   "execution_count": null,
   "metadata": {
    "colab": {},
    "colab_type": "code",
    "id": "GP6kYsnHbTr0"
   },
   "outputs": [],
   "source": []
  }
 ],
 "metadata": {
  "accelerator": "GPU",
  "colab": {
   "collapsed_sections": [],
   "name": "baseline_FashionMNIST.ipynb",
   "provenance": []
  },
  "kernelspec": {
   "display_name": "Python 3",
   "language": "python",
   "name": "python3"
  },
  "language_info": {
   "codemirror_mode": {
    "name": "ipython",
    "version": 3
   },
   "file_extension": ".py",
   "mimetype": "text/x-python",
   "name": "python",
   "nbconvert_exporter": "python",
   "pygments_lexer": "ipython3",
   "version": "3.7.7"
  }
 },
 "nbformat": 4,
 "nbformat_minor": 1
}
