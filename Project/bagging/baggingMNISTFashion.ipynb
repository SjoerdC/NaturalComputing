{
  "nbformat": 4,
  "nbformat_minor": 0,
  "metadata": {
    "accelerator": "GPU",
    "colab": {
      "name": "baggingMNISTFashion.ipynb",
      "provenance": [],
      "collapsed_sections": [],
      "toc_visible": true
    },
    "kernelspec": {
      "display_name": "Python 3",
      "language": "python",
      "name": "python3"
    },
    "language_info": {
      "codemirror_mode": {
        "name": "ipython",
        "version": 3
      },
      "file_extension": ".py",
      "mimetype": "text/x-python",
      "name": "python",
      "nbconvert_exporter": "python",
      "pygments_lexer": "ipython3",
      "version": "3.6.9"
    }
  },
  "cells": [
    {
      "cell_type": "code",
      "metadata": {
        "colab_type": "code",
        "id": "fde69AMuOpox",
        "colab": {}
      },
      "source": [
        "import keras\n",
        "import cv2\n",
        "import numpy as np\n",
        "import pandas as pd\n",
        "import tensorflow as tf\n",
        "from itertools import count\n",
        "from sklearn.metrics import accuracy_score\n",
        "from keras.datasets import fashion_mnist\n",
        "from keras.applications.vgg16 import VGG16\n",
        "from keras.layers import Dense, Dropout, Flatten, Activation, Input, Conv2D, MaxPooling2D, BatchNormalization, GlobalAveragePooling2D\n",
        "from sklearn.model_selection import train_test_split\n",
        "from keras.models import Model\n",
        "from keras.callbacks import EarlyStopping\n",
        "from scipy.stats import pearsonr\n",
        "from tqdm import tqdm"
      ],
      "execution_count": 0,
      "outputs": []
    },
    {
      "cell_type": "code",
      "metadata": {
        "colab_type": "code",
        "id": "qYrab7qpOppj",
        "colab": {}
      },
      "source": [
        "BATCH_SIZE = 128\n",
        "EPOCHS = 9999\n",
        "IMAGE_SIZE = 28\n",
        "NUM_CLASSES = 10\n",
        "MODEL_ADDITION_DELTA = 0.01\n",
        "MODEL_ADDITION_PATIENCE = 3\n",
        "MODEL_NAME = \"MNIST_Fashion_bagging\"\n",
        "PATH = \"\""
      ],
      "execution_count": 0,
      "outputs": []
    },
    {
      "cell_type": "markdown",
      "metadata": {
        "id": "R9M4_-IaBOsn",
        "colab_type": "text"
      },
      "source": [
        "# Set seeds"
      ]
    },
    {
      "cell_type": "code",
      "metadata": {
        "id": "7n9nJGd_BQ-r",
        "colab_type": "code",
        "colab": {}
      },
      "source": [
        "np.random.seed(3)\n",
        "tf.random.set_seed(3)"
      ],
      "execution_count": 0,
      "outputs": []
    },
    {
      "cell_type": "markdown",
      "metadata": {
        "id": "g8QvEt97vF52",
        "colab_type": "text"
      },
      "source": [
        "# Preprocess"
      ]
    },
    {
      "cell_type": "code",
      "metadata": {
        "id": "JtJIUBsFKeRO",
        "colab_type": "code",
        "colab": {}
      },
      "source": [
        "def preprocess(imgs):\n",
        "    \n",
        "    return imgs.reshape(imgs.shape[0], IMAGE_SIZE, IMAGE_SIZE, 1)"
      ],
      "execution_count": 0,
      "outputs": []
    },
    {
      "cell_type": "code",
      "metadata": {
        "colab_type": "code",
        "id": "XypdmBJROpp9",
        "outputId": "5667c565-f147-46ac-f406-4d2cdfa51a47",
        "colab": {
          "base_uri": "https://localhost:8080/",
          "height": 69
        }
      },
      "source": [
        "(x_train, y_train), (x_test, y_test) = fashion_mnist.load_data()\n",
        "\n",
        "x_train = preprocess(x_train)\n",
        "x_test = preprocess(x_test)\n",
        "\n",
        "print('x_train shape:', x_train.shape)\n",
        "print(x_train.shape[0], 'train samples')\n",
        "print(x_test.shape[0], 'test samples')"
      ],
      "execution_count": 0,
      "outputs": [
        {
          "output_type": "stream",
          "text": [
            "x_train shape: (60000, 28, 28, 1)\n",
            "60000 train samples\n",
            "10000 test samples\n"
          ],
          "name": "stdout"
        }
      ]
    },
    {
      "cell_type": "code",
      "metadata": {
        "colab_type": "code",
        "id": "mo8yHyg-Opqo",
        "colab": {}
      },
      "source": [
        "# Convert class vectors to binary class matrices.\n",
        "y_train = keras.utils.to_categorical(y_train, NUM_CLASSES)\n",
        "y_testc = keras.utils.to_categorical(y_test, NUM_CLASSES)"
      ],
      "execution_count": 0,
      "outputs": []
    },
    {
      "cell_type": "code",
      "metadata": {
        "id": "a4SYRuKZaIwb",
        "colab_type": "code",
        "colab": {}
      },
      "source": [
        "x_train = x_train.astype('float32')\n",
        "x_test = x_test.astype('float32')\n",
        "x_train /= 255\n",
        "x_test /= 255"
      ],
      "execution_count": 0,
      "outputs": []
    },
    {
      "cell_type": "code",
      "metadata": {
        "id": "yLQOYIh0OW84",
        "colab_type": "code",
        "colab": {}
      },
      "source": [
        "# Split the data\n",
        "x_train, x_val, y_train, y_val = train_test_split(x_train, y_train, test_size=0.20, shuffle= True)"
      ],
      "execution_count": 0,
      "outputs": []
    },
    {
      "cell_type": "markdown",
      "metadata": {
        "id": "gIBGIrlkvOt0",
        "colab_type": "text"
      },
      "source": [
        "# Model"
      ]
    },
    {
      "cell_type": "code",
      "metadata": {
        "colab_type": "code",
        "id": "zLWph6_aOpr2",
        "colab": {}
      },
      "source": [
        "def FashionMNISTmodel(imsize, num_classes, num_channels):\n",
        "    inputs = Input((imsize,imsize,num_channels))\n",
        "    x = Conv2D(filters = 32, kernel_size = (3,3), activation = 'relu', strides = 2)(inputs)\n",
        "    x = BatchNormalization()(x)\n",
        "    x = MaxPooling2D(pool_size = (2,2), strides=(2,2), padding = \"same\")(x)\n",
        "    x = Conv2D(filters=32, kernel_size=(1,1), activation='relu', padding='valid')(x)\n",
        "    x = Conv2D(filters = 10, kernel_size = (1,1),strides = (1,1), padding = 'valid')(x)\n",
        "    x = GlobalAveragePooling2D()(x)\n",
        "    outputs = Activation('softmax')(x)\n",
        "    \n",
        "    model = Model(inputs=inputs, outputs=outputs)\n",
        "    \n",
        "    optimizer = keras.optimizers.Adam(learning_rate = 1e-04)\n",
        "\n",
        "    model.compile(loss='categorical_crossentropy',\n",
        "                      optimizer=optimizer,\n",
        "                      metrics=['accuracy'])\n",
        "    return model"
      ],
      "execution_count": 0,
      "outputs": []
    },
    {
      "cell_type": "markdown",
      "metadata": {
        "id": "EbiuqESLvTOY",
        "colab_type": "text"
      },
      "source": [
        "# Predict"
      ]
    },
    {
      "cell_type": "code",
      "metadata": {
        "id": "JXFkx19XmqKe",
        "colab_type": "code",
        "colab": {}
      },
      "source": [
        "def predict(models, X, Y):\n",
        "    predictions = []\n",
        "\n",
        "    for m in tqdm(models):\n",
        "        predictions.append(np.argmax(m.predict(X), axis=1))\n",
        "\n",
        "    prediction = np.transpose(predictions)\n",
        "    prediction = np.apply_along_axis(lambda x: np.bincount(x).argmax(), axis=1, arr=prediction)\n",
        "\n",
        "    return accuracy_score(prediction, np.argmax(Y, axis=1))"
      ],
      "execution_count": 0,
      "outputs": []
    },
    {
      "cell_type": "markdown",
      "metadata": {
        "id": "TVqdcrD_vQ-Q",
        "colab_type": "text"
      },
      "source": [
        "# Train"
      ]
    },
    {
      "cell_type": "code",
      "metadata": {
        "colab_type": "code",
        "id": "HjvZqLBJOpsw",
        "outputId": "2a16f072-540a-47ec-b45f-36785ca0e379",
        "colab": {
          "base_uri": "https://localhost:8080/",
          "height": 1000
        }
      },
      "source": [
        "models = []\n",
        "accuracies = [0]\n",
        "patience = 0\n",
        "\n",
        "for i in count(1):\n",
        "\n",
        "    print(f\"Train model {i}\")\n",
        "    idx = np.random.choice(len(x_train), size=len(x_train), replace=True)\n",
        "\n",
        "    x_train_model = x_train[idx]\n",
        "    y_train_model = y_train[idx]\n",
        "\n",
        "    model = FashionMNISTmodel(IMAGE_SIZE, NUM_CLASSES, 1)\n",
        "    \n",
        "    es = EarlyStopping(min_delta=0.01, patience=3)\n",
        "    model.fit(x_train_model,y_train_model,\n",
        "              batch_size = BATCH_SIZE,\n",
        "              epochs = EPOCHS,\n",
        "              validation_data = (x_val,y_val),\n",
        "              shuffle = True,\n",
        "              callbacks=[es])\n",
        "    \n",
        "    model.save_weights(PATH + MODEL_NAME + f\"_weights-{i}.h5\" )\n",
        "    models.append(model)\n",
        "\n",
        "    acc = predict(models, x_val, y_val)\n",
        "    delta = acc - accuracies[-1]\n",
        "\n",
        "    accuracies.append(acc)\n",
        "\n",
        "    if delta >= MODEL_ADDITION_DELTA:\n",
        "      patience = 0\n",
        "    else:\n",
        "      patience += 1\n",
        "\n",
        "    print(f\"Model: {i} added. Resulting score: {acc}, Delta: {delta}, Patience: {patience}\")\n",
        "\n",
        "    if patience >= MODEL_ADDITION_PATIENCE:\n",
        "      break"
      ],
      "execution_count": 0,
      "outputs": [
        {
          "output_type": "stream",
          "text": [
            "Train model 1\n",
            "Train on 48000 samples, validate on 12000 samples\n",
            "Epoch 1/9999\n",
            "48000/48000 [==============================] - 2s 46us/step - loss: 2.2231 - accuracy: 0.2218 - val_loss: 2.2163 - val_accuracy: 0.2464\n",
            "Epoch 2/9999\n",
            "48000/48000 [==============================] - 2s 40us/step - loss: 1.9920 - accuracy: 0.3408 - val_loss: 1.9026 - val_accuracy: 0.3859\n",
            "Epoch 3/9999\n",
            "48000/48000 [==============================] - 2s 41us/step - loss: 1.7712 - accuracy: 0.3977 - val_loss: 1.6812 - val_accuracy: 0.4026\n",
            "Epoch 4/9999\n",
            "48000/48000 [==============================] - 2s 42us/step - loss: 1.5902 - accuracy: 0.4460 - val_loss: 1.5200 - val_accuracy: 0.4755\n",
            "Epoch 5/9999\n",
            "48000/48000 [==============================] - 2s 41us/step - loss: 1.4567 - accuracy: 0.5061 - val_loss: 1.4009 - val_accuracy: 0.5352\n",
            "Epoch 6/9999\n",
            "48000/48000 [==============================] - 2s 41us/step - loss: 1.3559 - accuracy: 0.5501 - val_loss: 1.3171 - val_accuracy: 0.5653\n",
            "Epoch 7/9999\n",
            "48000/48000 [==============================] - 2s 41us/step - loss: 1.2747 - accuracy: 0.5817 - val_loss: 1.2419 - val_accuracy: 0.5928\n",
            "Epoch 8/9999\n",
            "48000/48000 [==============================] - 2s 41us/step - loss: 1.2089 - accuracy: 0.6031 - val_loss: 1.1819 - val_accuracy: 0.6074\n",
            "Epoch 9/9999\n",
            "48000/48000 [==============================] - 2s 42us/step - loss: 1.1538 - accuracy: 0.6188 - val_loss: 1.1331 - val_accuracy: 0.6229\n",
            "Epoch 10/9999\n",
            "48000/48000 [==============================] - 2s 42us/step - loss: 1.1078 - accuracy: 0.6312 - val_loss: 1.0931 - val_accuracy: 0.6357\n",
            "Epoch 11/9999\n",
            "48000/48000 [==============================] - 2s 41us/step - loss: 1.0693 - accuracy: 0.6416 - val_loss: 1.0608 - val_accuracy: 0.6403\n",
            "Epoch 12/9999\n",
            "48000/48000 [==============================] - 2s 40us/step - loss: 1.0373 - accuracy: 0.6501 - val_loss: 1.0288 - val_accuracy: 0.6540\n",
            "Epoch 13/9999\n",
            "48000/48000 [==============================] - 2s 41us/step - loss: 1.0095 - accuracy: 0.6572 - val_loss: 1.0022 - val_accuracy: 0.6623\n",
            "Epoch 14/9999\n",
            "48000/48000 [==============================] - 2s 41us/step - loss: 0.9834 - accuracy: 0.6666 - val_loss: 0.9793 - val_accuracy: 0.6719\n",
            "Epoch 15/9999\n",
            "48000/48000 [==============================] - 2s 41us/step - loss: 0.9601 - accuracy: 0.6739 - val_loss: 0.9598 - val_accuracy: 0.6758\n",
            "Epoch 16/9999\n",
            "48000/48000 [==============================] - 2s 41us/step - loss: 0.9400 - accuracy: 0.6813 - val_loss: 0.9416 - val_accuracy: 0.6797\n",
            "Epoch 17/9999\n",
            "48000/48000 [==============================] - 2s 40us/step - loss: 0.9220 - accuracy: 0.6862 - val_loss: 0.9260 - val_accuracy: 0.6833\n",
            "Epoch 18/9999\n",
            "48000/48000 [==============================] - 2s 40us/step - loss: 0.9048 - accuracy: 0.6922 - val_loss: 0.9089 - val_accuracy: 0.6948\n",
            "Epoch 19/9999\n",
            "48000/48000 [==============================] - 2s 41us/step - loss: 0.8885 - accuracy: 0.6984 - val_loss: 0.8950 - val_accuracy: 0.6977\n",
            "Epoch 20/9999\n",
            "48000/48000 [==============================] - 2s 40us/step - loss: 0.8744 - accuracy: 0.7039 - val_loss: 0.8817 - val_accuracy: 0.7013\n",
            "Epoch 21/9999\n",
            "48000/48000 [==============================] - 2s 41us/step - loss: 0.8604 - accuracy: 0.7085 - val_loss: 0.8675 - val_accuracy: 0.7106\n",
            "Epoch 22/9999\n",
            "48000/48000 [==============================] - 2s 42us/step - loss: 0.8476 - accuracy: 0.7125 - val_loss: 0.8582 - val_accuracy: 0.7122\n",
            "Epoch 23/9999\n",
            "48000/48000 [==============================] - 2s 42us/step - loss: 0.8369 - accuracy: 0.7154 - val_loss: 0.8470 - val_accuracy: 0.7138\n",
            "Epoch 24/9999\n",
            "48000/48000 [==============================] - 2s 43us/step - loss: 0.8246 - accuracy: 0.7216 - val_loss: 0.8373 - val_accuracy: 0.7177\n",
            "Epoch 25/9999\n",
            "48000/48000 [==============================] - 2s 41us/step - loss: 0.8151 - accuracy: 0.7238 - val_loss: 0.8262 - val_accuracy: 0.7223\n",
            "Epoch 26/9999\n",
            "48000/48000 [==============================] - 2s 40us/step - loss: 0.8056 - accuracy: 0.7266 - val_loss: 0.8176 - val_accuracy: 0.7235\n",
            "Epoch 27/9999\n",
            "48000/48000 [==============================] - 2s 40us/step - loss: 0.7982 - accuracy: 0.7296 - val_loss: 0.8100 - val_accuracy: 0.7283\n",
            "Epoch 28/9999\n",
            "48000/48000 [==============================] - 2s 41us/step - loss: 0.7874 - accuracy: 0.7334 - val_loss: 0.8003 - val_accuracy: 0.7306\n",
            "Epoch 29/9999\n",
            "48000/48000 [==============================] - 2s 41us/step - loss: 0.7802 - accuracy: 0.7353 - val_loss: 0.7957 - val_accuracy: 0.7309\n",
            "Epoch 30/9999\n",
            "48000/48000 [==============================] - 2s 40us/step - loss: 0.7714 - accuracy: 0.7379 - val_loss: 0.7864 - val_accuracy: 0.7331\n",
            "Epoch 31/9999\n",
            "48000/48000 [==============================] - 2s 42us/step - loss: 0.7641 - accuracy: 0.7400 - val_loss: 0.7797 - val_accuracy: 0.7387\n",
            "Epoch 32/9999\n",
            "48000/48000 [==============================] - 2s 40us/step - loss: 0.7582 - accuracy: 0.7421 - val_loss: 0.7728 - val_accuracy: 0.7398\n",
            "Epoch 33/9999\n",
            "48000/48000 [==============================] - 2s 41us/step - loss: 0.7520 - accuracy: 0.7449 - val_loss: 0.7674 - val_accuracy: 0.7409\n",
            "Epoch 34/9999\n",
            "48000/48000 [==============================] - 2s 42us/step - loss: 0.7448 - accuracy: 0.7469 - val_loss: 0.7604 - val_accuracy: 0.7448\n",
            "Epoch 35/9999\n",
            "48000/48000 [==============================] - 2s 41us/step - loss: 0.7390 - accuracy: 0.7486 - val_loss: 0.7553 - val_accuracy: 0.7467\n",
            "Epoch 36/9999\n",
            "48000/48000 [==============================] - 2s 41us/step - loss: 0.7333 - accuracy: 0.7515 - val_loss: 0.7505 - val_accuracy: 0.7468\n",
            "Epoch 37/9999\n",
            "48000/48000 [==============================] - 2s 41us/step - loss: 0.7275 - accuracy: 0.7534 - val_loss: 0.7460 - val_accuracy: 0.7459\n",
            "Epoch 38/9999\n",
            "48000/48000 [==============================] - 2s 41us/step - loss: 0.7230 - accuracy: 0.7543 - val_loss: 0.7406 - val_accuracy: 0.7473\n",
            "Epoch 39/9999\n",
            "48000/48000 [==============================] - 2s 41us/step - loss: 0.7183 - accuracy: 0.7565 - val_loss: 0.7366 - val_accuracy: 0.7527\n",
            "Epoch 40/9999\n",
            "48000/48000 [==============================] - 2s 40us/step - loss: 0.7139 - accuracy: 0.7570 - val_loss: 0.7311 - val_accuracy: 0.7540\n",
            "Epoch 41/9999\n",
            "48000/48000 [==============================] - 2s 40us/step - loss: 0.7084 - accuracy: 0.7601 - val_loss: 0.7256 - val_accuracy: 0.7533\n",
            "Epoch 42/9999\n",
            "48000/48000 [==============================] - 2s 40us/step - loss: 0.7048 - accuracy: 0.7595 - val_loss: 0.7235 - val_accuracy: 0.7511\n",
            "Epoch 43/9999\n",
            "48000/48000 [==============================] - 2s 40us/step - loss: 0.7008 - accuracy: 0.7605 - val_loss: 0.7185 - val_accuracy: 0.7575\n",
            "Epoch 44/9999\n",
            "48000/48000 [==============================] - 2s 41us/step - loss: 0.6966 - accuracy: 0.7632 - val_loss: 0.7139 - val_accuracy: 0.7583\n",
            "Epoch 45/9999\n",
            "48000/48000 [==============================] - 2s 42us/step - loss: 0.6932 - accuracy: 0.7638 - val_loss: 0.7102 - val_accuracy: 0.7599\n",
            "Epoch 46/9999\n",
            "48000/48000 [==============================] - 2s 42us/step - loss: 0.6898 - accuracy: 0.7646 - val_loss: 0.7067 - val_accuracy: 0.7588\n",
            "Epoch 47/9999\n",
            "48000/48000 [==============================] - 2s 41us/step - loss: 0.6858 - accuracy: 0.7676 - val_loss: 0.7036 - val_accuracy: 0.7617\n",
            "Epoch 48/9999\n",
            "48000/48000 [==============================] - 2s 41us/step - loss: 0.6819 - accuracy: 0.7666 - val_loss: 0.6993 - val_accuracy: 0.7617\n",
            "Epoch 49/9999\n",
            "48000/48000 [==============================] - 2s 43us/step - loss: 0.6787 - accuracy: 0.7683 - val_loss: 0.6962 - val_accuracy: 0.7646\n",
            "Epoch 50/9999\n",
            "48000/48000 [==============================] - 2s 41us/step - loss: 0.6759 - accuracy: 0.7687 - val_loss: 0.6935 - val_accuracy: 0.7645\n",
            "Epoch 51/9999\n",
            "48000/48000 [==============================] - 2s 41us/step - loss: 0.6728 - accuracy: 0.7703 - val_loss: 0.6931 - val_accuracy: 0.7621\n",
            "Epoch 52/9999\n",
            "48000/48000 [==============================] - 2s 41us/step - loss: 0.6700 - accuracy: 0.7714 - val_loss: 0.6885 - val_accuracy: 0.7662\n",
            "Epoch 53/9999\n",
            "48000/48000 [==============================] - 2s 40us/step - loss: 0.6681 - accuracy: 0.7717 - val_loss: 0.6861 - val_accuracy: 0.7664\n"
          ],
          "name": "stdout"
        },
        {
          "output_type": "stream",
          "text": [
            "100%|██████████| 1/1 [00:00<00:00,  2.11it/s]\n"
          ],
          "name": "stderr"
        },
        {
          "output_type": "stream",
          "text": [
            "Model: 1 added. Resulting score: 0.7664166666666666, Delta: 0.7664166666666666, Patience: 0\n",
            "Train model 2\n",
            "Train on 48000 samples, validate on 12000 samples\n",
            "Epoch 1/9999\n",
            "48000/48000 [==============================] - 2s 46us/step - loss: 2.1596 - accuracy: 0.2209 - val_loss: 2.1894 - val_accuracy: 0.2954\n",
            "Epoch 2/9999\n",
            "48000/48000 [==============================] - 2s 41us/step - loss: 1.9184 - accuracy: 0.3455 - val_loss: 1.8189 - val_accuracy: 0.4348\n",
            "Epoch 3/9999\n",
            "48000/48000 [==============================] - 2s 42us/step - loss: 1.6758 - accuracy: 0.4769 - val_loss: 1.5672 - val_accuracy: 0.5063\n",
            "Epoch 4/9999\n",
            "48000/48000 [==============================] - 2s 40us/step - loss: 1.4812 - accuracy: 0.5471 - val_loss: 1.4010 - val_accuracy: 0.5558\n",
            "Epoch 5/9999\n",
            "48000/48000 [==============================] - 2s 41us/step - loss: 1.3437 - accuracy: 0.5831 - val_loss: 1.2902 - val_accuracy: 0.5922\n",
            "Epoch 6/9999\n",
            "48000/48000 [==============================] - 2s 41us/step - loss: 1.2500 - accuracy: 0.6024 - val_loss: 1.2071 - val_accuracy: 0.6198\n",
            "Epoch 7/9999\n",
            "48000/48000 [==============================] - 2s 41us/step - loss: 1.1803 - accuracy: 0.6190 - val_loss: 1.1484 - val_accuracy: 0.6285\n",
            "Epoch 8/9999\n",
            "48000/48000 [==============================] - 2s 40us/step - loss: 1.1277 - accuracy: 0.6277 - val_loss: 1.1039 - val_accuracy: 0.6401\n",
            "Epoch 9/9999\n",
            "48000/48000 [==============================] - 2s 40us/step - loss: 1.0861 - accuracy: 0.6384 - val_loss: 1.0681 - val_accuracy: 0.6466\n",
            "Epoch 10/9999\n",
            "48000/48000 [==============================] - 2s 41us/step - loss: 1.0539 - accuracy: 0.6447 - val_loss: 1.0383 - val_accuracy: 0.6584\n",
            "Epoch 11/9999\n",
            "48000/48000 [==============================] - 2s 41us/step - loss: 1.0253 - accuracy: 0.6526 - val_loss: 1.0128 - val_accuracy: 0.6605\n",
            "Epoch 12/9999\n",
            "48000/48000 [==============================] - 2s 42us/step - loss: 1.0016 - accuracy: 0.6595 - val_loss: 0.9931 - val_accuracy: 0.6646\n",
            "Epoch 13/9999\n",
            "48000/48000 [==============================] - 2s 43us/step - loss: 0.9800 - accuracy: 0.6654 - val_loss: 0.9694 - val_accuracy: 0.6790\n",
            "Epoch 14/9999\n",
            "48000/48000 [==============================] - 2s 40us/step - loss: 0.9599 - accuracy: 0.6722 - val_loss: 0.9516 - val_accuracy: 0.6827\n",
            "Epoch 15/9999\n",
            "48000/48000 [==============================] - 2s 41us/step - loss: 0.9422 - accuracy: 0.6789 - val_loss: 0.9382 - val_accuracy: 0.6859\n",
            "Epoch 16/9999\n",
            "48000/48000 [==============================] - 2s 41us/step - loss: 0.9261 - accuracy: 0.6846 - val_loss: 0.9233 - val_accuracy: 0.6892\n",
            "Epoch 17/9999\n",
            "48000/48000 [==============================] - 2s 41us/step - loss: 0.9128 - accuracy: 0.6888 - val_loss: 0.9065 - val_accuracy: 0.7010\n",
            "Epoch 18/9999\n",
            "48000/48000 [==============================] - 2s 41us/step - loss: 0.8988 - accuracy: 0.6942 - val_loss: 0.8934 - val_accuracy: 0.7026\n",
            "Epoch 19/9999\n",
            "48000/48000 [==============================] - 2s 41us/step - loss: 0.8858 - accuracy: 0.6986 - val_loss: 0.8817 - val_accuracy: 0.7070\n",
            "Epoch 20/9999\n",
            "48000/48000 [==============================] - 2s 42us/step - loss: 0.8739 - accuracy: 0.7033 - val_loss: 0.8688 - val_accuracy: 0.7126\n",
            "Epoch 21/9999\n",
            "48000/48000 [==============================] - 2s 43us/step - loss: 0.8612 - accuracy: 0.7082 - val_loss: 0.8588 - val_accuracy: 0.7122\n",
            "Epoch 22/9999\n",
            "48000/48000 [==============================] - 2s 42us/step - loss: 0.8496 - accuracy: 0.7125 - val_loss: 0.8476 - val_accuracy: 0.7184\n",
            "Epoch 23/9999\n",
            "48000/48000 [==============================] - 2s 42us/step - loss: 0.8391 - accuracy: 0.7163 - val_loss: 0.8381 - val_accuracy: 0.7220\n",
            "Epoch 24/9999\n",
            "48000/48000 [==============================] - 2s 42us/step - loss: 0.8293 - accuracy: 0.7200 - val_loss: 0.8282 - val_accuracy: 0.7246\n",
            "Epoch 25/9999\n",
            "48000/48000 [==============================] - 2s 41us/step - loss: 0.8192 - accuracy: 0.7251 - val_loss: 0.8176 - val_accuracy: 0.7324\n",
            "Epoch 26/9999\n",
            "48000/48000 [==============================] - 2s 43us/step - loss: 0.8089 - accuracy: 0.7268 - val_loss: 0.8090 - val_accuracy: 0.7335\n",
            "Epoch 27/9999\n",
            "48000/48000 [==============================] - 2s 42us/step - loss: 0.7997 - accuracy: 0.7311 - val_loss: 0.8008 - val_accuracy: 0.7358\n",
            "Epoch 28/9999\n",
            "48000/48000 [==============================] - 2s 41us/step - loss: 0.7914 - accuracy: 0.7339 - val_loss: 0.7908 - val_accuracy: 0.7403\n",
            "Epoch 29/9999\n",
            "48000/48000 [==============================] - 2s 41us/step - loss: 0.7843 - accuracy: 0.7361 - val_loss: 0.7894 - val_accuracy: 0.7360\n",
            "Epoch 30/9999\n",
            "48000/48000 [==============================] - 2s 43us/step - loss: 0.7749 - accuracy: 0.7400 - val_loss: 0.7758 - val_accuracy: 0.7451\n",
            "Epoch 31/9999\n",
            "48000/48000 [==============================] - 2s 42us/step - loss: 0.7677 - accuracy: 0.7424 - val_loss: 0.7693 - val_accuracy: 0.7471\n",
            "Epoch 32/9999\n",
            "48000/48000 [==============================] - 2s 42us/step - loss: 0.7616 - accuracy: 0.7434 - val_loss: 0.7640 - val_accuracy: 0.7467\n",
            "Epoch 33/9999\n",
            "48000/48000 [==============================] - 2s 41us/step - loss: 0.7537 - accuracy: 0.7461 - val_loss: 0.7564 - val_accuracy: 0.7511\n",
            "Epoch 34/9999\n",
            "48000/48000 [==============================] - 2s 41us/step - loss: 0.7492 - accuracy: 0.7485 - val_loss: 0.7525 - val_accuracy: 0.7518\n",
            "Epoch 35/9999\n",
            "48000/48000 [==============================] - 2s 43us/step - loss: 0.7429 - accuracy: 0.7499 - val_loss: 0.7460 - val_accuracy: 0.7542\n",
            "Epoch 36/9999\n",
            "48000/48000 [==============================] - 2s 43us/step - loss: 0.7379 - accuracy: 0.7517 - val_loss: 0.7399 - val_accuracy: 0.7548\n",
            "Epoch 37/9999\n",
            "48000/48000 [==============================] - 2s 41us/step - loss: 0.7308 - accuracy: 0.7540 - val_loss: 0.7364 - val_accuracy: 0.7581\n",
            "Epoch 38/9999\n",
            "48000/48000 [==============================] - 2s 41us/step - loss: 0.7268 - accuracy: 0.7546 - val_loss: 0.7312 - val_accuracy: 0.7601\n",
            "Epoch 39/9999\n",
            "48000/48000 [==============================] - 2s 41us/step - loss: 0.7220 - accuracy: 0.7561 - val_loss: 0.7256 - val_accuracy: 0.7596\n",
            "Epoch 40/9999\n",
            "48000/48000 [==============================] - 2s 43us/step - loss: 0.7163 - accuracy: 0.7585 - val_loss: 0.7203 - val_accuracy: 0.7633\n",
            "Epoch 41/9999\n",
            "48000/48000 [==============================] - 2s 44us/step - loss: 0.7133 - accuracy: 0.7593 - val_loss: 0.7179 - val_accuracy: 0.7636\n",
            "Epoch 42/9999\n",
            "48000/48000 [==============================] - 2s 44us/step - loss: 0.7086 - accuracy: 0.7610 - val_loss: 0.7124 - val_accuracy: 0.7640\n",
            "Epoch 43/9999\n",
            "48000/48000 [==============================] - 2s 43us/step - loss: 0.7042 - accuracy: 0.7620 - val_loss: 0.7089 - val_accuracy: 0.7637\n",
            "Epoch 44/9999\n",
            "48000/48000 [==============================] - 2s 43us/step - loss: 0.7006 - accuracy: 0.7624 - val_loss: 0.7059 - val_accuracy: 0.7665\n",
            "Epoch 45/9999\n",
            "48000/48000 [==============================] - 2s 41us/step - loss: 0.6967 - accuracy: 0.7649 - val_loss: 0.7015 - val_accuracy: 0.7680\n",
            "Epoch 46/9999\n",
            "48000/48000 [==============================] - 2s 41us/step - loss: 0.6930 - accuracy: 0.7648 - val_loss: 0.6971 - val_accuracy: 0.7679\n",
            "Epoch 47/9999\n",
            "48000/48000 [==============================] - 2s 41us/step - loss: 0.6899 - accuracy: 0.7661 - val_loss: 0.6966 - val_accuracy: 0.7657\n",
            "Epoch 48/9999\n",
            "48000/48000 [==============================] - 2s 42us/step - loss: 0.6858 - accuracy: 0.7665 - val_loss: 0.6902 - val_accuracy: 0.7702\n",
            "Epoch 49/9999\n",
            "48000/48000 [==============================] - 2s 41us/step - loss: 0.6816 - accuracy: 0.7683 - val_loss: 0.6896 - val_accuracy: 0.7692\n",
            "Epoch 50/9999\n",
            "48000/48000 [==============================] - 2s 41us/step - loss: 0.6781 - accuracy: 0.7704 - val_loss: 0.6834 - val_accuracy: 0.7714\n",
            "Epoch 51/9999\n",
            "48000/48000 [==============================] - 2s 41us/step - loss: 0.6756 - accuracy: 0.7708 - val_loss: 0.6795 - val_accuracy: 0.7726\n",
            "Epoch 52/9999\n",
            "48000/48000 [==============================] - 2s 42us/step - loss: 0.6722 - accuracy: 0.7711 - val_loss: 0.6767 - val_accuracy: 0.7735\n",
            "Epoch 53/9999\n",
            "48000/48000 [==============================] - 2s 44us/step - loss: 0.6694 - accuracy: 0.7724 - val_loss: 0.6740 - val_accuracy: 0.7746\n",
            "Epoch 54/9999\n",
            "48000/48000 [==============================] - 2s 42us/step - loss: 0.6667 - accuracy: 0.7733 - val_loss: 0.6735 - val_accuracy: 0.7734\n"
          ],
          "name": "stdout"
        },
        {
          "output_type": "stream",
          "text": [
            "100%|██████████| 2/2 [00:00<00:00,  2.22it/s]\n"
          ],
          "name": "stderr"
        },
        {
          "output_type": "stream",
          "text": [
            "Model: 2 added. Resulting score: 0.76775, Delta: 0.0013333333333334085, Patience: 1\n",
            "Train model 3\n",
            "Train on 48000 samples, validate on 12000 samples\n",
            "Epoch 1/9999\n",
            "48000/48000 [==============================] - 2s 46us/step - loss: 2.1666 - accuracy: 0.2370 - val_loss: 2.1927 - val_accuracy: 0.2992\n",
            "Epoch 2/9999\n",
            "48000/48000 [==============================] - 2s 40us/step - loss: 1.9106 - accuracy: 0.3816 - val_loss: 1.8120 - val_accuracy: 0.4329\n",
            "Epoch 3/9999\n",
            "48000/48000 [==============================] - 2s 41us/step - loss: 1.6930 - accuracy: 0.4589 - val_loss: 1.5983 - val_accuracy: 0.4793\n",
            "Epoch 4/9999\n",
            "48000/48000 [==============================] - 2s 41us/step - loss: 1.5278 - accuracy: 0.5086 - val_loss: 1.4563 - val_accuracy: 0.5416\n",
            "Epoch 5/9999\n",
            "48000/48000 [==============================] - 2s 41us/step - loss: 1.4053 - accuracy: 0.5560 - val_loss: 1.3518 - val_accuracy: 0.5782\n",
            "Epoch 6/9999\n",
            "48000/48000 [==============================] - 2s 42us/step - loss: 1.3127 - accuracy: 0.5896 - val_loss: 1.2709 - val_accuracy: 0.6090\n",
            "Epoch 7/9999\n",
            "48000/48000 [==============================] - 2s 41us/step - loss: 1.2402 - accuracy: 0.6118 - val_loss: 1.2074 - val_accuracy: 0.6242\n",
            "Epoch 8/9999\n",
            "48000/48000 [==============================] - 2s 41us/step - loss: 1.1803 - accuracy: 0.6295 - val_loss: 1.1527 - val_accuracy: 0.6398\n",
            "Epoch 9/9999\n",
            "48000/48000 [==============================] - 2s 41us/step - loss: 1.1307 - accuracy: 0.6435 - val_loss: 1.1084 - val_accuracy: 0.6511\n",
            "Epoch 10/9999\n",
            "48000/48000 [==============================] - 2s 40us/step - loss: 1.0890 - accuracy: 0.6536 - val_loss: 1.0713 - val_accuracy: 0.6632\n",
            "Epoch 11/9999\n",
            "48000/48000 [==============================] - 2s 41us/step - loss: 1.0540 - accuracy: 0.6624 - val_loss: 1.0398 - val_accuracy: 0.6671\n",
            "Epoch 12/9999\n",
            "48000/48000 [==============================] - 2s 40us/step - loss: 1.0247 - accuracy: 0.6701 - val_loss: 1.0119 - val_accuracy: 0.6736\n",
            "Epoch 13/9999\n",
            "48000/48000 [==============================] - 2s 41us/step - loss: 0.9980 - accuracy: 0.6755 - val_loss: 0.9888 - val_accuracy: 0.6848\n",
            "Epoch 14/9999\n",
            "48000/48000 [==============================] - 2s 41us/step - loss: 0.9742 - accuracy: 0.6821 - val_loss: 0.9674 - val_accuracy: 0.6911\n",
            "Epoch 15/9999\n",
            "48000/48000 [==============================] - 2s 40us/step - loss: 0.9530 - accuracy: 0.6900 - val_loss: 0.9465 - val_accuracy: 0.6949\n",
            "Epoch 16/9999\n",
            "48000/48000 [==============================] - 2s 42us/step - loss: 0.9338 - accuracy: 0.6951 - val_loss: 0.9283 - val_accuracy: 0.7020\n",
            "Epoch 17/9999\n",
            "48000/48000 [==============================] - 2s 41us/step - loss: 0.9160 - accuracy: 0.7003 - val_loss: 0.9127 - val_accuracy: 0.7027\n",
            "Epoch 18/9999\n",
            "48000/48000 [==============================] - 2s 42us/step - loss: 0.8993 - accuracy: 0.7049 - val_loss: 0.8974 - val_accuracy: 0.7070\n",
            "Epoch 19/9999\n",
            "48000/48000 [==============================] - 2s 41us/step - loss: 0.8846 - accuracy: 0.7094 - val_loss: 0.8830 - val_accuracy: 0.7137\n",
            "Epoch 20/9999\n",
            "48000/48000 [==============================] - 2s 41us/step - loss: 0.8704 - accuracy: 0.7143 - val_loss: 0.8690 - val_accuracy: 0.7159\n",
            "Epoch 21/9999\n",
            "48000/48000 [==============================] - 2s 40us/step - loss: 0.8575 - accuracy: 0.7161 - val_loss: 0.8576 - val_accuracy: 0.7225\n",
            "Epoch 22/9999\n",
            "48000/48000 [==============================] - 2s 40us/step - loss: 0.8450 - accuracy: 0.7224 - val_loss: 0.8457 - val_accuracy: 0.7243\n",
            "Epoch 23/9999\n",
            "48000/48000 [==============================] - 2s 41us/step - loss: 0.8347 - accuracy: 0.7240 - val_loss: 0.8366 - val_accuracy: 0.7270\n",
            "Epoch 24/9999\n",
            "48000/48000 [==============================] - 2s 41us/step - loss: 0.8232 - accuracy: 0.7281 - val_loss: 0.8251 - val_accuracy: 0.7306\n",
            "Epoch 25/9999\n",
            "48000/48000 [==============================] - 2s 40us/step - loss: 0.8135 - accuracy: 0.7301 - val_loss: 0.8158 - val_accuracy: 0.7326\n",
            "Epoch 26/9999\n",
            "48000/48000 [==============================] - 2s 40us/step - loss: 0.8038 - accuracy: 0.7330 - val_loss: 0.8069 - val_accuracy: 0.7352\n",
            "Epoch 27/9999\n",
            "48000/48000 [==============================] - 2s 41us/step - loss: 0.7953 - accuracy: 0.7355 - val_loss: 0.7979 - val_accuracy: 0.7383\n",
            "Epoch 28/9999\n",
            "48000/48000 [==============================] - 2s 41us/step - loss: 0.7870 - accuracy: 0.7387 - val_loss: 0.7911 - val_accuracy: 0.7406\n",
            "Epoch 29/9999\n",
            "48000/48000 [==============================] - 2s 41us/step - loss: 0.7800 - accuracy: 0.7410 - val_loss: 0.7854 - val_accuracy: 0.7386\n",
            "Epoch 30/9999\n",
            "48000/48000 [==============================] - 2s 40us/step - loss: 0.7714 - accuracy: 0.7427 - val_loss: 0.7762 - val_accuracy: 0.7423\n",
            "Epoch 31/9999\n",
            "48000/48000 [==============================] - 2s 40us/step - loss: 0.7648 - accuracy: 0.7457 - val_loss: 0.7703 - val_accuracy: 0.7452\n",
            "Epoch 32/9999\n",
            "48000/48000 [==============================] - 2s 40us/step - loss: 0.7574 - accuracy: 0.7474 - val_loss: 0.7643 - val_accuracy: 0.7483\n",
            "Epoch 33/9999\n",
            "48000/48000 [==============================] - 2s 40us/step - loss: 0.7516 - accuracy: 0.7498 - val_loss: 0.7575 - val_accuracy: 0.7477\n",
            "Epoch 34/9999\n",
            "48000/48000 [==============================] - 2s 42us/step - loss: 0.7457 - accuracy: 0.7514 - val_loss: 0.7525 - val_accuracy: 0.7495\n",
            "Epoch 35/9999\n",
            "48000/48000 [==============================] - 2s 40us/step - loss: 0.7404 - accuracy: 0.7525 - val_loss: 0.7473 - val_accuracy: 0.7511\n",
            "Epoch 36/9999\n",
            "48000/48000 [==============================] - 2s 40us/step - loss: 0.7352 - accuracy: 0.7533 - val_loss: 0.7440 - val_accuracy: 0.7507\n",
            "Epoch 37/9999\n",
            "48000/48000 [==============================] - 2s 39us/step - loss: 0.7297 - accuracy: 0.7548 - val_loss: 0.7395 - val_accuracy: 0.7505\n",
            "Epoch 38/9999\n",
            "48000/48000 [==============================] - 2s 39us/step - loss: 0.7256 - accuracy: 0.7575 - val_loss: 0.7326 - val_accuracy: 0.7539\n",
            "Epoch 39/9999\n",
            "48000/48000 [==============================] - 2s 40us/step - loss: 0.7209 - accuracy: 0.7564 - val_loss: 0.7298 - val_accuracy: 0.7536\n",
            "Epoch 40/9999\n",
            "48000/48000 [==============================] - 2s 40us/step - loss: 0.7179 - accuracy: 0.7584 - val_loss: 0.7248 - val_accuracy: 0.7563\n",
            "Epoch 41/9999\n",
            "48000/48000 [==============================] - 2s 40us/step - loss: 0.7126 - accuracy: 0.7605 - val_loss: 0.7205 - val_accuracy: 0.7570\n",
            "Epoch 42/9999\n",
            "48000/48000 [==============================] - 2s 40us/step - loss: 0.7086 - accuracy: 0.7616 - val_loss: 0.7167 - val_accuracy: 0.7575\n",
            "Epoch 43/9999\n",
            "48000/48000 [==============================] - 2s 40us/step - loss: 0.7046 - accuracy: 0.7625 - val_loss: 0.7145 - val_accuracy: 0.7567\n",
            "Epoch 44/9999\n",
            "48000/48000 [==============================] - 2s 40us/step - loss: 0.7010 - accuracy: 0.7638 - val_loss: 0.7101 - val_accuracy: 0.7597\n",
            "Epoch 45/9999\n",
            "48000/48000 [==============================] - 2s 40us/step - loss: 0.6985 - accuracy: 0.7649 - val_loss: 0.7071 - val_accuracy: 0.7592\n",
            "Epoch 46/9999\n",
            "48000/48000 [==============================] - 2s 40us/step - loss: 0.6957 - accuracy: 0.7650 - val_loss: 0.7041 - val_accuracy: 0.7613\n",
            "Epoch 47/9999\n",
            "48000/48000 [==============================] - 2s 41us/step - loss: 0.6918 - accuracy: 0.7659 - val_loss: 0.7018 - val_accuracy: 0.7628\n",
            "Epoch 48/9999\n",
            "48000/48000 [==============================] - 2s 40us/step - loss: 0.6883 - accuracy: 0.7675 - val_loss: 0.6970 - val_accuracy: 0.7632\n",
            "Epoch 49/9999\n",
            "48000/48000 [==============================] - 2s 41us/step - loss: 0.6857 - accuracy: 0.7680 - val_loss: 0.6943 - val_accuracy: 0.7636\n"
          ],
          "name": "stdout"
        },
        {
          "output_type": "stream",
          "text": [
            "100%|██████████| 3/3 [00:01<00:00,  2.32it/s]\n"
          ],
          "name": "stderr"
        },
        {
          "output_type": "stream",
          "text": [
            "Model: 3 added. Resulting score: 0.7751666666666667, Delta: 0.007416666666666627, Patience: 2\n",
            "Train model 4\n",
            "Train on 48000 samples, validate on 12000 samples\n",
            "Epoch 1/9999\n",
            "48000/48000 [==============================] - 2s 46us/step - loss: 2.1957 - accuracy: 0.2355 - val_loss: 2.1877 - val_accuracy: 0.2937\n",
            "Epoch 2/9999\n",
            "48000/48000 [==============================] - 2s 41us/step - loss: 1.9150 - accuracy: 0.3643 - val_loss: 1.8133 - val_accuracy: 0.4236\n",
            "Epoch 3/9999\n",
            "48000/48000 [==============================] - 2s 39us/step - loss: 1.7006 - accuracy: 0.4357 - val_loss: 1.6097 - val_accuracy: 0.4710\n",
            "Epoch 4/9999\n",
            "48000/48000 [==============================] - 2s 40us/step - loss: 1.5437 - accuracy: 0.4937 - val_loss: 1.4770 - val_accuracy: 0.5139\n",
            "Epoch 5/9999\n",
            "48000/48000 [==============================] - 2s 40us/step - loss: 1.4284 - accuracy: 0.5379 - val_loss: 1.3779 - val_accuracy: 0.5538\n",
            "Epoch 6/9999\n",
            "48000/48000 [==============================] - 2s 41us/step - loss: 1.3412 - accuracy: 0.5710 - val_loss: 1.3036 - val_accuracy: 0.5810\n",
            "Epoch 7/9999\n",
            "48000/48000 [==============================] - 2s 40us/step - loss: 1.2718 - accuracy: 0.5902 - val_loss: 1.2401 - val_accuracy: 0.6043\n",
            "Epoch 8/9999\n",
            "48000/48000 [==============================] - 2s 39us/step - loss: 1.2152 - accuracy: 0.6065 - val_loss: 1.1884 - val_accuracy: 0.6143\n",
            "Epoch 9/9999\n",
            "48000/48000 [==============================] - 2s 41us/step - loss: 1.1666 - accuracy: 0.6202 - val_loss: 1.1453 - val_accuracy: 0.6269\n",
            "Epoch 10/9999\n",
            "48000/48000 [==============================] - 2s 40us/step - loss: 1.1253 - accuracy: 0.6296 - val_loss: 1.1065 - val_accuracy: 0.6351\n",
            "Epoch 11/9999\n",
            "48000/48000 [==============================] - 2s 40us/step - loss: 1.0892 - accuracy: 0.6383 - val_loss: 1.0735 - val_accuracy: 0.6435\n",
            "Epoch 12/9999\n",
            "48000/48000 [==============================] - 2s 39us/step - loss: 1.0577 - accuracy: 0.6465 - val_loss: 1.0439 - val_accuracy: 0.6530\n",
            "Epoch 13/9999\n",
            "48000/48000 [==============================] - 2s 39us/step - loss: 1.0286 - accuracy: 0.6556 - val_loss: 1.0227 - val_accuracy: 0.6567\n",
            "Epoch 14/9999\n",
            "48000/48000 [==============================] - 2s 40us/step - loss: 1.0037 - accuracy: 0.6631 - val_loss: 0.9974 - val_accuracy: 0.6646\n",
            "Epoch 15/9999\n",
            "48000/48000 [==============================] - 2s 40us/step - loss: 0.9819 - accuracy: 0.6671 - val_loss: 0.9752 - val_accuracy: 0.6733\n",
            "Epoch 16/9999\n",
            "48000/48000 [==============================] - 2s 39us/step - loss: 0.9612 - accuracy: 0.6734 - val_loss: 0.9578 - val_accuracy: 0.6783\n",
            "Epoch 17/9999\n",
            "48000/48000 [==============================] - 2s 40us/step - loss: 0.9441 - accuracy: 0.6808 - val_loss: 0.9409 - val_accuracy: 0.6817\n",
            "Epoch 18/9999\n",
            "48000/48000 [==============================] - 2s 42us/step - loss: 0.9273 - accuracy: 0.6843 - val_loss: 0.9271 - val_accuracy: 0.6848\n",
            "Epoch 19/9999\n",
            "48000/48000 [==============================] - 2s 42us/step - loss: 0.9121 - accuracy: 0.6904 - val_loss: 0.9123 - val_accuracy: 0.6923\n",
            "Epoch 20/9999\n",
            "48000/48000 [==============================] - 2s 42us/step - loss: 0.8979 - accuracy: 0.6942 - val_loss: 0.8992 - val_accuracy: 0.6975\n",
            "Epoch 21/9999\n",
            "48000/48000 [==============================] - 2s 41us/step - loss: 0.8856 - accuracy: 0.6995 - val_loss: 0.8877 - val_accuracy: 0.6966\n",
            "Epoch 22/9999\n",
            "48000/48000 [==============================] - 2s 39us/step - loss: 0.8730 - accuracy: 0.7041 - val_loss: 0.8763 - val_accuracy: 0.7029\n",
            "Epoch 23/9999\n",
            "48000/48000 [==============================] - 2s 40us/step - loss: 0.8619 - accuracy: 0.7073 - val_loss: 0.8653 - val_accuracy: 0.7042\n",
            "Epoch 24/9999\n",
            "48000/48000 [==============================] - 2s 40us/step - loss: 0.8515 - accuracy: 0.7121 - val_loss: 0.8551 - val_accuracy: 0.7082\n",
            "Epoch 25/9999\n",
            "48000/48000 [==============================] - 2s 39us/step - loss: 0.8415 - accuracy: 0.7150 - val_loss: 0.8463 - val_accuracy: 0.7101\n",
            "Epoch 26/9999\n",
            "48000/48000 [==============================] - 2s 39us/step - loss: 0.8314 - accuracy: 0.7193 - val_loss: 0.8361 - val_accuracy: 0.7166\n",
            "Epoch 27/9999\n",
            "48000/48000 [==============================] - 2s 39us/step - loss: 0.8228 - accuracy: 0.7215 - val_loss: 0.8275 - val_accuracy: 0.7186\n",
            "Epoch 28/9999\n",
            "48000/48000 [==============================] - 2s 39us/step - loss: 0.8131 - accuracy: 0.7258 - val_loss: 0.8184 - val_accuracy: 0.7211\n",
            "Epoch 29/9999\n",
            "48000/48000 [==============================] - 2s 39us/step - loss: 0.8041 - accuracy: 0.7280 - val_loss: 0.8115 - val_accuracy: 0.7249\n",
            "Epoch 30/9999\n",
            "48000/48000 [==============================] - 2s 39us/step - loss: 0.7977 - accuracy: 0.7314 - val_loss: 0.8036 - val_accuracy: 0.7260\n",
            "Epoch 31/9999\n",
            "48000/48000 [==============================] - 2s 39us/step - loss: 0.7890 - accuracy: 0.7345 - val_loss: 0.7951 - val_accuracy: 0.7282\n",
            "Epoch 32/9999\n",
            "48000/48000 [==============================] - 2s 39us/step - loss: 0.7828 - accuracy: 0.7359 - val_loss: 0.7888 - val_accuracy: 0.7305\n",
            "Epoch 33/9999\n",
            "48000/48000 [==============================] - 2s 38us/step - loss: 0.7747 - accuracy: 0.7390 - val_loss: 0.7831 - val_accuracy: 0.7382\n",
            "Epoch 34/9999\n",
            "48000/48000 [==============================] - 2s 39us/step - loss: 0.7683 - accuracy: 0.7429 - val_loss: 0.7751 - val_accuracy: 0.7354\n",
            "Epoch 35/9999\n",
            "48000/48000 [==============================] - 2s 39us/step - loss: 0.7610 - accuracy: 0.7449 - val_loss: 0.7704 - val_accuracy: 0.7368\n",
            "Epoch 36/9999\n",
            "48000/48000 [==============================] - 2s 39us/step - loss: 0.7551 - accuracy: 0.7460 - val_loss: 0.7661 - val_accuracy: 0.7429\n",
            "Epoch 37/9999\n",
            "48000/48000 [==============================] - 2s 39us/step - loss: 0.7490 - accuracy: 0.7493 - val_loss: 0.7574 - val_accuracy: 0.7428\n",
            "Epoch 38/9999\n",
            "48000/48000 [==============================] - 2s 40us/step - loss: 0.7426 - accuracy: 0.7511 - val_loss: 0.7523 - val_accuracy: 0.7486\n",
            "Epoch 39/9999\n",
            "48000/48000 [==============================] - 2s 40us/step - loss: 0.7368 - accuracy: 0.7535 - val_loss: 0.7467 - val_accuracy: 0.7488\n",
            "Epoch 40/9999\n",
            "48000/48000 [==============================] - 2s 41us/step - loss: 0.7319 - accuracy: 0.7560 - val_loss: 0.7416 - val_accuracy: 0.7486\n",
            "Epoch 41/9999\n",
            "48000/48000 [==============================] - 2s 40us/step - loss: 0.7276 - accuracy: 0.7566 - val_loss: 0.7374 - val_accuracy: 0.7509\n",
            "Epoch 42/9999\n",
            "48000/48000 [==============================] - 2s 39us/step - loss: 0.7222 - accuracy: 0.7579 - val_loss: 0.7321 - val_accuracy: 0.7538\n",
            "Epoch 43/9999\n",
            "48000/48000 [==============================] - 2s 40us/step - loss: 0.7171 - accuracy: 0.7606 - val_loss: 0.7294 - val_accuracy: 0.7548\n",
            "Epoch 44/9999\n",
            "48000/48000 [==============================] - 2s 39us/step - loss: 0.7125 - accuracy: 0.7601 - val_loss: 0.7216 - val_accuracy: 0.7592\n",
            "Epoch 45/9999\n",
            "48000/48000 [==============================] - 2s 39us/step - loss: 0.7080 - accuracy: 0.7631 - val_loss: 0.7176 - val_accuracy: 0.7599\n",
            "Epoch 46/9999\n",
            "48000/48000 [==============================] - 2s 38us/step - loss: 0.7038 - accuracy: 0.7642 - val_loss: 0.7138 - val_accuracy: 0.7610\n",
            "Epoch 47/9999\n",
            "48000/48000 [==============================] - 2s 38us/step - loss: 0.7001 - accuracy: 0.7656 - val_loss: 0.7104 - val_accuracy: 0.7584\n",
            "Epoch 48/9999\n",
            "48000/48000 [==============================] - 2s 39us/step - loss: 0.6943 - accuracy: 0.7676 - val_loss: 0.7067 - val_accuracy: 0.7622\n",
            "Epoch 49/9999\n",
            "48000/48000 [==============================] - 2s 39us/step - loss: 0.6914 - accuracy: 0.7676 - val_loss: 0.7012 - val_accuracy: 0.7633\n",
            "Epoch 50/9999\n",
            "48000/48000 [==============================] - 2s 39us/step - loss: 0.6876 - accuracy: 0.7679 - val_loss: 0.7037 - val_accuracy: 0.7628\n"
          ],
          "name": "stdout"
        },
        {
          "output_type": "stream",
          "text": [
            "100%|██████████| 4/4 [00:01<00:00,  2.41it/s]"
          ],
          "name": "stderr"
        },
        {
          "output_type": "stream",
          "text": [
            "Model: 4 added. Resulting score: 0.7744166666666666, Delta: -0.0007500000000000284, Patience: 3\n"
          ],
          "name": "stdout"
        },
        {
          "output_type": "stream",
          "text": [
            "\n"
          ],
          "name": "stderr"
        }
      ]
    },
    {
      "cell_type": "markdown",
      "metadata": {
        "id": "fGT6jV-hcLbJ",
        "colab_type": "text"
      },
      "source": [
        "# Results"
      ]
    },
    {
      "cell_type": "markdown",
      "metadata": {
        "id": "CurcmjMCcrJI",
        "colab_type": "text"
      },
      "source": [
        "# Accuracy vs nr of models\n",
        "Visualizing the accuracy vs the number of models in the ensamble"
      ]
    },
    {
      "cell_type": "code",
      "metadata": {
        "id": "yvZLQyb5cg7R",
        "colab_type": "code",
        "outputId": "c5cd947b-e526-4a34-a5bb-9b0e4584cfda",
        "colab": {
          "base_uri": "https://localhost:8080/",
          "height": 206
        }
      },
      "source": [
        "accuracy_df = pd.DataFrame(accuracies, columns=[\"Accuracy\"])\n",
        "accuracy_df.insert(1, \"Nr of models\", accuracy_df.index)\n",
        "\n",
        "display(accuracy_df)\n",
        "\n",
        "accuracy_df.to_csv(PATH + MODEL_NAME + \"_accuracy.csv\")"
      ],
      "execution_count": 0,
      "outputs": [
        {
          "output_type": "display_data",
          "data": {
            "text/html": [
              "<div>\n",
              "<style scoped>\n",
              "    .dataframe tbody tr th:only-of-type {\n",
              "        vertical-align: middle;\n",
              "    }\n",
              "\n",
              "    .dataframe tbody tr th {\n",
              "        vertical-align: top;\n",
              "    }\n",
              "\n",
              "    .dataframe thead th {\n",
              "        text-align: right;\n",
              "    }\n",
              "</style>\n",
              "<table border=\"1\" class=\"dataframe\">\n",
              "  <thead>\n",
              "    <tr style=\"text-align: right;\">\n",
              "      <th></th>\n",
              "      <th>Accuracy</th>\n",
              "      <th>Nr of models</th>\n",
              "    </tr>\n",
              "  </thead>\n",
              "  <tbody>\n",
              "    <tr>\n",
              "      <th>0</th>\n",
              "      <td>0.000000</td>\n",
              "      <td>0</td>\n",
              "    </tr>\n",
              "    <tr>\n",
              "      <th>1</th>\n",
              "      <td>0.766417</td>\n",
              "      <td>1</td>\n",
              "    </tr>\n",
              "    <tr>\n",
              "      <th>2</th>\n",
              "      <td>0.767750</td>\n",
              "      <td>2</td>\n",
              "    </tr>\n",
              "    <tr>\n",
              "      <th>3</th>\n",
              "      <td>0.775167</td>\n",
              "      <td>3</td>\n",
              "    </tr>\n",
              "    <tr>\n",
              "      <th>4</th>\n",
              "      <td>0.774417</td>\n",
              "      <td>4</td>\n",
              "    </tr>\n",
              "  </tbody>\n",
              "</table>\n",
              "</div>"
            ],
            "text/plain": [
              "   Accuracy  Nr of models\n",
              "0  0.000000             0\n",
              "1  0.766417             1\n",
              "2  0.767750             2\n",
              "3  0.775167             3\n",
              "4  0.774417             4"
            ]
          },
          "metadata": {
            "tags": []
          }
        }
      ]
    },
    {
      "cell_type": "code",
      "metadata": {
        "id": "sXq8Uj3lenzH",
        "colab_type": "code",
        "outputId": "8cef7ac3-0c97-4495-820a-4947411d4e87",
        "colab": {
          "base_uri": "https://localhost:8080/",
          "height": 279
        }
      },
      "source": [
        "import matplotlib.pyplot as plt\n",
        "\n",
        "# remove first row\n",
        "accuracy_df = accuracy_df.iloc[1:]\n",
        "\n",
        "accuracy_df.plot(x=\"Nr of models\", y=\"Accuracy\", xticks=accuracy_df[\"Nr of models\"])\n",
        "plt.show()"
      ],
      "execution_count": 0,
      "outputs": [
        {
          "output_type": "display_data",
          "data": {
            "image/png": "[encoded data removed]",
            "text/plain": [
              "<Figure size 432x288 with 1 Axes>"
            ]
          },
          "metadata": {
            "tags": [],
            "needs_background": "light"
          }
        }
      ]
    },
    {
      "cell_type": "markdown",
      "metadata": {
        "id": "51rnX_l7Pfdr",
        "colab_type": "text"
      },
      "source": [
        "## Accuracy\n",
        "The final accuracy of the ensamble on the test set"
      ]
    },
    {
      "cell_type": "code",
      "metadata": {
        "id": "GwNmmvSFPlVx",
        "colab_type": "code",
        "outputId": "77dfd9e4-14fd-46ed-b070-af1b3d9b81c7",
        "colab": {
          "base_uri": "https://localhost:8080/",
          "height": 52
        }
      },
      "source": [
        "print(\"Accuracy: \" + str(predict(models, x_test, y_testc)))"
      ],
      "execution_count": 0,
      "outputs": [
        {
          "output_type": "stream",
          "text": [
            "100%|██████████| 4/4 [00:01<00:00,  2.95it/s]"
          ],
          "name": "stderr"
        },
        {
          "output_type": "stream",
          "text": [
            "Accuracy: 0.772\n"
          ],
          "name": "stdout"
        },
        {
          "output_type": "stream",
          "text": [
            "\n"
          ],
          "name": "stderr"
        }
      ]
    },
    {
      "cell_type": "markdown",
      "metadata": {
        "id": "NMfc-h8xAYQu",
        "colab_type": "text"
      },
      "source": [
        "## Correlation between models"
      ]
    },
    {
      "cell_type": "code",
      "metadata": {
        "id": "0N9wSXF1iSp3",
        "colab_type": "code",
        "outputId": "10fc1959-9073-497f-dcb0-402930c4b087",
        "colab": {
          "base_uri": "https://localhost:8080/",
          "height": 34
        }
      },
      "source": [
        "predictions = []\n",
        "\n",
        "for m in tqdm(models):\n",
        "    predictions.append(np.argmax(m.predict(x_test), axis=1))"
      ],
      "execution_count": 0,
      "outputs": [
        {
          "output_type": "stream",
          "text": [
            "100%|██████████| 4/4 [00:01<00:00,  3.00it/s]\n"
          ],
          "name": "stderr"
        }
      ]
    },
    {
      "cell_type": "code",
      "metadata": {
        "id": "BqxXArY8N4po",
        "colab_type": "code",
        "outputId": "65af30b0-aa96-4976-f5c6-ac5fdf97cdab",
        "colab": {
          "base_uri": "https://localhost:8080/",
          "height": 34
        }
      },
      "source": [
        "classified = []\n",
        "\n",
        "for prediction in tqdm(predictions):\n",
        "    classified.append([1 if i==j else 0 for i,j in zip(prediction,y_test)])"
      ],
      "execution_count": 0,
      "outputs": [
        {
          "output_type": "stream",
          "text": [
            "100%|██████████| 4/4 [00:00<00:00, 232.53it/s]\n"
          ],
          "name": "stderr"
        }
      ]
    },
    {
      "cell_type": "code",
      "metadata": {
        "id": "FAky42lMV102",
        "colab_type": "code",
        "outputId": "1bb37410-8a7f-4fb0-cfb2-22b51b569398",
        "colab": {
          "base_uri": "https://localhost:8080/",
          "height": 192
        }
      },
      "source": [
        "correlation_matrix = []\n",
        "\n",
        "for ix, x in enumerate(classified):\n",
        "  row = []\n",
        "  \n",
        "  for iy, y in enumerate(classified):\n",
        "    if (ix == iy):\n",
        "      row.append(np.nan)\n",
        "    else:\n",
        "      row.append(pearsonr(x,y)[0])\n",
        "\n",
        "  correlation_matrix.append(row)\n",
        "\n",
        "correlation_matrix = np.array(correlation_matrix)\n",
        "correlation_matrix_df = pd.DataFrame(correlation_matrix)\n",
        "display(correlation_matrix_df)\n",
        "correlation_matrix_df.to_csv(PATH + MODEL_NAME + \"_correlation_matrix.csv\")\n",
        "print(\"Average correlation: \" + str(np.nanmean(correlation_matrix.flatten())))"
      ],
      "execution_count": 0,
      "outputs": [
        {
          "output_type": "display_data",
          "data": {
            "text/html": [
              "<div>\n",
              "<style scoped>\n",
              "    .dataframe tbody tr th:only-of-type {\n",
              "        vertical-align: middle;\n",
              "    }\n",
              "\n",
              "    .dataframe tbody tr th {\n",
              "        vertical-align: top;\n",
              "    }\n",
              "\n",
              "    .dataframe thead th {\n",
              "        text-align: right;\n",
              "    }\n",
              "</style>\n",
              "<table border=\"1\" class=\"dataframe\">\n",
              "  <thead>\n",
              "    <tr style=\"text-align: right;\">\n",
              "      <th></th>\n",
              "      <th>0</th>\n",
              "      <th>1</th>\n",
              "      <th>2</th>\n",
              "      <th>3</th>\n",
              "    </tr>\n",
              "  </thead>\n",
              "  <tbody>\n",
              "    <tr>\n",
              "      <th>0</th>\n",
              "      <td>NaN</td>\n",
              "      <td>0.742703</td>\n",
              "      <td>0.768401</td>\n",
              "      <td>0.736869</td>\n",
              "    </tr>\n",
              "    <tr>\n",
              "      <th>1</th>\n",
              "      <td>0.742703</td>\n",
              "      <td>NaN</td>\n",
              "      <td>0.753368</td>\n",
              "      <td>0.755554</td>\n",
              "    </tr>\n",
              "    <tr>\n",
              "      <th>2</th>\n",
              "      <td>0.768401</td>\n",
              "      <td>0.753368</td>\n",
              "      <td>NaN</td>\n",
              "      <td>0.747011</td>\n",
              "    </tr>\n",
              "    <tr>\n",
              "      <th>3</th>\n",
              "      <td>0.736869</td>\n",
              "      <td>0.755554</td>\n",
              "      <td>0.747011</td>\n",
              "      <td>NaN</td>\n",
              "    </tr>\n",
              "  </tbody>\n",
              "</table>\n",
              "</div>"
            ],
            "text/plain": [
              "          0         1         2         3\n",
              "0       NaN  0.742703  0.768401  0.736869\n",
              "1  0.742703       NaN  0.753368  0.755554\n",
              "2  0.768401  0.753368       NaN  0.747011\n",
              "3  0.736869  0.755554  0.747011       NaN"
            ]
          },
          "metadata": {
            "tags": []
          }
        },
        {
          "output_type": "stream",
          "text": [
            "Average correlation: 0.7506508849361845\n"
          ],
          "name": "stdout"
        }
      ]
    }
  ]
}