{
  "nbformat": 4,
  "nbformat_minor": 0,
  "metadata": {
    "accelerator": "GPU",
    "colab": {
      "name": "baggingCIFAR10.ipynb",
      "provenance": [],
      "collapsed_sections": [],
      "toc_visible": true
    },
    "kernelspec": {
      "display_name": "Python 3",
      "language": "python",
      "name": "python3"
    },
    "language_info": {
      "codemirror_mode": {
        "name": "ipython",
        "version": 3
      },
      "file_extension": ".py",
      "mimetype": "text/x-python",
      "name": "python",
      "nbconvert_exporter": "python",
      "pygments_lexer": "ipython3",
      "version": "3.6.9"
    }
  },
  "cells": [
    {
      "cell_type": "code",
      "metadata": {
        "colab_type": "code",
        "id": "fde69AMuOpox",
        "colab": {}
      },
      "source": [
        "import keras\n",
        "import cv2\n",
        "import numpy as np\n",
        "import pandas as pd\n",
        "import tensorflow as tf\n",
        "from itertools import count\n",
        "from sklearn.metrics import accuracy_score\n",
        "from keras.datasets import cifar10\n",
        "from keras.applications.vgg16 import VGG16\n",
        "from keras.layers import Dense, Dropout, Flatten, Activation, Input, Conv2D, MaxPooling2D, BatchNormalization, GlobalAveragePooling2D\n",
        "from sklearn.model_selection import train_test_split\n",
        "from keras.models import Model\n",
        "from keras.callbacks import EarlyStopping\n",
        "from scipy.stats import pearsonr\n",
        "from tqdm import tqdm"
      ],
      "execution_count": 0,
      "outputs": []
    },
    {
      "cell_type": "code",
      "metadata": {
        "colab_type": "code",
        "id": "qYrab7qpOppj",
        "colab": {}
      },
      "source": [
        "BATCH_SIZE = 128\n",
        "EPOCHS = 9999\n",
        "IMAGE_SIZE = 32\n",
        "NUM_CLASSES = 10\n",
        "MODEL_ADDITION_DELTA = 0.01\n",
        "MODEL_ADDITION_PATIENCE = 3\n",
        "MODEL_NAME = \"Cifar_10_bagging\"\n",
        "PATH = \"\""
      ],
      "execution_count": 0,
      "outputs": []
    },
    {
      "cell_type": "markdown",
      "metadata": {
        "id": "R9M4_-IaBOsn",
        "colab_type": "text"
      },
      "source": [
        "# Set seeds"
      ]
    },
    {
      "cell_type": "code",
      "metadata": {
        "id": "7n9nJGd_BQ-r",
        "colab_type": "code",
        "colab": {}
      },
      "source": [
        "np.random.seed(3)\n",
        "tf.random.set_seed(3)"
      ],
      "execution_count": 0,
      "outputs": []
    },
    {
      "cell_type": "markdown",
      "metadata": {
        "id": "g8QvEt97vF52",
        "colab_type": "text"
      },
      "source": [
        "# Preprocess"
      ]
    },
    {
      "cell_type": "code",
      "metadata": {
        "colab_type": "code",
        "id": "XypdmBJROpp9",
        "outputId": "45a0f1f2-f111-4998-97c1-0af44673e2ac",
        "colab": {
          "base_uri": "https://localhost:8080/",
          "height": 69
        }
      },
      "source": [
        "(x_train, y_train), (x_test, y_test) = cifar10.load_data()\n",
        "\n",
        "print('x_train shape:', x_train.shape)\n",
        "print(x_train.shape[0], 'train samples')\n",
        "print(x_test.shape[0], 'test samples')"
      ],
      "execution_count": 36,
      "outputs": [
        {
          "output_type": "stream",
          "text": [
            "x_train shape: (50000, 32, 32, 3)\n",
            "50000 train samples\n",
            "10000 test samples\n"
          ],
          "name": "stdout"
        }
      ]
    },
    {
      "cell_type": "code",
      "metadata": {
        "colab_type": "code",
        "id": "mo8yHyg-Opqo",
        "colab": {}
      },
      "source": [
        "# Convert class vectors to binary class matrices.\n",
        "y_train = keras.utils.to_categorical(y_train, NUM_CLASSES)\n",
        "y_testc = keras.utils.to_categorical(y_test, NUM_CLASSES)"
      ],
      "execution_count": 0,
      "outputs": []
    },
    {
      "cell_type": "code",
      "metadata": {
        "id": "a4SYRuKZaIwb",
        "colab_type": "code",
        "colab": {}
      },
      "source": [
        "x_train = x_train.astype('float32')\n",
        "x_test = x_test.astype('float32')\n",
        "x_train /= 255\n",
        "x_test /= 255"
      ],
      "execution_count": 0,
      "outputs": []
    },
    {
      "cell_type": "code",
      "metadata": {
        "id": "yLQOYIh0OW84",
        "colab_type": "code",
        "colab": {}
      },
      "source": [
        "# Split the data\n",
        "x_train, x_val, y_train, y_val = train_test_split(x_train, y_train, test_size=0.20, shuffle= True)"
      ],
      "execution_count": 0,
      "outputs": []
    },
    {
      "cell_type": "markdown",
      "metadata": {
        "id": "gIBGIrlkvOt0",
        "colab_type": "text"
      },
      "source": [
        "# Model"
      ]
    },
    {
      "cell_type": "code",
      "metadata": {
        "colab_type": "code",
        "id": "zLWph6_aOpr2",
        "colab": {}
      },
      "source": [
        "def CIFARmodel(imsize, num_classes, num_channels):\n",
        "    inputs = Input((imsize,imsize,num_channels))\n",
        "    x = Conv2D(filters=64, kernel_size=(3,3), activation='relu')(inputs)\n",
        "    x = Conv2D(filters=64, kernel_size=(3,3), strides=2)(x)\n",
        "    x = Activation('relu')(x)\n",
        "    x = BatchNormalization()(x)\n",
        "    x = MaxPooling2D(pool_size=(2,2), strides=(2,2), padding='same')(x)\n",
        "    x = Conv2D(filters=128, kernel_size=(3,3), activation='relu', strides=2, padding='same')(x)\n",
        "    x = Conv2D(filters=128, kernel_size=(3,3), activation='relu', strides=2, padding='same')(x)\n",
        "    x = BatchNormalization()(x)\n",
        "    x = Conv2D(filters=128, kernel_size=(1,1), activation='relu', padding='valid')(x)\n",
        "    x = Conv2D(filters=10, kernel_size=(1,1),strides=(1,1), padding='valid')(x)\n",
        "    x = GlobalAveragePooling2D()(x)\n",
        "    outputs = Activation('softmax')(x)\n",
        "    \n",
        "    model = Model(inputs=inputs, outputs=outputs)\n",
        "\n",
        "    optimizer = keras.optimizers.Adam(learning_rate = 1e-04)\n",
        "\n",
        "    model.compile(loss='categorical_crossentropy',\n",
        "                      optimizer=optimizer,\n",
        "                      metrics=['accuracy'])\n",
        "    return model"
      ],
      "execution_count": 0,
      "outputs": []
    },
    {
      "cell_type": "markdown",
      "metadata": {
        "id": "EbiuqESLvTOY",
        "colab_type": "text"
      },
      "source": [
        "# Predict"
      ]
    },
    {
      "cell_type": "code",
      "metadata": {
        "id": "JXFkx19XmqKe",
        "colab_type": "code",
        "colab": {}
      },
      "source": [
        "def predict(models, X, Y):\n",
        "    predictions = []\n",
        "\n",
        "    for m in tqdm(models):\n",
        "        predictions.append(np.argmax(m.predict(X), axis=1))\n",
        "\n",
        "    prediction = np.transpose(predictions)\n",
        "    prediction = np.apply_along_axis(lambda x: np.bincount(x).argmax(), axis=1, arr=prediction)\n",
        "\n",
        "    return accuracy_score(prediction, np.argmax(Y, axis=1))"
      ],
      "execution_count": 0,
      "outputs": []
    },
    {
      "cell_type": "markdown",
      "metadata": {
        "id": "TVqdcrD_vQ-Q",
        "colab_type": "text"
      },
      "source": [
        "# Train"
      ]
    },
    {
      "cell_type": "code",
      "metadata": {
        "colab_type": "code",
        "id": "HjvZqLBJOpsw",
        "outputId": "1b57a8ae-b387-43fb-8493-9d9e46615b9e",
        "colab": {
          "base_uri": "https://localhost:8080/",
          "height": 1000
        }
      },
      "source": [
        "models = []\n",
        "accuracies = [0]\n",
        "patience = 0\n",
        "\n",
        "for i in count(1):\n",
        "\n",
        "    print(f\"Train model {i}\")\n",
        "    idx = np.random.choice(len(x_train), size=len(x_train), replace=True)\n",
        "\n",
        "    x_train_model = x_train[idx]\n",
        "    y_train_model = y_train[idx]\n",
        "\n",
        "    model = CIFARmodel(IMAGE_SIZE, NUM_CLASSES, 3)\n",
        "    \n",
        "    es = EarlyStopping(min_delta=0.01, patience=3)\n",
        "    model.fit(x_train_model,y_train_model,\n",
        "              batch_size = BATCH_SIZE,\n",
        "              epochs = EPOCHS,\n",
        "              validation_data = (x_val,y_val),\n",
        "              shuffle = True,\n",
        "              callbacks=[es])\n",
        "    \n",
        "    model.save_weights(PATH + MODEL_NAME + f\"_weights-{i}.h5\" )\n",
        "    models.append(model)\n",
        "\n",
        "    acc = predict(models, x_val, y_val)\n",
        "    delta = acc - accuracies[-1]\n",
        "\n",
        "    accuracies.append(acc)\n",
        "\n",
        "    if delta >= MODEL_ADDITION_DELTA:\n",
        "      patience = 0\n",
        "    else:\n",
        "      patience += 1\n",
        "\n",
        "    print(f\"Model: {i} added. Resulting score: {acc}, Delta: {delta}, Patience: {patience}\")\n",
        "\n",
        "    if patience >= MODEL_ADDITION_PATIENCE:\n",
        "      break"
      ],
      "execution_count": 42,
      "outputs": [
        {
          "output_type": "stream",
          "text": [
            "Train model 1\n",
            "Train on 40000 samples, validate on 10000 samples\n",
            "Epoch 1/9999\n",
            "40000/40000 [==============================] - 4s 110us/step - loss: 1.6794 - accuracy: 0.4091 - val_loss: 2.2430 - val_accuracy: 0.1228\n",
            "Epoch 2/9999\n",
            "40000/40000 [==============================] - 4s 97us/step - loss: 1.2780 - accuracy: 0.5597 - val_loss: 1.4478 - val_accuracy: 0.5140\n",
            "Epoch 3/9999\n",
            "40000/40000 [==============================] - 4s 97us/step - loss: 1.0833 - accuracy: 0.6325 - val_loss: 1.2243 - val_accuracy: 0.5635\n",
            "Epoch 4/9999\n",
            "40000/40000 [==============================] - 4s 96us/step - loss: 0.9392 - accuracy: 0.6844 - val_loss: 1.1228 - val_accuracy: 0.6026\n",
            "Epoch 5/9999\n",
            "40000/40000 [==============================] - 4s 97us/step - loss: 0.8189 - accuracy: 0.7311 - val_loss: 1.1547 - val_accuracy: 0.5985\n",
            "Epoch 6/9999\n",
            "40000/40000 [==============================] - 4s 97us/step - loss: 0.7168 - accuracy: 0.7698 - val_loss: 1.1023 - val_accuracy: 0.6148\n",
            "Epoch 7/9999\n",
            "40000/40000 [==============================] - 4s 97us/step - loss: 0.6270 - accuracy: 0.8062 - val_loss: 1.0880 - val_accuracy: 0.6186\n",
            "Epoch 8/9999\n",
            "40000/40000 [==============================] - 4s 98us/step - loss: 0.5422 - accuracy: 0.8378 - val_loss: 1.1426 - val_accuracy: 0.6117\n",
            "Epoch 9/9999\n",
            "40000/40000 [==============================] - 4s 97us/step - loss: 0.4691 - accuracy: 0.8636 - val_loss: 1.3050 - val_accuracy: 0.5809\n",
            "Epoch 10/9999\n",
            "40000/40000 [==============================] - 4s 97us/step - loss: 0.4028 - accuracy: 0.8876 - val_loss: 1.1328 - val_accuracy: 0.6289\n"
          ],
          "name": "stdout"
        },
        {
          "output_type": "stream",
          "text": [
            "100%|██████████| 1/1 [00:00<00:00,  1.43it/s]\n"
          ],
          "name": "stderr"
        },
        {
          "output_type": "stream",
          "text": [
            "Model: 1 added. Resulting score: 0.6289, Delta: 0.6289, Patience: 0\n",
            "Train model 2\n",
            "Train on 40000 samples, validate on 10000 samples\n",
            "Epoch 1/9999\n",
            "40000/40000 [==============================] - 4s 108us/step - loss: 1.6764 - accuracy: 0.4069 - val_loss: 2.2226 - val_accuracy: 0.1317\n",
            "Epoch 2/9999\n",
            "40000/40000 [==============================] - 4s 97us/step - loss: 1.2742 - accuracy: 0.5553 - val_loss: 1.5922 - val_accuracy: 0.4274\n",
            "Epoch 3/9999\n",
            "40000/40000 [==============================] - 4s 97us/step - loss: 1.0779 - accuracy: 0.6313 - val_loss: 1.1884 - val_accuracy: 0.5796\n",
            "Epoch 4/9999\n",
            "40000/40000 [==============================] - 4s 96us/step - loss: 0.9423 - accuracy: 0.6838 - val_loss: 1.1633 - val_accuracy: 0.5859\n",
            "Epoch 5/9999\n",
            "40000/40000 [==============================] - 4s 97us/step - loss: 0.8292 - accuracy: 0.7271 - val_loss: 1.2121 - val_accuracy: 0.5744\n",
            "Epoch 6/9999\n",
            "40000/40000 [==============================] - 4s 96us/step - loss: 0.7245 - accuracy: 0.7679 - val_loss: 1.0898 - val_accuracy: 0.6142\n",
            "Epoch 7/9999\n",
            "40000/40000 [==============================] - 4s 97us/step - loss: 0.6349 - accuracy: 0.8001 - val_loss: 1.0908 - val_accuracy: 0.6157\n",
            "Epoch 8/9999\n",
            "40000/40000 [==============================] - 4s 98us/step - loss: 0.5502 - accuracy: 0.8315 - val_loss: 1.1082 - val_accuracy: 0.6156\n",
            "Epoch 9/9999\n",
            "40000/40000 [==============================] - 4s 97us/step - loss: 0.4755 - accuracy: 0.8594 - val_loss: 1.1195 - val_accuracy: 0.6197\n"
          ],
          "name": "stdout"
        },
        {
          "output_type": "stream",
          "text": [
            "100%|██████████| 2/2 [00:01<00:00,  1.45it/s]\n"
          ],
          "name": "stderr"
        },
        {
          "output_type": "stream",
          "text": [
            "Model: 2 added. Resulting score: 0.6119, Delta: -0.017000000000000015, Patience: 1\n",
            "Train model 3\n",
            "Train on 40000 samples, validate on 10000 samples\n",
            "Epoch 1/9999\n",
            "40000/40000 [==============================] - 4s 110us/step - loss: 1.6754 - accuracy: 0.4070 - val_loss: 2.3911 - val_accuracy: 0.1266\n",
            "Epoch 2/9999\n",
            "40000/40000 [==============================] - 4s 97us/step - loss: 1.2694 - accuracy: 0.5584 - val_loss: 1.4179 - val_accuracy: 0.5170\n",
            "Epoch 3/9999\n",
            "40000/40000 [==============================] - 4s 96us/step - loss: 1.0718 - accuracy: 0.6319 - val_loss: 1.2435 - val_accuracy: 0.5614\n",
            "Epoch 4/9999\n",
            "40000/40000 [==============================] - 4s 97us/step - loss: 0.9268 - accuracy: 0.6884 - val_loss: 1.1759 - val_accuracy: 0.5839\n",
            "Epoch 5/9999\n",
            "40000/40000 [==============================] - 4s 97us/step - loss: 0.8108 - accuracy: 0.7343 - val_loss: 1.1500 - val_accuracy: 0.5916\n",
            "Epoch 6/9999\n",
            "40000/40000 [==============================] - 4s 97us/step - loss: 0.7053 - accuracy: 0.7739 - val_loss: 1.1146 - val_accuracy: 0.6056\n",
            "Epoch 7/9999\n",
            "40000/40000 [==============================] - 4s 97us/step - loss: 0.6159 - accuracy: 0.8089 - val_loss: 1.0670 - val_accuracy: 0.6277\n",
            "Epoch 8/9999\n",
            "40000/40000 [==============================] - 4s 97us/step - loss: 0.5296 - accuracy: 0.8396 - val_loss: 1.1228 - val_accuracy: 0.6152\n",
            "Epoch 9/9999\n",
            "40000/40000 [==============================] - 4s 97us/step - loss: 0.4560 - accuracy: 0.8675 - val_loss: 1.1135 - val_accuracy: 0.6276\n",
            "Epoch 10/9999\n",
            "40000/40000 [==============================] - 4s 96us/step - loss: 0.3912 - accuracy: 0.8899 - val_loss: 1.2092 - val_accuracy: 0.6133\n"
          ],
          "name": "stdout"
        },
        {
          "output_type": "stream",
          "text": [
            "100%|██████████| 3/3 [00:01<00:00,  1.58it/s]\n"
          ],
          "name": "stderr"
        },
        {
          "output_type": "stream",
          "text": [
            "Model: 3 added. Resulting score: 0.66, Delta: 0.04810000000000003, Patience: 0\n",
            "Train model 4\n",
            "Train on 40000 samples, validate on 10000 samples\n",
            "Epoch 1/9999\n",
            "40000/40000 [==============================] - 4s 109us/step - loss: 1.7099 - accuracy: 0.3936 - val_loss: 2.1561 - val_accuracy: 0.1646\n",
            "Epoch 2/9999\n",
            "40000/40000 [==============================] - 4s 96us/step - loss: 1.3033 - accuracy: 0.5432 - val_loss: 1.4257 - val_accuracy: 0.4906\n",
            "Epoch 3/9999\n",
            "40000/40000 [==============================] - 4s 96us/step - loss: 1.1074 - accuracy: 0.6224 - val_loss: 1.3692 - val_accuracy: 0.5078\n",
            "Epoch 4/9999\n",
            "40000/40000 [==============================] - 4s 96us/step - loss: 0.9620 - accuracy: 0.6779 - val_loss: 1.2451 - val_accuracy: 0.5663\n",
            "Epoch 5/9999\n",
            "40000/40000 [==============================] - 4s 96us/step - loss: 0.8407 - accuracy: 0.7235 - val_loss: 1.1082 - val_accuracy: 0.6078\n",
            "Epoch 6/9999\n",
            "40000/40000 [==============================] - 4s 96us/step - loss: 0.7358 - accuracy: 0.7638 - val_loss: 1.1415 - val_accuracy: 0.5942\n",
            "Epoch 7/9999\n",
            "40000/40000 [==============================] - 4s 96us/step - loss: 0.6391 - accuracy: 0.8025 - val_loss: 1.0888 - val_accuracy: 0.6181\n",
            "Epoch 8/9999\n",
            "40000/40000 [==============================] - 4s 96us/step - loss: 0.5530 - accuracy: 0.8332 - val_loss: 1.1375 - val_accuracy: 0.6084\n",
            "Epoch 9/9999\n",
            "40000/40000 [==============================] - 4s 97us/step - loss: 0.4764 - accuracy: 0.8609 - val_loss: 1.1111 - val_accuracy: 0.6317\n",
            "Epoch 10/9999\n",
            "40000/40000 [==============================] - 4s 96us/step - loss: 0.4047 - accuracy: 0.8859 - val_loss: 1.1494 - val_accuracy: 0.6210\n"
          ],
          "name": "stdout"
        },
        {
          "output_type": "stream",
          "text": [
            "100%|██████████| 4/4 [00:02<00:00,  1.59it/s]\n"
          ],
          "name": "stderr"
        },
        {
          "output_type": "stream",
          "text": [
            "Model: 4 added. Resulting score: 0.6697, Delta: 0.009699999999999931, Patience: 1\n",
            "Train model 5\n",
            "Train on 40000 samples, validate on 10000 samples\n",
            "Epoch 1/9999\n",
            "40000/40000 [==============================] - 4s 108us/step - loss: 1.6910 - accuracy: 0.4022 - val_loss: 2.2932 - val_accuracy: 0.1211\n",
            "Epoch 2/9999\n",
            "40000/40000 [==============================] - 4s 97us/step - loss: 1.2691 - accuracy: 0.5577 - val_loss: 1.4130 - val_accuracy: 0.4918\n",
            "Epoch 3/9999\n",
            "40000/40000 [==============================] - 4s 97us/step - loss: 1.0818 - accuracy: 0.6298 - val_loss: 1.2263 - val_accuracy: 0.5624\n",
            "Epoch 4/9999\n",
            "40000/40000 [==============================] - 4s 97us/step - loss: 0.9421 - accuracy: 0.6824 - val_loss: 1.1230 - val_accuracy: 0.6017\n",
            "Epoch 5/9999\n",
            "40000/40000 [==============================] - 4s 97us/step - loss: 0.8307 - accuracy: 0.7263 - val_loss: 1.2374 - val_accuracy: 0.5674\n",
            "Epoch 6/9999\n",
            "40000/40000 [==============================] - 4s 98us/step - loss: 0.7293 - accuracy: 0.7656 - val_loss: 1.1417 - val_accuracy: 0.6034\n",
            "Epoch 7/9999\n",
            "40000/40000 [==============================] - 4s 97us/step - loss: 0.6393 - accuracy: 0.7983 - val_loss: 1.1308 - val_accuracy: 0.6050\n"
          ],
          "name": "stdout"
        },
        {
          "output_type": "stream",
          "text": [
            "100%|██████████| 5/5 [00:03<00:00,  1.59it/s]\n"
          ],
          "name": "stderr"
        },
        {
          "output_type": "stream",
          "text": [
            "Model: 5 added. Resulting score: 0.6769, Delta: 0.007199999999999984, Patience: 2\n",
            "Train model 6\n",
            "Train on 40000 samples, validate on 10000 samples\n",
            "Epoch 1/9999\n",
            "40000/40000 [==============================] - 4s 107us/step - loss: 1.6927 - accuracy: 0.3990 - val_loss: 2.2884 - val_accuracy: 0.0971\n",
            "Epoch 2/9999\n",
            "40000/40000 [==============================] - 4s 96us/step - loss: 1.3055 - accuracy: 0.5469 - val_loss: 1.4633 - val_accuracy: 0.4998\n",
            "Epoch 3/9999\n",
            "40000/40000 [==============================] - 4s 96us/step - loss: 1.1142 - accuracy: 0.6209 - val_loss: 1.1933 - val_accuracy: 0.5813\n",
            "Epoch 4/9999\n",
            "40000/40000 [==============================] - 4s 96us/step - loss: 0.9670 - accuracy: 0.6774 - val_loss: 1.2287 - val_accuracy: 0.5678\n",
            "Epoch 5/9999\n",
            "40000/40000 [==============================] - 4s 96us/step - loss: 0.8439 - accuracy: 0.7241 - val_loss: 1.1243 - val_accuracy: 0.6001\n",
            "Epoch 6/9999\n",
            "40000/40000 [==============================] - 4s 96us/step - loss: 0.7367 - accuracy: 0.7665 - val_loss: 1.1228 - val_accuracy: 0.6107\n",
            "Epoch 7/9999\n",
            "40000/40000 [==============================] - 4s 96us/step - loss: 0.6441 - accuracy: 0.7994 - val_loss: 1.0862 - val_accuracy: 0.6253\n",
            "Epoch 8/9999\n",
            "40000/40000 [==============================] - 4s 96us/step - loss: 0.5582 - accuracy: 0.8313 - val_loss: 1.0744 - val_accuracy: 0.6290\n",
            "Epoch 9/9999\n",
            "40000/40000 [==============================] - 4s 96us/step - loss: 0.4805 - accuracy: 0.8591 - val_loss: 1.1093 - val_accuracy: 0.6256\n",
            "Epoch 10/9999\n",
            "40000/40000 [==============================] - 4s 95us/step - loss: 0.4109 - accuracy: 0.8842 - val_loss: 1.1546 - val_accuracy: 0.6267\n",
            "Epoch 11/9999\n",
            "40000/40000 [==============================] - 4s 96us/step - loss: 0.3512 - accuracy: 0.9058 - val_loss: 1.2498 - val_accuracy: 0.5989\n"
          ],
          "name": "stdout"
        },
        {
          "output_type": "stream",
          "text": [
            "100%|██████████| 6/6 [00:03<00:00,  1.60it/s]"
          ],
          "name": "stderr"
        },
        {
          "output_type": "stream",
          "text": [
            "Model: 6 added. Resulting score: 0.6814, Delta: 0.0045000000000000595, Patience: 3\n"
          ],
          "name": "stdout"
        },
        {
          "output_type": "stream",
          "text": [
            "\n"
          ],
          "name": "stderr"
        }
      ]
    },
    {
      "cell_type": "markdown",
      "metadata": {
        "id": "fGT6jV-hcLbJ",
        "colab_type": "text"
      },
      "source": [
        "# Results"
      ]
    },
    {
      "cell_type": "markdown",
      "metadata": {
        "id": "CurcmjMCcrJI",
        "colab_type": "text"
      },
      "source": [
        "# Accuracy vs nr of models\n",
        "Visualizing the accuracy vs the number of models in the ensamble"
      ]
    },
    {
      "cell_type": "code",
      "metadata": {
        "id": "yvZLQyb5cg7R",
        "colab_type": "code",
        "outputId": "e7c1b8e0-169f-4775-8ca3-4646a2ed4928",
        "colab": {
          "base_uri": "https://localhost:8080/",
          "height": 269
        }
      },
      "source": [
        "accuracy_df = pd.DataFrame(accuracies, columns=[\"Accuracy\"])\n",
        "accuracy_df.insert(1, \"Nr of models\", accuracy_df.index)\n",
        "\n",
        "display(accuracy_df)\n",
        "\n",
        "accuracy_df.to_csv(PATH + MODEL_NAME + \"_accuracy.csv\")"
      ],
      "execution_count": 43,
      "outputs": [
        {
          "output_type": "display_data",
          "data": {
            "text/html": [
              "<div>\n",
              "<style scoped>\n",
              "    .dataframe tbody tr th:only-of-type {\n",
              "        vertical-align: middle;\n",
              "    }\n",
              "\n",
              "    .dataframe tbody tr th {\n",
              "        vertical-align: top;\n",
              "    }\n",
              "\n",
              "    .dataframe thead th {\n",
              "        text-align: right;\n",
              "    }\n",
              "</style>\n",
              "<table border=\"1\" class=\"dataframe\">\n",
              "  <thead>\n",
              "    <tr style=\"text-align: right;\">\n",
              "      <th></th>\n",
              "      <th>Accuracy</th>\n",
              "      <th>Nr of models</th>\n",
              "    </tr>\n",
              "  </thead>\n",
              "  <tbody>\n",
              "    <tr>\n",
              "      <th>0</th>\n",
              "      <td>0.0000</td>\n",
              "      <td>0</td>\n",
              "    </tr>\n",
              "    <tr>\n",
              "      <th>1</th>\n",
              "      <td>0.6289</td>\n",
              "      <td>1</td>\n",
              "    </tr>\n",
              "    <tr>\n",
              "      <th>2</th>\n",
              "      <td>0.6119</td>\n",
              "      <td>2</td>\n",
              "    </tr>\n",
              "    <tr>\n",
              "      <th>3</th>\n",
              "      <td>0.6600</td>\n",
              "      <td>3</td>\n",
              "    </tr>\n",
              "    <tr>\n",
              "      <th>4</th>\n",
              "      <td>0.6697</td>\n",
              "      <td>4</td>\n",
              "    </tr>\n",
              "    <tr>\n",
              "      <th>5</th>\n",
              "      <td>0.6769</td>\n",
              "      <td>5</td>\n",
              "    </tr>\n",
              "    <tr>\n",
              "      <th>6</th>\n",
              "      <td>0.6814</td>\n",
              "      <td>6</td>\n",
              "    </tr>\n",
              "  </tbody>\n",
              "</table>\n",
              "</div>"
            ],
            "text/plain": [
              "   Accuracy  Nr of models\n",
              "0    0.0000             0\n",
              "1    0.6289             1\n",
              "2    0.6119             2\n",
              "3    0.6600             3\n",
              "4    0.6697             4\n",
              "5    0.6769             5\n",
              "6    0.6814             6"
            ]
          },
          "metadata": {
            "tags": []
          }
        }
      ]
    },
    {
      "cell_type": "code",
      "metadata": {
        "id": "sXq8Uj3lenzH",
        "colab_type": "code",
        "outputId": "1866cc58-fa0f-44d8-8687-545896502f71",
        "colab": {
          "base_uri": "https://localhost:8080/",
          "height": 279
        }
      },
      "source": [
        "import matplotlib.pyplot as plt\n",
        "\n",
        "# remove first row\n",
        "accuracy_df = accuracy_df.iloc[1:]\n",
        "\n",
        "accuracy_df.plot(x=\"Nr of models\", y=\"Accuracy\", xticks=accuracy_df[\"Nr of models\"])\n",
        "plt.show()"
      ],
      "execution_count": 44,
      "outputs": [
        {
          "output_type": "display_data",
          "data": {
            "image/png": "[encoded data removed]",
            "text/plain": [
              "<Figure size 432x288 with 1 Axes>"
            ]
          },
          "metadata": {
            "tags": [],
            "needs_background": "light"
          }
        }
      ]
    },
    {
      "cell_type": "markdown",
      "metadata": {
        "id": "51rnX_l7Pfdr",
        "colab_type": "text"
      },
      "source": [
        "## Accuracy\n",
        "The final accuracy of the ensamble on the test set"
      ]
    },
    {
      "cell_type": "code",
      "metadata": {
        "id": "GwNmmvSFPlVx",
        "colab_type": "code",
        "outputId": "32a25db1-0ef6-4ea3-e575-4e9fd1aa0e00",
        "colab": {
          "base_uri": "https://localhost:8080/",
          "height": 52
        }
      },
      "source": [
        "print(\"Accuracy: \" + str(predict(models, x_test, y_testc)))"
      ],
      "execution_count": 45,
      "outputs": [
        {
          "output_type": "stream",
          "text": [
            "100%|██████████| 6/6 [00:03<00:00,  1.65it/s]"
          ],
          "name": "stderr"
        },
        {
          "output_type": "stream",
          "text": [
            "Accuracy: 0.6837\n"
          ],
          "name": "stdout"
        },
        {
          "output_type": "stream",
          "text": [
            "\n"
          ],
          "name": "stderr"
        }
      ]
    },
    {
      "cell_type": "markdown",
      "metadata": {
        "id": "NMfc-h8xAYQu",
        "colab_type": "text"
      },
      "source": [
        "## Correlation between models"
      ]
    },
    {
      "cell_type": "code",
      "metadata": {
        "id": "0N9wSXF1iSp3",
        "colab_type": "code",
        "outputId": "0e051958-2676-4abe-cc0e-694dab916b4b",
        "colab": {
          "base_uri": "https://localhost:8080/",
          "height": 34
        }
      },
      "source": [
        "predictions = []\n",
        "\n",
        "for m in tqdm(models):\n",
        "    predictions.append(np.argmax(m.predict(x_test), axis=1))"
      ],
      "execution_count": 46,
      "outputs": [
        {
          "output_type": "stream",
          "text": [
            "100%|██████████| 6/6 [00:03<00:00,  1.66it/s]\n"
          ],
          "name": "stderr"
        }
      ]
    },
    {
      "cell_type": "code",
      "metadata": {
        "id": "BqxXArY8N4po",
        "colab_type": "code",
        "outputId": "fc9c89ea-f4b2-41bb-b882-64802dc84d2a",
        "colab": {
          "base_uri": "https://localhost:8080/",
          "height": 34
        }
      },
      "source": [
        "classified = []\n",
        "\n",
        "for prediction in tqdm(predictions):\n",
        "    classified.append([1 if i==j else 0 for i,j in zip(prediction,y_test)])"
      ],
      "execution_count": 47,
      "outputs": [
        {
          "output_type": "stream",
          "text": [
            "100%|██████████| 6/6 [00:00<00:00, 105.24it/s]\n"
          ],
          "name": "stderr"
        }
      ]
    },
    {
      "cell_type": "code",
      "metadata": {
        "id": "FAky42lMV102",
        "colab_type": "code",
        "outputId": "3bd00dcb-23a6-4f00-c8c5-16fc63119364",
        "colab": {
          "base_uri": "https://localhost:8080/",
          "height": 255
        }
      },
      "source": [
        "correlation_matrix = []\n",
        "\n",
        "for ix, x in enumerate(classified):\n",
        "  row = []\n",
        "  \n",
        "  for iy, y in enumerate(classified):\n",
        "    if (ix == iy):\n",
        "      row.append(np.nan)\n",
        "    else:\n",
        "      row.append(pearsonr(x,y)[0])\n",
        "\n",
        "  correlation_matrix.append(row)\n",
        "\n",
        "correlation_matrix = np.array(correlation_matrix)\n",
        "correlation_matrix_df = pd.DataFrame(correlation_matrix)\n",
        "display(correlation_matrix_df)\n",
        "correlation_matrix_df.to_csv(PATH + MODEL_NAME + \"_correlation_matrix.csv\")\n",
        "print(\"Average correlation: \" + str(np.nanmean(correlation_matrix.flatten())))"
      ],
      "execution_count": 48,
      "outputs": [
        {
          "output_type": "display_data",
          "data": {
            "text/html": [
              "<div>\n",
              "<style scoped>\n",
              "    .dataframe tbody tr th:only-of-type {\n",
              "        vertical-align: middle;\n",
              "    }\n",
              "\n",
              "    .dataframe tbody tr th {\n",
              "        vertical-align: top;\n",
              "    }\n",
              "\n",
              "    .dataframe thead th {\n",
              "        text-align: right;\n",
              "    }\n",
              "</style>\n",
              "<table border=\"1\" class=\"dataframe\">\n",
              "  <thead>\n",
              "    <tr style=\"text-align: right;\">\n",
              "      <th></th>\n",
              "      <th>0</th>\n",
              "      <th>1</th>\n",
              "      <th>2</th>\n",
              "      <th>3</th>\n",
              "      <th>4</th>\n",
              "      <th>5</th>\n",
              "    </tr>\n",
              "  </thead>\n",
              "  <tbody>\n",
              "    <tr>\n",
              "      <th>0</th>\n",
              "      <td>NaN</td>\n",
              "      <td>0.456018</td>\n",
              "      <td>0.452337</td>\n",
              "      <td>0.444810</td>\n",
              "      <td>0.439115</td>\n",
              "      <td>0.423720</td>\n",
              "    </tr>\n",
              "    <tr>\n",
              "      <th>1</th>\n",
              "      <td>0.456018</td>\n",
              "      <td>NaN</td>\n",
              "      <td>0.426482</td>\n",
              "      <td>0.430576</td>\n",
              "      <td>0.457107</td>\n",
              "      <td>0.400398</td>\n",
              "    </tr>\n",
              "    <tr>\n",
              "      <th>2</th>\n",
              "      <td>0.452337</td>\n",
              "      <td>0.426482</td>\n",
              "      <td>NaN</td>\n",
              "      <td>0.466459</td>\n",
              "      <td>0.423453</td>\n",
              "      <td>0.437327</td>\n",
              "    </tr>\n",
              "    <tr>\n",
              "      <th>3</th>\n",
              "      <td>0.444810</td>\n",
              "      <td>0.430576</td>\n",
              "      <td>0.466459</td>\n",
              "      <td>NaN</td>\n",
              "      <td>0.427926</td>\n",
              "      <td>0.460736</td>\n",
              "    </tr>\n",
              "    <tr>\n",
              "      <th>4</th>\n",
              "      <td>0.439115</td>\n",
              "      <td>0.457107</td>\n",
              "      <td>0.423453</td>\n",
              "      <td>0.427926</td>\n",
              "      <td>NaN</td>\n",
              "      <td>0.361265</td>\n",
              "    </tr>\n",
              "    <tr>\n",
              "      <th>5</th>\n",
              "      <td>0.423720</td>\n",
              "      <td>0.400398</td>\n",
              "      <td>0.437327</td>\n",
              "      <td>0.460736</td>\n",
              "      <td>0.361265</td>\n",
              "      <td>NaN</td>\n",
              "    </tr>\n",
              "  </tbody>\n",
              "</table>\n",
              "</div>"
            ],
            "text/plain": [
              "          0         1         2         3         4         5\n",
              "0       NaN  0.456018  0.452337  0.444810  0.439115  0.423720\n",
              "1  0.456018       NaN  0.426482  0.430576  0.457107  0.400398\n",
              "2  0.452337  0.426482       NaN  0.466459  0.423453  0.437327\n",
              "3  0.444810  0.430576  0.466459       NaN  0.427926  0.460736\n",
              "4  0.439115  0.457107  0.423453  0.427926       NaN  0.361265\n",
              "5  0.423720  0.400398  0.437327  0.460736  0.361265       NaN"
            ]
          },
          "metadata": {
            "tags": []
          }
        },
        {
          "output_type": "stream",
          "text": [
            "Average correlation: 0.43384857070062377\n"
          ],
          "name": "stdout"
        }
      ]
    }
  ]
}