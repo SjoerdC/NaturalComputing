{
 "cells": [
  {
   "cell_type": "code",
   "execution_count": 0,
   "metadata": {
    "colab": {},
    "colab_type": "code",
    "id": "fde69AMuOpox"
   },
   "outputs": [],
   "source": [
    "import keras\n",
    "import cv2\n",
    "import numpy as np\n",
    "import pandas as pd\n",
    "import tensorflow as tf\n",
    "from itertools import count\n",
    "from sklearn.metrics import accuracy_score\n",
    "from keras.datasets import mnist\n",
    "from keras.applications.vgg16 import VGG16\n",
    "from keras.layers import Dense, Dropout, Flatten, Activation, Input, Conv2D, MaxPooling2D, BatchNormalization, GlobalAveragePooling2D\n",
    "from sklearn.model_selection import train_test_split\n",
    "from keras.models import Model\n",
    "from keras.callbacks import EarlyStopping\n",
    "from scipy.stats import pearsonr\n",
    "from tqdm import tqdm"
   ]
  },
  {
   "cell_type": "code",
   "execution_count": 0,
   "metadata": {
    "colab": {},
    "colab_type": "code",
    "id": "qYrab7qpOppj"
   },
   "outputs": [],
   "source": [
    "BATCH_SIZE = 128\n",
    "EPOCHS = 9999\n",
    "IMAGE_SIZE = 28\n",
    "NUM_CLASSES = 10\n",
    "MODEL_ADDITION_DELTA = 0.01\n",
    "MODEL_ADDITION_PATIENCE = 3\n",
    "MODEL_NAME = \"MNIST_bagging\"\n",
    "PATH = \"\""
   ]
  },
  {
   "cell_type": "markdown",
   "metadata": {
    "colab_type": "text",
    "id": "R9M4_-IaBOsn"
   },
   "source": [
    "# Set seeds"
   ]
  },
  {
   "cell_type": "code",
   "execution_count": 0,
   "metadata": {
    "colab": {},
    "colab_type": "code",
    "id": "7n9nJGd_BQ-r"
   },
   "outputs": [],
   "source": [
    "np.random.seed(1)\n",
    "tf.random.set_seed(1)"
   ]
  },
  {
   "cell_type": "markdown",
   "metadata": {
    "colab_type": "text",
    "id": "g8QvEt97vF52"
   },
   "source": [
    "# Preprocess"
   ]
  },
  {
   "cell_type": "code",
   "execution_count": 0,
   "metadata": {
    "colab": {},
    "colab_type": "code",
    "id": "JtJIUBsFKeRO"
   },
   "outputs": [],
   "source": [
    "def preprocess(imgs):\n",
    "    \n",
    "    return imgs.reshape(imgs.shape[0], IMAGE_SIZE, IMAGE_SIZE, 1)"
   ]
  },
  {
   "cell_type": "code",
   "execution_count": 13,
   "metadata": {
    "colab": {
     "base_uri": "https://localhost:8080/",
     "height": 69
    },
    "colab_type": "code",
    "executionInfo": {
     "elapsed": 2346,
     "status": "ok",
     "timestamp": 1590064991025,
     "user": {
      "displayName": "Sjoerd Crooijmans",
      "photoUrl": "",
      "userId": "09709028669125175722"
     },
     "user_tz": -120
    },
    "id": "XypdmBJROpp9",
    "outputId": "0f428481-0d19-4198-ef33-df820e1360d0"
   },
   "outputs": [
    {
     "name": "stdout",
     "output_type": "stream",
     "text": [
      "x_train shape: (60000, 28, 28, 1)\n",
      "60000 train samples\n",
      "10000 test samples\n"
     ]
    }
   ],
   "source": [
    "(x_train, y_train), (x_test, y_test) = mnist.load_data()\n",
    "\n",
    "x_train = preprocess(x_train)\n",
    "x_test = preprocess(x_test)\n",
    "\n",
    "print('x_train shape:', x_train.shape)\n",
    "print(x_train.shape[0], 'train samples')\n",
    "print(x_test.shape[0], 'test samples')"
   ]
  },
  {
   "cell_type": "code",
   "execution_count": 0,
   "metadata": {
    "colab": {},
    "colab_type": "code",
    "id": "mo8yHyg-Opqo"
   },
   "outputs": [],
   "source": [
    "# Convert class vectors to binary class matrices.\n",
    "y_train = keras.utils.to_categorical(y_train, NUM_CLASSES)\n",
    "y_test = keras.utils.to_categorical(y_test, NUM_CLASSES)"
   ]
  },
  {
   "cell_type": "code",
   "execution_count": 0,
   "metadata": {
    "colab": {},
    "colab_type": "code",
    "id": "a4SYRuKZaIwb"
   },
   "outputs": [],
   "source": [
    "x_train = x_train.astype('float32')\n",
    "x_test = x_test.astype('float32')\n",
    "x_train /= 255\n",
    "x_test /= 255"
   ]
  },
  {
   "cell_type": "code",
   "execution_count": 0,
   "metadata": {
    "colab": {},
    "colab_type": "code",
    "id": "yLQOYIh0OW84"
   },
   "outputs": [],
   "source": [
    "# Split the data\n",
    "x_train, x_val, y_train, y_val = train_test_split(x_train, y_train, test_size=0.20, shuffle= True)"
   ]
  },
  {
   "cell_type": "markdown",
   "metadata": {
    "colab_type": "text",
    "id": "gIBGIrlkvOt0"
   },
   "source": [
    "# Model"
   ]
  },
  {
   "cell_type": "code",
   "execution_count": 0,
   "metadata": {
    "colab": {},
    "colab_type": "code",
    "id": "zLWph6_aOpr2"
   },
   "outputs": [],
   "source": [
    "def MNISTmodel(imsize, num_classes, num_channels):\n",
    "    inputs = Input((imsize,imsize,num_channels))\n",
    "    x = Conv2D(filters=16, kernel_size=(3,3), activation='relu',strides = 2)(inputs)\n",
    "    x = BatchNormalization()(x)\n",
    "    x = MaxPooling2D(pool_size=(2,2), strides=(2,2), padding='same')(x)\n",
    "    x = Conv2D(filters=16, kernel_size=(1,1), activation='relu', padding='valid')(x)\n",
    "    x = Conv2D(filters=10, kernel_size=(1,1),strides=(1,1), padding='valid')(x)\n",
    "    x = GlobalAveragePooling2D()(x)\n",
    "    outputs = Activation('softmax')(x)\n",
    "    \n",
    "    model = Model(inputs=inputs, outputs=outputs)\n",
    "\n",
    "    optimizer = keras.optimizers.Adam(learning_rate = 1e-04)\n",
    "\n",
    "    model.compile(loss='categorical_crossentropy',\n",
    "                      optimizer=optimizer,\n",
    "                      metrics=['accuracy'])\n",
    "    return model"
   ]
  },
  {
   "cell_type": "markdown",
   "metadata": {
    "colab_type": "text",
    "id": "EbiuqESLvTOY"
   },
   "source": [
    "# Predict"
   ]
  },
  {
   "cell_type": "code",
   "execution_count": 0,
   "metadata": {
    "colab": {},
    "colab_type": "code",
    "id": "JXFkx19XmqKe"
   },
   "outputs": [],
   "source": [
    "def predict(models, X, Y):\n",
    "    predictions = []\n",
    "\n",
    "    for m in tqdm(models):\n",
    "        predictions.append(np.argmax(m.predict(X), axis=1))\n",
    "\n",
    "    prediction = np.transpose(predictions)\n",
    "    prediction = np.apply_along_axis(lambda x: np.bincount(x).argmax(), axis=1, arr=prediction)\n",
    "\n",
    "    return accuracy_score(prediction, np.argmax(Y, axis=1))"
   ]
  },
  {
   "cell_type": "markdown",
   "metadata": {
    "colab_type": "text",
    "id": "TVqdcrD_vQ-Q"
   },
   "source": [
    "# Train"
   ]
  },
  {
   "cell_type": "code",
   "execution_count": 19,
   "metadata": {
    "colab": {
     "base_uri": "https://localhost:8080/",
     "height": 1000
    },
    "colab_type": "code",
    "executionInfo": {
     "elapsed": 98490,
     "status": "ok",
     "timestamp": 1590065087224,
     "user": {
      "displayName": "Sjoerd Crooijmans",
      "photoUrl": "",
      "userId": "09709028669125175722"
     },
     "user_tz": -120
    },
    "id": "HjvZqLBJOpsw",
    "outputId": "76be99ff-44a1-425e-d98e-ce8e3734b12a"
   },
   "outputs": [
    {
     "name": "stdout",
     "output_type": "stream",
     "text": [
      "Train model 1\n",
      "Train on 48000 samples, validate on 10000 samples\n",
      "Epoch 1/10\n",
      "48000/48000 [==============================] - 8s 171us/step - loss: 2.2966 - accuracy: 0.0793 - val_loss: 2.2868 - val_accuracy: 0.1027\n",
      "Epoch 2/10\n",
      "48000/48000 [==============================] - 2s 38us/step - loss: 2.2455 - accuracy: 0.1744 - val_loss: 2.2176 - val_accuracy: 0.2051\n",
      "Epoch 3/10\n",
      "48000/48000 [==============================] - 2s 39us/step - loss: 2.1816 - accuracy: 0.2296 - val_loss: 2.1442 - val_accuracy: 0.2317\n",
      "Epoch 4/10\n",
      "48000/48000 [==============================] - 2s 37us/step - loss: 2.1117 - accuracy: 0.2549 - val_loss: 2.0738 - val_accuracy: 0.2654\n",
      "Epoch 5/10\n",
      "48000/48000 [==============================] - 2s 36us/step - loss: 2.0384 - accuracy: 0.2822 - val_loss: 1.9989 - val_accuracy: 0.2941\n",
      "Epoch 6/10\n",
      "48000/48000 [==============================] - 2s 38us/step - loss: 1.9587 - accuracy: 0.3077 - val_loss: 1.9178 - val_accuracy: 0.3169\n",
      "Epoch 7/10\n",
      "48000/48000 [==============================] - 2s 38us/step - loss: 1.8823 - accuracy: 0.3388 - val_loss: 1.8451 - val_accuracy: 0.3367\n",
      "Epoch 8/10\n",
      "48000/48000 [==============================] - 2s 38us/step - loss: 1.8115 - accuracy: 0.3722 - val_loss: 1.7800 - val_accuracy: 0.3685\n",
      "Epoch 9/10\n",
      "48000/48000 [==============================] - 2s 37us/step - loss: 1.7537 - accuracy: 0.3975 - val_loss: 1.7219 - val_accuracy: 0.3924\n",
      "Epoch 10/10\n",
      "48000/48000 [==============================] - 2s 37us/step - loss: 1.7046 - accuracy: 0.4144 - val_loss: 1.6746 - val_accuracy: 0.4100\n"
     ]
    },
    {
     "name": "stderr",
     "output_type": "stream",
     "text": [
      "100%|██████████| 1/1 [00:00<00:00,  2.11it/s]\n"
     ]
    },
    {
     "name": "stdout",
     "output_type": "stream",
     "text": [
      "Model: 1 added. Resulting score: 0.41833333333333333, Delta: 0.41833333333333333, Patience: 0\n",
      "Train model 2\n",
      "Train on 48000 samples, validate on 10000 samples\n",
      "Epoch 1/10\n",
      "48000/48000 [==============================] - 2s 43us/step - loss: 2.3446 - accuracy: 0.1329 - val_loss: 2.3055 - val_accuracy: 0.1058\n",
      "Epoch 2/10\n",
      "48000/48000 [==============================] - 2s 38us/step - loss: 2.2672 - accuracy: 0.1882 - val_loss: 2.2474 - val_accuracy: 0.2110\n",
      "Epoch 3/10\n",
      "48000/48000 [==============================] - 2s 38us/step - loss: 2.2071 - accuracy: 0.2050 - val_loss: 2.1795 - val_accuracy: 0.2168\n",
      "Epoch 4/10\n",
      "48000/48000 [==============================] - 2s 38us/step - loss: 2.1476 - accuracy: 0.2300 - val_loss: 2.1167 - val_accuracy: 0.2330\n",
      "Epoch 5/10\n",
      "48000/48000 [==============================] - 2s 38us/step - loss: 2.0759 - accuracy: 0.2909 - val_loss: 2.0351 - val_accuracy: 0.3458\n",
      "Epoch 6/10\n",
      "48000/48000 [==============================] - 2s 37us/step - loss: 1.9973 - accuracy: 0.3625 - val_loss: 1.9560 - val_accuracy: 0.3567\n",
      "Epoch 7/10\n",
      "48000/48000 [==============================] - 2s 38us/step - loss: 1.9250 - accuracy: 0.3720 - val_loss: 1.8852 - val_accuracy: 0.3710\n",
      "Epoch 8/10\n",
      "48000/48000 [==============================] - 2s 37us/step - loss: 1.8601 - accuracy: 0.3817 - val_loss: 1.8229 - val_accuracy: 0.3854\n",
      "Epoch 9/10\n",
      "48000/48000 [==============================] - 2s 38us/step - loss: 1.8017 - accuracy: 0.3933 - val_loss: 1.7659 - val_accuracy: 0.4009\n",
      "Epoch 10/10\n",
      "48000/48000 [==============================] - 2s 37us/step - loss: 1.7502 - accuracy: 0.4071 - val_loss: 1.7157 - val_accuracy: 0.4124\n"
     ]
    },
    {
     "name": "stderr",
     "output_type": "stream",
     "text": [
      "100%|██████████| 2/2 [00:00<00:00,  2.34it/s]\n"
     ]
    },
    {
     "name": "stdout",
     "output_type": "stream",
     "text": [
      "Model: 2 added. Resulting score: 0.408, Delta: -0.010333333333333361, Patience: 1\n",
      "Train model 3\n",
      "Train on 48000 samples, validate on 10000 samples\n",
      "Epoch 1/10\n",
      "48000/48000 [==============================] - 2s 44us/step - loss: 2.2997 - accuracy: 0.1581 - val_loss: 2.2806 - val_accuracy: 0.1941\n",
      "Epoch 2/10\n",
      "48000/48000 [==============================] - 2s 39us/step - loss: 2.2256 - accuracy: 0.2458 - val_loss: 2.1949 - val_accuracy: 0.2717\n",
      "Epoch 3/10\n",
      "48000/48000 [==============================] - 2s 39us/step - loss: 2.1487 - accuracy: 0.2907 - val_loss: 2.0939 - val_accuracy: 0.3038\n",
      "Epoch 4/10\n",
      "48000/48000 [==============================] - 2s 39us/step - loss: 2.0594 - accuracy: 0.3172 - val_loss: 2.0135 - val_accuracy: 0.3196\n",
      "Epoch 5/10\n",
      "48000/48000 [==============================] - 2s 39us/step - loss: 1.9857 - accuracy: 0.3288 - val_loss: 1.9432 - val_accuracy: 0.3302\n",
      "Epoch 6/10\n",
      "48000/48000 [==============================] - 2s 38us/step - loss: 1.9189 - accuracy: 0.3376 - val_loss: 1.8806 - val_accuracy: 0.3363\n",
      "Epoch 7/10\n",
      "48000/48000 [==============================] - 2s 39us/step - loss: 1.8594 - accuracy: 0.3473 - val_loss: 1.8215 - val_accuracy: 0.3575\n",
      "Epoch 8/10\n",
      "48000/48000 [==============================] - 2s 39us/step - loss: 1.8068 - accuracy: 0.3626 - val_loss: 1.7715 - val_accuracy: 0.3575\n",
      "Epoch 9/10\n",
      "48000/48000 [==============================] - 2s 39us/step - loss: 1.7603 - accuracy: 0.3704 - val_loss: 1.7299 - val_accuracy: 0.3688\n",
      "Epoch 10/10\n",
      "48000/48000 [==============================] - 2s 38us/step - loss: 1.7194 - accuracy: 0.3841 - val_loss: 1.6885 - val_accuracy: 0.3891\n"
     ]
    },
    {
     "name": "stderr",
     "output_type": "stream",
     "text": [
      "100%|██████████| 3/3 [00:01<00:00,  2.36it/s]\n"
     ]
    },
    {
     "name": "stdout",
     "output_type": "stream",
     "text": [
      "Model: 3 added. Resulting score: 0.4205833333333333, Delta: 0.012583333333333335, Patience: 2\n",
      "Train model 4\n",
      "Train on 48000 samples, validate on 10000 samples\n",
      "Epoch 1/10\n",
      "48000/48000 [==============================] - 2s 43us/step - loss: 2.2980 - accuracy: 0.1309 - val_loss: 2.2743 - val_accuracy: 0.1701\n",
      "Epoch 2/10\n",
      "48000/48000 [==============================] - 2s 37us/step - loss: 2.2354 - accuracy: 0.1687 - val_loss: 2.2104 - val_accuracy: 0.2403\n",
      "Epoch 3/10\n",
      "48000/48000 [==============================] - 2s 37us/step - loss: 2.1746 - accuracy: 0.2466 - val_loss: 2.1359 - val_accuracy: 0.2629\n",
      "Epoch 4/10\n",
      "48000/48000 [==============================] - 2s 38us/step - loss: 2.0941 - accuracy: 0.2661 - val_loss: 2.0437 - val_accuracy: 0.2812\n",
      "Epoch 5/10\n",
      "48000/48000 [==============================] - 2s 38us/step - loss: 2.0043 - accuracy: 0.2971 - val_loss: 1.9530 - val_accuracy: 0.3188\n",
      "Epoch 6/10\n",
      "48000/48000 [==============================] - 2s 38us/step - loss: 1.9238 - accuracy: 0.3288 - val_loss: 1.8785 - val_accuracy: 0.3411\n",
      "Epoch 7/10\n",
      "48000/48000 [==============================] - 2s 38us/step - loss: 1.8557 - accuracy: 0.3507 - val_loss: 1.8163 - val_accuracy: 0.3582\n",
      "Epoch 8/10\n",
      "48000/48000 [==============================] - 2s 37us/step - loss: 1.7996 - accuracy: 0.3661 - val_loss: 1.7631 - val_accuracy: 0.3741\n",
      "Epoch 9/10\n",
      "48000/48000 [==============================] - 2s 40us/step - loss: 1.7511 - accuracy: 0.3817 - val_loss: 1.7162 - val_accuracy: 0.3968\n",
      "Epoch 10/10\n",
      "48000/48000 [==============================] - 2s 39us/step - loss: 1.7086 - accuracy: 0.3961 - val_loss: 1.6753 - val_accuracy: 0.3999\n"
     ]
    },
    {
     "name": "stderr",
     "output_type": "stream",
     "text": [
      "100%|██████████| 4/4 [00:01<00:00,  2.30it/s]"
     ]
    },
    {
     "name": "stdout",
     "output_type": "stream",
     "text": [
      "Model: 4 added. Resulting score: 0.41883333333333334, Delta: -0.0017499999999999738, Patience: 3\n"
     ]
    },
    {
     "name": "stderr",
     "output_type": "stream",
     "text": [
      "\n"
     ]
    }
   ],
   "source": [
    "models = []\n",
    "accuracies = [0]\n",
    "patience = 0\n",
    "\n",
    "for i in count(1):\n",
    "\n",
    "    print(f\"Train model {i}\")\n",
    "    idx = np.random.choice(len(x_train), size=len(x_train), replace=True)\n",
    "\n",
    "    x_train_model = x_train[idx]\n",
    "    y_train_model = y_train[idx]\n",
    "\n",
    "    model = MNISTmodel(IMAGE_SIZE, NUM_CLASSES, 1)\n",
    "    \n",
    "    es = EarlyStopping(min_delta=0.01, patience=3)\n",
    "    model.fit(x_train_model,y_train_model,\n",
    "              batch_size = BATCH_SIZE,\n",
    "              epochs = EPOCHS,\n",
    "              validation_data = (x_test,y_test),\n",
    "              shuffle = True,\n",
    "              callbacks=[es])\n",
    "    \n",
    "    model.save_weights(PATH + MODEL_NAME + f\"_weights-{i}.h5\" )\n",
    "    models.append(model)\n",
    "\n",
    "    acc = predict(models, x_val, y_val)\n",
    "    delta = acc - accuracies[-1]\n",
    "\n",
    "    accuracies.append(acc)\n",
    "\n",
    "    if delta >= MODEL_ADDITION_DELTA:\n",
    "      patience = 0\n",
    "    else:\n",
    "      patience += 1\n",
    "\n",
    "    print(f\"Model: {i} added. Resulting score: {acc}, Delta: {delta}, Patience: {patience}\")\n",
    "\n",
    "    if patience >= MODEL_ADDITION_PATIENCE:\n",
    "      break"
   ]
  },
  {
   "cell_type": "markdown",
   "metadata": {
    "colab_type": "text",
    "id": "fGT6jV-hcLbJ"
   },
   "source": [
    "# Results"
   ]
  },
  {
   "cell_type": "markdown",
   "metadata": {
    "colab_type": "text",
    "id": "CurcmjMCcrJI"
   },
   "source": [
    "# Accuracy vs nr of models\n",
    "Visualizing the accuracy vs the number of models in the ensamble"
   ]
  },
  {
   "cell_type": "code",
   "execution_count": 20,
   "metadata": {
    "colab": {
     "base_uri": "https://localhost:8080/",
     "height": 206
    },
    "colab_type": "code",
    "executionInfo": {
     "elapsed": 98486,
     "status": "ok",
     "timestamp": 1590065087228,
     "user": {
      "displayName": "Sjoerd Crooijmans",
      "photoUrl": "",
      "userId": "09709028669125175722"
     },
     "user_tz": -120
    },
    "id": "yvZLQyb5cg7R",
    "outputId": "9dc1b5b8-8d42-41f8-f1bc-7978c25f36b9"
   },
   "outputs": [
    {
     "data": {
      "text/html": [
       "<div>\n",
       "<style scoped>\n",
       "    .dataframe tbody tr th:only-of-type {\n",
       "        vertical-align: middle;\n",
       "    }\n",
       "\n",
       "    .dataframe tbody tr th {\n",
       "        vertical-align: top;\n",
       "    }\n",
       "\n",
       "    .dataframe thead th {\n",
       "        text-align: right;\n",
       "    }\n",
       "</style>\n",
       "<table border=\"1\" class=\"dataframe\">\n",
       "  <thead>\n",
       "    <tr style=\"text-align: right;\">\n",
       "      <th></th>\n",
       "      <th>Accuracy</th>\n",
       "      <th>Nr of models</th>\n",
       "    </tr>\n",
       "  </thead>\n",
       "  <tbody>\n",
       "    <tr>\n",
       "      <th>0</th>\n",
       "      <td>0.000000</td>\n",
       "      <td>0</td>\n",
       "    </tr>\n",
       "    <tr>\n",
       "      <th>1</th>\n",
       "      <td>0.418333</td>\n",
       "      <td>1</td>\n",
       "    </tr>\n",
       "    <tr>\n",
       "      <th>2</th>\n",
       "      <td>0.408000</td>\n",
       "      <td>2</td>\n",
       "    </tr>\n",
       "    <tr>\n",
       "      <th>3</th>\n",
       "      <td>0.420583</td>\n",
       "      <td>3</td>\n",
       "    </tr>\n",
       "    <tr>\n",
       "      <th>4</th>\n",
       "      <td>0.418833</td>\n",
       "      <td>4</td>\n",
       "    </tr>\n",
       "  </tbody>\n",
       "</table>\n",
       "</div>"
      ],
      "text/plain": [
       "   Accuracy  Nr of models\n",
       "0  0.000000             0\n",
       "1  0.418333             1\n",
       "2  0.408000             2\n",
       "3  0.420583             3\n",
       "4  0.418833             4"
      ]
     },
     "metadata": {
      "tags": []
     },
     "output_type": "display_data"
    }
   ],
   "source": [
    "accuracy_df = pd.DataFrame(accuracies, columns=[\"Accuracy\"])\n",
    "accuracy_df.insert(1, \"Nr of models\", accuracy_df.index)\n",
    "\n",
    "display(accuracy_df)\n",
    "\n",
    "accuracy_df.to_csv(PATH + MODEL_NAME + \"_accuracy.csv\")"
   ]
  },
  {
   "cell_type": "code",
   "execution_count": 28,
   "metadata": {
    "colab": {
     "base_uri": "https://localhost:8080/",
     "height": 279
    },
    "colab_type": "code",
    "executionInfo": {
     "elapsed": 841,
     "status": "ok",
     "timestamp": 1590065218181,
     "user": {
      "displayName": "Sjoerd Crooijmans",
      "photoUrl": "",
      "userId": "09709028669125175722"
     },
     "user_tz": -120
    },
    "id": "sXq8Uj3lenzH",
    "outputId": "634580cf-4be9-411c-d458-dcea0a2ecf43"
   },
   "outputs": [
    {
     "data": {
      "image/png": "[encoded data removed]",
      "text/plain": [
       "<Figure size 432x288 with 1 Axes>"
      ]
     },
     "metadata": {
      "needs_background": "light",
      "tags": []
     },
     "output_type": "display_data"
    }
   ],
   "source": [
    "import matplotlib.pyplot as plt\n",
    "\n",
    "# remove first row\n",
    "accuracy_df = accuracy_df.iloc[1:]\n",
    "\n",
    "accuracy_df.plot(x=\"Nr of models\", y=\"Accuracy\", xticks=accuracy_df[\"Nr of models\"])\n",
    "plt.show()"
   ]
  },
  {
   "cell_type": "markdown",
   "metadata": {
    "colab_type": "text",
    "id": "51rnX_l7Pfdr"
   },
   "source": [
    "## Accuracy\n",
    "The final accuracy of the ensamble on the test set"
   ]
  },
  {
   "cell_type": "code",
   "execution_count": 22,
   "metadata": {
    "colab": {
     "base_uri": "https://localhost:8080/",
     "height": 52
    },
    "colab_type": "code",
    "executionInfo": {
     "elapsed": 100068,
     "status": "ok",
     "timestamp": 1590065088826,
     "user": {
      "displayName": "Sjoerd Crooijmans",
      "photoUrl": "",
      "userId": "09709028669125175722"
     },
     "user_tz": -120
    },
    "id": "GwNmmvSFPlVx",
    "outputId": "ba58bade-b767-4b5f-a6d3-1e429c179832"
   },
   "outputs": [
    {
     "name": "stderr",
     "output_type": "stream",
     "text": [
      "100%|██████████| 4/4 [00:01<00:00,  3.03it/s]"
     ]
    },
    {
     "name": "stdout",
     "output_type": "stream",
     "text": [
      "Accuracy: 0.4123\n"
     ]
    },
    {
     "name": "stderr",
     "output_type": "stream",
     "text": [
      "\n"
     ]
    }
   ],
   "source": [
    "print(\"Accuracy: \" + str(predict(models, x_test, y_test)))"
   ]
  },
  {
   "cell_type": "markdown",
   "metadata": {
    "colab_type": "text",
    "id": "NMfc-h8xAYQu"
   },
   "source": [
    "## Correlation between models"
   ]
  },
  {
   "cell_type": "code",
   "execution_count": 23,
   "metadata": {
    "colab": {
     "base_uri": "https://localhost:8080/",
     "height": 34
    },
    "colab_type": "code",
    "executionInfo": {
     "elapsed": 101021,
     "status": "ok",
     "timestamp": 1590065089785,
     "user": {
      "displayName": "Sjoerd Crooijmans",
      "photoUrl": "",
      "userId": "09709028669125175722"
     },
     "user_tz": -120
    },
    "id": "0N9wSXF1iSp3",
    "outputId": "bf8c7559-e6f1-4c7c-9d34-86fd5a6be585"
   },
   "outputs": [
    {
     "name": "stderr",
     "output_type": "stream",
     "text": [
      "100%|██████████| 4/4 [00:01<00:00,  3.02it/s]\n"
     ]
    }
   ],
   "source": [
    "predictions = []\n",
    "\n",
    "for m in tqdm(models):\n",
    "    predictions.append(np.argmax(m.predict(x_test), axis=1))"
   ]
  },
  {
   "cell_type": "code",
   "execution_count": 24,
   "metadata": {
    "colab": {
     "base_uri": "https://localhost:8080/",
     "height": 192
    },
    "colab_type": "code",
    "executionInfo": {
     "elapsed": 101018,
     "status": "ok",
     "timestamp": 1590065089789,
     "user": {
      "displayName": "Sjoerd Crooijmans",
      "photoUrl": "",
      "userId": "09709028669125175722"
     },
     "user_tz": -120
    },
    "id": "FAky42lMV102",
    "outputId": "ad544244-4f0d-448b-d1f9-8978465e3ebd"
   },
   "outputs": [
    {
     "data": {
      "text/html": [
       "<div>\n",
       "<style scoped>\n",
       "    .dataframe tbody tr th:only-of-type {\n",
       "        vertical-align: middle;\n",
       "    }\n",
       "\n",
       "    .dataframe tbody tr th {\n",
       "        vertical-align: top;\n",
       "    }\n",
       "\n",
       "    .dataframe thead th {\n",
       "        text-align: right;\n",
       "    }\n",
       "</style>\n",
       "<table border=\"1\" class=\"dataframe\">\n",
       "  <thead>\n",
       "    <tr style=\"text-align: right;\">\n",
       "      <th></th>\n",
       "      <th>0</th>\n",
       "      <th>1</th>\n",
       "      <th>2</th>\n",
       "      <th>3</th>\n",
       "    </tr>\n",
       "  </thead>\n",
       "  <tbody>\n",
       "    <tr>\n",
       "      <th>0</th>\n",
       "      <td>NaN</td>\n",
       "      <td>0.552457</td>\n",
       "      <td>0.628797</td>\n",
       "      <td>0.570450</td>\n",
       "    </tr>\n",
       "    <tr>\n",
       "      <th>1</th>\n",
       "      <td>0.552457</td>\n",
       "      <td>NaN</td>\n",
       "      <td>0.681488</td>\n",
       "      <td>0.632822</td>\n",
       "    </tr>\n",
       "    <tr>\n",
       "      <th>2</th>\n",
       "      <td>0.628797</td>\n",
       "      <td>0.681488</td>\n",
       "      <td>NaN</td>\n",
       "      <td>0.702142</td>\n",
       "    </tr>\n",
       "    <tr>\n",
       "      <th>3</th>\n",
       "      <td>0.570450</td>\n",
       "      <td>0.632822</td>\n",
       "      <td>0.702142</td>\n",
       "      <td>NaN</td>\n",
       "    </tr>\n",
       "  </tbody>\n",
       "</table>\n",
       "</div>"
      ],
      "text/plain": [
       "          0         1         2         3\n",
       "0       NaN  0.552457  0.628797  0.570450\n",
       "1  0.552457       NaN  0.681488  0.632822\n",
       "2  0.628797  0.681488       NaN  0.702142\n",
       "3  0.570450  0.632822  0.702142       NaN"
      ]
     },
     "metadata": {
      "tags": []
     },
     "output_type": "display_data"
    },
    {
     "name": "stdout",
     "output_type": "stream",
     "text": [
      "Average correlation: 0.6280261025736907\n"
     ]
    }
   ],
   "source": [
    "correlation_matrix = []\n",
    "\n",
    "for ix, x in enumerate(predictions):\n",
    "  row = []\n",
    "  \n",
    "  for iy, y in enumerate(predictions):\n",
    "    if (ix == iy):\n",
    "      row.append(np.nan)\n",
    "    else:\n",
    "      row.append(pearsonr(x,y)[0])\n",
    "\n",
    "  correlation_matrix.append(row)\n",
    "\n",
    "correlation_matrix = np.array(correlation_matrix)\n",
    "display(pd.DataFrame(correlation_matrix))\n",
    "print(\"Average correlation: \" + str(np.nanmean(correlation_matrix.flatten())))"
   ]
  }
 ],
 "metadata": {
  "accelerator": "GPU",
  "colab": {
   "collapsed_sections": [],
   "name": "baggingMNIST.ipynb",
   "provenance": [],
   "toc_visible": true
  },
  "kernelspec": {
   "display_name": "Python 3",
   "language": "python",
   "name": "python3"
  },
  "language_info": {
   "codemirror_mode": {
    "name": "ipython",
    "version": 3
   },
   "file_extension": ".py",
   "mimetype": "text/x-python",
   "name": "python",
   "nbconvert_exporter": "python",
   "pygments_lexer": "ipython3",
   "version": "3.7.4"
  }
 },
 "nbformat": 4,
 "nbformat_minor": 1
}
