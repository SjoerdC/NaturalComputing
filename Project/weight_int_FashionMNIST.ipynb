{
  "nbformat": 4,
  "nbformat_minor": 0,
  "metadata": {
    "accelerator": "GPU",
    "colab": {
      "name": "weight_int_FashionMNIST.ipynb",
      "provenance": [],
      "collapsed_sections": [],
      "toc_visible": true
    },
    "kernelspec": {
      "display_name": "Python 3",
      "language": "python",
      "name": "python3"
    },
    "language_info": {
      "codemirror_mode": {
        "name": "ipython",
        "version": 3
      },
      "file_extension": ".py",
      "mimetype": "text/x-python",
      "name": "python",
      "nbconvert_exporter": "python",
      "pygments_lexer": "ipython3",
      "version": "3.7.4"
    }
  },
  "cells": [
    {
      "cell_type": "code",
      "metadata": {
        "colab_type": "code",
        "id": "fde69AMuOpox",
        "outputId": "f0f30dbc-bde7-45f0-93a7-1921da40051d",
        "colab": {
          "base_uri": "https://localhost:8080/",
          "height": 34
        }
      },
      "source": [
        "import keras\n",
        "import cv2\n",
        "import numpy as np\n",
        "import pandas as pd\n",
        "import tensorflow as tf\n",
        "from tensorflow.keras import initializers\n",
        "from itertools import count\n",
        "from sklearn.metrics import accuracy_score\n",
        "from keras.datasets import fashion_mnist\n",
        "from keras.applications.vgg16 import VGG16\n",
        "from keras import layers\n",
        "from keras.layers import Dense, Dropout, Flatten, Activation, Input, Conv2D, MaxPooling2D, BatchNormalization, GlobalAveragePooling2D\n",
        "from keras.models import Model\n",
        "from sklearn.model_selection import train_test_split\n",
        "from keras.callbacks import EarlyStopping\n",
        "from scipy.stats import pearsonr\n",
        "from tqdm import tqdm"
      ],
      "execution_count": 1,
      "outputs": [
        {
          "output_type": "stream",
          "text": [
            "Using TensorFlow backend.\n"
          ],
          "name": "stderr"
        }
      ]
    },
    {
      "cell_type": "code",
      "metadata": {
        "colab_type": "code",
        "id": "qYrab7qpOppj",
        "colab": {}
      },
      "source": [
        "BATCH_SIZE = 128\n",
        "EPOCHS = 10\n",
        "IMAGE_SIZE = 28\n",
        "NUM_CLASSES = 10\n",
        "NUM_CHANNELS = 1\n",
        "MODEL_ADDITION_DELTA = 0.01\n",
        "MODEL_ADDITION_PATIENCE = 3\n",
        "MODEL_NAME = \"MNIST_weight_init\"\n",
        "PATH = \"\""
      ],
      "execution_count": 0,
      "outputs": []
    },
    {
      "cell_type": "markdown",
      "metadata": {
        "colab_type": "text",
        "id": "R9M4_-IaBOsn"
      },
      "source": [
        "# Set seeds"
      ]
    },
    {
      "cell_type": "code",
      "metadata": {
        "colab_type": "code",
        "id": "7n9nJGd_BQ-r",
        "colab": {}
      },
      "source": [
        "np.random.seed(1)\n",
        "tf.random.set_seed(1)"
      ],
      "execution_count": 0,
      "outputs": []
    },
    {
      "cell_type": "markdown",
      "metadata": {
        "colab_type": "text",
        "id": "g8QvEt97vF52"
      },
      "source": [
        "# Preprocess"
      ]
    },
    {
      "cell_type": "code",
      "metadata": {
        "colab_type": "code",
        "id": "JtJIUBsFKeRO",
        "colab": {}
      },
      "source": [
        "def preprocess(imgs):\n",
        "    \n",
        "    return imgs.reshape(imgs.shape[0], IMAGE_SIZE, IMAGE_SIZE, 1)"
      ],
      "execution_count": 0,
      "outputs": []
    },
    {
      "cell_type": "code",
      "metadata": {
        "colab_type": "code",
        "id": "XypdmBJROpp9",
        "outputId": "140b67a1-7a0a-46ea-c8bc-befcb3c31535",
        "colab": {
          "base_uri": "https://localhost:8080/",
          "height": 68
        }
      },
      "source": [
        "(x_train, y_train), (x_test, y_test) = fashion_mnist.load_data()\n",
        "\n",
        "x_train = preprocess(x_train)\n",
        "x_test = preprocess(x_test)\n",
        "\n",
        "print('x_train shape:', x_train.shape)\n",
        "print(x_train.shape[0], 'train samples')\n",
        "print(x_test.shape[0], 'test samples')"
      ],
      "execution_count": 5,
      "outputs": [
        {
          "output_type": "stream",
          "text": [
            "x_train shape: (60000, 28, 28, 1)\n",
            "60000 train samples\n",
            "10000 test samples\n"
          ],
          "name": "stdout"
        }
      ]
    },
    {
      "cell_type": "code",
      "metadata": {
        "colab_type": "code",
        "id": "mo8yHyg-Opqo",
        "colab": {}
      },
      "source": [
        "# Convert class vectors to binary class matrices.\n",
        "y_train = keras.utils.to_categorical(y_train, NUM_CLASSES)\n",
        "y_testc = keras.utils.to_categorical(y_test, NUM_CLASSES)"
      ],
      "execution_count": 0,
      "outputs": []
    },
    {
      "cell_type": "code",
      "metadata": {
        "colab_type": "code",
        "id": "a4SYRuKZaIwb",
        "colab": {}
      },
      "source": [
        "x_train = x_train.astype('float32')\n",
        "x_test = x_test.astype('float32')\n",
        "x_train /= 255\n",
        "x_test /= 255"
      ],
      "execution_count": 0,
      "outputs": []
    },
    {
      "cell_type": "code",
      "metadata": {
        "colab_type": "code",
        "id": "vBci5ba9hiaQ",
        "colab": {}
      },
      "source": [
        "# Split the data\n",
        "x_train, x_val, y_train, y_val = train_test_split(x_train, y_train, test_size=0.20, shuffle= True)"
      ],
      "execution_count": 0,
      "outputs": []
    },
    {
      "cell_type": "markdown",
      "metadata": {
        "colab_type": "text",
        "id": "gIBGIrlkvOt0"
      },
      "source": [
        "# Model"
      ]
    },
    {
      "cell_type": "code",
      "metadata": {
        "colab_type": "code",
        "id": "zLWph6_aOpr2",
        "colab": {}
      },
      "source": [
        "def FashionMNISTmodel(imsize, num_classes, num_channels):\n",
        "    inputs = Input((imsize,imsize,num_channels))\n",
        "    x = Conv2D(filters = 32, kernel_size = (3,3), activation = 'relu', strides = 2)(inputs)\n",
        "    x = BatchNormalization()(x)\n",
        "    x = MaxPooling2D(pool_size = (2,2), strides=(2,2), padding = \"same\")(x)\n",
        "    x = Conv2D(filters=32, kernel_size=(1,1), activation='relu', padding='valid')(x)\n",
        "    x = Conv2D(filters = 10, kernel_size = (1,1),strides = (1,1), padding = 'valid')(x)\n",
        "    x = GlobalAveragePooling2D()(x)\n",
        "    outputs = Activation('softmax')(x)\n",
        "    \n",
        "    model = Model(inputs=inputs, outputs=outputs)\n",
        "    \n",
        "    optimizer = keras.optimizers.Adam(learning_rate = 1e-04)\n",
        "\n",
        "    model.compile(loss='categorical_crossentropy',\n",
        "                      optimizer=optimizer,\n",
        "                      metrics=['accuracy'])\n",
        "    return model"
      ],
      "execution_count": 0,
      "outputs": []
    },
    {
      "cell_type": "markdown",
      "metadata": {
        "colab_type": "text",
        "id": "EbiuqESLvTOY"
      },
      "source": [
        "# Predict"
      ]
    },
    {
      "cell_type": "markdown",
      "metadata": {
        "colab_type": "text",
        "id": "TVqdcrD_vQ-Q"
      },
      "source": [
        "# Train"
      ]
    },
    {
      "cell_type": "code",
      "metadata": {
        "colab_type": "code",
        "id": "HjvZqLBJOpsw",
        "outputId": "d79cdba6-228a-46ff-dd7a-a660f0edacb9",
        "colab": {
          "base_uri": "https://localhost:8080/",
          "height": 1000
        }
      },
      "source": [
        "models = []\n",
        "accuracies = []\n",
        "predictions = []\n",
        "initializer = [\"Zero\",\"Ones\",\"Random Normal\",\"Random Uniform\",\"Identity\",\"Orthogonal\",\"Glorot Normal\",\"Glorot Uniform\"]\n",
        "for i in range(len(initializer)):\n",
        "\n",
        "    print(f\"Train model {i}\")\n",
        "    print(f\"Weight init method: {initializer[i]} \")\n",
        "    model = FashionMNISTmodel(IMAGE_SIZE,NUM_CLASSES,NUM_CHANNELS)\n",
        "    \n",
        "    for layer in model.layers: \n",
        "        if hasattr(layer, 'kernel_initializer'):\n",
        "            if(initializer[i] == \"Zero\"):\n",
        "                layer.kernel_initializer = initializers.Zeros()\n",
        "            elif(initializer[i] == \"Ones\"):\n",
        "                layer.kernel_initializer = initializers.Ones()\n",
        "            elif(initializer[i] == \"Random Normal\"):\n",
        "                layer.kernel_initializer = initializers.RandomNormal()\n",
        "            elif(initializer[i] == \"Random Unifrom\"):\n",
        "                layer.kernel_initializer = initializers.RandomUniform()\n",
        "            elif(initializer[i] == \"Identity\"):\n",
        "                layer.kernel_initializer = initializers.Identity()\n",
        "            elif(initializer[i] == \"Orthogonal\"):\n",
        "                layer.kernel_initializer = initializers.Orthogonal()\n",
        "            elif(initializer[i] == \"Glorot Normal\"):\n",
        "                layer.kernel_initializer = initializers.GlorotNormal()\n",
        "            elif(initializer[i] == \"Glorot Unifrom\"):\n",
        "                layer.kernel_initializer = initializers.GlorotUnifrom()\n",
        "          \n",
        "    es = EarlyStopping(monitor='val_categorical_accuracy', mode='max', min_delta=0.01, patience=3)\n",
        "    model.fit(x_train,y_train,\n",
        "              batch_size = BATCH_SIZE,\n",
        "              epochs = EPOCHS,\n",
        "              validation_data = (x_val,y_val),\n",
        "              shuffle = True,\n",
        "              callbacks=[es])\n",
        "    models.append(model)\n",
        "    y_prob = model.predict(x_test) \n",
        "    predictions.append(y_prob.argmax(axis=-1))\n",
        "    acc = model.evaluate(x_test,y_testc)[1]\n",
        "    accuracies.append(acc)\n",
        "\n",
        "    print(f\"Model: {i} added. Resulting score: {acc}\")\n"
      ],
      "execution_count": 10,
      "outputs": [
        {
          "output_type": "stream",
          "text": [
            "Train model 0\n",
            "Weight init method: Zero \n",
            "Train on 48000 samples, validate on 12000 samples\n",
            "Epoch 1/10\n",
            "48000/48000 [==============================] - 4s 93us/step - loss: 2.1487 - accuracy: 0.2455 - val_loss: 2.1680 - val_accuracy: 0.2932\n",
            "Epoch 2/10\n",
            " 3456/48000 [=>............................] - ETA: 2s - loss: 1.9920 - accuracy: 0.3571"
          ],
          "name": "stdout"
        },
        {
          "output_type": "stream",
          "text": [
            "/usr/local/lib/python3.6/dist-packages/keras/callbacks/callbacks.py:846: RuntimeWarning: Early stopping conditioned on metric `val_categorical_accuracy` which is not available. Available metrics are: val_loss,val_accuracy,loss,accuracy\n",
            "  (self.monitor, ','.join(list(logs.keys()))), RuntimeWarning\n"
          ],
          "name": "stderr"
        },
        {
          "output_type": "stream",
          "text": [
            "48000/48000 [==============================] - 3s 55us/step - loss: 1.9000 - accuracy: 0.3768 - val_loss: 1.8021 - val_accuracy: 0.4241\n",
            "Epoch 3/10\n",
            "48000/48000 [==============================] - 3s 55us/step - loss: 1.7052 - accuracy: 0.4329 - val_loss: 1.6046 - val_accuracy: 0.4569\n",
            "Epoch 4/10\n",
            "48000/48000 [==============================] - 3s 56us/step - loss: 1.5538 - accuracy: 0.4793 - val_loss: 1.4684 - val_accuracy: 0.5028\n",
            "Epoch 5/10\n",
            "48000/48000 [==============================] - 3s 55us/step - loss: 1.4303 - accuracy: 0.5273 - val_loss: 1.3604 - val_accuracy: 0.5491\n",
            "Epoch 6/10\n",
            "48000/48000 [==============================] - 3s 55us/step - loss: 1.3392 - accuracy: 0.5650 - val_loss: 1.2798 - val_accuracy: 0.5813\n",
            "Epoch 7/10\n",
            "48000/48000 [==============================] - 3s 56us/step - loss: 1.2675 - accuracy: 0.5877 - val_loss: 1.2177 - val_accuracy: 0.5991\n",
            "Epoch 8/10\n",
            "48000/48000 [==============================] - 3s 56us/step - loss: 1.2105 - accuracy: 0.6040 - val_loss: 1.1671 - val_accuracy: 0.6131\n",
            "Epoch 9/10\n",
            "48000/48000 [==============================] - 3s 55us/step - loss: 1.1630 - accuracy: 0.6166 - val_loss: 1.1236 - val_accuracy: 0.6214\n",
            "Epoch 10/10\n",
            "48000/48000 [==============================] - 3s 57us/step - loss: 1.1241 - accuracy: 0.6256 - val_loss: 1.0852 - val_accuracy: 0.6342\n",
            "10000/10000 [==============================] - 1s 89us/step\n",
            "Model: 0 added. Resulting score: 0.6317999958992004\n",
            "Train model 1\n",
            "Weight init method: Ones \n",
            "Train on 48000 samples, validate on 12000 samples\n",
            "Epoch 1/10\n",
            "48000/48000 [==============================] - 3s 64us/step - loss: 2.1930 - accuracy: 0.2764 - val_loss: 2.1917 - val_accuracy: 0.2992\n",
            "Epoch 2/10\n",
            "48000/48000 [==============================] - 3s 57us/step - loss: 1.9076 - accuracy: 0.3816 - val_loss: 1.7854 - val_accuracy: 0.4142\n",
            "Epoch 3/10\n",
            "48000/48000 [==============================] - 3s 56us/step - loss: 1.6702 - accuracy: 0.4515 - val_loss: 1.5533 - val_accuracy: 0.5042\n",
            "Epoch 4/10\n",
            "48000/48000 [==============================] - 3s 55us/step - loss: 1.5053 - accuracy: 0.5191 - val_loss: 1.4211 - val_accuracy: 0.5531\n",
            "Epoch 5/10\n",
            "48000/48000 [==============================] - 3s 56us/step - loss: 1.3921 - accuracy: 0.5580 - val_loss: 1.3261 - val_accuracy: 0.5864\n",
            "Epoch 6/10\n",
            "48000/48000 [==============================] - 3s 55us/step - loss: 1.3070 - accuracy: 0.5796 - val_loss: 1.2517 - val_accuracy: 0.5950\n",
            "Epoch 7/10\n",
            "48000/48000 [==============================] - 3s 56us/step - loss: 1.2409 - accuracy: 0.5958 - val_loss: 1.1933 - val_accuracy: 0.6009\n",
            "Epoch 8/10\n",
            "48000/48000 [==============================] - 3s 55us/step - loss: 1.1878 - accuracy: 0.6061 - val_loss: 1.1453 - val_accuracy: 0.6218\n",
            "Epoch 9/10\n",
            "48000/48000 [==============================] - 3s 55us/step - loss: 1.1428 - accuracy: 0.6175 - val_loss: 1.1041 - val_accuracy: 0.6316\n",
            "Epoch 10/10\n",
            "48000/48000 [==============================] - 3s 55us/step - loss: 1.1046 - accuracy: 0.6292 - val_loss: 1.0687 - val_accuracy: 0.6363\n",
            "10000/10000 [==============================] - 1s 84us/step\n",
            "Model: 1 added. Resulting score: 0.6315000057220459\n",
            "Train model 2\n",
            "Weight init method: Random Normal \n",
            "Train on 48000 samples, validate on 12000 samples\n",
            "Epoch 1/10\n",
            "48000/48000 [==============================] - 3s 61us/step - loss: 2.2549 - accuracy: 0.2009 - val_loss: 2.2325 - val_accuracy: 0.3391\n",
            "Epoch 2/10\n",
            "48000/48000 [==============================] - 3s 55us/step - loss: 1.9715 - accuracy: 0.3616 - val_loss: 1.8440 - val_accuracy: 0.4212\n",
            "Epoch 3/10\n",
            "48000/48000 [==============================] - 3s 55us/step - loss: 1.7259 - accuracy: 0.4403 - val_loss: 1.5999 - val_accuracy: 0.4870\n",
            "Epoch 4/10\n",
            "48000/48000 [==============================] - 3s 56us/step - loss: 1.5375 - accuracy: 0.5053 - val_loss: 1.4411 - val_accuracy: 0.5469\n",
            "Epoch 5/10\n",
            "48000/48000 [==============================] - 3s 56us/step - loss: 1.4008 - accuracy: 0.5479 - val_loss: 1.3262 - val_accuracy: 0.5707\n",
            "Epoch 6/10\n",
            "48000/48000 [==============================] - 3s 56us/step - loss: 1.3034 - accuracy: 0.5784 - val_loss: 1.2437 - val_accuracy: 0.5932\n",
            "Epoch 7/10\n",
            "48000/48000 [==============================] - 3s 55us/step - loss: 1.2302 - accuracy: 0.5998 - val_loss: 1.1791 - val_accuracy: 0.6132\n",
            "Epoch 8/10\n",
            "48000/48000 [==============================] - 3s 57us/step - loss: 1.1709 - accuracy: 0.6178 - val_loss: 1.1268 - val_accuracy: 0.6234\n",
            "Epoch 9/10\n",
            "48000/48000 [==============================] - 3s 56us/step - loss: 1.1250 - accuracy: 0.6293 - val_loss: 1.0835 - val_accuracy: 0.6383\n",
            "Epoch 10/10\n",
            "48000/48000 [==============================] - 3s 55us/step - loss: 1.0863 - accuracy: 0.6417 - val_loss: 1.0486 - val_accuracy: 0.6482\n",
            "10000/10000 [==============================] - 1s 82us/step\n",
            "Model: 2 added. Resulting score: 0.64410001039505\n",
            "Train model 3\n",
            "Weight init method: Random Uniform \n",
            "Train on 48000 samples, validate on 12000 samples\n",
            "Epoch 1/10\n",
            "48000/48000 [==============================] - 3s 61us/step - loss: 2.2184 - accuracy: 0.1978 - val_loss: 2.1859 - val_accuracy: 0.3118\n",
            "Epoch 2/10\n",
            "48000/48000 [==============================] - 3s 55us/step - loss: 1.9657 - accuracy: 0.3868 - val_loss: 1.8779 - val_accuracy: 0.3965\n",
            "Epoch 3/10\n",
            "48000/48000 [==============================] - 3s 54us/step - loss: 1.7564 - accuracy: 0.4289 - val_loss: 1.6414 - val_accuracy: 0.4601\n",
            "Epoch 4/10\n",
            "48000/48000 [==============================] - 3s 55us/step - loss: 1.5819 - accuracy: 0.4770 - val_loss: 1.4980 - val_accuracy: 0.4972\n",
            "Epoch 5/10\n",
            "48000/48000 [==============================] - 3s 55us/step - loss: 1.4550 - accuracy: 0.5176 - val_loss: 1.3899 - val_accuracy: 0.5461\n",
            "Epoch 6/10\n",
            "48000/48000 [==============================] - 3s 55us/step - loss: 1.3619 - accuracy: 0.5529 - val_loss: 1.3046 - val_accuracy: 0.5753\n",
            "Epoch 7/10\n",
            "48000/48000 [==============================] - 3s 55us/step - loss: 1.2899 - accuracy: 0.5757 - val_loss: 1.2443 - val_accuracy: 0.5855\n",
            "Epoch 8/10\n",
            "48000/48000 [==============================] - 3s 55us/step - loss: 1.2315 - accuracy: 0.5869 - val_loss: 1.1912 - val_accuracy: 0.6045\n",
            "Epoch 9/10\n",
            "48000/48000 [==============================] - 3s 55us/step - loss: 1.1841 - accuracy: 0.6019 - val_loss: 1.1436 - val_accuracy: 0.6112\n",
            "Epoch 10/10\n",
            "48000/48000 [==============================] - 3s 55us/step - loss: 1.1426 - accuracy: 0.6134 - val_loss: 1.1052 - val_accuracy: 0.6179\n",
            "10000/10000 [==============================] - 1s 82us/step\n",
            "Model: 3 added. Resulting score: 0.6165000200271606\n",
            "Train model 4\n",
            "Weight init method: Identity \n",
            "Train on 48000 samples, validate on 12000 samples\n",
            "Epoch 1/10\n",
            "48000/48000 [==============================] - 3s 62us/step - loss: 2.1713 - accuracy: 0.1981 - val_loss: 2.1876 - val_accuracy: 0.3061\n",
            "Epoch 2/10\n",
            "48000/48000 [==============================] - 3s 56us/step - loss: 1.8716 - accuracy: 0.4382 - val_loss: 1.7312 - val_accuracy: 0.4703\n",
            "Epoch 3/10\n",
            "48000/48000 [==============================] - 3s 55us/step - loss: 1.6188 - accuracy: 0.4942 - val_loss: 1.5068 - val_accuracy: 0.5230\n",
            "Epoch 4/10\n",
            "48000/48000 [==============================] - 3s 55us/step - loss: 1.4609 - accuracy: 0.5377 - val_loss: 1.3834 - val_accuracy: 0.5541\n",
            "Epoch 5/10\n",
            "48000/48000 [==============================] - 3s 55us/step - loss: 1.3521 - accuracy: 0.5683 - val_loss: 1.2899 - val_accuracy: 0.5850\n",
            "Epoch 6/10\n",
            "48000/48000 [==============================] - 3s 55us/step - loss: 1.2706 - accuracy: 0.5913 - val_loss: 1.2166 - val_accuracy: 0.6102\n",
            "Epoch 7/10\n",
            "48000/48000 [==============================] - 3s 54us/step - loss: 1.2045 - accuracy: 0.6115 - val_loss: 1.1584 - val_accuracy: 0.6252\n",
            "Epoch 8/10\n",
            "48000/48000 [==============================] - 3s 56us/step - loss: 1.1494 - accuracy: 0.6271 - val_loss: 1.1087 - val_accuracy: 0.6424\n",
            "Epoch 9/10\n",
            "48000/48000 [==============================] - 3s 56us/step - loss: 1.1032 - accuracy: 0.6423 - val_loss: 1.0636 - val_accuracy: 0.6517\n",
            "Epoch 10/10\n",
            "48000/48000 [==============================] - 3s 56us/step - loss: 1.0628 - accuracy: 0.6536 - val_loss: 1.0273 - val_accuracy: 0.6602\n",
            "10000/10000 [==============================] - 1s 82us/step\n",
            "Model: 4 added. Resulting score: 0.6557000279426575\n",
            "Train model 5\n",
            "Weight init method: Orthogonal \n",
            "Train on 48000 samples, validate on 12000 samples\n",
            "Epoch 1/10\n",
            "48000/48000 [==============================] - 3s 61us/step - loss: 2.2057 - accuracy: 0.2380 - val_loss: 2.2152 - val_accuracy: 0.3123\n",
            "Epoch 2/10\n",
            "48000/48000 [==============================] - 3s 55us/step - loss: 1.9555 - accuracy: 0.3909 - val_loss: 1.8563 - val_accuracy: 0.4238\n",
            "Epoch 3/10\n",
            "48000/48000 [==============================] - 3s 55us/step - loss: 1.7203 - accuracy: 0.4539 - val_loss: 1.6023 - val_accuracy: 0.4741\n",
            "Epoch 4/10\n",
            "48000/48000 [==============================] - 3s 55us/step - loss: 1.5324 - accuracy: 0.4957 - val_loss: 1.4475 - val_accuracy: 0.5139\n",
            "Epoch 5/10\n",
            "48000/48000 [==============================] - 3s 55us/step - loss: 1.4057 - accuracy: 0.5339 - val_loss: 1.3402 - val_accuracy: 0.5613\n",
            "Epoch 6/10\n",
            "48000/48000 [==============================] - 3s 55us/step - loss: 1.3146 - accuracy: 0.5681 - val_loss: 1.2629 - val_accuracy: 0.5886\n",
            "Epoch 7/10\n",
            "48000/48000 [==============================] - 3s 54us/step - loss: 1.2453 - accuracy: 0.5954 - val_loss: 1.2016 - val_accuracy: 0.6082\n",
            "Epoch 8/10\n",
            "48000/48000 [==============================] - 3s 54us/step - loss: 1.1924 - accuracy: 0.6110 - val_loss: 1.1535 - val_accuracy: 0.6246\n",
            "Epoch 9/10\n",
            "48000/48000 [==============================] - 3s 55us/step - loss: 1.1486 - accuracy: 0.6263 - val_loss: 1.1151 - val_accuracy: 0.6366\n",
            "Epoch 10/10\n",
            "48000/48000 [==============================] - 3s 56us/step - loss: 1.1127 - accuracy: 0.6361 - val_loss: 1.0821 - val_accuracy: 0.6430\n",
            "10000/10000 [==============================] - 1s 84us/step\n",
            "Model: 5 added. Resulting score: 0.6385999917984009\n",
            "Train model 6\n",
            "Weight init method: Glorot Normal \n",
            "Train on 48000 samples, validate on 12000 samples\n",
            "Epoch 1/10\n",
            "48000/48000 [==============================] - 3s 62us/step - loss: 2.1489 - accuracy: 0.2374 - val_loss: 2.1709 - val_accuracy: 0.3153\n",
            "Epoch 2/10\n",
            "48000/48000 [==============================] - 3s 56us/step - loss: 1.8900 - accuracy: 0.4099 - val_loss: 1.7790 - val_accuracy: 0.4368\n",
            "Epoch 3/10\n",
            "48000/48000 [==============================] - 3s 56us/step - loss: 1.6595 - accuracy: 0.4798 - val_loss: 1.5443 - val_accuracy: 0.4992\n",
            "Epoch 4/10\n",
            "48000/48000 [==============================] - 3s 56us/step - loss: 1.4870 - accuracy: 0.5284 - val_loss: 1.4018 - val_accuracy: 0.5569\n",
            "Epoch 5/10\n",
            "48000/48000 [==============================] - 3s 56us/step - loss: 1.3677 - accuracy: 0.5663 - val_loss: 1.3039 - val_accuracy: 0.5802\n",
            "Epoch 6/10\n",
            "48000/48000 [==============================] - 3s 56us/step - loss: 1.2829 - accuracy: 0.5865 - val_loss: 1.2312 - val_accuracy: 0.5968\n",
            "Epoch 7/10\n",
            "48000/48000 [==============================] - 3s 57us/step - loss: 1.2181 - accuracy: 0.6028 - val_loss: 1.1741 - val_accuracy: 0.6097\n",
            "Epoch 8/10\n",
            "48000/48000 [==============================] - 3s 55us/step - loss: 1.1657 - accuracy: 0.6132 - val_loss: 1.1270 - val_accuracy: 0.6228\n",
            "Epoch 9/10\n",
            "48000/48000 [==============================] - 3s 55us/step - loss: 1.1262 - accuracy: 0.6215 - val_loss: 1.0928 - val_accuracy: 0.6268\n",
            "Epoch 10/10\n",
            "48000/48000 [==============================] - 3s 56us/step - loss: 1.0926 - accuracy: 0.6308 - val_loss: 1.0591 - val_accuracy: 0.6364\n",
            "10000/10000 [==============================] - 1s 89us/step\n",
            "Model: 6 added. Resulting score: 0.6308000087738037\n",
            "Train model 7\n",
            "Weight init method: Glorot Uniform \n",
            "Train on 48000 samples, validate on 12000 samples\n",
            "Epoch 1/10\n",
            "48000/48000 [==============================] - 3s 62us/step - loss: 2.2052 - accuracy: 0.2313 - val_loss: 2.1944 - val_accuracy: 0.2510\n",
            "Epoch 2/10\n",
            "48000/48000 [==============================] - 3s 55us/step - loss: 1.9934 - accuracy: 0.4254 - val_loss: 1.8982 - val_accuracy: 0.4678\n",
            "Epoch 3/10\n",
            "48000/48000 [==============================] - 3s 56us/step - loss: 1.7892 - accuracy: 0.4717 - val_loss: 1.6711 - val_accuracy: 0.5182\n",
            "Epoch 4/10\n",
            "48000/48000 [==============================] - 3s 56us/step - loss: 1.5965 - accuracy: 0.5199 - val_loss: 1.4888 - val_accuracy: 0.5487\n",
            "Epoch 5/10\n",
            "48000/48000 [==============================] - 3s 55us/step - loss: 1.4438 - accuracy: 0.5571 - val_loss: 1.3681 - val_accuracy: 0.5730\n",
            "Epoch 6/10\n",
            "48000/48000 [==============================] - 3s 55us/step - loss: 1.3371 - accuracy: 0.5780 - val_loss: 1.2790 - val_accuracy: 0.5913\n",
            "Epoch 7/10\n",
            "48000/48000 [==============================] - 3s 55us/step - loss: 1.2580 - accuracy: 0.5939 - val_loss: 1.2062 - val_accuracy: 0.6055\n",
            "Epoch 8/10\n",
            "48000/48000 [==============================] - 3s 56us/step - loss: 1.1957 - accuracy: 0.6085 - val_loss: 1.1530 - val_accuracy: 0.6163\n",
            "Epoch 9/10\n",
            "48000/48000 [==============================] - 3s 55us/step - loss: 1.1441 - accuracy: 0.6205 - val_loss: 1.1035 - val_accuracy: 0.6293\n",
            "Epoch 10/10\n",
            "48000/48000 [==============================] - 3s 55us/step - loss: 1.1026 - accuracy: 0.6303 - val_loss: 1.0669 - val_accuracy: 0.6367\n",
            "10000/10000 [==============================] - 1s 84us/step\n",
            "Model: 7 added. Resulting score: 0.6313999891281128\n"
          ],
          "name": "stdout"
        }
      ]
    },
    {
      "cell_type": "markdown",
      "metadata": {
        "colab_type": "text",
        "id": "fGT6jV-hcLbJ"
      },
      "source": [
        "# Results"
      ]
    },
    {
      "cell_type": "markdown",
      "metadata": {
        "colab_type": "text",
        "id": "CurcmjMCcrJI"
      },
      "source": [
        "# Accuracy"
      ]
    },
    {
      "cell_type": "code",
      "metadata": {
        "colab_type": "code",
        "id": "yvZLQyb5cg7R",
        "outputId": "4a7987be-45bb-4e5c-e38c-9f3f9d952bbe",
        "colab": {
          "base_uri": "https://localhost:8080/",
          "height": 297
        }
      },
      "source": [
        "accuracy_df = pd.DataFrame(accuracies, columns=[\"Accuracy\"])\n",
        "accuracy_df[\"weight_init_method\"] = initializer\n",
        "display(accuracy_df)\n",
        "\n",
        "accuracy_df.to_csv(PATH + MODEL_NAME + \"_accuracy.csv\")"
      ],
      "execution_count": 11,
      "outputs": [
        {
          "output_type": "display_data",
          "data": {
            "text/html": [
              "<div>\n",
              "<style scoped>\n",
              "    .dataframe tbody tr th:only-of-type {\n",
              "        vertical-align: middle;\n",
              "    }\n",
              "\n",
              "    .dataframe tbody tr th {\n",
              "        vertical-align: top;\n",
              "    }\n",
              "\n",
              "    .dataframe thead th {\n",
              "        text-align: right;\n",
              "    }\n",
              "</style>\n",
              "<table border=\"1\" class=\"dataframe\">\n",
              "  <thead>\n",
              "    <tr style=\"text-align: right;\">\n",
              "      <th></th>\n",
              "      <th>Accuracy</th>\n",
              "      <th>weight_init_method</th>\n",
              "    </tr>\n",
              "  </thead>\n",
              "  <tbody>\n",
              "    <tr>\n",
              "      <th>0</th>\n",
              "      <td>0.6318</td>\n",
              "      <td>Zero</td>\n",
              "    </tr>\n",
              "    <tr>\n",
              "      <th>1</th>\n",
              "      <td>0.6315</td>\n",
              "      <td>Ones</td>\n",
              "    </tr>\n",
              "    <tr>\n",
              "      <th>2</th>\n",
              "      <td>0.6441</td>\n",
              "      <td>Random Normal</td>\n",
              "    </tr>\n",
              "    <tr>\n",
              "      <th>3</th>\n",
              "      <td>0.6165</td>\n",
              "      <td>Random Uniform</td>\n",
              "    </tr>\n",
              "    <tr>\n",
              "      <th>4</th>\n",
              "      <td>0.6557</td>\n",
              "      <td>Identity</td>\n",
              "    </tr>\n",
              "    <tr>\n",
              "      <th>5</th>\n",
              "      <td>0.6386</td>\n",
              "      <td>Orthogonal</td>\n",
              "    </tr>\n",
              "    <tr>\n",
              "      <th>6</th>\n",
              "      <td>0.6308</td>\n",
              "      <td>Glorot Normal</td>\n",
              "    </tr>\n",
              "    <tr>\n",
              "      <th>7</th>\n",
              "      <td>0.6314</td>\n",
              "      <td>Glorot Uniform</td>\n",
              "    </tr>\n",
              "  </tbody>\n",
              "</table>\n",
              "</div>"
            ],
            "text/plain": [
              "   Accuracy weight_init_method\n",
              "0    0.6318               Zero\n",
              "1    0.6315               Ones\n",
              "2    0.6441      Random Normal\n",
              "3    0.6165     Random Uniform\n",
              "4    0.6557           Identity\n",
              "5    0.6386         Orthogonal\n",
              "6    0.6308      Glorot Normal\n",
              "7    0.6314     Glorot Uniform"
            ]
          },
          "metadata": {
            "tags": []
          }
        }
      ]
    },
    {
      "cell_type": "code",
      "metadata": {
        "colab_type": "code",
        "id": "sXq8Uj3lenzH",
        "outputId": "4525b4a5-233d-40c8-e1ce-69067ac4c06d",
        "colab": {
          "base_uri": "https://localhost:8080/",
          "height": 354
        }
      },
      "source": [
        "import matplotlib.pyplot as plt\n",
        "\n",
        "# remove first row\n",
        "accuracy_df = accuracy_df.iloc[1:]\n",
        "\n",
        "accuracy_df.plot(x=\"weight_init_method\", y=\"Accuracy\",rot = 90)\n",
        "\n",
        "plt.show()\n"
      ],
      "execution_count": 12,
      "outputs": [
        {
          "output_type": "display_data",
          "data": {
            "image/png": "[encoded data removed]",
            "text/plain": [
              "<Figure size 432x288 with 1 Axes>"
            ]
          },
          "metadata": {
            "tags": [],
            "needs_background": "light"
          }
        }
      ]
    },
    {
      "cell_type": "code",
      "metadata": {
        "id": "O37chbRgZDXF",
        "colab_type": "code",
        "colab": {
          "base_uri": "https://localhost:8080/",
          "height": 34
        },
        "outputId": "267cbe97-4038-4dcc-ed08-11234408bacf"
      },
      "source": [
        "classified = []\n",
        "\n",
        "for prediction in tqdm(predictions):\n",
        "    classified.append([1 if i==j else 0 for i,j in zip(prediction,y_test)])"
      ],
      "execution_count": 14,
      "outputs": [
        {
          "output_type": "stream",
          "text": [
            "100%|██████████| 8/8 [00:00<00:00, 257.44it/s]\n"
          ],
          "name": "stderr"
        }
      ]
    },
    {
      "cell_type": "markdown",
      "metadata": {
        "colab_type": "text",
        "id": "NMfc-h8xAYQu"
      },
      "source": [
        "## Correlation between models"
      ]
    },
    {
      "cell_type": "code",
      "metadata": {
        "colab_type": "code",
        "id": "FAky42lMV102",
        "outputId": "93401eae-e6cd-40ee-8ecd-13026362efce",
        "colab": {
          "base_uri": "https://localhost:8080/",
          "height": 314
        }
      },
      "source": [
        "correlation_matrix = []\n",
        "\n",
        "for ix, x in enumerate(classified):\n",
        "  row = []\n",
        "  \n",
        "  for iy, y in enumerate(classified):\n",
        "    if (ix == iy):\n",
        "      row.append(np.nan)\n",
        "    else:\n",
        "      row.append(pearsonr(x,y)[0])\n",
        "\n",
        "  correlation_matrix.append(row)\n",
        "\n",
        "correlation_matrix = np.array(correlation_matrix)\n",
        "correlation_matrix_df = pd.DataFrame(correlation_matrix)\n",
        "correlation_matrix_df.columns = initializer\n",
        "correlation_matrix_df.index = initializer\n",
        "display(correlation_matrix_df)\n",
        "print(\"Average correlation: \" + str(np.nanmean(correlation_matrix.flatten())))"
      ],
      "execution_count": 15,
      "outputs": [
        {
          "output_type": "display_data",
          "data": {
            "text/html": [
              "<div>\n",
              "<style scoped>\n",
              "    .dataframe tbody tr th:only-of-type {\n",
              "        vertical-align: middle;\n",
              "    }\n",
              "\n",
              "    .dataframe tbody tr th {\n",
              "        vertical-align: top;\n",
              "    }\n",
              "\n",
              "    .dataframe thead th {\n",
              "        text-align: right;\n",
              "    }\n",
              "</style>\n",
              "<table border=\"1\" class=\"dataframe\">\n",
              "  <thead>\n",
              "    <tr style=\"text-align: right;\">\n",
              "      <th></th>\n",
              "      <th>Zero</th>\n",
              "      <th>Ones</th>\n",
              "      <th>Random Normal</th>\n",
              "      <th>Random Uniform</th>\n",
              "      <th>Identity</th>\n",
              "      <th>Orthogonal</th>\n",
              "      <th>Glorot Normal</th>\n",
              "      <th>Glorot Uniform</th>\n",
              "    </tr>\n",
              "  </thead>\n",
              "  <tbody>\n",
              "    <tr>\n",
              "      <th>Zero</th>\n",
              "      <td>NaN</td>\n",
              "      <td>0.700217</td>\n",
              "      <td>0.685318</td>\n",
              "      <td>0.675400</td>\n",
              "      <td>0.699178</td>\n",
              "      <td>0.693255</td>\n",
              "      <td>0.740508</td>\n",
              "      <td>0.689705</td>\n",
              "    </tr>\n",
              "    <tr>\n",
              "      <th>Ones</th>\n",
              "      <td>0.700217</td>\n",
              "      <td>NaN</td>\n",
              "      <td>0.673483</td>\n",
              "      <td>0.687585</td>\n",
              "      <td>0.682902</td>\n",
              "      <td>0.747903</td>\n",
              "      <td>0.720576</td>\n",
              "      <td>0.729075</td>\n",
              "    </tr>\n",
              "    <tr>\n",
              "      <th>Random Normal</th>\n",
              "      <td>0.685318</td>\n",
              "      <td>0.673483</td>\n",
              "      <td>NaN</td>\n",
              "      <td>0.721691</td>\n",
              "      <td>0.690860</td>\n",
              "      <td>0.672914</td>\n",
              "      <td>0.689018</td>\n",
              "      <td>0.702297</td>\n",
              "    </tr>\n",
              "    <tr>\n",
              "      <th>Random Uniform</th>\n",
              "      <td>0.675400</td>\n",
              "      <td>0.687585</td>\n",
              "      <td>0.721691</td>\n",
              "      <td>NaN</td>\n",
              "      <td>0.654721</td>\n",
              "      <td>0.677691</td>\n",
              "      <td>0.695972</td>\n",
              "      <td>0.747492</td>\n",
              "    </tr>\n",
              "    <tr>\n",
              "      <th>Identity</th>\n",
              "      <td>0.699178</td>\n",
              "      <td>0.682902</td>\n",
              "      <td>0.690860</td>\n",
              "      <td>0.654721</td>\n",
              "      <td>NaN</td>\n",
              "      <td>0.673224</td>\n",
              "      <td>0.689868</td>\n",
              "      <td>0.654792</td>\n",
              "    </tr>\n",
              "    <tr>\n",
              "      <th>Orthogonal</th>\n",
              "      <td>0.693255</td>\n",
              "      <td>0.747903</td>\n",
              "      <td>0.672914</td>\n",
              "      <td>0.677691</td>\n",
              "      <td>0.673224</td>\n",
              "      <td>NaN</td>\n",
              "      <td>0.737458</td>\n",
              "      <td>0.687297</td>\n",
              "    </tr>\n",
              "    <tr>\n",
              "      <th>Glorot Normal</th>\n",
              "      <td>0.740508</td>\n",
              "      <td>0.720576</td>\n",
              "      <td>0.689018</td>\n",
              "      <td>0.695972</td>\n",
              "      <td>0.689868</td>\n",
              "      <td>0.737458</td>\n",
              "      <td>NaN</td>\n",
              "      <td>0.698471</td>\n",
              "    </tr>\n",
              "    <tr>\n",
              "      <th>Glorot Uniform</th>\n",
              "      <td>0.689705</td>\n",
              "      <td>0.729075</td>\n",
              "      <td>0.702297</td>\n",
              "      <td>0.747492</td>\n",
              "      <td>0.654792</td>\n",
              "      <td>0.687297</td>\n",
              "      <td>0.698471</td>\n",
              "      <td>NaN</td>\n",
              "    </tr>\n",
              "  </tbody>\n",
              "</table>\n",
              "</div>"
            ],
            "text/plain": [
              "                    Zero      Ones  ...  Glorot Normal  Glorot Uniform\n",
              "Zero                 NaN  0.700217  ...       0.740508        0.689705\n",
              "Ones            0.700217       NaN  ...       0.720576        0.729075\n",
              "Random Normal   0.685318  0.673483  ...       0.689018        0.702297\n",
              "Random Uniform  0.675400  0.687585  ...       0.695972        0.747492\n",
              "Identity        0.699178  0.682902  ...       0.689868        0.654792\n",
              "Orthogonal      0.693255  0.747903  ...       0.737458        0.687297\n",
              "Glorot Normal   0.740508  0.720576  ...            NaN        0.698471\n",
              "Glorot Uniform  0.689705  0.729075  ...       0.698471             NaN\n",
              "\n",
              "[8 rows x 8 columns]"
            ]
          },
          "metadata": {
            "tags": []
          }
        },
        {
          "output_type": "stream",
          "text": [
            "Average correlation: 0.6971025480855594\n"
          ],
          "name": "stdout"
        }
      ]
    }
  ]
}