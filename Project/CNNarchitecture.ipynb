{
 "cells": [
  {
   "cell_type": "code",
   "execution_count": 36,
   "metadata": {},
   "outputs": [],
   "source": [
    "import keras\n",
    "import matplotlib.pyplot as plt\n",
    "import numpy as np\n",
    "from keras.datasets import cifar10, mnist\n",
    "from keras.applications.mobilenet import MobileNet\n",
    "from keras.applications.mobilenet import preprocess_input\n",
    "from keras.layers import Dense, SpatialDropout2D, Activation, Input, Conv2D, MaxPooling2D, BatchNormalization, GlobalAveragePooling2D\n",
    "from keras.models import Sequential, Model\n",
    "from keras.callbacks import EarlyStopping"
   ]
  },
  {
   "cell_type": "code",
   "execution_count": 37,
   "metadata": {},
   "outputs": [],
   "source": [
    "NUM_CLASSES = 10\n",
    "IMAGE_SIZE = 32\n",
    "NUM_CHANNELS = 3\n",
    "dropout_rate = 0.5\n",
    "epochs = 50\n",
    "batch_size = 128"
   ]
  },
  {
   "cell_type": "code",
   "execution_count": 38,
   "metadata": {},
   "outputs": [],
   "source": [
    "def create_model(imsize, num_classes, num_channels, dropout):\n",
    "    inputs = Input((imsize,imsize,num_channels))\n",
    "    \n",
    "    x = Conv2D(filters=64, kernel_size=(3,3), activation='relu')(inputs)\n",
    "    x = Conv2D(filters=64, kernel_size=(3,3), strides=2)(x)\n",
    "    x = Activation('relu')(x)\n",
    "    x = BatchNormalization()(x)\n",
    "    x = MaxPooling2D(pool_size=(2,2), strides=(2,2), padding='same')(x)\n",
    "    x = SpatialDropout2D(dropout)(x, training=True)\n",
    "    \n",
    "    x = Conv2D(filters=128, kernel_size=(3,3), activation='relu', strides=2, padding='same')(x)\n",
    "    x = Conv2D(filters=128, kernel_size=(3,3), activation='relu', strides=2, padding='same')(x)\n",
    "    x = BatchNormalization()(x)\n",
    "    \n",
    "    x = Conv2D(filters=128, kernel_size=(1,1), activation='relu', padding='valid')(x)\n",
    "    x = Conv2D(filters=10, kernel_size=(1,1),strides=(1,1), padding='valid')(x)\n",
    "    x = GlobalAveragePooling2D()(x)\n",
    "    outputs = Activation('softmax')(x)\n",
    "    model = Model(inputs=inputs, outputs=outputs)\n",
    "    return model"
   ]
  },
  {
   "cell_type": "code",
   "execution_count": 39,
   "metadata": {},
   "outputs": [],
   "source": [
    "model = create_model(IMAGE_SIZE, NUM_CLASSES, NUM_CHANNELS, dropout_rate)"
   ]
  },
  {
   "cell_type": "code",
   "execution_count": 40,
   "metadata": {},
   "outputs": [
    {
     "name": "stdout",
     "output_type": "stream",
     "text": [
      "Model: \"model_5\"\n",
      "_________________________________________________________________\n",
      "Layer (type)                 Output Shape              Param #   \n",
      "=================================================================\n",
      "input_5 (InputLayer)         (None, 32, 32, 3)         0         \n",
      "_________________________________________________________________\n",
      "conv2d_25 (Conv2D)           (None, 30, 30, 64)        1792      \n",
      "_________________________________________________________________\n",
      "conv2d_26 (Conv2D)           (None, 14, 14, 64)        36928     \n",
      "_________________________________________________________________\n",
      "activation_11 (Activation)   (None, 14, 14, 64)        0         \n",
      "_________________________________________________________________\n",
      "batch_normalization_9 (Batch (None, 14, 14, 64)        256       \n",
      "_________________________________________________________________\n",
      "max_pooling2d_5 (MaxPooling2 (None, 7, 7, 64)          0         \n",
      "_________________________________________________________________\n",
      "spatial_dropout2d_2 (Spatial (None, 7, 7, 64)          0         \n",
      "_________________________________________________________________\n",
      "conv2d_27 (Conv2D)           (None, 4, 4, 128)         73856     \n",
      "_________________________________________________________________\n",
      "conv2d_28 (Conv2D)           (None, 2, 2, 128)         147584    \n",
      "_________________________________________________________________\n",
      "batch_normalization_10 (Batc (None, 2, 2, 128)         512       \n",
      "_________________________________________________________________\n",
      "conv2d_29 (Conv2D)           (None, 2, 2, 128)         16512     \n",
      "_________________________________________________________________\n",
      "conv2d_30 (Conv2D)           (None, 2, 2, 10)          1290      \n",
      "_________________________________________________________________\n",
      "global_average_pooling2d_5 ( (None, 10)                0         \n",
      "_________________________________________________________________\n",
      "activation_12 (Activation)   (None, 10)                0         \n",
      "=================================================================\n",
      "Total params: 278,730\n",
      "Trainable params: 278,346\n",
      "Non-trainable params: 384\n",
      "_________________________________________________________________\n"
     ]
    }
   ],
   "source": [
    "model.summary()"
   ]
  },
  {
   "cell_type": "code",
   "execution_count": 41,
   "metadata": {},
   "outputs": [
    {
     "name": "stdout",
     "output_type": "stream",
     "text": [
      "x_train shape: (50000, 32, 32, 3)\n",
      "50000 train samples\n",
      "10000 test samples\n"
     ]
    }
   ],
   "source": [
    "(x_train, y_train), (x_test, y_test) = cifar10.load_data()\n",
    "print('x_train shape:', x_train.shape)\n",
    "print(x_train.shape[0], 'train samples')\n",
    "print(x_test.shape[0], 'test samples')"
   ]
  },
  {
   "cell_type": "code",
   "execution_count": 42,
   "metadata": {},
   "outputs": [],
   "source": [
    "def reshape_for_grayscale(x_train, x_test, imsize):\n",
    "    x_train = x_train.reshape(x_train.shape[0], imsize, imsize, 1)\n",
    "    x_test = x_test.reshape(x_test.shape[0], imsize, imsize, 1)\n",
    "    return x_train, x_test"
   ]
  },
  {
   "cell_type": "code",
   "execution_count": 43,
   "metadata": {},
   "outputs": [],
   "source": [
    "if NUM_CHANNELS == 1:\n",
    "    x_train, x_test = reshape_for_grayscale(x_train, x_test, IMAGE_SIZE)\n",
    "    print(\"Reshaped data.\")"
   ]
  },
  {
   "cell_type": "code",
   "execution_count": 44,
   "metadata": {},
   "outputs": [],
   "source": [
    "x_train = x_train.astype('float32')\n",
    "x_test = x_test.astype('float32')\n",
    "x_train /= 255\n",
    "x_test /= 255"
   ]
  },
  {
   "cell_type": "code",
   "execution_count": 45,
   "metadata": {},
   "outputs": [],
   "source": [
    "y_train = keras.utils.to_categorical(y_train, NUM_CLASSES)\n",
    "y_test = keras.utils.to_categorical(y_test, NUM_CLASSES)"
   ]
  },
  {
   "cell_type": "code",
   "execution_count": 46,
   "metadata": {},
   "outputs": [],
   "source": [
    "optimizer = keras.optimizers.Adam(learning_rate = 1e-04)"
   ]
  },
  {
   "cell_type": "code",
   "execution_count": 47,
   "metadata": {},
   "outputs": [],
   "source": [
    "es = EarlyStopping(patience = 10)"
   ]
  },
  {
   "cell_type": "code",
   "execution_count": 48,
   "metadata": {},
   "outputs": [],
   "source": [
    "model.compile(loss='categorical_crossentropy',\n",
    "              optimizer=optimizer,\n",
    "              metrics=['accuracy'])"
   ]
  },
  {
   "cell_type": "code",
   "execution_count": 49,
   "metadata": {},
   "outputs": [
    {
     "name": "stdout",
     "output_type": "stream",
     "text": [
      "Train on 50000 samples, validate on 10000 samples\n",
      "Epoch 1/50\n",
      "50000/50000 [==============================] - 73s 1ms/step - loss: 1.8563 - accuracy: 0.3254 - val_loss: 2.0854 - val_accuracy: 0.1967\n",
      "Epoch 2/50\n",
      "50000/50000 [==============================] - 72s 1ms/step - loss: 1.5529 - accuracy: 0.4383 - val_loss: 1.5125 - val_accuracy: 0.4591\n",
      "Epoch 3/50\n",
      "50000/50000 [==============================] - 72s 1ms/step - loss: 1.4318 - accuracy: 0.4850 - val_loss: 1.4199 - val_accuracy: 0.4886\n",
      "Epoch 4/50\n",
      "50000/50000 [==============================] - 73s 1ms/step - loss: 1.3487 - accuracy: 0.5176 - val_loss: 1.3226 - val_accuracy: 0.5286\n",
      "Epoch 5/50\n",
      "50000/50000 [==============================] - 72s 1ms/step - loss: 1.2773 - accuracy: 0.5444 - val_loss: 1.3051 - val_accuracy: 0.5252\n",
      "Epoch 6/50\n",
      "50000/50000 [==============================] - 72s 1ms/step - loss: 1.2212 - accuracy: 0.5676 - val_loss: 1.2492 - val_accuracy: 0.5549\n",
      "Epoch 7/50\n",
      "50000/50000 [==============================] - 72s 1ms/step - loss: 1.1699 - accuracy: 0.5846 - val_loss: 1.1964 - val_accuracy: 0.5743\n",
      "Epoch 8/50\n",
      "50000/50000 [==============================] - 66s 1ms/step - loss: 1.1323 - accuracy: 0.6000 - val_loss: 1.1692 - val_accuracy: 0.5771\n",
      "Epoch 9/50\n",
      "50000/50000 [==============================] - 64s 1ms/step - loss: 1.0884 - accuracy: 0.6142 - val_loss: 1.1648 - val_accuracy: 0.5896\n",
      "Epoch 10/50\n",
      "50000/50000 [==============================] - 64s 1ms/step - loss: 1.0540 - accuracy: 0.6280 - val_loss: 1.1156 - val_accuracy: 0.6054\n",
      "Epoch 11/50\n",
      "50000/50000 [==============================] - 67s 1ms/step - loss: 1.0228 - accuracy: 0.6392 - val_loss: 1.1103 - val_accuracy: 0.6078\n",
      "Epoch 12/50\n",
      "50000/50000 [==============================] - 74s 1ms/step - loss: 0.9946 - accuracy: 0.6479 - val_loss: 1.0669 - val_accuracy: 0.6250\n",
      "Epoch 13/50\n",
      "50000/50000 [==============================] - 74s 1ms/step - loss: 0.9627 - accuracy: 0.6592 - val_loss: 1.0513 - val_accuracy: 0.6294\n",
      "Epoch 14/50\n",
      "50000/50000 [==============================] - 74s 1ms/step - loss: 0.9430 - accuracy: 0.6678 - val_loss: 1.0297 - val_accuracy: 0.6438\n",
      "Epoch 15/50\n",
      "50000/50000 [==============================] - 71s 1ms/step - loss: 0.9164 - accuracy: 0.6800 - val_loss: 1.0154 - val_accuracy: 0.6428\n",
      "Epoch 16/50\n",
      "50000/50000 [==============================] - 74s 1ms/step - loss: 0.8923 - accuracy: 0.6844 - val_loss: 1.0133 - val_accuracy: 0.6427\n",
      "Epoch 17/50\n",
      "50000/50000 [==============================] - 72s 1ms/step - loss: 0.8704 - accuracy: 0.6932 - val_loss: 1.0173 - val_accuracy: 0.6453\n",
      "Epoch 18/50\n",
      "50000/50000 [==============================] - 70s 1ms/step - loss: 0.8540 - accuracy: 0.7009 - val_loss: 0.9831 - val_accuracy: 0.6620\n",
      "Epoch 19/50\n",
      "50000/50000 [==============================] - 72s 1ms/step - loss: 0.8347 - accuracy: 0.7081 - val_loss: 0.9669 - val_accuracy: 0.6631\n",
      "Epoch 20/50\n",
      "50000/50000 [==============================] - 75s 1ms/step - loss: 0.8134 - accuracy: 0.7147 - val_loss: 0.9575 - val_accuracy: 0.6645\n",
      "Epoch 21/50\n",
      "50000/50000 [==============================] - 75s 2ms/step - loss: 0.7948 - accuracy: 0.7206 - val_loss: 0.9635 - val_accuracy: 0.6649\n",
      "Epoch 22/50\n",
      "50000/50000 [==============================] - 89s 2ms/step - loss: 0.7818 - accuracy: 0.7267 - val_loss: 0.9416 - val_accuracy: 0.6730\n",
      "Epoch 23/50\n",
      "50000/50000 [==============================] - 84s 2ms/step - loss: 0.7643 - accuracy: 0.7313 - val_loss: 0.9396 - val_accuracy: 0.6721\n",
      "Epoch 24/50\n",
      "50000/50000 [==============================] - 85s 2ms/step - loss: 0.7481 - accuracy: 0.7377 - val_loss: 0.9314 - val_accuracy: 0.6757\n",
      "Epoch 25/50\n",
      "50000/50000 [==============================] - 86s 2ms/step - loss: 0.7313 - accuracy: 0.7442 - val_loss: 0.9217 - val_accuracy: 0.6807\n",
      "Epoch 26/50\n",
      "50000/50000 [==============================] - 84s 2ms/step - loss: 0.7246 - accuracy: 0.7444 - val_loss: 0.9095 - val_accuracy: 0.6832\n",
      "Epoch 27/50\n",
      "50000/50000 [==============================] - 87s 2ms/step - loss: 0.7067 - accuracy: 0.7535 - val_loss: 0.9119 - val_accuracy: 0.6852\n",
      "Epoch 28/50\n",
      "50000/50000 [==============================] - 85s 2ms/step - loss: 0.6958 - accuracy: 0.7564 - val_loss: 0.9108 - val_accuracy: 0.6848\n",
      "Epoch 29/50\n",
      "50000/50000 [==============================] - 84s 2ms/step - loss: 0.6791 - accuracy: 0.7627 - val_loss: 0.8992 - val_accuracy: 0.6876\n",
      "Epoch 30/50\n",
      "50000/50000 [==============================] - 84s 2ms/step - loss: 0.6726 - accuracy: 0.7632 - val_loss: 0.9018 - val_accuracy: 0.6857\n",
      "Epoch 31/50\n",
      "50000/50000 [==============================] - 87s 2ms/step - loss: 0.6540 - accuracy: 0.7714 - val_loss: 0.8856 - val_accuracy: 0.6966\n",
      "Epoch 32/50\n",
      "50000/50000 [==============================] - 83s 2ms/step - loss: 0.6407 - accuracy: 0.7745 - val_loss: 0.8935 - val_accuracy: 0.6925\n",
      "Epoch 33/50\n",
      "50000/50000 [==============================] - 82s 2ms/step - loss: 0.6356 - accuracy: 0.7754 - val_loss: 0.8896 - val_accuracy: 0.6903\n",
      "Epoch 34/50\n",
      "50000/50000 [==============================] - 83s 2ms/step - loss: 0.6222 - accuracy: 0.7818 - val_loss: 0.9270 - val_accuracy: 0.6844\n",
      "Epoch 35/50\n",
      "50000/50000 [==============================] - 85s 2ms/step - loss: 0.6087 - accuracy: 0.7847 - val_loss: 0.9104 - val_accuracy: 0.6884\n",
      "Epoch 36/50\n",
      "50000/50000 [==============================] - 102s 2ms/step - loss: 0.6034 - accuracy: 0.7868 - val_loss: 0.8946 - val_accuracy: 0.6985\n",
      "Epoch 37/50\n",
      "50000/50000 [==============================] - 90s 2ms/step - loss: 0.5906 - accuracy: 0.7911 - val_loss: 0.8854 - val_accuracy: 0.6982\n",
      "Epoch 38/50\n",
      "50000/50000 [==============================] - 90s 2ms/step - loss: 0.5787 - accuracy: 0.7966 - val_loss: 0.8838 - val_accuracy: 0.6976\n",
      "Epoch 39/50\n",
      "50000/50000 [==============================] - 89s 2ms/step - loss: 0.5702 - accuracy: 0.8003 - val_loss: 0.8854 - val_accuracy: 0.7030\n",
      "Epoch 40/50\n",
      "50000/50000 [==============================] - 87s 2ms/step - loss: 0.5613 - accuracy: 0.8016 - val_loss: 0.9046 - val_accuracy: 0.6927\n",
      "Epoch 41/50\n",
      "50000/50000 [==============================] - 77s 2ms/step - loss: 0.5522 - accuracy: 0.8056 - val_loss: 0.9030 - val_accuracy: 0.6922\n",
      "Epoch 42/50\n",
      "50000/50000 [==============================] - 73s 1ms/step - loss: 0.5427 - accuracy: 0.8080 - val_loss: 0.8999 - val_accuracy: 0.6967\n",
      "Epoch 43/50\n",
      "50000/50000 [==============================] - 74s 1ms/step - loss: 0.5348 - accuracy: 0.8135 - val_loss: 0.9012 - val_accuracy: 0.6954\n",
      "Epoch 44/50\n",
      "50000/50000 [==============================] - 74s 1ms/step - loss: 0.5294 - accuracy: 0.8143 - val_loss: 0.8825 - val_accuracy: 0.7027\n",
      "Epoch 45/50\n",
      "50000/50000 [==============================] - 72s 1ms/step - loss: 0.5143 - accuracy: 0.8190 - val_loss: 0.9242 - val_accuracy: 0.6909\n",
      "Epoch 46/50\n",
      "50000/50000 [==============================] - 71s 1ms/step - loss: 0.5141 - accuracy: 0.8204 - val_loss: 0.9018 - val_accuracy: 0.7009\n",
      "Epoch 47/50\n",
      "50000/50000 [==============================] - 72s 1ms/step - loss: 0.5044 - accuracy: 0.8218 - val_loss: 0.8942 - val_accuracy: 0.7029\n",
      "Epoch 48/50\n",
      "50000/50000 [==============================] - 71s 1ms/step - loss: 0.4951 - accuracy: 0.8247 - val_loss: 0.8970 - val_accuracy: 0.7062\n",
      "Epoch 49/50\n",
      "50000/50000 [==============================] - 71s 1ms/step - loss: 0.4863 - accuracy: 0.8289 - val_loss: 0.8924 - val_accuracy: 0.7014\n",
      "Epoch 50/50\n",
      "50000/50000 [==============================] - 71s 1ms/step - loss: 0.4798 - accuracy: 0.8310 - val_loss: 0.8789 - val_accuracy: 0.7091\n"
     ]
    }
   ],
   "source": [
    "history = model.fit( x_train,y_train,\n",
    "                     batch_size=batch_size,\n",
    "                     epochs=epochs,\n",
    "                     validation_data=(x_test,y_test),\n",
    "                     shuffle=True, callbacks=[es])"
   ]
  },
  {
   "cell_type": "code",
   "execution_count": 50,
   "metadata": {},
   "outputs": [],
   "source": [
    "model.save_weights(\"model.h5\")"
   ]
  },
  {
   "cell_type": "code",
   "execution_count": 51,
   "metadata": {},
   "outputs": [],
   "source": [
    "def plot_loss(history):\n",
    "    epoch = len(history.history['loss'])\n",
    "    epoch = range(1,epoch+1)\n",
    "    val_loss = history.history['val_loss']\n",
    "    train_loss = history.history['loss']\n",
    "    plt.style.use('ggplot')\n",
    "    plt.plot(epoch,val_loss,'--o', label = 'validation loss')\n",
    "    plt.plot(epoch, train_loss, '--o', label = 'training loss')\n",
    "    plt.title(\"Training and validation loss\")\n",
    "    plt.xlabel(\"epoch\")\n",
    "    plt.ylabel(\"loss\")\n",
    "    plt.legend()\n",
    "    plt.show()"
   ]
  },
  {
   "cell_type": "code",
   "execution_count": 52,
   "metadata": {},
   "outputs": [
    {
     "data": {
      "image/png": "[encoded data removed]",
      "text/plain": [
       "<Figure size 432x288 with 1 Axes>"
      ]
     },
     "metadata": {},
     "output_type": "display_data"
    }
   ],
   "source": [
    "plot_loss(history)"
   ]
  }
 ],
 "metadata": {
  "kernelspec": {
   "display_name": "Python 3",
   "language": "python",
   "name": "python3"
  },
  "language_info": {
   "codemirror_mode": {
    "name": "ipython",
    "version": 3
   },
   "file_extension": ".py",
   "mimetype": "text/x-python",
   "name": "python",
   "nbconvert_exporter": "python",
   "pygments_lexer": "ipython3",
   "version": "3.7.7"
  }
 },
 "nbformat": 4,
 "nbformat_minor": 4
}
