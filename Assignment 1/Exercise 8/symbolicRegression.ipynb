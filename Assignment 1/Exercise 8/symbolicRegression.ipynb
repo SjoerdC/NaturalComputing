{
 "cells": [
  {
   "cell_type": "code",
   "execution_count": 18,
   "metadata": {},
   "outputs": [],
   "source": [
    "import numpy as np\n",
    "import matplotlib.pyplot as plt\n",
    "\n",
    "from gplearn.genetic import SymbolicRegressor\n",
    "from gplearn.functions import make_function\n",
    "from gplearn.fitness import make_fitness\n"
   ]
  },
  {
   "cell_type": "code",
   "execution_count": 19,
   "metadata": {
    "scrolled": true
   },
   "outputs": [],
   "source": [
    "population_size = 1000\n",
    "generations = 50\n",
    "p_crossover = 0.7\n",
    "p_mutation = 0.0\n",
    "\n",
    "X_train = np.linspace(-1.0,1.0,21).reshape(-1,1)\n",
    "target = [0.0000,-0.1629,-0.2624,-0.3129,-0.3264,-0.3135,\n",
    "          -0.2784,-0.2289,-0.1664,-0.0909,0.0,0.1111,0.2496,\n",
    "          0.4251,0.6496,0.9375,1.3056, 1.7731,2.3616,3.0951,4.0000]\n",
    "y_train = np.array(target, dtype = np.float64)"
   ]
  },
  {
   "cell_type": "code",
   "execution_count": null,
   "metadata": {},
   "outputs": [],
   "source": [
    "#exp function is not built-in in gplearn but they offer a way to make any function with make_function\n",
    "exp = 'exp'\n",
    "exp_arity = 1\n",
    "exp_function = make_function(np.exp, exp, exp_arity)\n",
    "function_set = ['add', 'sub', 'mul', 'div',\n",
    "                'log', 'sin','cos', exp_function] "
   ]
  },
  {
   "cell_type": "code",
   "execution_count": 27,
   "metadata": {},
   "outputs": [],
   "source": [
    "def absolute_errors(y,y_pred,w):\n",
    "    diffs = np.abs(np.subtract(y,y_pred))\n",
    "    return np.sum(np.multiply(diffs,w))\n",
    "\n",
    "metric = make_fitness(absolute_errors,greater_is_better = False)    "
   ]
  },
  {
   "cell_type": "code",
   "execution_count": 28,
   "metadata": {
    "scrolled": true
   },
   "outputs": [
    {
     "name": "stdout",
     "output_type": "stream",
     "text": [
      "    |   Population Average    |             Best Individual              |\n",
      "---- ------------------------- ------------------------------------------ ----------\n",
      " Gen   Length          Fitness   Length          Fitness      OOB Fitness  Time Left\n",
      "   0    15.98      5.22308e+19        8          7.80265              N/A      9.92s\n",
      "   1    12.05      8.24586e+11       15          4.14787              N/A     10.77s\n",
      "   2    13.84      5.54901e+16       12          2.60706              N/A     12.61s\n",
      "   3    15.04      2.40424e+12       30          1.46289              N/A     11.01s\n",
      "   4    14.57              inf       30          1.46289              N/A     11.67s\n",
      "   5    14.54       7.3084e+18       30          1.46289              N/A     10.40s\n",
      "   6    22.86          14.3106       30          1.33782              N/A     11.75s\n",
      "   7    30.00          10.0478       30          1.33782              N/A     12.44s\n",
      "   8    29.45          10.8327       28          1.31626              N/A     14.31s\n",
      "   9    29.41          10.5786       31          1.30313              N/A     12.89s\n",
      "  10    30.21          11.1609       29          1.27787              N/A     11.51s\n",
      "  11    29.01          11.0836       30          1.27761              N/A     10.92s\n",
      "  12    29.15          10.8373       30          1.27761              N/A     10.66s\n",
      "  13    29.33          10.2679       33          1.26154              N/A     10.23s\n",
      "  14    29.20          12.4857       33          1.26154              N/A     10.16s\n",
      "  15    29.11          11.5589       31          1.26058              N/A     11.56s\n",
      "  16    30.21          10.0762       36           1.2507              N/A      9.54s\n",
      "  17    29.98          10.3691       36          1.22353              N/A      9.45s\n",
      "  18    31.00          11.8028       36          1.22353              N/A      9.37s\n",
      "  19    32.39          10.1591       40          1.10171              N/A      9.27s\n",
      "  20    34.35          12.0358       41           1.1014              N/A      9.26s\n",
      "  21    36.47          12.0532       36           1.0982              N/A      9.22s\n",
      "  22    38.66          8.51569       45          1.02468              N/A      9.53s\n",
      "  23    37.55          8.60911       51          1.02162              N/A      8.82s\n",
      "  24    38.66          9.03608       44         0.978058              N/A      8.63s\n",
      "  25    44.24          7.85454       44         0.978058              N/A      9.07s\n",
      "  26    47.65          7.03392       89         0.954465              N/A      9.06s\n",
      "  27    51.36          6.09956       64         0.937701              N/A      9.33s\n",
      "  28    44.79          7.43247       62         0.934045              N/A      8.42s\n",
      "  29    47.66          7.05458       80         0.889007              N/A      8.02s\n",
      "  30    52.42          7.01261       86         0.884281              N/A      8.09s\n",
      "  31    59.90          6.77846       94         0.881981              N/A      8.44s\n",
      "  32    73.29          5.42003      116          0.87521              N/A      9.49s\n",
      "  33    63.33          6.34226       56         0.850449              N/A      7.82s\n",
      "  34    54.51          6.73212       60           0.8256              N/A      7.44s\n",
      "  35    64.30          6.99314       83         0.798405              N/A      6.98s\n",
      "  36    62.48          6.48731       61          0.74917              N/A      6.39s\n",
      "  37    63.71          7.18488       61          0.74917              N/A      5.95s\n",
      "  38    71.33          6.88837       61         0.744778              N/A      5.96s\n",
      "  39    64.95          5.74828       66         0.731189              N/A      5.06s\n",
      "  40    60.97          6.04441       66         0.731189              N/A      4.36s\n",
      "  41    61.50          5.99938       66         0.731189              N/A      3.89s\n",
      "  42    64.97           5.4538       70         0.722567              N/A      3.49s\n",
      "  43    66.05          5.47186       70         0.722567              N/A      3.06s\n",
      "  44    65.23          5.78719       86         0.719712              N/A      2.53s\n",
      "  45    63.70          6.16139       88         0.721303              N/A      2.08s\n",
      "  46    59.67          5.93296       70         0.722567              N/A      1.45s\n",
      "  47    60.10          5.45001       72         0.721535              N/A      0.96s\n",
      "  48    62.46          5.46283       76         0.720381              N/A      0.49s\n",
      "  49    61.48          6.33083       64         0.715941              N/A      0.00s\n"
     ]
    },
    {
     "data": {
      "text/plain": [
       "SymbolicRegressor(const_range=(-1.0, 1.0), feature_names=None,\n",
       "                  function_set=['add', 'sub', 'mul', 'div', 'log', 'sin', 'cos',\n",
       "                                <gplearn.functions._Function object at 0x0000021E3FEF7630>],\n",
       "                  generations=50, init_depth=(2, 6),\n",
       "                  init_method='half and half', low_memory=False,\n",
       "                  max_samples=1.0,\n",
       "                  metric=<gplearn.fitness._Fitness object at 0x0000021E40018BE0>,\n",
       "                  n_jobs=1, p_crossover=0.7, p_hoist_mutation=0.0,\n",
       "                  p_point_mutation=0.0, p_point_replace=0.05,\n",
       "                  p_subtree_mutation=0.0, parsimony_coefficient=0.001,\n",
       "                  population_size=1000, random_state=0, stopping_criteria=0.0,\n",
       "                  tournament_size=20, verbose=1, warm_start=False)"
      ]
     },
     "execution_count": 28,
     "metadata": {},
     "output_type": "execute_result"
    }
   ],
   "source": [
    "est_gp = SymbolicRegressor(population_size = population_size,\n",
    "                           generations = generations, p_crossover = p_crossover, \n",
    "                           p_subtree_mutation = p_mutation, p_hoist_mutation = p_mutation, \n",
    "                           p_point_mutation = p_mutation, verbose = 1, metric = metric,\n",
    "                           random_state = 0, function_set = function_set)\n",
    "est_gp.fit(X_train, y_train)"
   ]
  },
  {
   "cell_type": "code",
   "execution_count": 29,
   "metadata": {},
   "outputs": [],
   "source": [
    "best_fitness = est_gp.run_details_['best_fitness'] \n",
    "best_length = est_gp.run_details_['best_length']"
   ]
  },
  {
   "cell_type": "code",
   "execution_count": 30,
   "metadata": {},
   "outputs": [
    {
     "data": {
      "image/png": "[encoded data removed]",
      "text/plain": [
       "<Figure size 432x288 with 1 Axes>"
      ]
     },
     "metadata": {
      "needs_background": "light"
     },
     "output_type": "display_data"
    },
    {
     "data": {
      "image/png": "[encoded data removed]",
      "text/plain": [
       "<Figure size 432x288 with 1 Axes>"
      ]
     },
     "metadata": {
      "needs_background": "light"
     },
     "output_type": "display_data"
    }
   ],
   "source": [
    "plt.plot(best_fitness,'-o',color = 'r', label = \"fitness\")\n",
    "plt.title(\"Best generation fitnesses versus generations\")\n",
    "plt.xlabel(\"number of generation\")\n",
    "plt.ylabel(\"best generation fitness\")\n",
    "plt.legend()\n",
    "plt.show()\n",
    "\n",
    "plt.plot(best_length,'-o',color = 'b', label = \"length\")\n",
    "plt.title(\"Best generations sizes versus generations\")\n",
    "plt.xlabel(\"number of generation\")\n",
    "plt.ylabel(\"best generation size\")\n",
    "plt.legend()\n",
    "plt.show()"
   ]
  },
  {
   "cell_type": "code",
   "execution_count": null,
   "metadata": {},
   "outputs": [],
   "source": []
  }
 ],
 "metadata": {
  "kernelspec": {
   "display_name": "Python 3",
   "language": "python",
   "name": "python3"
  },
  "language_info": {
   "codemirror_mode": {
    "name": "ipython",
    "version": 3
   },
   "file_extension": ".py",
   "mimetype": "text/x-python",
   "name": "python",
   "nbconvert_exporter": "python",
   "pygments_lexer": "ipython3",
   "version": "3.7.3"
  }
 },
 "nbformat": 4,
 "nbformat_minor": 2
}
