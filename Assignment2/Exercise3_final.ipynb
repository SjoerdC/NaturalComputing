{
 "cells": [
  {
   "cell_type": "code",
   "execution_count": 69,
   "metadata": {},
   "outputs": [],
   "source": [
    "from sklearn import datasets\n",
    "from sklearn.cluster import KMeans\n",
    "import matplotlib.pyplot as plt\n",
    "import numpy as np\n",
    "import random\n",
    "import pandas as pd\n",
    "import warnings\n",
    "warnings.filterwarnings('ignore')"
   ]
  },
  {
   "cell_type": "code",
   "execution_count": 6,
   "metadata": {},
   "outputs": [],
   "source": [
    "# Artificial dataset\n",
    "data_artificial = np.random.uniform(-1,1,(400,2))\n",
    "target_function = lambda x: 1 if ((x[0]>=0.7) or (x[0]<=0.3 and x[1]>= -0.2-x[0])) else 0\n",
    "target_artificial = np.apply_along_axis(target_function, 1, data_artificial)\n",
    "\n",
    "# Kmeans dataset\n",
    "iris = datasets.load_iris()\n",
    "data_iris = iris.data\n",
    "target_iris = iris.target"
   ]
  },
  {
   "cell_type": "code",
   "execution_count": 62,
   "metadata": {},
   "outputs": [],
   "source": [
    "def q_error(data, centroids, cluster):\n",
    "    error = 0.0\n",
    "    for i, centroid in enumerate(centroids):\n",
    "        index = np.where(np.asarray(cluster) == i)\n",
    "        dist = np.linalg.norm(data[index] - centroid)\n",
    "        dist = dist/len(index)\n",
    "        error = error + dist\n",
    "    return error/len(centroids)\n",
    "\n",
    "def kmeans_method(data, num_clusters):\n",
    "    kmeans = KMeans(n_clusters=num_clusters, max_iter=1000)\n",
    "    output = kmeans.fit_predict(data)\n",
    "    centroids = kmeans.cluster_centers_ \n",
    "    return output, centroids\n",
    "\n",
    "def get_velocity(gbest, w, c1, c2, velocity, position, centroids):\n",
    "    inertia = w * velocity\n",
    "    personal = c1 * random.uniform(0,1) * (position - centroids)\n",
    "    social = c2 * random.uniform(0,1) * (gbest - centroids)\n",
    "    velocity = inertia + personal + social\n",
    "    return velocity\n",
    "\n",
    "def get_centroids(data, num_clusters, cluster):\n",
    "    centroids = []\n",
    "    for i in range(num_clusters):\n",
    "        index = np.where(np.asarray(cluster) == i)\n",
    "        data1 = data[index]\n",
    "        centroids.append(np.mean(data1, axis=0))\n",
    "    return centroids\n",
    "\n",
    "def pso_method(data, num_clusters, w=0.72, particles=10, iterations=30, c1=1.49, c2=1.49):\n",
    "    #set centroids to random positions\n",
    "    index = np.random.choice(list(range(len(data))), num_clusters)\n",
    "    centroids = data[index]     \n",
    "    cluster = [0] * len(data)\n",
    "    #initialize the global and local fitness\n",
    "    local_best_score = [99999] * particles\n",
    "    global_best_pos = centroids\n",
    "    global_best_error = 99999\n",
    "\n",
    "    # Creating swarm \n",
    "    swarm_centroids = []\n",
    "    swarm_velocities = []\n",
    "    for i in range(particles):\n",
    "        #select random centroids\n",
    "        index = np.random.choice(list(range(len(data))), num_clusters)\n",
    "        centroids = data[index]   \n",
    "        #add centroids to swarm\n",
    "        swarm_centroids.append(centroids)   \n",
    "        #initialize velocoties to 0\n",
    "        swarm_velocities.append(np.zeros_like(centroids)) \n",
    "    local_best_pos = swarm_centroids\n",
    "\n",
    "    # Loop over number of iterations\n",
    "    for it in range(iterations):\n",
    "        # Loop over the particles\n",
    "        for particle in range(particles):\n",
    "            # Loop over each data vector\n",
    "            for j in range(data.shape[0]):\n",
    "                #Calculate euclidean distance\n",
    "                dist = np.linalg.norm((data[j]-swarm_centroids[particle]), axis=1)\n",
    "                #Assign data vector to cluster\n",
    "                cluster[j] = np.argmin(dist)\n",
    "            \n",
    "            #calculate fitness\n",
    "            velocity = get_velocity(np.asarray(global_best_pos), w, c1, c2, np.asarray(swarm_velocities[particle]), np.asarray(local_best_pos[particle]), np.asarray(swarm_centroids[particle]))\n",
    "            swarm_centroids[particle] = swarm_centroids[particle] + velocity\n",
    "            \n",
    "            #update centroids\n",
    "            new_centroids = get_centroids(data, num_clusters, cluster)\n",
    "            qerror = q_error(data, new_centroids, cluster)\n",
    "\n",
    "            # Update local best position and score\n",
    "            if qerror < local_best_score[particle]:\n",
    "                local_best_score[particle] = qerror\n",
    "                swarm_centroids[particle] = new_centroids\n",
    "\n",
    "            # Update global best position and score\n",
    "            if qerror < global_best_error:\n",
    "                global_best_error = qerror\n",
    "                global_best_pos = new_centroids\n",
    "    return cluster, new_centroids          \n"
   ]
  },
  {
   "cell_type": "code",
   "execution_count": 63,
   "metadata": {},
   "outputs": [
    {
     "name": "stdout",
     "output_type": "stream",
     "text": [
      "5.02982569656552\n",
      "5.02982569656552\n",
      "7.4656416712068765\n",
      "6.038131961515676\n"
     ]
    }
   ],
   "source": [
    "clusters_kmeans_iris, centroids_kmeans_iris = kmeans_method(data = data_iris,num_clusters = 3)\n",
    "clusters_pso_iris, centroids_pso_iris = pso_method(data = data_iris,num_clusters = 3)\n",
    "clusters_kmeans_art, centroids_kmeans_art = kmeans_method(data = data_artificial,num_clusters = 2)\n",
    "clusters_pso_art, centroids_pso_art = pso_method(data = data_artificial,num_clusters = 2)\n",
    "\n",
    "\n",
    "print(q_error(data_iris, centroids_kmeans_iris, clusters_kmeans_iris))\n",
    "print(q_error(data_iris, centroids_pso_iris, clusters_pso_iris))\n",
    "print(q_error(data_artificial, centroids_kmeans_art, clusters_kmeans_iris))\n",
    "print(q_error(data_artificial, centroids_pso_art, clusters_pso_iris))"
   ]
  },
  {
   "cell_type": "code",
   "execution_count": 88,
   "metadata": {},
   "outputs": [],
   "source": [
    "from statistics import mean,stdev\n",
    "num = 30\n",
    "q_error_kmeans_iris = [0.0] * num\n",
    "q_error_pso_iris = [0.0] * num\n",
    "q_error_kmeans_artificial = [0.0] * num\n",
    "q_error_pso_artificial = [0.0] * num\n",
    "\n",
    "for n in range(num):\n",
    "    clusters_kmeans_iris, centroids_kmeans_iris = kmeans_method(data = data_iris,num_clusters = 3)\n",
    "    clusters_pso_iris, centroids_pso_iris = pso_method(data = data_iris,num_clusters = 3)\n",
    "    clusters_kmeans_art, centroids_kmeans_art = kmeans_method(data = data_artificial,num_clusters = 2)\n",
    "    clusters_pso_art, centroids_pso_art = pso_method(data = data_artificial,num_clusters = 2)\n",
    "    q_error_kmeans_iris[n] = q_error(data_iris, centroids_kmeans_iris, clusters_kmeans_iris)\n",
    "    q_error_pso_iris[n] = q_error(data_iris, centroids_pso_iris, clusters_pso_iris)\n",
    "    q_error_kmeans_artificial[n] = q_error(data_artificial, centroids_kmeans_art, clusters_kmeans_iris)\n",
    "    q_error_pso_artificial[n] = q_error(data_artificial, centroids_pso_art, clusters_pso_iris)\n"
   ]
  },
  {
   "cell_type": "code",
   "execution_count": 108,
   "metadata": {},
   "outputs": [
    {
     "data": {
      "text/html": [
       "<div>\n",
       "<style scoped>\n",
       "    .dataframe tbody tr th:only-of-type {\n",
       "        vertical-align: middle;\n",
       "    }\n",
       "\n",
       "    .dataframe tbody tr th {\n",
       "        vertical-align: top;\n",
       "    }\n",
       "\n",
       "    .dataframe thead th {\n",
       "        text-align: right;\n",
       "    }\n",
       "</style>\n",
       "<table border=\"1\" class=\"dataframe\">\n",
       "  <thead>\n",
       "    <tr style=\"text-align: right;\">\n",
       "      <th></th>\n",
       "      <th>Kmeans</th>\n",
       "      <th>PSO</th>\n",
       "    </tr>\n",
       "  </thead>\n",
       "  <tbody>\n",
       "    <tr>\n",
       "      <td>Iris</td>\n",
       "      <td>5.02983 +/- 0.0</td>\n",
       "      <td>5.03046 +/- 0.00348</td>\n",
       "    </tr>\n",
       "    <tr>\n",
       "      <td>Artificial</td>\n",
       "      <td>7.00974 +/- 0.50511</td>\n",
       "      <td>6.73217 +/- 0.56261</td>\n",
       "    </tr>\n",
       "  </tbody>\n",
       "</table>\n",
       "</div>"
      ],
      "text/plain": [
       "                         Kmeans                  PSO\n",
       "Iris            5.02983 +/- 0.0  5.03046 +/- 0.00348\n",
       "Artificial  7.00974 +/- 0.50511  6.73217 +/- 0.56261"
      ]
     },
     "execution_count": 108,
     "metadata": {},
     "output_type": "execute_result"
    }
   ],
   "source": [
    "kmeans = [str(str(round(mean(q_error_kmeans_iris),5)) + \" +/- \" + str(round(stdev(q_error_kmeans_iris),5))),str(str(round(mean(q_error_kmeans_artificial),5)) + \" +/- \" + str(round(stdev(q_error_kmeans_artificial),5)))]\n",
    "pso = [str(str(round(mean(q_error_pso_iris),5)) + \" +/- \" + str(round(stdev(q_error_pso_iris),5))),str(str(round(mean(q_error_pso_artificial),5)) + \" +/- \" + str(round(stdev(q_error_pso_artificial),5)))]\n",
    "\n",
    "results = pd.DataFrame(list(zip(kmeans,pso)),columns = ['Kmeans','PSO'],index=['Iris', 'Artificial'])\n",
    "results.head()\n"
   ]
  },
  {
   "cell_type": "code",
   "execution_count": null,
   "metadata": {},
   "outputs": [],
   "source": []
  },
  {
   "cell_type": "code",
   "execution_count": null,
   "metadata": {},
   "outputs": [],
   "source": []
  }
 ],
 "metadata": {
  "kernelspec": {
   "display_name": "Python 3",
   "language": "python",
   "name": "python3"
  },
  "language_info": {
   "codemirror_mode": {
    "name": "ipython",
    "version": 3
   },
   "file_extension": ".py",
   "mimetype": "text/x-python",
   "name": "python",
   "nbconvert_exporter": "python",
   "pygments_lexer": "ipython3",
   "version": "3.7.4"
  }
 },
 "nbformat": 4,
 "nbformat_minor": 2
}
